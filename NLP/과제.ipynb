{
 "cells": [
  {
   "cell_type": "code",
   "execution_count": 1,
   "metadata": {},
   "outputs": [],
   "source": [
    "library(\"xlsx\")"
   ]
  },
  {
   "cell_type": "code",
   "execution_count": 2,
   "metadata": {},
   "outputs": [],
   "source": [
    "data <- read.xlsx2(\"vocaSet/vocaInfo001.xlsx\",sheetIndex=1,startRow=1,header=TRUE)"
   ]
  },
  {
   "cell_type": "code",
   "execution_count": 3,
   "metadata": {},
   "outputs": [
    {
     "data": {
      "text/html": [
       "<table>\n",
       "<thead><tr><th scope=col>품사</th><th scope=col>n</th></tr></thead>\n",
       "<tbody>\n",
       "\t<tr><td>감·명</td><td>3     </td></tr>\n",
       "\t<tr><td>감탄사</td><td>50    </td></tr>\n",
       "\t<tr><td>관·명</td><td>139   </td></tr>\n",
       "\t<tr><td>관형사</td><td>6     </td></tr>\n",
       "\t<tr><td>대·감</td><td>2     </td></tr>\n",
       "\t<tr><td>대명사</td><td>28    </td></tr>\n",
       "</tbody>\n",
       "</table>\n"
      ],
      "text/latex": [
       "\\begin{tabular}{r|ll}\n",
       " 품사 & n\\\\\n",
       "\\hline\n",
       "\t 감·명 & 3     \\\\\n",
       "\t 감탄사 & 50    \\\\\n",
       "\t 관·명 & 139   \\\\\n",
       "\t 관형사 & 6     \\\\\n",
       "\t 대·감 & 2     \\\\\n",
       "\t 대명사 & 28    \\\\\n",
       "\\end{tabular}\n"
      ],
      "text/markdown": [
       "\n",
       "| 품사 | n |\n",
       "|---|---|\n",
       "| 감·명 | 3      |\n",
       "| 감탄사 | 50     |\n",
       "| 관·명 | 139    |\n",
       "| 관형사 | 6      |\n",
       "| 대·감 | 2      |\n",
       "| 대명사 | 28     |\n",
       "\n"
      ],
      "text/plain": [
       "  품사   n  \n",
       "1 감·명 3  \n",
       "2 감탄사 50 \n",
       "3 관·명 139\n",
       "4 관형사 6  \n",
       "5 대·감 2  \n",
       "6 대명사 28 "
      ]
     },
     "metadata": {},
     "output_type": "display_data"
    }
   ],
   "source": [
    "head(data)"
   ]
  },
  {
   "cell_type": "code",
   "execution_count": 5,
   "metadata": {},
   "outputs": [
    {
     "data": {
      "text/html": [
       "<ol class=list-inline>\n",
       "\t<li>3</li>\n",
       "\t<li>50</li>\n",
       "\t<li>139</li>\n",
       "\t<li>6</li>\n",
       "\t<li>2</li>\n",
       "\t<li>28</li>\n",
       "</ol>\n",
       "\n",
       "<details>\n",
       "\t<summary style=display:list-item;cursor:pointer>\n",
       "\t\t<strong>Levels</strong>:\n",
       "\t</summary>\n",
       "\t<ol class=list-inline>\n",
       "\t\t<li>'139'</li>\n",
       "\t\t<li>'1629'</li>\n",
       "\t\t<li>'18814'</li>\n",
       "\t\t<li>'1971'</li>\n",
       "\t\t<li>'2'</li>\n",
       "\t\t<li>'27742'</li>\n",
       "\t\t<li>'28'</li>\n",
       "\t\t<li>'2816'</li>\n",
       "\t\t<li>'3'</li>\n",
       "\t\t<li>'4'</li>\n",
       "\t\t<li>'5'</li>\n",
       "\t\t<li>'50'</li>\n",
       "\t\t<li>'52'</li>\n",
       "\t\t<li>'6'</li>\n",
       "\t\t<li>'6030'</li>\n",
       "\t\t<li>'618'</li>\n",
       "\t\t<li>'89'</li>\n",
       "\t</ol>\n",
       "</details>"
      ],
      "text/latex": [
       "\\begin{enumerate*}\n",
       "\\item 3\n",
       "\\item 50\n",
       "\\item 139\n",
       "\\item 6\n",
       "\\item 2\n",
       "\\item 28\n",
       "\\end{enumerate*}\n",
       "\n",
       "\\emph{Levels}: \\begin{enumerate*}\n",
       "\\item '139'\n",
       "\\item '1629'\n",
       "\\item '18814'\n",
       "\\item '1971'\n",
       "\\item '2'\n",
       "\\item '27742'\n",
       "\\item '28'\n",
       "\\item '2816'\n",
       "\\item '3'\n",
       "\\item '4'\n",
       "\\item '5'\n",
       "\\item '50'\n",
       "\\item '52'\n",
       "\\item '6'\n",
       "\\item '6030'\n",
       "\\item '618'\n",
       "\\item '89'\n",
       "\\end{enumerate*}\n"
      ],
      "text/markdown": [
       "1. 3\n",
       "2. 50\n",
       "3. 139\n",
       "4. 6\n",
       "5. 2\n",
       "6. 28\n",
       "\n",
       "\n",
       "\n",
       "**Levels**: 1. '139'\n",
       "2. '1629'\n",
       "3. '18814'\n",
       "4. '1971'\n",
       "5. '2'\n",
       "6. '27742'\n",
       "7. '28'\n",
       "8. '2816'\n",
       "9. '3'\n",
       "10. '4'\n",
       "11. '5'\n",
       "12. '50'\n",
       "13. '52'\n",
       "14. '6'\n",
       "15. '6030'\n",
       "16. '618'\n",
       "17. '89'\n",
       "\n",
       "\n"
      ],
      "text/plain": [
       "[1] 3   50  139 6   2   28 \n",
       "Levels: 139 1629 18814 1971 2 27742 28 2816 3 4 5 50 52 6 6030 618 89"
      ]
     },
     "metadata": {},
     "output_type": "display_data"
    }
   ],
   "source": [
    "head(data$n)"
   ]
  },
  {
   "cell_type": "code",
   "execution_count": 6,
   "metadata": {},
   "outputs": [
    {
     "name": "stdout",
     "output_type": "stream",
     "text": [
      "'data.frame':\t18 obs. of  2 variables:\n",
      " $ 품사: Factor w/ 18 levels \"감·명\",\"감탄사\",..: 1 2 3 4 5 6 7 8 9 10 ...\n",
      " $ n   : Factor w/ 17 levels \"139\",\"1629\",\"18814\",..: 9 12 1 14 5 7 15 5 6 11 ...\n"
     ]
    }
   ],
   "source": [
    "str(data) ###glimps(data)"
   ]
  },
  {
   "cell_type": "code",
   "execution_count": 7,
   "metadata": {},
   "outputs": [
    {
     "ename": "ERROR",
     "evalue": "Error in glimps(data): 함수 \"glimps\"를 찾을 수 없습니다\n",
     "output_type": "error",
     "traceback": [
      "Error in glimps(data): 함수 \"glimps\"를 찾을 수 없습니다\nTraceback:\n"
     ]
    }
   ],
   "source": [
    "glimps(data)"
   ]
  },
  {
   "cell_type": "code",
   "execution_count": 1,
   "metadata": {},
   "outputs": [],
   "source": [
    "###KoNLP 한글 형태소 분석해주는 툴\n",
    "### 의미어별 뜻풀이의 형태소 분석\n",
    "### pos KoNLP, RcppMeCab\n",
    "### 각 형태소들을 노드로 하는 그래프를 그린다.\n",
    "### '인간'에서 파생되는 노드들을 만들고 그래프로 그린다.\n",
    "### 을,는,이,가 같은 것들을 가져오지 않게\n",
    "### 용언의 원래 형태를 가져오도록\n",
    "\n",
    "### 토크나이징 -> 불필요한 것들을 걸러내는 작업"
   ]
  },
  {
   "cell_type": "code",
   "execution_count": 2,
   "metadata": {},
   "outputs": [
    {
     "name": "stderr",
     "output_type": "stream",
     "text": [
      "Loading required namespace: KoNLP\n",
      "also installing the dependencies 'zeallot', 'ini', 'bit', 'vctrs', 'clisymbols', 'fs', 'gh', 'rprojroot', 'rex', 'crosstalk', 'xopen', 'brew', 'commonmark', 'purrr', 'praise', 'rlang', 'bit64', 'blob', 'DBI', 'memoise', 'usethis', 'covr', 'desc', 'DT', 'ellipsis', 'git2r', 'pkgbuild', 'pkgload', 'rcmdcheck', 'remotes', 'roxygen2', 'rversions', 'sessioninfo', 'testthat', 'hash', 'tau', 'Sejong', 'RSQLite', 'devtools'\n",
      "\n"
     ]
    },
    {
     "name": "stdout",
     "output_type": "stream",
     "text": [
      "\n",
      "  There is a binary version available but the source version is later:\n",
      "    binary   source needs_compilation\n",
      "bit 1.1-14 1.1-15.1              TRUE\n",
      "\n",
      "  Binaries will be installed\n",
      "package 'zeallot' successfully unpacked and MD5 sums checked\n",
      "package 'ini' successfully unpacked and MD5 sums checked\n",
      "package 'bit' successfully unpacked and MD5 sums checked\n",
      "package 'vctrs' successfully unpacked and MD5 sums checked\n",
      "package 'clisymbols' successfully unpacked and MD5 sums checked\n",
      "package 'fs' successfully unpacked and MD5 sums checked\n",
      "package 'gh' successfully unpacked and MD5 sums checked\n",
      "package 'rprojroot' successfully unpacked and MD5 sums checked\n",
      "package 'rex' successfully unpacked and MD5 sums checked\n",
      "package 'crosstalk' successfully unpacked and MD5 sums checked\n",
      "package 'xopen' successfully unpacked and MD5 sums checked\n",
      "package 'brew' successfully unpacked and MD5 sums checked\n",
      "package 'commonmark' successfully unpacked and MD5 sums checked\n",
      "package 'purrr' successfully unpacked and MD5 sums checked\n",
      "package 'praise' successfully unpacked and MD5 sums checked\n",
      "package 'rlang' successfully unpacked and MD5 sums checked\n",
      "package 'bit64' successfully unpacked and MD5 sums checked\n",
      "package 'blob' successfully unpacked and MD5 sums checked\n",
      "package 'DBI' successfully unpacked and MD5 sums checked\n",
      "package 'memoise' successfully unpacked and MD5 sums checked\n",
      "package 'usethis' successfully unpacked and MD5 sums checked\n",
      "package 'covr' successfully unpacked and MD5 sums checked\n",
      "package 'desc' successfully unpacked and MD5 sums checked\n",
      "package 'DT' successfully unpacked and MD5 sums checked\n",
      "package 'ellipsis' successfully unpacked and MD5 sums checked\n",
      "package 'git2r' successfully unpacked and MD5 sums checked\n",
      "package 'pkgbuild' successfully unpacked and MD5 sums checked\n",
      "package 'pkgload' successfully unpacked and MD5 sums checked\n",
      "package 'rcmdcheck' successfully unpacked and MD5 sums checked\n",
      "package 'remotes' successfully unpacked and MD5 sums checked\n",
      "package 'roxygen2' successfully unpacked and MD5 sums checked\n",
      "package 'rversions' successfully unpacked and MD5 sums checked\n",
      "package 'sessioninfo' successfully unpacked and MD5 sums checked\n",
      "package 'testthat' successfully unpacked and MD5 sums checked\n",
      "package 'hash' successfully unpacked and MD5 sums checked\n",
      "package 'tau' successfully unpacked and MD5 sums checked\n",
      "package 'Sejong' successfully unpacked and MD5 sums checked\n",
      "package 'RSQLite' successfully unpacked and MD5 sums checked\n",
      "package 'devtools' successfully unpacked and MD5 sums checked\n",
      "package 'KoNLP' successfully unpacked and MD5 sums checked\n",
      "\n",
      "The downloaded binary packages are in\n",
      "\tC:\\Users\\student\\AppData\\Local\\Temp\\Rtmps5XYCs\\downloaded_packages\n"
     ]
    },
    {
     "name": "stderr",
     "output_type": "stream",
     "text": [
      "Warning message:\n",
      "\"package 'KoNLP' was built under R version 3.6.2\"Building dictionary structures.\n",
      "\n"
     ]
    },
    {
     "data": {
      "text/html": [
       "<ol class=list-inline>\n",
       "\t<li>'한글'</li>\n",
       "\t<li>'테스트'</li>\n",
       "</ol>\n"
      ],
      "text/latex": [
       "\\begin{enumerate*}\n",
       "\\item '한글'\n",
       "\\item '테스트'\n",
       "\\end{enumerate*}\n"
      ],
      "text/markdown": [
       "1. '한글'\n",
       "2. '테스트'\n",
       "\n",
       "\n"
      ],
      "text/plain": [
       "[1] \"한글\"   \"테스트\""
      ]
     },
     "metadata": {},
     "output_type": "display_data"
    }
   ],
   "source": [
    "### KoNLP 설치\n",
    "if (!requireNamespace(\"KoNLP\")) {\n",
    "  install.packages(\"KoNLP\", repos = \"https://cloud.r-project.org\")\n",
    "}\n",
    "#> Loading required namespace: KoNLP\n",
    "library(KoNLP)\n",
    "#> Checking user defined dictionary!\n",
    "\n",
    "test <- \"한글 테스트 입니다.\"\n",
    "# 아래 결과가 나와야 합니다.\n",
    "extractNoun(test)"
   ]
  },
  {
   "cell_type": "code",
   "execution_count": 3,
   "metadata": {},
   "outputs": [
    {
     "name": "stderr",
     "output_type": "stream",
     "text": [
      "Loading required namespace: RcppMeCab\n",
      "also installing the dependency 'RcppParallel'\n",
      "\n"
     ]
    },
    {
     "name": "stdout",
     "output_type": "stream",
     "text": [
      "package 'RcppParallel' successfully unpacked and MD5 sums checked\n",
      "package 'RcppMeCab' successfully unpacked and MD5 sums checked\n",
      "\n",
      "The downloaded binary packages are in\n",
      "\tC:\\Users\\student\\AppData\\Local\\Temp\\Rtmps5XYCs\\downloaded_packages\n"
     ]
    },
    {
     "name": "stderr",
     "output_type": "stream",
     "text": [
      "Loading required namespace: RmecabKo\n"
     ]
    },
    {
     "name": "stdout",
     "output_type": "stream",
     "text": [
      "package 'RmecabKo' successfully unpacked and MD5 sums checked\n",
      "\n",
      "The downloaded binary packages are in\n",
      "\tC:\\Users\\student\\AppData\\Local\\Temp\\Rtmps5XYCs\\downloaded_packages\n",
      "Install mecab-ko-msvc...Install mecab-ko-dic-msvc..."
     ]
    },
    {
     "name": "stderr",
     "output_type": "stream",
     "text": [
      "Warning message:\n",
      "\"package 'RcppMeCab' was built under R version 3.6.2\""
     ]
    }
   ],
   "source": [
    "### RcppMeCab 은 KoNLP보다 빠른 형태소 분석툴임\n",
    "if (!requireNamespace(\"RcppMeCab\")) {\n",
    "  install.packages(\"RcppMeCab\", repos = \"https://cloud.r-project.org\")\n",
    "}\n",
    "#> Loading required namespace: RcppMeCab\n",
    "if (!requireNamespace(\"RmecabKo\")) {\n",
    "  install.packages(\"RmecabKo\", repos = \"https://cloud.r-project.org\")\n",
    "}\n",
    "#> Loading required namespace: RmecabKo\n",
    "# c:에 권한이 없다면 \"d:/mecab\"으로 설정\n",
    "RmecabKo::install_mecab(\"c:/mecab\")\n",
    "library(RcppMeCab)"
   ]
  },
  {
   "cell_type": "code",
   "execution_count": 5,
   "metadata": {},
   "outputs": [],
   "source": [
    "test <- \"한글 테스트 입니다.\""
   ]
  },
  {
   "cell_type": "code",
   "execution_count": 6,
   "metadata": {},
   "outputs": [
    {
     "name": "stderr",
     "output_type": "stream",
     "text": [
      "ERROR while rich displaying an object: Error in nchar(x): invalid multibyte string, element 1\n",
      "\n",
      "Traceback:\n",
      "1. FUN(X[[i]], ...)\n",
      "2. tryCatch(withCallingHandlers({\n",
      " .     if (!mime %in% names(repr::mime2repr)) \n",
      " .         stop(\"No repr_* for mimetype \", mime, \" in repr::mime2repr\")\n",
      " .     rpr <- repr::mime2repr[[mime]](obj)\n",
      " .     if (is.null(rpr)) \n",
      " .         return(NULL)\n",
      " .     prepare_content(is.raw(rpr), rpr)\n",
      " . }, error = error_handler), error = outer_handler)\n",
      "3. tryCatchList(expr, classes, parentenv, handlers)\n",
      "4. tryCatchOne(expr, names, parentenv, handlers[[1L]])\n",
      "5. doTryCatch(return(expr), name, parentenv, handler)\n",
      "6. withCallingHandlers({\n",
      " .     if (!mime %in% names(repr::mime2repr)) \n",
      " .         stop(\"No repr_* for mimetype \", mime, \" in repr::mime2repr\")\n",
      " .     rpr <- repr::mime2repr[[mime]](obj)\n",
      " .     if (is.null(rpr)) \n",
      " .         return(NULL)\n",
      " .     prepare_content(is.raw(rpr), rpr)\n",
      " . }, error = error_handler)\n",
      "7. repr::mime2repr[[mime]](obj)\n",
      "8. repr_html.list(obj)\n",
      "9. repr_list_generic(obj, \"html\", \"\\t<li>%s</li>\\n\", \"\\t<dt>$%s</dt>\\n\\t\\t<dd>%s</dd>\\n\", \n",
      " .     \"<strong>$%s</strong> = %s\", \"<ol>\\n%s</ol>\\n\", \"<dl>\\n%s</dl>\\n\", \n",
      " .     numeric_item = \"\\t<dt>[[%s]]</dt>\\n\\t\\t<dd>%s</dd>\\n\", escape_fun = html_escape)\n",
      "10. sapply(nms, as_name_or_na, USE.NAMES = FALSE)\n",
      "11. lapply(X = X, FUN = FUN, ...)\n",
      "12. FUN(X[[i]], ...)\n",
      "ERROR while rich displaying an object: Error in nchar(x): invalid multibyte string, element 1\n",
      "\n",
      "Traceback:\n",
      "1. FUN(X[[i]], ...)\n",
      "2. tryCatch(withCallingHandlers({\n",
      " .     if (!mime %in% names(repr::mime2repr)) \n",
      " .         stop(\"No repr_* for mimetype \", mime, \" in repr::mime2repr\")\n",
      " .     rpr <- repr::mime2repr[[mime]](obj)\n",
      " .     if (is.null(rpr)) \n",
      " .         return(NULL)\n",
      " .     prepare_content(is.raw(rpr), rpr)\n",
      " . }, error = error_handler), error = outer_handler)\n",
      "3. tryCatchList(expr, classes, parentenv, handlers)\n",
      "4. tryCatchOne(expr, names, parentenv, handlers[[1L]])\n",
      "5. doTryCatch(return(expr), name, parentenv, handler)\n",
      "6. withCallingHandlers({\n",
      " .     if (!mime %in% names(repr::mime2repr)) \n",
      " .         stop(\"No repr_* for mimetype \", mime, \" in repr::mime2repr\")\n",
      " .     rpr <- repr::mime2repr[[mime]](obj)\n",
      " .     if (is.null(rpr)) \n",
      " .         return(NULL)\n",
      " .     prepare_content(is.raw(rpr), rpr)\n",
      " . }, error = error_handler)\n",
      "7. repr::mime2repr[[mime]](obj)\n",
      "8. repr_markdown.list(obj)\n",
      "9. repr_list_generic(obj, \"markdown\", \"%s. %s\\n\", \"$%s\\n:   %s\\n\", \n",
      " .     \"**$%s** = %s\", \"%s\\n\\n\", numeric_item = \"[[%s]]\\n:   %s\\n\", \n",
      " .     item_uses_numbers = TRUE, escape_fun = html_escape)\n",
      "10. sapply(nms, as_name_or_na, USE.NAMES = FALSE)\n",
      "11. lapply(X = X, FUN = FUN, ...)\n",
      "12. FUN(X[[i]], ...)\n",
      "ERROR while rich displaying an object: Error in nchar(x): invalid multibyte string, element 1\n",
      "\n",
      "Traceback:\n",
      "1. FUN(X[[i]], ...)\n",
      "2. tryCatch(withCallingHandlers({\n",
      " .     if (!mime %in% names(repr::mime2repr)) \n",
      " .         stop(\"No repr_* for mimetype \", mime, \" in repr::mime2repr\")\n",
      " .     rpr <- repr::mime2repr[[mime]](obj)\n",
      " .     if (is.null(rpr)) \n",
      " .         return(NULL)\n",
      " .     prepare_content(is.raw(rpr), rpr)\n",
      " . }, error = error_handler), error = outer_handler)\n",
      "3. tryCatchList(expr, classes, parentenv, handlers)\n",
      "4. tryCatchOne(expr, names, parentenv, handlers[[1L]])\n",
      "5. doTryCatch(return(expr), name, parentenv, handler)\n",
      "6. withCallingHandlers({\n",
      " .     if (!mime %in% names(repr::mime2repr)) \n",
      " .         stop(\"No repr_* for mimetype \", mime, \" in repr::mime2repr\")\n",
      " .     rpr <- repr::mime2repr[[mime]](obj)\n",
      " .     if (is.null(rpr)) \n",
      " .         return(NULL)\n",
      " .     prepare_content(is.raw(rpr), rpr)\n",
      " . }, error = error_handler)\n",
      "7. repr::mime2repr[[mime]](obj)\n",
      "8. repr_latex.list(obj)\n",
      "9. repr_list_generic(obj, \"latex\", \"\\\\item %s\\n\", \"\\\\item[\\\\$%s] %s\\n\", \n",
      " .     \"\\\\textbf{\\\\$%s} = %s\", enum_wrap = \"\\\\begin{enumerate}\\n%s\\\\end{enumerate}\\n\", \n",
      " .     named_wrap = \"\\\\begin{description}\\n%s\\\\end{description}\\n\", \n",
      " .     numeric_item = \"\\\\item[{[[%s]]}] %s\\n\", escape_fun = latex_escape)\n",
      "10. sapply(nms, as_name_or_na, USE.NAMES = FALSE)\n",
      "11. lapply(X = X, FUN = FUN, ...)\n",
      "12. FUN(X[[i]], ...)\n"
     ]
    },
    {
     "data": {
      "text/plain": [
       "$`<c7><U+0471><db> <c5><U+05FD><U+00BA><U+01AE> <c0><U+0534><U+03F4><d9>.`\n",
       "[1] \"<c7><d1>/SL\" \"<U+00B1><db> /SY\" \"<c5><d7>/SL\" \"<U+00BD><U+00BA>/SY\" \"<U+01AE>/SL\"\n",
       "[6] \"<c0><U+0534>/SY\" \"<U+03F4>/SL\" \"<d9>./SY\"   \n"
      ]
     },
     "metadata": {},
     "output_type": "display_data"
    }
   ],
   "source": [
    "pos(test)"
   ]
  },
  {
   "cell_type": "code",
   "execution_count": 7,
   "metadata": {},
   "outputs": [
    {
     "name": "stderr",
     "output_type": "stream",
     "text": [
      "Loading required namespace: tidytext\n",
      "also installing the dependencies 'SnowballC', 'ISOcodes', 'hunspell', 'tokenizers', 'janeaustenr', 'stopwords'\n",
      "\n"
     ]
    },
    {
     "name": "stdout",
     "output_type": "stream",
     "text": [
      "package 'SnowballC' successfully unpacked and MD5 sums checked\n",
      "package 'ISOcodes' successfully unpacked and MD5 sums checked\n",
      "package 'hunspell' successfully unpacked and MD5 sums checked\n",
      "package 'tokenizers' successfully unpacked and MD5 sums checked\n",
      "package 'janeaustenr' successfully unpacked and MD5 sums checked\n",
      "package 'stopwords' successfully unpacked and MD5 sums checked\n",
      "package 'tidytext' successfully unpacked and MD5 sums checked\n",
      "\n",
      "The downloaded binary packages are in\n",
      "\tC:\\Users\\student\\AppData\\Local\\Temp\\Rtmps5XYCs\\downloaded_packages\n"
     ]
    },
    {
     "name": "stderr",
     "output_type": "stream",
     "text": [
      "Loading required namespace: presidentSpeech\n",
      "Downloading GitHub repo forkonlp/presidentSpeech@master\n"
     ]
    },
    {
     "name": "stdout",
     "output_type": "stream",
     "text": [
      "xml2      (1.2.0  -> 1.2.2 ) [CRAN]\n",
      "rvest     (0.3.3  -> 0.3.5 ) [CRAN]\n",
      "tibble    (2.1.1  -> 2.1.3 ) [CRAN]\n",
      "Rcpp      (1.0.1  -> 1.0.3 ) [CRAN]\n",
      "httr      (1.4.0  -> 1.4.1 ) [CRAN]\n",
      "selectr   (0.4-1  -> 0.4-2 ) [CRAN]\n",
      "cli       (1.1.0  -> 2.0.1 ) [CRAN]\n",
      "fansi     (0.4.0  -> 0.4.1 ) [CRAN]\n",
      "pillar    (1.3.1  -> 1.4.3 ) [CRAN]\n",
      "pkgconfig (2.0.2  -> 2.0.3 ) [CRAN]\n",
      "curl      (3.3    -> 4.3   ) [CRAN]\n",
      "mime      (0.6    -> 0.8   ) [CRAN]\n",
      "openssl   (1.3    -> 1.4.1 ) [CRAN]\n",
      "R6        (2.4.0  -> 2.4.1 ) [CRAN]\n",
      "askpass   (1.0    -> 1.1   ) [CRAN]\n",
      "sys       (3.2    -> 3.3   ) [CRAN]\n",
      "stringi   (1.4.3  -> 1.4.5 ) [CRAN]\n",
      "backports (1.1.4  -> 1.1.5 ) [CRAN]\n",
      "digest    (0.6.18 -> 0.6.23) [CRAN]\n"
     ]
    },
    {
     "name": "stderr",
     "output_type": "stream",
     "text": [
      "Installing 19 packages: xml2, rvest, tibble, Rcpp, httr, selectr, cli, fansi, pillar, pkgconfig, curl, mime, openssl, R6, askpass, sys, stringi, backports, digest\n"
     ]
    },
    {
     "name": "stdout",
     "output_type": "stream",
     "text": [
      "\n",
      "  There is a binary version available but the source version is later:\n",
      "        binary source needs_compilation\n",
      "stringi  1.4.4  1.4.5              TRUE\n",
      "\n",
      "  Binaries will be installed\n",
      "package 'xml2' successfully unpacked and MD5 sums checked\n",
      "package 'rvest' successfully unpacked and MD5 sums checked\n",
      "package 'tibble' successfully unpacked and MD5 sums checked\n"
     ]
    },
    {
     "ename": "ERROR",
     "evalue": "Error: Failed to install 'presidentSpeech' from GitHub:\n  (converted from warning) cannot remove prior installation of package 'tibble'\n",
     "output_type": "error",
     "traceback": [
      "Error: Failed to install 'presidentSpeech' from GitHub:\n  (converted from warning) cannot remove prior installation of package 'tibble'\nTraceback:\n",
      "1. remotes::install_github(\"forkonlp/presidentSpeech\")   # at line 9 of file <text>",
      "2. install_remotes(remotes, auth_token = auth_token, host = host, \n .     dependencies = dependencies, upgrade = upgrade, force = force, \n .     quiet = quiet, build = build, build_opts = build_opts, build_manual = build_manual, \n .     build_vignettes = build_vignettes, repos = repos, type = type, \n .     ...)",
      "3. tryCatch(res[[i]] <- install_remote(remotes[[i]], ...), error = function(e) {\n .     stop(remote_install_error(remotes[[i]], e))\n . })",
      "4. tryCatchList(expr, classes, parentenv, handlers)",
      "5. tryCatchOne(expr, names, parentenv, handlers[[1L]])",
      "6. value[[3L]](cond)"
     ]
    }
   ],
   "source": [
    "### remotes : remotes 패키지는 패키지 인스톨을 위한 함수를 제공합니다.\n",
    "if (!requireNamespace(\"remotes\")) {\n",
    "  install.packages(\"remotes\", repos = \"https://cloud.r-project.org\")\n",
    "}\n",
    "###  tidytext 패키지는 텍스트를 tidy하게 다룰 수 있게 해줍니다if (!requireNamespace(\"tidyverse\")) {\n",
    "if (!requireNamespace(\"tidytext\")) {\n",
    "  install.packages(\"tidytext\", repos = \"https://cloud.r-project.org\")\n",
    "}\n",
    "#> Loading required namespace: tidytext\n",
    "if (!requireNamespace(\"presidentSpeech\")) {\n",
    "  remotes::install_github(\"forkonlp/presidentSpeech\")\n",
    "}"
   ]
  },
  {
   "cell_type": "code",
   "execution_count": 8,
   "metadata": {},
   "outputs": [
    {
     "name": "stderr",
     "output_type": "stream",
     "text": [
      "Loading required namespace: tidyverse\n",
      "Registered S3 methods overwritten by 'ggplot2':\n",
      "  method         from \n",
      "  [.quosures     rlang\n",
      "  c.quosures     rlang\n",
      "  print.quosures rlang\n",
      "-- Attaching packages --------------------------------------- tidyverse 1.2.1 --\n"
     ]
    },
    {
     "ename": "ERROR",
     "evalue": "Error: package or namespace load failed for 'tidyverse':\n .onAttach failed in attachNamespace() for 'tidyverse', details:\n  call: utils::packageVersion(x)\n  error: there is no package called 'tibble'\n",
     "output_type": "error",
     "traceback": [
      "Error: package or namespace load failed for 'tidyverse':\n .onAttach failed in attachNamespace() for 'tidyverse', details:\n  call: utils::packageVersion(x)\n  error: there is no package called 'tibble'\nTraceback:\n",
      "1. library(tidyverse)",
      "2. tryCatch({\n .     attr(package, \"LibPath\") <- which.lib.loc\n .     ns <- loadNamespace(package, lib.loc)\n .     env <- attachNamespace(ns, pos = pos, deps, exclude, include.only)\n . }, error = function(e) {\n .     P <- if (!is.null(cc <- conditionCall(e))) \n .         paste(\" in\", deparse(cc)[1L])\n .     else \"\"\n .     msg <- gettextf(\"package or namespace load failed for %s%s:\\n %s\", \n .         sQuote(package), P, conditionMessage(e))\n .     if (logical.return) \n .         message(paste(\"Error:\", msg), domain = NA)\n .     else stop(msg, call. = FALSE, domain = NA)\n . })",
      "3. tryCatchList(expr, classes, parentenv, handlers)",
      "4. tryCatchOne(expr, names, parentenv, handlers[[1L]])",
      "5. value[[3L]](cond)",
      "6. stop(msg, call. = FALSE, domain = NA)"
     ]
    }
   ],
   "source": [
    "if (!requireNamespace(\"tidyverse\")) {\n",
    "  install.packages(\"tidyverse\")}\n",
    "#> Loading required namespace: tidyverse\n",
    "library(tidyverse)"
   ]
  },
  {
   "cell_type": "code",
   "execution_count": 9,
   "metadata": {},
   "outputs": [
    {
     "name": "stdout",
     "output_type": "stream",
     "text": [
      "package 'tibble' successfully unpacked and MD5 sums checked\n"
     ]
    },
    {
     "name": "stderr",
     "output_type": "stream",
     "text": [
      "Warning message:\n",
      "\"cannot remove prior installation of package 'tibble'\"Warning message in file.copy(savedcopy, lib, recursive = TRUE):\n",
      "\"C:\\Users\\student\\Anaconda3\\envs\\r-tutorial\\Lib\\R\\library\\00LOCK\\tibble\\libs\\x64\\tibble.dll를 C:\\Users\\student\\Anaconda3\\envs\\r-tutorial\\Lib\\R\\library\\tibble\\libs\\x64\\tibble.dll로 복사하는데 문제가 발생했습니다: Permission denied\"Warning message:\n",
      "\"restored 'tibble'\""
     ]
    },
    {
     "name": "stdout",
     "output_type": "stream",
     "text": [
      "\n",
      "The downloaded binary packages are in\n",
      "\tC:\\Users\\student\\AppData\\Local\\Temp\\Rtmps5XYCs\\downloaded_packages\n"
     ]
    }
   ],
   "source": [
    "install.packages(\"tibble\")"
   ]
  },
  {
   "cell_type": "code",
   "execution_count": 10,
   "metadata": {},
   "outputs": [
    {
     "name": "stderr",
     "output_type": "stream",
     "text": [
      "also installing the dependencies 'lifecycle', 'dbplyr', 'dplyr', 'ggplot2', 'haven', 'hms', 'httr', 'modelr', 'pillar', 'reprex', 'tibble', 'tidyr'\n",
      "\n"
     ]
    },
    {
     "name": "stdout",
     "output_type": "stream",
     "text": [
      "package 'lifecycle' successfully unpacked and MD5 sums checked\n",
      "package 'dbplyr' successfully unpacked and MD5 sums checked\n",
      "package 'dplyr' successfully unpacked and MD5 sums checked\n"
     ]
    },
    {
     "name": "stderr",
     "output_type": "stream",
     "text": [
      "Warning message:\n",
      "\"cannot remove prior installation of package 'dplyr'\"Warning message in file.copy(savedcopy, lib, recursive = TRUE):\n",
      "\"C:\\Users\\student\\Anaconda3\\envs\\r-tutorial\\Lib\\R\\library\\00LOCK\\dplyr\\libs\\x64\\dplyr.dll를 C:\\Users\\student\\Anaconda3\\envs\\r-tutorial\\Lib\\R\\library\\dplyr\\libs\\x64\\dplyr.dll로 복사하는데 문제가 발생했습니다: Permission denied\"Warning message:\n",
      "\"restored 'dplyr'\""
     ]
    },
    {
     "name": "stdout",
     "output_type": "stream",
     "text": [
      "package 'ggplot2' successfully unpacked and MD5 sums checked\n",
      "package 'haven' successfully unpacked and MD5 sums checked\n"
     ]
    },
    {
     "name": "stderr",
     "output_type": "stream",
     "text": [
      "Warning message:\n",
      "\"cannot remove prior installation of package 'haven'\"Warning message in file.copy(savedcopy, lib, recursive = TRUE):\n",
      "\"C:\\Users\\student\\Anaconda3\\envs\\r-tutorial\\Lib\\R\\library\\00LOCK\\haven\\libs\\x64\\haven.dll를 C:\\Users\\student\\Anaconda3\\envs\\r-tutorial\\Lib\\R\\library\\haven\\libs\\x64\\haven.dll로 복사하는데 문제가 발생했습니다: Permission denied\"Warning message:\n",
      "\"restored 'haven'\""
     ]
    },
    {
     "name": "stdout",
     "output_type": "stream",
     "text": [
      "package 'hms' successfully unpacked and MD5 sums checked\n",
      "package 'httr' successfully unpacked and MD5 sums checked\n",
      "package 'modelr' successfully unpacked and MD5 sums checked\n",
      "package 'pillar' successfully unpacked and MD5 sums checked\n",
      "package 'reprex' successfully unpacked and MD5 sums checked\n",
      "package 'tibble' successfully unpacked and MD5 sums checked\n"
     ]
    },
    {
     "name": "stderr",
     "output_type": "stream",
     "text": [
      "Warning message:\n",
      "\"cannot remove prior installation of package 'tibble'\"Warning message in file.copy(savedcopy, lib, recursive = TRUE):\n",
      "\"C:\\Users\\student\\Anaconda3\\envs\\r-tutorial\\Lib\\R\\library\\00LOCK\\tibble\\libs\\x64\\tibble.dll를 C:\\Users\\student\\Anaconda3\\envs\\r-tutorial\\Lib\\R\\library\\tibble\\libs\\x64\\tibble.dll로 복사하는데 문제가 발생했습니다: Permission denied\"Warning message:\n",
      "\"restored 'tibble'\""
     ]
    },
    {
     "name": "stdout",
     "output_type": "stream",
     "text": [
      "package 'tidyr' successfully unpacked and MD5 sums checked\n"
     ]
    },
    {
     "name": "stderr",
     "output_type": "stream",
     "text": [
      "Warning message:\n",
      "\"cannot remove prior installation of package 'tidyr'\"Warning message in file.copy(savedcopy, lib, recursive = TRUE):\n",
      "\"C:\\Users\\student\\Anaconda3\\envs\\r-tutorial\\Lib\\R\\library\\00LOCK\\tidyr\\libs\\x64\\tidyr.dll를 C:\\Users\\student\\Anaconda3\\envs\\r-tutorial\\Lib\\R\\library\\tidyr\\libs\\x64\\tidyr.dll로 복사하는데 문제가 발생했습니다: Permission denied\"Warning message:\n",
      "\"restored 'tidyr'\""
     ]
    },
    {
     "name": "stdout",
     "output_type": "stream",
     "text": [
      "package 'tidyverse' successfully unpacked and MD5 sums checked\n",
      "\n",
      "The downloaded binary packages are in\n",
      "\tC:\\Users\\student\\AppData\\Local\\Temp\\Rtmps5XYCs\\downloaded_packages\n"
     ]
    }
   ],
   "source": [
    "install.packages(\"tidyverse\")"
   ]
  },
  {
   "cell_type": "code",
   "execution_count": 11,
   "metadata": {},
   "outputs": [
    {
     "name": "stderr",
     "output_type": "stream",
     "text": [
      "Downloading GitHub repo forkonlp/presidentSpeech@master\n"
     ]
    },
    {
     "name": "stdout",
     "output_type": "stream",
     "text": [
      "tibble    (NA     -> 2.1.3 ) [CRAN]\n",
      "Rcpp      (1.0.1  -> 1.0.3 ) [CRAN]\n",
      "selectr   (0.4-1  -> 0.4-2 ) [CRAN]\n",
      "cli       (1.1.0  -> 2.0.1 ) [CRAN]\n",
      "fansi     (0.4.0  -> 0.4.1 ) [CRAN]\n",
      "pkgconfig (2.0.2  -> 2.0.3 ) [CRAN]\n",
      "curl      (3.3    -> 4.3   ) [CRAN]\n",
      "mime      (0.6    -> 0.8   ) [CRAN]\n",
      "openssl   (1.3    -> 1.4.1 ) [CRAN]\n",
      "R6        (2.4.0  -> 2.4.1 ) [CRAN]\n",
      "askpass   (1.0    -> 1.1   ) [CRAN]\n",
      "sys       (3.2    -> 3.3   ) [CRAN]\n",
      "stringi   (1.4.3  -> 1.4.5 ) [CRAN]\n",
      "backports (1.1.4  -> 1.1.5 ) [CRAN]\n",
      "digest    (0.6.18 -> 0.6.23) [CRAN]\n"
     ]
    },
    {
     "name": "stderr",
     "output_type": "stream",
     "text": [
      "Installing 15 packages: tibble, Rcpp, selectr, cli, fansi, pkgconfig, curl, mime, openssl, R6, askpass, sys, stringi, backports, digest\n"
     ]
    },
    {
     "name": "stdout",
     "output_type": "stream",
     "text": [
      "\n",
      "  There is a binary version available but the source version is later:\n",
      "        binary source needs_compilation\n",
      "stringi  1.4.4  1.4.5              TRUE\n",
      "\n",
      "  Binaries will be installed\n",
      "package 'tibble' successfully unpacked and MD5 sums checked\n"
     ]
    },
    {
     "ename": "ERROR",
     "evalue": "Error: Failed to install 'presidentSpeech' from GitHub:\n  (converted from warning) cannot remove prior installation of package 'tibble'\n",
     "output_type": "error",
     "traceback": [
      "Error: Failed to install 'presidentSpeech' from GitHub:\n  (converted from warning) cannot remove prior installation of package 'tibble'\nTraceback:\n",
      "1. remotes::install_github(\"forkonlp/presidentSpeech\")",
      "2. install_remotes(remotes, auth_token = auth_token, host = host, \n .     dependencies = dependencies, upgrade = upgrade, force = force, \n .     quiet = quiet, build = build, build_opts = build_opts, build_manual = build_manual, \n .     build_vignettes = build_vignettes, repos = repos, type = type, \n .     ...)",
      "3. tryCatch(res[[i]] <- install_remote(remotes[[i]], ...), error = function(e) {\n .     stop(remote_install_error(remotes[[i]], e))\n . })",
      "4. tryCatchList(expr, classes, parentenv, handlers)",
      "5. tryCatchOne(expr, names, parentenv, handlers[[1L]])",
      "6. value[[3L]](cond)"
     ]
    }
   ],
   "source": [
    "remotes::install_github(\"forkonlp/presidentSpeech\")"
   ]
  },
  {
   "cell_type": "code",
   "execution_count": 12,
   "metadata": {},
   "outputs": [
    {
     "name": "stdout",
     "output_type": "stream",
     "text": [
      "package 'pacman' successfully unpacked and MD5 sums checked\n",
      "\n",
      "The downloaded binary packages are in\n",
      "\tC:\\Users\\student\\AppData\\Local\\Temp\\Rtmps5XYCs\\downloaded_packages\n"
     ]
    }
   ],
   "source": [
    "install.packages(\"pacman\")"
   ]
  },
  {
   "cell_type": "code",
   "execution_count": 13,
   "metadata": {},
   "outputs": [
    {
     "name": "stderr",
     "output_type": "stream",
     "text": [
      "Warning message:\n",
      "\"package 'pacman' was built under R version 3.6.2\""
     ]
    }
   ],
   "source": [
    "library(\"pacman\")"
   ]
  },
  {
   "cell_type": "code",
   "execution_count": 14,
   "metadata": {},
   "outputs": [
    {
     "name": "stderr",
     "output_type": "stream",
     "text": [
      "\n",
      "No 00LOCK detected in:\n",
      " C:/Users/student/Anaconda3/envs/r-tutorial/Lib/R/library\n"
     ]
    }
   ],
   "source": [
    "p_unlock()"
   ]
  },
  {
   "cell_type": "code",
   "execution_count": 1,
   "metadata": {},
   "outputs": [],
   "source": [
    "library('xlsx')"
   ]
  },
  {
   "cell_type": "code",
   "execution_count": 2,
   "metadata": {},
   "outputs": [
    {
     "name": "stderr",
     "output_type": "stream",
     "text": [
      "Warning message:\n",
      "\"package 'readr' was built under R version 3.6.2\""
     ]
    }
   ],
   "source": [
    "library(readr)"
   ]
  },
  {
   "cell_type": "code",
   "execution_count": 6,
   "metadata": {},
   "outputs": [
    {
     "name": "stderr",
     "output_type": "stream",
     "text": [
      "Warning message in read.table(file = file, header = header, sep = sep, quote = quote, :\n",
      "\"입력 커넥션 'DICT002.csv'에서 유효하지 않은 입력을 찾았습니다\"Warning message in read.table(file = file, header = header, sep = sep, quote = quote, :\n",
      "\"'DICT002.csv'에서 readTableHeader에 의하여 발견된 완성되지 않은 마지막 라인입니다\""
     ]
    }
   ],
   "source": [
    "data <- read.csv(\"DICT002.csv\",header=FALSE, na.strings=\"NA\",stringsAsFactors=default.stringsAsFactors(),fileEncoding=\"utf-8\")"
   ]
  },
  {
   "cell_type": "code",
   "execution_count": 1,
   "metadata": {},
   "outputs": [
    {
     "name": "stderr",
     "output_type": "stream",
     "text": [
      "\n",
      "Attaching package: 'dplyr'\n",
      "\n",
      "The following objects are masked from 'package:stats':\n",
      "\n",
      "    filter, lag\n",
      "\n",
      "The following objects are masked from 'package:base':\n",
      "\n",
      "    intersect, setdiff, setequal, union\n",
      "\n"
     ]
    }
   ],
   "source": [
    "library('dplyr')"
   ]
  },
  {
   "cell_type": "code",
   "execution_count": 2,
   "metadata": {},
   "outputs": [
    {
     "name": "stderr",
     "output_type": "stream",
     "text": [
      "Warning message:\n",
      "\"package 'KoNLP' was built under R version 3.6.2\"Checking user defined dictionary!\n",
      "\n"
     ]
    }
   ],
   "source": [
    "library(KoNLP)"
   ]
  },
  {
   "cell_type": "code",
   "execution_count": 3,
   "metadata": {},
   "outputs": [
    {
     "name": "stderr",
     "output_type": "stream",
     "text": [
      "Warning message:\n",
      "\"package 'RcppMeCab' was built under R version 3.6.2\""
     ]
    }
   ],
   "source": [
    "library(RcppMeCab)"
   ]
  },
  {
   "cell_type": "code",
   "execution_count": 4,
   "metadata": {},
   "outputs": [
    {
     "name": "stderr",
     "output_type": "stream",
     "text": [
      "Warning message:\n",
      "\"package 'RmecabKo' was built under R version 3.6.2\"\n",
      "Attaching package: 'RmecabKo'\n",
      "\n",
      "The following object is masked from 'package:RcppMeCab':\n",
      "\n",
      "    pos\n",
      "\n"
     ]
    }
   ],
   "source": [
    "library(RmecabKo)"
   ]
  },
  {
   "cell_type": "code",
   "execution_count": 5,
   "metadata": {},
   "outputs": [],
   "source": [
    "library('stringr')"
   ]
  },
  {
   "cell_type": "code",
   "execution_count": 8,
   "metadata": {},
   "outputs": [
    {
     "name": "stderr",
     "output_type": "stream",
     "text": [
      "Warning message in scan(file = file, what = what, sep = sep, quote = quote, dec = dec, :\n",
      "\"입력 커넥션 'SecondData/DICT001.csv'에서 유효하지 않은 입력을 찾았습니다\"Warning message in scan(file = file, what = what, sep = sep, quote = quote, dec = dec, :\n",
      "\"따옴표로 묶인 문자열내에 EOF가 있습니다\""
     ]
    }
   ],
   "source": [
    "data <- read.csv(\"SecondData/DICT001.csv\",header=TRUE,stringsAsFactors=FALSE,fileEncoding=\"UTF-8\")"
   ]
  },
  {
   "cell_type": "code",
   "execution_count": 9,
   "metadata": {},
   "outputs": [
    {
     "data": {
      "text/html": [
       "<table>\n",
       "<thead><tr><th scope=col>word_id</th><th scope=col>의미어</th><th scope=col>표제어</th><th scope=col>의미번호</th><th scope=col>뜻풀이</th><th scope=col>품사</th><th scope=col>난이도</th></tr></thead>\n",
       "<tbody>\n",
       "\t<tr><td>1                                                                                                                                                                                                                                                                                                                                  </td><td>ㄱ001                                                                                                                                                                                                                                                                                                                              </td><td>ㄱ                                                                                                                                                                                                                                                                                                                                 </td><td>1                                                                                                                                                                                                                                                                                                                                  </td><td>한글 자모의 첫째 글자. 기역이라 이르며, ‘가’에서와 같이 초성으로, ‘역’에서와 같이 종성으로 쓰인다. 목젖으로 콧길을 막고 혀뿌리를 높여 연구개를 막았다가 뗄 때 나는 무성음이다. 초성일 때는 무성이나 모음 사이에서는 유성음이 되며, 종성일 때는 혀뿌리를 떼지 않고 발음한다. 혀뿌리가 목구멍을 막는 모양을 본떠서 만든 글자이다.</td><td>명사                                                                                                                                                                                                                                                                                                                               </td><td>상                                                                                                                                                                                                                                                                                                                                 </td></tr>\n",
       "\t<tr><td>2                                                                                                                                                                                                                                                                                                                                  </td><td>ㄱㄴㄷ순001                                                                                                                                                                                                                                                                                                                        </td><td>ㄱㄴㄷ-순                                                                                                                                                                                                                                                                                                                          </td><td>1                                                                                                                                                                                                                                                                                                                                  </td><td>한글의 ‘ㄱ, ㄴ, ㄷ……’ 차례로 매기는 순서.                                                                                                                                                                                                                                                                                      </td><td>명사                                                                                                                                                                                                                                                                                                                               </td><td>상                                                                                                                                                                                                                                                                                                                                 </td></tr>\n",
       "\t<tr><td>3                                                                                                                                                                                                                                                                                                                                  </td><td>ㄱㄴㄷ차례001                                                                                                                                                                                                                                                                                                                      </td><td>ㄱㄴㄷ-차례                                                                                                                                                                                                                                                                                                                        </td><td>1                                                                                                                                                                                                                                                                                                                                  </td><td>한글의 ‘ㄱ, ㄴ, ㄷ……’ 차례로 매기는 순서.                                                                                                                                                                                                                                                                                      </td><td>명사                                                                                                                                                                                                                                                                                                                               </td><td>상                                                                                                                                                                                                                                                                                                                                 </td></tr>\n",
       "\t<tr><td>4                                                                                                                                                                                                                                                                                                                                  </td><td>ㄱㄴ순001                                                                                                                                                                                                                                                                                                                          </td><td>ㄱㄴ-순                                                                                                                                                                                                                                                                                                                            </td><td>1                                                                                                                                                                                                                                                                                                                                  </td><td>한글의 ‘ㄱ, ㄴ, ㄷ……’ 차례로 매기는 순서.                                                                                                                                                                                                                                                                                      </td><td>명사                                                                                                                                                                                                                                                                                                                               </td><td>상                                                                                                                                                                                                                                                                                                                                 </td></tr>\n",
       "\t<tr><td>5                                                                                                                                                                                                                                                                                                                                  </td><td>ㄱㄴ차례001                                                                                                                                                                                                                                                                                                                        </td><td>ㄱㄴ-차례                                                                                                                                                                                                                                                                                                                          </td><td>1                                                                                                                                                                                                                                                                                                                                  </td><td>한글의 ‘ㄱ, ㄴ, ㄷ……’ 차례로 매기는 순서.                                                                                                                                                                                                                                                                                      </td><td>명사                                                                                                                                                                                                                                                                                                                               </td><td>상                                                                                                                                                                                                                                                                                                                                 </td></tr>\n",
       "\t<tr><td>6                                                                                                                                                                                                                                                                                                                                  </td><td>ㄱ자턱솔이음001                                                                                                                                                                                                                                                                                                                    </td><td>ㄱ자^턱솔이음                                                                                                                                                                                                                                                                                                                      </td><td>1                                                                                                                                                                                                                                                                                                                                  </td><td>나무나 돌을 ‘ㄱ’ 자 모양으로 턱이 지게 하여 만든 이음.                                                                                                                                                                                                                                                                           </td><td>품사 없음                                                                                                                                                                                                                                                                                                                          </td><td>상                                                                                                                                                                                                                                                                                                                                 </td></tr>\n",
       "</tbody>\n",
       "</table>\n"
      ],
      "text/latex": [
       "\\begin{tabular}{r|lllllll}\n",
       " word\\_id & 의미어 & 표제어 & 의미번호 & 뜻풀이 & 품사 & 난이도\\\\\n",
       "\\hline\n",
       "\t 1                                                                                                                                                                                                                                                                                                                                   & ㄱ001                                                                                                                                                                                                                                                                                                                               & ㄱ                                                                                                                                                                                                                                                                                                                                  & 1                                                                                                                                                                                                                                                                                                                                   & 한글 자모의 첫째 글자. 기역이라 이르며, ‘가’에서와 같이 초성으로, ‘역’에서와 같이 종성으로 쓰인다. 목젖으로 콧길을 막고 혀뿌리를 높여 연구개를 막았다가 뗄 때 나는 무성음이다. 초성일 때는 무성이나 모음 사이에서는 유성음이 되며, 종성일 때는 혀뿌리를 떼지 않고 발음한다. 혀뿌리가 목구멍을 막는 모양을 본떠서 만든 글자이다. & 명사                                                                                                                                                                                                                                                                                                                                & 상                                                                                                                                                                                                                                                                                                                                 \\\\\n",
       "\t 2                                                                                                                                                                                                                                                                                                                                   & ㄱㄴㄷ순001                                                                                                                                                                                                                                                                                                                         & ㄱㄴㄷ-순                                                                                                                                                                                                                                                                                                                           & 1                                                                                                                                                                                                                                                                                                                                   & 한글의 ‘ㄱ, ㄴ, ㄷ……’ 차례로 매기는 순서.                                                                                                                                                                                                                                                                                       & 명사                                                                                                                                                                                                                                                                                                                                & 상                                                                                                                                                                                                                                                                                                                                 \\\\\n",
       "\t 3                                                                                                                                                                                                                                                                                                                                   & ㄱㄴㄷ차례001                                                                                                                                                                                                                                                                                                                       & ㄱㄴㄷ-차례                                                                                                                                                                                                                                                                                                                         & 1                                                                                                                                                                                                                                                                                                                                   & 한글의 ‘ㄱ, ㄴ, ㄷ……’ 차례로 매기는 순서.                                                                                                                                                                                                                                                                                       & 명사                                                                                                                                                                                                                                                                                                                                & 상                                                                                                                                                                                                                                                                                                                                 \\\\\n",
       "\t 4                                                                                                                                                                                                                                                                                                                                   & ㄱㄴ순001                                                                                                                                                                                                                                                                                                                           & ㄱㄴ-순                                                                                                                                                                                                                                                                                                                             & 1                                                                                                                                                                                                                                                                                                                                   & 한글의 ‘ㄱ, ㄴ, ㄷ……’ 차례로 매기는 순서.                                                                                                                                                                                                                                                                                       & 명사                                                                                                                                                                                                                                                                                                                                & 상                                                                                                                                                                                                                                                                                                                                 \\\\\n",
       "\t 5                                                                                                                                                                                                                                                                                                                                   & ㄱㄴ차례001                                                                                                                                                                                                                                                                                                                         & ㄱㄴ-차례                                                                                                                                                                                                                                                                                                                           & 1                                                                                                                                                                                                                                                                                                                                   & 한글의 ‘ㄱ, ㄴ, ㄷ……’ 차례로 매기는 순서.                                                                                                                                                                                                                                                                                       & 명사                                                                                                                                                                                                                                                                                                                                & 상                                                                                                                                                                                                                                                                                                                                 \\\\\n",
       "\t 6                                                                                                                                                                                                                                                                                                                                   & ㄱ자턱솔이음001                                                                                                                                                                                                                                                                                                                     & ㄱ자\\textasciicircum{}턱솔이음                                                                                                                                                                                                                                                                                                     & 1                                                                                                                                                                                                                                                                                                                                   & 나무나 돌을 ‘ㄱ’ 자 모양으로 턱이 지게 하여 만든 이음.                                                                                                                                                                                                                                                                            & 품사 없음                                                                                                                                                                                                                                                                                                                           & 상                                                                                                                                                                                                                                                                                                                                 \\\\\n",
       "\\end{tabular}\n"
      ],
      "text/markdown": [
       "\n",
       "| word_id | 의미어 | 표제어 | 의미번호 | 뜻풀이 | 품사 | 난이도 |\n",
       "|---|---|---|---|---|---|---|\n",
       "| 1                                                                                                                                                                                                                                                                                                                                   | ㄱ001                                                                                                                                                                                                                                                                                                                               | ㄱ                                                                                                                                                                                                                                                                                                                                  | 1                                                                                                                                                                                                                                                                                                                                   | 한글 자모의 첫째 글자. 기역이라 이르며, ‘가’에서와 같이 초성으로, ‘역’에서와 같이 종성으로 쓰인다. 목젖으로 콧길을 막고 혀뿌리를 높여 연구개를 막았다가 뗄 때 나는 무성음이다. 초성일 때는 무성이나 모음 사이에서는 유성음이 되며, 종성일 때는 혀뿌리를 떼지 않고 발음한다. 혀뿌리가 목구멍을 막는 모양을 본떠서 만든 글자이다. | 명사                                                                                                                                                                                                                                                                                                                                | 상                                                                                                                                                                                                                                                                                                                                  |\n",
       "| 2                                                                                                                                                                                                                                                                                                                                   | ㄱㄴㄷ순001                                                                                                                                                                                                                                                                                                                         | ㄱㄴㄷ-순                                                                                                                                                                                                                                                                                                                           | 1                                                                                                                                                                                                                                                                                                                                   | 한글의 ‘ㄱ, ㄴ, ㄷ……’ 차례로 매기는 순서.                                                                                                                                                                                                                                                                                       | 명사                                                                                                                                                                                                                                                                                                                                | 상                                                                                                                                                                                                                                                                                                                                  |\n",
       "| 3                                                                                                                                                                                                                                                                                                                                   | ㄱㄴㄷ차례001                                                                                                                                                                                                                                                                                                                       | ㄱㄴㄷ-차례                                                                                                                                                                                                                                                                                                                         | 1                                                                                                                                                                                                                                                                                                                                   | 한글의 ‘ㄱ, ㄴ, ㄷ……’ 차례로 매기는 순서.                                                                                                                                                                                                                                                                                       | 명사                                                                                                                                                                                                                                                                                                                                | 상                                                                                                                                                                                                                                                                                                                                  |\n",
       "| 4                                                                                                                                                                                                                                                                                                                                   | ㄱㄴ순001                                                                                                                                                                                                                                                                                                                           | ㄱㄴ-순                                                                                                                                                                                                                                                                                                                             | 1                                                                                                                                                                                                                                                                                                                                   | 한글의 ‘ㄱ, ㄴ, ㄷ……’ 차례로 매기는 순서.                                                                                                                                                                                                                                                                                       | 명사                                                                                                                                                                                                                                                                                                                                | 상                                                                                                                                                                                                                                                                                                                                  |\n",
       "| 5                                                                                                                                                                                                                                                                                                                                   | ㄱㄴ차례001                                                                                                                                                                                                                                                                                                                         | ㄱㄴ-차례                                                                                                                                                                                                                                                                                                                           | 1                                                                                                                                                                                                                                                                                                                                   | 한글의 ‘ㄱ, ㄴ, ㄷ……’ 차례로 매기는 순서.                                                                                                                                                                                                                                                                                       | 명사                                                                                                                                                                                                                                                                                                                                | 상                                                                                                                                                                                                                                                                                                                                  |\n",
       "| 6                                                                                                                                                                                                                                                                                                                                   | ㄱ자턱솔이음001                                                                                                                                                                                                                                                                                                                     | ㄱ자^턱솔이음                                                                                                                                                                                                                                                                                                                       | 1                                                                                                                                                                                                                                                                                                                                   | 나무나 돌을 ‘ㄱ’ 자 모양으로 턱이 지게 하여 만든 이음.                                                                                                                                                                                                                                                                            | 품사 없음                                                                                                                                                                                                                                                                                                                           | 상                                                                                                                                                                                                                                                                                                                                  |\n",
       "\n"
      ],
      "text/plain": [
       "  word_id 의미어          표제어        의미번호\n",
       "1 1       ㄱ001           ㄱ            1       \n",
       "2 2       ㄱㄴㄷ순001     ㄱㄴㄷ-순     1       \n",
       "3 3       ㄱㄴㄷ차례001   ㄱㄴㄷ-차례   1       \n",
       "4 4       ㄱㄴ순001       ㄱㄴ-순       1       \n",
       "5 5       ㄱㄴ차례001     ㄱㄴ-차례     1       \n",
       "6 6       ㄱ자턱솔이음001 ㄱ자^턱솔이음 1       \n",
       "  뜻풀이                                                                                                                                                                                                                                                                                                                             \n",
       "1 한글 자모의 첫째 글자. 기역이라 이르며, ‘가’에서와 같이 초성으로, ‘역’에서와 같이 종성으로 쓰인다. 목젖으로 콧길을 막고 혀뿌리를 높여 연구개를 막았다가 뗄 때 나는 무성음이다. 초성일 때는 무성이나 모음 사이에서는 유성음이 되며, 종성일 때는 혀뿌리를 떼지 않고 발음한다. 혀뿌리가 목구멍을 막는 모양을 본떠서 만든 글자이다.\n",
       "2 한글의 ‘ㄱ, ㄴ, ㄷ……’ 차례로 매기는 순서.                                                                                                                                                                                                                                                                                      \n",
       "3 한글의 ‘ㄱ, ㄴ, ㄷ……’ 차례로 매기는 순서.                                                                                                                                                                                                                                                                                      \n",
       "4 한글의 ‘ㄱ, ㄴ, ㄷ……’ 차례로 매기는 순서.                                                                                                                                                                                                                                                                                      \n",
       "5 한글의 ‘ㄱ, ㄴ, ㄷ……’ 차례로 매기는 순서.                                                                                                                                                                                                                                                                                      \n",
       "6 나무나 돌을 ‘ㄱ’ 자 모양으로 턱이 지게 하여 만든 이음.                                                                                                                                                                                                                                                                           \n",
       "  품사      난이도\n",
       "1 명사      상    \n",
       "2 명사      상    \n",
       "3 명사      상    \n",
       "4 명사      상    \n",
       "5 명사      상    \n",
       "6 품사 없음 상    "
      ]
     },
     "metadata": {},
     "output_type": "display_data"
    }
   ],
   "source": [
    "head(data)"
   ]
  },
  {
   "cell_type": "code",
   "execution_count": 10,
   "metadata": {},
   "outputs": [],
   "source": [
    "keyData <- read.csv(\"SecondData/EZmeta31.csv\",header=TRUE,stringsAsFactors=FALSE,fileEncoding=\"UTF-8\")"
   ]
  },
  {
   "cell_type": "code",
   "execution_count": 11,
   "metadata": {},
   "outputs": [
    {
     "data": {
      "text/html": [
       "<table>\n",
       "<thead><tr><th scope=col>pair_id</th><th scope=col>표제어.kword_id</th><th scope=col>표제어</th><th scope=col>의미번호</th><th scope=col>표제어.난이도</th><th scope=col>relation2</th><th scope=col>관련어.word_id</th><th scope=col>관련어</th><th scope=col>의미번호.1</th><th scope=col>관련어.난이도</th></tr></thead>\n",
       "<tbody>\n",
       "\t<tr><td>1          </td><td>2184       </td><td>가톨릭     </td><td>2          </td><td>하         </td><td>비슷한말   </td><td> 97798     </td><td>서학       </td><td>2          </td><td>중         </td></tr>\n",
       "\t<tr><td>2          </td><td>2186       </td><td>가톨릭-교  </td><td>1          </td><td>중         </td><td>비슷한말   </td><td> 16023     </td><td>공교       </td><td>2          </td><td>상         </td></tr>\n",
       "\t<tr><td>3          </td><td>2186       </td><td>가톨릭-교  </td><td>1          </td><td>중         </td><td>비슷한말   </td><td>182393     </td><td>천주-학    </td><td>1          </td><td>중         </td></tr>\n",
       "\t<tr><td>4          </td><td>2186       </td><td>가톨릭-교  </td><td>1          </td><td>중         </td><td>비슷한말   </td><td>176596     </td><td>진교       </td><td>2          </td><td>상         </td></tr>\n",
       "\t<tr><td>5          </td><td>2188       </td><td>가톨릭-교도</td><td>1          </td><td>중         </td><td>비슷한말   </td><td>182378     </td><td>천좍-쟁이  </td><td>1          </td><td>상         </td></tr>\n",
       "\t<tr><td>6          </td><td>2190       </td><td>가톨릭교-회</td><td>1          </td><td>중         </td><td>비슷한말   </td><td>182379     </td><td>천주^공교회</td><td>1          </td><td>상         </td></tr>\n",
       "</tbody>\n",
       "</table>\n"
      ],
      "text/latex": [
       "\\begin{tabular}{r|llllllllll}\n",
       " pair\\_id & 표제어.kword\\_id & 표제어 & 의미번호 & 표제어.난이도 & relation2 & 관련어.word\\_id & 관련어 & 의미번호.1 & 관련어.난이도\\\\\n",
       "\\hline\n",
       "\t 1           & 2184        & 가톨릭      & 2           & 하          & 비슷한말    &  97798      & 서학        & 2           & 중         \\\\\n",
       "\t 2           & 2186        & 가톨릭-교   & 1           & 중          & 비슷한말    &  16023      & 공교        & 2           & 상         \\\\\n",
       "\t 3           & 2186        & 가톨릭-교   & 1           & 중          & 비슷한말    & 182393      & 천주-학     & 1           & 중         \\\\\n",
       "\t 4           & 2186        & 가톨릭-교   & 1           & 중          & 비슷한말    & 176596      & 진교        & 2           & 상         \\\\\n",
       "\t 5           & 2188        & 가톨릭-교도 & 1           & 중          & 비슷한말    & 182378      & 천좍-쟁이   & 1           & 상         \\\\\n",
       "\t 6                             & 2190                          & 가톨릭교-회                   & 1                             & 중                            & 비슷한말                      & 182379                        & 천주\\textasciicircum{}공교회 & 1                             & 상                           \\\\\n",
       "\\end{tabular}\n"
      ],
      "text/markdown": [
       "\n",
       "| pair_id | 표제어.kword_id | 표제어 | 의미번호 | 표제어.난이도 | relation2 | 관련어.word_id | 관련어 | 의미번호.1 | 관련어.난이도 |\n",
       "|---|---|---|---|---|---|---|---|---|---|\n",
       "| 1           | 2184        | 가톨릭      | 2           | 하          | 비슷한말    |  97798      | 서학        | 2           | 중          |\n",
       "| 2           | 2186        | 가톨릭-교   | 1           | 중          | 비슷한말    |  16023      | 공교        | 2           | 상          |\n",
       "| 3           | 2186        | 가톨릭-교   | 1           | 중          | 비슷한말    | 182393      | 천주-학     | 1           | 중          |\n",
       "| 4           | 2186        | 가톨릭-교   | 1           | 중          | 비슷한말    | 176596      | 진교        | 2           | 상          |\n",
       "| 5           | 2188        | 가톨릭-교도 | 1           | 중          | 비슷한말    | 182378      | 천좍-쟁이   | 1           | 상          |\n",
       "| 6           | 2190        | 가톨릭교-회 | 1           | 중          | 비슷한말    | 182379      | 천주^공교회 | 1           | 상          |\n",
       "\n"
      ],
      "text/plain": [
       "  pair_id 표제어.kword_id 표제어      의미번호 표제어.난이도 relation2\n",
       "1 1       2184            가톨릭      2        하            비슷한말 \n",
       "2 2       2186            가톨릭-교   1        중            비슷한말 \n",
       "3 3       2186            가톨릭-교   1        중            비슷한말 \n",
       "4 4       2186            가톨릭-교   1        중            비슷한말 \n",
       "5 5       2188            가톨릭-교도 1        중            비슷한말 \n",
       "6 6       2190            가톨릭교-회 1        중            비슷한말 \n",
       "  관련어.word_id 관련어      의미번호.1 관련어.난이도\n",
       "1  97798         서학        2          중           \n",
       "2  16023         공교        2          상           \n",
       "3 182393         천주-학     1          중           \n",
       "4 176596         진교        2          상           \n",
       "5 182378         천좍-쟁이   1          상           \n",
       "6 182379         천주^공교회 1          상           "
      ]
     },
     "metadata": {},
     "output_type": "display_data"
    }
   ],
   "source": [
    "head(keyData)"
   ]
  },
  {
   "cell_type": "code",
   "execution_count": 13,
   "metadata": {},
   "outputs": [
    {
     "name": "stderr",
     "output_type": "stream",
     "text": [
      "Warning message:\n",
      "\"package 'tidytext' was built under R version 3.6.2\""
     ]
    }
   ],
   "source": [
    "library(tidytext)"
   ]
  },
  {
   "cell_type": "code",
   "execution_count": 14,
   "metadata": {},
   "outputs": [
    {
     "data": {
      "text/html": [
       "<strong>$`롯데마트가 판매하고 있는 흑마늘 양념 치킨이\\n논란이 되고 있다.`</strong> = 'NA/SL'"
      ],
      "text/latex": [
       "\\textbf{\\$`롯데마트가 판매하고 있는 흑마늘 양념 치킨이\\textbackslash{}n논란이 되고 있다.`} = 'NA/SL'"
      ],
      "text/markdown": [
       "**$`롯데마트가 판매하고 있는 흑마늘 양념 치킨이\\n논란이 되고 있다.`** = 'NA/SL'"
      ],
      "text/plain": [
       "$`롯데마트가 판매하고 있는 흑마늘 양념 치킨이\\n논란이 되고 있다.`\n",
       "[1] \"NA/SL\"\n"
      ]
     },
     "metadata": {},
     "output_type": "display_data"
    }
   ],
   "source": [
    "str <- \"롯데마트가 판매하고 있는 흑마늘 양념 치킨이\n",
    "논란이 되고 있다.\"\n",
    "pos(iconv(str,to=\"utf8\"))"
   ]
  },
  {
   "cell_type": "code",
   "execution_count": 18,
   "metadata": {},
   "outputs": [
    {
     "data": {
      "text/html": [
       "<dl>\n",
       "\t<dt>$`롯데마트가 판매하고 있는 흑마늘 양념 치킨이\\n논란이 되고 있다.`</dt>\n",
       "\t\t<dd><ol class=list-inline>\n",
       "\t<li>'롯데마트/NNP'</li>\n",
       "\t<li>'가/JKS'</li>\n",
       "\t<li>'판매/NNG'</li>\n",
       "\t<li>'하/XSV'</li>\n",
       "\t<li>'고/EC'</li>\n",
       "\t<li>'있/VX'</li>\n",
       "\t<li>'는/ETM'</li>\n",
       "\t<li>'흑/NNG'</li>\n",
       "\t<li>'마늘/NNG'</li>\n",
       "\t<li>'양념/NNG'</li>\n",
       "\t<li>'치킨/NNG'</li>\n",
       "\t<li>'이/JKS'</li>\n",
       "</ol>\n",
       "</dd>\n",
       "\t<dt>$&lt;NA&gt;</dt>\n",
       "\t\t<dd><ol class=list-inline>\n",
       "\t<li>'논란/NNG'</li>\n",
       "\t<li>'이/JKS'</li>\n",
       "\t<li>'되/VV'</li>\n",
       "\t<li>'고/EC'</li>\n",
       "\t<li>'있/VX'</li>\n",
       "\t<li>'다/EF'</li>\n",
       "\t<li>'./SF'</li>\n",
       "</ol>\n",
       "</dd>\n",
       "</dl>\n"
      ],
      "text/latex": [
       "\\begin{description}\n",
       "\\item[\\$`롯데마트가 판매하고 있는 흑마늘 양념 치킨이\\textbackslash{}n논란이 되고 있다.`] \\begin{enumerate*}\n",
       "\\item '롯데마트/NNP'\n",
       "\\item '가/JKS'\n",
       "\\item '판매/NNG'\n",
       "\\item '하/XSV'\n",
       "\\item '고/EC'\n",
       "\\item '있/VX'\n",
       "\\item '는/ETM'\n",
       "\\item '흑/NNG'\n",
       "\\item '마늘/NNG'\n",
       "\\item '양념/NNG'\n",
       "\\item '치킨/NNG'\n",
       "\\item '이/JKS'\n",
       "\\end{enumerate*}\n",
       "\n",
       "\\item[\\$<NA>] \\begin{enumerate*}\n",
       "\\item '논란/NNG'\n",
       "\\item '이/JKS'\n",
       "\\item '되/VV'\n",
       "\\item '고/EC'\n",
       "\\item '있/VX'\n",
       "\\item '다/EF'\n",
       "\\item './SF'\n",
       "\\end{enumerate*}\n",
       "\n",
       "\\end{description}\n"
      ],
      "text/markdown": [
       "$`롯데마트가 판매하고 있는 흑마늘 양념 치킨이\\n논란이 되고 있다.`\n",
       ":   1. '롯데마트/NNP'\n",
       "2. '가/JKS'\n",
       "3. '판매/NNG'\n",
       "4. '하/XSV'\n",
       "5. '고/EC'\n",
       "6. '있/VX'\n",
       "7. '는/ETM'\n",
       "8. '흑/NNG'\n",
       "9. '마늘/NNG'\n",
       "10. '양념/NNG'\n",
       "11. '치킨/NNG'\n",
       "12. '이/JKS'\n",
       "\n",
       "\n",
       "\n",
       "$&lt;NA&gt;\n",
       ":   1. '논란/NNG'\n",
       "2. '이/JKS'\n",
       "3. '되/VV'\n",
       "4. '고/EC'\n",
       "5. '있/VX'\n",
       "6. '다/EF'\n",
       "7. './SF'\n",
       "\n",
       "\n",
       "\n",
       "\n",
       "\n"
      ],
      "text/plain": [
       "$`롯데마트가 판매하고 있는 흑마늘 양념 치킨이\\n논란이 되고 있다.`\n",
       " [1] \"롯데마트/NNP\" \"가/JKS\"       \"판매/NNG\"     \"하/XSV\"       \"고/EC\"       \n",
       " [6] \"있/VX\"        \"는/ETM\"       \"흑/NNG\"       \"마늘/NNG\"     \"양념/NNG\"    \n",
       "[11] \"치킨/NNG\"     \"이/JKS\"      \n",
       "\n",
       "$<NA>\n",
       "[1] \"논란/NNG\" \"이/JKS\"   \"되/VV\"    \"고/EC\"    \"있/VX\"    \"다/EF\"    \"./SF\"    \n"
      ]
     },
     "metadata": {},
     "output_type": "display_data"
    }
   ],
   "source": [
    "library(RcppMeCab)\n",
    "pos(str)"
   ]
  },
  {
   "cell_type": "code",
   "execution_count": 16,
   "metadata": {},
   "outputs": [
    {
     "data": {
      "text/html": [
       "<dl>\n",
       "\t<dt>$롯데마트가</dt>\n",
       "\t\t<dd>'롯데마트가/N'</dd>\n",
       "\t<dt>$판매하고</dt>\n",
       "\t\t<dd>'판매/N+하고/J'</dd>\n",
       "\t<dt>$있는</dt>\n",
       "\t\t<dd>'있/P+는/E'</dd>\n",
       "\t<dt>$흑마늘</dt>\n",
       "\t\t<dd>'흑마늘/N'</dd>\n",
       "\t<dt>$양념</dt>\n",
       "\t\t<dd>'양념/N'</dd>\n",
       "\t<dt>$치킨이</dt>\n",
       "\t\t<dd>'치킨/N+이/J'</dd>\n",
       "\t<dt>$논란이</dt>\n",
       "\t\t<dd>'논란/N+이/J'</dd>\n",
       "\t<dt>$되고</dt>\n",
       "\t\t<dd>'되/P+고/E'</dd>\n",
       "\t<dt>$있다</dt>\n",
       "\t\t<dd>'있/P+다/E'</dd>\n",
       "\t<dt>$.</dt>\n",
       "\t\t<dd>'./S'</dd>\n",
       "</dl>\n"
      ],
      "text/latex": [
       "\\begin{description}\n",
       "\\item[\\$롯데마트가] '롯데마트가/N'\n",
       "\\item[\\$판매하고] '판매/N+하고/J'\n",
       "\\item[\\$있는] '있/P+는/E'\n",
       "\\item[\\$흑마늘] '흑마늘/N'\n",
       "\\item[\\$양념] '양념/N'\n",
       "\\item[\\$치킨이] '치킨/N+이/J'\n",
       "\\item[\\$논란이] '논란/N+이/J'\n",
       "\\item[\\$되고] '되/P+고/E'\n",
       "\\item[\\$있다] '있/P+다/E'\n",
       "\\item[\\$.] './S'\n",
       "\\end{description}\n"
      ],
      "text/markdown": [
       "$롯데마트가\n",
       ":   '롯데마트가/N'\n",
       "$판매하고\n",
       ":   '판매/N+하고/J'\n",
       "$있는\n",
       ":   '있/P+는/E'\n",
       "$흑마늘\n",
       ":   '흑마늘/N'\n",
       "$양념\n",
       ":   '양념/N'\n",
       "$치킨이\n",
       ":   '치킨/N+이/J'\n",
       "$논란이\n",
       ":   '논란/N+이/J'\n",
       "$되고\n",
       ":   '되/P+고/E'\n",
       "$있다\n",
       ":   '있/P+다/E'\n",
       "$.\n",
       ":   './S'\n",
       "\n",
       "\n"
      ],
      "text/plain": [
       "$롯데마트가\n",
       "[1] \"롯데마트가/N\"\n",
       "\n",
       "$판매하고\n",
       "[1] \"판매/N+하고/J\"\n",
       "\n",
       "$있는\n",
       "[1] \"있/P+는/E\"\n",
       "\n",
       "$흑마늘\n",
       "[1] \"흑마늘/N\"\n",
       "\n",
       "$양념\n",
       "[1] \"양념/N\"\n",
       "\n",
       "$치킨이\n",
       "[1] \"치킨/N+이/J\"\n",
       "\n",
       "$논란이\n",
       "[1] \"논란/N+이/J\"\n",
       "\n",
       "$되고\n",
       "[1] \"되/P+고/E\"\n",
       "\n",
       "$있다\n",
       "[1] \"있/P+다/E\"\n",
       "\n",
       "$.\n",
       "[1] \"./S\"\n"
      ]
     },
     "metadata": {},
     "output_type": "display_data"
    }
   ],
   "source": [
    "SimplePos09(str)"
   ]
  },
  {
   "cell_type": "code",
   "execution_count": 19,
   "metadata": {},
   "outputs": [
    {
     "data": {
      "text/html": [
       "<ol class=list-inline>\n",
       "\t<li>'롯데마트가'</li>\n",
       "\t<li>'판매'</li>\n",
       "\t<li>'흑마늘'</li>\n",
       "\t<li>'양념'</li>\n",
       "\t<li>'치킨'</li>\n",
       "\t<li>'논란'</li>\n",
       "</ol>\n"
      ],
      "text/latex": [
       "\\begin{enumerate*}\n",
       "\\item '롯데마트가'\n",
       "\\item '판매'\n",
       "\\item '흑마늘'\n",
       "\\item '양념'\n",
       "\\item '치킨'\n",
       "\\item '논란'\n",
       "\\end{enumerate*}\n"
      ],
      "text/markdown": [
       "1. '롯데마트가'\n",
       "2. '판매'\n",
       "3. '흑마늘'\n",
       "4. '양념'\n",
       "5. '치킨'\n",
       "6. '논란'\n",
       "\n",
       "\n"
      ],
      "text/plain": [
       "[1] \"롯데마트가\" \"판매\"       \"흑마늘\"     \"양념\"       \"치킨\"      \n",
       "[6] \"논란\"      "
      ]
     },
     "metadata": {},
     "output_type": "display_data"
    }
   ],
   "source": [
    "extractNoun(str)"
   ]
  },
  {
   "cell_type": "code",
   "execution_count": 20,
   "metadata": {},
   "outputs": [
    {
     "data": {
      "text/html": [
       "<table>\n",
       "<thead><tr><th scope=col>pair_id</th><th scope=col>표제어.kword_id</th><th scope=col>표제어</th><th scope=col>의미번호</th><th scope=col>표제어.난이도</th><th scope=col>relation2</th><th scope=col>관련어.word_id</th><th scope=col>관련어</th><th scope=col>의미번호.1</th><th scope=col>관련어.난이도</th></tr></thead>\n",
       "<tbody>\n",
       "\t<tr><td>68214  </td><td>1      </td><td>ㄱ     </td><td>1      </td><td>상     </td><td>상위어 </td><td>154772 </td><td>자음-자</td><td>1      </td><td>중     </td></tr>\n",
       "</tbody>\n",
       "</table>\n"
      ],
      "text/latex": [
       "\\begin{tabular}{r|llllllllll}\n",
       " pair\\_id & 표제어.kword\\_id & 표제어 & 의미번호 & 표제어.난이도 & relation2 & 관련어.word\\_id & 관련어 & 의미번호.1 & 관련어.난이도\\\\\n",
       "\\hline\n",
       "\t 68214   & 1       & ㄱ      & 1       & 상      & 상위어  & 154772  & 자음-자 & 1       & 중     \\\\\n",
       "\\end{tabular}\n"
      ],
      "text/markdown": [
       "\n",
       "| pair_id | 표제어.kword_id | 표제어 | 의미번호 | 표제어.난이도 | relation2 | 관련어.word_id | 관련어 | 의미번호.1 | 관련어.난이도 |\n",
       "|---|---|---|---|---|---|---|---|---|---|\n",
       "| 68214   | 1       | ㄱ      | 1       | 상      | 상위어  | 154772  | 자음-자 | 1       | 중      |\n",
       "\n"
      ],
      "text/plain": [
       "  pair_id 표제어.kword_id 표제어 의미번호 표제어.난이도 relation2\n",
       "1 68214   1               ㄱ     1        상            상위어   \n",
       "  관련어.word_id 관련어  의미번호.1 관련어.난이도\n",
       "1 154772         자음-자 1          중           "
      ]
     },
     "metadata": {},
     "output_type": "display_data"
    }
   ],
   "source": [
    "head(filter(keyData,표제어=='ㄱ'))"
   ]
  },
  {
   "cell_type": "code",
   "execution_count": 21,
   "metadata": {},
   "outputs": [
    {
     "data": {
      "text/html": [
       "<table>\n",
       "<thead><tr><th scope=col>pair_id</th><th scope=col>표제어.kword_id</th><th scope=col>표제어</th><th scope=col>의미번호</th><th scope=col>표제어.난이도</th><th scope=col>relation2</th><th scope=col>관련어.word_id</th><th scope=col>관련어</th><th scope=col>의미번호.1</th><th scope=col>관련어.난이도</th></tr></thead>\n",
       "<tbody>\n",
       "\t<tr><td>187742   </td><td>2        </td><td>ㄱㄴㄷ-순</td><td>1        </td><td>상       </td><td>상위어   </td><td>108946   </td><td>순서     </td><td>1        </td><td>하       </td></tr>\n",
       "</tbody>\n",
       "</table>\n"
      ],
      "text/latex": [
       "\\begin{tabular}{r|llllllllll}\n",
       " pair\\_id & 표제어.kword\\_id & 표제어 & 의미번호 & 표제어.난이도 & relation2 & 관련어.word\\_id & 관련어 & 의미번호.1 & 관련어.난이도\\\\\n",
       "\\hline\n",
       "\t 187742    & 2         & ㄱㄴㄷ-순 & 1         & 상        & 상위어    & 108946    & 순서      & 1         & 하       \\\\\n",
       "\\end{tabular}\n"
      ],
      "text/markdown": [
       "\n",
       "| pair_id | 표제어.kword_id | 표제어 | 의미번호 | 표제어.난이도 | relation2 | 관련어.word_id | 관련어 | 의미번호.1 | 관련어.난이도 |\n",
       "|---|---|---|---|---|---|---|---|---|---|\n",
       "| 187742    | 2         | ㄱㄴㄷ-순 | 1         | 상        | 상위어    | 108946    | 순서      | 1         | 하        |\n",
       "\n"
      ],
      "text/plain": [
       "  pair_id 표제어.kword_id 표제어    의미번호 표제어.난이도 relation2\n",
       "1 187742  2               ㄱㄴㄷ-순 1        상            상위어   \n",
       "  관련어.word_id 관련어 의미번호.1 관련어.난이도\n",
       "1 108946         순서   1          하           "
      ]
     },
     "metadata": {},
     "output_type": "display_data"
    }
   ],
   "source": [
    "head(filter(keyData,표제어=='ㄱㄴㄷ-순'))"
   ]
  },
  {
   "cell_type": "code",
   "execution_count": 23,
   "metadata": {},
   "outputs": [
    {
     "name": "stderr",
     "output_type": "stream",
     "text": [
      "------------------------------------------------------------------------------\n",
      "You have loaded plyr after dplyr - this is likely to cause problems.\n",
      "If you need functions from both plyr and dplyr, please load plyr first, then dplyr:\n",
      "library(plyr); library(dplyr)\n",
      "------------------------------------------------------------------------------\n",
      "\n",
      "Attaching package: 'plyr'\n",
      "\n",
      "The following objects are masked from 'package:dplyr':\n",
      "\n",
      "    arrange, count, desc, failwith, id, mutate, rename, summarise,\n",
      "    summarize\n",
      "\n"
     ]
    }
   ],
   "source": [
    "library('plyr')"
   ]
  },
  {
   "cell_type": "code",
   "execution_count": 33,
   "metadata": {},
   "outputs": [
    {
     "name": "stderr",
     "output_type": "stream",
     "text": [
      "Joining by: 표제어, 의미번호\n"
     ]
    },
    {
     "data": {
      "text/html": [
       "<table>\n",
       "<thead><tr><th scope=col>word_id</th><th scope=col>의미어</th><th scope=col>표제어</th><th scope=col>의미번호</th><th scope=col>뜻풀이</th><th scope=col>품사</th><th scope=col>난이도</th><th scope=col>pair_id</th><th scope=col>표제어.kword_id</th><th scope=col>표제어.난이도</th><th scope=col>relation2</th><th scope=col>관련어.word_id</th><th scope=col>관련어</th><th scope=col>의미번호.1</th><th scope=col>관련어.난이도</th></tr></thead>\n",
       "<tbody>\n",
       "\t<tr><td>1                                                                                                                                                                                                                                                                                                                                  </td><td>ㄱ001                                                                                                                                                                                                                                                                                                                              </td><td>ㄱ                                                                                                                                                                                                                                                                                                                                 </td><td>1                                                                                                                                                                                                                                                                                                                                  </td><td>한글 자모의 첫째 글자. 기역이라 이르며, ‘가’에서와 같이 초성으로, ‘역’에서와 같이 종성으로 쓰인다. 목젖으로 콧길을 막고 혀뿌리를 높여 연구개를 막았다가 뗄 때 나는 무성음이다. 초성일 때는 무성이나 모음 사이에서는 유성음이 되며, 종성일 때는 혀뿌리를 떼지 않고 발음한다. 혀뿌리가 목구멍을 막는 모양을 본떠서 만든 글자이다.</td><td>명사                                                                                                                                                                                                                                                                                                                               </td><td>상                                                                                                                                                                                                                                                                                                                                 </td><td> 68214                                                                                                                                                                                                                                                                                                                             </td><td>1                                                                                                                                                                                                                                                                                                                                  </td><td>상                                                                                                                                                                                                                                                                                                                                 </td><td>상위어                                                                                                                                                                                                                                                                                                                             </td><td>154772                                                                                                                                                                                                                                                                                                                             </td><td>자음-자                                                                                                                                                                                                                                                                                                                            </td><td>1                                                                                                                                                                                                                                                                                                                                  </td><td>중                                                                                                                                                                                                                                                                                                                                 </td></tr>\n",
       "\t<tr><td>2                                                                                                                                                                                                                                                                                                                                  </td><td>ㄱㄴㄷ순001                                                                                                                                                                                                                                                                                                                        </td><td>ㄱㄴㄷ-순                                                                                                                                                                                                                                                                                                                          </td><td>1                                                                                                                                                                                                                                                                                                                                  </td><td>한글의 ‘ㄱ, ㄴ, ㄷ……’ 차례로 매기는 순서.                                                                                                                                                                                                                                                                                      </td><td>명사                                                                                                                                                                                                                                                                                                                               </td><td>상                                                                                                                                                                                                                                                                                                                                 </td><td>187742                                                                                                                                                                                                                                                                                                                             </td><td>2                                                                                                                                                                                                                                                                                                                                  </td><td>상                                                                                                                                                                                                                                                                                                                                 </td><td>상위어                                                                                                                                                                                                                                                                                                                             </td><td>108946                                                                                                                                                                                                                                                                                                                             </td><td>순서                                                                                                                                                                                                                                                                                                                               </td><td>1                                                                                                                                                                                                                                                                                                                                  </td><td>하                                                                                                                                                                                                                                                                                                                                 </td></tr>\n",
       "\t<tr><td>3                                                                                                                                                                                                                                                                                                                                  </td><td>ㄱㄴㄷ차례001                                                                                                                                                                                                                                                                                                                      </td><td>ㄱㄴㄷ-차례                                                                                                                                                                                                                                                                                                                        </td><td>1                                                                                                                                                                                                                                                                                                                                  </td><td>한글의 ‘ㄱ, ㄴ, ㄷ……’ 차례로 매기는 순서.                                                                                                                                                                                                                                                                                      </td><td>명사                                                                                                                                                                                                                                                                                                                               </td><td>상                                                                                                                                                                                                                                                                                                                                 </td><td>136783                                                                                                                                                                                                                                                                                                                             </td><td>3                                                                                                                                                                                                                                                                                                                                  </td><td>상                                                                                                                                                                                                                                                                                                                                 </td><td>비슷한말                                                                                                                                                                                                                                                                                                                           </td><td>     4                                                                                                                                                                                                                                                                                                                             </td><td>ㄱㄴ-순                                                                                                                                                                                                                                                                                                                            </td><td>1                                                                                                                                                                                                                                                                                                                                  </td><td>상                                                                                                                                                                                                                                                                                                                                 </td></tr>\n",
       "\t<tr><td>3                                                                                                                                                                                                                                                                                                                                  </td><td>ㄱㄴㄷ차례001                                                                                                                                                                                                                                                                                                                      </td><td>ㄱㄴㄷ-차례                                                                                                                                                                                                                                                                                                                        </td><td>1                                                                                                                                                                                                                                                                                                                                  </td><td>한글의 ‘ㄱ, ㄴ, ㄷ……’ 차례로 매기는 순서.                                                                                                                                                                                                                                                                                      </td><td>명사                                                                                                                                                                                                                                                                                                                               </td><td>상                                                                                                                                                                                                                                                                                                                                 </td><td>174004                                                                                                                                                                                                                                                                                                                             </td><td>3                                                                                                                                                                                                                                                                                                                                  </td><td>상                                                                                                                                                                                                                                                                                                                                 </td><td>비슷한말                                                                                                                                                                                                                                                                                                                           </td><td>   266                                                                                                                                                                                                                                                                                                                             </td><td>가나다-차례                                                                                                                                                                                                                                                                                                                        </td><td>1                                                                                                                                                                                                                                                                                                                                  </td><td>중                                                                                                                                                                                                                                                                                                                                 </td></tr>\n",
       "\t<tr><td>3                                                                                                                                                                                                                                                                                                                                  </td><td>ㄱㄴㄷ차례001                                                                                                                                                                                                                                                                                                                      </td><td>ㄱㄴㄷ-차례                                                                                                                                                                                                                                                                                                                        </td><td>1                                                                                                                                                                                                                                                                                                                                  </td><td>한글의 ‘ㄱ, ㄴ, ㄷ……’ 차례로 매기는 순서.                                                                                                                                                                                                                                                                                      </td><td>명사                                                                                                                                                                                                                                                                                                                               </td><td>상                                                                                                                                                                                                                                                                                                                                 </td><td>187743                                                                                                                                                                                                                                                                                                                             </td><td>3                                                                                                                                                                                                                                                                                                                                  </td><td>상                                                                                                                                                                                                                                                                                                                                 </td><td>상위어                                                                                                                                                                                                                                                                                                                             </td><td>108946                                                                                                                                                                                                                                                                                                                             </td><td>순서                                                                                                                                                                                                                                                                                                                               </td><td>1                                                                                                                                                                                                                                                                                                                                  </td><td>하                                                                                                                                                                                                                                                                                                                                 </td></tr>\n",
       "\t<tr><td>4                                                                                                                                                                                                                                                                                                                                  </td><td>ㄱㄴ순001                                                                                                                                                                                                                                                                                                                          </td><td>ㄱㄴ-순                                                                                                                                                                                                                                                                                                                            </td><td>1                                                                                                                                                                                                                                                                                                                                  </td><td>한글의 ‘ㄱ, ㄴ, ㄷ……’ 차례로 매기는 순서.                                                                                                                                                                                                                                                                                      </td><td>명사                                                                                                                                                                                                                                                                                                                               </td><td>상                                                                                                                                                                                                                                                                                                                                 </td><td>136781                                                                                                                                                                                                                                                                                                                             </td><td>4                                                                                                                                                                                                                                                                                                                                  </td><td>상                                                                                                                                                                                                                                                                                                                                 </td><td>비슷한말                                                                                                                                                                                                                                                                                                                           </td><td> 28848                                                                                                                                                                                                                                                                                                                             </td><td>기역니은-순                                                                                                                                                                                                                                                                                                                        </td><td>1                                                                                                                                                                                                                                                                                                                                  </td><td>중                                                                                                                                                                                                                                                                                                                                 </td></tr>\n",
       "</tbody>\n",
       "</table>\n"
      ],
      "text/latex": [
       "\\begin{tabular}{r|lllllllllllllll}\n",
       " word\\_id & 의미어 & 표제어 & 의미번호 & 뜻풀이 & 품사 & 난이도 & pair\\_id & 표제어.kword\\_id & 표제어.난이도 & relation2 & 관련어.word\\_id & 관련어 & 의미번호.1 & 관련어.난이도\\\\\n",
       "\\hline\n",
       "\t 1                                                                                                                                                                                                                                                                                                                                   & ㄱ001                                                                                                                                                                                                                                                                                                                               & ㄱ                                                                                                                                                                                                                                                                                                                                  & 1                                                                                                                                                                                                                                                                                                                                   & 한글 자모의 첫째 글자. 기역이라 이르며, ‘가’에서와 같이 초성으로, ‘역’에서와 같이 종성으로 쓰인다. 목젖으로 콧길을 막고 혀뿌리를 높여 연구개를 막았다가 뗄 때 나는 무성음이다. 초성일 때는 무성이나 모음 사이에서는 유성음이 되며, 종성일 때는 혀뿌리를 떼지 않고 발음한다. 혀뿌리가 목구멍을 막는 모양을 본떠서 만든 글자이다. & 명사                                                                                                                                                                                                                                                                                                                                & 상                                                                                                                                                                                                                                                                                                                                  &  68214                                                                                                                                                                                                                                                                                                                              & 1                                                                                                                                                                                                                                                                                                                                   & 상                                                                                                                                                                                                                                                                                                                                  & 상위어                                                                                                                                                                                                                                                                                                                              & 154772                                                                                                                                                                                                                                                                                                                              & 자음-자                                                                                                                                                                                                                                                                                                                             & 1                                                                                                                                                                                                                                                                                                                                   & 중                                                                                                                                                                                                                                                                                                                                 \\\\\n",
       "\t 2                                                                                                                                                                                                                                                                                                                                   & ㄱㄴㄷ순001                                                                                                                                                                                                                                                                                                                         & ㄱㄴㄷ-순                                                                                                                                                                                                                                                                                                                           & 1                                                                                                                                                                                                                                                                                                                                   & 한글의 ‘ㄱ, ㄴ, ㄷ……’ 차례로 매기는 순서.                                                                                                                                                                                                                                                                                       & 명사                                                                                                                                                                                                                                                                                                                                & 상                                                                                                                                                                                                                                                                                                                                  & 187742                                                                                                                                                                                                                                                                                                                              & 2                                                                                                                                                                                                                                                                                                                                   & 상                                                                                                                                                                                                                                                                                                                                  & 상위어                                                                                                                                                                                                                                                                                                                              & 108946                                                                                                                                                                                                                                                                                                                              & 순서                                                                                                                                                                                                                                                                                                                                & 1                                                                                                                                                                                                                                                                                                                                   & 하                                                                                                                                                                                                                                                                                                                                 \\\\\n",
       "\t 3                                                                                                                                                                                                                                                                                                                                   & ㄱㄴㄷ차례001                                                                                                                                                                                                                                                                                                                       & ㄱㄴㄷ-차례                                                                                                                                                                                                                                                                                                                         & 1                                                                                                                                                                                                                                                                                                                                   & 한글의 ‘ㄱ, ㄴ, ㄷ……’ 차례로 매기는 순서.                                                                                                                                                                                                                                                                                       & 명사                                                                                                                                                                                                                                                                                                                                & 상                                                                                                                                                                                                                                                                                                                                  & 136783                                                                                                                                                                                                                                                                                                                              & 3                                                                                                                                                                                                                                                                                                                                   & 상                                                                                                                                                                                                                                                                                                                                  & 비슷한말                                                                                                                                                                                                                                                                                                                            &      4                                                                                                                                                                                                                                                                                                                              & ㄱㄴ-순                                                                                                                                                                                                                                                                                                                             & 1                                                                                                                                                                                                                                                                                                                                   & 상                                                                                                                                                                                                                                                                                                                                 \\\\\n",
       "\t 3                                                                                                                                                                                                                                                                                                                                   & ㄱㄴㄷ차례001                                                                                                                                                                                                                                                                                                                       & ㄱㄴㄷ-차례                                                                                                                                                                                                                                                                                                                         & 1                                                                                                                                                                                                                                                                                                                                   & 한글의 ‘ㄱ, ㄴ, ㄷ……’ 차례로 매기는 순서.                                                                                                                                                                                                                                                                                       & 명사                                                                                                                                                                                                                                                                                                                                & 상                                                                                                                                                                                                                                                                                                                                  & 174004                                                                                                                                                                                                                                                                                                                              & 3                                                                                                                                                                                                                                                                                                                                   & 상                                                                                                                                                                                                                                                                                                                                  & 비슷한말                                                                                                                                                                                                                                                                                                                            &    266                                                                                                                                                                                                                                                                                                                              & 가나다-차례                                                                                                                                                                                                                                                                                                                         & 1                                                                                                                                                                                                                                                                                                                                   & 중                                                                                                                                                                                                                                                                                                                                 \\\\\n",
       "\t 3                                                                                                                                                                                                                                                                                                                                   & ㄱㄴㄷ차례001                                                                                                                                                                                                                                                                                                                       & ㄱㄴㄷ-차례                                                                                                                                                                                                                                                                                                                         & 1                                                                                                                                                                                                                                                                                                                                   & 한글의 ‘ㄱ, ㄴ, ㄷ……’ 차례로 매기는 순서.                                                                                                                                                                                                                                                                                       & 명사                                                                                                                                                                                                                                                                                                                                & 상                                                                                                                                                                                                                                                                                                                                  & 187743                                                                                                                                                                                                                                                                                                                              & 3                                                                                                                                                                                                                                                                                                                                   & 상                                                                                                                                                                                                                                                                                                                                  & 상위어                                                                                                                                                                                                                                                                                                                              & 108946                                                                                                                                                                                                                                                                                                                              & 순서                                                                                                                                                                                                                                                                                                                                & 1                                                                                                                                                                                                                                                                                                                                   & 하                                                                                                                                                                                                                                                                                                                                 \\\\\n",
       "\t 4                                                                                                                                                                                                                                                                                                                                   & ㄱㄴ순001                                                                                                                                                                                                                                                                                                                           & ㄱㄴ-순                                                                                                                                                                                                                                                                                                                             & 1                                                                                                                                                                                                                                                                                                                                   & 한글의 ‘ㄱ, ㄴ, ㄷ……’ 차례로 매기는 순서.                                                                                                                                                                                                                                                                                       & 명사                                                                                                                                                                                                                                                                                                                                & 상                                                                                                                                                                                                                                                                                                                                  & 136781                                                                                                                                                                                                                                                                                                                              & 4                                                                                                                                                                                                                                                                                                                                   & 상                                                                                                                                                                                                                                                                                                                                  & 비슷한말                                                                                                                                                                                                                                                                                                                            &  28848                                                                                                                                                                                                                                                                                                                              & 기역니은-순                                                                                                                                                                                                                                                                                                                         & 1                                                                                                                                                                                                                                                                                                                                   & 중                                                                                                                                                                                                                                                                                                                                 \\\\\n",
       "\\end{tabular}\n"
      ],
      "text/markdown": [
       "\n",
       "| word_id | 의미어 | 표제어 | 의미번호 | 뜻풀이 | 품사 | 난이도 | pair_id | 표제어.kword_id | 표제어.난이도 | relation2 | 관련어.word_id | 관련어 | 의미번호.1 | 관련어.난이도 |\n",
       "|---|---|---|---|---|---|---|---|---|---|---|---|---|---|---|\n",
       "| 1                                                                                                                                                                                                                                                                                                                                   | ㄱ001                                                                                                                                                                                                                                                                                                                               | ㄱ                                                                                                                                                                                                                                                                                                                                  | 1                                                                                                                                                                                                                                                                                                                                   | 한글 자모의 첫째 글자. 기역이라 이르며, ‘가’에서와 같이 초성으로, ‘역’에서와 같이 종성으로 쓰인다. 목젖으로 콧길을 막고 혀뿌리를 높여 연구개를 막았다가 뗄 때 나는 무성음이다. 초성일 때는 무성이나 모음 사이에서는 유성음이 되며, 종성일 때는 혀뿌리를 떼지 않고 발음한다. 혀뿌리가 목구멍을 막는 모양을 본떠서 만든 글자이다. | 명사                                                                                                                                                                                                                                                                                                                                | 상                                                                                                                                                                                                                                                                                                                                  |  68214                                                                                                                                                                                                                                                                                                                              | 1                                                                                                                                                                                                                                                                                                                                   | 상                                                                                                                                                                                                                                                                                                                                  | 상위어                                                                                                                                                                                                                                                                                                                              | 154772                                                                                                                                                                                                                                                                                                                              | 자음-자                                                                                                                                                                                                                                                                                                                             | 1                                                                                                                                                                                                                                                                                                                                   | 중                                                                                                                                                                                                                                                                                                                                  |\n",
       "| 2                                                                                                                                                                                                                                                                                                                                   | ㄱㄴㄷ순001                                                                                                                                                                                                                                                                                                                         | ㄱㄴㄷ-순                                                                                                                                                                                                                                                                                                                           | 1                                                                                                                                                                                                                                                                                                                                   | 한글의 ‘ㄱ, ㄴ, ㄷ……’ 차례로 매기는 순서.                                                                                                                                                                                                                                                                                       | 명사                                                                                                                                                                                                                                                                                                                                | 상                                                                                                                                                                                                                                                                                                                                  | 187742                                                                                                                                                                                                                                                                                                                              | 2                                                                                                                                                                                                                                                                                                                                   | 상                                                                                                                                                                                                                                                                                                                                  | 상위어                                                                                                                                                                                                                                                                                                                              | 108946                                                                                                                                                                                                                                                                                                                              | 순서                                                                                                                                                                                                                                                                                                                                | 1                                                                                                                                                                                                                                                                                                                                   | 하                                                                                                                                                                                                                                                                                                                                  |\n",
       "| 3                                                                                                                                                                                                                                                                                                                                   | ㄱㄴㄷ차례001                                                                                                                                                                                                                                                                                                                       | ㄱㄴㄷ-차례                                                                                                                                                                                                                                                                                                                         | 1                                                                                                                                                                                                                                                                                                                                   | 한글의 ‘ㄱ, ㄴ, ㄷ……’ 차례로 매기는 순서.                                                                                                                                                                                                                                                                                       | 명사                                                                                                                                                                                                                                                                                                                                | 상                                                                                                                                                                                                                                                                                                                                  | 136783                                                                                                                                                                                                                                                                                                                              | 3                                                                                                                                                                                                                                                                                                                                   | 상                                                                                                                                                                                                                                                                                                                                  | 비슷한말                                                                                                                                                                                                                                                                                                                            |      4                                                                                                                                                                                                                                                                                                                              | ㄱㄴ-순                                                                                                                                                                                                                                                                                                                             | 1                                                                                                                                                                                                                                                                                                                                   | 상                                                                                                                                                                                                                                                                                                                                  |\n",
       "| 3                                                                                                                                                                                                                                                                                                                                   | ㄱㄴㄷ차례001                                                                                                                                                                                                                                                                                                                       | ㄱㄴㄷ-차례                                                                                                                                                                                                                                                                                                                         | 1                                                                                                                                                                                                                                                                                                                                   | 한글의 ‘ㄱ, ㄴ, ㄷ……’ 차례로 매기는 순서.                                                                                                                                                                                                                                                                                       | 명사                                                                                                                                                                                                                                                                                                                                | 상                                                                                                                                                                                                                                                                                                                                  | 174004                                                                                                                                                                                                                                                                                                                              | 3                                                                                                                                                                                                                                                                                                                                   | 상                                                                                                                                                                                                                                                                                                                                  | 비슷한말                                                                                                                                                                                                                                                                                                                            |    266                                                                                                                                                                                                                                                                                                                              | 가나다-차례                                                                                                                                                                                                                                                                                                                         | 1                                                                                                                                                                                                                                                                                                                                   | 중                                                                                                                                                                                                                                                                                                                                  |\n",
       "| 3                                                                                                                                                                                                                                                                                                                                   | ㄱㄴㄷ차례001                                                                                                                                                                                                                                                                                                                       | ㄱㄴㄷ-차례                                                                                                                                                                                                                                                                                                                         | 1                                                                                                                                                                                                                                                                                                                                   | 한글의 ‘ㄱ, ㄴ, ㄷ……’ 차례로 매기는 순서.                                                                                                                                                                                                                                                                                       | 명사                                                                                                                                                                                                                                                                                                                                | 상                                                                                                                                                                                                                                                                                                                                  | 187743                                                                                                                                                                                                                                                                                                                              | 3                                                                                                                                                                                                                                                                                                                                   | 상                                                                                                                                                                                                                                                                                                                                  | 상위어                                                                                                                                                                                                                                                                                                                              | 108946                                                                                                                                                                                                                                                                                                                              | 순서                                                                                                                                                                                                                                                                                                                                | 1                                                                                                                                                                                                                                                                                                                                   | 하                                                                                                                                                                                                                                                                                                                                  |\n",
       "| 4                                                                                                                                                                                                                                                                                                                                   | ㄱㄴ순001                                                                                                                                                                                                                                                                                                                           | ㄱㄴ-순                                                                                                                                                                                                                                                                                                                             | 1                                                                                                                                                                                                                                                                                                                                   | 한글의 ‘ㄱ, ㄴ, ㄷ……’ 차례로 매기는 순서.                                                                                                                                                                                                                                                                                       | 명사                                                                                                                                                                                                                                                                                                                                | 상                                                                                                                                                                                                                                                                                                                                  | 136781                                                                                                                                                                                                                                                                                                                              | 4                                                                                                                                                                                                                                                                                                                                   | 상                                                                                                                                                                                                                                                                                                                                  | 비슷한말                                                                                                                                                                                                                                                                                                                            |  28848                                                                                                                                                                                                                                                                                                                              | 기역니은-순                                                                                                                                                                                                                                                                                                                         | 1                                                                                                                                                                                                                                                                                                                                   | 중                                                                                                                                                                                                                                                                                                                                  |\n",
       "\n"
      ],
      "text/plain": [
       "  word_id 의미어        표제어      의미번호\n",
       "1 1       ㄱ001         ㄱ          1       \n",
       "2 2       ㄱㄴㄷ순001   ㄱㄴㄷ-순   1       \n",
       "3 3       ㄱㄴㄷ차례001 ㄱㄴㄷ-차례 1       \n",
       "4 3       ㄱㄴㄷ차례001 ㄱㄴㄷ-차례 1       \n",
       "5 3       ㄱㄴㄷ차례001 ㄱㄴㄷ-차례 1       \n",
       "6 4       ㄱㄴ순001     ㄱㄴ-순     1       \n",
       "  뜻풀이                                                                                                                                                                                                                                                                                                                             \n",
       "1 한글 자모의 첫째 글자. 기역이라 이르며, ‘가’에서와 같이 초성으로, ‘역’에서와 같이 종성으로 쓰인다. 목젖으로 콧길을 막고 혀뿌리를 높여 연구개를 막았다가 뗄 때 나는 무성음이다. 초성일 때는 무성이나 모음 사이에서는 유성음이 되며, 종성일 때는 혀뿌리를 떼지 않고 발음한다. 혀뿌리가 목구멍을 막는 모양을 본떠서 만든 글자이다.\n",
       "2 한글의 ‘ㄱ, ㄴ, ㄷ……’ 차례로 매기는 순서.                                                                                                                                                                                                                                                                                      \n",
       "3 한글의 ‘ㄱ, ㄴ, ㄷ……’ 차례로 매기는 순서.                                                                                                                                                                                                                                                                                      \n",
       "4 한글의 ‘ㄱ, ㄴ, ㄷ……’ 차례로 매기는 순서.                                                                                                                                                                                                                                                                                      \n",
       "5 한글의 ‘ㄱ, ㄴ, ㄷ……’ 차례로 매기는 순서.                                                                                                                                                                                                                                                                                      \n",
       "6 한글의 ‘ㄱ, ㄴ, ㄷ……’ 차례로 매기는 순서.                                                                                                                                                                                                                                                                                      \n",
       "  품사 난이도 pair_id 표제어.kword_id 표제어.난이도 relation2 관련어.word_id\n",
       "1 명사 상      68214  1               상            상위어    154772        \n",
       "2 명사 상     187742  2               상            상위어    108946        \n",
       "3 명사 상     136783  3               상            비슷한말       4        \n",
       "4 명사 상     174004  3               상            비슷한말     266        \n",
       "5 명사 상     187743  3               상            상위어    108946        \n",
       "6 명사 상     136781  4               상            비슷한말   28848        \n",
       "  관련어      의미번호.1 관련어.난이도\n",
       "1 자음-자     1          중           \n",
       "2 순서        1          하           \n",
       "3 ㄱㄴ-순     1          상           \n",
       "4 가나다-차례 1          중           \n",
       "5 순서        1          하           \n",
       "6 기역니은-순 1          중           "
      ]
     },
     "metadata": {},
     "output_type": "display_data"
    }
   ],
   "source": [
    "joinData <- join(data,keyData,type=\"left\")\n",
    "head(joinData)"
   ]
  },
  {
   "cell_type": "code",
   "execution_count": 41,
   "metadata": {},
   "outputs": [
    {
     "data": {
      "text/html": [
       "301"
      ],
      "text/latex": [
       "301"
      ],
      "text/markdown": [
       "301"
      ],
      "text/plain": [
       "[1] 301"
      ]
     },
     "metadata": {},
     "output_type": "display_data"
    }
   ],
   "source": [
    "### filter(data,표제어==\"가톨릭\")\n",
    "nrow(data)"
   ]
  },
  {
   "cell_type": "code",
   "execution_count": null,
   "metadata": {},
   "outputs": [],
   "source": [
    "data <- read.csv(\"DICT.csv\",header=TRUE,stringsAsFactors=FALSE,fileEncoding=\"UTF-8\")"
   ]
  },
  {
   "cell_type": "code",
   "execution_count": 1,
   "metadata": {},
   "outputs": [],
   "source": [
    "import pandas as pd"
   ]
  },
  {
   "cell_type": "code",
   "execution_count": 2,
   "metadata": {},
   "outputs": [
    {
     "data": {
      "text/html": [
       "<div>\n",
       "<style scoped>\n",
       "    .dataframe tbody tr th:only-of-type {\n",
       "        vertical-align: middle;\n",
       "    }\n",
       "\n",
       "    .dataframe tbody tr th {\n",
       "        vertical-align: top;\n",
       "    }\n",
       "\n",
       "    .dataframe thead th {\n",
       "        text-align: right;\n",
       "    }\n",
       "</style>\n",
       "<table border=\"1\" class=\"dataframe\">\n",
       "  <thead>\n",
       "    <tr style=\"text-align: right;\">\n",
       "      <th></th>\n",
       "      <th>Unnamed: 0</th>\n",
       "      <th>word_id</th>\n",
       "      <th>의미어</th>\n",
       "      <th>표제어</th>\n",
       "      <th>의미번호</th>\n",
       "      <th>뜻풀이</th>\n",
       "      <th>품사</th>\n",
       "      <th>난이도</th>\n",
       "    </tr>\n",
       "  </thead>\n",
       "  <tbody>\n",
       "    <tr>\n",
       "      <td>0</td>\n",
       "      <td>1</td>\n",
       "      <td>1</td>\n",
       "      <td>ㄱ001</td>\n",
       "      <td>ㄱ</td>\n",
       "      <td>1</td>\n",
       "      <td>한글 자모의 첫째 글자. 기역이라 이르며, ‘가’에서와 같이 초성으로, ‘역’에서와...</td>\n",
       "      <td>명사</td>\n",
       "      <td>상</td>\n",
       "    </tr>\n",
       "    <tr>\n",
       "      <td>1</td>\n",
       "      <td>2</td>\n",
       "      <td>2</td>\n",
       "      <td>ㄱㄴㄷ순001</td>\n",
       "      <td>ㄱㄴㄷ-순</td>\n",
       "      <td>1</td>\n",
       "      <td>한글의 ‘ㄱ, ㄴ, ㄷ……’ 차례로 매기는 순서.</td>\n",
       "      <td>명사</td>\n",
       "      <td>상</td>\n",
       "    </tr>\n",
       "    <tr>\n",
       "      <td>2</td>\n",
       "      <td>3</td>\n",
       "      <td>3</td>\n",
       "      <td>ㄱㄴㄷ차례001</td>\n",
       "      <td>ㄱㄴㄷ-차례</td>\n",
       "      <td>1</td>\n",
       "      <td>한글의 ‘ㄱ, ㄴ, ㄷ……’ 차례로 매기는 순서.</td>\n",
       "      <td>명사</td>\n",
       "      <td>상</td>\n",
       "    </tr>\n",
       "    <tr>\n",
       "      <td>3</td>\n",
       "      <td>4</td>\n",
       "      <td>4</td>\n",
       "      <td>ㄱㄴ순001</td>\n",
       "      <td>ㄱㄴ-순</td>\n",
       "      <td>1</td>\n",
       "      <td>한글의 ‘ㄱ, ㄴ, ㄷ……’ 차례로 매기는 순서.</td>\n",
       "      <td>명사</td>\n",
       "      <td>상</td>\n",
       "    </tr>\n",
       "    <tr>\n",
       "      <td>4</td>\n",
       "      <td>5</td>\n",
       "      <td>5</td>\n",
       "      <td>ㄱㄴ차례001</td>\n",
       "      <td>ㄱㄴ-차례</td>\n",
       "      <td>1</td>\n",
       "      <td>한글의 ‘ㄱ, ㄴ, ㄷ……’ 차례로 매기는 순서.</td>\n",
       "      <td>명사</td>\n",
       "      <td>상</td>\n",
       "    </tr>\n",
       "  </tbody>\n",
       "</table>\n",
       "</div>"
      ],
      "text/plain": [
       "   Unnamed: 0  word_id       의미어     표제어  의미번호  \\\n",
       "0           1        1      ㄱ001       ㄱ     1   \n",
       "1           2        2   ㄱㄴㄷ순001   ㄱㄴㄷ-순     1   \n",
       "2           3        3  ㄱㄴㄷ차례001  ㄱㄴㄷ-차례     1   \n",
       "3           4        4    ㄱㄴ순001    ㄱㄴ-순     1   \n",
       "4           5        5   ㄱㄴ차례001   ㄱㄴ-차례     1   \n",
       "\n",
       "                                                 뜻풀이  품사 난이도  \n",
       "0  한글 자모의 첫째 글자. 기역이라 이르며, ‘가’에서와 같이 초성으로, ‘역’에서와...  명사   상  \n",
       "1                        한글의 ‘ㄱ, ㄴ, ㄷ……’ 차례로 매기는 순서.  명사   상  \n",
       "2                        한글의 ‘ㄱ, ㄴ, ㄷ……’ 차례로 매기는 순서.  명사   상  \n",
       "3                        한글의 ‘ㄱ, ㄴ, ㄷ……’ 차례로 매기는 순서.  명사   상  \n",
       "4                        한글의 ‘ㄱ, ㄴ, ㄷ……’ 차례로 매기는 순서.  명사   상  "
      ]
     },
     "execution_count": 2,
     "metadata": {},
     "output_type": "execute_result"
    }
   ],
   "source": [
    "df=pd.read_csv('DICT.csv', sep=',', encoding='UTF-8')\n",
    "df.head()"
   ]
  },
  {
   "cell_type": "code",
   "execution_count": 3,
   "metadata": {},
   "outputs": [
    {
     "data": {
      "text/plain": [
       "219251"
      ]
     },
     "execution_count": 3,
     "metadata": {},
     "output_type": "execute_result"
    }
   ],
   "source": [
    "len(df)"
   ]
  },
  {
   "cell_type": "code",
   "execution_count": 4,
   "metadata": {},
   "outputs": [
    {
     "data": {
      "text/html": [
       "<div>\n",
       "<style scoped>\n",
       "    .dataframe tbody tr th:only-of-type {\n",
       "        vertical-align: middle;\n",
       "    }\n",
       "\n",
       "    .dataframe tbody tr th {\n",
       "        vertical-align: top;\n",
       "    }\n",
       "\n",
       "    .dataframe thead th {\n",
       "        text-align: right;\n",
       "    }\n",
       "</style>\n",
       "<table border=\"1\" class=\"dataframe\">\n",
       "  <thead>\n",
       "    <tr style=\"text-align: right;\">\n",
       "      <th></th>\n",
       "      <th>pair_id</th>\n",
       "      <th>표제어 kword_id</th>\n",
       "      <th>표제어</th>\n",
       "      <th>의미번호</th>\n",
       "      <th>표제어 난이도</th>\n",
       "      <th>relation2</th>\n",
       "      <th>관련어 word_id</th>\n",
       "      <th>관련어</th>\n",
       "      <th>의미번호.1</th>\n",
       "      <th>관련어 난이도</th>\n",
       "    </tr>\n",
       "  </thead>\n",
       "  <tbody>\n",
       "    <tr>\n",
       "      <td>0</td>\n",
       "      <td>1</td>\n",
       "      <td>2184</td>\n",
       "      <td>가톨릭</td>\n",
       "      <td>2</td>\n",
       "      <td>하</td>\n",
       "      <td>비슷한말</td>\n",
       "      <td>97798</td>\n",
       "      <td>서학</td>\n",
       "      <td>2</td>\n",
       "      <td>중</td>\n",
       "    </tr>\n",
       "    <tr>\n",
       "      <td>1</td>\n",
       "      <td>2</td>\n",
       "      <td>2186</td>\n",
       "      <td>가톨릭-교</td>\n",
       "      <td>1</td>\n",
       "      <td>중</td>\n",
       "      <td>비슷한말</td>\n",
       "      <td>16023</td>\n",
       "      <td>공교</td>\n",
       "      <td>2</td>\n",
       "      <td>상</td>\n",
       "    </tr>\n",
       "    <tr>\n",
       "      <td>2</td>\n",
       "      <td>3</td>\n",
       "      <td>2186</td>\n",
       "      <td>가톨릭-교</td>\n",
       "      <td>1</td>\n",
       "      <td>중</td>\n",
       "      <td>비슷한말</td>\n",
       "      <td>182393</td>\n",
       "      <td>천주-학</td>\n",
       "      <td>1</td>\n",
       "      <td>중</td>\n",
       "    </tr>\n",
       "    <tr>\n",
       "      <td>3</td>\n",
       "      <td>4</td>\n",
       "      <td>2186</td>\n",
       "      <td>가톨릭-교</td>\n",
       "      <td>1</td>\n",
       "      <td>중</td>\n",
       "      <td>비슷한말</td>\n",
       "      <td>176596</td>\n",
       "      <td>진교</td>\n",
       "      <td>2</td>\n",
       "      <td>상</td>\n",
       "    </tr>\n",
       "    <tr>\n",
       "      <td>4</td>\n",
       "      <td>5</td>\n",
       "      <td>2188</td>\n",
       "      <td>가톨릭-교도</td>\n",
       "      <td>1</td>\n",
       "      <td>중</td>\n",
       "      <td>비슷한말</td>\n",
       "      <td>182378</td>\n",
       "      <td>천좍-쟁이</td>\n",
       "      <td>1</td>\n",
       "      <td>상</td>\n",
       "    </tr>\n",
       "  </tbody>\n",
       "</table>\n",
       "</div>"
      ],
      "text/plain": [
       "   pair_id  표제어 kword_id     표제어  의미번호 표제어 난이도 relation2  관련어 word_id    관련어  \\\n",
       "0        1          2184     가톨릭     2       하      비슷한말        97798     서학   \n",
       "1        2          2186   가톨릭-교     1       중      비슷한말        16023     공교   \n",
       "2        3          2186   가톨릭-교     1       중      비슷한말       182393   천주-학   \n",
       "3        4          2186   가톨릭-교     1       중      비슷한말       176596     진교   \n",
       "4        5          2188  가톨릭-교도     1       중      비슷한말       182378  천좍-쟁이   \n",
       "\n",
       "   의미번호.1 관련어 난이도  \n",
       "0       2       중  \n",
       "1       2       상  \n",
       "2       1       중  \n",
       "3       2       상  \n",
       "4       1       상  "
      ]
     },
     "execution_count": 4,
     "metadata": {},
     "output_type": "execute_result"
    }
   ],
   "source": [
    "keyData=pd.read_csv('EZmeta30.csv',sep=',',encoding='UTF-8')\n",
    "keyData.head()"
   ]
  },
  {
   "cell_type": "code",
   "execution_count": 5,
   "metadata": {},
   "outputs": [
    {
     "data": {
      "text/plain": [
       "329696"
      ]
     },
     "execution_count": 5,
     "metadata": {},
     "output_type": "execute_result"
    }
   ],
   "source": [
    "len(keyData)"
   ]
  },
  {
   "cell_type": "code",
   "execution_count": 16,
   "metadata": {},
   "outputs": [
    {
     "data": {
      "text/plain": [
       "219251"
      ]
     },
     "execution_count": 16,
     "metadata": {},
     "output_type": "execute_result"
    }
   ],
   "source": [
    "len(df['표제어'])"
   ]
  },
  {
   "cell_type": "code",
   "execution_count": 11,
   "metadata": {},
   "outputs": [
    {
     "data": {
      "text/html": [
       "<div>\n",
       "<style scoped>\n",
       "    .dataframe tbody tr th:only-of-type {\n",
       "        vertical-align: middle;\n",
       "    }\n",
       "\n",
       "    .dataframe tbody tr th {\n",
       "        vertical-align: top;\n",
       "    }\n",
       "\n",
       "    .dataframe thead th {\n",
       "        text-align: right;\n",
       "    }\n",
       "</style>\n",
       "<table border=\"1\" class=\"dataframe\">\n",
       "  <thead>\n",
       "    <tr style=\"text-align: right;\">\n",
       "      <th></th>\n",
       "      <th>pair_id</th>\n",
       "      <th>표제어 kword_id</th>\n",
       "      <th>표제어</th>\n",
       "      <th>의미번호</th>\n",
       "      <th>표제어 난이도</th>\n",
       "      <th>relation2</th>\n",
       "      <th>관련어 word_id</th>\n",
       "      <th>관련어</th>\n",
       "      <th>의미번호.1</th>\n",
       "      <th>관련어 난이도</th>\n",
       "    </tr>\n",
       "  </thead>\n",
       "  <tbody>\n",
       "    <tr>\n",
       "      <td>60534</td>\n",
       "      <td>60535</td>\n",
       "      <td>185617</td>\n",
       "      <td>총</td>\n",
       "      <td>5</td>\n",
       "      <td>상</td>\n",
       "      <td>비슷한말</td>\n",
       "      <td>197682</td>\n",
       "      <td>파</td>\n",
       "      <td>1</td>\n",
       "      <td>하</td>\n",
       "    </tr>\n",
       "    <tr>\n",
       "      <td>63275</td>\n",
       "      <td>63276</td>\n",
       "      <td>185617</td>\n",
       "      <td>총</td>\n",
       "      <td>5</td>\n",
       "      <td>상</td>\n",
       "      <td>상위어</td>\n",
       "      <td>74239</td>\n",
       "      <td>백합-과</td>\n",
       "      <td>2</td>\n",
       "      <td>상</td>\n",
       "    </tr>\n",
       "    <tr>\n",
       "      <td>163143</td>\n",
       "      <td>163144</td>\n",
       "      <td>185616</td>\n",
       "      <td>총</td>\n",
       "      <td>4</td>\n",
       "      <td>하</td>\n",
       "      <td>비슷한말</td>\n",
       "      <td>185975</td>\n",
       "      <td>총포</td>\n",
       "      <td>1</td>\n",
       "      <td>중</td>\n",
       "    </tr>\n",
       "    <tr>\n",
       "      <td>163144</td>\n",
       "      <td>163145</td>\n",
       "      <td>185618</td>\n",
       "      <td>총</td>\n",
       "      <td>9</td>\n",
       "      <td>상</td>\n",
       "      <td>비슷한말</td>\n",
       "      <td>121720</td>\n",
       "      <td>애총</td>\n",
       "      <td>2</td>\n",
       "      <td>상</td>\n",
       "    </tr>\n",
       "    <tr>\n",
       "      <td>163145</td>\n",
       "      <td>163146</td>\n",
       "      <td>185618</td>\n",
       "      <td>총</td>\n",
       "      <td>9</td>\n",
       "      <td>상</td>\n",
       "      <td>비슷한말</td>\n",
       "      <td>121759</td>\n",
       "      <td>애행</td>\n",
       "      <td>3</td>\n",
       "      <td>상</td>\n",
       "    </tr>\n",
       "    <tr>\n",
       "      <td>185511</td>\n",
       "      <td>185512</td>\n",
       "      <td>185618</td>\n",
       "      <td>총</td>\n",
       "      <td>9</td>\n",
       "      <td>상</td>\n",
       "      <td>비슷한말</td>\n",
       "      <td>185843</td>\n",
       "      <td>총애</td>\n",
       "      <td>1</td>\n",
       "      <td>중</td>\n",
       "    </tr>\n",
       "    <tr>\n",
       "      <td>249574</td>\n",
       "      <td>249575</td>\n",
       "      <td>185616</td>\n",
       "      <td>총</td>\n",
       "      <td>4</td>\n",
       "      <td>하</td>\n",
       "      <td>상위어</td>\n",
       "      <td>63608</td>\n",
       "      <td>무기</td>\n",
       "      <td>5</td>\n",
       "      <td>하</td>\n",
       "    </tr>\n",
       "    <tr>\n",
       "      <td>320716</td>\n",
       "      <td>320717</td>\n",
       "      <td>185616</td>\n",
       "      <td>총</td>\n",
       "      <td>4</td>\n",
       "      <td>하</td>\n",
       "      <td>하위어</td>\n",
       "      <td>24259</td>\n",
       "      <td>권총</td>\n",
       "      <td>1</td>\n",
       "      <td>중</td>\n",
       "    </tr>\n",
       "    <tr>\n",
       "      <td>320717</td>\n",
       "      <td>320718</td>\n",
       "      <td>185616</td>\n",
       "      <td>총</td>\n",
       "      <td>4</td>\n",
       "      <td>하</td>\n",
       "      <td>하위어</td>\n",
       "      <td>213980</td>\n",
       "      <td>화승-대</td>\n",
       "      <td>1</td>\n",
       "      <td>상</td>\n",
       "    </tr>\n",
       "    <tr>\n",
       "      <td>320718</td>\n",
       "      <td>320719</td>\n",
       "      <td>185616</td>\n",
       "      <td>총</td>\n",
       "      <td>4</td>\n",
       "      <td>하</td>\n",
       "      <td>하위어</td>\n",
       "      <td>99263</td>\n",
       "      <td>선조-총</td>\n",
       "      <td>1</td>\n",
       "      <td>상</td>\n",
       "    </tr>\n",
       "    <tr>\n",
       "      <td>320719</td>\n",
       "      <td>320720</td>\n",
       "      <td>185616</td>\n",
       "      <td>총</td>\n",
       "      <td>4</td>\n",
       "      <td>하</td>\n",
       "      <td>하위어</td>\n",
       "      <td>62687</td>\n",
       "      <td>목총</td>\n",
       "      <td>1</td>\n",
       "      <td>상</td>\n",
       "    </tr>\n",
       "    <tr>\n",
       "      <td>320720</td>\n",
       "      <td>320721</td>\n",
       "      <td>185616</td>\n",
       "      <td>총</td>\n",
       "      <td>4</td>\n",
       "      <td>하</td>\n",
       "      <td>하위어</td>\n",
       "      <td>32186</td>\n",
       "      <td>나무-총</td>\n",
       "      <td>1</td>\n",
       "      <td>중</td>\n",
       "    </tr>\n",
       "    <tr>\n",
       "      <td>320721</td>\n",
       "      <td>320722</td>\n",
       "      <td>185616</td>\n",
       "      <td>총</td>\n",
       "      <td>4</td>\n",
       "      <td>하</td>\n",
       "      <td>하위어</td>\n",
       "      <td>41826</td>\n",
       "      <td>단총</td>\n",
       "      <td>1</td>\n",
       "      <td>상</td>\n",
       "    </tr>\n",
       "    <tr>\n",
       "      <td>320722</td>\n",
       "      <td>320723</td>\n",
       "      <td>185616</td>\n",
       "      <td>총</td>\n",
       "      <td>4</td>\n",
       "      <td>하</td>\n",
       "      <td>하위어</td>\n",
       "      <td>41147</td>\n",
       "      <td>단발-총</td>\n",
       "      <td>1</td>\n",
       "      <td>상</td>\n",
       "    </tr>\n",
       "    <tr>\n",
       "      <td>320723</td>\n",
       "      <td>320724</td>\n",
       "      <td>185616</td>\n",
       "      <td>총</td>\n",
       "      <td>4</td>\n",
       "      <td>하</td>\n",
       "      <td>하위어</td>\n",
       "      <td>129286</td>\n",
       "      <td>연발-총</td>\n",
       "      <td>1</td>\n",
       "      <td>중</td>\n",
       "    </tr>\n",
       "    <tr>\n",
       "      <td>320724</td>\n",
       "      <td>320725</td>\n",
       "      <td>185616</td>\n",
       "      <td>총</td>\n",
       "      <td>4</td>\n",
       "      <td>하</td>\n",
       "      <td>하위어</td>\n",
       "      <td>131206</td>\n",
       "      <td>엽총</td>\n",
       "      <td>1</td>\n",
       "      <td>중</td>\n",
       "    </tr>\n",
       "    <tr>\n",
       "      <td>320725</td>\n",
       "      <td>320726</td>\n",
       "      <td>185616</td>\n",
       "      <td>총</td>\n",
       "      <td>4</td>\n",
       "      <td>하</td>\n",
       "      <td>하위어</td>\n",
       "      <td>123847</td>\n",
       "      <td>양창</td>\n",
       "      <td>3</td>\n",
       "      <td>상</td>\n",
       "    </tr>\n",
       "    <tr>\n",
       "      <td>320726</td>\n",
       "      <td>320727</td>\n",
       "      <td>185616</td>\n",
       "      <td>총</td>\n",
       "      <td>4</td>\n",
       "      <td>하</td>\n",
       "      <td>하위어</td>\n",
       "      <td>54780</td>\n",
       "      <td>라이플-총</td>\n",
       "      <td>1</td>\n",
       "      <td>상</td>\n",
       "    </tr>\n",
       "    <tr>\n",
       "      <td>320727</td>\n",
       "      <td>320728</td>\n",
       "      <td>185616</td>\n",
       "      <td>총</td>\n",
       "      <td>4</td>\n",
       "      <td>하</td>\n",
       "      <td>하위어</td>\n",
       "      <td>41136</td>\n",
       "      <td>단발</td>\n",
       "      <td>4</td>\n",
       "      <td>중</td>\n",
       "    </tr>\n",
       "    <tr>\n",
       "      <td>320728</td>\n",
       "      <td>320729</td>\n",
       "      <td>185616</td>\n",
       "      <td>총</td>\n",
       "      <td>4</td>\n",
       "      <td>하</td>\n",
       "      <td>하위어</td>\n",
       "      <td>168298</td>\n",
       "      <td>조총</td>\n",
       "      <td>4</td>\n",
       "      <td>중</td>\n",
       "    </tr>\n",
       "    <tr>\n",
       "      <td>320729</td>\n",
       "      <td>320730</td>\n",
       "      <td>185616</td>\n",
       "      <td>총</td>\n",
       "      <td>4</td>\n",
       "      <td>하</td>\n",
       "      <td>하위어</td>\n",
       "      <td>41827</td>\n",
       "      <td>단총</td>\n",
       "      <td>2</td>\n",
       "      <td>상</td>\n",
       "    </tr>\n",
       "    <tr>\n",
       "      <td>320730</td>\n",
       "      <td>320731</td>\n",
       "      <td>185616</td>\n",
       "      <td>총</td>\n",
       "      <td>4</td>\n",
       "      <td>하</td>\n",
       "      <td>하위어</td>\n",
       "      <td>27818</td>\n",
       "      <td>기관-총</td>\n",
       "      <td>1</td>\n",
       "      <td>중</td>\n",
       "    </tr>\n",
       "    <tr>\n",
       "      <td>320731</td>\n",
       "      <td>320732</td>\n",
       "      <td>185616</td>\n",
       "      <td>총</td>\n",
       "      <td>4</td>\n",
       "      <td>하</td>\n",
       "      <td>하위어</td>\n",
       "      <td>16139</td>\n",
       "      <td>공기-총</td>\n",
       "      <td>1</td>\n",
       "      <td>중</td>\n",
       "    </tr>\n",
       "    <tr>\n",
       "      <td>320732</td>\n",
       "      <td>320733</td>\n",
       "      <td>185616</td>\n",
       "      <td>총</td>\n",
       "      <td>4</td>\n",
       "      <td>하</td>\n",
       "      <td>하위어</td>\n",
       "      <td>1293</td>\n",
       "      <td>가스-총</td>\n",
       "      <td>1</td>\n",
       "      <td>중</td>\n",
       "    </tr>\n",
       "    <tr>\n",
       "      <td>320733</td>\n",
       "      <td>320734</td>\n",
       "      <td>185616</td>\n",
       "      <td>총</td>\n",
       "      <td>4</td>\n",
       "      <td>하</td>\n",
       "      <td>하위어</td>\n",
       "      <td>29332</td>\n",
       "      <td>기총</td>\n",
       "      <td>2</td>\n",
       "      <td>중</td>\n",
       "    </tr>\n",
       "    <tr>\n",
       "      <td>320734</td>\n",
       "      <td>320735</td>\n",
       "      <td>185616</td>\n",
       "      <td>총</td>\n",
       "      <td>4</td>\n",
       "      <td>하</td>\n",
       "      <td>하위어</td>\n",
       "      <td>123922</td>\n",
       "      <td>양포</td>\n",
       "      <td>2</td>\n",
       "      <td>상</td>\n",
       "    </tr>\n",
       "    <tr>\n",
       "      <td>320735</td>\n",
       "      <td>320736</td>\n",
       "      <td>185616</td>\n",
       "      <td>총</td>\n",
       "      <td>4</td>\n",
       "      <td>하</td>\n",
       "      <td>하위어</td>\n",
       "      <td>123868</td>\n",
       "      <td>양총</td>\n",
       "      <td>1</td>\n",
       "      <td>상</td>\n",
       "    </tr>\n",
       "    <tr>\n",
       "      <td>320736</td>\n",
       "      <td>320737</td>\n",
       "      <td>185616</td>\n",
       "      <td>총</td>\n",
       "      <td>4</td>\n",
       "      <td>하</td>\n",
       "      <td>하위어</td>\n",
       "      <td>108006</td>\n",
       "      <td>수총</td>\n",
       "      <td>1</td>\n",
       "      <td>상</td>\n",
       "    </tr>\n",
       "    <tr>\n",
       "      <td>320737</td>\n",
       "      <td>320738</td>\n",
       "      <td>185616</td>\n",
       "      <td>총</td>\n",
       "      <td>4</td>\n",
       "      <td>하</td>\n",
       "      <td>하위어</td>\n",
       "      <td>1294</td>\n",
       "      <td>가스-총</td>\n",
       "      <td>2</td>\n",
       "      <td>중</td>\n",
       "    </tr>\n",
       "    <tr>\n",
       "      <td>320738</td>\n",
       "      <td>320739</td>\n",
       "      <td>185616</td>\n",
       "      <td>총</td>\n",
       "      <td>4</td>\n",
       "      <td>하</td>\n",
       "      <td>하위어</td>\n",
       "      <td>157881</td>\n",
       "      <td>장총</td>\n",
       "      <td>1</td>\n",
       "      <td>중</td>\n",
       "    </tr>\n",
       "    <tr>\n",
       "      <td>320739</td>\n",
       "      <td>320740</td>\n",
       "      <td>185616</td>\n",
       "      <td>총</td>\n",
       "      <td>4</td>\n",
       "      <td>하</td>\n",
       "      <td>하위어</td>\n",
       "      <td>88344</td>\n",
       "      <td>사냥-총</td>\n",
       "      <td>1</td>\n",
       "      <td>중</td>\n",
       "    </tr>\n",
       "    <tr>\n",
       "      <td>320740</td>\n",
       "      <td>320741</td>\n",
       "      <td>185616</td>\n",
       "      <td>총</td>\n",
       "      <td>4</td>\n",
       "      <td>하</td>\n",
       "      <td>하위어</td>\n",
       "      <td>213982</td>\n",
       "      <td>화승-총</td>\n",
       "      <td>1</td>\n",
       "      <td>상</td>\n",
       "    </tr>\n",
       "    <tr>\n",
       "      <td>320741</td>\n",
       "      <td>320742</td>\n",
       "      <td>185616</td>\n",
       "      <td>총</td>\n",
       "      <td>4</td>\n",
       "      <td>하</td>\n",
       "      <td>하위어</td>\n",
       "      <td>54779</td>\n",
       "      <td>라이플</td>\n",
       "      <td>1</td>\n",
       "      <td>상</td>\n",
       "    </tr>\n",
       "  </tbody>\n",
       "</table>\n",
       "</div>"
      ],
      "text/plain": [
       "        pair_id  표제어 kword_id 표제어  의미번호 표제어 난이도 relation2  관련어 word_id    관련어  \\\n",
       "60534     60535        185617   총     5       상      비슷한말       197682      파   \n",
       "63275     63276        185617   총     5       상       상위어        74239   백합-과   \n",
       "163143   163144        185616   총     4       하      비슷한말       185975     총포   \n",
       "163144   163145        185618   총     9       상      비슷한말       121720     애총   \n",
       "163145   163146        185618   총     9       상      비슷한말       121759     애행   \n",
       "185511   185512        185618   총     9       상      비슷한말       185843     총애   \n",
       "249574   249575        185616   총     4       하       상위어        63608     무기   \n",
       "320716   320717        185616   총     4       하       하위어        24259     권총   \n",
       "320717   320718        185616   총     4       하       하위어       213980   화승-대   \n",
       "320718   320719        185616   총     4       하       하위어        99263   선조-총   \n",
       "320719   320720        185616   총     4       하       하위어        62687     목총   \n",
       "320720   320721        185616   총     4       하       하위어        32186   나무-총   \n",
       "320721   320722        185616   총     4       하       하위어        41826     단총   \n",
       "320722   320723        185616   총     4       하       하위어        41147   단발-총   \n",
       "320723   320724        185616   총     4       하       하위어       129286   연발-총   \n",
       "320724   320725        185616   총     4       하       하위어       131206     엽총   \n",
       "320725   320726        185616   총     4       하       하위어       123847     양창   \n",
       "320726   320727        185616   총     4       하       하위어        54780  라이플-총   \n",
       "320727   320728        185616   총     4       하       하위어        41136     단발   \n",
       "320728   320729        185616   총     4       하       하위어       168298     조총   \n",
       "320729   320730        185616   총     4       하       하위어        41827     단총   \n",
       "320730   320731        185616   총     4       하       하위어        27818   기관-총   \n",
       "320731   320732        185616   총     4       하       하위어        16139   공기-총   \n",
       "320732   320733        185616   총     4       하       하위어         1293   가스-총   \n",
       "320733   320734        185616   총     4       하       하위어        29332     기총   \n",
       "320734   320735        185616   총     4       하       하위어       123922     양포   \n",
       "320735   320736        185616   총     4       하       하위어       123868     양총   \n",
       "320736   320737        185616   총     4       하       하위어       108006     수총   \n",
       "320737   320738        185616   총     4       하       하위어         1294   가스-총   \n",
       "320738   320739        185616   총     4       하       하위어       157881     장총   \n",
       "320739   320740        185616   총     4       하       하위어        88344   사냥-총   \n",
       "320740   320741        185616   총     4       하       하위어       213982   화승-총   \n",
       "320741   320742        185616   총     4       하       하위어        54779    라이플   \n",
       "\n",
       "        의미번호.1 관련어 난이도  \n",
       "60534        1       하  \n",
       "63275        2       상  \n",
       "163143       1       중  \n",
       "163144       2       상  \n",
       "163145       3       상  \n",
       "185511       1       중  \n",
       "249574       5       하  \n",
       "320716       1       중  \n",
       "320717       1       상  \n",
       "320718       1       상  \n",
       "320719       1       상  \n",
       "320720       1       중  \n",
       "320721       1       상  \n",
       "320722       1       상  \n",
       "320723       1       중  \n",
       "320724       1       중  \n",
       "320725       3       상  \n",
       "320726       1       상  \n",
       "320727       4       중  \n",
       "320728       4       중  \n",
       "320729       2       상  \n",
       "320730       1       중  \n",
       "320731       1       중  \n",
       "320732       1       중  \n",
       "320733       2       중  \n",
       "320734       2       상  \n",
       "320735       1       상  \n",
       "320736       1       상  \n",
       "320737       2       중  \n",
       "320738       1       중  \n",
       "320739       1       중  \n",
       "320740       1       상  \n",
       "320741       1       상  "
      ]
     },
     "execution_count": 11,
     "metadata": {},
     "output_type": "execute_result"
    }
   ],
   "source": [
    "keyData[keyData['표제어']=='총']"
   ]
  },
  {
   "cell_type": "code",
   "execution_count": 1,
   "metadata": {},
   "outputs": [
    {
     "ename": "NameError",
     "evalue": "name 'library' is not defined",
     "output_type": "error",
     "traceback": [
      "\u001b[1;31m---------------------------------------------------------------------------\u001b[0m",
      "\u001b[1;31mNameError\u001b[0m                                 Traceback (most recent call last)",
      "\u001b[1;32m<ipython-input-1-e834a52a3301>\u001b[0m in \u001b[0;36m<module>\u001b[1;34m\u001b[0m\n\u001b[1;32m----> 1\u001b[1;33m \u001b[0mlibrary\u001b[0m\u001b[1;33m(\u001b[0m\u001b[1;34m'dplyr'\u001b[0m\u001b[1;33m)\u001b[0m\u001b[1;33m\u001b[0m\u001b[1;33m\u001b[0m\u001b[0m\n\u001b[0m",
      "\u001b[1;31mNameError\u001b[0m: name 'library' is not defined"
     ]
    }
   ],
   "source": [
    "library('dplyr')"
   ]
  },
  {
   "cell_type": "code",
   "execution_count": null,
   "metadata": {},
   "outputs": [],
   "source": []
  }
 ],
 "metadata": {
  "kernelspec": {
   "display_name": "R",
   "language": "R",
   "name": "ir"
  },
  "language_info": {
   "codemirror_mode": {
    "name": "ipython",
    "version": 3
   },
   "file_extension": ".py",
   "mimetype": "text/x-python",
   "name": "python",
   "nbconvert_exporter": "python",
   "pygments_lexer": "ipython3",
   "version": "3.7.5"
  }
 },
 "nbformat": 4,
 "nbformat_minor": 2
}
