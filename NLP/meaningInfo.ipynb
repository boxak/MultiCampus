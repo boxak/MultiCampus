{
 "cells": [
  {
   "cell_type": "code",
   "execution_count": 1,
   "metadata": {},
   "outputs": [
    {
     "name": "stderr",
     "output_type": "stream",
     "text": [
      "\n",
      "Attaching package: 'dplyr'\n",
      "\n",
      "The following objects are masked from 'package:stats':\n",
      "\n",
      "    filter, lag\n",
      "\n",
      "The following objects are masked from 'package:base':\n",
      "\n",
      "    intersect, setdiff, setequal, union\n",
      "\n",
      "Warning message:\n",
      "\"package 'writexl' was built under R version 3.6.2\""
     ]
    }
   ],
   "source": [
    "library('dplyr')\n",
    "library('xlsx')\n",
    "library('writexl')"
   ]
  },
  {
   "cell_type": "code",
   "execution_count": 4,
   "metadata": {},
   "outputs": [],
   "source": [
    "data <- read.xlsx2(\"RefinedDataSet/RefinedData001.xlsx\",sheetIndex=1,startRow=1,header=TRUE)"
   ]
  },
  {
   "cell_type": "code",
   "execution_count": 5,
   "metadata": {},
   "outputs": [
    {
     "data": {
      "text/html": [
       "<table>\n",
       "<thead><tr><th scope=col>품사</th><th scope=col>의미.번호</th><th scope=col>뜻풀이.음절</th><th scope=col>뜻풀이.어절</th></tr></thead>\n",
       "<tbody>\n",
       "\t<tr><td>접사</td><td>002 </td><td>14  </td><td>6   </td></tr>\n",
       "\t<tr><td>어미</td><td>007 </td><td>51  </td><td>18  </td></tr>\n",
       "\t<tr><td>어미</td><td>009 </td><td>25  </td><td>9   </td></tr>\n",
       "\t<tr><td>어미</td><td>011 </td><td>11  </td><td>4   </td></tr>\n",
       "\t<tr><td>어미</td><td>006 </td><td>41  </td><td>15  </td></tr>\n",
       "\t<tr><td>어미</td><td>008 </td><td>41  </td><td>14  </td></tr>\n",
       "</tbody>\n",
       "</table>\n"
      ],
      "text/latex": [
       "\\begin{tabular}{r|llll}\n",
       " 품사 & 의미.번호 & 뜻풀이.음절 & 뜻풀이.어절\\\\\n",
       "\\hline\n",
       "\t 접사 & 002  & 14   & 6   \\\\\n",
       "\t 어미 & 007  & 51   & 18  \\\\\n",
       "\t 어미 & 009  & 25   & 9   \\\\\n",
       "\t 어미 & 011  & 11   & 4   \\\\\n",
       "\t 어미 & 006  & 41   & 15  \\\\\n",
       "\t 어미 & 008  & 41   & 14  \\\\\n",
       "\\end{tabular}\n"
      ],
      "text/markdown": [
       "\n",
       "| 품사 | 의미.번호 | 뜻풀이.음절 | 뜻풀이.어절 |\n",
       "|---|---|---|---|\n",
       "| 접사 | 002  | 14   | 6    |\n",
       "| 어미 | 007  | 51   | 18   |\n",
       "| 어미 | 009  | 25   | 9    |\n",
       "| 어미 | 011  | 11   | 4    |\n",
       "| 어미 | 006  | 41   | 15   |\n",
       "| 어미 | 008  | 41   | 14   |\n",
       "\n"
      ],
      "text/plain": [
       "  품사 의미.번호 뜻풀이.음절 뜻풀이.어절\n",
       "1 접사 002       14          6          \n",
       "2 어미 007       51          18         \n",
       "3 어미 009       25          9          \n",
       "4 어미 011       11          4          \n",
       "5 어미 006       41          15         \n",
       "6 어미 008       41          14         "
      ]
     },
     "metadata": {},
     "output_type": "display_data"
    }
   ],
   "source": [
    "head(data)"
   ]
  },
  {
   "cell_type": "code",
   "execution_count": 8,
   "metadata": {},
   "outputs": [
    {
     "name": "stderr",
     "output_type": "stream",
     "text": [
      "Warning message in mean.default(뜻풀이.음절):\n",
      "\"argument is not numeric or logical: returning NA\""
     ]
    }
   ],
   "source": [
    "meanValue <- summarize(data,mean=mean(뜻풀이.음절))"
   ]
  },
  {
   "cell_type": "code",
   "execution_count": null,
   "metadata": {},
   "outputs": [],
   "source": []
  }
 ],
 "metadata": {
  "kernelspec": {
   "display_name": "R",
   "language": "R",
   "name": "ir"
  },
  "language_info": {
   "codemirror_mode": "r",
   "file_extension": ".r",
   "mimetype": "text/x-r-source",
   "name": "R",
   "pygments_lexer": "r",
   "version": "3.6.1"
  }
 },
 "nbformat": 4,
 "nbformat_minor": 2
}
