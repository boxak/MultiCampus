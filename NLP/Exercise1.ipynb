{
 "cells": [
  {
   "cell_type": "code",
   "execution_count": 2,
   "metadata": {},
   "outputs": [],
   "source": [
    "### First try : Import 625576_50000.xls to this notebook.\n",
    "library(dplyr)\n",
    "library('gdata')\n",
    "library('xlsx')\n",
    "### these are necessary packages for handling xls data."
   ]
  },
  {
   "cell_type": "code",
   "execution_count": 3,
   "metadata": {},
   "outputs": [
    {
     "name": "stderr",
     "output_type": "stream",
     "text": [
      "Warning message in read.table(file = file, header = header, sep = sep, quote = quote, :\n",
      "\"입력 커넥션 'C:\\Users\\student\\AppData\\Local\\Temp\\Rtmp4Y4sF8\\file1e5479567099.csv'에서 유효하지 않은 입력을 찾았습니다\"Warning message in read.table(file = file, header = header, sep = sep, quote = quote, :\n",
      "\"'C:\\Users\\student\\AppData\\Local\\Temp\\Rtmp4Y4sF8\\file1e5479567099.csv'에서 readTableHeader에 의하여 발견된 완성되지 않은 마지막 라인입니다\""
     ]
    }
   ],
   "source": [
    "fileXls <- read.xls(\"625576_50000.xls\",sheet=1,fileEncoding=\"utf-8\")"
   ]
  },
  {
   "cell_type": "code",
   "execution_count": 4,
   "metadata": {},
   "outputs": [
    {
     "name": "stderr",
     "output_type": "stream",
     "text": [
      "Warning message in cbind(parts$left, ellip_h, parts$right, deparse.level = 0L):\n",
      "\"number of rows of result is not a multiple of vector length (arg 2)\"Warning message in cbind(parts$left, ellip_h, parts$right, deparse.level = 0L):\n",
      "\"number of rows of result is not a multiple of vector length (arg 2)\"Warning message in cbind(parts$left, ellip_h, parts$right, deparse.level = 0L):\n",
      "\"number of rows of result is not a multiple of vector length (arg 2)\"Warning message in cbind(parts$left, ellip_h, parts$right, deparse.level = 0L):\n",
      "\"number of rows of result is not a multiple of vector length (arg 2)\""
     ]
    },
    {
     "data": {
      "text/html": [
       "<table>\n",
       "<thead><tr><th scope=col>어휘</th><th scope=col>구성.단위</th><th scope=col>고유어.여부</th><th scope=col>로마자</th><th scope=col>로마자.글자</th><th scope=col>로마자.소리</th><th scope=col>원어</th><th scope=col>어원</th><th scope=col>발음</th><th scope=col>활용</th><th scope=col>...</th><th scope=col>전문.분야</th><th scope=col>관련.어휘</th><th scope=col>속담</th><th scope=col>관용구</th><th scope=col>대역어</th><th scope=col>생물.분류군.정보</th><th scope=col>역사.정보</th><th scope=col>수어.정보</th><th scope=col>규범.정보</th><th scope=col>다중.매체.멀티미디어..정보</th></tr></thead>\n",
       "<tbody>\n",
       "</tbody>\n",
       "</table>\n"
      ],
      "text/latex": [
       "\\begin{tabular}{r|lllllllllllllllllllllllllllll}\n",
       " 어휘 & 구성.단위 & 고유어.여부 & 로마자 & 로마자.글자 & 로마자.소리 & 원어 & 어원 & 발음 & 활용 & ... & 전문.분야 & 관련.어휘 & 속담 & 관용구 & 대역어 & 생물.분류군.정보 & 역사.정보 & 수어.정보 & 규범.정보 & 다중.매체.멀티미디어..정보\\\\\n",
       "\\hline\n",
       "\\end{tabular}\n"
      ],
      "text/markdown": [
       "\n",
       "| 어휘 | 구성.단위 | 고유어.여부 | 로마자 | 로마자.글자 | 로마자.소리 | 원어 | 어원 | 발음 | 활용 | ... | 전문.분야 | 관련.어휘 | 속담 | 관용구 | 대역어 | 생물.분류군.정보 | 역사.정보 | 수어.정보 | 규범.정보 | 다중.매체.멀티미디어..정보 |\n",
       "|---|---|---|---|---|---|---|---|---|---|---|---|---|---|---|---|---|---|---|---|---|\n",
       "\n"
      ],
      "text/plain": [
       "     어휘 구성.단위 고유어.여부 로마자 로마자.글자 로마자.소리 원어 어원 발음\n",
       "     활용 ... 전문.분야 관련.어휘 속담 관용구 대역어 생물.분류군.정보 역사.정보\n",
       "     수어.정보 규범.정보 다중.매체.멀티미디어..정보"
      ]
     },
     "metadata": {},
     "output_type": "display_data"
    }
   ],
   "source": [
    "### This DataFrame is perfectly defective. Only column names are printed.\n",
    "head(fileXls)\n",
    "### Why this result ? : Original Data has columns, having different length with each other.\n",
    "### -> Dirty data..."
   ]
  },
  {
   "cell_type": "code",
   "execution_count": 5,
   "metadata": {},
   "outputs": [],
   "source": [
    "### Second Try : xml -> DataFrame convert\n",
    "library('XML')"
   ]
  },
  {
   "cell_type": "code",
   "execution_count": 9,
   "metadata": {},
   "outputs": [],
   "source": [
    "result <- xmlToDataFrame(\"626248_50000.xml\")"
   ]
  },
  {
   "cell_type": "code",
   "execution_count": 10,
   "metadata": {},
   "outputs": [
    {
     "data": {
      "text/html": [
       "<table>\n",
       "<thead><tr><th scope=col>text</th><th scope=col>target_code</th><th scope=col>group_code</th><th scope=col>group_order</th><th scope=col>link</th><th scope=col>wordInfo</th><th scope=col>senseInfo</th></tr></thead>\n",
       "<tbody>\n",
       "\t<tr><td>사전 검색                                                                                                                                                                                                                                                                                                                                                                                                                                                                                                     </td><td>NA                                                                                                                                                                                                                                                                                                                                                                                                                                                                                                            </td><td>NA                                                                                                                                                                                                                                                                                                                                                                                                                                                                                                            </td><td>NA                                                                                                                                                                                                                                                                                                                                                                                                                                                                                                            </td><td>NA                                                                                                                                                                                                                                                                                                                                                                                                                                                                                                            </td><td>NA                                                                                                                                                                                                                                                                                                                                                                                                                                                                                                            </td><td>NA                                                                                                                                                                                                                                                                                                                                                                                                                                                                                                            </td></tr>\n",
       "\t<tr><td>http://opendict.korean.go.kr                                                                                                                                                                                                                                                                                                                                                                                                                                                                                  </td><td>NA                                                                                                                                                                                                                                                                                                                                                                                                                                                                                                            </td><td>NA                                                                                                                                                                                                                                                                                                                                                                                                                                                                                                            </td><td>NA                                                                                                                                                                                                                                                                                                                                                                                                                                                                                                            </td><td>NA                                                                                                                                                                                                                                                                                                                                                                                                                                                                                                            </td><td>NA                                                                                                                                                                                                                                                                                                                                                                                                                                                                                                            </td><td>NA                                                                                                                                                                                                                                                                                                                                                                                                                                                                                                            </td></tr>\n",
       "\t<tr><td>사전 검색 결과                                                                                                                                                                                                                                                                                                                                                                                                                                                                                                </td><td>NA                                                                                                                                                                                                                                                                                                                                                                                                                                                                                                            </td><td>NA                                                                                                                                                                                                                                                                                                                                                                                                                                                                                                            </td><td>NA                                                                                                                                                                                                                                                                                                                                                                                                                                                                                                            </td><td>NA                                                                                                                                                                                                                                                                                                                                                                                                                                                                                                            </td><td>NA                                                                                                                                                                                                                                                                                                                                                                                                                                                                                                            </td><td>NA                                                                                                                                                                                                                                                                                                                                                                                                                                                                                                            </td></tr>\n",
       "\t<tr><td>20191010195214                                                                                                                                                                                                                                                                                                                                                                                                                                                                                                </td><td>NA                                                                                                                                                                                                                                                                                                                                                                                                                                                                                                            </td><td>NA                                                                                                                                                                                                                                                                                                                                                                                                                                                                                                            </td><td>NA                                                                                                                                                                                                                                                                                                                                                                                                                                                                                                            </td><td>NA                                                                                                                                                                                                                                                                                                                                                                                                                                                                                                            </td><td>NA                                                                                                                                                                                                                                                                                                                                                                                                                                                                                                            </td><td>NA                                                                                                                                                                                                                                                                                                                                                                                                                                                                                                            </td></tr>\n",
       "\t<tr><td>50000                                                                                                                                                                                                                                                                                                                                                                                                                                                                                                         </td><td>NA                                                                                                                                                                                                                                                                                                                                                                                                                                                                                                            </td><td>NA                                                                                                                                                                                                                                                                                                                                                                                                                                                                                                            </td><td>NA                                                                                                                                                                                                                                                                                                                                                                                                                                                                                                            </td><td>NA                                                                                                                                                                                                                                                                                                                                                                                                                                                                                                            </td><td>NA                                                                                                                                                                                                                                                                                                                                                                                                                                                                                                            </td><td>NA                                                                                                                                                                                                                                                                                                                                                                                                                                                                                                            </td></tr>\n",
       "\t<tr><td>NA                                                                                                                                                                                                                                                                                                                                                                                                                                                                                                            </td><td>449066                                                                                                                                                                                                                                                                                                                                                                                                                                                                                                        </td><td>4                                                                                                                                                                                                                                                                                                                                                                                                                                                                                                             </td><td>1                                                                                                                                                                                                                                                                                                                                                                                                                                                                                                             </td><td>http://opendict.korean.go.kr/dictionary/view?sense_no=449066                                                                                                                                                                                                                                                                                                                                                                                                                                                  </td><td>ㄱ어휘고유어기역ㄱ만기영만                                                                                                                                                                                                                                                                                                                                                                                                                                                                                    </td><td>001명사일반어한글 자모의 첫째 글자. 기역이라 이르며, ‘가’에서와 같이 초성으로, ‘역’에서와 같이 종성으로 쓰인다. 목젖으로 콧길을 막고 혀뿌리를 높여 연구개를 막았다가 뗄 때 나는 무성음이다. 초성일 때는 무성이나 모음 사이에서는 유성음이 되며, 종성일 때는 혀뿌리를 떼지 않고 발음한다. 혀뿌리가 목구멍을 막는 모양을 본떠서 만든 글자이다.언어자음-자001상위어469594http://opendict.korean.go.kr/dictionary/view?sense_no=469594http://sldict.korean.go.kr/front/sign/signContentsView.do?origin_no=9344</td></tr>\n",
       "</tbody>\n",
       "</table>\n"
      ],
      "text/latex": [
       "\\begin{tabular}{r|lllllll}\n",
       " text & target\\_code & group\\_code & group\\_order & link & wordInfo & senseInfo\\\\\n",
       "\\hline\n",
       "\t 사전 검색                                                                                                                                                                                                                                                                                                                                                                                                                                                                                                      & NA                                                                                                                                                                                                                                                                                                                                                                                                                                                                                                             & NA                                                                                                                                                                                                                                                                                                                                                                                                                                                                                                             & NA                                                                                                                                                                                                                                                                                                                                                                                                                                                                                                             & NA                                                                                                                                                                                                                                                                                                                                                                                                                                                                                                             & NA                                                                                                                                                                                                                                                                                                                                                                                                                                                                                                             & NA                                                                                                                                                                                                                                                                                                                                                                                                                                                                                                            \\\\\n",
       "\t http://opendict.korean.go.kr                                                                                                                                                                                                                                                                                                                                                                                                                                                                                   & NA                                                                                                                                                                                                                                                                                                                                                                                                                                                                                                             & NA                                                                                                                                                                                                                                                                                                                                                                                                                                                                                                             & NA                                                                                                                                                                                                                                                                                                                                                                                                                                                                                                             & NA                                                                                                                                                                                                                                                                                                                                                                                                                                                                                                             & NA                                                                                                                                                                                                                                                                                                                                                                                                                                                                                                             & NA                                                                                                                                                                                                                                                                                                                                                                                                                                                                                                            \\\\\n",
       "\t 사전 검색 결과                                                                                                                                                                                                                                                                                                                                                                                                                                                                                                 & NA                                                                                                                                                                                                                                                                                                                                                                                                                                                                                                             & NA                                                                                                                                                                                                                                                                                                                                                                                                                                                                                                             & NA                                                                                                                                                                                                                                                                                                                                                                                                                                                                                                             & NA                                                                                                                                                                                                                                                                                                                                                                                                                                                                                                             & NA                                                                                                                                                                                                                                                                                                                                                                                                                                                                                                             & NA                                                                                                                                                                                                                                                                                                                                                                                                                                                                                                            \\\\\n",
       "\t 20191010195214                                                                                                                                                                                                                                                                                                                                                                                                                                                                                                 & NA                                                                                                                                                                                                                                                                                                                                                                                                                                                                                                             & NA                                                                                                                                                                                                                                                                                                                                                                                                                                                                                                             & NA                                                                                                                                                                                                                                                                                                                                                                                                                                                                                                             & NA                                                                                                                                                                                                                                                                                                                                                                                                                                                                                                             & NA                                                                                                                                                                                                                                                                                                                                                                                                                                                                                                             & NA                                                                                                                                                                                                                                                                                                                                                                                                                                                                                                            \\\\\n",
       "\t 50000                                                                                                                                                                                                                                                                                                                                                                                                                                                                                                          & NA                                                                                                                                                                                                                                                                                                                                                                                                                                                                                                             & NA                                                                                                                                                                                                                                                                                                                                                                                                                                                                                                             & NA                                                                                                                                                                                                                                                                                                                                                                                                                                                                                                             & NA                                                                                                                                                                                                                                                                                                                                                                                                                                                                                                             & NA                                                                                                                                                                                                                                                                                                                                                                                                                                                                                                             & NA                                                                                                                                                                                                                                                                                                                                                                                                                                                                                                            \\\\\n",
       "\t NA                                                                                                                                                                                                                                                                                                                                                                                                                                                                                                                 & 449066                                                                                                                                                                                                                                                                                                                                                                                                                                                                                                             & 4                                                                                                                                                                                                                                                                                                                                                                                                                                                                                                                  & 1                                                                                                                                                                                                                                                                                                                                                                                                                                                                                                                  & http://opendict.korean.go.kr/dictionary/view?sense\\_no=449066                                                                                                                                                                                                                                                                                                                                                                                                                                                     & ㄱ어휘고유어기역ㄱ만기영만                                                                                                                                                                                                                                                                                                                                                                                                                                                                                         & 001명사일반어한글 자모의 첫째 글자. 기역이라 이르며, ‘가’에서와 같이 초성으로, ‘역’에서와 같이 종성으로 쓰인다. 목젖으로 콧길을 막고 혀뿌리를 높여 연구개를 막았다가 뗄 때 나는 무성음이다. 초성일 때는 무성이나 모음 사이에서는 유성음이 되며, 종성일 때는 혀뿌리를 떼지 않고 발음한다. 혀뿌리가 목구멍을 막는 모양을 본떠서 만든 글자이다.언어자음-자001상위어469594http://opendict.korean.go.kr/dictionary/view?sense\\_no=469594http://sldict.korean.go.kr/front/sign/signContentsView.do?origin\\_no=9344\\\\\n",
       "\\end{tabular}\n"
      ],
      "text/markdown": [
       "\n",
       "| text | target_code | group_code | group_order | link | wordInfo | senseInfo |\n",
       "|---|---|---|---|---|---|---|\n",
       "| 사전 검색                                                                                                                                                                                                                                                                                                                                                                                                                                                                                                      | NA                                                                                                                                                                                                                                                                                                                                                                                                                                                                                                             | NA                                                                                                                                                                                                                                                                                                                                                                                                                                                                                                             | NA                                                                                                                                                                                                                                                                                                                                                                                                                                                                                                             | NA                                                                                                                                                                                                                                                                                                                                                                                                                                                                                                             | NA                                                                                                                                                                                                                                                                                                                                                                                                                                                                                                             | NA                                                                                                                                                                                                                                                                                                                                                                                                                                                                                                             |\n",
       "| http://opendict.korean.go.kr                                                                                                                                                                                                                                                                                                                                                                                                                                                                                   | NA                                                                                                                                                                                                                                                                                                                                                                                                                                                                                                             | NA                                                                                                                                                                                                                                                                                                                                                                                                                                                                                                             | NA                                                                                                                                                                                                                                                                                                                                                                                                                                                                                                             | NA                                                                                                                                                                                                                                                                                                                                                                                                                                                                                                             | NA                                                                                                                                                                                                                                                                                                                                                                                                                                                                                                             | NA                                                                                                                                                                                                                                                                                                                                                                                                                                                                                                             |\n",
       "| 사전 검색 결과                                                                                                                                                                                                                                                                                                                                                                                                                                                                                                 | NA                                                                                                                                                                                                                                                                                                                                                                                                                                                                                                             | NA                                                                                                                                                                                                                                                                                                                                                                                                                                                                                                             | NA                                                                                                                                                                                                                                                                                                                                                                                                                                                                                                             | NA                                                                                                                                                                                                                                                                                                                                                                                                                                                                                                             | NA                                                                                                                                                                                                                                                                                                                                                                                                                                                                                                             | NA                                                                                                                                                                                                                                                                                                                                                                                                                                                                                                             |\n",
       "| 20191010195214                                                                                                                                                                                                                                                                                                                                                                                                                                                                                                 | NA                                                                                                                                                                                                                                                                                                                                                                                                                                                                                                             | NA                                                                                                                                                                                                                                                                                                                                                                                                                                                                                                             | NA                                                                                                                                                                                                                                                                                                                                                                                                                                                                                                             | NA                                                                                                                                                                                                                                                                                                                                                                                                                                                                                                             | NA                                                                                                                                                                                                                                                                                                                                                                                                                                                                                                             | NA                                                                                                                                                                                                                                                                                                                                                                                                                                                                                                             |\n",
       "| 50000                                                                                                                                                                                                                                                                                                                                                                                                                                                                                                          | NA                                                                                                                                                                                                                                                                                                                                                                                                                                                                                                             | NA                                                                                                                                                                                                                                                                                                                                                                                                                                                                                                             | NA                                                                                                                                                                                                                                                                                                                                                                                                                                                                                                             | NA                                                                                                                                                                                                                                                                                                                                                                                                                                                                                                             | NA                                                                                                                                                                                                                                                                                                                                                                                                                                                                                                             | NA                                                                                                                                                                                                                                                                                                                                                                                                                                                                                                             |\n",
       "| NA                                                                                                                                                                                                                                                                                                                                                                                                                                                                                                             | 449066                                                                                                                                                                                                                                                                                                                                                                                                                                                                                                         | 4                                                                                                                                                                                                                                                                                                                                                                                                                                                                                                              | 1                                                                                                                                                                                                                                                                                                                                                                                                                                                                                                              | http://opendict.korean.go.kr/dictionary/view?sense_no=449066                                                                                                                                                                                                                                                                                                                                                                                                                                                   | ㄱ어휘고유어기역ㄱ만기영만                                                                                                                                                                                                                                                                                                                                                                                                                                                                                     | 001명사일반어한글 자모의 첫째 글자. 기역이라 이르며, ‘가’에서와 같이 초성으로, ‘역’에서와 같이 종성으로 쓰인다. 목젖으로 콧길을 막고 혀뿌리를 높여 연구개를 막았다가 뗄 때 나는 무성음이다. 초성일 때는 무성이나 모음 사이에서는 유성음이 되며, 종성일 때는 혀뿌리를 떼지 않고 발음한다. 혀뿌리가 목구멍을 막는 모양을 본떠서 만든 글자이다.언어자음-자001상위어469594http://opendict.korean.go.kr/dictionary/view?sense_no=469594http://sldict.korean.go.kr/front/sign/signContentsView.do?origin_no=9344 |\n",
       "\n"
      ],
      "text/plain": [
       "  text                         target_code group_code group_order\n",
       "1 사전 검색                    NA          NA         NA         \n",
       "2 http://opendict.korean.go.kr NA          NA         NA         \n",
       "3 사전 검색 결과               NA          NA         NA         \n",
       "4 20191010195214               NA          NA         NA         \n",
       "5 50000                        NA          NA         NA         \n",
       "6 NA                           449066      4          1          \n",
       "  link                                                        \n",
       "1 NA                                                          \n",
       "2 NA                                                          \n",
       "3 NA                                                          \n",
       "4 NA                                                          \n",
       "5 NA                                                          \n",
       "6 http://opendict.korean.go.kr/dictionary/view?sense_no=449066\n",
       "  wordInfo                  \n",
       "1 NA                        \n",
       "2 NA                        \n",
       "3 NA                        \n",
       "4 NA                        \n",
       "5 NA                        \n",
       "6 ㄱ어휘고유어기역ㄱ만기영만\n",
       "  senseInfo                                                                                                                                                                                                                                                                                                                                                                                                                                                                                                     \n",
       "1 NA                                                                                                                                                                                                                                                                                                                                                                                                                                                                                                            \n",
       "2 NA                                                                                                                                                                                                                                                                                                                                                                                                                                                                                                            \n",
       "3 NA                                                                                                                                                                                                                                                                                                                                                                                                                                                                                                            \n",
       "4 NA                                                                                                                                                                                                                                                                                                                                                                                                                                                                                                            \n",
       "5 NA                                                                                                                                                                                                                                                                                                                                                                                                                                                                                                            \n",
       "6 001명사일반어한글 자모의 첫째 글자. 기역이라 이르며, ‘가’에서와 같이 초성으로, ‘역’에서와 같이 종성으로 쓰인다. 목젖으로 콧길을 막고 혀뿌리를 높여 연구개를 막았다가 뗄 때 나는 무성음이다. 초성일 때는 무성이나 모음 사이에서는 유성음이 되며, 종성일 때는 혀뿌리를 떼지 않고 발음한다. 혀뿌리가 목구멍을 막는 모양을 본떠서 만든 글자이다.언어자음-자001상위어469594http://opendict.korean.go.kr/dictionary/view?sense_no=469594http://sldict.korean.go.kr/front/sign/signContentsView.do?origin_no=9344"
      ]
     },
     "metadata": {},
     "output_type": "display_data"
    }
   ],
   "source": [
    "### This DataFrame dosen't have right columns. All of the columns are wrong. \n",
    "head(result)"
   ]
  },
  {
   "cell_type": "code",
   "execution_count": 12,
   "metadata": {},
   "outputs": [],
   "source": [
    "### Third Try : Refine the Data. Removing characters which are not\n",
    "### form of letter. And Converting Korean into English.\n",
    "df <- read.xlsx2(\"Refined1.xlsx\",sheetIndex=1,startRow=1,header=TRUE)"
   ]
  },
  {
   "cell_type": "code",
   "execution_count": 13,
   "metadata": {},
   "outputs": [
    {
     "data": {
      "text/html": [
       "<table>\n",
       "<thead><tr><th scope=col>Index</th><th scope=col>partsOfSpeech</th><th scope=col>numberOfMeaning</th><th scope=col>numberOfRelation</th><th scope=col>numberOfSyllable</th><th scope=col>numberOfWord</th></tr></thead>\n",
       "<tbody>\n",
       "\t<tr><td>1    </td><td>Noun </td><td>1    </td><td>0    </td><td>132  </td><td>44   </td></tr>\n",
       "\t<tr><td>2    </td><td>Affix</td><td>2    </td><td>0    </td><td>14   </td><td>6    </td></tr>\n",
       "\t<tr><td>3    </td><td>Noun </td><td>1    </td><td>9    </td><td>14   </td><td>7    </td></tr>\n",
       "\t<tr><td>4    </td><td>Noun </td><td>1    </td><td>9    </td><td>14   </td><td>7    </td></tr>\n",
       "\t<tr><td>5    </td><td>Noun </td><td>1    </td><td>9    </td><td>14   </td><td>7    </td></tr>\n",
       "\t<tr><td>6    </td><td>Noun </td><td>1    </td><td>9    </td><td>14   </td><td>7    </td></tr>\n",
       "</tbody>\n",
       "</table>\n"
      ],
      "text/latex": [
       "\\begin{tabular}{r|llllll}\n",
       " Index & partsOfSpeech & numberOfMeaning & numberOfRelation & numberOfSyllable & numberOfWord\\\\\n",
       "\\hline\n",
       "\t 1     & Noun  & 1     & 0     & 132   & 44   \\\\\n",
       "\t 2     & Affix & 2     & 0     & 14    & 6    \\\\\n",
       "\t 3     & Noun  & 1     & 9     & 14    & 7    \\\\\n",
       "\t 4     & Noun  & 1     & 9     & 14    & 7    \\\\\n",
       "\t 5     & Noun  & 1     & 9     & 14    & 7    \\\\\n",
       "\t 6     & Noun  & 1     & 9     & 14    & 7    \\\\\n",
       "\\end{tabular}\n"
      ],
      "text/markdown": [
       "\n",
       "| Index | partsOfSpeech | numberOfMeaning | numberOfRelation | numberOfSyllable | numberOfWord |\n",
       "|---|---|---|---|---|---|\n",
       "| 1     | Noun  | 1     | 0     | 132   | 44    |\n",
       "| 2     | Affix | 2     | 0     | 14    | 6     |\n",
       "| 3     | Noun  | 1     | 9     | 14    | 7     |\n",
       "| 4     | Noun  | 1     | 9     | 14    | 7     |\n",
       "| 5     | Noun  | 1     | 9     | 14    | 7     |\n",
       "| 6     | Noun  | 1     | 9     | 14    | 7     |\n",
       "\n"
      ],
      "text/plain": [
       "  Index partsOfSpeech numberOfMeaning numberOfRelation numberOfSyllable\n",
       "1 1     Noun          1               0                132             \n",
       "2 2     Affix         2               0                14              \n",
       "3 3     Noun          1               9                14              \n",
       "4 4     Noun          1               9                14              \n",
       "5 5     Noun          1               9                14              \n",
       "6 6     Noun          1               9                14              \n",
       "  numberOfWord\n",
       "1 44          \n",
       "2 6           \n",
       "3 7           \n",
       "4 7           \n",
       "5 7           \n",
       "6 7           "
      ]
     },
     "metadata": {},
     "output_type": "display_data"
    }
   ],
   "source": [
    "### Success importing data...\n",
    "head(df)"
   ]
  },
  {
   "cell_type": "code",
   "execution_count": 14,
   "metadata": {},
   "outputs": [
    {
     "data": {
      "text/html": [
       "<table>\n",
       "<thead><tr><th scope=col>partsOfSpeech</th><th scope=col>n</th></tr></thead>\n",
       "<tbody>\n",
       "\t<tr><td>Adjective   </td><td> 1870       </td></tr>\n",
       "\t<tr><td>AdjNoun     </td><td>  115       </td></tr>\n",
       "\t<tr><td>Adverb      </td><td> 1539       </td></tr>\n",
       "\t<tr><td>Affix       </td><td>   49       </td></tr>\n",
       "\t<tr><td>AuxVerb     </td><td>    4       </td></tr>\n",
       "\t<tr><td>DepNoun     </td><td>   74       </td></tr>\n",
       "\t<tr><td>EndOfWord   </td><td>  128       </td></tr>\n",
       "\t<tr><td>Interjection</td><td>   49       </td></tr>\n",
       "\t<tr><td>InterNoun   </td><td>    3       </td></tr>\n",
       "\t<tr><td>KorAdjective</td><td>    6       </td></tr>\n",
       "\t<tr><td>NoForm      </td><td>16401       </td></tr>\n",
       "\t<tr><td>Noun        </td><td>24437       </td></tr>\n",
       "\t<tr><td>NounAdv     </td><td>    2       </td></tr>\n",
       "\t<tr><td>NumAdj      </td><td>    2       </td></tr>\n",
       "\t<tr><td>Postposition</td><td>   16       </td></tr>\n",
       "\t<tr><td>ProInter    </td><td>    2       </td></tr>\n",
       "\t<tr><td>Verb        </td><td> 5276       </td></tr>\n",
       "\t<tr><td>대Noun      </td><td>   27       </td></tr>\n",
       "</tbody>\n",
       "</table>\n"
      ],
      "text/latex": [
       "\\begin{tabular}{r|ll}\n",
       " partsOfSpeech & n\\\\\n",
       "\\hline\n",
       "\t Adjective    &  1870       \\\\\n",
       "\t AdjNoun      &   115       \\\\\n",
       "\t Adverb       &  1539       \\\\\n",
       "\t Affix        &    49       \\\\\n",
       "\t AuxVerb      &     4       \\\\\n",
       "\t DepNoun      &    74       \\\\\n",
       "\t EndOfWord    &   128       \\\\\n",
       "\t Interjection &    49       \\\\\n",
       "\t InterNoun    &     3       \\\\\n",
       "\t KorAdjective &     6       \\\\\n",
       "\t NoForm       & 16401       \\\\\n",
       "\t Noun         & 24437       \\\\\n",
       "\t NounAdv      &     2       \\\\\n",
       "\t NumAdj       &     2       \\\\\n",
       "\t Postposition &    16       \\\\\n",
       "\t ProInter     &     2       \\\\\n",
       "\t Verb         &  5276       \\\\\n",
       "\t 대Noun       &    27       \\\\\n",
       "\\end{tabular}\n"
      ],
      "text/markdown": [
       "\n",
       "| partsOfSpeech | n |\n",
       "|---|---|\n",
       "| Adjective    |  1870        |\n",
       "| AdjNoun      |   115        |\n",
       "| Adverb       |  1539        |\n",
       "| Affix        |    49        |\n",
       "| AuxVerb      |     4        |\n",
       "| DepNoun      |    74        |\n",
       "| EndOfWord    |   128        |\n",
       "| Interjection |    49        |\n",
       "| InterNoun    |     3        |\n",
       "| KorAdjective |     6        |\n",
       "| NoForm       | 16401        |\n",
       "| Noun         | 24437        |\n",
       "| NounAdv      |     2        |\n",
       "| NumAdj       |     2        |\n",
       "| Postposition |    16        |\n",
       "| ProInter     |     2        |\n",
       "| Verb         |  5276        |\n",
       "| 대Noun       |    27        |\n",
       "\n"
      ],
      "text/plain": [
       "   partsOfSpeech n    \n",
       "1  Adjective      1870\n",
       "2  AdjNoun         115\n",
       "3  Adverb         1539\n",
       "4  Affix            49\n",
       "5  AuxVerb           4\n",
       "6  DepNoun          74\n",
       "7  EndOfWord       128\n",
       "8  Interjection     49\n",
       "9  InterNoun         3\n",
       "10 KorAdjective      6\n",
       "11 NoForm        16401\n",
       "12 Noun          24437\n",
       "13 NounAdv           2\n",
       "14 NumAdj            2\n",
       "15 Postposition     16\n",
       "16 ProInter          2\n",
       "17 Verb           5276\n",
       "18 대Noun           27"
      ]
     },
     "metadata": {},
     "output_type": "display_data"
    }
   ],
   "source": [
    "### 품사별 의미어 개수\n",
    "df %>%\n",
    "    count(partsOfSpeech)"
   ]
  },
  {
   "cell_type": "code",
   "execution_count": 15,
   "metadata": {},
   "outputs": [
    {
     "data": {
      "text/html": [
       "<table>\n",
       "<thead><tr><th scope=col>partsOfSpeech</th><th scope=col>n</th></tr></thead>\n",
       "<tbody>\n",
       "\t<tr><td>Adjective   </td><td> 1395       </td></tr>\n",
       "\t<tr><td>AdjNoun     </td><td>   98       </td></tr>\n",
       "\t<tr><td>Adverb      </td><td> 1074       </td></tr>\n",
       "\t<tr><td>Affix       </td><td>    2       </td></tr>\n",
       "\t<tr><td>DepNoun     </td><td>   17       </td></tr>\n",
       "\t<tr><td>EndOfWord   </td><td>   78       </td></tr>\n",
       "\t<tr><td>Interjection</td><td>   24       </td></tr>\n",
       "\t<tr><td>InterNoun   </td><td>    3       </td></tr>\n",
       "\t<tr><td>KorAdjective</td><td>    6       </td></tr>\n",
       "\t<tr><td>NoForm      </td><td>15895       </td></tr>\n",
       "\t<tr><td>Noun        </td><td>18506       </td></tr>\n",
       "\t<tr><td>NounAdv     </td><td>    2       </td></tr>\n",
       "\t<tr><td>Postposition</td><td>    3       </td></tr>\n",
       "\t<tr><td>ProInter    </td><td>    2       </td></tr>\n",
       "\t<tr><td>Verb        </td><td> 3443       </td></tr>\n",
       "\t<tr><td>대Noun      </td><td>   13       </td></tr>\n",
       "</tbody>\n",
       "</table>\n"
      ],
      "text/latex": [
       "\\begin{tabular}{r|ll}\n",
       " partsOfSpeech & n\\\\\n",
       "\\hline\n",
       "\t Adjective    &  1395       \\\\\n",
       "\t AdjNoun      &    98       \\\\\n",
       "\t Adverb       &  1074       \\\\\n",
       "\t Affix        &     2       \\\\\n",
       "\t DepNoun      &    17       \\\\\n",
       "\t EndOfWord    &    78       \\\\\n",
       "\t Interjection &    24       \\\\\n",
       "\t InterNoun    &     3       \\\\\n",
       "\t KorAdjective &     6       \\\\\n",
       "\t NoForm       & 15895       \\\\\n",
       "\t Noun         & 18506       \\\\\n",
       "\t NounAdv      &     2       \\\\\n",
       "\t Postposition &     3       \\\\\n",
       "\t ProInter     &     2       \\\\\n",
       "\t Verb         &  3443       \\\\\n",
       "\t 대Noun       &    13       \\\\\n",
       "\\end{tabular}\n"
      ],
      "text/markdown": [
       "\n",
       "| partsOfSpeech | n |\n",
       "|---|---|\n",
       "| Adjective    |  1395        |\n",
       "| AdjNoun      |    98        |\n",
       "| Adverb       |  1074        |\n",
       "| Affix        |     2        |\n",
       "| DepNoun      |    17        |\n",
       "| EndOfWord    |    78        |\n",
       "| Interjection |    24        |\n",
       "| InterNoun    |     3        |\n",
       "| KorAdjective |     6        |\n",
       "| NoForm       | 15895        |\n",
       "| Noun         | 18506        |\n",
       "| NounAdv      |     2        |\n",
       "| Postposition |     3        |\n",
       "| ProInter     |     2        |\n",
       "| Verb         |  3443        |\n",
       "| 대Noun       |    13        |\n",
       "\n"
      ],
      "text/plain": [
       "   partsOfSpeech n    \n",
       "1  Adjective      1395\n",
       "2  AdjNoun          98\n",
       "3  Adverb         1074\n",
       "4  Affix             2\n",
       "5  DepNoun          17\n",
       "6  EndOfWord        78\n",
       "7  Interjection     24\n",
       "8  InterNoun         3\n",
       "9  KorAdjective      6\n",
       "10 NoForm        15895\n",
       "11 Noun          18506\n",
       "12 NounAdv           2\n",
       "13 Postposition      3\n",
       "14 ProInter          2\n",
       "15 Verb           3443\n",
       "16 대Noun           13"
      ]
     },
     "metadata": {},
     "output_type": "display_data"
    }
   ],
   "source": [
    "### 품사별 표제어 개수\n",
    "filter(df,numberOfMeaning==1) %>%\n",
    "    count(partsOfSpeech)"
   ]
  },
  {
   "cell_type": "code",
   "execution_count": 1,
   "metadata": {},
   "outputs": [
    {
     "ename": "ERROR",
     "evalue": "Error in df$numberOfSyllable: 객체의 타입 'closure'는 부분대입할 수 없습니다\n",
     "output_type": "error",
     "traceback": [
      "Error in df$numberOfSyllable: 객체의 타입 'closure'는 부분대입할 수 없습니다\nTraceback:\n",
      "1. head(df$numberOfSyllable)"
     ]
    }
   ],
   "source": [
    "### 의미어별 뜻풀이의 음절 수 분포\n",
    "head(df$numberOfSyllable)\n",
    "str(df)"
   ]
  },
  {
   "cell_type": "code",
   "execution_count": 21,
   "metadata": {},
   "outputs": [
    {
     "data": {
      "text/html": [
       "'factor'"
      ],
      "text/latex": [
       "'factor'"
      ],
      "text/markdown": [
       "'factor'"
      ],
      "text/plain": [
       "[1] \"factor\""
      ]
     },
     "metadata": {},
     "output_type": "display_data"
    }
   ],
   "source": [
    "class(df$numberOfSyllable[2])"
   ]
  },
  {
   "cell_type": "code",
   "execution_count": 1,
   "metadata": {},
   "outputs": [],
   "source": [
    "### 새로운 데이터 받기\n",
    "library('xlsx')"
   ]
  },
  {
   "cell_type": "code",
   "execution_count": 3,
   "metadata": {},
   "outputs": [
    {
     "data": {
      "text/html": [
       "<ol class=list-inline>\n",
       "\t<li>'DATA_01.xls'</li>\n",
       "\t<li>'DATA_02.xls'</li>\n",
       "\t<li>'DATA_03.xls'</li>\n",
       "\t<li>'DATA_04.xls'</li>\n",
       "\t<li>'DATA_05.xls'</li>\n",
       "\t<li>'DATA_06.xls'</li>\n",
       "\t<li>'DATA_07.xls'</li>\n",
       "\t<li>'DATA_08.xls'</li>\n",
       "\t<li>'DATA_09.xls'</li>\n",
       "\t<li>'DATA_10.xls'</li>\n",
       "\t<li>'DATA_11.xls'</li>\n",
       "\t<li>'DATA_12.xls'</li>\n",
       "\t<li>'DATA_13.xls'</li>\n",
       "\t<li>'DATA_14.xls'</li>\n",
       "\t<li>'DATA_15.xls'</li>\n",
       "\t<li>'DATA_16.xls'</li>\n",
       "\t<li>'DATA_17.xls'</li>\n",
       "\t<li>'DATA_18.xls'</li>\n",
       "\t<li>'DATA_19.xls'</li>\n",
       "</ol>\n"
      ],
      "text/latex": [
       "\\begin{enumerate*}\n",
       "\\item 'DATA\\_01.xls'\n",
       "\\item 'DATA\\_02.xls'\n",
       "\\item 'DATA\\_03.xls'\n",
       "\\item 'DATA\\_04.xls'\n",
       "\\item 'DATA\\_05.xls'\n",
       "\\item 'DATA\\_06.xls'\n",
       "\\item 'DATA\\_07.xls'\n",
       "\\item 'DATA\\_08.xls'\n",
       "\\item 'DATA\\_09.xls'\n",
       "\\item 'DATA\\_10.xls'\n",
       "\\item 'DATA\\_11.xls'\n",
       "\\item 'DATA\\_12.xls'\n",
       "\\item 'DATA\\_13.xls'\n",
       "\\item 'DATA\\_14.xls'\n",
       "\\item 'DATA\\_15.xls'\n",
       "\\item 'DATA\\_16.xls'\n",
       "\\item 'DATA\\_17.xls'\n",
       "\\item 'DATA\\_18.xls'\n",
       "\\item 'DATA\\_19.xls'\n",
       "\\end{enumerate*}\n"
      ],
      "text/markdown": [
       "1. 'DATA_01.xls'\n",
       "2. 'DATA_02.xls'\n",
       "3. 'DATA_03.xls'\n",
       "4. 'DATA_04.xls'\n",
       "5. 'DATA_05.xls'\n",
       "6. 'DATA_06.xls'\n",
       "7. 'DATA_07.xls'\n",
       "8. 'DATA_08.xls'\n",
       "9. 'DATA_09.xls'\n",
       "10. 'DATA_10.xls'\n",
       "11. 'DATA_11.xls'\n",
       "12. 'DATA_12.xls'\n",
       "13. 'DATA_13.xls'\n",
       "14. 'DATA_14.xls'\n",
       "15. 'DATA_15.xls'\n",
       "16. 'DATA_16.xls'\n",
       "17. 'DATA_17.xls'\n",
       "18. 'DATA_18.xls'\n",
       "19. 'DATA_19.xls'\n",
       "\n",
       "\n"
      ],
      "text/plain": [
       " [1] \"DATA_01.xls\" \"DATA_02.xls\" \"DATA_03.xls\" \"DATA_04.xls\" \"DATA_05.xls\"\n",
       " [6] \"DATA_06.xls\" \"DATA_07.xls\" \"DATA_08.xls\" \"DATA_09.xls\" \"DATA_10.xls\"\n",
       "[11] \"DATA_11.xls\" \"DATA_12.xls\" \"DATA_13.xls\" \"DATA_14.xls\" \"DATA_15.xls\"\n",
       "[16] \"DATA_16.xls\" \"DATA_17.xls\" \"DATA_18.xls\" \"DATA_19.xls\""
      ]
     },
     "metadata": {},
     "output_type": "display_data"
    }
   ],
   "source": [
    "file_names <- vector()\n",
    "for(i in 1:19){\n",
    "    if(i<10){\n",
    "        str <- paste0(\"DATA_0\",as.character(i),\".xls\")\n",
    "        file_names <- c(file_names,str)\n",
    "    }\n",
    "    else{\n",
    "        str <- paste0(\"DATA_\",as.character(i),\".xls\")\n",
    "        file_names <- c(file_names,str)\n",
    "    }\n",
    "}\n",
    "file_names"
   ]
  },
  {
   "cell_type": "code",
   "execution_count": 4,
   "metadata": {},
   "outputs": [],
   "source": [
    "data1 <- read.xlsx2(file_names[1],sheetIndex=1,startRow=2,header=FALSE)"
   ]
  },
  {
   "cell_type": "code",
   "execution_count": 5,
   "metadata": {},
   "outputs": [
    {
     "ename": "ERROR",
     "evalue": "Error in .jcall(\"RJavaTools\", \"Ljava/lang/Object;\", \"invokeMethod\", cl, : java.lang.OutOfMemoryError: Java heap space\n",
     "output_type": "error",
     "traceback": [
      "Error in .jcall(\"RJavaTools\", \"Ljava/lang/Object;\", \"invokeMethod\", cl, : java.lang.OutOfMemoryError: Java heap space\nTraceback:\n",
      "1. read.xlsx2(file_names[2], sheetIndex = 1, startRow = 2, header = FALSE)",
      "2. loadWorkbook(file, password = password)",
      "3. wbFactory$create(inputStream)",
      "4. .jrcall(x, name, ...)",
      "5. .jcall(\"RJavaTools\", \"Ljava/lang/Object;\", \"invokeMethod\", cl, \n .     .jcast(if (inherits(o, \"jobjRef\") || inherits(o, \"jarrayRef\")) o else cl, \n .         \"java/lang/Object\"), .jnew(\"java/lang/String\", method), \n .     j_p, j_pc, use.true.class = TRUE, evalString = simplify, \n .     evalArray = FALSE)",
      "6. .jcheck(silent = FALSE)"
     ]
    }
   ],
   "source": [
    "data2 <- read.xlsx2(file_names[2],sheetIndex=1,startRow=2,header=FALSE)"
   ]
  },
  {
   "cell_type": "code",
   "execution_count": 6,
   "metadata": {},
   "outputs": [],
   "source": [
    "data1 <- vector()"
   ]
  },
  {
   "cell_type": "code",
   "execution_count": 9,
   "metadata": {},
   "outputs": [
    {
     "name": "stderr",
     "output_type": "stream",
     "text": [
      "also installing the dependency 'zip'\n",
      "\n"
     ]
    },
    {
     "name": "stdout",
     "output_type": "stream",
     "text": [
      "package 'zip' successfully unpacked and MD5 sums checked\n",
      "package 'openxlsx' successfully unpacked and MD5 sums checked\n",
      "\n",
      "The downloaded binary packages are in\n",
      "\tC:\\Users\\student\\AppData\\Local\\Temp\\Rtmp00xeJF\\downloaded_packages\n"
     ]
    }
   ],
   "source": [
    "install.packages('openxlsx')"
   ]
  },
  {
   "cell_type": "code",
   "execution_count": 10,
   "metadata": {},
   "outputs": [],
   "source": [
    "options(java.parameters = \"-Xmx2048m\")"
   ]
  },
  {
   "cell_type": "code",
   "execution_count": 11,
   "metadata": {},
   "outputs": [
    {
     "ename": "ERROR",
     "evalue": "Error in library(XLConnect): there is no package called 'XLConnect'\n",
     "output_type": "error",
     "traceback": [
      "Error in library(XLConnect): there is no package called 'XLConnect'\nTraceback:\n",
      "1. library(XLConnect)"
     ]
    }
   ],
   "source": [
    "library(XLConnect)"
   ]
  },
  {
   "cell_type": "code",
   "execution_count": 12,
   "metadata": {},
   "outputs": [
    {
     "ename": "ERROR",
     "evalue": "Error in install.packages(XLConnect): 객체 'XLConnect'를 찾을 수 없습니다\n",
     "output_type": "error",
     "traceback": [
      "Error in install.packages(XLConnect): 객체 'XLConnect'를 찾을 수 없습니다\nTraceback:\n",
      "1. install.packages(XLConnect)"
     ]
    }
   ],
   "source": [
    "install.packages(XLConnect)"
   ]
  },
  {
   "cell_type": "code",
   "execution_count": 13,
   "metadata": {},
   "outputs": [
    {
     "name": "stderr",
     "output_type": "stream",
     "text": [
      "also installing the dependency 'XLConnectJars'\n",
      "\n"
     ]
    },
    {
     "name": "stdout",
     "output_type": "stream",
     "text": [
      "package 'XLConnectJars' successfully unpacked and MD5 sums checked\n",
      "package 'XLConnect' successfully unpacked and MD5 sums checked\n",
      "\n",
      "The downloaded binary packages are in\n",
      "\tC:\\Users\\student\\AppData\\Local\\Temp\\Rtmp00xeJF\\downloaded_packages\n"
     ]
    }
   ],
   "source": [
    "install.packages('XLConnect')"
   ]
  },
  {
   "cell_type": "code",
   "execution_count": 16,
   "metadata": {},
   "outputs": [],
   "source": [
    "library(openxlsx)\n",
    "library(XLConnect)"
   ]
  },
  {
   "cell_type": "code",
   "execution_count": 17,
   "metadata": {},
   "outputs": [
    {
     "ename": "ERROR",
     "evalue": "Error in .jcall(\"RJavaTools\", \"Ljava/lang/Object;\", \"invokeMethod\", cl, : java.lang.OutOfMemoryError: Java heap space\n",
     "output_type": "error",
     "traceback": [
      "Error in .jcall(\"RJavaTools\", \"Ljava/lang/Object;\", \"invokeMethod\", cl, : java.lang.OutOfMemoryError: Java heap space\nTraceback:\n",
      "1. read.xlsx2(file_names[2], sheetIndex = 1, startRow = 2, header = FALSE)",
      "2. loadWorkbook(file, password = password)",
      "3. wbFactory$create(inputStream)",
      "4. .jrcall(x, name, ...)",
      "5. .jcall(\"RJavaTools\", \"Ljava/lang/Object;\", \"invokeMethod\", cl, \n .     .jcast(if (inherits(o, \"jobjRef\") || inherits(o, \"jarrayRef\")) o else cl, \n .         \"java/lang/Object\"), .jnew(\"java/lang/String\", method), \n .     j_p, j_pc, use.true.class = TRUE, evalString = simplify, \n .     evalArray = FALSE)",
      "6. .jcheck(silent = FALSE)"
     ]
    }
   ],
   "source": [
    "data2 <- read.xlsx2(file_names[2],sheetIndex=1,startRow=2,header=FALSE)"
   ]
  },
  {
   "cell_type": "code",
   "execution_count": 19,
   "metadata": {},
   "outputs": [],
   "source": [
    "library(readxl)"
   ]
  },
  {
   "cell_type": "code",
   "execution_count": 20,
   "metadata": {},
   "outputs": [
    {
     "ename": "ERROR",
     "evalue": "Error in .jcall(\"RJavaTools\", \"Ljava/lang/Object;\", \"invokeMethod\", cl, : java.lang.OutOfMemoryError: Java heap space\n",
     "output_type": "error",
     "traceback": [
      "Error in .jcall(\"RJavaTools\", \"Ljava/lang/Object;\", \"invokeMethod\", cl, : java.lang.OutOfMemoryError: Java heap space\nTraceback:\n",
      "1. read.xlsx2(file_names[2], sheetIndex = 1, startRow = 2, header = FALSE)",
      "2. loadWorkbook(file, password = password)",
      "3. wbFactory$create(inputStream)",
      "4. .jrcall(x, name, ...)",
      "5. .jcall(\"RJavaTools\", \"Ljava/lang/Object;\", \"invokeMethod\", cl, \n .     .jcast(if (inherits(o, \"jobjRef\") || inherits(o, \"jarrayRef\")) o else cl, \n .         \"java/lang/Object\"), .jnew(\"java/lang/String\", method), \n .     j_p, j_pc, use.true.class = TRUE, evalString = simplify, \n .     evalArray = FALSE)",
      "6. .jcheck(silent = FALSE)"
     ]
    }
   ],
   "source": [
    "data2 <- read.xlsx2(file_names[2],sheetIndex=1,startRow=2,header=FALSE)"
   ]
  },
  {
   "cell_type": "code",
   "execution_count": 21,
   "metadata": {},
   "outputs": [],
   "source": [
    "options(java.parameters = \"-Xmx2048m\")"
   ]
  },
  {
   "cell_type": "code",
   "execution_count": 22,
   "metadata": {},
   "outputs": [
    {
     "ename": "ERROR",
     "evalue": "Error in .jcall(\"RJavaTools\", \"Ljava/lang/Object;\", \"invokeMethod\", cl, : java.lang.OutOfMemoryError: Java heap space\n",
     "output_type": "error",
     "traceback": [
      "Error in .jcall(\"RJavaTools\", \"Ljava/lang/Object;\", \"invokeMethod\", cl, : java.lang.OutOfMemoryError: Java heap space\nTraceback:\n",
      "1. read.xlsx2(file_names[2], sheetIndex = 1, startRow = 2, header = FALSE)",
      "2. loadWorkbook(file, password = password)",
      "3. wbFactory$create(inputStream)",
      "4. .jrcall(x, name, ...)",
      "5. .jcall(\"RJavaTools\", \"Ljava/lang/Object;\", \"invokeMethod\", cl, \n .     .jcast(if (inherits(o, \"jobjRef\") || inherits(o, \"jarrayRef\")) o else cl, \n .         \"java/lang/Object\"), .jnew(\"java/lang/String\", method), \n .     j_p, j_pc, use.true.class = TRUE, evalString = simplify, \n .     evalArray = FALSE)",
      "6. .jcheck(silent = FALSE)"
     ]
    }
   ],
   "source": [
    "data2 <- read.xlsx2(file_names[2],sheetIndex=1,startRow=2,header=FALSE)"
   ]
  },
  {
   "cell_type": "code",
   "execution_count": 24,
   "metadata": {},
   "outputs": [
    {
     "ename": "ERROR",
     "evalue": "Error in .jcall(\"RJavaTools\", \"Ljava/lang/Object;\", \"invokeMethod\", cl, : java.lang.OutOfMemoryError: Java heap space\n",
     "output_type": "error",
     "traceback": [
      "Error in .jcall(\"RJavaTools\", \"Ljava/lang/Object;\", \"invokeMethod\", cl, : java.lang.OutOfMemoryError: Java heap space\nTraceback:\n",
      "1. xlsx::read.xlsx(file_names[2], sheetIndex = 1, encoding = \"UTF-8\")",
      "2. loadWorkbook(file, password = password)",
      "3. wbFactory$create(inputStream)",
      "4. .jrcall(x, name, ...)",
      "5. .jcall(\"RJavaTools\", \"Ljava/lang/Object;\", \"invokeMethod\", cl, \n .     .jcast(if (inherits(o, \"jobjRef\") || inherits(o, \"jarrayRef\")) o else cl, \n .         \"java/lang/Object\"), .jnew(\"java/lang/String\", method), \n .     j_p, j_pc, use.true.class = TRUE, evalString = simplify, \n .     evalArray = FALSE)",
      "6. .jcheck(silent = FALSE)"
     ]
    }
   ],
   "source": [
    "data2 <- xlsx::read.xlsx(file_names[2], sheetIndex = 1, encoding=\"UTF-8\")"
   ]
  },
  {
   "cell_type": "code",
   "execution_count": 1,
   "metadata": {},
   "outputs": [
    {
     "name": "stderr",
     "output_type": "stream",
     "text": [
      "Warning message:\n",
      "\"package 'dplyr' was built under R version 3.6.2\"\n",
      "Attaching package: 'dplyr'\n",
      "\n",
      "The following objects are masked from 'package:stats':\n",
      "\n",
      "    filter, lag\n",
      "\n",
      "The following objects are masked from 'package:base':\n",
      "\n",
      "    intersect, setdiff, setequal, union\n",
      "\n"
     ]
    }
   ],
   "source": [
    "library(dplyr)"
   ]
  },
  {
   "cell_type": "code",
   "execution_count": 3,
   "metadata": {},
   "outputs": [],
   "source": [
    "library(dplyr)"
   ]
  },
  {
   "cell_type": "code",
   "execution_count": 2,
   "metadata": {},
   "outputs": [],
   "source": [
    "library('xlsx')"
   ]
  },
  {
   "cell_type": "code",
   "execution_count": 4,
   "metadata": {},
   "outputs": [],
   "source": [
    "data2 <- read.xlsx2(\"DATA_02.xls\",sheetIndex=1,startRow=2,header=FALSE)"
   ]
  },
  {
   "cell_type": "code",
   "execution_count": 5,
   "metadata": {},
   "outputs": [
    {
     "data": {
      "text/html": [
       "<table>\n",
       "<thead><tr><th scope=col>X1</th><th scope=col>X2</th><th scope=col>X3</th><th scope=col>X4</th><th scope=col>X5</th><th scope=col>X6</th><th scope=col>X7</th><th scope=col>X8</th><th scope=col>X9</th><th scope=col>X10</th><th scope=col>...</th><th scope=col>X22</th><th scope=col>X23</th><th scope=col>X24</th><th scope=col>X25</th><th scope=col>X26</th><th scope=col>X27</th><th scope=col>X28</th><th scope=col>X29</th><th scope=col>X30</th><th scope=col>X31</th></tr></thead>\n",
       "<tbody>\n",
       "\t<tr><td>경관^관리^체계       </td><td>어휘                 </td><td>                     </td><td>                     </td><td>                     </td><td>                     </td><td>景觀管理體系         </td><td>                     </td><td>                     </td><td>                     </td><td>...                  </td><td>                     </td><td>                     </td><td>                     </td><td>                     </td><td>                     </td><td>                     </td><td>1114397              </td><td>1041421              </td><td>53578                </td><td>1                    </td></tr>\n",
       "\t<tr><td>경관^구조            </td><td>어휘                 </td><td>                     </td><td>                     </td><td>                     </td><td>                     </td><td>景觀構造             </td><td>                     </td><td>                     </td><td>                     </td><td>...                  </td><td>                     </td><td>                     </td><td>                     </td><td>                     </td><td>                     </td><td>                     </td><td>1114398              </td><td>1041422              </td><td>53580                </td><td>1                    </td></tr>\n",
       "\t<tr><td>경관^급식            </td><td>어휘                 </td><td>                     </td><td>                     </td><td>                     </td><td>                     </td><td>經管給食             </td><td>                     </td><td>                     </td><td>                     </td><td>...                  </td><td>                     </td><td>「영어」 tube feeding</td><td>                     </td><td>                     </td><td>                     </td><td>                     </td><td>1180782              </td><td>1106013              </td><td>53582                </td><td>1                    </td></tr>\n",
       "\t<tr><td>경관^녹지            </td><td>어휘                 </td><td>                     </td><td>                     </td><td>                     </td><td>                     </td><td>景觀綠地             </td><td>                     </td><td>                     </td><td>                     </td><td>...                  </td><td>                     </td><td>                     </td><td>                     </td><td>                     </td><td>                     </td><td>                     </td><td>776562               </td><td>712640               </td><td>53584                </td><td>1                    </td></tr>\n",
       "\t<tr><td>경관^단위            </td><td>어휘                 </td><td>                     </td><td>                     </td><td>                     </td><td>                     </td><td>景觀單位             </td><td>                     </td><td>                     </td><td>                     </td><td>...                  </td><td>                     </td><td>                     </td><td>                     </td><td>                     </td><td>                     </td><td>                     </td><td>1114400              </td><td>1041424              </td><td>53585                </td><td>1                    </td></tr>\n",
       "\t<tr><td>경관^대상군          </td><td>어휘                 </td><td>                     </td><td>                     </td><td>                     </td><td>                     </td><td>景觀對象群           </td><td>                     </td><td>                     </td><td>                     </td><td>...                  </td><td>                     </td><td>                     </td><td>                     </td><td>                     </td><td>                     </td><td>                     </td><td>1114599              </td><td>1041623              </td><td>53588                </td><td>1                    </td></tr>\n",
       "</tbody>\n",
       "</table>\n"
      ],
      "text/latex": [
       "\\begin{tabular}{r|lllllllllllllllllllllllllllllll}\n",
       " X1 & X2 & X3 & X4 & X5 & X6 & X7 & X8 & X9 & X10 & ... & X22 & X23 & X24 & X25 & X26 & X27 & X28 & X29 & X30 & X31\\\\\n",
       "\\hline\n",
       "\t 경관\\textasciicircum{}관리\\textasciicircum{}체계 & 어휘                                               &                                                    &                                                    &                                                    &                                                    & 景觀管理體系                                       &                                                    &                                                    &                                                    & ...                                                &                                                    &                                                    &                                                    &                                                    &                                                    &                                                    & 1114397                                            & 1041421                                            & 53578                                              & 1                                                 \\\\\n",
       "\t 경관\\textasciicircum{}구조      & 어휘                             &                                  &                                  &                                  &                                  & 景觀構造                         &                                  &                                  &                                  & ...                              &                                  &                                  &                                  &                                  &                                  &                                  & 1114398                          & 1041422                          & 53580                            & 1                               \\\\\n",
       "\t 경관\\textasciicircum{}급식      & 어휘                             &                                  &                                  &                                  &                                  & 經管給食                         &                                  &                                  &                                  & ...                              &                                  & 「영어」 tube feeding            &                                  &                                  &                                  &                                  & 1180782                          & 1106013                          & 53582                            & 1                               \\\\\n",
       "\t 경관\\textasciicircum{}녹지      & 어휘                             &                                  &                                  &                                  &                                  & 景觀綠地                         &                                  &                                  &                                  & ...                              &                                  &                                  &                                  &                                  &                                  &                                  & 776562                           & 712640                           & 53584                            & 1                               \\\\\n",
       "\t 경관\\textasciicircum{}단위      & 어휘                             &                                  &                                  &                                  &                                  & 景觀單位                         &                                  &                                  &                                  & ...                              &                                  &                                  &                                  &                                  &                                  &                                  & 1114400                          & 1041424                          & 53585                            & 1                               \\\\\n",
       "\t 경관\\textasciicircum{}대상군    & 어휘                             &                                  &                                  &                                  &                                  & 景觀對象群                       &                                  &                                  &                                  & ...                              &                                  &                                  &                                  &                                  &                                  &                                  & 1114599                          & 1041623                          & 53588                            & 1                               \\\\\n",
       "\\end{tabular}\n"
      ],
      "text/markdown": [
       "\n",
       "| X1 | X2 | X3 | X4 | X5 | X6 | X7 | X8 | X9 | X10 | ... | X22 | X23 | X24 | X25 | X26 | X27 | X28 | X29 | X30 | X31 |\n",
       "|---|---|---|---|---|---|---|---|---|---|---|---|---|---|---|---|---|---|---|---|---|\n",
       "| 경관^관리^체계        | 어휘                  |                       |                       |                       |                       | 景觀管理體系          |                       |                       |                       | ...                   |                       |                       |                       |                       |                       |                       | 1114397               | 1041421               | 53578                 | 1                     |\n",
       "| 경관^구조             | 어휘                  |                       |                       |                       |                       | 景觀構造              |                       |                       |                       | ...                   |                       |                       |                       |                       |                       |                       | 1114398               | 1041422               | 53580                 | 1                     |\n",
       "| 경관^급식             | 어휘                  |                       |                       |                       |                       | 經管給食              |                       |                       |                       | ...                   |                       | 「영어」 tube feeding |                       |                       |                       |                       | 1180782               | 1106013               | 53582                 | 1                     |\n",
       "| 경관^녹지             | 어휘                  |                       |                       |                       |                       | 景觀綠地              |                       |                       |                       | ...                   |                       |                       |                       |                       |                       |                       | 776562                | 712640                | 53584                 | 1                     |\n",
       "| 경관^단위             | 어휘                  |                       |                       |                       |                       | 景觀單位              |                       |                       |                       | ...                   |                       |                       |                       |                       |                       |                       | 1114400               | 1041424               | 53585                 | 1                     |\n",
       "| 경관^대상군           | 어휘                  |                       |                       |                       |                       | 景觀對象群            |                       |                       |                       | ...                   |                       |                       |                       |                       |                       |                       | 1114599               | 1041623               | 53588                 | 1                     |\n",
       "\n"
      ],
      "text/plain": [
       "  X1             X2   X3 X4 X5 X6 X7           X8 X9 X10 ... X22\n",
       "1 경관^관리^체계 어휘             景觀管理體系           ...    \n",
       "2 경관^구조      어휘             景觀構造               ...    \n",
       "3 경관^급식      어휘             經管給食               ...    \n",
       "4 경관^녹지      어휘             景觀綠地               ...    \n",
       "5 경관^단위      어휘             景觀單位               ...    \n",
       "6 경관^대상군    어휘             景觀對象群             ...    \n",
       "  X23                   X24 X25 X26 X27 X28     X29     X30   X31\n",
       "1                                       1114397 1041421 53578 1  \n",
       "2                                       1114398 1041422 53580 1  \n",
       "3 「영어」 tube feeding                 1180782 1106013 53582 1  \n",
       "4                                       776562  712640  53584 1  \n",
       "5                                       1114400 1041424 53585 1  \n",
       "6                                       1114599 1041623 53588 1  "
      ]
     },
     "metadata": {},
     "output_type": "display_data"
    }
   ],
   "source": [
    "head(data2)"
   ]
  },
  {
   "cell_type": "code",
   "execution_count": null,
   "metadata": {},
   "outputs": [],
   "source": []
  }
 ],
 "metadata": {
  "kernelspec": {
   "display_name": "R",
   "language": "R",
   "name": "ir"
  },
  "language_info": {
   "codemirror_mode": "r",
   "file_extension": ".r",
   "mimetype": "text/x-r-source",
   "name": "R",
   "pygments_lexer": "r",
   "version": "3.6.1"
  }
 },
 "nbformat": 4,
 "nbformat_minor": 2
}
