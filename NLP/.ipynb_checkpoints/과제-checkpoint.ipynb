{
 "cells": [
  {
   "cell_type": "code",
   "execution_count": 1,
   "metadata": {},
   "outputs": [],
   "source": [
    "library(\"xlsx\")"
   ]
  },
  {
   "cell_type": "code",
   "execution_count": 2,
   "metadata": {},
   "outputs": [],
   "source": [
    "data <- read.xlsx2(\"vocaSet/vocaInfo001.xlsx\",sheetIndex=1,startRow=1,header=TRUE)"
   ]
  },
  {
   "cell_type": "code",
   "execution_count": 3,
   "metadata": {},
   "outputs": [
    {
     "data": {
      "text/html": [
       "<table>\n",
       "<thead><tr><th scope=col>품사</th><th scope=col>n</th></tr></thead>\n",
       "<tbody>\n",
       "\t<tr><td>감·명</td><td>3     </td></tr>\n",
       "\t<tr><td>감탄사</td><td>50    </td></tr>\n",
       "\t<tr><td>관·명</td><td>139   </td></tr>\n",
       "\t<tr><td>관형사</td><td>6     </td></tr>\n",
       "\t<tr><td>대·감</td><td>2     </td></tr>\n",
       "\t<tr><td>대명사</td><td>28    </td></tr>\n",
       "</tbody>\n",
       "</table>\n"
      ],
      "text/latex": [
       "\\begin{tabular}{r|ll}\n",
       " 품사 & n\\\\\n",
       "\\hline\n",
       "\t 감·명 & 3     \\\\\n",
       "\t 감탄사 & 50    \\\\\n",
       "\t 관·명 & 139   \\\\\n",
       "\t 관형사 & 6     \\\\\n",
       "\t 대·감 & 2     \\\\\n",
       "\t 대명사 & 28    \\\\\n",
       "\\end{tabular}\n"
      ],
      "text/markdown": [
       "\n",
       "| 품사 | n |\n",
       "|---|---|\n",
       "| 감·명 | 3      |\n",
       "| 감탄사 | 50     |\n",
       "| 관·명 | 139    |\n",
       "| 관형사 | 6      |\n",
       "| 대·감 | 2      |\n",
       "| 대명사 | 28     |\n",
       "\n"
      ],
      "text/plain": [
       "  품사   n  \n",
       "1 감·명 3  \n",
       "2 감탄사 50 \n",
       "3 관·명 139\n",
       "4 관형사 6  \n",
       "5 대·감 2  \n",
       "6 대명사 28 "
      ]
     },
     "metadata": {},
     "output_type": "display_data"
    }
   ],
   "source": [
    "head(data)"
   ]
  },
  {
   "cell_type": "code",
   "execution_count": 5,
   "metadata": {},
   "outputs": [
    {
     "data": {
      "text/html": [
       "<ol class=list-inline>\n",
       "\t<li>3</li>\n",
       "\t<li>50</li>\n",
       "\t<li>139</li>\n",
       "\t<li>6</li>\n",
       "\t<li>2</li>\n",
       "\t<li>28</li>\n",
       "</ol>\n",
       "\n",
       "<details>\n",
       "\t<summary style=display:list-item;cursor:pointer>\n",
       "\t\t<strong>Levels</strong>:\n",
       "\t</summary>\n",
       "\t<ol class=list-inline>\n",
       "\t\t<li>'139'</li>\n",
       "\t\t<li>'1629'</li>\n",
       "\t\t<li>'18814'</li>\n",
       "\t\t<li>'1971'</li>\n",
       "\t\t<li>'2'</li>\n",
       "\t\t<li>'27742'</li>\n",
       "\t\t<li>'28'</li>\n",
       "\t\t<li>'2816'</li>\n",
       "\t\t<li>'3'</li>\n",
       "\t\t<li>'4'</li>\n",
       "\t\t<li>'5'</li>\n",
       "\t\t<li>'50'</li>\n",
       "\t\t<li>'52'</li>\n",
       "\t\t<li>'6'</li>\n",
       "\t\t<li>'6030'</li>\n",
       "\t\t<li>'618'</li>\n",
       "\t\t<li>'89'</li>\n",
       "\t</ol>\n",
       "</details>"
      ],
      "text/latex": [
       "\\begin{enumerate*}\n",
       "\\item 3\n",
       "\\item 50\n",
       "\\item 139\n",
       "\\item 6\n",
       "\\item 2\n",
       "\\item 28\n",
       "\\end{enumerate*}\n",
       "\n",
       "\\emph{Levels}: \\begin{enumerate*}\n",
       "\\item '139'\n",
       "\\item '1629'\n",
       "\\item '18814'\n",
       "\\item '1971'\n",
       "\\item '2'\n",
       "\\item '27742'\n",
       "\\item '28'\n",
       "\\item '2816'\n",
       "\\item '3'\n",
       "\\item '4'\n",
       "\\item '5'\n",
       "\\item '50'\n",
       "\\item '52'\n",
       "\\item '6'\n",
       "\\item '6030'\n",
       "\\item '618'\n",
       "\\item '89'\n",
       "\\end{enumerate*}\n"
      ],
      "text/markdown": [
       "1. 3\n",
       "2. 50\n",
       "3. 139\n",
       "4. 6\n",
       "5. 2\n",
       "6. 28\n",
       "\n",
       "\n",
       "\n",
       "**Levels**: 1. '139'\n",
       "2. '1629'\n",
       "3. '18814'\n",
       "4. '1971'\n",
       "5. '2'\n",
       "6. '27742'\n",
       "7. '28'\n",
       "8. '2816'\n",
       "9. '3'\n",
       "10. '4'\n",
       "11. '5'\n",
       "12. '50'\n",
       "13. '52'\n",
       "14. '6'\n",
       "15. '6030'\n",
       "16. '618'\n",
       "17. '89'\n",
       "\n",
       "\n"
      ],
      "text/plain": [
       "[1] 3   50  139 6   2   28 \n",
       "Levels: 139 1629 18814 1971 2 27742 28 2816 3 4 5 50 52 6 6030 618 89"
      ]
     },
     "metadata": {},
     "output_type": "display_data"
    }
   ],
   "source": [
    "head(data$n)"
   ]
  },
  {
   "cell_type": "code",
   "execution_count": 6,
   "metadata": {},
   "outputs": [
    {
     "name": "stdout",
     "output_type": "stream",
     "text": [
      "'data.frame':\t18 obs. of  2 variables:\n",
      " $ 품사: Factor w/ 18 levels \"감·명\",\"감탄사\",..: 1 2 3 4 5 6 7 8 9 10 ...\n",
      " $ n   : Factor w/ 17 levels \"139\",\"1629\",\"18814\",..: 9 12 1 14 5 7 15 5 6 11 ...\n"
     ]
    }
   ],
   "source": [
    "str(data) ###glimps(data)"
   ]
  },
  {
   "cell_type": "code",
   "execution_count": 7,
   "metadata": {},
   "outputs": [
    {
     "ename": "ERROR",
     "evalue": "Error in glimps(data): 함수 \"glimps\"를 찾을 수 없습니다\n",
     "output_type": "error",
     "traceback": [
      "Error in glimps(data): 함수 \"glimps\"를 찾을 수 없습니다\nTraceback:\n"
     ]
    }
   ],
   "source": [
    "glimps(data)"
   ]
  },
  {
   "cell_type": "code",
   "execution_count": null,
   "metadata": {},
   "outputs": [],
   "source": [
    "###KoNLP 한글 형태소 분석해주는 툴\n",
    "### 의미어별 뜻풀이의 형태소 분석\n",
    "### pos KoNLP, RcppMeCab\n",
    "### 각 형태소들을 노드로 하는 그래프를 그린다.\n",
    "### '인간'에서 파생되는 노드들을 만들고 그래프로 그린다.\n",
    "### 을,는,이,가 같은 것들을 가져오지 않게\n",
    "### 용언의 원래 형태를 가져오도록\n",
    "\n",
    "### 토크나이징 -> 불필요한 것들을 걸러내는 작업"
   ]
  }
 ],
 "metadata": {
  "kernelspec": {
   "display_name": "R",
   "language": "R",
   "name": "ir"
  },
  "language_info": {
   "codemirror_mode": "r",
   "file_extension": ".r",
   "mimetype": "text/x-r-source",
   "name": "R",
   "pygments_lexer": "r",
   "version": "3.6.1"
  }
 },
 "nbformat": 4,
 "nbformat_minor": 2
}
