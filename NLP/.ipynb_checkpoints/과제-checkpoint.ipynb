{
 "cells": [
  {
   "cell_type": "code",
   "execution_count": 1,
   "metadata": {},
   "outputs": [],
   "source": [
    "library(\"xlsx\")"
   ]
  },
  {
   "cell_type": "code",
   "execution_count": 2,
   "metadata": {},
   "outputs": [],
   "source": [
    "data <- read.xlsx2(\"vocaSet/vocaInfo001.xlsx\",sheetIndex=1,startRow=1,header=TRUE)"
   ]
  },
  {
   "cell_type": "code",
   "execution_count": 3,
   "metadata": {},
   "outputs": [
    {
     "data": {
      "text/html": [
       "<table>\n",
       "<thead><tr><th scope=col>품사</th><th scope=col>n</th></tr></thead>\n",
       "<tbody>\n",
       "\t<tr><td>감·명</td><td>3     </td></tr>\n",
       "\t<tr><td>감탄사</td><td>50    </td></tr>\n",
       "\t<tr><td>관·명</td><td>139   </td></tr>\n",
       "\t<tr><td>관형사</td><td>6     </td></tr>\n",
       "\t<tr><td>대·감</td><td>2     </td></tr>\n",
       "\t<tr><td>대명사</td><td>28    </td></tr>\n",
       "</tbody>\n",
       "</table>\n"
      ],
      "text/latex": [
       "\\begin{tabular}{r|ll}\n",
       " 품사 & n\\\\\n",
       "\\hline\n",
       "\t 감·명 & 3     \\\\\n",
       "\t 감탄사 & 50    \\\\\n",
       "\t 관·명 & 139   \\\\\n",
       "\t 관형사 & 6     \\\\\n",
       "\t 대·감 & 2     \\\\\n",
       "\t 대명사 & 28    \\\\\n",
       "\\end{tabular}\n"
      ],
      "text/markdown": [
       "\n",
       "| 품사 | n |\n",
       "|---|---|\n",
       "| 감·명 | 3      |\n",
       "| 감탄사 | 50     |\n",
       "| 관·명 | 139    |\n",
       "| 관형사 | 6      |\n",
       "| 대·감 | 2      |\n",
       "| 대명사 | 28     |\n",
       "\n"
      ],
      "text/plain": [
       "  품사   n  \n",
       "1 감·명 3  \n",
       "2 감탄사 50 \n",
       "3 관·명 139\n",
       "4 관형사 6  \n",
       "5 대·감 2  \n",
       "6 대명사 28 "
      ]
     },
     "metadata": {},
     "output_type": "display_data"
    }
   ],
   "source": [
    "head(data)"
   ]
  },
  {
   "cell_type": "code",
   "execution_count": 5,
   "metadata": {},
   "outputs": [
    {
     "data": {
      "text/html": [
       "<ol class=list-inline>\n",
       "\t<li>3</li>\n",
       "\t<li>50</li>\n",
       "\t<li>139</li>\n",
       "\t<li>6</li>\n",
       "\t<li>2</li>\n",
       "\t<li>28</li>\n",
       "</ol>\n",
       "\n",
       "<details>\n",
       "\t<summary style=display:list-item;cursor:pointer>\n",
       "\t\t<strong>Levels</strong>:\n",
       "\t</summary>\n",
       "\t<ol class=list-inline>\n",
       "\t\t<li>'139'</li>\n",
       "\t\t<li>'1629'</li>\n",
       "\t\t<li>'18814'</li>\n",
       "\t\t<li>'1971'</li>\n",
       "\t\t<li>'2'</li>\n",
       "\t\t<li>'27742'</li>\n",
       "\t\t<li>'28'</li>\n",
       "\t\t<li>'2816'</li>\n",
       "\t\t<li>'3'</li>\n",
       "\t\t<li>'4'</li>\n",
       "\t\t<li>'5'</li>\n",
       "\t\t<li>'50'</li>\n",
       "\t\t<li>'52'</li>\n",
       "\t\t<li>'6'</li>\n",
       "\t\t<li>'6030'</li>\n",
       "\t\t<li>'618'</li>\n",
       "\t\t<li>'89'</li>\n",
       "\t</ol>\n",
       "</details>"
      ],
      "text/latex": [
       "\\begin{enumerate*}\n",
       "\\item 3\n",
       "\\item 50\n",
       "\\item 139\n",
       "\\item 6\n",
       "\\item 2\n",
       "\\item 28\n",
       "\\end{enumerate*}\n",
       "\n",
       "\\emph{Levels}: \\begin{enumerate*}\n",
       "\\item '139'\n",
       "\\item '1629'\n",
       "\\item '18814'\n",
       "\\item '1971'\n",
       "\\item '2'\n",
       "\\item '27742'\n",
       "\\item '28'\n",
       "\\item '2816'\n",
       "\\item '3'\n",
       "\\item '4'\n",
       "\\item '5'\n",
       "\\item '50'\n",
       "\\item '52'\n",
       "\\item '6'\n",
       "\\item '6030'\n",
       "\\item '618'\n",
       "\\item '89'\n",
       "\\end{enumerate*}\n"
      ],
      "text/markdown": [
       "1. 3\n",
       "2. 50\n",
       "3. 139\n",
       "4. 6\n",
       "5. 2\n",
       "6. 28\n",
       "\n",
       "\n",
       "\n",
       "**Levels**: 1. '139'\n",
       "2. '1629'\n",
       "3. '18814'\n",
       "4. '1971'\n",
       "5. '2'\n",
       "6. '27742'\n",
       "7. '28'\n",
       "8. '2816'\n",
       "9. '3'\n",
       "10. '4'\n",
       "11. '5'\n",
       "12. '50'\n",
       "13. '52'\n",
       "14. '6'\n",
       "15. '6030'\n",
       "16. '618'\n",
       "17. '89'\n",
       "\n",
       "\n"
      ],
      "text/plain": [
       "[1] 3   50  139 6   2   28 \n",
       "Levels: 139 1629 18814 1971 2 27742 28 2816 3 4 5 50 52 6 6030 618 89"
      ]
     },
     "metadata": {},
     "output_type": "display_data"
    }
   ],
   "source": [
    "head(data$n)"
   ]
  },
  {
   "cell_type": "code",
   "execution_count": 6,
   "metadata": {},
   "outputs": [
    {
     "name": "stdout",
     "output_type": "stream",
     "text": [
      "'data.frame':\t18 obs. of  2 variables:\n",
      " $ 품사: Factor w/ 18 levels \"감·명\",\"감탄사\",..: 1 2 3 4 5 6 7 8 9 10 ...\n",
      " $ n   : Factor w/ 17 levels \"139\",\"1629\",\"18814\",..: 9 12 1 14 5 7 15 5 6 11 ...\n"
     ]
    }
   ],
   "source": [
    "str(data) ###glimps(data)"
   ]
  },
  {
   "cell_type": "code",
   "execution_count": 7,
   "metadata": {},
   "outputs": [
    {
     "ename": "ERROR",
     "evalue": "Error in glimps(data): 함수 \"glimps\"를 찾을 수 없습니다\n",
     "output_type": "error",
     "traceback": [
      "Error in glimps(data): 함수 \"glimps\"를 찾을 수 없습니다\nTraceback:\n"
     ]
    }
   ],
   "source": [
    "glimps(data)"
   ]
  },
  {
   "cell_type": "code",
   "execution_count": 1,
   "metadata": {},
   "outputs": [],
   "source": [
    "###KoNLP 한글 형태소 분석해주는 툴\n",
    "### 의미어별 뜻풀이의 형태소 분석\n",
    "### pos KoNLP, RcppMeCab\n",
    "### 각 형태소들을 노드로 하는 그래프를 그린다.\n",
    "### '인간'에서 파생되는 노드들을 만들고 그래프로 그린다.\n",
    "### 을,는,이,가 같은 것들을 가져오지 않게\n",
    "### 용언의 원래 형태를 가져오도록\n",
    "\n",
    "### 토크나이징 -> 불필요한 것들을 걸러내는 작업"
   ]
  },
  {
   "cell_type": "code",
   "execution_count": 2,
   "metadata": {},
   "outputs": [
    {
     "name": "stderr",
     "output_type": "stream",
     "text": [
      "Loading required namespace: KoNLP\n",
      "also installing the dependencies 'zeallot', 'ini', 'bit', 'vctrs', 'clisymbols', 'fs', 'gh', 'rprojroot', 'rex', 'crosstalk', 'xopen', 'brew', 'commonmark', 'purrr', 'praise', 'rlang', 'bit64', 'blob', 'DBI', 'memoise', 'usethis', 'covr', 'desc', 'DT', 'ellipsis', 'git2r', 'pkgbuild', 'pkgload', 'rcmdcheck', 'remotes', 'roxygen2', 'rversions', 'sessioninfo', 'testthat', 'hash', 'tau', 'Sejong', 'RSQLite', 'devtools'\n",
      "\n"
     ]
    },
    {
     "name": "stdout",
     "output_type": "stream",
     "text": [
      "\n",
      "  There is a binary version available but the source version is later:\n",
      "    binary   source needs_compilation\n",
      "bit 1.1-14 1.1-15.1              TRUE\n",
      "\n",
      "  Binaries will be installed\n",
      "package 'zeallot' successfully unpacked and MD5 sums checked\n",
      "package 'ini' successfully unpacked and MD5 sums checked\n",
      "package 'bit' successfully unpacked and MD5 sums checked\n",
      "package 'vctrs' successfully unpacked and MD5 sums checked\n",
      "package 'clisymbols' successfully unpacked and MD5 sums checked\n",
      "package 'fs' successfully unpacked and MD5 sums checked\n",
      "package 'gh' successfully unpacked and MD5 sums checked\n",
      "package 'rprojroot' successfully unpacked and MD5 sums checked\n",
      "package 'rex' successfully unpacked and MD5 sums checked\n",
      "package 'crosstalk' successfully unpacked and MD5 sums checked\n",
      "package 'xopen' successfully unpacked and MD5 sums checked\n",
      "package 'brew' successfully unpacked and MD5 sums checked\n",
      "package 'commonmark' successfully unpacked and MD5 sums checked\n",
      "package 'purrr' successfully unpacked and MD5 sums checked\n",
      "package 'praise' successfully unpacked and MD5 sums checked\n",
      "package 'rlang' successfully unpacked and MD5 sums checked\n",
      "package 'bit64' successfully unpacked and MD5 sums checked\n",
      "package 'blob' successfully unpacked and MD5 sums checked\n",
      "package 'DBI' successfully unpacked and MD5 sums checked\n",
      "package 'memoise' successfully unpacked and MD5 sums checked\n",
      "package 'usethis' successfully unpacked and MD5 sums checked\n",
      "package 'covr' successfully unpacked and MD5 sums checked\n",
      "package 'desc' successfully unpacked and MD5 sums checked\n",
      "package 'DT' successfully unpacked and MD5 sums checked\n",
      "package 'ellipsis' successfully unpacked and MD5 sums checked\n",
      "package 'git2r' successfully unpacked and MD5 sums checked\n",
      "package 'pkgbuild' successfully unpacked and MD5 sums checked\n",
      "package 'pkgload' successfully unpacked and MD5 sums checked\n",
      "package 'rcmdcheck' successfully unpacked and MD5 sums checked\n",
      "package 'remotes' successfully unpacked and MD5 sums checked\n",
      "package 'roxygen2' successfully unpacked and MD5 sums checked\n",
      "package 'rversions' successfully unpacked and MD5 sums checked\n",
      "package 'sessioninfo' successfully unpacked and MD5 sums checked\n",
      "package 'testthat' successfully unpacked and MD5 sums checked\n",
      "package 'hash' successfully unpacked and MD5 sums checked\n",
      "package 'tau' successfully unpacked and MD5 sums checked\n",
      "package 'Sejong' successfully unpacked and MD5 sums checked\n",
      "package 'RSQLite' successfully unpacked and MD5 sums checked\n",
      "package 'devtools' successfully unpacked and MD5 sums checked\n",
      "package 'KoNLP' successfully unpacked and MD5 sums checked\n",
      "\n",
      "The downloaded binary packages are in\n",
      "\tC:\\Users\\student\\AppData\\Local\\Temp\\Rtmps5XYCs\\downloaded_packages\n"
     ]
    },
    {
     "name": "stderr",
     "output_type": "stream",
     "text": [
      "Warning message:\n",
      "\"package 'KoNLP' was built under R version 3.6.2\"Building dictionary structures.\n",
      "\n"
     ]
    },
    {
     "data": {
      "text/html": [
       "<ol class=list-inline>\n",
       "\t<li>'한글'</li>\n",
       "\t<li>'테스트'</li>\n",
       "</ol>\n"
      ],
      "text/latex": [
       "\\begin{enumerate*}\n",
       "\\item '한글'\n",
       "\\item '테스트'\n",
       "\\end{enumerate*}\n"
      ],
      "text/markdown": [
       "1. '한글'\n",
       "2. '테스트'\n",
       "\n",
       "\n"
      ],
      "text/plain": [
       "[1] \"한글\"   \"테스트\""
      ]
     },
     "metadata": {},
     "output_type": "display_data"
    }
   ],
   "source": [
    "### KoNLP 설치\n",
    "if (!requireNamespace(\"KoNLP\")) {\n",
    "  install.packages(\"KoNLP\", repos = \"https://cloud.r-project.org\")\n",
    "}\n",
    "#> Loading required namespace: KoNLP\n",
    "library(KoNLP)\n",
    "#> Checking user defined dictionary!\n",
    "\n",
    "test <- \"한글 테스트 입니다.\"\n",
    "# 아래 결과가 나와야 합니다.\n",
    "extractNoun(test)"
   ]
  },
  {
   "cell_type": "code",
   "execution_count": 3,
   "metadata": {},
   "outputs": [
    {
     "name": "stderr",
     "output_type": "stream",
     "text": [
      "Loading required namespace: RcppMeCab\n",
      "also installing the dependency 'RcppParallel'\n",
      "\n"
     ]
    },
    {
     "name": "stdout",
     "output_type": "stream",
     "text": [
      "package 'RcppParallel' successfully unpacked and MD5 sums checked\n",
      "package 'RcppMeCab' successfully unpacked and MD5 sums checked\n",
      "\n",
      "The downloaded binary packages are in\n",
      "\tC:\\Users\\student\\AppData\\Local\\Temp\\Rtmps5XYCs\\downloaded_packages\n"
     ]
    },
    {
     "name": "stderr",
     "output_type": "stream",
     "text": [
      "Loading required namespace: RmecabKo\n"
     ]
    },
    {
     "name": "stdout",
     "output_type": "stream",
     "text": [
      "package 'RmecabKo' successfully unpacked and MD5 sums checked\n",
      "\n",
      "The downloaded binary packages are in\n",
      "\tC:\\Users\\student\\AppData\\Local\\Temp\\Rtmps5XYCs\\downloaded_packages\n",
      "Install mecab-ko-msvc...Install mecab-ko-dic-msvc..."
     ]
    },
    {
     "name": "stderr",
     "output_type": "stream",
     "text": [
      "Warning message:\n",
      "\"package 'RcppMeCab' was built under R version 3.6.2\""
     ]
    }
   ],
   "source": [
    "### RcppMeCab 은 KoNLP보다 빠른 형태소 분석툴임\n",
    "if (!requireNamespace(\"RcppMeCab\")) {\n",
    "  install.packages(\"RcppMeCab\", repos = \"https://cloud.r-project.org\")\n",
    "}\n",
    "#> Loading required namespace: RcppMeCab\n",
    "if (!requireNamespace(\"RmecabKo\")) {\n",
    "  install.packages(\"RmecabKo\", repos = \"https://cloud.r-project.org\")\n",
    "}\n",
    "#> Loading required namespace: RmecabKo\n",
    "# c:에 권한이 없다면 \"d:/mecab\"으로 설정\n",
    "RmecabKo::install_mecab(\"c:/mecab\")\n",
    "library(RcppMeCab)"
   ]
  },
  {
   "cell_type": "code",
   "execution_count": 5,
   "metadata": {},
   "outputs": [],
   "source": [
    "test <- \"한글 테스트 입니다.\""
   ]
  },
  {
   "cell_type": "code",
   "execution_count": 6,
   "metadata": {},
   "outputs": [
    {
     "name": "stderr",
     "output_type": "stream",
     "text": [
      "ERROR while rich displaying an object: Error in nchar(x): invalid multibyte string, element 1\n",
      "\n",
      "Traceback:\n",
      "1. FUN(X[[i]], ...)\n",
      "2. tryCatch(withCallingHandlers({\n",
      " .     if (!mime %in% names(repr::mime2repr)) \n",
      " .         stop(\"No repr_* for mimetype \", mime, \" in repr::mime2repr\")\n",
      " .     rpr <- repr::mime2repr[[mime]](obj)\n",
      " .     if (is.null(rpr)) \n",
      " .         return(NULL)\n",
      " .     prepare_content(is.raw(rpr), rpr)\n",
      " . }, error = error_handler), error = outer_handler)\n",
      "3. tryCatchList(expr, classes, parentenv, handlers)\n",
      "4. tryCatchOne(expr, names, parentenv, handlers[[1L]])\n",
      "5. doTryCatch(return(expr), name, parentenv, handler)\n",
      "6. withCallingHandlers({\n",
      " .     if (!mime %in% names(repr::mime2repr)) \n",
      " .         stop(\"No repr_* for mimetype \", mime, \" in repr::mime2repr\")\n",
      " .     rpr <- repr::mime2repr[[mime]](obj)\n",
      " .     if (is.null(rpr)) \n",
      " .         return(NULL)\n",
      " .     prepare_content(is.raw(rpr), rpr)\n",
      " . }, error = error_handler)\n",
      "7. repr::mime2repr[[mime]](obj)\n",
      "8. repr_html.list(obj)\n",
      "9. repr_list_generic(obj, \"html\", \"\\t<li>%s</li>\\n\", \"\\t<dt>$%s</dt>\\n\\t\\t<dd>%s</dd>\\n\", \n",
      " .     \"<strong>$%s</strong> = %s\", \"<ol>\\n%s</ol>\\n\", \"<dl>\\n%s</dl>\\n\", \n",
      " .     numeric_item = \"\\t<dt>[[%s]]</dt>\\n\\t\\t<dd>%s</dd>\\n\", escape_fun = html_escape)\n",
      "10. sapply(nms, as_name_or_na, USE.NAMES = FALSE)\n",
      "11. lapply(X = X, FUN = FUN, ...)\n",
      "12. FUN(X[[i]], ...)\n",
      "ERROR while rich displaying an object: Error in nchar(x): invalid multibyte string, element 1\n",
      "\n",
      "Traceback:\n",
      "1. FUN(X[[i]], ...)\n",
      "2. tryCatch(withCallingHandlers({\n",
      " .     if (!mime %in% names(repr::mime2repr)) \n",
      " .         stop(\"No repr_* for mimetype \", mime, \" in repr::mime2repr\")\n",
      " .     rpr <- repr::mime2repr[[mime]](obj)\n",
      " .     if (is.null(rpr)) \n",
      " .         return(NULL)\n",
      " .     prepare_content(is.raw(rpr), rpr)\n",
      " . }, error = error_handler), error = outer_handler)\n",
      "3. tryCatchList(expr, classes, parentenv, handlers)\n",
      "4. tryCatchOne(expr, names, parentenv, handlers[[1L]])\n",
      "5. doTryCatch(return(expr), name, parentenv, handler)\n",
      "6. withCallingHandlers({\n",
      " .     if (!mime %in% names(repr::mime2repr)) \n",
      " .         stop(\"No repr_* for mimetype \", mime, \" in repr::mime2repr\")\n",
      " .     rpr <- repr::mime2repr[[mime]](obj)\n",
      " .     if (is.null(rpr)) \n",
      " .         return(NULL)\n",
      " .     prepare_content(is.raw(rpr), rpr)\n",
      " . }, error = error_handler)\n",
      "7. repr::mime2repr[[mime]](obj)\n",
      "8. repr_markdown.list(obj)\n",
      "9. repr_list_generic(obj, \"markdown\", \"%s. %s\\n\", \"$%s\\n:   %s\\n\", \n",
      " .     \"**$%s** = %s\", \"%s\\n\\n\", numeric_item = \"[[%s]]\\n:   %s\\n\", \n",
      " .     item_uses_numbers = TRUE, escape_fun = html_escape)\n",
      "10. sapply(nms, as_name_or_na, USE.NAMES = FALSE)\n",
      "11. lapply(X = X, FUN = FUN, ...)\n",
      "12. FUN(X[[i]], ...)\n",
      "ERROR while rich displaying an object: Error in nchar(x): invalid multibyte string, element 1\n",
      "\n",
      "Traceback:\n",
      "1. FUN(X[[i]], ...)\n",
      "2. tryCatch(withCallingHandlers({\n",
      " .     if (!mime %in% names(repr::mime2repr)) \n",
      " .         stop(\"No repr_* for mimetype \", mime, \" in repr::mime2repr\")\n",
      " .     rpr <- repr::mime2repr[[mime]](obj)\n",
      " .     if (is.null(rpr)) \n",
      " .         return(NULL)\n",
      " .     prepare_content(is.raw(rpr), rpr)\n",
      " . }, error = error_handler), error = outer_handler)\n",
      "3. tryCatchList(expr, classes, parentenv, handlers)\n",
      "4. tryCatchOne(expr, names, parentenv, handlers[[1L]])\n",
      "5. doTryCatch(return(expr), name, parentenv, handler)\n",
      "6. withCallingHandlers({\n",
      " .     if (!mime %in% names(repr::mime2repr)) \n",
      " .         stop(\"No repr_* for mimetype \", mime, \" in repr::mime2repr\")\n",
      " .     rpr <- repr::mime2repr[[mime]](obj)\n",
      " .     if (is.null(rpr)) \n",
      " .         return(NULL)\n",
      " .     prepare_content(is.raw(rpr), rpr)\n",
      " . }, error = error_handler)\n",
      "7. repr::mime2repr[[mime]](obj)\n",
      "8. repr_latex.list(obj)\n",
      "9. repr_list_generic(obj, \"latex\", \"\\\\item %s\\n\", \"\\\\item[\\\\$%s] %s\\n\", \n",
      " .     \"\\\\textbf{\\\\$%s} = %s\", enum_wrap = \"\\\\begin{enumerate}\\n%s\\\\end{enumerate}\\n\", \n",
      " .     named_wrap = \"\\\\begin{description}\\n%s\\\\end{description}\\n\", \n",
      " .     numeric_item = \"\\\\item[{[[%s]]}] %s\\n\", escape_fun = latex_escape)\n",
      "10. sapply(nms, as_name_or_na, USE.NAMES = FALSE)\n",
      "11. lapply(X = X, FUN = FUN, ...)\n",
      "12. FUN(X[[i]], ...)\n"
     ]
    },
    {
     "data": {
      "text/plain": [
       "$`<c7><U+0471><db> <c5><U+05FD><U+00BA><U+01AE> <c0><U+0534><U+03F4><d9>.`\n",
       "[1] \"<c7><d1>/SL\" \"<U+00B1><db> /SY\" \"<c5><d7>/SL\" \"<U+00BD><U+00BA>/SY\" \"<U+01AE>/SL\"\n",
       "[6] \"<c0><U+0534>/SY\" \"<U+03F4>/SL\" \"<d9>./SY\"   \n"
      ]
     },
     "metadata": {},
     "output_type": "display_data"
    }
   ],
   "source": [
    "pos(test)"
   ]
  },
  {
   "cell_type": "code",
   "execution_count": 7,
   "metadata": {},
   "outputs": [
    {
     "name": "stderr",
     "output_type": "stream",
     "text": [
      "Loading required namespace: tidytext\n",
      "also installing the dependencies 'SnowballC', 'ISOcodes', 'hunspell', 'tokenizers', 'janeaustenr', 'stopwords'\n",
      "\n"
     ]
    },
    {
     "name": "stdout",
     "output_type": "stream",
     "text": [
      "package 'SnowballC' successfully unpacked and MD5 sums checked\n",
      "package 'ISOcodes' successfully unpacked and MD5 sums checked\n",
      "package 'hunspell' successfully unpacked and MD5 sums checked\n",
      "package 'tokenizers' successfully unpacked and MD5 sums checked\n",
      "package 'janeaustenr' successfully unpacked and MD5 sums checked\n",
      "package 'stopwords' successfully unpacked and MD5 sums checked\n",
      "package 'tidytext' successfully unpacked and MD5 sums checked\n",
      "\n",
      "The downloaded binary packages are in\n",
      "\tC:\\Users\\student\\AppData\\Local\\Temp\\Rtmps5XYCs\\downloaded_packages\n"
     ]
    },
    {
     "name": "stderr",
     "output_type": "stream",
     "text": [
      "Loading required namespace: presidentSpeech\n",
      "Downloading GitHub repo forkonlp/presidentSpeech@master\n"
     ]
    },
    {
     "name": "stdout",
     "output_type": "stream",
     "text": [
      "xml2      (1.2.0  -> 1.2.2 ) [CRAN]\n",
      "rvest     (0.3.3  -> 0.3.5 ) [CRAN]\n",
      "tibble    (2.1.1  -> 2.1.3 ) [CRAN]\n",
      "Rcpp      (1.0.1  -> 1.0.3 ) [CRAN]\n",
      "httr      (1.4.0  -> 1.4.1 ) [CRAN]\n",
      "selectr   (0.4-1  -> 0.4-2 ) [CRAN]\n",
      "cli       (1.1.0  -> 2.0.1 ) [CRAN]\n",
      "fansi     (0.4.0  -> 0.4.1 ) [CRAN]\n",
      "pillar    (1.3.1  -> 1.4.3 ) [CRAN]\n",
      "pkgconfig (2.0.2  -> 2.0.3 ) [CRAN]\n",
      "curl      (3.3    -> 4.3   ) [CRAN]\n",
      "mime      (0.6    -> 0.8   ) [CRAN]\n",
      "openssl   (1.3    -> 1.4.1 ) [CRAN]\n",
      "R6        (2.4.0  -> 2.4.1 ) [CRAN]\n",
      "askpass   (1.0    -> 1.1   ) [CRAN]\n",
      "sys       (3.2    -> 3.3   ) [CRAN]\n",
      "stringi   (1.4.3  -> 1.4.5 ) [CRAN]\n",
      "backports (1.1.4  -> 1.1.5 ) [CRAN]\n",
      "digest    (0.6.18 -> 0.6.23) [CRAN]\n"
     ]
    },
    {
     "name": "stderr",
     "output_type": "stream",
     "text": [
      "Installing 19 packages: xml2, rvest, tibble, Rcpp, httr, selectr, cli, fansi, pillar, pkgconfig, curl, mime, openssl, R6, askpass, sys, stringi, backports, digest\n"
     ]
    },
    {
     "name": "stdout",
     "output_type": "stream",
     "text": [
      "\n",
      "  There is a binary version available but the source version is later:\n",
      "        binary source needs_compilation\n",
      "stringi  1.4.4  1.4.5              TRUE\n",
      "\n",
      "  Binaries will be installed\n",
      "package 'xml2' successfully unpacked and MD5 sums checked\n",
      "package 'rvest' successfully unpacked and MD5 sums checked\n",
      "package 'tibble' successfully unpacked and MD5 sums checked\n"
     ]
    },
    {
     "ename": "ERROR",
     "evalue": "Error: Failed to install 'presidentSpeech' from GitHub:\n  (converted from warning) cannot remove prior installation of package 'tibble'\n",
     "output_type": "error",
     "traceback": [
      "Error: Failed to install 'presidentSpeech' from GitHub:\n  (converted from warning) cannot remove prior installation of package 'tibble'\nTraceback:\n",
      "1. remotes::install_github(\"forkonlp/presidentSpeech\")   # at line 9 of file <text>",
      "2. install_remotes(remotes, auth_token = auth_token, host = host, \n .     dependencies = dependencies, upgrade = upgrade, force = force, \n .     quiet = quiet, build = build, build_opts = build_opts, build_manual = build_manual, \n .     build_vignettes = build_vignettes, repos = repos, type = type, \n .     ...)",
      "3. tryCatch(res[[i]] <- install_remote(remotes[[i]], ...), error = function(e) {\n .     stop(remote_install_error(remotes[[i]], e))\n . })",
      "4. tryCatchList(expr, classes, parentenv, handlers)",
      "5. tryCatchOne(expr, names, parentenv, handlers[[1L]])",
      "6. value[[3L]](cond)"
     ]
    }
   ],
   "source": [
    "### remotes : remotes 패키지는 패키지 인스톨을 위한 함수를 제공합니다.\n",
    "if (!requireNamespace(\"remotes\")) {\n",
    "  install.packages(\"remotes\", repos = \"https://cloud.r-project.org\")\n",
    "}\n",
    "###  tidytext 패키지는 텍스트를 tidy하게 다룰 수 있게 해줍니다if (!requireNamespace(\"tidyverse\")) {\n",
    "if (!requireNamespace(\"tidytext\")) {\n",
    "  install.packages(\"tidytext\", repos = \"https://cloud.r-project.org\")\n",
    "}\n",
    "#> Loading required namespace: tidytext\n",
    "if (!requireNamespace(\"presidentSpeech\")) {\n",
    "  remotes::install_github(\"forkonlp/presidentSpeech\")\n",
    "}"
   ]
  },
  {
   "cell_type": "code",
   "execution_count": 8,
   "metadata": {},
   "outputs": [
    {
     "name": "stderr",
     "output_type": "stream",
     "text": [
      "Loading required namespace: tidyverse\n",
      "Registered S3 methods overwritten by 'ggplot2':\n",
      "  method         from \n",
      "  [.quosures     rlang\n",
      "  c.quosures     rlang\n",
      "  print.quosures rlang\n",
      "-- Attaching packages --------------------------------------- tidyverse 1.2.1 --\n"
     ]
    },
    {
     "ename": "ERROR",
     "evalue": "Error: package or namespace load failed for 'tidyverse':\n .onAttach failed in attachNamespace() for 'tidyverse', details:\n  call: utils::packageVersion(x)\n  error: there is no package called 'tibble'\n",
     "output_type": "error",
     "traceback": [
      "Error: package or namespace load failed for 'tidyverse':\n .onAttach failed in attachNamespace() for 'tidyverse', details:\n  call: utils::packageVersion(x)\n  error: there is no package called 'tibble'\nTraceback:\n",
      "1. library(tidyverse)",
      "2. tryCatch({\n .     attr(package, \"LibPath\") <- which.lib.loc\n .     ns <- loadNamespace(package, lib.loc)\n .     env <- attachNamespace(ns, pos = pos, deps, exclude, include.only)\n . }, error = function(e) {\n .     P <- if (!is.null(cc <- conditionCall(e))) \n .         paste(\" in\", deparse(cc)[1L])\n .     else \"\"\n .     msg <- gettextf(\"package or namespace load failed for %s%s:\\n %s\", \n .         sQuote(package), P, conditionMessage(e))\n .     if (logical.return) \n .         message(paste(\"Error:\", msg), domain = NA)\n .     else stop(msg, call. = FALSE, domain = NA)\n . })",
      "3. tryCatchList(expr, classes, parentenv, handlers)",
      "4. tryCatchOne(expr, names, parentenv, handlers[[1L]])",
      "5. value[[3L]](cond)",
      "6. stop(msg, call. = FALSE, domain = NA)"
     ]
    }
   ],
   "source": [
    "if (!requireNamespace(\"tidyverse\")) {\n",
    "  install.packages(\"tidyverse\")}\n",
    "#> Loading required namespace: tidyverse\n",
    "library(tidyverse)"
   ]
  },
  {
   "cell_type": "code",
   "execution_count": 9,
   "metadata": {},
   "outputs": [
    {
     "name": "stdout",
     "output_type": "stream",
     "text": [
      "package 'tibble' successfully unpacked and MD5 sums checked\n"
     ]
    },
    {
     "name": "stderr",
     "output_type": "stream",
     "text": [
      "Warning message:\n",
      "\"cannot remove prior installation of package 'tibble'\"Warning message in file.copy(savedcopy, lib, recursive = TRUE):\n",
      "\"C:\\Users\\student\\Anaconda3\\envs\\r-tutorial\\Lib\\R\\library\\00LOCK\\tibble\\libs\\x64\\tibble.dll를 C:\\Users\\student\\Anaconda3\\envs\\r-tutorial\\Lib\\R\\library\\tibble\\libs\\x64\\tibble.dll로 복사하는데 문제가 발생했습니다: Permission denied\"Warning message:\n",
      "\"restored 'tibble'\""
     ]
    },
    {
     "name": "stdout",
     "output_type": "stream",
     "text": [
      "\n",
      "The downloaded binary packages are in\n",
      "\tC:\\Users\\student\\AppData\\Local\\Temp\\Rtmps5XYCs\\downloaded_packages\n"
     ]
    }
   ],
   "source": [
    "install.packages(\"tibble\")"
   ]
  },
  {
   "cell_type": "code",
   "execution_count": 10,
   "metadata": {},
   "outputs": [
    {
     "name": "stderr",
     "output_type": "stream",
     "text": [
      "also installing the dependencies 'lifecycle', 'dbplyr', 'dplyr', 'ggplot2', 'haven', 'hms', 'httr', 'modelr', 'pillar', 'reprex', 'tibble', 'tidyr'\n",
      "\n"
     ]
    },
    {
     "name": "stdout",
     "output_type": "stream",
     "text": [
      "package 'lifecycle' successfully unpacked and MD5 sums checked\n",
      "package 'dbplyr' successfully unpacked and MD5 sums checked\n",
      "package 'dplyr' successfully unpacked and MD5 sums checked\n"
     ]
    },
    {
     "name": "stderr",
     "output_type": "stream",
     "text": [
      "Warning message:\n",
      "\"cannot remove prior installation of package 'dplyr'\"Warning message in file.copy(savedcopy, lib, recursive = TRUE):\n",
      "\"C:\\Users\\student\\Anaconda3\\envs\\r-tutorial\\Lib\\R\\library\\00LOCK\\dplyr\\libs\\x64\\dplyr.dll를 C:\\Users\\student\\Anaconda3\\envs\\r-tutorial\\Lib\\R\\library\\dplyr\\libs\\x64\\dplyr.dll로 복사하는데 문제가 발생했습니다: Permission denied\"Warning message:\n",
      "\"restored 'dplyr'\""
     ]
    },
    {
     "name": "stdout",
     "output_type": "stream",
     "text": [
      "package 'ggplot2' successfully unpacked and MD5 sums checked\n",
      "package 'haven' successfully unpacked and MD5 sums checked\n"
     ]
    },
    {
     "name": "stderr",
     "output_type": "stream",
     "text": [
      "Warning message:\n",
      "\"cannot remove prior installation of package 'haven'\"Warning message in file.copy(savedcopy, lib, recursive = TRUE):\n",
      "\"C:\\Users\\student\\Anaconda3\\envs\\r-tutorial\\Lib\\R\\library\\00LOCK\\haven\\libs\\x64\\haven.dll를 C:\\Users\\student\\Anaconda3\\envs\\r-tutorial\\Lib\\R\\library\\haven\\libs\\x64\\haven.dll로 복사하는데 문제가 발생했습니다: Permission denied\"Warning message:\n",
      "\"restored 'haven'\""
     ]
    },
    {
     "name": "stdout",
     "output_type": "stream",
     "text": [
      "package 'hms' successfully unpacked and MD5 sums checked\n",
      "package 'httr' successfully unpacked and MD5 sums checked\n",
      "package 'modelr' successfully unpacked and MD5 sums checked\n",
      "package 'pillar' successfully unpacked and MD5 sums checked\n",
      "package 'reprex' successfully unpacked and MD5 sums checked\n",
      "package 'tibble' successfully unpacked and MD5 sums checked\n"
     ]
    },
    {
     "name": "stderr",
     "output_type": "stream",
     "text": [
      "Warning message:\n",
      "\"cannot remove prior installation of package 'tibble'\"Warning message in file.copy(savedcopy, lib, recursive = TRUE):\n",
      "\"C:\\Users\\student\\Anaconda3\\envs\\r-tutorial\\Lib\\R\\library\\00LOCK\\tibble\\libs\\x64\\tibble.dll를 C:\\Users\\student\\Anaconda3\\envs\\r-tutorial\\Lib\\R\\library\\tibble\\libs\\x64\\tibble.dll로 복사하는데 문제가 발생했습니다: Permission denied\"Warning message:\n",
      "\"restored 'tibble'\""
     ]
    },
    {
     "name": "stdout",
     "output_type": "stream",
     "text": [
      "package 'tidyr' successfully unpacked and MD5 sums checked\n"
     ]
    },
    {
     "name": "stderr",
     "output_type": "stream",
     "text": [
      "Warning message:\n",
      "\"cannot remove prior installation of package 'tidyr'\"Warning message in file.copy(savedcopy, lib, recursive = TRUE):\n",
      "\"C:\\Users\\student\\Anaconda3\\envs\\r-tutorial\\Lib\\R\\library\\00LOCK\\tidyr\\libs\\x64\\tidyr.dll를 C:\\Users\\student\\Anaconda3\\envs\\r-tutorial\\Lib\\R\\library\\tidyr\\libs\\x64\\tidyr.dll로 복사하는데 문제가 발생했습니다: Permission denied\"Warning message:\n",
      "\"restored 'tidyr'\""
     ]
    },
    {
     "name": "stdout",
     "output_type": "stream",
     "text": [
      "package 'tidyverse' successfully unpacked and MD5 sums checked\n",
      "\n",
      "The downloaded binary packages are in\n",
      "\tC:\\Users\\student\\AppData\\Local\\Temp\\Rtmps5XYCs\\downloaded_packages\n"
     ]
    }
   ],
   "source": [
    "install.packages(\"tidyverse\")"
   ]
  },
  {
   "cell_type": "code",
   "execution_count": 11,
   "metadata": {},
   "outputs": [
    {
     "name": "stderr",
     "output_type": "stream",
     "text": [
      "Downloading GitHub repo forkonlp/presidentSpeech@master\n"
     ]
    },
    {
     "name": "stdout",
     "output_type": "stream",
     "text": [
      "tibble    (NA     -> 2.1.3 ) [CRAN]\n",
      "Rcpp      (1.0.1  -> 1.0.3 ) [CRAN]\n",
      "selectr   (0.4-1  -> 0.4-2 ) [CRAN]\n",
      "cli       (1.1.0  -> 2.0.1 ) [CRAN]\n",
      "fansi     (0.4.0  -> 0.4.1 ) [CRAN]\n",
      "pkgconfig (2.0.2  -> 2.0.3 ) [CRAN]\n",
      "curl      (3.3    -> 4.3   ) [CRAN]\n",
      "mime      (0.6    -> 0.8   ) [CRAN]\n",
      "openssl   (1.3    -> 1.4.1 ) [CRAN]\n",
      "R6        (2.4.0  -> 2.4.1 ) [CRAN]\n",
      "askpass   (1.0    -> 1.1   ) [CRAN]\n",
      "sys       (3.2    -> 3.3   ) [CRAN]\n",
      "stringi   (1.4.3  -> 1.4.5 ) [CRAN]\n",
      "backports (1.1.4  -> 1.1.5 ) [CRAN]\n",
      "digest    (0.6.18 -> 0.6.23) [CRAN]\n"
     ]
    },
    {
     "name": "stderr",
     "output_type": "stream",
     "text": [
      "Installing 15 packages: tibble, Rcpp, selectr, cli, fansi, pkgconfig, curl, mime, openssl, R6, askpass, sys, stringi, backports, digest\n"
     ]
    },
    {
     "name": "stdout",
     "output_type": "stream",
     "text": [
      "\n",
      "  There is a binary version available but the source version is later:\n",
      "        binary source needs_compilation\n",
      "stringi  1.4.4  1.4.5              TRUE\n",
      "\n",
      "  Binaries will be installed\n",
      "package 'tibble' successfully unpacked and MD5 sums checked\n"
     ]
    },
    {
     "ename": "ERROR",
     "evalue": "Error: Failed to install 'presidentSpeech' from GitHub:\n  (converted from warning) cannot remove prior installation of package 'tibble'\n",
     "output_type": "error",
     "traceback": [
      "Error: Failed to install 'presidentSpeech' from GitHub:\n  (converted from warning) cannot remove prior installation of package 'tibble'\nTraceback:\n",
      "1. remotes::install_github(\"forkonlp/presidentSpeech\")",
      "2. install_remotes(remotes, auth_token = auth_token, host = host, \n .     dependencies = dependencies, upgrade = upgrade, force = force, \n .     quiet = quiet, build = build, build_opts = build_opts, build_manual = build_manual, \n .     build_vignettes = build_vignettes, repos = repos, type = type, \n .     ...)",
      "3. tryCatch(res[[i]] <- install_remote(remotes[[i]], ...), error = function(e) {\n .     stop(remote_install_error(remotes[[i]], e))\n . })",
      "4. tryCatchList(expr, classes, parentenv, handlers)",
      "5. tryCatchOne(expr, names, parentenv, handlers[[1L]])",
      "6. value[[3L]](cond)"
     ]
    }
   ],
   "source": [
    "remotes::install_github(\"forkonlp/presidentSpeech\")"
   ]
  },
  {
   "cell_type": "code",
   "execution_count": 12,
   "metadata": {},
   "outputs": [
    {
     "name": "stdout",
     "output_type": "stream",
     "text": [
      "package 'pacman' successfully unpacked and MD5 sums checked\n",
      "\n",
      "The downloaded binary packages are in\n",
      "\tC:\\Users\\student\\AppData\\Local\\Temp\\Rtmps5XYCs\\downloaded_packages\n"
     ]
    }
   ],
   "source": [
    "install.packages(\"pacman\")"
   ]
  },
  {
   "cell_type": "code",
   "execution_count": 13,
   "metadata": {},
   "outputs": [
    {
     "name": "stderr",
     "output_type": "stream",
     "text": [
      "Warning message:\n",
      "\"package 'pacman' was built under R version 3.6.2\""
     ]
    }
   ],
   "source": [
    "library(\"pacman\")"
   ]
  },
  {
   "cell_type": "code",
   "execution_count": 14,
   "metadata": {},
   "outputs": [
    {
     "name": "stderr",
     "output_type": "stream",
     "text": [
      "\n",
      "No 00LOCK detected in:\n",
      " C:/Users/student/Anaconda3/envs/r-tutorial/Lib/R/library\n"
     ]
    }
   ],
   "source": [
    "p_unlock()"
   ]
  },
  {
   "cell_type": "code",
   "execution_count": 15,
   "metadata": {},
   "outputs": [],
   "source": [
    "library('xlsx')"
   ]
  },
  {
   "cell_type": "code",
   "execution_count": 27,
   "metadata": {},
   "outputs": [],
   "source": [
    "data <- read.csv(\"RefinedData001.csv\",header=FALSE, na.strings=\"NA\",stringsAsFactors=default.stringsAsFactors(),fileEncoding=\"utf-8\")"
   ]
  },
  {
   "cell_type": "code",
   "execution_count": 28,
   "metadata": {},
   "outputs": [
    {
     "data": {
      "text/html": [
       "<table>\n",
       "<thead><tr><th scope=col>V1</th><th scope=col>V2</th><th scope=col>V3</th></tr></thead>\n",
       "<tbody>\n",
       "\t<tr><td>1   </td><td>접사</td><td> 2  </td></tr>\n",
       "\t<tr><td>2   </td><td>어미</td><td> 7  </td></tr>\n",
       "\t<tr><td>3   </td><td>어미</td><td> 9  </td></tr>\n",
       "\t<tr><td>4   </td><td>어미</td><td>11  </td></tr>\n",
       "\t<tr><td>5   </td><td>어미</td><td> 6  </td></tr>\n",
       "\t<tr><td>6   </td><td>어미</td><td> 8  </td></tr>\n",
       "</tbody>\n",
       "</table>\n"
      ],
      "text/latex": [
       "\\begin{tabular}{r|lll}\n",
       " V1 & V2 & V3\\\\\n",
       "\\hline\n",
       "\t 1    & 접사 &  2  \\\\\n",
       "\t 2    & 어미 &  7  \\\\\n",
       "\t 3    & 어미 &  9  \\\\\n",
       "\t 4    & 어미 & 11  \\\\\n",
       "\t 5    & 어미 &  6  \\\\\n",
       "\t 6    & 어미 &  8  \\\\\n",
       "\\end{tabular}\n"
      ],
      "text/markdown": [
       "\n",
       "| V1 | V2 | V3 |\n",
       "|---|---|---|\n",
       "| 1    | 접사 |  2   |\n",
       "| 2    | 어미 |  7   |\n",
       "| 3    | 어미 |  9   |\n",
       "| 4    | 어미 | 11   |\n",
       "| 5    | 어미 |  6   |\n",
       "| 6    | 어미 |  8   |\n",
       "\n"
      ],
      "text/plain": [
       "  V1 V2   V3\n",
       "1 1  접사  2\n",
       "2 2  어미  7\n",
       "3 3  어미  9\n",
       "4 4  어미 11\n",
       "5 5  어미  6\n",
       "6 6  어미  8"
      ]
     },
     "metadata": {},
     "output_type": "display_data"
    }
   ],
   "source": [
    "head(data)"
   ]
  },
  {
   "cell_type": "code",
   "execution_count": null,
   "metadata": {},
   "outputs": [],
   "source": []
  }
 ],
 "metadata": {
  "kernelspec": {
   "display_name": "R",
   "language": "R",
   "name": "ir"
  },
  "language_info": {
   "codemirror_mode": "r",
   "file_extension": ".r",
   "mimetype": "text/x-r-source",
   "name": "R",
   "pygments_lexer": "r",
   "version": "3.6.1"
  }
 },
 "nbformat": 4,
 "nbformat_minor": 2
}
