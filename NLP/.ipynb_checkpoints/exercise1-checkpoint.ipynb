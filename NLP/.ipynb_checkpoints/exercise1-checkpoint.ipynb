{
 "cells": [
  {
   "cell_type": "code",
   "execution_count": 1,
   "metadata": {},
   "outputs": [
    {
     "name": "stderr",
     "output_type": "stream",
     "text": [
      "\n",
      "Attaching package: 'dplyr'\n",
      "\n",
      "The following objects are masked from 'package:stats':\n",
      "\n",
      "    filter, lag\n",
      "\n",
      "The following objects are masked from 'package:base':\n",
      "\n",
      "    intersect, setdiff, setequal, union\n",
      "\n"
     ]
    }
   ],
   "source": [
    "library('dplyr')"
   ]
  },
  {
   "cell_type": "code",
   "execution_count": 2,
   "metadata": {},
   "outputs": [],
   "source": [
    "library(dplyr)"
   ]
  },
  {
   "cell_type": "code",
   "execution_count": 3,
   "metadata": {},
   "outputs": [],
   "source": [
    "library(XML)"
   ]
  },
  {
   "cell_type": "code",
   "execution_count": 4,
   "metadata": {},
   "outputs": [
    {
     "name": "stderr",
     "output_type": "stream",
     "text": [
      "gdata: read.xls support for 'XLS' (Excel 97-2004) files ENABLED.\n",
      "\n",
      "gdata: Unable to load perl libaries needed by read.xls()\n",
      "gdata: to support 'XLSX' (Excel 2007+) files.\n",
      "\n",
      "gdata: Run the function 'installXLSXsupport()'\n",
      "gdata: to automatically download and install the perl\n",
      "gdata: libaries needed to support Excel XLS and XLSX formats.\n",
      "\n",
      "Attaching package: 'gdata'\n",
      "\n",
      "The following objects are masked from 'package:dplyr':\n",
      "\n",
      "    combine, first, last\n",
      "\n",
      "The following object is masked from 'package:stats':\n",
      "\n",
      "    nobs\n",
      "\n",
      "The following object is masked from 'package:utils':\n",
      "\n",
      "    object.size\n",
      "\n",
      "The following object is masked from 'package:base':\n",
      "\n",
      "    startsWith\n",
      "\n"
     ]
    }
   ],
   "source": [
    "library(gdata)"
   ]
  },
  {
   "cell_type": "code",
   "execution_count": 5,
   "metadata": {},
   "outputs": [],
   "source": [
    "fileUrl <- \"626248_50000.xml\""
   ]
  },
  {
   "cell_type": "code",
   "execution_count": 6,
   "metadata": {},
   "outputs": [],
   "source": [
    "doc <- xmlTreeParse(fileUrl,useInternal=TRUE)"
   ]
  },
  {
   "cell_type": "code",
   "execution_count": 7,
   "metadata": {},
   "outputs": [],
   "source": [
    "rootNode <- xmlRoot(doc)"
   ]
  },
  {
   "cell_type": "code",
   "execution_count": 8,
   "metadata": {},
   "outputs": [
    {
     "data": {
      "text/plain": [
       "<title>사전 검색</title> "
      ]
     },
     "metadata": {},
     "output_type": "display_data"
    }
   ],
   "source": [
    "rootNode[[1]]"
   ]
  },
  {
   "cell_type": "code",
   "execution_count": 9,
   "metadata": {},
   "outputs": [
    {
     "data": {
      "text/html": [
       "<ol class=list-inline>\n",
       "\t<li>'XMLInternalElementNode'</li>\n",
       "\t<li>'XMLInternalNode'</li>\n",
       "\t<li>'XMLAbstractNode'</li>\n",
       "</ol>\n"
      ],
      "text/latex": [
       "\\begin{enumerate*}\n",
       "\\item 'XMLInternalElementNode'\n",
       "\\item 'XMLInternalNode'\n",
       "\\item 'XMLAbstractNode'\n",
       "\\end{enumerate*}\n"
      ],
      "text/markdown": [
       "1. 'XMLInternalElementNode'\n",
       "2. 'XMLInternalNode'\n",
       "3. 'XMLAbstractNode'\n",
       "\n",
       "\n"
      ],
      "text/plain": [
       "[1] \"XMLInternalElementNode\" \"XMLInternalNode\"        \"XMLAbstractNode\"       "
      ]
     },
     "metadata": {},
     "output_type": "display_data"
    }
   ],
   "source": [
    "class(rootNode)"
   ]
  },
  {
   "cell_type": "code",
   "execution_count": 10,
   "metadata": {},
   "outputs": [
    {
     "data": {
      "text/html": [
       "50005"
      ],
      "text/latex": [
       "50005"
      ],
      "text/markdown": [
       "50005"
      ],
      "text/plain": [
       "[1] 50005"
      ]
     },
     "metadata": {},
     "output_type": "display_data"
    }
   ],
   "source": [
    "xmlSize(rootNode)"
   ]
  },
  {
   "cell_type": "code",
   "execution_count": 11,
   "metadata": {},
   "outputs": [
    {
     "data": {
      "text/plain": [
       "<item>\n",
       "  <target_code>658820</target_code>\n",
       "  <group_code>47908</group_code>\n",
       "  <group_order>1</group_order>\n",
       "  <link><![CDATA[http://opendict.korean.go.kr/dictionary/view?sense_no=658820]]></link>\n",
       "  <wordInfo>\n",
       "    <word><![CDATA[겟-불]]></word>\n",
       "    <word_unit>어휘</word_unit>\n",
       "    <word_type>고유어</word_type>\n",
       "  </wordInfo>\n",
       "  <senseInfo>\n",
       "    <sense_no>001</sense_no>\n",
       "    <pos>명사</pos>\n",
       "    <type>방언</type>\n",
       "    <definition><![CDATA[‘겻불’의 방언]]></definition>\n",
       "    <region_info>\n",
       "      <region><![CDATA[강원]]></region>\n",
       "    </region_info>\n",
       "  </senseInfo>\n",
       "</item> "
      ]
     },
     "metadata": {},
     "output_type": "display_data"
    }
   ],
   "source": [
    "rootNode[[50000]]"
   ]
  },
  {
   "cell_type": "code",
   "execution_count": 12,
   "metadata": {},
   "outputs": [
    {
     "data": {
      "text/plain": [
       "<item>\n",
       "  <target_code>450285</target_code>\n",
       "  <group_code>47909</group_code>\n",
       "  <group_order>1</group_order>\n",
       "  <link><![CDATA[http://opendict.korean.go.kr/dictionary/view?sense_no=450285]]></link>\n",
       "  <wordInfo>\n",
       "    <word><![CDATA[겟세마네]]></word>\n",
       "    <word_unit>어휘</word_unit>\n",
       "    <word_type>외래어</word_type>\n",
       "    <original_language_info>\n",
       "      <original_language><![CDATA[←Gethsemane]]></original_language>\n",
       "      <language_type>안 밝힘</language_type>\n",
       "    </original_language_info>\n",
       "  </wordInfo>\n",
       "  <senseInfo>\n",
       "    <sense_no>001</sense_no>\n",
       "    <pos>명사</pos>\n",
       "    <type>일반어</type>\n",
       "    <definition><![CDATA[예루살렘의 동쪽 감람산 기슭에 있는 동산. 예수가 처형되기 전날 최후의 기도를 한 곳으로 유명하다.]]></definition>\n",
       "    <cat_info>\n",
       "      <cat><![CDATA[기독교]]></cat>\n",
       "    </cat_info>\n",
       "    <relation_info>\n",
       "      <word><![CDATA[겟세마니001]]></word>\n",
       "      <type>비슷한말</type>\n",
       "      <link_target_code>587984</link_target_code>\n",
       "      <link><![CDATA[http://opendict.korean.go.kr/dictionary/view?sense_no=587984]]></link>\n",
       "    </relation_info>\n",
       "    <relation_info>\n",
       "      <word><![CDATA[동산001]]></word>\n",
       "      <type>상위어</type>\n",
       "      <link_target_code>558</link_target_code>\n",
       "      <link><![CDATA[http://opendict.korean.go.kr/dictionary/view?sense_no=558]]></link>\n",
       "    </relation_info>\n",
       "  </senseInfo>\n",
       "</item> "
      ]
     },
     "metadata": {},
     "output_type": "display_data"
    }
   ],
   "source": [
    "rootNode[[50001]]"
   ]
  },
  {
   "cell_type": "code",
   "execution_count": 13,
   "metadata": {},
   "outputs": [],
   "source": [
    "df <- xmlToDataFrame(\"626248_50000.xml\")"
   ]
  },
  {
   "cell_type": "code",
   "execution_count": null,
   "metadata": {},
   "outputs": [],
   "source": []
  }
 ],
 "metadata": {
  "kernelspec": {
   "display_name": "R",
   "language": "R",
   "name": "ir"
  },
  "language_info": {
   "codemirror_mode": "r",
   "file_extension": ".r",
   "mimetype": "text/x-r-source",
   "name": "R",
   "pygments_lexer": "r",
   "version": "3.6.1"
  }
 },
 "nbformat": 4,
 "nbformat_minor": 2
}
