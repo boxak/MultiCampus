{
 "cells": [
  {
   "cell_type": "code",
   "execution_count": 1,
   "metadata": {},
   "outputs": [
    {
     "name": "stderr",
     "output_type": "stream",
     "text": [
      "\n",
      "Attaching package: 'dplyr'\n",
      "\n",
      "The following objects are masked from 'package:stats':\n",
      "\n",
      "    filter, lag\n",
      "\n",
      "The following objects are masked from 'package:base':\n",
      "\n",
      "    intersect, setdiff, setequal, union\n",
      "\n",
      "Warning message:\n",
      "\"package 'writexl' was built under R version 3.6.2\""
     ]
    }
   ],
   "source": [
    "library('dplyr')\n",
    "library('xlsx')\n",
    "library('writexl')"
   ]
  },
  {
   "cell_type": "code",
   "execution_count": 2,
   "metadata": {},
   "outputs": [],
   "source": [
    "setwd(\"C:/Users/82102/Documents/GitHub/MultiCampus/NLP/RefinedDataSet\")"
   ]
  },
  {
   "cell_type": "code",
   "execution_count": 3,
   "metadata": {},
   "outputs": [],
   "source": [
    "data1 <- read.xlsx2(\"RefinedData001.xlsx\",sheetIndex=1,startRow=1,header=TRUE)"
   ]
  },
  {
   "cell_type": "code",
   "execution_count": 4,
   "metadata": {},
   "outputs": [
    {
     "data": {
      "text/html": [
       "<table>\n",
       "<thead><tr><th scope=col>품사</th><th scope=col>의미.번호</th><th scope=col>뜻풀이.음절</th><th scope=col>뜻풀이.어절</th></tr></thead>\n",
       "<tbody>\n",
       "\t<tr><td>접사</td><td>002 </td><td>14  </td><td>6   </td></tr>\n",
       "\t<tr><td>어미</td><td>007 </td><td>51  </td><td>18  </td></tr>\n",
       "\t<tr><td>어미</td><td>009 </td><td>25  </td><td>9   </td></tr>\n",
       "\t<tr><td>어미</td><td>011 </td><td>11  </td><td>4   </td></tr>\n",
       "\t<tr><td>어미</td><td>006 </td><td>41  </td><td>15  </td></tr>\n",
       "\t<tr><td>어미</td><td>008 </td><td>41  </td><td>14  </td></tr>\n",
       "</tbody>\n",
       "</table>\n"
      ],
      "text/latex": [
       "\\begin{tabular}{r|llll}\n",
       " 품사 & 의미.번호 & 뜻풀이.음절 & 뜻풀이.어절\\\\\n",
       "\\hline\n",
       "\t 접사 & 002  & 14   & 6   \\\\\n",
       "\t 어미 & 007  & 51   & 18  \\\\\n",
       "\t 어미 & 009  & 25   & 9   \\\\\n",
       "\t 어미 & 011  & 11   & 4   \\\\\n",
       "\t 어미 & 006  & 41   & 15  \\\\\n",
       "\t 어미 & 008  & 41   & 14  \\\\\n",
       "\\end{tabular}\n"
      ],
      "text/markdown": [
       "\n",
       "| 품사 | 의미.번호 | 뜻풀이.음절 | 뜻풀이.어절 |\n",
       "|---|---|---|---|\n",
       "| 접사 | 002  | 14   | 6    |\n",
       "| 어미 | 007  | 51   | 18   |\n",
       "| 어미 | 009  | 25   | 9    |\n",
       "| 어미 | 011  | 11   | 4    |\n",
       "| 어미 | 006  | 41   | 15   |\n",
       "| 어미 | 008  | 41   | 14   |\n",
       "\n"
      ],
      "text/plain": [
       "  품사 의미.번호 뜻풀이.음절 뜻풀이.어절\n",
       "1 접사 002       14          6          \n",
       "2 어미 007       51          18         \n",
       "3 어미 009       25          9          \n",
       "4 어미 011       11          4          \n",
       "5 어미 006       41          15         \n",
       "6 어미 008       41          14         "
      ]
     },
     "metadata": {},
     "output_type": "display_data"
    }
   ],
   "source": [
    "head(data1)"
   ]
  },
  {
   "cell_type": "code",
   "execution_count": 5,
   "metadata": {},
   "outputs": [
    {
     "data": {
      "text/html": [
       "<table>\n",
       "<thead><tr><th scope=col>품사</th><th scope=col>n</th></tr></thead>\n",
       "<tbody>\n",
       "\t<tr><td>감·명   </td><td>    3    </td></tr>\n",
       "\t<tr><td>감탄사   </td><td>   50    </td></tr>\n",
       "\t<tr><td>관·명   </td><td>  139    </td></tr>\n",
       "\t<tr><td>관형사   </td><td>    6    </td></tr>\n",
       "\t<tr><td>대·감   </td><td>    2    </td></tr>\n",
       "\t<tr><td>대명사   </td><td>   28    </td></tr>\n",
       "\t<tr><td>동사     </td><td> 6030    </td></tr>\n",
       "\t<tr><td>명·부   </td><td>    2    </td></tr>\n",
       "\t<tr><td>명사     </td><td>27742    </td></tr>\n",
       "\t<tr><td>보조 동사</td><td>    5    </td></tr>\n",
       "\t<tr><td>부사     </td><td> 1629    </td></tr>\n",
       "\t<tr><td>수·관   </td><td>    4    </td></tr>\n",
       "\t<tr><td>어미     </td><td> 2816    </td></tr>\n",
       "\t<tr><td>의존 명사</td><td>   89    </td></tr>\n",
       "\t<tr><td>접사     </td><td>  618    </td></tr>\n",
       "\t<tr><td>조사     </td><td>   52    </td></tr>\n",
       "\t<tr><td>품사 없음</td><td>18814    </td></tr>\n",
       "\t<tr><td>형용사   </td><td> 1971    </td></tr>\n",
       "</tbody>\n",
       "</table>\n"
      ],
      "text/latex": [
       "\\begin{tabular}{r|ll}\n",
       " 품사 & n\\\\\n",
       "\\hline\n",
       "\t 감·명    &     3    \\\\\n",
       "\t 감탄사    &    50    \\\\\n",
       "\t 관·명    &   139    \\\\\n",
       "\t 관형사    &     6    \\\\\n",
       "\t 대·감    &     2    \\\\\n",
       "\t 대명사    &    28    \\\\\n",
       "\t 동사      &  6030    \\\\\n",
       "\t 명·부    &     2    \\\\\n",
       "\t 명사      & 27742    \\\\\n",
       "\t 보조 동사 &     5    \\\\\n",
       "\t 부사      &  1629    \\\\\n",
       "\t 수·관    &     4    \\\\\n",
       "\t 어미      &  2816    \\\\\n",
       "\t 의존 명사 &    89    \\\\\n",
       "\t 접사      &   618    \\\\\n",
       "\t 조사      &    52    \\\\\n",
       "\t 품사 없음 & 18814    \\\\\n",
       "\t 형용사    &  1971    \\\\\n",
       "\\end{tabular}\n"
      ],
      "text/markdown": [
       "\n",
       "| 품사 | n |\n",
       "|---|---|\n",
       "| 감·명    |     3     |\n",
       "| 감탄사    |    50     |\n",
       "| 관·명    |   139     |\n",
       "| 관형사    |     6     |\n",
       "| 대·감    |     2     |\n",
       "| 대명사    |    28     |\n",
       "| 동사      |  6030     |\n",
       "| 명·부    |     2     |\n",
       "| 명사      | 27742     |\n",
       "| 보조 동사 |     5     |\n",
       "| 부사      |  1629     |\n",
       "| 수·관    |     4     |\n",
       "| 어미      |  2816     |\n",
       "| 의존 명사 |    89     |\n",
       "| 접사      |   618     |\n",
       "| 조사      |    52     |\n",
       "| 품사 없음 | 18814     |\n",
       "| 형용사    |  1971     |\n",
       "\n"
      ],
      "text/plain": [
       "   품사      n    \n",
       "1  감·명        3\n",
       "2  감탄사       50\n",
       "3  관·명      139\n",
       "4  관형사        6\n",
       "5  대·감        2\n",
       "6  대명사       28\n",
       "7  동사       6030\n",
       "8  명·부        2\n",
       "9  명사      27742\n",
       "10 보조 동사     5\n",
       "11 부사       1629\n",
       "12 수·관        4\n",
       "13 어미       2816\n",
       "14 의존 명사    89\n",
       "15 접사        618\n",
       "16 조사         52\n",
       "17 품사 없음 18814\n",
       "18 형용사     1971"
      ]
     },
     "metadata": {},
     "output_type": "display_data"
    }
   ],
   "source": [
    "### 품사별 의미어 수\n",
    "voca1 <- data1 %>% \n",
    "                    count(품사)\n",
    "voca1"
   ]
  },
  {
   "cell_type": "code",
   "execution_count": 6,
   "metadata": {},
   "outputs": [
    {
     "data": {
      "text/html": [
       "<table>\n",
       "<thead><tr><th scope=col>품사</th><th scope=col>n</th></tr></thead>\n",
       "<tbody>\n",
       "\t<tr><td>감·명   </td><td>    3    </td></tr>\n",
       "\t<tr><td>감탄사   </td><td>   24    </td></tr>\n",
       "\t<tr><td>관·명   </td><td>  121    </td></tr>\n",
       "\t<tr><td>관형사   </td><td>    6    </td></tr>\n",
       "\t<tr><td>대·감   </td><td>    2    </td></tr>\n",
       "\t<tr><td>대명사   </td><td>   13    </td></tr>\n",
       "\t<tr><td>동사     </td><td> 3976    </td></tr>\n",
       "\t<tr><td>명·부   </td><td>    2    </td></tr>\n",
       "\t<tr><td>명사     </td><td>21093    </td></tr>\n",
       "\t<tr><td>부사     </td><td> 1139    </td></tr>\n",
       "\t<tr><td>어미     </td><td> 1875    </td></tr>\n",
       "\t<tr><td>의존 명사</td><td>   20    </td></tr>\n",
       "\t<tr><td>접사     </td><td>   66    </td></tr>\n",
       "\t<tr><td>조사     </td><td>   16    </td></tr>\n",
       "\t<tr><td>품사 없음</td><td>18058    </td></tr>\n",
       "\t<tr><td>형용사   </td><td> 1456    </td></tr>\n",
       "</tbody>\n",
       "</table>\n"
      ],
      "text/latex": [
       "\\begin{tabular}{r|ll}\n",
       " 품사 & n\\\\\n",
       "\\hline\n",
       "\t 감·명    &     3    \\\\\n",
       "\t 감탄사    &    24    \\\\\n",
       "\t 관·명    &   121    \\\\\n",
       "\t 관형사    &     6    \\\\\n",
       "\t 대·감    &     2    \\\\\n",
       "\t 대명사    &    13    \\\\\n",
       "\t 동사      &  3976    \\\\\n",
       "\t 명·부    &     2    \\\\\n",
       "\t 명사      & 21093    \\\\\n",
       "\t 부사      &  1139    \\\\\n",
       "\t 어미      &  1875    \\\\\n",
       "\t 의존 명사 &    20    \\\\\n",
       "\t 접사      &    66    \\\\\n",
       "\t 조사      &    16    \\\\\n",
       "\t 품사 없음 & 18058    \\\\\n",
       "\t 형용사    &  1456    \\\\\n",
       "\\end{tabular}\n"
      ],
      "text/markdown": [
       "\n",
       "| 품사 | n |\n",
       "|---|---|\n",
       "| 감·명    |     3     |\n",
       "| 감탄사    |    24     |\n",
       "| 관·명    |   121     |\n",
       "| 관형사    |     6     |\n",
       "| 대·감    |     2     |\n",
       "| 대명사    |    13     |\n",
       "| 동사      |  3976     |\n",
       "| 명·부    |     2     |\n",
       "| 명사      | 21093     |\n",
       "| 부사      |  1139     |\n",
       "| 어미      |  1875     |\n",
       "| 의존 명사 |    20     |\n",
       "| 접사      |    66     |\n",
       "| 조사      |    16     |\n",
       "| 품사 없음 | 18058     |\n",
       "| 형용사    |  1456     |\n",
       "\n"
      ],
      "text/plain": [
       "   품사      n    \n",
       "1  감·명        3\n",
       "2  감탄사       24\n",
       "3  관·명      121\n",
       "4  관형사        6\n",
       "5  대·감        2\n",
       "6  대명사       13\n",
       "7  동사       3976\n",
       "8  명·부        2\n",
       "9  명사      21093\n",
       "10 부사       1139\n",
       "11 어미       1875\n",
       "12 의존 명사    20\n",
       "13 접사         66\n",
       "14 조사         16\n",
       "15 품사 없음 18058\n",
       "16 형용사     1456"
      ]
     },
     "metadata": {},
     "output_type": "display_data"
    }
   ],
   "source": [
    "### 품사별 표제어 수\n",
    "lexicalUnit1 <- filter(data1,의미.번호==\"001\") %>%\n",
    "                                                count(품사)\n",
    "lexicalUnit1"
   ]
  }
 ],
 "metadata": {
  "kernelspec": {
   "display_name": "R",
   "language": "R",
   "name": "ir"
  },
  "language_info": {
   "codemirror_mode": "r",
   "file_extension": ".r",
   "mimetype": "text/x-r-source",
   "name": "R",
   "pygments_lexer": "r",
   "version": "3.6.1"
  }
 },
 "nbformat": 4,
 "nbformat_minor": 2
}
