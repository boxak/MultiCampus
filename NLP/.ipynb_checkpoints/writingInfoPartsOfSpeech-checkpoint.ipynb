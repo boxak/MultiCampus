{
 "cells": [
  {
   "cell_type": "code",
   "execution_count": 1,
   "metadata": {},
   "outputs": [],
   "source": [
    "setwd(\"C:/Users/82102/Documents/GitHub/MultiCampus/NLP\")"
   ]
  },
  {
   "cell_type": "code",
   "execution_count": 2,
   "metadata": {},
   "outputs": [],
   "source": [
    "options(encoding=\"UTF-8\")"
   ]
  },
  {
   "cell_type": "code",
   "execution_count": 3,
   "metadata": {},
   "outputs": [
    {
     "name": "stderr",
     "output_type": "stream",
     "text": [
      "\n",
      "Attaching package: 'dplyr'\n",
      "\n",
      "The following objects are masked from 'package:stats':\n",
      "\n",
      "    filter, lag\n",
      "\n",
      "The following objects are masked from 'package:base':\n",
      "\n",
      "    intersect, setdiff, setequal, union\n",
      "\n",
      "Warning message:\n",
      "\"package 'writexl' was built under R version 3.6.2\""
     ]
    }
   ],
   "source": [
    "source(\"writeInfoPartsOfSpeech.R\")"
   ]
  },
  {
   "cell_type": "code",
   "execution_count": 11,
   "metadata": {},
   "outputs": [],
   "source": [
    "writeInfoPartsOfSpeech(1)"
   ]
  },
  {
   "cell_type": "code",
   "execution_count": 4,
   "metadata": {},
   "outputs": [
    {
     "data": {
      "text/html": [
       "'vocaInfo02.xlsx is created'"
      ],
      "text/latex": [
       "'vocaInfo02.xlsx is created'"
      ],
      "text/markdown": [
       "'vocaInfo02.xlsx is created'"
      ],
      "text/plain": [
       "[1] \"vocaInfo02.xlsx is created\""
      ]
     },
     "metadata": {},
     "output_type": "display_data"
    }
   ],
   "source": [
    "writeInfoPartsOfSpeech(2)"
   ]
  },
  {
   "cell_type": "code",
   "execution_count": 4,
   "metadata": {},
   "outputs": [
    {
     "data": {
      "text/html": [
       "'vocaInfo03.xlsx is created'"
      ],
      "text/latex": [
       "'vocaInfo03.xlsx is created'"
      ],
      "text/markdown": [
       "'vocaInfo03.xlsx is created'"
      ],
      "text/plain": [
       "[1] \"vocaInfo03.xlsx is created\""
      ]
     },
     "metadata": {},
     "output_type": "display_data"
    }
   ],
   "source": [
    "writeInfoPartsOfSpeech(3)"
   ]
  },
  {
   "cell_type": "code",
   "execution_count": 4,
   "metadata": {},
   "outputs": [
    {
     "data": {
      "text/html": [
       "'vocaInfo04.xlsx is created'"
      ],
      "text/latex": [
       "'vocaInfo04.xlsx is created'"
      ],
      "text/markdown": [
       "'vocaInfo04.xlsx is created'"
      ],
      "text/plain": [
       "[1] \"vocaInfo04.xlsx is created\""
      ]
     },
     "metadata": {},
     "output_type": "display_data"
    }
   ],
   "source": [
    "writeInfoPartsOfSpeech(4)"
   ]
  },
  {
   "cell_type": "code",
   "execution_count": 4,
   "metadata": {},
   "outputs": [
    {
     "data": {
      "text/html": [
       "'vocaInfo05.xlsx is created'"
      ],
      "text/latex": [
       "'vocaInfo05.xlsx is created'"
      ],
      "text/markdown": [
       "'vocaInfo05.xlsx is created'"
      ],
      "text/plain": [
       "[1] \"vocaInfo05.xlsx is created\""
      ]
     },
     "metadata": {},
     "output_type": "display_data"
    }
   ],
   "source": [
    "writeInfoPartsOfSpeech(5)"
   ]
  },
  {
   "cell_type": "code",
   "execution_count": 4,
   "metadata": {},
   "outputs": [
    {
     "data": {
      "text/html": [
       "'vocaInfo06.xlsx is created'"
      ],
      "text/latex": [
       "'vocaInfo06.xlsx is created'"
      ],
      "text/markdown": [
       "'vocaInfo06.xlsx is created'"
      ],
      "text/plain": [
       "[1] \"vocaInfo06.xlsx is created\""
      ]
     },
     "metadata": {},
     "output_type": "display_data"
    }
   ],
   "source": [
    "writeInfoPartsOfSpeech(6)"
   ]
  },
  {
   "cell_type": "code",
   "execution_count": 4,
   "metadata": {},
   "outputs": [
    {
     "data": {
      "text/html": [
       "'vocaInfo07.xlsx is created'"
      ],
      "text/latex": [
       "'vocaInfo07.xlsx is created'"
      ],
      "text/markdown": [
       "'vocaInfo07.xlsx is created'"
      ],
      "text/plain": [
       "[1] \"vocaInfo07.xlsx is created\""
      ]
     },
     "metadata": {},
     "output_type": "display_data"
    }
   ],
   "source": [
    "writeInfoPartsOfSpeech(7)"
   ]
  },
  {
   "cell_type": "code",
   "execution_count": 4,
   "metadata": {},
   "outputs": [
    {
     "data": {
      "text/html": [
       "'vocaInfo08.xlsx is created'"
      ],
      "text/latex": [
       "'vocaInfo08.xlsx is created'"
      ],
      "text/markdown": [
       "'vocaInfo08.xlsx is created'"
      ],
      "text/plain": [
       "[1] \"vocaInfo08.xlsx is created\""
      ]
     },
     "metadata": {},
     "output_type": "display_data"
    }
   ],
   "source": [
    "writeInfoPartsOfSpeech(8)"
   ]
  },
  {
   "cell_type": "code",
   "execution_count": 4,
   "metadata": {},
   "outputs": [
    {
     "data": {
      "text/html": [
       "'vocaInfo09.xlsx is created'"
      ],
      "text/latex": [
       "'vocaInfo09.xlsx is created'"
      ],
      "text/markdown": [
       "'vocaInfo09.xlsx is created'"
      ],
      "text/plain": [
       "[1] \"vocaInfo09.xlsx is created\""
      ]
     },
     "metadata": {},
     "output_type": "display_data"
    }
   ],
   "source": [
    "writeInfoPartsOfSpeech(9)"
   ]
  },
  {
   "cell_type": "code",
   "execution_count": 4,
   "metadata": {},
   "outputs": [
    {
     "data": {
      "text/html": [
       "'vocaInfo010.xlsx is created'"
      ],
      "text/latex": [
       "'vocaInfo010.xlsx is created'"
      ],
      "text/markdown": [
       "'vocaInfo010.xlsx is created'"
      ],
      "text/plain": [
       "[1] \"vocaInfo010.xlsx is created\""
      ]
     },
     "metadata": {},
     "output_type": "display_data"
    }
   ],
   "source": [
    "writeInfoPartsOfSpeech(10)"
   ]
  },
  {
   "cell_type": "code",
   "execution_count": 4,
   "metadata": {},
   "outputs": [
    {
     "data": {
      "text/html": [
       "'vocaInfo011.xlsx is created'"
      ],
      "text/latex": [
       "'vocaInfo011.xlsx is created'"
      ],
      "text/markdown": [
       "'vocaInfo011.xlsx is created'"
      ],
      "text/plain": [
       "[1] \"vocaInfo011.xlsx is created\""
      ]
     },
     "metadata": {},
     "output_type": "display_data"
    }
   ],
   "source": [
    "writeInfoPartsOfSpeech(11)"
   ]
  },
  {
   "cell_type": "code",
   "execution_count": 4,
   "metadata": {},
   "outputs": [
    {
     "data": {
      "text/html": [
       "'vocaInfo012.xlsx is created'"
      ],
      "text/latex": [
       "'vocaInfo012.xlsx is created'"
      ],
      "text/markdown": [
       "'vocaInfo012.xlsx is created'"
      ],
      "text/plain": [
       "[1] \"vocaInfo012.xlsx is created\""
      ]
     },
     "metadata": {},
     "output_type": "display_data"
    }
   ],
   "source": [
    "writeInfoPartsOfSpeech(12)"
   ]
  },
  {
   "cell_type": "code",
   "execution_count": 4,
   "metadata": {},
   "outputs": [
    {
     "data": {
      "text/html": [
       "'vocaInfo013.xlsx is created'"
      ],
      "text/latex": [
       "'vocaInfo013.xlsx is created'"
      ],
      "text/markdown": [
       "'vocaInfo013.xlsx is created'"
      ],
      "text/plain": [
       "[1] \"vocaInfo013.xlsx is created\""
      ]
     },
     "metadata": {},
     "output_type": "display_data"
    }
   ],
   "source": [
    "writeInfoPartsOfSpeech(13)"
   ]
  },
  {
   "cell_type": "code",
   "execution_count": 4,
   "metadata": {},
   "outputs": [
    {
     "data": {
      "text/html": [
       "'vocaInfo014.xlsx is created'"
      ],
      "text/latex": [
       "'vocaInfo014.xlsx is created'"
      ],
      "text/markdown": [
       "'vocaInfo014.xlsx is created'"
      ],
      "text/plain": [
       "[1] \"vocaInfo014.xlsx is created\""
      ]
     },
     "metadata": {},
     "output_type": "display_data"
    }
   ],
   "source": [
    "writeInfoPartsOfSpeech(14)"
   ]
  },
  {
   "cell_type": "code",
   "execution_count": 4,
   "metadata": {},
   "outputs": [
    {
     "data": {
      "text/html": [
       "'vocaInfo015.xlsx is created'"
      ],
      "text/latex": [
       "'vocaInfo015.xlsx is created'"
      ],
      "text/markdown": [
       "'vocaInfo015.xlsx is created'"
      ],
      "text/plain": [
       "[1] \"vocaInfo015.xlsx is created\""
      ]
     },
     "metadata": {},
     "output_type": "display_data"
    }
   ],
   "source": [
    "writeInfoPartsOfSpeech(15)"
   ]
  },
  {
   "cell_type": "code",
   "execution_count": 4,
   "metadata": {},
   "outputs": [
    {
     "data": {
      "text/html": [
       "'vocaInfo016.xlsx is created'"
      ],
      "text/latex": [
       "'vocaInfo016.xlsx is created'"
      ],
      "text/markdown": [
       "'vocaInfo016.xlsx is created'"
      ],
      "text/plain": [
       "[1] \"vocaInfo016.xlsx is created\""
      ]
     },
     "metadata": {},
     "output_type": "display_data"
    }
   ],
   "source": [
    "writeInfoPartsOfSpeech(16)"
   ]
  },
  {
   "cell_type": "code",
   "execution_count": 4,
   "metadata": {},
   "outputs": [
    {
     "data": {
      "text/html": [
       "'vocaInfo017.xlsx is created'"
      ],
      "text/latex": [
       "'vocaInfo017.xlsx is created'"
      ],
      "text/markdown": [
       "'vocaInfo017.xlsx is created'"
      ],
      "text/plain": [
       "[1] \"vocaInfo017.xlsx is created\""
      ]
     },
     "metadata": {},
     "output_type": "display_data"
    }
   ],
   "source": [
    "writeInfoPartsOfSpeech(17)"
   ]
  },
  {
   "cell_type": "code",
   "execution_count": 4,
   "metadata": {},
   "outputs": [
    {
     "data": {
      "text/html": [
       "'vocaInfo018.xlsx is created'"
      ],
      "text/latex": [
       "'vocaInfo018.xlsx is created'"
      ],
      "text/markdown": [
       "'vocaInfo018.xlsx is created'"
      ],
      "text/plain": [
       "[1] \"vocaInfo018.xlsx is created\""
      ]
     },
     "metadata": {},
     "output_type": "display_data"
    }
   ],
   "source": [
    "writeInfoPartsOfSpeech(18)"
   ]
  },
  {
   "cell_type": "code",
   "execution_count": 4,
   "metadata": {},
   "outputs": [
    {
     "data": {
      "text/html": [
       "'vocaInfo019.xlsx is created'"
      ],
      "text/latex": [
       "'vocaInfo019.xlsx is created'"
      ],
      "text/markdown": [
       "'vocaInfo019.xlsx is created'"
      ],
      "text/plain": [
       "[1] \"vocaInfo019.xlsx is created\""
      ]
     },
     "metadata": {},
     "output_type": "display_data"
    }
   ],
   "source": [
    "writeInfoPartsOfSpeech(19)"
   ]
  },
  {
   "cell_type": "code",
   "execution_count": 2,
   "metadata": {},
   "outputs": [
    {
     "name": "stdout",
     "output_type": "stream",
     "text": [
      "package 'writexl' successfully unpacked and MD5 sums checked\n",
      "\n",
      "The downloaded binary packages are in\n",
      "\tC:\\Users\\student\\AppData\\Local\\Temp\\RtmpgB7BJa\\downloaded_packages\n"
     ]
    },
    {
     "name": "stderr",
     "output_type": "stream",
     "text": [
      "Warning message:\n",
      "\"package 'writexl' was built under R version 3.6.2\""
     ]
    }
   ],
   "source": [
    "### investigate data...\n",
    "library('dplyr')\n",
    "library('xlsx')\n",
    "install.packages('writexl')\n",
    "library('writexl')"
   ]
  },
  {
   "cell_type": "code",
   "execution_count": 3,
   "metadata": {},
   "outputs": [],
   "source": [
    "vocaData <- read.xlsx2(\"vocaSet/vocaInfo001.xlsx\",sheetIndex=1,startRow=1,header=TRUE)\n",
    "lexicalUnitData <- read.xlsx2(\"lexicalUnitSet/lexicalUnitInfo001.xlsx\",sheetIndex=1,startRow=1,header=TRUE)\n",
    "for(i in 2:19){\n",
    "    str1=\"\"\n",
    "    str2=\"\"\n",
    "    if(i<10){\n",
    "        str1=paste0(\"vocaSet/vocaInfo00\",as.character(i),\".xlsx\")\n",
    "        str2=paste0(\"lexicalUnitSet/lexicalUnitInfo00\",as.character(i),\".xlsx\")\n",
    "    }\n",
    "    else{\n",
    "        str1=paste0(\"vocaSet/vocaInfo0\",as.character(i),\".xlsx\")\n",
    "        str2=paste0(\"lexicalUnitSet/lexicalUnitInfo0\",as.character(i),\".xlsx\")\n",
    "    }\n",
    "    vocaData_temp <- read.xlsx2(str1,sheetIndex=1,startRow=1,header=TRUE)\n",
    "    lexicalUnitData_temp <- read.xlsx2(str2,sheetIndex=1,startRow=1,header=TRUE)\n",
    "    vocaData <- rbind(vocaData,vocaData_temp)\n",
    "    lexicalUnitData <- rbind(lexicalUnitData,lexicalUnitData_temp)\n",
    "}"
   ]
  },
  {
   "cell_type": "code",
   "execution_count": 58,
   "metadata": {},
   "outputs": [
    {
     "data": {
      "text/html": [
       "<table>\n",
       "<thead><tr><th scope=col>품사</th><th scope=col>n</th></tr></thead>\n",
       "<tbody>\n",
       "\t<tr><td>감·명   </td><td>3        </td></tr>\n",
       "\t<tr><td>감탄사   </td><td>50       </td></tr>\n",
       "\t<tr><td>관·명   </td><td>139      </td></tr>\n",
       "\t<tr><td>관형사   </td><td>6        </td></tr>\n",
       "\t<tr><td>대·감   </td><td>2        </td></tr>\n",
       "\t<tr><td>대명사   </td><td>28       </td></tr>\n",
       "\t<tr><td>동사     </td><td>6030     </td></tr>\n",
       "\t<tr><td>명·부   </td><td>2        </td></tr>\n",
       "\t<tr><td>명사     </td><td>27742    </td></tr>\n",
       "\t<tr><td>보조 동사</td><td>5        </td></tr>\n",
       "\t<tr><td>부사     </td><td>1629     </td></tr>\n",
       "\t<tr><td>수·관   </td><td>4        </td></tr>\n",
       "\t<tr><td>어미     </td><td>2816     </td></tr>\n",
       "\t<tr><td>의존 명사</td><td>89       </td></tr>\n",
       "\t<tr><td>접사     </td><td>618      </td></tr>\n",
       "\t<tr><td>조사     </td><td>52       </td></tr>\n",
       "\t<tr><td>품사 없음</td><td>18814    </td></tr>\n",
       "\t<tr><td>형용사   </td><td>1971     </td></tr>\n",
       "\t<tr><td>감·명   </td><td>1        </td></tr>\n",
       "\t<tr><td>감탄사   </td><td>32       </td></tr>\n",
       "\t<tr><td>관·명   </td><td>224      </td></tr>\n",
       "\t<tr><td>관형사   </td><td>25       </td></tr>\n",
       "\t<tr><td>대명사   </td><td>47       </td></tr>\n",
       "\t<tr><td>동사     </td><td>3850     </td></tr>\n",
       "\t<tr><td>명·부   </td><td>1        </td></tr>\n",
       "\t<tr><td>명사     </td><td>28165    </td></tr>\n",
       "\t<tr><td>보조 동사</td><td>2        </td></tr>\n",
       "\t<tr><td>부사     </td><td>882      </td></tr>\n",
       "\t<tr><td>수·관   </td><td>5        </td></tr>\n",
       "\t<tr><td>수사     </td><td>2        </td></tr>\n",
       "\t<tr><td>...</td><td>...</td></tr>\n",
       "\t<tr><td>명·부     </td><td>3          </td></tr>\n",
       "\t<tr><td>명사       </td><td>26657      </td></tr>\n",
       "\t<tr><td>보조 동사  </td><td>10         </td></tr>\n",
       "\t<tr><td>보조 형용사</td><td>3          </td></tr>\n",
       "\t<tr><td>부사       </td><td>1814       </td></tr>\n",
       "\t<tr><td>수·관     </td><td>6          </td></tr>\n",
       "\t<tr><td>수사       </td><td>11         </td></tr>\n",
       "\t<tr><td>의존 명사  </td><td>126        </td></tr>\n",
       "\t<tr><td>접사       </td><td>16         </td></tr>\n",
       "\t<tr><td>조사       </td><td>18         </td></tr>\n",
       "\t<tr><td>품사 없음  </td><td>25306      </td></tr>\n",
       "\t<tr><td>형용사     </td><td>980        </td></tr>\n",
       "\t<tr><td>감·명     </td><td>1          </td></tr>\n",
       "\t<tr><td>감탄사     </td><td>68         </td></tr>\n",
       "\t<tr><td>관·명     </td><td>156        </td></tr>\n",
       "\t<tr><td>관형사     </td><td>20         </td></tr>\n",
       "\t<tr><td>대명사     </td><td>8          </td></tr>\n",
       "\t<tr><td>동사       </td><td>6511       </td></tr>\n",
       "\t<tr><td>명·부     </td><td>9          </td></tr>\n",
       "\t<tr><td>명사       </td><td>25563      </td></tr>\n",
       "\t<tr><td>보조 동사  </td><td>3          </td></tr>\n",
       "\t<tr><td>보조 형용사</td><td>1          </td></tr>\n",
       "\t<tr><td>부사       </td><td>2264       </td></tr>\n",
       "\t<tr><td>수·관     </td><td>8          </td></tr>\n",
       "\t<tr><td>수사       </td><td>3          </td></tr>\n",
       "\t<tr><td>의존 명사  </td><td>63         </td></tr>\n",
       "\t<tr><td>접사       </td><td>20         </td></tr>\n",
       "\t<tr><td>조사       </td><td>23         </td></tr>\n",
       "\t<tr><td>품사 없음  </td><td>16959      </td></tr>\n",
       "\t<tr><td>형용사     </td><td>1752       </td></tr>\n",
       "</tbody>\n",
       "</table>\n"
      ],
      "text/latex": [
       "\\begin{tabular}{r|ll}\n",
       " 품사 & n\\\\\n",
       "\\hline\n",
       "\t 감·명    & 3        \\\\\n",
       "\t 감탄사    & 50       \\\\\n",
       "\t 관·명    & 139      \\\\\n",
       "\t 관형사    & 6        \\\\\n",
       "\t 대·감    & 2        \\\\\n",
       "\t 대명사    & 28       \\\\\n",
       "\t 동사      & 6030     \\\\\n",
       "\t 명·부    & 2        \\\\\n",
       "\t 명사      & 27742    \\\\\n",
       "\t 보조 동사 & 5        \\\\\n",
       "\t 부사      & 1629     \\\\\n",
       "\t 수·관    & 4        \\\\\n",
       "\t 어미      & 2816     \\\\\n",
       "\t 의존 명사 & 89       \\\\\n",
       "\t 접사      & 618      \\\\\n",
       "\t 조사      & 52       \\\\\n",
       "\t 품사 없음 & 18814    \\\\\n",
       "\t 형용사    & 1971     \\\\\n",
       "\t 감·명    & 1        \\\\\n",
       "\t 감탄사    & 32       \\\\\n",
       "\t 관·명    & 224      \\\\\n",
       "\t 관형사    & 25       \\\\\n",
       "\t 대명사    & 47       \\\\\n",
       "\t 동사      & 3850     \\\\\n",
       "\t 명·부    & 1        \\\\\n",
       "\t 명사      & 28165    \\\\\n",
       "\t 보조 동사 & 2        \\\\\n",
       "\t 부사      & 882      \\\\\n",
       "\t 수·관    & 5        \\\\\n",
       "\t 수사      & 2        \\\\\n",
       "\t ... & ...\\\\\n",
       "\t 명·부      & 3          \\\\\n",
       "\t 명사        & 26657      \\\\\n",
       "\t 보조 동사   & 10         \\\\\n",
       "\t 보조 형용사 & 3          \\\\\n",
       "\t 부사        & 1814       \\\\\n",
       "\t 수·관      & 6          \\\\\n",
       "\t 수사        & 11         \\\\\n",
       "\t 의존 명사   & 126        \\\\\n",
       "\t 접사        & 16         \\\\\n",
       "\t 조사        & 18         \\\\\n",
       "\t 품사 없음   & 25306      \\\\\n",
       "\t 형용사      & 980        \\\\\n",
       "\t 감·명      & 1          \\\\\n",
       "\t 감탄사      & 68         \\\\\n",
       "\t 관·명      & 156        \\\\\n",
       "\t 관형사      & 20         \\\\\n",
       "\t 대명사      & 8          \\\\\n",
       "\t 동사        & 6511       \\\\\n",
       "\t 명·부      & 9          \\\\\n",
       "\t 명사        & 25563      \\\\\n",
       "\t 보조 동사   & 3          \\\\\n",
       "\t 보조 형용사 & 1          \\\\\n",
       "\t 부사        & 2264       \\\\\n",
       "\t 수·관      & 8          \\\\\n",
       "\t 수사        & 3          \\\\\n",
       "\t 의존 명사   & 63         \\\\\n",
       "\t 접사        & 20         \\\\\n",
       "\t 조사        & 23         \\\\\n",
       "\t 품사 없음   & 16959      \\\\\n",
       "\t 형용사      & 1752       \\\\\n",
       "\\end{tabular}\n"
      ],
      "text/markdown": [
       "\n",
       "| 품사 | n |\n",
       "|---|---|\n",
       "| 감·명    | 3         |\n",
       "| 감탄사    | 50        |\n",
       "| 관·명    | 139       |\n",
       "| 관형사    | 6         |\n",
       "| 대·감    | 2         |\n",
       "| 대명사    | 28        |\n",
       "| 동사      | 6030      |\n",
       "| 명·부    | 2         |\n",
       "| 명사      | 27742     |\n",
       "| 보조 동사 | 5         |\n",
       "| 부사      | 1629      |\n",
       "| 수·관    | 4         |\n",
       "| 어미      | 2816      |\n",
       "| 의존 명사 | 89        |\n",
       "| 접사      | 618       |\n",
       "| 조사      | 52        |\n",
       "| 품사 없음 | 18814     |\n",
       "| 형용사    | 1971      |\n",
       "| 감·명    | 1         |\n",
       "| 감탄사    | 32        |\n",
       "| 관·명    | 224       |\n",
       "| 관형사    | 25        |\n",
       "| 대명사    | 47        |\n",
       "| 동사      | 3850      |\n",
       "| 명·부    | 1         |\n",
       "| 명사      | 28165     |\n",
       "| 보조 동사 | 2         |\n",
       "| 부사      | 882       |\n",
       "| 수·관    | 5         |\n",
       "| 수사      | 2         |\n",
       "| ... | ... |\n",
       "| 명·부      | 3           |\n",
       "| 명사        | 26657       |\n",
       "| 보조 동사   | 10          |\n",
       "| 보조 형용사 | 3           |\n",
       "| 부사        | 1814        |\n",
       "| 수·관      | 6           |\n",
       "| 수사        | 11          |\n",
       "| 의존 명사   | 126         |\n",
       "| 접사        | 16          |\n",
       "| 조사        | 18          |\n",
       "| 품사 없음   | 25306       |\n",
       "| 형용사      | 980         |\n",
       "| 감·명      | 1           |\n",
       "| 감탄사      | 68          |\n",
       "| 관·명      | 156         |\n",
       "| 관형사      | 20          |\n",
       "| 대명사      | 8           |\n",
       "| 동사        | 6511        |\n",
       "| 명·부      | 9           |\n",
       "| 명사        | 25563       |\n",
       "| 보조 동사   | 3           |\n",
       "| 보조 형용사 | 1           |\n",
       "| 부사        | 2264        |\n",
       "| 수·관      | 8           |\n",
       "| 수사        | 3           |\n",
       "| 의존 명사   | 63          |\n",
       "| 접사        | 20          |\n",
       "| 조사        | 23          |\n",
       "| 품사 없음   | 16959       |\n",
       "| 형용사      | 1752        |\n",
       "\n"
      ],
      "text/plain": [
       "    품사        n    \n",
       "1   감·명      3    \n",
       "2   감탄사      50   \n",
       "3   관·명      139  \n",
       "4   관형사      6    \n",
       "5   대·감      2    \n",
       "6   대명사      28   \n",
       "7   동사        6030 \n",
       "8   명·부      2    \n",
       "9   명사        27742\n",
       "10  보조 동사   5    \n",
       "11  부사        1629 \n",
       "12  수·관      4    \n",
       "13  어미        2816 \n",
       "14  의존 명사   89   \n",
       "15  접사        618  \n",
       "16  조사        52   \n",
       "17  품사 없음   18814\n",
       "18  형용사      1971 \n",
       "19  감·명      1    \n",
       "20  감탄사      32   \n",
       "21  관·명      224  \n",
       "22  관형사      25   \n",
       "23  대명사      47   \n",
       "24  동사        3850 \n",
       "25  명·부      1    \n",
       "26  명사        28165\n",
       "27  보조 동사   2    \n",
       "28  부사        882  \n",
       "29  수·관      5    \n",
       "30  수사        2    \n",
       "... ...         ...  \n",
       "318 명·부      3    \n",
       "319 명사        26657\n",
       "320 보조 동사   10   \n",
       "321 보조 형용사 3    \n",
       "322 부사        1814 \n",
       "323 수·관      6    \n",
       "324 수사        11   \n",
       "325 의존 명사   126  \n",
       "326 접사        16   \n",
       "327 조사        18   \n",
       "328 품사 없음   25306\n",
       "329 형용사      980  \n",
       "330 감·명      1    \n",
       "331 감탄사      68   \n",
       "332 관·명      156  \n",
       "333 관형사      20   \n",
       "334 대명사      8    \n",
       "335 동사        6511 \n",
       "336 명·부      9    \n",
       "337 명사        25563\n",
       "338 보조 동사   3    \n",
       "339 보조 형용사 1    \n",
       "340 부사        2264 \n",
       "341 수·관      8    \n",
       "342 수사        3    \n",
       "343 의존 명사   63   \n",
       "344 접사        20   \n",
       "345 조사        23   \n",
       "346 품사 없음   16959\n",
       "347 형용사      1752 "
      ]
     },
     "metadata": {},
     "output_type": "display_data"
    }
   ],
   "source": [
    "vocaData"
   ]
  },
  {
   "cell_type": "code",
   "execution_count": 59,
   "metadata": {},
   "outputs": [
    {
     "data": {
      "text/html": [
       "<table>\n",
       "<thead><tr><th scope=col>품사</th><th scope=col>n</th></tr></thead>\n",
       "<tbody>\n",
       "\t<tr><td>감·명   </td><td>3        </td></tr>\n",
       "\t<tr><td>감탄사   </td><td>24       </td></tr>\n",
       "\t<tr><td>관·명   </td><td>121      </td></tr>\n",
       "\t<tr><td>관형사   </td><td>6        </td></tr>\n",
       "\t<tr><td>대·감   </td><td>2        </td></tr>\n",
       "\t<tr><td>대명사   </td><td>13       </td></tr>\n",
       "\t<tr><td>동사     </td><td>3976     </td></tr>\n",
       "\t<tr><td>명·부   </td><td>2        </td></tr>\n",
       "\t<tr><td>명사     </td><td>21093    </td></tr>\n",
       "\t<tr><td>부사     </td><td>1139     </td></tr>\n",
       "\t<tr><td>어미     </td><td>1875     </td></tr>\n",
       "\t<tr><td>의존 명사</td><td>20       </td></tr>\n",
       "\t<tr><td>접사     </td><td>66       </td></tr>\n",
       "\t<tr><td>조사     </td><td>16       </td></tr>\n",
       "\t<tr><td>품사 없음</td><td>18058    </td></tr>\n",
       "\t<tr><td>형용사   </td><td>1456     </td></tr>\n",
       "\t<tr><td>감·명   </td><td>1        </td></tr>\n",
       "\t<tr><td>감탄사   </td><td>14       </td></tr>\n",
       "\t<tr><td>관·명   </td><td>198      </td></tr>\n",
       "\t<tr><td>관형사   </td><td>12       </td></tr>\n",
       "\t<tr><td>대명사   </td><td>22       </td></tr>\n",
       "\t<tr><td>동사     </td><td>2516     </td></tr>\n",
       "\t<tr><td>명·부   </td><td>1        </td></tr>\n",
       "\t<tr><td>명사     </td><td>19819    </td></tr>\n",
       "\t<tr><td>부사     </td><td>637      </td></tr>\n",
       "\t<tr><td>수·관   </td><td>2        </td></tr>\n",
       "\t<tr><td>수사     </td><td>2        </td></tr>\n",
       "\t<tr><td>의존 명사</td><td>11       </td></tr>\n",
       "\t<tr><td>품사 없음</td><td>25012    </td></tr>\n",
       "\t<tr><td>형용사   </td><td>765      </td></tr>\n",
       "\t<tr><td>...</td><td>...</td></tr>\n",
       "\t<tr><td>동사       </td><td>3061       </td></tr>\n",
       "\t<tr><td>명·부     </td><td>3          </td></tr>\n",
       "\t<tr><td>명사       </td><td>20645      </td></tr>\n",
       "\t<tr><td>보조 동사  </td><td>1          </td></tr>\n",
       "\t<tr><td>부사       </td><td>1026       </td></tr>\n",
       "\t<tr><td>수·관     </td><td>1          </td></tr>\n",
       "\t<tr><td>수사       </td><td>7          </td></tr>\n",
       "\t<tr><td>의존 명사  </td><td>66         </td></tr>\n",
       "\t<tr><td>접사       </td><td>1          </td></tr>\n",
       "\t<tr><td>조사       </td><td>11         </td></tr>\n",
       "\t<tr><td>품사 없음  </td><td>24643      </td></tr>\n",
       "\t<tr><td>형용사     </td><td>653        </td></tr>\n",
       "\t<tr><td>감·명     </td><td>1          </td></tr>\n",
       "\t<tr><td>감탄사     </td><td>34         </td></tr>\n",
       "\t<tr><td>관·명     </td><td>144        </td></tr>\n",
       "\t<tr><td>관형사     </td><td>10         </td></tr>\n",
       "\t<tr><td>대명사     </td><td>4          </td></tr>\n",
       "\t<tr><td>동사       </td><td>4514       </td></tr>\n",
       "\t<tr><td>명·부     </td><td>9          </td></tr>\n",
       "\t<tr><td>명사       </td><td>19591      </td></tr>\n",
       "\t<tr><td>보조 동사  </td><td>1          </td></tr>\n",
       "\t<tr><td>보조 형용사</td><td>1          </td></tr>\n",
       "\t<tr><td>부사       </td><td>1350       </td></tr>\n",
       "\t<tr><td>수·관     </td><td>3          </td></tr>\n",
       "\t<tr><td>수사       </td><td>3          </td></tr>\n",
       "\t<tr><td>의존 명사  </td><td>26         </td></tr>\n",
       "\t<tr><td>접사       </td><td>5          </td></tr>\n",
       "\t<tr><td>조사       </td><td>18         </td></tr>\n",
       "\t<tr><td>품사 없음  </td><td>16453      </td></tr>\n",
       "\t<tr><td>형용사     </td><td>1256       </td></tr>\n",
       "</tbody>\n",
       "</table>\n"
      ],
      "text/latex": [
       "\\begin{tabular}{r|ll}\n",
       " 품사 & n\\\\\n",
       "\\hline\n",
       "\t 감·명    & 3        \\\\\n",
       "\t 감탄사    & 24       \\\\\n",
       "\t 관·명    & 121      \\\\\n",
       "\t 관형사    & 6        \\\\\n",
       "\t 대·감    & 2        \\\\\n",
       "\t 대명사    & 13       \\\\\n",
       "\t 동사      & 3976     \\\\\n",
       "\t 명·부    & 2        \\\\\n",
       "\t 명사      & 21093    \\\\\n",
       "\t 부사      & 1139     \\\\\n",
       "\t 어미      & 1875     \\\\\n",
       "\t 의존 명사 & 20       \\\\\n",
       "\t 접사      & 66       \\\\\n",
       "\t 조사      & 16       \\\\\n",
       "\t 품사 없음 & 18058    \\\\\n",
       "\t 형용사    & 1456     \\\\\n",
       "\t 감·명    & 1        \\\\\n",
       "\t 감탄사    & 14       \\\\\n",
       "\t 관·명    & 198      \\\\\n",
       "\t 관형사    & 12       \\\\\n",
       "\t 대명사    & 22       \\\\\n",
       "\t 동사      & 2516     \\\\\n",
       "\t 명·부    & 1        \\\\\n",
       "\t 명사      & 19819    \\\\\n",
       "\t 부사      & 637      \\\\\n",
       "\t 수·관    & 2        \\\\\n",
       "\t 수사      & 2        \\\\\n",
       "\t 의존 명사 & 11       \\\\\n",
       "\t 품사 없음 & 25012    \\\\\n",
       "\t 형용사    & 765      \\\\\n",
       "\t ... & ...\\\\\n",
       "\t 동사        & 3061       \\\\\n",
       "\t 명·부      & 3          \\\\\n",
       "\t 명사        & 20645      \\\\\n",
       "\t 보조 동사   & 1          \\\\\n",
       "\t 부사        & 1026       \\\\\n",
       "\t 수·관      & 1          \\\\\n",
       "\t 수사        & 7          \\\\\n",
       "\t 의존 명사   & 66         \\\\\n",
       "\t 접사        & 1          \\\\\n",
       "\t 조사        & 11         \\\\\n",
       "\t 품사 없음   & 24643      \\\\\n",
       "\t 형용사      & 653        \\\\\n",
       "\t 감·명      & 1          \\\\\n",
       "\t 감탄사      & 34         \\\\\n",
       "\t 관·명      & 144        \\\\\n",
       "\t 관형사      & 10         \\\\\n",
       "\t 대명사      & 4          \\\\\n",
       "\t 동사        & 4514       \\\\\n",
       "\t 명·부      & 9          \\\\\n",
       "\t 명사        & 19591      \\\\\n",
       "\t 보조 동사   & 1          \\\\\n",
       "\t 보조 형용사 & 1          \\\\\n",
       "\t 부사        & 1350       \\\\\n",
       "\t 수·관      & 3          \\\\\n",
       "\t 수사        & 3          \\\\\n",
       "\t 의존 명사   & 26         \\\\\n",
       "\t 접사        & 5          \\\\\n",
       "\t 조사        & 18         \\\\\n",
       "\t 품사 없음   & 16453      \\\\\n",
       "\t 형용사      & 1256       \\\\\n",
       "\\end{tabular}\n"
      ],
      "text/markdown": [
       "\n",
       "| 품사 | n |\n",
       "|---|---|\n",
       "| 감·명    | 3         |\n",
       "| 감탄사    | 24        |\n",
       "| 관·명    | 121       |\n",
       "| 관형사    | 6         |\n",
       "| 대·감    | 2         |\n",
       "| 대명사    | 13        |\n",
       "| 동사      | 3976      |\n",
       "| 명·부    | 2         |\n",
       "| 명사      | 21093     |\n",
       "| 부사      | 1139      |\n",
       "| 어미      | 1875      |\n",
       "| 의존 명사 | 20        |\n",
       "| 접사      | 66        |\n",
       "| 조사      | 16        |\n",
       "| 품사 없음 | 18058     |\n",
       "| 형용사    | 1456      |\n",
       "| 감·명    | 1         |\n",
       "| 감탄사    | 14        |\n",
       "| 관·명    | 198       |\n",
       "| 관형사    | 12        |\n",
       "| 대명사    | 22        |\n",
       "| 동사      | 2516      |\n",
       "| 명·부    | 1         |\n",
       "| 명사      | 19819     |\n",
       "| 부사      | 637       |\n",
       "| 수·관    | 2         |\n",
       "| 수사      | 2         |\n",
       "| 의존 명사 | 11        |\n",
       "| 품사 없음 | 25012     |\n",
       "| 형용사    | 765       |\n",
       "| ... | ... |\n",
       "| 동사        | 3061        |\n",
       "| 명·부      | 3           |\n",
       "| 명사        | 20645       |\n",
       "| 보조 동사   | 1           |\n",
       "| 부사        | 1026        |\n",
       "| 수·관      | 1           |\n",
       "| 수사        | 7           |\n",
       "| 의존 명사   | 66          |\n",
       "| 접사        | 1           |\n",
       "| 조사        | 11          |\n",
       "| 품사 없음   | 24643       |\n",
       "| 형용사      | 653         |\n",
       "| 감·명      | 1           |\n",
       "| 감탄사      | 34          |\n",
       "| 관·명      | 144         |\n",
       "| 관형사      | 10          |\n",
       "| 대명사      | 4           |\n",
       "| 동사        | 4514        |\n",
       "| 명·부      | 9           |\n",
       "| 명사        | 19591       |\n",
       "| 보조 동사   | 1           |\n",
       "| 보조 형용사 | 1           |\n",
       "| 부사        | 1350        |\n",
       "| 수·관      | 3           |\n",
       "| 수사        | 3           |\n",
       "| 의존 명사   | 26          |\n",
       "| 접사        | 5           |\n",
       "| 조사        | 18          |\n",
       "| 품사 없음   | 16453       |\n",
       "| 형용사      | 1256        |\n",
       "\n"
      ],
      "text/plain": [
       "    품사        n    \n",
       "1   감·명      3    \n",
       "2   감탄사      24   \n",
       "3   관·명      121  \n",
       "4   관형사      6    \n",
       "5   대·감      2    \n",
       "6   대명사      13   \n",
       "7   동사        3976 \n",
       "8   명·부      2    \n",
       "9   명사        21093\n",
       "10  부사        1139 \n",
       "11  어미        1875 \n",
       "12  의존 명사   20   \n",
       "13  접사        66   \n",
       "14  조사        16   \n",
       "15  품사 없음   18058\n",
       "16  형용사      1456 \n",
       "17  감·명      1    \n",
       "18  감탄사      14   \n",
       "19  관·명      198  \n",
       "20  관형사      12   \n",
       "21  대명사      22   \n",
       "22  동사        2516 \n",
       "23  명·부      1    \n",
       "24  명사        19819\n",
       "25  부사        637  \n",
       "26  수·관      2    \n",
       "27  수사        2    \n",
       "28  의존 명사   11   \n",
       "29  품사 없음   25012\n",
       "30  형용사      765  \n",
       "... ...         ...  \n",
       "291 동사        3061 \n",
       "292 명·부      3    \n",
       "293 명사        20645\n",
       "294 보조 동사   1    \n",
       "295 부사        1026 \n",
       "296 수·관      1    \n",
       "297 수사        7    \n",
       "298 의존 명사   66   \n",
       "299 접사        1    \n",
       "300 조사        11   \n",
       "301 품사 없음   24643\n",
       "302 형용사      653  \n",
       "303 감·명      1    \n",
       "304 감탄사      34   \n",
       "305 관·명      144  \n",
       "306 관형사      10   \n",
       "307 대명사      4    \n",
       "308 동사        4514 \n",
       "309 명·부      9    \n",
       "310 명사        19591\n",
       "311 보조 동사   1    \n",
       "312 보조 형용사 1    \n",
       "313 부사        1350 \n",
       "314 수·관      3    \n",
       "315 수사        3    \n",
       "316 의존 명사   26   \n",
       "317 접사        5    \n",
       "318 조사        18   \n",
       "319 품사 없음   16453\n",
       "320 형용사      1256 "
      ]
     },
     "metadata": {},
     "output_type": "display_data"
    }
   ],
   "source": [
    "lexicalUnitData"
   ]
  },
  {
   "cell_type": "code",
   "execution_count": 68,
   "metadata": {},
   "outputs": [
    {
     "data": {
      "text/html": [
       "'integer'"
      ],
      "text/latex": [
       "'integer'"
      ],
      "text/markdown": [
       "'integer'"
      ],
      "text/plain": [
       "[1] \"integer\""
      ]
     },
     "metadata": {},
     "output_type": "display_data"
    }
   ],
   "source": [
    "typeof(vocaData[1,2])"
   ]
  },
  {
   "cell_type": "code",
   "execution_count": 7,
   "metadata": {},
   "outputs": [],
   "source": [
    "writexl::write_xlsx(vocaData,path=\"vocaData.xlsx\")\n",
    "writexl::write_xlsx(lexicalUnitData,path=\"lexicalUnitData.xlsx\")"
   ]
  },
  {
   "cell_type": "code",
   "execution_count": 9,
   "metadata": {},
   "outputs": [
    {
     "ename": "ERROR",
     "evalue": "Error in FUN(X[[i]], ...): only defined on a data frame with all numeric variables\n",
     "output_type": "error",
     "traceback": [
      "Error in FUN(X[[i]], ...): only defined on a data frame with all numeric variables\nTraceback:\n",
      "1. vocaData %>% sum(n) %>% group_by(품사)",
      "2. withVisible(eval(quote(`_fseq`(`_lhs`)), env, env))",
      "3. eval(quote(`_fseq`(`_lhs`)), env, env)",
      "4. eval(quote(`_fseq`(`_lhs`)), env, env)",
      "5. `_fseq`(`_lhs`)",
      "6. freduce(value, `_function_list`)",
      "7. function_list[[i]](value)",
      "8. Summary.data.frame(structure(list(품사 = structure(c(1L, 2L, \n . 3L, 4L, 5L, 6L, 7L, 8L, 9L, 10L, 11L, 12L, 13L, 14L, 15L, 16L, \n . 17L, 18L, 1L, 2L, 3L, 4L, 6L, 7L, 8L, 9L, 10L, 11L, 12L, 19L, \n . 14L, 15L, 16L, 17L, 18L, 1L, 2L, 20L, 3L, 4L, 6L, 7L, 8L, 9L, \n . 10L, 11L, 12L, 14L, 15L, 16L, 17L, 18L, 2L, 20L, 3L, 4L, 6L, \n . 7L, 8L, 9L, 10L, 11L, 12L, 21L, 19L, 14L, 15L, 16L, 17L, 18L, \n . 1L, 2L, 20L, 3L, 4L, 22L, 6L, 23L, 7L, 8L, 9L, 10L, 24L, 11L, \n . 12L, 21L, 19L, 25L, 14L, 15L, 16L, 17L, 18L, 1L, 2L, 3L, 4L, \n . 5L, 6L, 7L, 8L, 9L, 10L, 24L, 26L, 11L, 12L, 19L, 25L, 14L, 15L, \n . 16L, 17L, 18L, 1L, 2L, 20L, 3L, 4L, 6L, 7L, 8L, 9L, 10L, 24L, \n . 11L, 12L, 19L, 14L, 15L, 16L, 17L, 18L, 1L, 2L, 20L, 3L, 4L, \n . 6L, 7L, 9L, 10L, 24L, 11L, 12L, 14L, 15L, 16L, 17L, 18L, 1L, \n . 2L, 3L, 4L, 6L, 7L, 8L, 9L, 10L, 24L, 11L, 12L, 19L, 14L, 15L, \n . 16L, 17L, 18L, 1L, 2L, 3L, 4L, 6L, 7L, 8L, 9L, 24L, 11L, 12L, \n . 19L, 14L, 15L, 16L, 17L, 18L, 1L, 2L, 3L, 4L, 6L, 7L, 8L, 9L, \n . 10L, 24L, 11L, 12L, 19L, 14L, 15L, 16L, 17L, 18L, 1L, 2L, 20L, \n . 3L, 4L, 27L, 6L, 7L, 8L, 9L, 10L, 26L, 11L, 12L, 19L, 14L, 15L, \n . 16L, 17L, 18L, 1L, 2L, 3L, 4L, 6L, 23L, 7L, 8L, 9L, 11L, 12L, \n . 19L, 14L, 15L, 16L, 17L, 18L, 1L, 2L, 3L, 4L, 22L, 6L, 7L, 8L, \n . 9L, 10L, 24L, 11L, 12L, 19L, 14L, 15L, 16L, 17L, 18L, 1L, 2L, \n . 20L, 3L, 4L, 6L, 7L, 8L, 9L, 10L, 24L, 11L, 12L, 14L, 15L, 16L, \n . 17L, 18L, 1L, 2L, 20L, 3L, 4L, 6L, 7L, 8L, 9L, 10L, 24L, 11L, \n . 12L, 14L, 15L, 16L, 17L, 18L, 2L, 3L, 4L, 6L, 7L, 9L, 10L, 24L, \n . 11L, 12L, 19L, 14L, 15L, 16L, 17L, 18L, 1L, 2L, 3L, 4L, 6L, 7L, \n . 8L, 9L, 10L, 24L, 11L, 12L, 19L, 14L, 15L, 16L, 17L, 18L, 1L, \n . 2L, 3L, 4L, 6L, 7L, 8L, 9L, 10L, 24L, 11L, 12L, 19L, 14L, 15L, \n . 16L, 17L, 18L), .Label = c(\"감·명\", \"감탄사\", \"관·명\", \"관형사\", \n . \"대·감\", \"대명사\", \"동사\", \"명·부\", \"명사\", \"보조 동사\", \"부사\", \n . \"수·관\", \"어미\", \"의존 명사\", \"접사\", \"조사\", \"품사 없음\", \"형용사\", \n . \"수사\", \"관·감\", \"수·관·명\", \"대·관\", \"동·형\", \"보조 형용사\", \n . \"의명·조\", \"부·감\", \"대·부\"), class = \"factor\"), n = structure(c(9L, \n . 12L, 1L, 14L, 5L, 7L, 15L, 5L, 6L, 11L, 2L, 10L, 8L, 17L, 16L, \n . 13L, 3L, 4L, 18L, 26L, 21L, 22L, 28L, 27L, 18L, 24L, 5L, 30L, \n . 11L, 5L, 25L, 29L, 20L, 23L, 19L, 5L, 32L, 5L, 34L, 39L, 42L, \n . 41L, 14L, 38L, 11L, 37L, 20L, 31L, 33L, 40L, 35L, 36L, 53L, 55L, \n . 46L, 52L, 56L, 54L, 29L, 51L, 11L, 44L, 53L, 18L, 50L, 43L, 45L, \n . 47L, 49L, 48L, 68L, 66L, 18L, 69L, 62L, 5L, 22L, 18L, 67L, 10L, \n . 64L, 68L, 5L, 63L, 57L, 5L, 60L, 18L, 59L, 50L, 65L, 61L, 58L, \n . 11L, 81L, 72L, 80L, 5L, 40L, 79L, 76L, 78L, 68L, 11L, 18L, 70L, \n . 22L, 29L, 71L, 74L, 77L, 17L, 73L, 75L, 11L, 20L, 5L, 87L, 71L, \n . 86L, 89L, 5L, 88L, 55L, 18L, 84L, 9L, 5L, 82L, 33L, 9L, 85L, \n . 83L, 10L, 76L, 9L, 96L, 68L, 94L, 97L, 95L, 90L, 10L, 92L, 9L, \n . 98L, 57L, 20L, 93L, 91L, 9L, 62L, 102L, 76L, 11L, 106L, 5L, 104L, \n . 68L, 99L, 101L, 20L, 20L, 105L, 45L, 47L, 103L, 100L, 11L, 22L, \n . 107L, 60L, 111L, 112L, 5L, 110L, 5L, 114L, 28L, 86L, 113L, 71L, \n . 9L, 109L, 108L, 68L, 120L, 115L, 121L, 65L, 122L, 11L, 119L, \n . 14L, 20L, 117L, 28L, 11L, 121L, 60L, 71L, 116L, 118L, 55L, 128L, \n . 9L, 123L, 13L, 18L, 65L, 129L, 99L, 127L, 18L, 5L, 126L, 131L, \n . 99L, 130L, 39L, 130L, 125L, 124L, 14L, 137L, 136L, 113L, 132L, \n . 5L, 141L, 10L, 139L, 135L, 33L, 11L, 140L, 10L, 133L, 138L, 134L, \n . 11L, 143L, 144L, 148L, 18L, 150L, 149L, 99L, 146L, 55L, 10L, \n . 142L, 147L, 10L, 113L, 29L, 90L, 145L, 151L, 11L, 13L, 10L, 153L, \n . 47L, 157L, 156L, 10L, 155L, 9L, 9L, 152L, 55L, 66L, 90L, 5L, \n . 154L, 158L, 71L, 167L, 18L, 160L, 20L, 165L, 166L, 14L, 164L, \n . 55L, 9L, 163L, 71L, 159L, 76L, 11L, 162L, 161L, 56L, 169L, 99L, \n . 18L, 173L, 172L, 99L, 18L, 168L, 5L, 5L, 170L, 90L, 86L, 171L, \n . 174L, 10L, 175L, 177L, 57L, 29L, 181L, 9L, 180L, 99L, 9L, 178L, \n . 14L, 90L, 176L, 60L, 47L, 179L, 182L, 18L, 113L, 183L, 62L, 29L, \n . 189L, 68L, 187L, 9L, 18L, 186L, 29L, 9L, 188L, 62L, 77L, 184L, \n . 185L), .Label = c(\"139\", \"1629\", \"18814\", \"1971\", \"2\", \"27742\", \n . \"28\", \"2816\", \"3\", \"4\", \"5\", \"50\", \"52\", \"6\", \"6030\", \"618\", \n . \"89\", \"1\", \"1076\", \"12\", \"224\", \"25\", \"25637\", \"28165\", \"31\", \n . \"32\", \"3850\", \"47\", \"8\", \"882\", \"114\", \"117\", \"15\", \"153\", \"18138\", \n . \"2217\", \"2632\", \"29406\", \"30\", \"41\", \"7014\", \"96\", \"104\", \"1551\", \n . \"17\", \"179\", \"18\", \"1863\", \"20322\", \"22\", \"29754\", \"39\", \"57\", \n . \"5919\", \"7\", \"77\", \"14\", \"1491\", \"152\", \"16\", \"18318\", \"20\", \n . \"2301\", \"29362\", \"48\", \"75\", \"8026\", \"9\", \"99\", \"1298\", \"13\", \n . \"162\", \"19010\", \"194\", \"1976\", \"21\", \"23\", \"32779\", \"4229\", \"44\", \n . \"66\", \"134\", \"1430\", \"1689\", \"20369\", \"24\", \"243\", \"30275\", \"5771\", \n . \"11\", \"1608\", \"1739\", \"22009\", \"26\", \"28086\", \"347\", \"6035\", \n . \"69\", \"10\", \"1277\", \"1558\", \"173\", \"21279\", \"30834\", \"33\", \"4717\", \n . \"118\", \"1260\", \"23690\", \"29986\", \"34\", \"3831\", \"68\", \"876\", \"137\", \n . \"19535\", \"2081\", \"2383\", \"30078\", \"311\", \"45\", \"5224\", \"123\", \n . \"1872\", \"20522\", \"2232\", \"29389\", \"408\", \"5084\", \"61\", \"84\", \n . \"120\", \"135\", \"1533\", \"1809\", \"197\", \"198\", \"23998\", \"27283\", \n . \"38\", \"4585\", \"1180\", \"133\", \"184\", \"25100\", \"26223\", \"27\", \"29\", \n . \"5914\", \"97\", \"995\", \"1174\", \"217\", \"24310\", \"27809\", \"5388\", \n . \"55\", \"863\", \"102\", \"175\", \"1775\", \"18653\", \"2640\", \"28499\", \n . \"40\", \"7952\", \"83\", \"1115\", \"169\", \"177\", \"23918\", \"27759\", \"5725\", \n . \"999\", \"124\", \"126\", \"141\", \"1814\", \"25306\", \"26657\", \"4759\", \n . \"980\", \"156\", \"16959\", \"1752\", \"2264\", \"25563\", \"63\", \"6511\"), class = \"factor\")), row.names = c(NA, \n . -347L), class = \"data.frame\"), function () \n . {\n .     from_context(\"..group_size\")\n . }, na.rm = FALSE)",
      "9. lapply(args, function(x) {\n .     x <- as.matrix(x)\n .     if (!is.numeric(x) && !is.complex(x)) \n .         stop(\"only defined on a data frame with all numeric variables\")\n .     x\n . })",
      "10. FUN(X[[i]], ...)",
      "11. stop(\"only defined on a data frame with all numeric variables\")"
     ]
    }
   ],
   "source": [
    "###SELECT SUM(CNT) FROM VOCATABLE\n",
    "###GROUP BY PARTSOFSPEECH\n",
    "vocaData %>% sum(n) %>% group_by(품사)"
   ]
  },
  {
   "cell_type": "code",
   "execution_count": null,
   "metadata": {},
   "outputs": [],
   "source": []
  }
 ],
 "metadata": {
  "kernelspec": {
   "display_name": "R",
   "language": "R",
   "name": "ir"
  },
  "language_info": {
   "codemirror_mode": "r",
   "file_extension": ".r",
   "mimetype": "text/x-r-source",
   "name": "R",
   "pygments_lexer": "r",
   "version": "3.6.1"
  }
 },
 "nbformat": 4,
 "nbformat_minor": 2
}
