{
 "cells": [
  {
   "cell_type": "code",
   "execution_count": null,
   "metadata": {},
   "outputs": [],
   "source": [
    "library('dplyr')\n",
    "library('xlsx')\n",
    "library('writexl')\n",
    "writeInfoPartsOfSpeech <- function(n){\n",
    "    setwd(\"C:/Users/82102/Documents/GitHub/MultiCampus/NLP/RefinedDataSet\")\n",
    "    str=\"\"\n",
    "    if(n<10){\n",
    "        str=paste0(\"RefinedData00\",as.character(n),\".xlsx\")\n",
    "    }\n",
    "    else{\n",
    "        str=paste0(\"RefinedData0\",as.character(n),\".xlsx\")\n",
    "    }\n",
    "    data <- read.xlsx2(str,sheetIndex=1,startRow=1,header=TRUE)\n",
    "    voca <- data %>% count(품사)\n",
    "    lexicalUnit <- filter(data,의미.번호==\"001\") %>% count(품사)\n",
    "    \n",
    "    if(n<10){\n",
    "        writexl::write_xlsx(voca, path = paste0(\"vocaInfo00\",as.character(n),\".xlsx\"))\n",
    "        writexl::write_xlsx(lexicalUnit, path = paste0(\"lexicalUnitInfo00\",as.character(n),\".xlsx\"))\n",
    "    }\n",
    "    else{\n",
    "        writexl::write_xlsx(voca, path = paste0(\"vocaInfo0\",as.character(n),\".xlsx\"))\n",
    "        writexl::write_xlsx(lexicalUnit, path = paste0(\"lexicalUnitInfo0\",as.character(n),\".xlsx\"))\n",
    "    }\n",
    "    sprintf(\"%s is created\",paste0(\"vocaInfo0\",as.character(n),\".xlsx\"))\n",
    "}"
   ]
  }
 ],
 "metadata": {
  "kernelspec": {
   "display_name": "R",
   "language": "R",
   "name": "ir"
  },
  "language_info": {
   "codemirror_mode": "r",
   "file_extension": ".r",
   "mimetype": "text/x-r-source",
   "name": "R",
   "pygments_lexer": "r",
   "version": "3.6.1"
  }
 },
 "nbformat": 4,
 "nbformat_minor": 2
}
