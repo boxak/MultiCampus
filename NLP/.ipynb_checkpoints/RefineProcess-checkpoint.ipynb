{
 "cells": [
  {
   "cell_type": "code",
   "execution_count": 8,
   "metadata": {},
   "outputs": [],
   "source": [
    "setwd(\"C:/Users/Jiwon Hwang/Documents/MultiCampus/NLP\")"
   ]
  },
  {
   "cell_type": "code",
   "execution_count": 9,
   "metadata": {},
   "outputs": [
    {
     "ename": "ERROR",
     "evalue": "Error in source(\"Refinary.R\"): 구문분석중 라인 14에서 유효하지 않은 멀티바이트 문자를 찾았습니다\n",
     "output_type": "error",
     "traceback": [
      "Error in source(\"Refinary.R\"): 구문분석중 라인 14에서 유효하지 않은 멀티바이트 문자를 찾았습니다\nTraceback:\n",
      "1. source(\"Refinary.R\")"
     ]
    }
   ],
   "source": [
    "source(\"Refinary.R\") "
   ]
  },
  {
   "cell_type": "code",
   "execution_count": 10,
   "metadata": {},
   "outputs": [
    {
     "ename": "ERROR",
     "evalue": "Error in library(\"devtools\"): there is no package called 'devtools'\n",
     "output_type": "error",
     "traceback": [
      "Error in library(\"devtools\"): there is no package called 'devtools'\nTraceback:\n",
      "1. library(\"devtools\")"
     ]
    }
   ],
   "source": [
    "library('devtools')"
   ]
  },
  {
   "cell_type": "code",
   "execution_count": 11,
   "metadata": {},
   "outputs": [
    {
     "name": "stderr",
     "output_type": "stream",
     "text": [
      "also installing the dependencies 'ini', 'clisymbols', 'fs', 'gh', 'rprojroot', 'rex', 'crosstalk', 'xopen', 'brew', 'commonmark', 'purrr', 'praise', 'usethis', 'covr', 'desc', 'DT', 'ellipsis', 'git2r', 'memoise', 'pkgbuild', 'pkgload', 'rcmdcheck', 'remotes', 'roxygen2', 'rversions', 'sessioninfo', 'testthat'\n",
      "\n"
     ]
    },
    {
     "name": "stdout",
     "output_type": "stream",
     "text": [
      "package 'ini' successfully unpacked and MD5 sums checked\n",
      "package 'clisymbols' successfully unpacked and MD5 sums checked\n",
      "package 'fs' successfully unpacked and MD5 sums checked\n",
      "package 'gh' successfully unpacked and MD5 sums checked\n",
      "package 'rprojroot' successfully unpacked and MD5 sums checked\n",
      "package 'rex' successfully unpacked and MD5 sums checked\n",
      "package 'crosstalk' successfully unpacked and MD5 sums checked\n",
      "package 'xopen' successfully unpacked and MD5 sums checked\n",
      "package 'brew' successfully unpacked and MD5 sums checked\n",
      "package 'commonmark' successfully unpacked and MD5 sums checked\n",
      "package 'purrr' successfully unpacked and MD5 sums checked\n",
      "package 'praise' successfully unpacked and MD5 sums checked\n",
      "package 'usethis' successfully unpacked and MD5 sums checked\n",
      "package 'covr' successfully unpacked and MD5 sums checked\n",
      "package 'desc' successfully unpacked and MD5 sums checked\n",
      "package 'DT' successfully unpacked and MD5 sums checked\n",
      "package 'ellipsis' successfully unpacked and MD5 sums checked\n",
      "package 'git2r' successfully unpacked and MD5 sums checked\n",
      "package 'memoise' successfully unpacked and MD5 sums checked\n",
      "package 'pkgbuild' successfully unpacked and MD5 sums checked\n",
      "package 'pkgload' successfully unpacked and MD5 sums checked\n",
      "package 'rcmdcheck' successfully unpacked and MD5 sums checked\n",
      "package 'remotes' successfully unpacked and MD5 sums checked\n",
      "package 'roxygen2' successfully unpacked and MD5 sums checked\n",
      "package 'rversions' successfully unpacked and MD5 sums checked\n",
      "package 'sessioninfo' successfully unpacked and MD5 sums checked\n",
      "package 'testthat' successfully unpacked and MD5 sums checked\n",
      "package 'devtools' successfully unpacked and MD5 sums checked\n",
      "\n",
      "The downloaded binary packages are in\n",
      "\tC:\\Users\\Jiwon Hwang\\AppData\\Local\\Temp\\RtmpamObsa\\downloaded_packages\n"
     ]
    }
   ],
   "source": [
    "install.packages('devtools')"
   ]
  },
  {
   "cell_type": "code",
   "execution_count": 12,
   "metadata": {},
   "outputs": [
    {
     "name": "stderr",
     "output_type": "stream",
     "text": [
      "Warning message:\n",
      "\"package 'devtools' was built under R version 3.6.2\"Loading required package: usethis\n",
      "Warning message:\n",
      "\"package 'usethis' was built under R version 3.6.2\""
     ]
    }
   ],
   "source": [
    "library('devtools')"
   ]
  },
  {
   "cell_type": "code",
   "execution_count": 13,
   "metadata": {},
   "outputs": [
    {
     "name": "stderr",
     "output_type": "stream",
     "text": [
      "WARNING: Rtools is required to build R packages, but is not currently installed.\n",
      "\n",
      "Please download and install Rtools custom from http://cran.r-project.org/bin/windows/Rtools/.\n",
      "Downloading GitHub repo plgrmr/readAny@master\n"
     ]
    },
    {
     "name": "stdout",
     "output_type": "stream",
     "text": [
      "Rcpp      (1.0.1    -> 1.0.3   ) [CRAN]\n",
      "tibble    (2.1.1    -> 2.1.3   ) [CRAN]\n",
      "hms       (0.4.2    -> 0.5.3   ) [CRAN]\n",
      "R6        (2.4.0    -> 2.4.1   ) [CRAN]\n",
      "clipr     (0.6.0    -> 0.7.0   ) [CRAN]\n",
      "BH        (1.69.0-1 -> 1.72.0-3) [CRAN]\n",
      "cli       (1.1.0    -> 2.0.1   ) [CRAN]\n",
      "fansi     (0.4.0    -> 0.4.1   ) [CRAN]\n",
      "pillar    (1.3.1    -> 1.4.3   ) [CRAN]\n",
      "pkgconfig (2.0.2    -> 2.0.3   ) [CRAN]\n",
      "vctrs     (NA       -> 0.2.1   ) [CRAN]\n",
      "backports (1.1.4    -> 1.1.5   ) [CRAN]\n",
      "digest    (0.6.18   -> 0.6.23  ) [CRAN]\n",
      "zeallot   (NA       -> 0.1.0   ) [CRAN]\n"
     ]
    },
    {
     "name": "stderr",
     "output_type": "stream",
     "text": [
      "Installing 14 packages: Rcpp, tibble, hms, R6, clipr, BH, cli, fansi, pillar, pkgconfig, vctrs, backports, digest, zeallot\n"
     ]
    },
    {
     "name": "stdout",
     "output_type": "stream",
     "text": [
      "package 'Rcpp' successfully unpacked and MD5 sums checked\n"
     ]
    },
    {
     "ename": "ERROR",
     "evalue": "Error: Failed to install 'readAny' from GitHub:\n  (converted from warning) cannot remove prior installation of package 'Rcpp'\n",
     "output_type": "error",
     "traceback": [
      "Error: Failed to install 'readAny' from GitHub:\n  (converted from warning) cannot remove prior installation of package 'Rcpp'\nTraceback:\n",
      "1. install_github(\"plgrmr/readAny\", force = TRUE)",
      "2. pkgbuild::with_build_tools({\n .     ellipsis::check_dots_used(action = getOption(\"devtools.ellipsis_action\", \n .         rlang::warn))\n .     {\n .         remotes <- lapply(repo, github_remote, ref = ref, subdir = subdir, \n .             auth_token = auth_token, host = host)\n .         install_remotes(remotes, auth_token = auth_token, host = host, \n .             dependencies = dependencies, upgrade = upgrade, force = force, \n .             quiet = quiet, build = build, build_opts = build_opts, \n .             build_manual = build_manual, build_vignettes = build_vignettes, \n .             repos = repos, type = type, ...)\n .     }\n . }, required = FALSE)",
      "3. install_remotes(remotes, auth_token = auth_token, host = host, \n .     dependencies = dependencies, upgrade = upgrade, force = force, \n .     quiet = quiet, build = build, build_opts = build_opts, build_manual = build_manual, \n .     build_vignettes = build_vignettes, repos = repos, type = type, \n .     ...)",
      "4. tryCatch(res[[i]] <- install_remote(remotes[[i]], ...), error = function(e) {\n .     stop(remote_install_error(remotes[[i]], e))\n . })",
      "5. tryCatchList(expr, classes, parentenv, handlers)",
      "6. tryCatchOne(expr, names, parentenv, handlers[[1L]])",
      "7. value[[3L]](cond)"
     ]
    }
   ],
   "source": [
    "install_github(\"plgrmr/readAny\",force=TRUE)"
   ]
  },
  {
   "cell_type": "code",
   "execution_count": 14,
   "metadata": {},
   "outputs": [],
   "source": [
    "options(encoding=\"UTF-8\")"
   ]
  },
  {
   "cell_type": "code",
   "execution_count": 15,
   "metadata": {},
   "outputs": [
    {
     "name": "stderr",
     "output_type": "stream",
     "text": [
      "Warning message:\n",
      "\"package 'dplyr' was built under R version 3.6.2\"\n",
      "Attaching package: 'dplyr'\n",
      "\n",
      "The following objects are masked from 'package:stats':\n",
      "\n",
      "    filter, lag\n",
      "\n",
      "The following objects are masked from 'package:base':\n",
      "\n",
      "    intersect, setdiff, setequal, union\n",
      "\n",
      "Warning message:\n",
      "\"package 'writexl' was built under R version 3.6.2\"Warning message:\n",
      "\"package 'stringr' was built under R version 3.6.2\""
     ]
    }
   ],
   "source": [
    "source(\"Refinary.R\") "
   ]
  },
  {
   "cell_type": "code",
   "execution_count": 16,
   "metadata": {},
   "outputs": [
    {
     "ename": "ERROR",
     "evalue": "Error in Refinary(1): 객체 'data2'를 찾을 수 없습니다\n",
     "output_type": "error",
     "traceback": [
      "Error in Refinary(1): 객체 'data2'를 찾을 수 없습니다\nTraceback:\n",
      "1. Refinary(1)"
     ]
    }
   ],
   "source": [
    "Refinary(1)"
   ]
  },
  {
   "cell_type": "code",
   "execution_count": null,
   "metadata": {},
   "outputs": [],
   "source": [
    "sprintf(\"%s  %s\",\"1\",\"Hello\")"
   ]
  },
  {
   "cell_type": "code",
   "execution_count": 1,
   "metadata": {},
   "outputs": [
    {
     "ename": "ERROR",
     "evalue": "Error in setwd(\"C:/Users/Jiwon Hwang/Documents/MultiCampus/NLP\"): 작업디렉토리를 변경할 수 없습니다\n",
     "output_type": "error",
     "traceback": [
      "Error in setwd(\"C:/Users/Jiwon Hwang/Documents/MultiCampus/NLP\"): 작업디렉토리를 변경할 수 없습니다\nTraceback:\n",
      "1. setwd(\"C:/Users/Jiwon Hwang/Documents/MultiCampus/NLP\")"
     ]
    }
   ],
   "source": [
    "setwd(\"C:/Users/Jiwon Hwang/Documents/MultiCampus/NLP\")"
   ]
  },
  {
   "cell_type": "code",
   "execution_count": 2,
   "metadata": {},
   "outputs": [
    {
     "ename": "ERROR",
     "evalue": "Error in source(\"Refinary.R\"): 구문분석중 라인 16에서 유효하지 않은 멀티바이트 문자를 찾았습니다\n",
     "output_type": "error",
     "traceback": [
      "Error in source(\"Refinary.R\"): 구문분석중 라인 16에서 유효하지 않은 멀티바이트 문자를 찾았습니다\nTraceback:\n",
      "1. source(\"Refinary.R\")"
     ]
    }
   ],
   "source": [
    "source(\"Refinary.R\")"
   ]
  },
  {
   "cell_type": "code",
   "execution_count": 29,
   "metadata": {},
   "outputs": [
    {
     "ename": "ERROR",
     "evalue": "Error in .jcall(\"RJavaTools\", \"Ljava/lang/Object;\", \"invokeMethod\", cl, : java.lang.OutOfMemoryError: Java heap space\n",
     "output_type": "error",
     "traceback": [
      "Error in .jcall(\"RJavaTools\", \"Ljava/lang/Object;\", \"invokeMethod\", cl, : java.lang.OutOfMemoryError: Java heap space\nTraceback:\n",
      "1. Refinary(1)",
      "2. read.xlsx2(str, sheetIndex = 1, startRow = 1, header = TRUE)",
      "3. loadWorkbook(file, password = password)",
      "4. wbFactory$create(inputStream)",
      "5. .jrcall(x, name, ...)",
      "6. .jcall(\"RJavaTools\", \"Ljava/lang/Object;\", \"invokeMethod\", cl, \n .     .jcast(if (inherits(o, \"jobjRef\") || inherits(o, \"jarrayRef\")) o else cl, \n .         \"java/lang/Object\"), .jnew(\"java/lang/String\", method), \n .     j_p, j_pc, use.true.class = TRUE, evalString = simplify, \n .     evalArray = FALSE)",
      "7. .jcheck(silent = FALSE)"
     ]
    }
   ],
   "source": [
    "Refinary(1)"
   ]
  },
  {
   "cell_type": "code",
   "execution_count": 1,
   "metadata": {},
   "outputs": [
    {
     "name": "stderr",
     "output_type": "stream",
     "text": [
      "Warning message:\n",
      "\"package 'dpylr' is not available (for R version 3.6.1)\""
     ]
    }
   ],
   "source": [
    "install.packages('dpylr')"
   ]
  },
  {
   "cell_type": "code",
   "execution_count": 2,
   "metadata": {},
   "outputs": [
    {
     "name": "stderr",
     "output_type": "stream",
     "text": [
      "also installing the dependencies 'rJava', 'xlsxjars'\n",
      "\n"
     ]
    },
    {
     "name": "stdout",
     "output_type": "stream",
     "text": [
      "package 'rJava' successfully unpacked and MD5 sums checked\n",
      "package 'xlsxjars' successfully unpacked and MD5 sums checked\n",
      "package 'xlsx' successfully unpacked and MD5 sums checked\n",
      "\n",
      "The downloaded binary packages are in\n",
      "\tC:\\Users\\82102\\AppData\\Local\\Temp\\RtmpEh9m1C\\downloaded_packages\n"
     ]
    }
   ],
   "source": [
    "install.packages('xlsx')"
   ]
  },
  {
   "cell_type": "code",
   "execution_count": 3,
   "metadata": {},
   "outputs": [
    {
     "name": "stdout",
     "output_type": "stream",
     "text": [
      "package 'stringr' successfully unpacked and MD5 sums checked\n",
      "\n",
      "The downloaded binary packages are in\n",
      "\tC:\\Users\\82102\\AppData\\Local\\Temp\\RtmpEh9m1C\\downloaded_packages\n"
     ]
    }
   ],
   "source": [
    "install.packages('stringr')"
   ]
  },
  {
   "cell_type": "code",
   "execution_count": 4,
   "metadata": {},
   "outputs": [
    {
     "name": "stdout",
     "output_type": "stream",
     "text": [
      "package 'writexl' successfully unpacked and MD5 sums checked\n",
      "\n",
      "The downloaded binary packages are in\n",
      "\tC:\\Users\\82102\\AppData\\Local\\Temp\\RtmpEh9m1C\\downloaded_packages\n"
     ]
    }
   ],
   "source": [
    "install.packages('writexl')"
   ]
  },
  {
   "cell_type": "code",
   "execution_count": 1,
   "metadata": {},
   "outputs": [],
   "source": [
    "setwd(\"C:/Users/student/MultiCampus/NLP\")"
   ]
  },
  {
   "cell_type": "code",
   "execution_count": 2,
   "metadata": {},
   "outputs": [],
   "source": [
    "options(encoding=\"UTF-8\")"
   ]
  },
  {
   "cell_type": "code",
   "execution_count": 3,
   "metadata": {},
   "outputs": [
    {
     "name": "stderr",
     "output_type": "stream",
     "text": [
      "\n",
      "Attaching package: 'dplyr'\n",
      "\n",
      "The following objects are masked from 'package:stats':\n",
      "\n",
      "    filter, lag\n",
      "\n",
      "The following objects are masked from 'package:base':\n",
      "\n",
      "    intersect, setdiff, setequal, union\n",
      "\n",
      "Warning message:\n",
      "\"package 'writexl' was built under R version 3.6.2\""
     ]
    }
   ],
   "source": [
    "source(\"Refinary.R\")"
   ]
  },
  {
   "cell_type": "code",
   "execution_count": 4,
   "metadata": {},
   "outputs": [
    {
     "name": "stdout",
     "output_type": "stream",
     "text": [
      "[1] \"1 \"\n",
      "[1] \"2 \"\n",
      "[1] \"3 \"\n"
     ]
    },
    {
     "name": "stderr",
     "output_type": "stream",
     "text": [
      "Warning message in stri_length(string):\n",
      "\"invalid UTF-8 byte sequence detected; try calling stri_enc_toutf8()\""
     ]
    },
    {
     "name": "stdout",
     "output_type": "stream",
     "text": [
      "[1] \"4 \"\n"
     ]
    },
    {
     "data": {
      "text/html": [
       "'DATA_01.xls is refined successfully'"
      ],
      "text/latex": [
       "'DATA\\_01.xls is refined successfully'"
      ],
      "text/markdown": [
       "'DATA_01.xls is refined successfully'"
      ],
      "text/plain": [
       "[1] \"DATA_01.xls is refined successfully\""
      ]
     },
     "metadata": {},
     "output_type": "display_data"
    }
   ],
   "source": [
    "Refinary(1)"
   ]
  },
  {
   "cell_type": "code",
   "execution_count": 4,
   "metadata": {},
   "outputs": [
    {
     "name": "stdout",
     "output_type": "stream",
     "text": [
      "[1] \"1 \"\n",
      "[1] \"2 \"\n",
      "[1] \"3 \"\n",
      "[1] \"4 \"\n"
     ]
    },
    {
     "data": {
      "text/html": [
       "'DATA_02.xls is refined successfully'"
      ],
      "text/latex": [
       "'DATA\\_02.xls is refined successfully'"
      ],
      "text/markdown": [
       "'DATA_02.xls is refined successfully'"
      ],
      "text/plain": [
       "[1] \"DATA_02.xls is refined successfully\""
      ]
     },
     "metadata": {},
     "output_type": "display_data"
    }
   ],
   "source": [
    "Refinary(2)"
   ]
  },
  {
   "cell_type": "code",
   "execution_count": 4,
   "metadata": {},
   "outputs": [
    {
     "name": "stdout",
     "output_type": "stream",
     "text": [
      "[1] \"1 \"\n",
      "[1] \"2 \"\n",
      "[1] \"3 \"\n",
      "[1] \"4 \"\n"
     ]
    },
    {
     "data": {
      "text/html": [
       "'DATA_03.xls is refined successfully'"
      ],
      "text/latex": [
       "'DATA\\_03.xls is refined successfully'"
      ],
      "text/markdown": [
       "'DATA_03.xls is refined successfully'"
      ],
      "text/plain": [
       "[1] \"DATA_03.xls is refined successfully\""
      ]
     },
     "metadata": {},
     "output_type": "display_data"
    }
   ],
   "source": [
    "Refinary(3)"
   ]
  },
  {
   "cell_type": "code",
   "execution_count": 4,
   "metadata": {},
   "outputs": [
    {
     "name": "stdout",
     "output_type": "stream",
     "text": [
      "[1] \"1 \"\n",
      "[1] \"2 \"\n",
      "[1] \"3 \"\n",
      "[1] \"4 \"\n"
     ]
    },
    {
     "data": {
      "text/html": [
       "'DATA_04.xls is refined successfully'"
      ],
      "text/latex": [
       "'DATA\\_04.xls is refined successfully'"
      ],
      "text/markdown": [
       "'DATA_04.xls is refined successfully'"
      ],
      "text/plain": [
       "[1] \"DATA_04.xls is refined successfully\""
      ]
     },
     "metadata": {},
     "output_type": "display_data"
    }
   ],
   "source": [
    "Refinary(4)"
   ]
  },
  {
   "cell_type": "code",
   "execution_count": 4,
   "metadata": {},
   "outputs": [
    {
     "name": "stdout",
     "output_type": "stream",
     "text": [
      "[1] \"1 \"\n",
      "[1] \"2 \"\n",
      "[1] \"3 \"\n",
      "[1] \"4 \"\n"
     ]
    },
    {
     "data": {
      "text/html": [
       "'DATA_05.xls is refined successfully'"
      ],
      "text/latex": [
       "'DATA\\_05.xls is refined successfully'"
      ],
      "text/markdown": [
       "'DATA_05.xls is refined successfully'"
      ],
      "text/plain": [
       "[1] \"DATA_05.xls is refined successfully\""
      ]
     },
     "metadata": {},
     "output_type": "display_data"
    }
   ],
   "source": [
    "Refinary(5)"
   ]
  },
  {
   "cell_type": "code",
   "execution_count": 4,
   "metadata": {},
   "outputs": [
    {
     "name": "stdout",
     "output_type": "stream",
     "text": [
      "[1] \"1 \"\n",
      "[1] \"2 \"\n",
      "[1] \"3 \"\n",
      "[1] \"4 \"\n"
     ]
    },
    {
     "data": {
      "text/html": [
       "'DATA_06.xls is refined successfully'"
      ],
      "text/latex": [
       "'DATA\\_06.xls is refined successfully'"
      ],
      "text/markdown": [
       "'DATA_06.xls is refined successfully'"
      ],
      "text/plain": [
       "[1] \"DATA_06.xls is refined successfully\""
      ]
     },
     "metadata": {},
     "output_type": "display_data"
    }
   ],
   "source": [
    "Refinary(6)"
   ]
  },
  {
   "cell_type": "code",
   "execution_count": 4,
   "metadata": {},
   "outputs": [
    {
     "name": "stdout",
     "output_type": "stream",
     "text": [
      "[1] \"1 \"\n",
      "[1] \"2 \"\n",
      "[1] \"3 \"\n",
      "[1] \"4 \"\n"
     ]
    },
    {
     "data": {
      "text/html": [
       "'DATA_07.xls is refined successfully'"
      ],
      "text/latex": [
       "'DATA\\_07.xls is refined successfully'"
      ],
      "text/markdown": [
       "'DATA_07.xls is refined successfully'"
      ],
      "text/plain": [
       "[1] \"DATA_07.xls is refined successfully\""
      ]
     },
     "metadata": {},
     "output_type": "display_data"
    }
   ],
   "source": [
    "Refinary(7)"
   ]
  },
  {
   "cell_type": "code",
   "execution_count": 4,
   "metadata": {},
   "outputs": [
    {
     "name": "stdout",
     "output_type": "stream",
     "text": [
      "[1] \"1 \"\n",
      "[1] \"2 \"\n",
      "[1] \"3 \"\n",
      "[1] \"4 \"\n"
     ]
    },
    {
     "data": {
      "text/html": [
       "'DATA_08.xls is refined successfully'"
      ],
      "text/latex": [
       "'DATA\\_08.xls is refined successfully'"
      ],
      "text/markdown": [
       "'DATA_08.xls is refined successfully'"
      ],
      "text/plain": [
       "[1] \"DATA_08.xls is refined successfully\""
      ]
     },
     "metadata": {},
     "output_type": "display_data"
    }
   ],
   "source": [
    "Refinary(8)"
   ]
  },
  {
   "cell_type": "code",
   "execution_count": 4,
   "metadata": {},
   "outputs": [
    {
     "name": "stdout",
     "output_type": "stream",
     "text": [
      "[1] \"1 \"\n",
      "[1] \"2 \"\n",
      "[1] \"3 \"\n"
     ]
    },
    {
     "name": "stderr",
     "output_type": "stream",
     "text": [
      "Warning message in stri_length(string):\n",
      "\"invalid UTF-8 byte sequence detected; try calling stri_enc_toutf8()\""
     ]
    },
    {
     "name": "stdout",
     "output_type": "stream",
     "text": [
      "[1] \"4 \"\n"
     ]
    },
    {
     "data": {
      "text/html": [
       "'DATA_09.xls is refined successfully'"
      ],
      "text/latex": [
       "'DATA\\_09.xls is refined successfully'"
      ],
      "text/markdown": [
       "'DATA_09.xls is refined successfully'"
      ],
      "text/plain": [
       "[1] \"DATA_09.xls is refined successfully\""
      ]
     },
     "metadata": {},
     "output_type": "display_data"
    }
   ],
   "source": [
    "Refinary(9)"
   ]
  },
  {
   "cell_type": "code",
   "execution_count": 4,
   "metadata": {},
   "outputs": [
    {
     "name": "stdout",
     "output_type": "stream",
     "text": [
      "[1] \"1 \"\n",
      "[1] \"2 \"\n",
      "[1] \"3 \"\n",
      "[1] \"4 \"\n"
     ]
    },
    {
     "data": {
      "text/html": [
       "'DATA_10.xls is refined successfully'"
      ],
      "text/latex": [
       "'DATA\\_10.xls is refined successfully'"
      ],
      "text/markdown": [
       "'DATA_10.xls is refined successfully'"
      ],
      "text/plain": [
       "[1] \"DATA_10.xls is refined successfully\""
      ]
     },
     "metadata": {},
     "output_type": "display_data"
    }
   ],
   "source": [
    "Refinary(10)"
   ]
  },
  {
   "cell_type": "code",
   "execution_count": 4,
   "metadata": {},
   "outputs": [
    {
     "name": "stdout",
     "output_type": "stream",
     "text": [
      "[1] \"1 \"\n",
      "[1] \"2 \"\n",
      "[1] \"3 \"\n",
      "[1] \"4 \"\n"
     ]
    },
    {
     "data": {
      "text/html": [
       "'DATA_11.xls is refined successfully'"
      ],
      "text/latex": [
       "'DATA\\_11.xls is refined successfully'"
      ],
      "text/markdown": [
       "'DATA_11.xls is refined successfully'"
      ],
      "text/plain": [
       "[1] \"DATA_11.xls is refined successfully\""
      ]
     },
     "metadata": {},
     "output_type": "display_data"
    }
   ],
   "source": [
    "Refinary(11)"
   ]
  },
  {
   "cell_type": "code",
   "execution_count": 4,
   "metadata": {},
   "outputs": [
    {
     "name": "stdout",
     "output_type": "stream",
     "text": [
      "[1] \"1 \"\n",
      "[1] \"2 \"\n",
      "[1] \"3 \"\n",
      "[1] \"4 \"\n"
     ]
    },
    {
     "data": {
      "text/html": [
       "'DATA_12.xls is refined successfully'"
      ],
      "text/latex": [
       "'DATA\\_12.xls is refined successfully'"
      ],
      "text/markdown": [
       "'DATA_12.xls is refined successfully'"
      ],
      "text/plain": [
       "[1] \"DATA_12.xls is refined successfully\""
      ]
     },
     "metadata": {},
     "output_type": "display_data"
    }
   ],
   "source": [
    "Refinary(12)"
   ]
  },
  {
   "cell_type": "code",
   "execution_count": 4,
   "metadata": {},
   "outputs": [
    {
     "name": "stdout",
     "output_type": "stream",
     "text": [
      "[1] \"1 \"\n",
      "[1] \"2 \"\n",
      "[1] \"3 \"\n",
      "[1] \"4 \"\n"
     ]
    },
    {
     "data": {
      "text/html": [
       "'DATA_13.xls is refined successfully'"
      ],
      "text/latex": [
       "'DATA\\_13.xls is refined successfully'"
      ],
      "text/markdown": [
       "'DATA_13.xls is refined successfully'"
      ],
      "text/plain": [
       "[1] \"DATA_13.xls is refined successfully\""
      ]
     },
     "metadata": {},
     "output_type": "display_data"
    }
   ],
   "source": [
    "Refinary(13)"
   ]
  },
  {
   "cell_type": "code",
   "execution_count": 4,
   "metadata": {},
   "outputs": [
    {
     "name": "stdout",
     "output_type": "stream",
     "text": [
      "[1] \"1 \"\n",
      "[1] \"2 \"\n",
      "[1] \"3 \"\n",
      "[1] \"4 \"\n"
     ]
    },
    {
     "data": {
      "text/html": [
       "'DATA_14.xls is refined successfully'"
      ],
      "text/latex": [
       "'DATA\\_14.xls is refined successfully'"
      ],
      "text/markdown": [
       "'DATA_14.xls is refined successfully'"
      ],
      "text/plain": [
       "[1] \"DATA_14.xls is refined successfully\""
      ]
     },
     "metadata": {},
     "output_type": "display_data"
    }
   ],
   "source": [
    "Refinary(14)"
   ]
  },
  {
   "cell_type": "code",
   "execution_count": 4,
   "metadata": {},
   "outputs": [
    {
     "name": "stdout",
     "output_type": "stream",
     "text": [
      "[1] \"1 \"\n",
      "[1] \"2 \"\n",
      "[1] \"3 \"\n",
      "[1] \"4 \"\n"
     ]
    },
    {
     "data": {
      "text/html": [
       "'DATA_15.xls is refined successfully'"
      ],
      "text/latex": [
       "'DATA\\_15.xls is refined successfully'"
      ],
      "text/markdown": [
       "'DATA_15.xls is refined successfully'"
      ],
      "text/plain": [
       "[1] \"DATA_15.xls is refined successfully\""
      ]
     },
     "metadata": {},
     "output_type": "display_data"
    }
   ],
   "source": [
    "Refinary(15)"
   ]
  },
  {
   "cell_type": "code",
   "execution_count": 4,
   "metadata": {},
   "outputs": [
    {
     "name": "stdout",
     "output_type": "stream",
     "text": [
      "[1] \"1 \"\n",
      "[1] \"2 \"\n",
      "[1] \"3 \"\n",
      "[1] \"4 \"\n"
     ]
    },
    {
     "data": {
      "text/html": [
       "'DATA_16.xls is refined successfully'"
      ],
      "text/latex": [
       "'DATA\\_16.xls is refined successfully'"
      ],
      "text/markdown": [
       "'DATA_16.xls is refined successfully'"
      ],
      "text/plain": [
       "[1] \"DATA_16.xls is refined successfully\""
      ]
     },
     "metadata": {},
     "output_type": "display_data"
    }
   ],
   "source": [
    "Refinary(16)"
   ]
  },
  {
   "cell_type": "code",
   "execution_count": 4,
   "metadata": {},
   "outputs": [
    {
     "name": "stdout",
     "output_type": "stream",
     "text": [
      "[1] \"1 \"\n",
      "[1] \"2 \"\n",
      "[1] \"3 \"\n",
      "[1] \"4 \"\n"
     ]
    },
    {
     "data": {
      "text/html": [
       "'DATA_17.xls is refined successfully'"
      ],
      "text/latex": [
       "'DATA\\_17.xls is refined successfully'"
      ],
      "text/markdown": [
       "'DATA_17.xls is refined successfully'"
      ],
      "text/plain": [
       "[1] \"DATA_17.xls is refined successfully\""
      ]
     },
     "metadata": {},
     "output_type": "display_data"
    }
   ],
   "source": [
    "Refinary(17)"
   ]
  },
  {
   "cell_type": "code",
   "execution_count": 4,
   "metadata": {},
   "outputs": [
    {
     "name": "stdout",
     "output_type": "stream",
     "text": [
      "[1] \"1 \"\n",
      "[1] \"2 \"\n",
      "[1] \"3 \"\n",
      "[1] \"4 \"\n"
     ]
    },
    {
     "data": {
      "text/html": [
       "'DATA_18.xls is refined successfully'"
      ],
      "text/latex": [
       "'DATA\\_18.xls is refined successfully'"
      ],
      "text/markdown": [
       "'DATA_18.xls is refined successfully'"
      ],
      "text/plain": [
       "[1] \"DATA_18.xls is refined successfully\""
      ]
     },
     "metadata": {},
     "output_type": "display_data"
    }
   ],
   "source": [
    "Refinary(18)"
   ]
  },
  {
   "cell_type": "code",
   "execution_count": 4,
   "metadata": {},
   "outputs": [
    {
     "name": "stdout",
     "output_type": "stream",
     "text": [
      "[1] \"1 \"\n",
      "[1] \"2 \"\n",
      "[1] \"3 \"\n",
      "[1] \"4 \"\n"
     ]
    },
    {
     "data": {
      "text/html": [
       "'DATA_19.xls is refined successfully'"
      ],
      "text/latex": [
       "'DATA\\_19.xls is refined successfully'"
      ],
      "text/markdown": [
       "'DATA_19.xls is refined successfully'"
      ],
      "text/plain": [
       "[1] \"DATA_19.xls is refined successfully\""
      ]
     },
     "metadata": {},
     "output_type": "display_data"
    }
   ],
   "source": [
    "Refinary(19)"
   ]
  },
  {
   "cell_type": "code",
   "execution_count": null,
   "metadata": {},
   "outputs": [],
   "source": []
  }
 ],
 "metadata": {
  "kernelspec": {
   "display_name": "R",
   "language": "R",
   "name": "ir"
  },
  "language_info": {
   "codemirror_mode": "r",
   "file_extension": ".r",
   "mimetype": "text/x-r-source",
   "name": "R",
   "pygments_lexer": "r",
   "version": "3.6.1"
  }
 },
 "nbformat": 4,
 "nbformat_minor": 2
}
