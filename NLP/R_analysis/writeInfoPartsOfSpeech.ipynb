{
 "cells": [
  {
   "cell_type": "code",
   "execution_count": null,
   "metadata": {},
   "outputs": [],
   "source": [
    "library('dplyr')\n",
    "library('xlsx')\n",
    "library('writexl')\n",
    "writeInfoPartsOfSpeech <- function(n){\n",
    "    setwd(\"C:/Users/student/MultiCampus/NLP\")\n",
    "    str=\"\"\n",
    "    if(n<10){\n",
    "        str=paste0(\"RefinedData00\",as.character(n),\".csv\")\n",
    "    }\n",
    "    else{\n",
    "        str=paste0(\"RefinedData0\",as.character(n),\".csv\")\n",
    "    }\n",
    "    data <- read.csv(str,header=FALSE,fileEncoding=\"UTF-8\")\n",
    "    lexicalUnit <- data %>% count(품사)\n",
    "    voca <- filter(data,의미.번호==\"001\") %>% count(품사)\n",
    "    \n",
    "    if(n<10){\n",
    "        write.table(voca,file=paste0(\"vocaData00\",as.character(n),\".csv\"),row.names=TRUE,col.names=FALSE,append=T,sep=\",\",fileEncoding=\"UTF-8\")\n",
    "        write.table(lexicalUnit,file=paste0(\"lexicalUnitData00\",as.character(n),\".csv\"),row.names=TRUE,col.names=FALSE,append=T,sep=\",\",fileEncoding=\"UTF-8\")\n",
    "    }\n",
    "    else{\n",
    "        write.table(voca,file=paste0(\"vocaData0\",as.character(n),\".csv\"),row.names=TRUE,col.names=FALSE,append=T,sep=\",\",fileEncoding=\"UTF-8\")\n",
    "        write.table(lexicalUnit,file=paste0(\"lexicalUnitData0\",as.character(n),\".csv\"),row.names=TRUE,col.names=FALSE,append=T,sep=\",\",fileEncoding=\"UTF-8\")\n",
    "    }\n",
    "    sprintf(\"%s is created\",paste0(\"vocaInfo0\",as.character(n),\".xlsx\"))\n",
    "}"
   ]
  }
 ],
 "metadata": {
  "kernelspec": {
   "display_name": "R",
   "language": "R",
   "name": "ir"
  },
  "language_info": {
   "codemirror_mode": "r",
   "file_extension": ".r",
   "mimetype": "text/x-r-source",
   "name": "R",
   "pygments_lexer": "r",
   "version": "3.6.1"
  }
 },
 "nbformat": 4,
 "nbformat_minor": 2
}
