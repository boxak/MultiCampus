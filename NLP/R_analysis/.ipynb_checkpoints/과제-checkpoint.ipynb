{
 "cells": [
  {
   "cell_type": "code",
   "execution_count": 1,
   "metadata": {},
   "outputs": [],
   "source": [
    "library(\"xlsx\")"
   ]
  },
  {
   "cell_type": "code",
   "execution_count": 2,
   "metadata": {},
   "outputs": [],
   "source": [
    "data <- read.xlsx2(\"vocaSet/vocaInfo001.xlsx\",sheetIndex=1,startRow=1,header=TRUE)"
   ]
  },
  {
   "cell_type": "code",
   "execution_count": 3,
   "metadata": {},
   "outputs": [
    {
     "data": {
      "text/html": [
       "<table>\n",
       "<thead><tr><th scope=col>품사</th><th scope=col>n</th></tr></thead>\n",
       "<tbody>\n",
       "\t<tr><td>감·명</td><td>3     </td></tr>\n",
       "\t<tr><td>감탄사</td><td>50    </td></tr>\n",
       "\t<tr><td>관·명</td><td>139   </td></tr>\n",
       "\t<tr><td>관형사</td><td>6     </td></tr>\n",
       "\t<tr><td>대·감</td><td>2     </td></tr>\n",
       "\t<tr><td>대명사</td><td>28    </td></tr>\n",
       "</tbody>\n",
       "</table>\n"
      ],
      "text/latex": [
       "\\begin{tabular}{r|ll}\n",
       " 품사 & n\\\\\n",
       "\\hline\n",
       "\t 감·명 & 3     \\\\\n",
       "\t 감탄사 & 50    \\\\\n",
       "\t 관·명 & 139   \\\\\n",
       "\t 관형사 & 6     \\\\\n",
       "\t 대·감 & 2     \\\\\n",
       "\t 대명사 & 28    \\\\\n",
       "\\end{tabular}\n"
      ],
      "text/markdown": [
       "\n",
       "| 품사 | n |\n",
       "|---|---|\n",
       "| 감·명 | 3      |\n",
       "| 감탄사 | 50     |\n",
       "| 관·명 | 139    |\n",
       "| 관형사 | 6      |\n",
       "| 대·감 | 2      |\n",
       "| 대명사 | 28     |\n",
       "\n"
      ],
      "text/plain": [
       "  품사   n  \n",
       "1 감·명 3  \n",
       "2 감탄사 50 \n",
       "3 관·명 139\n",
       "4 관형사 6  \n",
       "5 대·감 2  \n",
       "6 대명사 28 "
      ]
     },
     "metadata": {},
     "output_type": "display_data"
    }
   ],
   "source": [
    "head(data)"
   ]
  },
  {
   "cell_type": "code",
   "execution_count": 5,
   "metadata": {},
   "outputs": [
    {
     "data": {
      "text/html": [
       "<ol class=list-inline>\n",
       "\t<li>3</li>\n",
       "\t<li>50</li>\n",
       "\t<li>139</li>\n",
       "\t<li>6</li>\n",
       "\t<li>2</li>\n",
       "\t<li>28</li>\n",
       "</ol>\n",
       "\n",
       "<details>\n",
       "\t<summary style=display:list-item;cursor:pointer>\n",
       "\t\t<strong>Levels</strong>:\n",
       "\t</summary>\n",
       "\t<ol class=list-inline>\n",
       "\t\t<li>'139'</li>\n",
       "\t\t<li>'1629'</li>\n",
       "\t\t<li>'18814'</li>\n",
       "\t\t<li>'1971'</li>\n",
       "\t\t<li>'2'</li>\n",
       "\t\t<li>'27742'</li>\n",
       "\t\t<li>'28'</li>\n",
       "\t\t<li>'2816'</li>\n",
       "\t\t<li>'3'</li>\n",
       "\t\t<li>'4'</li>\n",
       "\t\t<li>'5'</li>\n",
       "\t\t<li>'50'</li>\n",
       "\t\t<li>'52'</li>\n",
       "\t\t<li>'6'</li>\n",
       "\t\t<li>'6030'</li>\n",
       "\t\t<li>'618'</li>\n",
       "\t\t<li>'89'</li>\n",
       "\t</ol>\n",
       "</details>"
      ],
      "text/latex": [
       "\\begin{enumerate*}\n",
       "\\item 3\n",
       "\\item 50\n",
       "\\item 139\n",
       "\\item 6\n",
       "\\item 2\n",
       "\\item 28\n",
       "\\end{enumerate*}\n",
       "\n",
       "\\emph{Levels}: \\begin{enumerate*}\n",
       "\\item '139'\n",
       "\\item '1629'\n",
       "\\item '18814'\n",
       "\\item '1971'\n",
       "\\item '2'\n",
       "\\item '27742'\n",
       "\\item '28'\n",
       "\\item '2816'\n",
       "\\item '3'\n",
       "\\item '4'\n",
       "\\item '5'\n",
       "\\item '50'\n",
       "\\item '52'\n",
       "\\item '6'\n",
       "\\item '6030'\n",
       "\\item '618'\n",
       "\\item '89'\n",
       "\\end{enumerate*}\n"
      ],
      "text/markdown": [
       "1. 3\n",
       "2. 50\n",
       "3. 139\n",
       "4. 6\n",
       "5. 2\n",
       "6. 28\n",
       "\n",
       "\n",
       "\n",
       "**Levels**: 1. '139'\n",
       "2. '1629'\n",
       "3. '18814'\n",
       "4. '1971'\n",
       "5. '2'\n",
       "6. '27742'\n",
       "7. '28'\n",
       "8. '2816'\n",
       "9. '3'\n",
       "10. '4'\n",
       "11. '5'\n",
       "12. '50'\n",
       "13. '52'\n",
       "14. '6'\n",
       "15. '6030'\n",
       "16. '618'\n",
       "17. '89'\n",
       "\n",
       "\n"
      ],
      "text/plain": [
       "[1] 3   50  139 6   2   28 \n",
       "Levels: 139 1629 18814 1971 2 27742 28 2816 3 4 5 50 52 6 6030 618 89"
      ]
     },
     "metadata": {},
     "output_type": "display_data"
    }
   ],
   "source": [
    "head(data$n)"
   ]
  },
  {
   "cell_type": "code",
   "execution_count": 6,
   "metadata": {},
   "outputs": [
    {
     "name": "stdout",
     "output_type": "stream",
     "text": [
      "'data.frame':\t18 obs. of  2 variables:\n",
      " $ 품사: Factor w/ 18 levels \"감·명\",\"감탄사\",..: 1 2 3 4 5 6 7 8 9 10 ...\n",
      " $ n   : Factor w/ 17 levels \"139\",\"1629\",\"18814\",..: 9 12 1 14 5 7 15 5 6 11 ...\n"
     ]
    }
   ],
   "source": [
    "str(data) ###glimps(data)"
   ]
  },
  {
   "cell_type": "code",
   "execution_count": 7,
   "metadata": {},
   "outputs": [
    {
     "ename": "ERROR",
     "evalue": "Error in glimps(data): 함수 \"glimps\"를 찾을 수 없습니다\n",
     "output_type": "error",
     "traceback": [
      "Error in glimps(data): 함수 \"glimps\"를 찾을 수 없습니다\nTraceback:\n"
     ]
    }
   ],
   "source": [
    "glimps(data)"
   ]
  },
  {
   "cell_type": "code",
   "execution_count": null,
   "metadata": {},
   "outputs": [],
   "source": [
    "###KoNLP 한글 형태소 분석해주는 툴\n",
    "### 의미어별 뜻풀이의 형태소 분석\n",
    "### pos KoNLP, RcppMeCab\n",
    "### 각 형태소들을 노드로 하는 그래프를 그린다.\n",
    "### '인간'에서 파생되는 노드들을 만들고 그래프로 그린다.\n",
    "### 을,는,이,가 같은 것들을 가져오지 않게\n",
    "### 용언의 원래 형태를 가져오도록\n",
    "\n",
    "### 토크나이징 -> 불필요한 것들을 걸러내는 작업"
   ]
  },
  {
   "cell_type": "code",
   "execution_count": 1,
   "metadata": {},
   "outputs": [
    {
     "name": "stderr",
     "output_type": "stream",
     "text": [
      "Loading required namespace: KoNLP\n",
      "also installing the dependencies 'zeallot', 'ini', 'bit', 'vctrs', 'clisymbols', 'fs', 'gh', 'rprojroot', 'rex', 'crosstalk', 'xopen', 'brew', 'commonmark', 'purrr', 'praise', 'rlang', 'bit64', 'blob', 'DBI', 'memoise', 'usethis', 'covr', 'desc', 'DT', 'ellipsis', 'git2r', 'pkgbuild', 'pkgload', 'rcmdcheck', 'remotes', 'roxygen2', 'rversions', 'sessioninfo', 'testthat', 'hash', 'tau', 'Sejong', 'RSQLite', 'devtools'\n",
      "\n"
     ]
    },
    {
     "name": "stdout",
     "output_type": "stream",
     "text": [
      "\n",
      "  There is a binary version available but the source version is later:\n",
      "    binary source needs_compilation\n",
      "bit 1.1-14 1.1-15              TRUE\n",
      "\n",
      "  Binaries will be installed\n",
      "package 'zeallot' successfully unpacked and MD5 sums checked\n",
      "package 'ini' successfully unpacked and MD5 sums checked\n",
      "package 'bit' successfully unpacked and MD5 sums checked\n",
      "package 'vctrs' successfully unpacked and MD5 sums checked\n",
      "package 'clisymbols' successfully unpacked and MD5 sums checked\n",
      "package 'fs' successfully unpacked and MD5 sums checked\n",
      "package 'gh' successfully unpacked and MD5 sums checked\n",
      "package 'rprojroot' successfully unpacked and MD5 sums checked\n",
      "package 'rex' successfully unpacked and MD5 sums checked\n",
      "package 'crosstalk' successfully unpacked and MD5 sums checked\n",
      "package 'xopen' successfully unpacked and MD5 sums checked\n",
      "package 'brew' successfully unpacked and MD5 sums checked\n",
      "package 'commonmark' successfully unpacked and MD5 sums checked\n",
      "package 'purrr' successfully unpacked and MD5 sums checked\n",
      "package 'praise' successfully unpacked and MD5 sums checked\n",
      "package 'rlang' successfully unpacked and MD5 sums checked\n",
      "package 'bit64' successfully unpacked and MD5 sums checked\n",
      "package 'blob' successfully unpacked and MD5 sums checked\n",
      "package 'DBI' successfully unpacked and MD5 sums checked\n",
      "package 'memoise' successfully unpacked and MD5 sums checked\n",
      "package 'usethis' successfully unpacked and MD5 sums checked\n",
      "package 'covr' successfully unpacked and MD5 sums checked\n",
      "package 'desc' successfully unpacked and MD5 sums checked\n",
      "package 'DT' successfully unpacked and MD5 sums checked\n",
      "package 'ellipsis' successfully unpacked and MD5 sums checked\n",
      "package 'git2r' successfully unpacked and MD5 sums checked\n",
      "package 'pkgbuild' successfully unpacked and MD5 sums checked\n",
      "package 'pkgload' successfully unpacked and MD5 sums checked\n",
      "package 'rcmdcheck' successfully unpacked and MD5 sums checked\n",
      "package 'remotes' successfully unpacked and MD5 sums checked\n",
      "package 'roxygen2' successfully unpacked and MD5 sums checked\n",
      "package 'rversions' successfully unpacked and MD5 sums checked\n",
      "package 'sessioninfo' successfully unpacked and MD5 sums checked\n",
      "package 'testthat' successfully unpacked and MD5 sums checked\n",
      "package 'hash' successfully unpacked and MD5 sums checked\n",
      "package 'tau' successfully unpacked and MD5 sums checked\n",
      "package 'Sejong' successfully unpacked and MD5 sums checked\n",
      "package 'RSQLite' successfully unpacked and MD5 sums checked\n",
      "package 'devtools' successfully unpacked and MD5 sums checked\n",
      "package 'KoNLP' successfully unpacked and MD5 sums checked\n",
      "\n",
      "The downloaded binary packages are in\n",
      "\tC:\\Users\\82102\\AppData\\Local\\Temp\\Rtmpe68H3X\\downloaded_packages\n"
     ]
    },
    {
     "name": "stderr",
     "output_type": "stream",
     "text": [
      "Warning message:\n",
      "\"package 'KoNLP' was built under R version 3.6.2\"Building dictionary structures.\n",
      "\n"
     ]
    },
    {
     "data": {
      "text/html": [
       "<ol class=list-inline>\n",
       "\t<li>'한글'</li>\n",
       "\t<li>'테스트'</li>\n",
       "</ol>\n"
      ],
      "text/latex": [
       "\\begin{enumerate*}\n",
       "\\item '한글'\n",
       "\\item '테스트'\n",
       "\\end{enumerate*}\n"
      ],
      "text/markdown": [
       "1. '한글'\n",
       "2. '테스트'\n",
       "\n",
       "\n"
      ],
      "text/plain": [
       "[1] \"한글\"   \"테스트\""
      ]
     },
     "metadata": {},
     "output_type": "display_data"
    }
   ],
   "source": [
    "### KoNLP 설치\n",
    "if(!requireNamespace(\"KoNLP\")){\n",
    "    install.packages(\"KoNLP\",repos=\"https://cloud.r-project.org\")\n",
    "}\n",
    "library(KoNLP)\n",
    "test <- \"한글 테스트 입니다.\"\n",
    "extractNoun(test)\n",
    "### 테스트 분석"
   ]
  },
  {
   "cell_type": "code",
   "execution_count": 2,
   "metadata": {},
   "outputs": [
    {
     "name": "stderr",
     "output_type": "stream",
     "text": [
      "Loading required namespace: RcppMeCab\n",
      "also installing the dependency 'RcppParallel'\n",
      "\n"
     ]
    },
    {
     "name": "stdout",
     "output_type": "stream",
     "text": [
      "package 'RcppParallel' successfully unpacked and MD5 sums checked\n",
      "package 'RcppMeCab' successfully unpacked and MD5 sums checked\n",
      "\n",
      "The downloaded binary packages are in\n",
      "\tC:\\Users\\82102\\AppData\\Local\\Temp\\Rtmpe68H3X\\downloaded_packages\n"
     ]
    },
    {
     "name": "stderr",
     "output_type": "stream",
     "text": [
      "Loading required namespace: RmecabKo\n"
     ]
    },
    {
     "name": "stdout",
     "output_type": "stream",
     "text": [
      "package 'RmecabKo' successfully unpacked and MD5 sums checked\n",
      "\n",
      "The downloaded binary packages are in\n",
      "\tC:\\Users\\82102\\AppData\\Local\\Temp\\Rtmpe68H3X\\downloaded_packages\n",
      "Install mecab-ko-msvc...Install mecab-ko-dic-msvc..."
     ]
    },
    {
     "name": "stderr",
     "output_type": "stream",
     "text": [
      "Warning message:\n",
      "\"package 'RcppMeCab' was built under R version 3.6.2\"ERROR while rich displaying an object: Error in nchar(x): invalid multibyte string, element 1\n",
      "\n",
      "Traceback:\n",
      "1. FUN(X[[i]], ...)\n",
      "2. tryCatch(withCallingHandlers({\n",
      " .     if (!mime %in% names(repr::mime2repr)) \n",
      " .         stop(\"No repr_* for mimetype \", mime, \" in repr::mime2repr\")\n",
      " .     rpr <- repr::mime2repr[[mime]](obj)\n",
      " .     if (is.null(rpr)) \n",
      " .         return(NULL)\n",
      " .     prepare_content(is.raw(rpr), rpr)\n",
      " . }, error = error_handler), error = outer_handler)\n",
      "3. tryCatchList(expr, classes, parentenv, handlers)\n",
      "4. tryCatchOne(expr, names, parentenv, handlers[[1L]])\n",
      "5. doTryCatch(return(expr), name, parentenv, handler)\n",
      "6. withCallingHandlers({\n",
      " .     if (!mime %in% names(repr::mime2repr)) \n",
      " .         stop(\"No repr_* for mimetype \", mime, \" in repr::mime2repr\")\n",
      " .     rpr <- repr::mime2repr[[mime]](obj)\n",
      " .     if (is.null(rpr)) \n",
      " .         return(NULL)\n",
      " .     prepare_content(is.raw(rpr), rpr)\n",
      " . }, error = error_handler)\n",
      "7. repr::mime2repr[[mime]](obj)\n",
      "8. repr_html.list(obj)\n",
      "9. repr_list_generic(obj, \"html\", \"\\t<li>%s</li>\\n\", \"\\t<dt>$%s</dt>\\n\\t\\t<dd>%s</dd>\\n\", \n",
      " .     \"<strong>$%s</strong> = %s\", \"<ol>\\n%s</ol>\\n\", \"<dl>\\n%s</dl>\\n\", \n",
      " .     numeric_item = \"\\t<dt>[[%s]]</dt>\\n\\t\\t<dd>%s</dd>\\n\", escape_fun = html_escape)\n",
      "10. sapply(nms, as_name_or_na, USE.NAMES = FALSE)\n",
      "11. lapply(X = X, FUN = FUN, ...)\n",
      "12. FUN(X[[i]], ...)\n",
      "ERROR while rich displaying an object: Error in nchar(x): invalid multibyte string, element 1\n",
      "\n",
      "Traceback:\n",
      "1. FUN(X[[i]], ...)\n",
      "2. tryCatch(withCallingHandlers({\n",
      " .     if (!mime %in% names(repr::mime2repr)) \n",
      " .         stop(\"No repr_* for mimetype \", mime, \" in repr::mime2repr\")\n",
      " .     rpr <- repr::mime2repr[[mime]](obj)\n",
      " .     if (is.null(rpr)) \n",
      " .         return(NULL)\n",
      " .     prepare_content(is.raw(rpr), rpr)\n",
      " . }, error = error_handler), error = outer_handler)\n",
      "3. tryCatchList(expr, classes, parentenv, handlers)\n",
      "4. tryCatchOne(expr, names, parentenv, handlers[[1L]])\n",
      "5. doTryCatch(return(expr), name, parentenv, handler)\n",
      "6. withCallingHandlers({\n",
      " .     if (!mime %in% names(repr::mime2repr)) \n",
      " .         stop(\"No repr_* for mimetype \", mime, \" in repr::mime2repr\")\n",
      " .     rpr <- repr::mime2repr[[mime]](obj)\n",
      " .     if (is.null(rpr)) \n",
      " .         return(NULL)\n",
      " .     prepare_content(is.raw(rpr), rpr)\n",
      " . }, error = error_handler)\n",
      "7. repr::mime2repr[[mime]](obj)\n",
      "8. repr_markdown.list(obj)\n",
      "9. repr_list_generic(obj, \"markdown\", \"%s. %s\\n\", \"$%s\\n:   %s\\n\", \n",
      " .     \"**$%s** = %s\", \"%s\\n\\n\", numeric_item = \"[[%s]]\\n:   %s\\n\", \n",
      " .     item_uses_numbers = TRUE, escape_fun = html_escape)\n",
      "10. sapply(nms, as_name_or_na, USE.NAMES = FALSE)\n",
      "11. lapply(X = X, FUN = FUN, ...)\n",
      "12. FUN(X[[i]], ...)\n",
      "ERROR while rich displaying an object: Error in nchar(x): invalid multibyte string, element 1\n",
      "\n",
      "Traceback:\n",
      "1. FUN(X[[i]], ...)\n",
      "2. tryCatch(withCallingHandlers({\n",
      " .     if (!mime %in% names(repr::mime2repr)) \n",
      " .         stop(\"No repr_* for mimetype \", mime, \" in repr::mime2repr\")\n",
      " .     rpr <- repr::mime2repr[[mime]](obj)\n",
      " .     if (is.null(rpr)) \n",
      " .         return(NULL)\n",
      " .     prepare_content(is.raw(rpr), rpr)\n",
      " . }, error = error_handler), error = outer_handler)\n",
      "3. tryCatchList(expr, classes, parentenv, handlers)\n",
      "4. tryCatchOne(expr, names, parentenv, handlers[[1L]])\n",
      "5. doTryCatch(return(expr), name, parentenv, handler)\n",
      "6. withCallingHandlers({\n",
      " .     if (!mime %in% names(repr::mime2repr)) \n",
      " .         stop(\"No repr_* for mimetype \", mime, \" in repr::mime2repr\")\n",
      " .     rpr <- repr::mime2repr[[mime]](obj)\n",
      " .     if (is.null(rpr)) \n",
      " .         return(NULL)\n",
      " .     prepare_content(is.raw(rpr), rpr)\n",
      " . }, error = error_handler)\n",
      "7. repr::mime2repr[[mime]](obj)\n",
      "8. repr_latex.list(obj)\n",
      "9. repr_list_generic(obj, \"latex\", \"\\\\item %s\\n\", \"\\\\item[\\\\$%s] %s\\n\", \n",
      " .     \"\\\\textbf{\\\\$%s} = %s\", enum_wrap = \"\\\\begin{enumerate}\\n%s\\\\end{enumerate}\\n\", \n",
      " .     named_wrap = \"\\\\begin{description}\\n%s\\\\end{description}\\n\", \n",
      " .     numeric_item = \"\\\\item[{[[%s]]}] %s\\n\", escape_fun = latex_escape)\n",
      "10. sapply(nms, as_name_or_na, USE.NAMES = FALSE)\n",
      "11. lapply(X = X, FUN = FUN, ...)\n",
      "12. FUN(X[[i]], ...)\n"
     ]
    },
    {
     "data": {
      "text/plain": [
       "$`<c7><U+0471><db> <c5><U+05FD><U+00BA><U+01AE><c0><U+0534><U+03F4><d9>.`\n",
       "[1] \"<c7><d1>/SL\" \"<U+00B1><db> /SY\" \"<c5><d7>/SL\" \"<U+00BD><U+00BA>/SY\" \"<U+01AE>/SL\"\n",
       "[6] \"<c0><U+0534>/SY\" \"<U+03F4>/SL\" \"<d9>./SY\"   \n"
      ]
     },
     "metadata": {},
     "output_type": "display_data"
    }
   ],
   "source": [
    "### RcppMeCab 설치 : KoNLP보다 빠른 형태소 분석기\n",
    "if(!requireNamespace(\"RcppMeCab\")){\n",
    "    install.packages(\"RcppMeCab\",repos=\"https://cloud.r-project.org\")\n",
    "}\n",
    "if(!requireNamespace(\"RmecabKo\")){\n",
    "    install.packages(\"RmecabKo\",repos=\"https://cloud.r-project.org\")\n",
    "}\n",
    "\n",
    "RmecabKo::install_mecab(\"c:/mecab\")\n",
    "library(RcppMeCab)\n",
    "test <- \"한글 테스트입니다.\"\n",
    "pos(test)"
   ]
  },
  {
   "cell_type": "code",
   "execution_count": 1,
   "metadata": {},
   "outputs": [
    {
     "name": "stderr",
     "output_type": "stream",
     "text": [
      "Loading required namespace: remotes\n",
      "Loading required namespace: tidytext\n"
     ]
    },
    {
     "name": "stdout",
     "output_type": "stream",
     "text": [
      "package 'tidytext' successfully unpacked and MD5 sums checked\n",
      "\n",
      "The downloaded binary packages are in\n",
      "\tC:\\Users\\82102\\AppData\\Local\\Temp\\RtmpgLkDJv\\downloaded_packages\n"
     ]
    },
    {
     "name": "stderr",
     "output_type": "stream",
     "text": [
      "Loading required namespace: presidentSpeech\n",
      "Downloading GitHub repo forkonlp/presidentSpeech@master\n"
     ]
    },
    {
     "name": "stdout",
     "output_type": "stream",
     "text": [
      "tibble    (NA     -> 2.1.3 ) [CRAN]\n",
      "Rcpp      (1.0.1  -> 1.0.3 ) [CRAN]\n",
      "httr      (1.4.0  -> 1.4.1 ) [CRAN]\n",
      "selectr   (0.4-1  -> 0.4-2 ) [CRAN]\n",
      "cli       (1.1.0  -> 2.0.1 ) [CRAN]\n",
      "fansi     (0.4.0  -> 0.4.1 ) [CRAN]\n",
      "pillar    (1.3.1  -> 1.4.3 ) [CRAN]\n",
      "pkgconfig (2.0.2  -> 2.0.3 ) [CRAN]\n",
      "curl      (3.3    -> 4.3   ) [CRAN]\n",
      "mime      (0.6    -> 0.8   ) [CRAN]\n",
      "openssl   (1.3    -> 1.4.1 ) [CRAN]\n",
      "R6        (2.4.0  -> 2.4.1 ) [CRAN]\n",
      "askpass   (1.0    -> 1.1   ) [CRAN]\n",
      "sys       (3.2    -> 3.3   ) [CRAN]\n",
      "stringi   (1.4.3  -> 1.4.5 ) [CRAN]\n",
      "backports (1.1.4  -> 1.1.5 ) [CRAN]\n",
      "digest    (0.6.18 -> 0.6.23) [CRAN]\n"
     ]
    },
    {
     "name": "stderr",
     "output_type": "stream",
     "text": [
      "Installing 17 packages: tibble, Rcpp, httr, selectr, cli, fansi, pillar, pkgconfig, curl, mime, openssl, R6, askpass, sys, stringi, backports, digest\n"
     ]
    },
    {
     "name": "stdout",
     "output_type": "stream",
     "text": [
      "\n",
      "  There is a binary version available but the source version is later:\n",
      "        binary source needs_compilation\n",
      "stringi  1.4.4  1.4.5              TRUE\n",
      "\n",
      "  Binaries will be installed\n",
      "package 'tibble' successfully unpacked and MD5 sums checked\n",
      "package 'Rcpp' successfully unpacked and MD5 sums checked\n"
     ]
    },
    {
     "ename": "ERROR",
     "evalue": "Error: Failed to install 'presidentSpeech' from GitHub:\n  (converted from warning) cannot remove prior installation of package 'Rcpp'\n",
     "output_type": "error",
     "traceback": [
      "Error: Failed to install 'presidentSpeech' from GitHub:\n  (converted from warning) cannot remove prior installation of package 'Rcpp'\nTraceback:\n",
      "1. remotes::install_github(\"forkonlp/presidentSpeech\")   # at line 11 of file <text>",
      "2. install_remotes(remotes, auth_token = auth_token, host = host, \n .     dependencies = dependencies, upgrade = upgrade, force = force, \n .     quiet = quiet, build = build, build_opts = build_opts, build_manual = build_manual, \n .     build_vignettes = build_vignettes, repos = repos, type = type, \n .     ...)",
      "3. tryCatch(res[[i]] <- install_remote(remotes[[i]], ...), error = function(e) {\n .     stop(remote_install_error(remotes[[i]], e))\n . })",
      "4. tryCatchList(expr, classes, parentenv, handlers)",
      "5. tryCatchOne(expr, names, parentenv, handlers[[1L]])",
      "6. value[[3L]](cond)"
     ]
    }
   ],
   "source": [
    "### 패키지 인스톨을 위한 함수 제공하는 패키지\n",
    "if(!requireNamespace(\"remotes\")){\n",
    "    install.packages(\"remotes\",repos=\"https://cloud.r-project.org\")\n",
    "}\n",
    "### 텍스트를 tidy하게 다룰 수 있게 해주는 패키지\n",
    "if(!requireNamespace(\"tidytext\")){\n",
    "    install.packages(\"tidytext\",repos=\"https://cloud.r-project.org\")\n",
    "}\n",
    "### 역대 대통령 연설문 텍스트 사용하는 패키지\n",
    "if(!requireNamespace(\"presidentSpeech\")){\n",
    "    remotes::install_github(\"forkonlp/presidentSpeech\")\n",
    "}\n",
    "library(tidytext)\n",
    "library(presidentSpeech)"
   ]
  },
  {
   "cell_type": "code",
   "execution_count": 2,
   "metadata": {},
   "outputs": [
    {
     "name": "stdout",
     "output_type": "stream",
     "text": [
      "package 'remotes' successfully unpacked and MD5 sums checked\n",
      "\n",
      "The downloaded binary packages are in\n",
      "\tC:\\Users\\82102\\AppData\\Local\\Temp\\Rtmpm602IW\\downloaded_packages\n"
     ]
    }
   ],
   "source": [
    "install.packages('remotes')"
   ]
  },
  {
   "cell_type": "code",
   "execution_count": 3,
   "metadata": {},
   "outputs": [
    {
     "name": "stderr",
     "output_type": "stream",
     "text": [
      "also installing the dependencies 'zeallot', 'ini', 'bit', 'vctrs', 'clisymbols', 'fs', 'gh', 'rprojroot', 'rex', 'crosstalk', 'xopen', 'brew', 'commonmark', 'purrr', 'praise', 'rlang', 'bit64', 'blob', 'DBI', 'memoise', 'usethis', 'covr', 'desc', 'DT', 'ellipsis', 'git2r', 'pkgbuild', 'pkgload', 'rcmdcheck', 'roxygen2', 'rversions', 'sessioninfo', 'testthat', 'rJava', 'hash', 'tau', 'Sejong', 'RSQLite', 'devtools'\n",
      "\n"
     ]
    },
    {
     "name": "stdout",
     "output_type": "stream",
     "text": [
      "\n",
      "  There is a binary version available but the source version is later:\n",
      "    binary source needs_compilation\n",
      "bit 1.1-14 1.1-15              TRUE\n",
      "\n",
      "  Binaries will be installed\n",
      "package 'zeallot' successfully unpacked and MD5 sums checked\n",
      "package 'ini' successfully unpacked and MD5 sums checked\n",
      "package 'bit' successfully unpacked and MD5 sums checked\n",
      "package 'vctrs' successfully unpacked and MD5 sums checked\n",
      "package 'clisymbols' successfully unpacked and MD5 sums checked\n",
      "package 'fs' successfully unpacked and MD5 sums checked\n",
      "package 'gh' successfully unpacked and MD5 sums checked\n",
      "package 'rprojroot' successfully unpacked and MD5 sums checked\n",
      "package 'rex' successfully unpacked and MD5 sums checked\n",
      "package 'crosstalk' successfully unpacked and MD5 sums checked\n",
      "package 'xopen' successfully unpacked and MD5 sums checked\n",
      "package 'brew' successfully unpacked and MD5 sums checked\n",
      "package 'commonmark' successfully unpacked and MD5 sums checked\n",
      "package 'purrr' successfully unpacked and MD5 sums checked\n",
      "package 'praise' successfully unpacked and MD5 sums checked\n",
      "package 'rlang' successfully unpacked and MD5 sums checked\n",
      "package 'bit64' successfully unpacked and MD5 sums checked\n",
      "package 'blob' successfully unpacked and MD5 sums checked\n",
      "package 'DBI' successfully unpacked and MD5 sums checked\n",
      "package 'memoise' successfully unpacked and MD5 sums checked\n",
      "package 'usethis' successfully unpacked and MD5 sums checked\n",
      "package 'covr' successfully unpacked and MD5 sums checked\n",
      "package 'desc' successfully unpacked and MD5 sums checked\n",
      "package 'DT' successfully unpacked and MD5 sums checked\n",
      "package 'ellipsis' successfully unpacked and MD5 sums checked\n",
      "package 'git2r' successfully unpacked and MD5 sums checked\n",
      "package 'pkgbuild' successfully unpacked and MD5 sums checked\n",
      "package 'pkgload' successfully unpacked and MD5 sums checked\n",
      "package 'rcmdcheck' successfully unpacked and MD5 sums checked\n",
      "package 'roxygen2' successfully unpacked and MD5 sums checked\n",
      "package 'rversions' successfully unpacked and MD5 sums checked\n",
      "package 'sessioninfo' successfully unpacked and MD5 sums checked\n",
      "package 'testthat' successfully unpacked and MD5 sums checked\n",
      "package 'rJava' successfully unpacked and MD5 sums checked\n",
      "package 'hash' successfully unpacked and MD5 sums checked\n",
      "package 'tau' successfully unpacked and MD5 sums checked\n",
      "package 'Sejong' successfully unpacked and MD5 sums checked\n",
      "package 'RSQLite' successfully unpacked and MD5 sums checked\n",
      "package 'devtools' successfully unpacked and MD5 sums checked\n",
      "package 'KoNLP' successfully unpacked and MD5 sums checked\n",
      "\n",
      "The downloaded binary packages are in\n",
      "\tC:\\Users\\82102\\AppData\\Local\\Temp\\Rtmpm602IW\\downloaded_packages\n"
     ]
    },
    {
     "name": "stderr",
     "output_type": "stream",
     "text": [
      "also installing the dependency 'RcppParallel'\n",
      "\n"
     ]
    },
    {
     "name": "stdout",
     "output_type": "stream",
     "text": [
      "package 'RcppParallel' successfully unpacked and MD5 sums checked\n",
      "package 'RcppMeCab' successfully unpacked and MD5 sums checked\n",
      "\n",
      "The downloaded binary packages are in\n",
      "\tC:\\Users\\82102\\AppData\\Local\\Temp\\Rtmpm602IW\\downloaded_packages\n",
      "package 'RmecabKo' successfully unpacked and MD5 sums checked\n",
      "\n",
      "The downloaded binary packages are in\n",
      "\tC:\\Users\\82102\\AppData\\Local\\Temp\\Rtmpm602IW\\downloaded_packages\n"
     ]
    },
    {
     "name": "stderr",
     "output_type": "stream",
     "text": [
      "also installing the dependencies 'SnowballC', 'ISOcodes', 'hunspell', 'tokenizers', 'janeaustenr', 'stopwords'\n",
      "\n"
     ]
    },
    {
     "name": "stdout",
     "output_type": "stream",
     "text": [
      "package 'SnowballC' successfully unpacked and MD5 sums checked\n",
      "package 'ISOcodes' successfully unpacked and MD5 sums checked\n",
      "package 'hunspell' successfully unpacked and MD5 sums checked\n",
      "package 'tokenizers' successfully unpacked and MD5 sums checked\n",
      "package 'janeaustenr' successfully unpacked and MD5 sums checked\n",
      "package 'stopwords' successfully unpacked and MD5 sums checked\n",
      "package 'tidytext' successfully unpacked and MD5 sums checked\n",
      "\n",
      "The downloaded binary packages are in\n",
      "\tC:\\Users\\82102\\AppData\\Local\\Temp\\Rtmpm602IW\\downloaded_packages\n"
     ]
    },
    {
     "name": "stderr",
     "output_type": "stream",
     "text": [
      "Downloading GitHub repo forkonlp/presidentSpeech@master\n"
     ]
    },
    {
     "name": "stdout",
     "output_type": "stream",
     "text": [
      "xml2      (1.2.0  -> 1.2.2 ) [CRAN]\n",
      "rvest     (0.3.3  -> 0.3.5 ) [CRAN]\n",
      "tibble    (2.1.1  -> 2.1.3 ) [CRAN]\n",
      "Rcpp      (1.0.1  -> 1.0.3 ) [CRAN]\n",
      "httr      (1.4.0  -> 1.4.1 ) [CRAN]\n",
      "selectr   (0.4-1  -> 0.4-2 ) [CRAN]\n",
      "cli       (1.1.0  -> 2.0.1 ) [CRAN]\n",
      "fansi     (0.4.0  -> 0.4.1 ) [CRAN]\n",
      "pillar    (1.3.1  -> 1.4.3 ) [CRAN]\n",
      "pkgconfig (2.0.2  -> 2.0.3 ) [CRAN]\n",
      "curl      (3.3    -> 4.3   ) [CRAN]\n",
      "mime      (0.6    -> 0.8   ) [CRAN]\n",
      "openssl   (1.3    -> 1.4.1 ) [CRAN]\n",
      "R6        (2.4.0  -> 2.4.1 ) [CRAN]\n",
      "askpass   (1.0    -> 1.1   ) [CRAN]\n",
      "sys       (3.2    -> 3.3   ) [CRAN]\n",
      "stringi   (1.4.3  -> 1.4.5 ) [CRAN]\n",
      "backports (1.1.4  -> 1.1.5 ) [CRAN]\n",
      "digest    (0.6.18 -> 0.6.23) [CRAN]\n"
     ]
    },
    {
     "name": "stderr",
     "output_type": "stream",
     "text": [
      "Installing 19 packages: xml2, rvest, tibble, Rcpp, httr, selectr, cli, fansi, pillar, pkgconfig, curl, mime, openssl, R6, askpass, sys, stringi, backports, digest\n"
     ]
    },
    {
     "name": "stdout",
     "output_type": "stream",
     "text": [
      "\n",
      "  There is a binary version available but the source version is later:\n",
      "        binary source needs_compilation\n",
      "stringi  1.4.4  1.4.5              TRUE\n",
      "\n",
      "  Binaries will be installed\n",
      "package 'xml2' successfully unpacked and MD5 sums checked\n",
      "package 'rvest' successfully unpacked and MD5 sums checked\n",
      "package 'tibble' successfully unpacked and MD5 sums checked\n",
      "package 'Rcpp' successfully unpacked and MD5 sums checked\n"
     ]
    },
    {
     "ename": "ERROR",
     "evalue": "Error: Failed to install 'presidentSpeech' from GitHub:\n  (converted from warning) cannot remove prior installation of package 'Rcpp'\n",
     "output_type": "error",
     "traceback": [
      "Error: Failed to install 'presidentSpeech' from GitHub:\n  (converted from warning) cannot remove prior installation of package 'Rcpp'\nTraceback:\n",
      "1. remotes::install_github(\"forkonlp/presidentSpeech\")",
      "2. install_remotes(remotes, auth_token = auth_token, host = host, \n .     dependencies = dependencies, upgrade = upgrade, force = force, \n .     quiet = quiet, build = build, build_opts = build_opts, build_manual = build_manual, \n .     build_vignettes = build_vignettes, repos = repos, type = type, \n .     ...)",
      "3. tryCatch(res[[i]] <- install_remote(remotes[[i]], ...), error = function(e) {\n .     stop(remote_install_error(remotes[[i]], e))\n . })",
      "4. tryCatchList(expr, classes, parentenv, handlers)",
      "5. tryCatchOne(expr, names, parentenv, handlers[[1L]])",
      "6. value[[3L]](cond)"
     ]
    }
   ],
   "source": [
    "install.packages(\"KoNLP\", repos = \"https://cloud.r-project.org\")\n",
    "install.packages(\"RcppMeCab\", repos = \"https://cloud.r-project.org\")\n",
    "install.packages(\"RmecabKo\", repos = \"https://cloud.r-project.org\")\n",
    "install.packages(\"tidytext\", repos = \"https://cloud.r-project.org\")\n",
    "remotes::install_github(\"forkonlp/presidentSpeech\")"
   ]
  },
  {
   "cell_type": "code",
   "execution_count": 1,
   "metadata": {},
   "outputs": [
    {
     "name": "stderr",
     "output_type": "stream",
     "text": [
      "Warning message in scan(file = file, what = what, sep = sep, quote = quote, dec = dec, :\n",
      "\"입력 커넥션 '../DICT001.csv'에서 유효하지 않은 입력을 찾았습니다\"Warning message in scan(file = file, what = what, sep = sep, quote = quote, dec = dec, :\n",
      "\"따옴표로 묶인 문자열내에 EOF가 있습니다\""
     ]
    }
   ],
   "source": [
    "data <- read.csv(\"../DICT001.csv\",sep=\",\",header=TRUE,stringsAsFactors=FALSE,fileEncoding=\"UTF-8\")"
   ]
  },
  {
   "cell_type": "code",
   "execution_count": 2,
   "metadata": {},
   "outputs": [
    {
     "data": {
      "text/html": [
       "<table>\n",
       "<thead><tr><th scope=col>word_id</th><th scope=col>의미어</th><th scope=col>표제어</th><th scope=col>의미번호</th><th scope=col>뜻풀이</th><th scope=col>품사</th><th scope=col>난이도</th></tr></thead>\n",
       "<tbody>\n",
       "\t<tr><td>1                                                                                                                                                                                                                                                                                                                                  </td><td>ㄱ001                                                                                                                                                                                                                                                                                                                              </td><td>ㄱ                                                                                                                                                                                                                                                                                                                                 </td><td>1                                                                                                                                                                                                                                                                                                                                  </td><td>한글 자모의 첫째 글자. 기역이라 이르며, ‘가’에서와 같이 초성으로, ‘역’에서와 같이 종성으로 쓰인다. 목젖으로 콧길을 막고 혀뿌리를 높여 연구개를 막았다가 뗄 때 나는 무성음이다. 초성일 때는 무성이나 모음 사이에서는 유성음이 되며, 종성일 때는 혀뿌리를 떼지 않고 발음한다. 혀뿌리가 목구멍을 막는 모양을 본떠서 만든 글자이다.</td><td>명사                                                                                                                                                                                                                                                                                                                               </td><td>상                                                                                                                                                                                                                                                                                                                                 </td></tr>\n",
       "\t<tr><td>2                                                                                                                                                                                                                                                                                                                                  </td><td>ㄱㄴㄷ순001                                                                                                                                                                                                                                                                                                                        </td><td>ㄱㄴㄷ-순                                                                                                                                                                                                                                                                                                                          </td><td>1                                                                                                                                                                                                                                                                                                                                  </td><td>한글의 ‘ㄱ, ㄴ, ㄷ……’ 차례로 매기는 순서.                                                                                                                                                                                                                                                                                      </td><td>명사                                                                                                                                                                                                                                                                                                                               </td><td>상                                                                                                                                                                                                                                                                                                                                 </td></tr>\n",
       "\t<tr><td>3                                                                                                                                                                                                                                                                                                                                  </td><td>ㄱㄴㄷ차례001                                                                                                                                                                                                                                                                                                                      </td><td>ㄱㄴㄷ-차례                                                                                                                                                                                                                                                                                                                        </td><td>1                                                                                                                                                                                                                                                                                                                                  </td><td>한글의 ‘ㄱ, ㄴ, ㄷ……’ 차례로 매기는 순서.                                                                                                                                                                                                                                                                                      </td><td>명사                                                                                                                                                                                                                                                                                                                               </td><td>상                                                                                                                                                                                                                                                                                                                                 </td></tr>\n",
       "\t<tr><td>4                                                                                                                                                                                                                                                                                                                                  </td><td>ㄱㄴ순001                                                                                                                                                                                                                                                                                                                          </td><td>ㄱㄴ-순                                                                                                                                                                                                                                                                                                                            </td><td>1                                                                                                                                                                                                                                                                                                                                  </td><td>한글의 ‘ㄱ, ㄴ, ㄷ……’ 차례로 매기는 순서.                                                                                                                                                                                                                                                                                      </td><td>명사                                                                                                                                                                                                                                                                                                                               </td><td>상                                                                                                                                                                                                                                                                                                                                 </td></tr>\n",
       "\t<tr><td>5                                                                                                                                                                                                                                                                                                                                  </td><td>ㄱㄴ차례001                                                                                                                                                                                                                                                                                                                        </td><td>ㄱㄴ-차례                                                                                                                                                                                                                                                                                                                          </td><td>1                                                                                                                                                                                                                                                                                                                                  </td><td>한글의 ‘ㄱ, ㄴ, ㄷ……’ 차례로 매기는 순서.                                                                                                                                                                                                                                                                                      </td><td>명사                                                                                                                                                                                                                                                                                                                               </td><td>상                                                                                                                                                                                                                                                                                                                                 </td></tr>\n",
       "\t<tr><td>6                                                                                                                                                                                                                                                                                                                                  </td><td>ㄱ자턱솔이음001                                                                                                                                                                                                                                                                                                                    </td><td>ㄱ자^턱솔이음                                                                                                                                                                                                                                                                                                                      </td><td>1                                                                                                                                                                                                                                                                                                                                  </td><td>나무나 돌을 ‘ㄱ’ 자 모양으로 턱이 지게 하여 만든 이음.                                                                                                                                                                                                                                                                           </td><td>품사 없음                                                                                                                                                                                                                                                                                                                          </td><td>상                                                                                                                                                                                                                                                                                                                                 </td></tr>\n",
       "</tbody>\n",
       "</table>\n"
      ],
      "text/latex": [
       "\\begin{tabular}{r|lllllll}\n",
       " word\\_id & 의미어 & 표제어 & 의미번호 & 뜻풀이 & 품사 & 난이도\\\\\n",
       "\\hline\n",
       "\t 1                                                                                                                                                                                                                                                                                                                                   & ㄱ001                                                                                                                                                                                                                                                                                                                               & ㄱ                                                                                                                                                                                                                                                                                                                                  & 1                                                                                                                                                                                                                                                                                                                                   & 한글 자모의 첫째 글자. 기역이라 이르며, ‘가’에서와 같이 초성으로, ‘역’에서와 같이 종성으로 쓰인다. 목젖으로 콧길을 막고 혀뿌리를 높여 연구개를 막았다가 뗄 때 나는 무성음이다. 초성일 때는 무성이나 모음 사이에서는 유성음이 되며, 종성일 때는 혀뿌리를 떼지 않고 발음한다. 혀뿌리가 목구멍을 막는 모양을 본떠서 만든 글자이다. & 명사                                                                                                                                                                                                                                                                                                                                & 상                                                                                                                                                                                                                                                                                                                                 \\\\\n",
       "\t 2                                                                                                                                                                                                                                                                                                                                   & ㄱㄴㄷ순001                                                                                                                                                                                                                                                                                                                         & ㄱㄴㄷ-순                                                                                                                                                                                                                                                                                                                           & 1                                                                                                                                                                                                                                                                                                                                   & 한글의 ‘ㄱ, ㄴ, ㄷ……’ 차례로 매기는 순서.                                                                                                                                                                                                                                                                                       & 명사                                                                                                                                                                                                                                                                                                                                & 상                                                                                                                                                                                                                                                                                                                                 \\\\\n",
       "\t 3                                                                                                                                                                                                                                                                                                                                   & ㄱㄴㄷ차례001                                                                                                                                                                                                                                                                                                                       & ㄱㄴㄷ-차례                                                                                                                                                                                                                                                                                                                         & 1                                                                                                                                                                                                                                                                                                                                   & 한글의 ‘ㄱ, ㄴ, ㄷ……’ 차례로 매기는 순서.                                                                                                                                                                                                                                                                                       & 명사                                                                                                                                                                                                                                                                                                                                & 상                                                                                                                                                                                                                                                                                                                                 \\\\\n",
       "\t 4                                                                                                                                                                                                                                                                                                                                   & ㄱㄴ순001                                                                                                                                                                                                                                                                                                                           & ㄱㄴ-순                                                                                                                                                                                                                                                                                                                             & 1                                                                                                                                                                                                                                                                                                                                   & 한글의 ‘ㄱ, ㄴ, ㄷ……’ 차례로 매기는 순서.                                                                                                                                                                                                                                                                                       & 명사                                                                                                                                                                                                                                                                                                                                & 상                                                                                                                                                                                                                                                                                                                                 \\\\\n",
       "\t 5                                                                                                                                                                                                                                                                                                                                   & ㄱㄴ차례001                                                                                                                                                                                                                                                                                                                         & ㄱㄴ-차례                                                                                                                                                                                                                                                                                                                           & 1                                                                                                                                                                                                                                                                                                                                   & 한글의 ‘ㄱ, ㄴ, ㄷ……’ 차례로 매기는 순서.                                                                                                                                                                                                                                                                                       & 명사                                                                                                                                                                                                                                                                                                                                & 상                                                                                                                                                                                                                                                                                                                                 \\\\\n",
       "\t 6                                                                                                                                                                                                                                                                                                                                   & ㄱ자턱솔이음001                                                                                                                                                                                                                                                                                                                     & ㄱ자\\textasciicircum{}턱솔이음                                                                                                                                                                                                                                                                                                     & 1                                                                                                                                                                                                                                                                                                                                   & 나무나 돌을 ‘ㄱ’ 자 모양으로 턱이 지게 하여 만든 이음.                                                                                                                                                                                                                                                                            & 품사 없음                                                                                                                                                                                                                                                                                                                           & 상                                                                                                                                                                                                                                                                                                                                 \\\\\n",
       "\\end{tabular}\n"
      ],
      "text/markdown": [
       "\n",
       "| word_id | 의미어 | 표제어 | 의미번호 | 뜻풀이 | 품사 | 난이도 |\n",
       "|---|---|---|---|---|---|---|\n",
       "| 1                                                                                                                                                                                                                                                                                                                                   | ㄱ001                                                                                                                                                                                                                                                                                                                               | ㄱ                                                                                                                                                                                                                                                                                                                                  | 1                                                                                                                                                                                                                                                                                                                                   | 한글 자모의 첫째 글자. 기역이라 이르며, ‘가’에서와 같이 초성으로, ‘역’에서와 같이 종성으로 쓰인다. 목젖으로 콧길을 막고 혀뿌리를 높여 연구개를 막았다가 뗄 때 나는 무성음이다. 초성일 때는 무성이나 모음 사이에서는 유성음이 되며, 종성일 때는 혀뿌리를 떼지 않고 발음한다. 혀뿌리가 목구멍을 막는 모양을 본떠서 만든 글자이다. | 명사                                                                                                                                                                                                                                                                                                                                | 상                                                                                                                                                                                                                                                                                                                                  |\n",
       "| 2                                                                                                                                                                                                                                                                                                                                   | ㄱㄴㄷ순001                                                                                                                                                                                                                                                                                                                         | ㄱㄴㄷ-순                                                                                                                                                                                                                                                                                                                           | 1                                                                                                                                                                                                                                                                                                                                   | 한글의 ‘ㄱ, ㄴ, ㄷ……’ 차례로 매기는 순서.                                                                                                                                                                                                                                                                                       | 명사                                                                                                                                                                                                                                                                                                                                | 상                                                                                                                                                                                                                                                                                                                                  |\n",
       "| 3                                                                                                                                                                                                                                                                                                                                   | ㄱㄴㄷ차례001                                                                                                                                                                                                                                                                                                                       | ㄱㄴㄷ-차례                                                                                                                                                                                                                                                                                                                         | 1                                                                                                                                                                                                                                                                                                                                   | 한글의 ‘ㄱ, ㄴ, ㄷ……’ 차례로 매기는 순서.                                                                                                                                                                                                                                                                                       | 명사                                                                                                                                                                                                                                                                                                                                | 상                                                                                                                                                                                                                                                                                                                                  |\n",
       "| 4                                                                                                                                                                                                                                                                                                                                   | ㄱㄴ순001                                                                                                                                                                                                                                                                                                                           | ㄱㄴ-순                                                                                                                                                                                                                                                                                                                             | 1                                                                                                                                                                                                                                                                                                                                   | 한글의 ‘ㄱ, ㄴ, ㄷ……’ 차례로 매기는 순서.                                                                                                                                                                                                                                                                                       | 명사                                                                                                                                                                                                                                                                                                                                | 상                                                                                                                                                                                                                                                                                                                                  |\n",
       "| 5                                                                                                                                                                                                                                                                                                                                   | ㄱㄴ차례001                                                                                                                                                                                                                                                                                                                         | ㄱㄴ-차례                                                                                                                                                                                                                                                                                                                           | 1                                                                                                                                                                                                                                                                                                                                   | 한글의 ‘ㄱ, ㄴ, ㄷ……’ 차례로 매기는 순서.                                                                                                                                                                                                                                                                                       | 명사                                                                                                                                                                                                                                                                                                                                | 상                                                                                                                                                                                                                                                                                                                                  |\n",
       "| 6                                                                                                                                                                                                                                                                                                                                   | ㄱ자턱솔이음001                                                                                                                                                                                                                                                                                                                     | ㄱ자^턱솔이음                                                                                                                                                                                                                                                                                                                       | 1                                                                                                                                                                                                                                                                                                                                   | 나무나 돌을 ‘ㄱ’ 자 모양으로 턱이 지게 하여 만든 이음.                                                                                                                                                                                                                                                                            | 품사 없음                                                                                                                                                                                                                                                                                                                           | 상                                                                                                                                                                                                                                                                                                                                  |\n",
       "\n"
      ],
      "text/plain": [
       "  word_id 의미어          표제어        의미번호\n",
       "1 1       ㄱ001           ㄱ            1       \n",
       "2 2       ㄱㄴㄷ순001     ㄱㄴㄷ-순     1       \n",
       "3 3       ㄱㄴㄷ차례001   ㄱㄴㄷ-차례   1       \n",
       "4 4       ㄱㄴ순001       ㄱㄴ-순       1       \n",
       "5 5       ㄱㄴ차례001     ㄱㄴ-차례     1       \n",
       "6 6       ㄱ자턱솔이음001 ㄱ자^턱솔이음 1       \n",
       "  뜻풀이                                                                                                                                                                                                                                                                                                                             \n",
       "1 한글 자모의 첫째 글자. 기역이라 이르며, ‘가’에서와 같이 초성으로, ‘역’에서와 같이 종성으로 쓰인다. 목젖으로 콧길을 막고 혀뿌리를 높여 연구개를 막았다가 뗄 때 나는 무성음이다. 초성일 때는 무성이나 모음 사이에서는 유성음이 되며, 종성일 때는 혀뿌리를 떼지 않고 발음한다. 혀뿌리가 목구멍을 막는 모양을 본떠서 만든 글자이다.\n",
       "2 한글의 ‘ㄱ, ㄴ, ㄷ……’ 차례로 매기는 순서.                                                                                                                                                                                                                                                                                      \n",
       "3 한글의 ‘ㄱ, ㄴ, ㄷ……’ 차례로 매기는 순서.                                                                                                                                                                                                                                                                                      \n",
       "4 한글의 ‘ㄱ, ㄴ, ㄷ……’ 차례로 매기는 순서.                                                                                                                                                                                                                                                                                      \n",
       "5 한글의 ‘ㄱ, ㄴ, ㄷ……’ 차례로 매기는 순서.                                                                                                                                                                                                                                                                                      \n",
       "6 나무나 돌을 ‘ㄱ’ 자 모양으로 턱이 지게 하여 만든 이음.                                                                                                                                                                                                                                                                           \n",
       "  품사      난이도\n",
       "1 명사      상    \n",
       "2 명사      상    \n",
       "3 명사      상    \n",
       "4 명사      상    \n",
       "5 명사      상    \n",
       "6 품사 없음 상    "
      ]
     },
     "metadata": {},
     "output_type": "display_data"
    }
   ],
   "source": [
    "head(data)"
   ]
  },
  {
   "cell_type": "code",
   "execution_count": 3,
   "metadata": {},
   "outputs": [
    {
     "name": "stderr",
     "output_type": "stream",
     "text": [
      "Loading required namespace: KoNLP\n",
      "also installing the dependencies 'zeallot', 'ini', 'bit', 'vctrs', 'clisymbols', 'fs', 'gh', 'rprojroot', 'rex', 'crosstalk', 'xopen', 'brew', 'commonmark', 'purrr', 'praise', 'rlang', 'bit64', 'blob', 'DBI', 'memoise', 'usethis', 'covr', 'desc', 'DT', 'ellipsis', 'git2r', 'pkgbuild', 'pkgload', 'rcmdcheck', 'remotes', 'roxygen2', 'rversions', 'sessioninfo', 'testthat', 'rJava', 'hash', 'tau', 'Sejong', 'RSQLite', 'devtools'\n",
      "\n"
     ]
    },
    {
     "name": "stdout",
     "output_type": "stream",
     "text": [
      "\n",
      "  There is a binary version available but the source version is later:\n",
      "    binary   source needs_compilation\n",
      "bit 1.1-14 1.1-15.1              TRUE\n",
      "\n",
      "  Binaries will be installed\n",
      "package 'zeallot' successfully unpacked and MD5 sums checked\n",
      "package 'ini' successfully unpacked and MD5 sums checked\n",
      "package 'bit' successfully unpacked and MD5 sums checked\n",
      "package 'vctrs' successfully unpacked and MD5 sums checked\n",
      "package 'clisymbols' successfully unpacked and MD5 sums checked\n",
      "package 'fs' successfully unpacked and MD5 sums checked\n",
      "package 'gh' successfully unpacked and MD5 sums checked\n",
      "package 'rprojroot' successfully unpacked and MD5 sums checked\n",
      "package 'rex' successfully unpacked and MD5 sums checked\n",
      "package 'crosstalk' successfully unpacked and MD5 sums checked\n",
      "package 'xopen' successfully unpacked and MD5 sums checked\n",
      "package 'brew' successfully unpacked and MD5 sums checked\n",
      "package 'commonmark' successfully unpacked and MD5 sums checked\n",
      "package 'purrr' successfully unpacked and MD5 sums checked\n",
      "package 'praise' successfully unpacked and MD5 sums checked\n",
      "package 'rlang' successfully unpacked and MD5 sums checked\n",
      "package 'bit64' successfully unpacked and MD5 sums checked\n",
      "package 'blob' successfully unpacked and MD5 sums checked\n",
      "package 'DBI' successfully unpacked and MD5 sums checked\n",
      "package 'memoise' successfully unpacked and MD5 sums checked\n",
      "package 'usethis' successfully unpacked and MD5 sums checked\n",
      "package 'covr' successfully unpacked and MD5 sums checked\n",
      "package 'desc' successfully unpacked and MD5 sums checked\n",
      "package 'DT' successfully unpacked and MD5 sums checked\n",
      "package 'ellipsis' successfully unpacked and MD5 sums checked\n",
      "package 'git2r' successfully unpacked and MD5 sums checked\n",
      "package 'pkgbuild' successfully unpacked and MD5 sums checked\n",
      "package 'pkgload' successfully unpacked and MD5 sums checked\n",
      "package 'rcmdcheck' successfully unpacked and MD5 sums checked\n",
      "package 'remotes' successfully unpacked and MD5 sums checked\n",
      "package 'roxygen2' successfully unpacked and MD5 sums checked\n",
      "package 'rversions' successfully unpacked and MD5 sums checked\n",
      "package 'sessioninfo' successfully unpacked and MD5 sums checked\n",
      "package 'testthat' successfully unpacked and MD5 sums checked\n",
      "package 'rJava' successfully unpacked and MD5 sums checked\n",
      "package 'hash' successfully unpacked and MD5 sums checked\n",
      "package 'tau' successfully unpacked and MD5 sums checked\n",
      "package 'Sejong' successfully unpacked and MD5 sums checked\n",
      "package 'RSQLite' successfully unpacked and MD5 sums checked\n",
      "package 'devtools' successfully unpacked and MD5 sums checked\n",
      "package 'KoNLP' successfully unpacked and MD5 sums checked\n",
      "\n",
      "The downloaded binary packages are in\n",
      "\tC:\\Users\\82102\\AppData\\Local\\Temp\\RtmpYP7GkV\\downloaded_packages\n"
     ]
    },
    {
     "name": "stderr",
     "output_type": "stream",
     "text": [
      "Warning message:\n",
      "\"package 'KoNLP' was built under R version 3.6.2\"Building dictionary structures.\n",
      "\n"
     ]
    },
    {
     "data": {
      "text/html": [
       "<ol class=list-inline>\n",
       "\t<li>'한글'</li>\n",
       "\t<li>'테스트'</li>\n",
       "</ol>\n"
      ],
      "text/latex": [
       "\\begin{enumerate*}\n",
       "\\item '한글'\n",
       "\\item '테스트'\n",
       "\\end{enumerate*}\n"
      ],
      "text/markdown": [
       "1. '한글'\n",
       "2. '테스트'\n",
       "\n",
       "\n"
      ],
      "text/plain": [
       "[1] \"한글\"   \"테스트\""
      ]
     },
     "metadata": {},
     "output_type": "display_data"
    }
   ],
   "source": [
    "if (!requireNamespace(\"KoNLP\")) {\n",
    "  install.packages(\"KoNLP\", repos = \"https://cloud.r-project.org\")\n",
    "}\n",
    "#> Loading required namespace: KoNLP\n",
    "library(KoNLP)\n",
    "#> Checking user defined dictionary!\n",
    "\n",
    "test <- \"한글 테스트 입니다.\"\n",
    "# 아래 결과가 나와야 합니다.\n",
    "extractNoun(test)"
   ]
  },
  {
   "cell_type": "code",
   "execution_count": 4,
   "metadata": {},
   "outputs": [
    {
     "name": "stderr",
     "output_type": "stream",
     "text": [
      "Loading required namespace: tidytext\n",
      "also installing the dependencies 'SnowballC', 'ISOcodes', 'hunspell', 'tokenizers', 'janeaustenr', 'stopwords'\n",
      "\n"
     ]
    },
    {
     "name": "stdout",
     "output_type": "stream",
     "text": [
      "package 'SnowballC' successfully unpacked and MD5 sums checked\n",
      "package 'ISOcodes' successfully unpacked and MD5 sums checked\n",
      "package 'hunspell' successfully unpacked and MD5 sums checked\n",
      "package 'tokenizers' successfully unpacked and MD5 sums checked\n",
      "package 'janeaustenr' successfully unpacked and MD5 sums checked\n",
      "package 'stopwords' successfully unpacked and MD5 sums checked\n",
      "package 'tidytext' successfully unpacked and MD5 sums checked\n",
      "\n",
      "The downloaded binary packages are in\n",
      "\tC:\\Users\\82102\\AppData\\Local\\Temp\\RtmpYP7GkV\\downloaded_packages\n"
     ]
    },
    {
     "name": "stderr",
     "output_type": "stream",
     "text": [
      "Loading required namespace: presidentSpeech\n",
      "Downloading GitHub repo forkonlp/presidentSpeech@master\n"
     ]
    },
    {
     "name": "stdout",
     "output_type": "stream",
     "text": [
      "xml2      (1.2.0  -> 1.2.2 ) [CRAN]\n",
      "rvest     (0.3.3  -> 0.3.5 ) [CRAN]\n",
      "tibble    (2.1.1  -> 2.1.3 ) [CRAN]\n",
      "Rcpp      (1.0.1  -> 1.0.3 ) [CRAN]\n",
      "httr      (1.4.0  -> 1.4.1 ) [CRAN]\n",
      "selectr   (0.4-1  -> 0.4-2 ) [CRAN]\n",
      "cli       (1.1.0  -> 2.0.1 ) [CRAN]\n",
      "fansi     (0.4.0  -> 0.4.1 ) [CRAN]\n",
      "pillar    (1.3.1  -> 1.4.3 ) [CRAN]\n",
      "pkgconfig (2.0.2  -> 2.0.3 ) [CRAN]\n",
      "curl      (3.3    -> 4.3   ) [CRAN]\n",
      "mime      (0.6    -> 0.8   ) [CRAN]\n",
      "openssl   (1.3    -> 1.4.1 ) [CRAN]\n",
      "R6        (2.4.0  -> 2.4.1 ) [CRAN]\n",
      "askpass   (1.0    -> 1.1   ) [CRAN]\n",
      "sys       (3.2    -> 3.3   ) [CRAN]\n",
      "stringi   (1.4.3  -> 1.4.5 ) [CRAN]\n",
      "backports (1.1.4  -> 1.1.5 ) [CRAN]\n",
      "digest    (0.6.18 -> 0.6.23) [CRAN]\n"
     ]
    },
    {
     "name": "stderr",
     "output_type": "stream",
     "text": [
      "Installing 19 packages: xml2, rvest, tibble, Rcpp, httr, selectr, cli, fansi, pillar, pkgconfig, curl, mime, openssl, R6, askpass, sys, stringi, backports, digest\n"
     ]
    },
    {
     "name": "stdout",
     "output_type": "stream",
     "text": [
      "\n",
      "  There is a binary version available but the source version is later:\n",
      "        binary source needs_compilation\n",
      "stringi  1.4.4  1.4.5              TRUE\n",
      "\n",
      "  Binaries will be installed\n",
      "package 'xml2' successfully unpacked and MD5 sums checked\n",
      "package 'rvest' successfully unpacked and MD5 sums checked\n",
      "package 'tibble' successfully unpacked and MD5 sums checked\n"
     ]
    },
    {
     "ename": "ERROR",
     "evalue": "Error: Failed to install 'presidentSpeech' from GitHub:\n  (converted from warning) cannot remove prior installation of package 'tibble'\n",
     "output_type": "error",
     "traceback": [
      "Error: Failed to install 'presidentSpeech' from GitHub:\n  (converted from warning) cannot remove prior installation of package 'tibble'\nTraceback:\n",
      "1. remotes::install_github(\"forkonlp/presidentSpeech\")   # at line 9 of file <text>",
      "2. install_remotes(remotes, auth_token = auth_token, host = host, \n .     dependencies = dependencies, upgrade = upgrade, force = force, \n .     quiet = quiet, build = build, build_opts = build_opts, build_manual = build_manual, \n .     build_vignettes = build_vignettes, repos = repos, type = type, \n .     ...)",
      "3. tryCatch(res[[i]] <- install_remote(remotes[[i]], ...), error = function(e) {\n .     stop(remote_install_error(remotes[[i]], e))\n . })",
      "4. tryCatchList(expr, classes, parentenv, handlers)",
      "5. tryCatchOne(expr, names, parentenv, handlers[[1L]])",
      "6. value[[3L]](cond)"
     ]
    }
   ],
   "source": [
    "if (!requireNamespace(\"remotes\")) {\n",
    "  install.packages(\"remotes\", repos = \"https://cloud.r-project.org\")\n",
    "}\n",
    "if (!requireNamespace(\"tidytext\")) {\n",
    "  install.packages(\"tidytext\", repos = \"https://cloud.r-project.org\")\n",
    "}\n",
    "#> Loading required namespace: tidytext\n",
    "if (!requireNamespace(\"presidentSpeech\")) {\n",
    "  remotes::install_github(\"forkonlp/presidentSpeech\")\n",
    "}\n",
    "#> Loading required namespace: presidentSpeech\n",
    "### presidentSpeech는 계속 안깔린다.\n",
    "library(tidytext)\n",
    "library(presidentSpeech)"
   ]
  },
  {
   "cell_type": "code",
   "execution_count": 6,
   "metadata": {},
   "outputs": [
    {
     "name": "stdout",
     "output_type": "stream",
     "text": [
      "package 'remotes' successfully unpacked and MD5 sums checked\n",
      "\n",
      "The downloaded binary packages are in\n",
      "\tC:\\Users\\82102\\AppData\\Local\\Temp\\RtmpYP7GkV\\downloaded_packages\n"
     ]
    }
   ],
   "source": [
    "install.packages(\"remotes\", repos = \"https://cloud.r-project.org\")"
   ]
  },
  {
   "cell_type": "code",
   "execution_count": 8,
   "metadata": {},
   "outputs": [
    {
     "name": "stderr",
     "output_type": "stream",
     "text": [
      "Loading required namespace: RcppMeCab\n",
      "also installing the dependency 'RcppParallel'\n",
      "\n"
     ]
    },
    {
     "name": "stdout",
     "output_type": "stream",
     "text": [
      "package 'RcppParallel' successfully unpacked and MD5 sums checked\n",
      "package 'RcppMeCab' successfully unpacked and MD5 sums checked\n",
      "\n",
      "The downloaded binary packages are in\n",
      "\tC:\\Users\\82102\\AppData\\Local\\Temp\\RtmpYP7GkV\\downloaded_packages\n"
     ]
    },
    {
     "name": "stderr",
     "output_type": "stream",
     "text": [
      "Loading required namespace: RmecabKo\n"
     ]
    },
    {
     "name": "stdout",
     "output_type": "stream",
     "text": [
      "package 'RmecabKo' successfully unpacked and MD5 sums checked\n",
      "\n",
      "The downloaded binary packages are in\n",
      "\tC:\\Users\\82102\\AppData\\Local\\Temp\\RtmpYP7GkV\\downloaded_packages\n"
     ]
    }
   ],
   "source": [
    "if (!requireNamespace(\"RcppMeCab\")) {\n",
    "  install.packages(\"RcppMeCab\", repos = \"https://cloud.r-project.org\")\n",
    "}\n",
    "#> Loading required namespace: RcppMeCab\n",
    "if (!requireNamespace(\"RmecabKo\")) {\n",
    "  install.packages(\"RmecabKo\", repos = \"https://cloud.r-project.org\")\n",
    "}\n",
    "#> Loading required namespace: RmecabKo"
   ]
  },
  {
   "cell_type": "code",
   "execution_count": 13,
   "metadata": {},
   "outputs": [
    {
     "name": "stdout",
     "output_type": "stream",
     "text": [
      "Install mecab-ko-msvc...Install mecab-ko-dic-msvc..."
     ]
    }
   ],
   "source": [
    "RmecabKo::install_mecab(\"c:/mecab\")"
   ]
  },
  {
   "cell_type": "code",
   "execution_count": 14,
   "metadata": {},
   "outputs": [
    {
     "data": {
      "text/html": [
       "'한글 테스트 입니다.'"
      ],
      "text/latex": [
       "'한글 테스트 입니다.'"
      ],
      "text/markdown": [
       "'한글 테스트 입니다.'"
      ],
      "text/plain": [
       "[1] \"한글 테스트 입니다.\""
      ]
     },
     "metadata": {},
     "output_type": "display_data"
    }
   ],
   "source": [
    "test"
   ]
  },
  {
   "cell_type": "code",
   "execution_count": 15,
   "metadata": {},
   "outputs": [],
   "source": [
    "library(RcppMeCab)"
   ]
  },
  {
   "cell_type": "code",
   "execution_count": 16,
   "metadata": {},
   "outputs": [
    {
     "name": "stderr",
     "output_type": "stream",
     "text": [
      "ERROR while rich displaying an object: Error in nchar(x): invalid multibyte string, element 1\n",
      "\n",
      "Traceback:\n",
      "1. FUN(X[[i]], ...)\n",
      "2. tryCatch(withCallingHandlers({\n",
      " .     if (!mime %in% names(repr::mime2repr)) \n",
      " .         stop(\"No repr_* for mimetype \", mime, \" in repr::mime2repr\")\n",
      " .     rpr <- repr::mime2repr[[mime]](obj)\n",
      " .     if (is.null(rpr)) \n",
      " .         return(NULL)\n",
      " .     prepare_content(is.raw(rpr), rpr)\n",
      " . }, error = error_handler), error = outer_handler)\n",
      "3. tryCatchList(expr, classes, parentenv, handlers)\n",
      "4. tryCatchOne(expr, names, parentenv, handlers[[1L]])\n",
      "5. doTryCatch(return(expr), name, parentenv, handler)\n",
      "6. withCallingHandlers({\n",
      " .     if (!mime %in% names(repr::mime2repr)) \n",
      " .         stop(\"No repr_* for mimetype \", mime, \" in repr::mime2repr\")\n",
      " .     rpr <- repr::mime2repr[[mime]](obj)\n",
      " .     if (is.null(rpr)) \n",
      " .         return(NULL)\n",
      " .     prepare_content(is.raw(rpr), rpr)\n",
      " . }, error = error_handler)\n",
      "7. repr::mime2repr[[mime]](obj)\n",
      "8. repr_html.list(obj)\n",
      "9. repr_list_generic(obj, \"html\", \"\\t<li>%s</li>\\n\", \"\\t<dt>$%s</dt>\\n\\t\\t<dd>%s</dd>\\n\", \n",
      " .     \"<strong>$%s</strong> = %s\", \"<ol>\\n%s</ol>\\n\", \"<dl>\\n%s</dl>\\n\", \n",
      " .     numeric_item = \"\\t<dt>[[%s]]</dt>\\n\\t\\t<dd>%s</dd>\\n\", escape_fun = html_escape)\n",
      "10. sapply(nms, as_name_or_na, USE.NAMES = FALSE)\n",
      "11. lapply(X = X, FUN = FUN, ...)\n",
      "12. FUN(X[[i]], ...)\n",
      "ERROR while rich displaying an object: Error in nchar(x): invalid multibyte string, element 1\n",
      "\n",
      "Traceback:\n",
      "1. FUN(X[[i]], ...)\n",
      "2. tryCatch(withCallingHandlers({\n",
      " .     if (!mime %in% names(repr::mime2repr)) \n",
      " .         stop(\"No repr_* for mimetype \", mime, \" in repr::mime2repr\")\n",
      " .     rpr <- repr::mime2repr[[mime]](obj)\n",
      " .     if (is.null(rpr)) \n",
      " .         return(NULL)\n",
      " .     prepare_content(is.raw(rpr), rpr)\n",
      " . }, error = error_handler), error = outer_handler)\n",
      "3. tryCatchList(expr, classes, parentenv, handlers)\n",
      "4. tryCatchOne(expr, names, parentenv, handlers[[1L]])\n",
      "5. doTryCatch(return(expr), name, parentenv, handler)\n",
      "6. withCallingHandlers({\n",
      " .     if (!mime %in% names(repr::mime2repr)) \n",
      " .         stop(\"No repr_* for mimetype \", mime, \" in repr::mime2repr\")\n",
      " .     rpr <- repr::mime2repr[[mime]](obj)\n",
      " .     if (is.null(rpr)) \n",
      " .         return(NULL)\n",
      " .     prepare_content(is.raw(rpr), rpr)\n",
      " . }, error = error_handler)\n",
      "7. repr::mime2repr[[mime]](obj)\n",
      "8. repr_markdown.list(obj)\n",
      "9. repr_list_generic(obj, \"markdown\", \"%s. %s\\n\", \"$%s\\n:   %s\\n\", \n",
      " .     \"**$%s** = %s\", \"%s\\n\\n\", numeric_item = \"[[%s]]\\n:   %s\\n\", \n",
      " .     item_uses_numbers = TRUE, escape_fun = html_escape)\n",
      "10. sapply(nms, as_name_or_na, USE.NAMES = FALSE)\n",
      "11. lapply(X = X, FUN = FUN, ...)\n",
      "12. FUN(X[[i]], ...)\n",
      "ERROR while rich displaying an object: Error in nchar(x): invalid multibyte string, element 1\n",
      "\n",
      "Traceback:\n",
      "1. FUN(X[[i]], ...)\n",
      "2. tryCatch(withCallingHandlers({\n",
      " .     if (!mime %in% names(repr::mime2repr)) \n",
      " .         stop(\"No repr_* for mimetype \", mime, \" in repr::mime2repr\")\n",
      " .     rpr <- repr::mime2repr[[mime]](obj)\n",
      " .     if (is.null(rpr)) \n",
      " .         return(NULL)\n",
      " .     prepare_content(is.raw(rpr), rpr)\n",
      " . }, error = error_handler), error = outer_handler)\n",
      "3. tryCatchList(expr, classes, parentenv, handlers)\n",
      "4. tryCatchOne(expr, names, parentenv, handlers[[1L]])\n",
      "5. doTryCatch(return(expr), name, parentenv, handler)\n",
      "6. withCallingHandlers({\n",
      " .     if (!mime %in% names(repr::mime2repr)) \n",
      " .         stop(\"No repr_* for mimetype \", mime, \" in repr::mime2repr\")\n",
      " .     rpr <- repr::mime2repr[[mime]](obj)\n",
      " .     if (is.null(rpr)) \n",
      " .         return(NULL)\n",
      " .     prepare_content(is.raw(rpr), rpr)\n",
      " . }, error = error_handler)\n",
      "7. repr::mime2repr[[mime]](obj)\n",
      "8. repr_latex.list(obj)\n",
      "9. repr_list_generic(obj, \"latex\", \"\\\\item %s\\n\", \"\\\\item[\\\\$%s] %s\\n\", \n",
      " .     \"\\\\textbf{\\\\$%s} = %s\", enum_wrap = \"\\\\begin{enumerate}\\n%s\\\\end{enumerate}\\n\", \n",
      " .     named_wrap = \"\\\\begin{description}\\n%s\\\\end{description}\\n\", \n",
      " .     numeric_item = \"\\\\item[{[[%s]]}] %s\\n\", escape_fun = latex_escape)\n",
      "10. sapply(nms, as_name_or_na, USE.NAMES = FALSE)\n",
      "11. lapply(X = X, FUN = FUN, ...)\n",
      "12. FUN(X[[i]], ...)\n"
     ]
    },
    {
     "data": {
      "text/plain": [
       "$`<c7><U+0471><db> <c5><U+05FD><U+00BA><U+01AE> <c0><U+0534><U+03F4><d9>.`\n",
       "[1] \"<c7><d1>/SL\" \"<U+00B1><db> /SY\" \"<c5><d7>/SL\" \"<U+00BD><U+00BA>/SY\" \"<U+01AE>/SL\"\n",
       "[6] \"<c0><U+0534>/SY\" \"<U+03F4>/SL\" \"<d9>./SY\"   \n"
      ]
     },
     "metadata": {},
     "output_type": "display_data"
    }
   ],
   "source": [
    "pos(test)"
   ]
  },
  {
   "cell_type": "code",
   "execution_count": 17,
   "metadata": {},
   "outputs": [
    {
     "name": "stderr",
     "output_type": "stream",
     "text": [
      "also installing the dependency 'tibble'\n",
      "\n"
     ]
    },
    {
     "name": "stdout",
     "output_type": "stream",
     "text": [
      "package 'tibble' successfully unpacked and MD5 sums checked\n"
     ]
    },
    {
     "name": "stderr",
     "output_type": "stream",
     "text": [
      "Warning message:\n",
      "\"cannot remove prior installation of package 'tibble'\"Warning message in file.copy(savedcopy, lib, recursive = TRUE):\n",
      "\"C:\\Users\\82102\\AppData\\Local\\Continuum\\anaconda3\\envs\\r_tutorial\\Lib\\R\\library\\00LOCK\\tibble\\libs\\x64\\tibble.dll를 C:\\Users\\82102\\AppData\\Local\\Continuum\\anaconda3\\envs\\r_tutorial\\Lib\\R\\library\\tibble\\libs\\x64\\tibble.dll로 복사하는데 문제가 발생했습니다: Permission denied\"Warning message:\n",
      "\"restored 'tibble'\""
     ]
    },
    {
     "name": "stdout",
     "output_type": "stream",
     "text": [
      "package 'dplyr' successfully unpacked and MD5 sums checked\n",
      "\n",
      "The downloaded binary packages are in\n",
      "\tC:\\Users\\82102\\AppData\\Local\\Temp\\RtmpYP7GkV\\downloaded_packages\n"
     ]
    }
   ],
   "source": [
    "install.packages('dplyr')"
   ]
  },
  {
   "cell_type": "code",
   "execution_count": 18,
   "metadata": {},
   "outputs": [
    {
     "name": "stderr",
     "output_type": "stream",
     "text": [
      "Warning message:\n",
      "\"package 'dplyr' was built under R version 3.6.2\"\n",
      "Attaching package: 'dplyr'\n",
      "\n",
      "The following objects are masked from 'package:stats':\n",
      "\n",
      "    filter, lag\n",
      "\n",
      "The following objects are masked from 'package:base':\n",
      "\n",
      "    intersect, setdiff, setequal, union\n",
      "\n"
     ]
    }
   ],
   "source": [
    "library('dplyr')"
   ]
  },
  {
   "cell_type": "code",
   "execution_count": 19,
   "metadata": {},
   "outputs": [
    {
     "name": "stdout",
     "output_type": "stream",
     "text": [
      "package 'stringr' successfully unpacked and MD5 sums checked\n",
      "\n",
      "The downloaded binary packages are in\n",
      "\tC:\\Users\\82102\\AppData\\Local\\Temp\\RtmpYP7GkV\\downloaded_packages\n"
     ]
    }
   ],
   "source": [
    "install.packages('stringr')"
   ]
  },
  {
   "cell_type": "code",
   "execution_count": 20,
   "metadata": {},
   "outputs": [
    {
     "name": "stderr",
     "output_type": "stream",
     "text": [
      "Warning message:\n",
      "\"package 'stringr' was built under R version 3.6.2\""
     ]
    }
   ],
   "source": [
    "library('stringr')"
   ]
  },
  {
   "cell_type": "code",
   "execution_count": 21,
   "metadata": {},
   "outputs": [
    {
     "name": "stderr",
     "output_type": "stream",
     "text": [
      "Warning message in read.table(file = file, header = header, sep = sep, quote = quote, :\n",
      "\"입력 커넥션 '../EZmeta30.csv'에서 유효하지 않은 입력을 찾았습니다\"Warning message in read.table(file = file, header = header, sep = sep, quote = quote, :\n",
      "\"'../EZmeta30.csv'에서 readTableHeader에 의하여 발견된 완성되지 않은 마지막 라인입니다\""
     ]
    },
    {
     "data": {
      "text/html": [
       "<table>\n",
       "<thead><tr><th scope=col>X.</th></tr></thead>\n",
       "<tbody>\n",
       "</tbody>\n",
       "</table>\n"
      ],
      "text/latex": [
       "\\begin{tabular}{r|l}\n",
       " X.\\\\\n",
       "\\hline\n",
       "\\end{tabular}\n"
      ],
      "text/markdown": [
       "\n",
       "| X. |\n",
       "|---|\n",
       "\n"
      ],
      "text/plain": [
       "     X."
      ]
     },
     "metadata": {},
     "output_type": "display_data"
    }
   ],
   "source": [
    "keyData <- read.csv(\"../EZmeta30.csv\",sep=\",\",header=TRUE,stringsAsFactors=FALSE,fileEncoding=\"UTF-8\")\n",
    "head(keyData)"
   ]
  },
  {
   "cell_type": "code",
   "execution_count": 3,
   "metadata": {},
   "outputs": [
    {
     "data": {
      "text/html": [
       "<table>\n",
       "<thead><tr><th scope=col>pair_id</th><th scope=col>표제어.kword_id</th><th scope=col>표제어</th><th scope=col>의미번호</th><th scope=col>표제어.난이도</th><th scope=col>relation2</th><th scope=col>관련어.word_id</th><th scope=col>관련어</th><th scope=col>의미번호.1</th><th scope=col>관련어.난이도</th></tr></thead>\n",
       "<tbody>\n",
       "\t<tr><td>1          </td><td>2184       </td><td>가톨릭     </td><td>2          </td><td>하         </td><td>비슷한말   </td><td> 97798     </td><td>서학       </td><td>2          </td><td>중         </td></tr>\n",
       "\t<tr><td>2          </td><td>2186       </td><td>가톨릭-교  </td><td>1          </td><td>중         </td><td>비슷한말   </td><td> 16023     </td><td>공교       </td><td>2          </td><td>상         </td></tr>\n",
       "\t<tr><td>3          </td><td>2186       </td><td>가톨릭-교  </td><td>1          </td><td>중         </td><td>비슷한말   </td><td>182393     </td><td>천주-학    </td><td>1          </td><td>중         </td></tr>\n",
       "\t<tr><td>4          </td><td>2186       </td><td>가톨릭-교  </td><td>1          </td><td>중         </td><td>비슷한말   </td><td>176596     </td><td>진교       </td><td>2          </td><td>상         </td></tr>\n",
       "\t<tr><td>5          </td><td>2188       </td><td>가톨릭-교도</td><td>1          </td><td>중         </td><td>비슷한말   </td><td>182378     </td><td>천좍-쟁이  </td><td>1          </td><td>상         </td></tr>\n",
       "\t<tr><td>6          </td><td>2190       </td><td>가톨릭교-회</td><td>1          </td><td>중         </td><td>비슷한말   </td><td>182379     </td><td>천주^공교회</td><td>1          </td><td>상         </td></tr>\n",
       "</tbody>\n",
       "</table>\n"
      ],
      "text/latex": [
       "\\begin{tabular}{r|llllllllll}\n",
       " pair\\_id & 표제어.kword\\_id & 표제어 & 의미번호 & 표제어.난이도 & relation2 & 관련어.word\\_id & 관련어 & 의미번호.1 & 관련어.난이도\\\\\n",
       "\\hline\n",
       "\t 1           & 2184        & 가톨릭      & 2           & 하          & 비슷한말    &  97798      & 서학        & 2           & 중         \\\\\n",
       "\t 2           & 2186        & 가톨릭-교   & 1           & 중          & 비슷한말    &  16023      & 공교        & 2           & 상         \\\\\n",
       "\t 3           & 2186        & 가톨릭-교   & 1           & 중          & 비슷한말    & 182393      & 천주-학     & 1           & 중         \\\\\n",
       "\t 4           & 2186        & 가톨릭-교   & 1           & 중          & 비슷한말    & 176596      & 진교        & 2           & 상         \\\\\n",
       "\t 5           & 2188        & 가톨릭-교도 & 1           & 중          & 비슷한말    & 182378      & 천좍-쟁이   & 1           & 상         \\\\\n",
       "\t 6                             & 2190                          & 가톨릭교-회                   & 1                             & 중                            & 비슷한말                      & 182379                        & 천주\\textasciicircum{}공교회 & 1                             & 상                           \\\\\n",
       "\\end{tabular}\n"
      ],
      "text/markdown": [
       "\n",
       "| pair_id | 표제어.kword_id | 표제어 | 의미번호 | 표제어.난이도 | relation2 | 관련어.word_id | 관련어 | 의미번호.1 | 관련어.난이도 |\n",
       "|---|---|---|---|---|---|---|---|---|---|\n",
       "| 1           | 2184        | 가톨릭      | 2           | 하          | 비슷한말    |  97798      | 서학        | 2           | 중          |\n",
       "| 2           | 2186        | 가톨릭-교   | 1           | 중          | 비슷한말    |  16023      | 공교        | 2           | 상          |\n",
       "| 3           | 2186        | 가톨릭-교   | 1           | 중          | 비슷한말    | 182393      | 천주-학     | 1           | 중          |\n",
       "| 4           | 2186        | 가톨릭-교   | 1           | 중          | 비슷한말    | 176596      | 진교        | 2           | 상          |\n",
       "| 5           | 2188        | 가톨릭-교도 | 1           | 중          | 비슷한말    | 182378      | 천좍-쟁이   | 1           | 상          |\n",
       "| 6           | 2190        | 가톨릭교-회 | 1           | 중          | 비슷한말    | 182379      | 천주^공교회 | 1           | 상          |\n",
       "\n"
      ],
      "text/plain": [
       "  pair_id 표제어.kword_id 표제어      의미번호 표제어.난이도 relation2\n",
       "1 1       2184            가톨릭      2        하            비슷한말 \n",
       "2 2       2186            가톨릭-교   1        중            비슷한말 \n",
       "3 3       2186            가톨릭-교   1        중            비슷한말 \n",
       "4 4       2186            가톨릭-교   1        중            비슷한말 \n",
       "5 5       2188            가톨릭-교도 1        중            비슷한말 \n",
       "6 6       2190            가톨릭교-회 1        중            비슷한말 \n",
       "  관련어.word_id 관련어      의미번호.1 관련어.난이도\n",
       "1  97798         서학        2          중           \n",
       "2  16023         공교        2          상           \n",
       "3 182393         천주-학     1          중           \n",
       "4 176596         진교        2          상           \n",
       "5 182378         천좍-쟁이   1          상           \n",
       "6 182379         천주^공교회 1          상           "
      ]
     },
     "metadata": {},
     "output_type": "display_data"
    }
   ],
   "source": [
    "keyData <- read.csv(\"../EZmeta31.csv\",sep=\",\",header=TRUE,stringsAsFactors=FALSE,fileEncoding=\"UTF-8\")\n",
    "head(keyData)"
   ]
  },
  {
   "cell_type": "code",
   "execution_count": 1,
   "metadata": {},
   "outputs": [
    {
     "name": "stderr",
     "output_type": "stream",
     "text": [
      "\n",
      "Attaching package: 'dplyr'\n",
      "\n",
      "The following objects are masked from 'package:stats':\n",
      "\n",
      "    filter, lag\n",
      "\n",
      "The following objects are masked from 'package:base':\n",
      "\n",
      "    intersect, setdiff, setequal, union\n",
      "\n"
     ]
    }
   ],
   "source": [
    "library('dplyr')"
   ]
  },
  {
   "cell_type": "code",
   "execution_count": 2,
   "metadata": {},
   "outputs": [
    {
     "ename": "ERROR",
     "evalue": "Error in library(\"KoNLP\"): there is no package called 'KoNLP'\n",
     "output_type": "error",
     "traceback": [
      "Error in library(\"KoNLP\"): there is no package called 'KoNLP'\nTraceback:\n",
      "1. library(\"KoNLP\")"
     ]
    }
   ],
   "source": [
    "library('KoNLP')"
   ]
  },
  {
   "cell_type": "code",
   "execution_count": 3,
   "metadata": {},
   "outputs": [],
   "source": [
    "library('stringr')"
   ]
  },
  {
   "cell_type": "code",
   "execution_count": 4,
   "metadata": {},
   "outputs": [
    {
     "name": "stderr",
     "output_type": "stream",
     "text": [
      "also installing the dependencies 'zeallot', 'ini', 'bit', 'vctrs', 'clisymbols', 'fs', 'gh', 'rprojroot', 'rex', 'crosstalk', 'xopen', 'brew', 'commonmark', 'purrr', 'praise', 'rlang', 'bit64', 'blob', 'DBI', 'memoise', 'usethis', 'covr', 'desc', 'DT', 'ellipsis', 'git2r', 'pkgbuild', 'pkgload', 'rcmdcheck', 'remotes', 'roxygen2', 'rversions', 'sessioninfo', 'testthat', 'rJava', 'hash', 'tau', 'Sejong', 'RSQLite', 'devtools'\n",
      "\n"
     ]
    },
    {
     "name": "stdout",
     "output_type": "stream",
     "text": [
      "\n",
      "  There is a binary version available but the source version is later:\n",
      "    binary   source needs_compilation\n",
      "bit 1.1-14 1.1-15.1              TRUE\n",
      "\n",
      "  Binaries will be installed\n",
      "package 'zeallot' successfully unpacked and MD5 sums checked\n",
      "package 'ini' successfully unpacked and MD5 sums checked\n",
      "package 'bit' successfully unpacked and MD5 sums checked\n",
      "package 'vctrs' successfully unpacked and MD5 sums checked\n",
      "package 'clisymbols' successfully unpacked and MD5 sums checked\n",
      "package 'fs' successfully unpacked and MD5 sums checked\n",
      "package 'gh' successfully unpacked and MD5 sums checked\n",
      "package 'rprojroot' successfully unpacked and MD5 sums checked\n",
      "package 'rex' successfully unpacked and MD5 sums checked\n",
      "package 'crosstalk' successfully unpacked and MD5 sums checked\n",
      "package 'xopen' successfully unpacked and MD5 sums checked\n",
      "package 'brew' successfully unpacked and MD5 sums checked\n",
      "package 'commonmark' successfully unpacked and MD5 sums checked\n",
      "package 'purrr' successfully unpacked and MD5 sums checked\n"
     ]
    },
    {
     "name": "stderr",
     "output_type": "stream",
     "text": [
      "Warning message:\n",
      "\"cannot remove prior installation of package 'purrr'\"Warning message in file.copy(savedcopy, lib, recursive = TRUE):\n",
      "\"C:\\Users\\82102\\AppData\\Local\\Continuum\\anaconda3\\envs\\Rtutorial\\Lib\\R\\library\\00LOCK\\purrr\\libs\\x64\\purrr.dll를 C:\\Users\\82102\\AppData\\Local\\Continuum\\anaconda3\\envs\\Rtutorial\\Lib\\R\\library\\purrr\\libs\\x64\\purrr.dll로 복사하는데 문제가 발생했습니다: Permission denied\"Warning message:\n",
      "\"restored 'purrr'\""
     ]
    },
    {
     "name": "stdout",
     "output_type": "stream",
     "text": [
      "package 'praise' successfully unpacked and MD5 sums checked\n",
      "package 'rlang' successfully unpacked and MD5 sums checked\n"
     ]
    },
    {
     "name": "stderr",
     "output_type": "stream",
     "text": [
      "Warning message:\n",
      "\"cannot remove prior installation of package 'rlang'\"Warning message in file.copy(savedcopy, lib, recursive = TRUE):\n",
      "\"C:\\Users\\82102\\AppData\\Local\\Continuum\\anaconda3\\envs\\Rtutorial\\Lib\\R\\library\\00LOCK\\rlang\\libs\\x64\\rlang.dll를 C:\\Users\\82102\\AppData\\Local\\Continuum\\anaconda3\\envs\\Rtutorial\\Lib\\R\\library\\rlang\\libs\\x64\\rlang.dll로 복사하는데 문제가 발생했습니다: Permission denied\"Warning message:\n",
      "\"restored 'rlang'\""
     ]
    },
    {
     "name": "stdout",
     "output_type": "stream",
     "text": [
      "package 'bit64' successfully unpacked and MD5 sums checked\n",
      "package 'blob' successfully unpacked and MD5 sums checked\n",
      "package 'DBI' successfully unpacked and MD5 sums checked\n",
      "package 'memoise' successfully unpacked and MD5 sums checked\n",
      "package 'usethis' successfully unpacked and MD5 sums checked\n",
      "package 'covr' successfully unpacked and MD5 sums checked\n",
      "package 'desc' successfully unpacked and MD5 sums checked\n",
      "package 'DT' successfully unpacked and MD5 sums checked\n",
      "package 'ellipsis' successfully unpacked and MD5 sums checked\n",
      "package 'git2r' successfully unpacked and MD5 sums checked\n",
      "package 'pkgbuild' successfully unpacked and MD5 sums checked\n",
      "package 'pkgload' successfully unpacked and MD5 sums checked\n",
      "package 'rcmdcheck' successfully unpacked and MD5 sums checked\n",
      "package 'remotes' successfully unpacked and MD5 sums checked\n",
      "package 'roxygen2' successfully unpacked and MD5 sums checked\n",
      "package 'rversions' successfully unpacked and MD5 sums checked\n",
      "package 'sessioninfo' successfully unpacked and MD5 sums checked\n",
      "package 'testthat' successfully unpacked and MD5 sums checked\n",
      "package 'rJava' successfully unpacked and MD5 sums checked\n",
      "package 'hash' successfully unpacked and MD5 sums checked\n",
      "package 'tau' successfully unpacked and MD5 sums checked\n",
      "package 'Sejong' successfully unpacked and MD5 sums checked\n",
      "package 'RSQLite' successfully unpacked and MD5 sums checked\n",
      "package 'devtools' successfully unpacked and MD5 sums checked\n",
      "package 'KoNLP' successfully unpacked and MD5 sums checked\n",
      "\n",
      "The downloaded binary packages are in\n",
      "\tC:\\Users\\82102\\AppData\\Local\\Temp\\Rtmp617bev\\downloaded_packages\n"
     ]
    }
   ],
   "source": [
    "install.packages(\"KoNLP\",repos=\"https://cloud.r-project.org\")"
   ]
  },
  {
   "cell_type": "code",
   "execution_count": 5,
   "metadata": {},
   "outputs": [
    {
     "name": "stderr",
     "output_type": "stream",
     "text": [
      "also installing the dependency 'RcppParallel'\n",
      "\n"
     ]
    },
    {
     "name": "stdout",
     "output_type": "stream",
     "text": [
      "package 'RcppParallel' successfully unpacked and MD5 sums checked\n",
      "package 'RcppMeCab' successfully unpacked and MD5 sums checked\n",
      "\n",
      "The downloaded binary packages are in\n",
      "\tC:\\Users\\82102\\AppData\\Local\\Temp\\Rtmp617bev\\downloaded_packages\n"
     ]
    }
   ],
   "source": [
    "install.packages('RcppMeCab')"
   ]
  },
  {
   "cell_type": "code",
   "execution_count": 6,
   "metadata": {},
   "outputs": [
    {
     "name": "stdout",
     "output_type": "stream",
     "text": [
      "package 'RmecabKo' successfully unpacked and MD5 sums checked\n",
      "\n",
      "The downloaded binary packages are in\n",
      "\tC:\\Users\\82102\\AppData\\Local\\Temp\\Rtmp617bev\\downloaded_packages\n"
     ]
    }
   ],
   "source": [
    "install.packages('RmecabKo')"
   ]
  },
  {
   "cell_type": "code",
   "execution_count": 9,
   "metadata": {},
   "outputs": [
    {
     "name": "stderr",
     "output_type": "stream",
     "text": [
      "Warning message:\n",
      "\"package 'KoNLP' was built under R version 3.6.2\""
     ]
    },
    {
     "ename": "ERROR",
     "evalue": "Error: package or namespace load failed for 'KoNLP' in loadNamespace(i, c(lib.loc, .libPaths()), versionCheck = vI[[i]]):\n namespace 'rlang' 0.3.4 is already loaded, but >= 0.4.0 is required\n",
     "output_type": "error",
     "traceback": [
      "Error: package or namespace load failed for 'KoNLP' in loadNamespace(i, c(lib.loc, .libPaths()), versionCheck = vI[[i]]):\n namespace 'rlang' 0.3.4 is already loaded, but >= 0.4.0 is required\nTraceback:\n",
      "1. library(\"KoNLP\")",
      "2. tryCatch({\n .     attr(package, \"LibPath\") <- which.lib.loc\n .     ns <- loadNamespace(package, lib.loc)\n .     env <- attachNamespace(ns, pos = pos, deps, exclude, include.only)\n . }, error = function(e) {\n .     P <- if (!is.null(cc <- conditionCall(e))) \n .         paste(\" in\", deparse(cc)[1L])\n .     else \"\"\n .     msg <- gettextf(\"package or namespace load failed for %s%s:\\n %s\", \n .         sQuote(package), P, conditionMessage(e))\n .     if (logical.return) \n .         message(paste(\"Error:\", msg), domain = NA)\n .     else stop(msg, call. = FALSE, domain = NA)\n . })",
      "3. tryCatchList(expr, classes, parentenv, handlers)",
      "4. tryCatchOne(expr, names, parentenv, handlers[[1L]])",
      "5. value[[3L]](cond)",
      "6. stop(msg, call. = FALSE, domain = NA)"
     ]
    }
   ],
   "source": [
    "library('KoNLP')\n",
    "test <- \"한글 테스트 입니다.\"\n",
    "# 아래 결과가 나와야 합니다.\n",
    "extractNoun(test)"
   ]
  },
  {
   "cell_type": "code",
   "execution_count": null,
   "metadata": {},
   "outputs": [],
   "source": []
  }
 ],
 "metadata": {
  "kernelspec": {
   "display_name": "R",
   "language": "R",
   "name": "ir"
  },
  "language_info": {
   "codemirror_mode": "r",
   "file_extension": ".r",
   "mimetype": "text/x-r-source",
   "name": "R",
   "pygments_lexer": "r",
   "version": "3.6.1"
  }
 },
 "nbformat": 4,
 "nbformat_minor": 2
}
