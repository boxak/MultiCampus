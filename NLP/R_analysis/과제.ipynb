{
 "cells": [
  {
   "cell_type": "code",
   "execution_count": 1,
   "metadata": {},
   "outputs": [],
   "source": [
    "library(\"xlsx\")"
   ]
  },
  {
   "cell_type": "code",
   "execution_count": 2,
   "metadata": {},
   "outputs": [],
   "source": [
    "data <- read.xlsx2(\"vocaSet/vocaInfo001.xlsx\",sheetIndex=1,startRow=1,header=TRUE)"
   ]
  },
  {
   "cell_type": "code",
   "execution_count": 3,
   "metadata": {},
   "outputs": [
    {
     "data": {
      "text/html": [
       "<table>\n",
       "<thead><tr><th scope=col>품사</th><th scope=col>n</th></tr></thead>\n",
       "<tbody>\n",
       "\t<tr><td>감·명</td><td>3     </td></tr>\n",
       "\t<tr><td>감탄사</td><td>50    </td></tr>\n",
       "\t<tr><td>관·명</td><td>139   </td></tr>\n",
       "\t<tr><td>관형사</td><td>6     </td></tr>\n",
       "\t<tr><td>대·감</td><td>2     </td></tr>\n",
       "\t<tr><td>대명사</td><td>28    </td></tr>\n",
       "</tbody>\n",
       "</table>\n"
      ],
      "text/latex": [
       "\\begin{tabular}{r|ll}\n",
       " 품사 & n\\\\\n",
       "\\hline\n",
       "\t 감·명 & 3     \\\\\n",
       "\t 감탄사 & 50    \\\\\n",
       "\t 관·명 & 139   \\\\\n",
       "\t 관형사 & 6     \\\\\n",
       "\t 대·감 & 2     \\\\\n",
       "\t 대명사 & 28    \\\\\n",
       "\\end{tabular}\n"
      ],
      "text/markdown": [
       "\n",
       "| 품사 | n |\n",
       "|---|---|\n",
       "| 감·명 | 3      |\n",
       "| 감탄사 | 50     |\n",
       "| 관·명 | 139    |\n",
       "| 관형사 | 6      |\n",
       "| 대·감 | 2      |\n",
       "| 대명사 | 28     |\n",
       "\n"
      ],
      "text/plain": [
       "  품사   n  \n",
       "1 감·명 3  \n",
       "2 감탄사 50 \n",
       "3 관·명 139\n",
       "4 관형사 6  \n",
       "5 대·감 2  \n",
       "6 대명사 28 "
      ]
     },
     "metadata": {},
     "output_type": "display_data"
    }
   ],
   "source": [
    "head(data)"
   ]
  },
  {
   "cell_type": "code",
   "execution_count": 5,
   "metadata": {},
   "outputs": [
    {
     "data": {
      "text/html": [
       "<ol class=list-inline>\n",
       "\t<li>3</li>\n",
       "\t<li>50</li>\n",
       "\t<li>139</li>\n",
       "\t<li>6</li>\n",
       "\t<li>2</li>\n",
       "\t<li>28</li>\n",
       "</ol>\n",
       "\n",
       "<details>\n",
       "\t<summary style=display:list-item;cursor:pointer>\n",
       "\t\t<strong>Levels</strong>:\n",
       "\t</summary>\n",
       "\t<ol class=list-inline>\n",
       "\t\t<li>'139'</li>\n",
       "\t\t<li>'1629'</li>\n",
       "\t\t<li>'18814'</li>\n",
       "\t\t<li>'1971'</li>\n",
       "\t\t<li>'2'</li>\n",
       "\t\t<li>'27742'</li>\n",
       "\t\t<li>'28'</li>\n",
       "\t\t<li>'2816'</li>\n",
       "\t\t<li>'3'</li>\n",
       "\t\t<li>'4'</li>\n",
       "\t\t<li>'5'</li>\n",
       "\t\t<li>'50'</li>\n",
       "\t\t<li>'52'</li>\n",
       "\t\t<li>'6'</li>\n",
       "\t\t<li>'6030'</li>\n",
       "\t\t<li>'618'</li>\n",
       "\t\t<li>'89'</li>\n",
       "\t</ol>\n",
       "</details>"
      ],
      "text/latex": [
       "\\begin{enumerate*}\n",
       "\\item 3\n",
       "\\item 50\n",
       "\\item 139\n",
       "\\item 6\n",
       "\\item 2\n",
       "\\item 28\n",
       "\\end{enumerate*}\n",
       "\n",
       "\\emph{Levels}: \\begin{enumerate*}\n",
       "\\item '139'\n",
       "\\item '1629'\n",
       "\\item '18814'\n",
       "\\item '1971'\n",
       "\\item '2'\n",
       "\\item '27742'\n",
       "\\item '28'\n",
       "\\item '2816'\n",
       "\\item '3'\n",
       "\\item '4'\n",
       "\\item '5'\n",
       "\\item '50'\n",
       "\\item '52'\n",
       "\\item '6'\n",
       "\\item '6030'\n",
       "\\item '618'\n",
       "\\item '89'\n",
       "\\end{enumerate*}\n"
      ],
      "text/markdown": [
       "1. 3\n",
       "2. 50\n",
       "3. 139\n",
       "4. 6\n",
       "5. 2\n",
       "6. 28\n",
       "\n",
       "\n",
       "\n",
       "**Levels**: 1. '139'\n",
       "2. '1629'\n",
       "3. '18814'\n",
       "4. '1971'\n",
       "5. '2'\n",
       "6. '27742'\n",
       "7. '28'\n",
       "8. '2816'\n",
       "9. '3'\n",
       "10. '4'\n",
       "11. '5'\n",
       "12. '50'\n",
       "13. '52'\n",
       "14. '6'\n",
       "15. '6030'\n",
       "16. '618'\n",
       "17. '89'\n",
       "\n",
       "\n"
      ],
      "text/plain": [
       "[1] 3   50  139 6   2   28 \n",
       "Levels: 139 1629 18814 1971 2 27742 28 2816 3 4 5 50 52 6 6030 618 89"
      ]
     },
     "metadata": {},
     "output_type": "display_data"
    }
   ],
   "source": [
    "head(data$n)"
   ]
  },
  {
   "cell_type": "code",
   "execution_count": 6,
   "metadata": {},
   "outputs": [
    {
     "name": "stdout",
     "output_type": "stream",
     "text": [
      "'data.frame':\t18 obs. of  2 variables:\n",
      " $ 품사: Factor w/ 18 levels \"감·명\",\"감탄사\",..: 1 2 3 4 5 6 7 8 9 10 ...\n",
      " $ n   : Factor w/ 17 levels \"139\",\"1629\",\"18814\",..: 9 12 1 14 5 7 15 5 6 11 ...\n"
     ]
    }
   ],
   "source": [
    "str(data) ###glimps(data)"
   ]
  },
  {
   "cell_type": "code",
   "execution_count": 7,
   "metadata": {},
   "outputs": [
    {
     "ename": "ERROR",
     "evalue": "Error in glimps(data): 함수 \"glimps\"를 찾을 수 없습니다\n",
     "output_type": "error",
     "traceback": [
      "Error in glimps(data): 함수 \"glimps\"를 찾을 수 없습니다\nTraceback:\n"
     ]
    }
   ],
   "source": [
    "glimps(data)"
   ]
  },
  {
   "cell_type": "code",
   "execution_count": null,
   "metadata": {},
   "outputs": [],
   "source": [
    "###KoNLP 한글 형태소 분석해주는 툴\n",
    "### 의미어별 뜻풀이의 형태소 분석\n",
    "### pos KoNLP, RcppMeCab\n",
    "### 각 형태소들을 노드로 하는 그래프를 그린다.\n",
    "### '인간'에서 파생되는 노드들을 만들고 그래프로 그린다.\n",
    "### 을,는,이,가 같은 것들을 가져오지 않게\n",
    "### 용언의 원래 형태를 가져오도록\n",
    "\n",
    "### 토크나이징 -> 불필요한 것들을 걸러내는 작업"
   ]
  },
  {
   "cell_type": "code",
   "execution_count": 1,
   "metadata": {},
   "outputs": [
    {
     "name": "stderr",
     "output_type": "stream",
     "text": [
      "Loading required namespace: KoNLP\n",
      "also installing the dependencies 'zeallot', 'ini', 'bit', 'vctrs', 'clisymbols', 'fs', 'gh', 'rprojroot', 'rex', 'crosstalk', 'xopen', 'brew', 'commonmark', 'purrr', 'praise', 'rlang', 'bit64', 'blob', 'DBI', 'memoise', 'usethis', 'covr', 'desc', 'DT', 'ellipsis', 'git2r', 'pkgbuild', 'pkgload', 'rcmdcheck', 'remotes', 'roxygen2', 'rversions', 'sessioninfo', 'testthat', 'hash', 'tau', 'Sejong', 'RSQLite', 'devtools'\n",
      "\n"
     ]
    },
    {
     "name": "stdout",
     "output_type": "stream",
     "text": [
      "\n",
      "  There is a binary version available but the source version is later:\n",
      "    binary source needs_compilation\n",
      "bit 1.1-14 1.1-15              TRUE\n",
      "\n",
      "  Binaries will be installed\n",
      "package 'zeallot' successfully unpacked and MD5 sums checked\n",
      "package 'ini' successfully unpacked and MD5 sums checked\n",
      "package 'bit' successfully unpacked and MD5 sums checked\n",
      "package 'vctrs' successfully unpacked and MD5 sums checked\n",
      "package 'clisymbols' successfully unpacked and MD5 sums checked\n",
      "package 'fs' successfully unpacked and MD5 sums checked\n",
      "package 'gh' successfully unpacked and MD5 sums checked\n",
      "package 'rprojroot' successfully unpacked and MD5 sums checked\n",
      "package 'rex' successfully unpacked and MD5 sums checked\n",
      "package 'crosstalk' successfully unpacked and MD5 sums checked\n",
      "package 'xopen' successfully unpacked and MD5 sums checked\n",
      "package 'brew' successfully unpacked and MD5 sums checked\n",
      "package 'commonmark' successfully unpacked and MD5 sums checked\n",
      "package 'purrr' successfully unpacked and MD5 sums checked\n",
      "package 'praise' successfully unpacked and MD5 sums checked\n",
      "package 'rlang' successfully unpacked and MD5 sums checked\n",
      "package 'bit64' successfully unpacked and MD5 sums checked\n",
      "package 'blob' successfully unpacked and MD5 sums checked\n",
      "package 'DBI' successfully unpacked and MD5 sums checked\n",
      "package 'memoise' successfully unpacked and MD5 sums checked\n",
      "package 'usethis' successfully unpacked and MD5 sums checked\n",
      "package 'covr' successfully unpacked and MD5 sums checked\n",
      "package 'desc' successfully unpacked and MD5 sums checked\n",
      "package 'DT' successfully unpacked and MD5 sums checked\n",
      "package 'ellipsis' successfully unpacked and MD5 sums checked\n",
      "package 'git2r' successfully unpacked and MD5 sums checked\n",
      "package 'pkgbuild' successfully unpacked and MD5 sums checked\n",
      "package 'pkgload' successfully unpacked and MD5 sums checked\n",
      "package 'rcmdcheck' successfully unpacked and MD5 sums checked\n",
      "package 'remotes' successfully unpacked and MD5 sums checked\n",
      "package 'roxygen2' successfully unpacked and MD5 sums checked\n",
      "package 'rversions' successfully unpacked and MD5 sums checked\n",
      "package 'sessioninfo' successfully unpacked and MD5 sums checked\n",
      "package 'testthat' successfully unpacked and MD5 sums checked\n",
      "package 'hash' successfully unpacked and MD5 sums checked\n",
      "package 'tau' successfully unpacked and MD5 sums checked\n",
      "package 'Sejong' successfully unpacked and MD5 sums checked\n",
      "package 'RSQLite' successfully unpacked and MD5 sums checked\n",
      "package 'devtools' successfully unpacked and MD5 sums checked\n",
      "package 'KoNLP' successfully unpacked and MD5 sums checked\n",
      "\n",
      "The downloaded binary packages are in\n",
      "\tC:\\Users\\82102\\AppData\\Local\\Temp\\Rtmpe68H3X\\downloaded_packages\n"
     ]
    },
    {
     "name": "stderr",
     "output_type": "stream",
     "text": [
      "Warning message:\n",
      "\"package 'KoNLP' was built under R version 3.6.2\"Building dictionary structures.\n",
      "\n"
     ]
    },
    {
     "data": {
      "text/html": [
       "<ol class=list-inline>\n",
       "\t<li>'한글'</li>\n",
       "\t<li>'테스트'</li>\n",
       "</ol>\n"
      ],
      "text/latex": [
       "\\begin{enumerate*}\n",
       "\\item '한글'\n",
       "\\item '테스트'\n",
       "\\end{enumerate*}\n"
      ],
      "text/markdown": [
       "1. '한글'\n",
       "2. '테스트'\n",
       "\n",
       "\n"
      ],
      "text/plain": [
       "[1] \"한글\"   \"테스트\""
      ]
     },
     "metadata": {},
     "output_type": "display_data"
    }
   ],
   "source": [
    "### KoNLP 설치\n",
    "if(!requireNamespace(\"KoNLP\")){\n",
    "    install.packages(\"KoNLP\",repos=\"https://cloud.r-project.org\")\n",
    "}\n",
    "library(KoNLP)\n",
    "test <- \"한글 테스트 입니다.\"\n",
    "extractNoun(test)\n",
    "### 테스트 분석"
   ]
  },
  {
   "cell_type": "code",
   "execution_count": 2,
   "metadata": {},
   "outputs": [
    {
     "name": "stderr",
     "output_type": "stream",
     "text": [
      "Loading required namespace: RcppMeCab\n",
      "also installing the dependency 'RcppParallel'\n",
      "\n"
     ]
    },
    {
     "name": "stdout",
     "output_type": "stream",
     "text": [
      "package 'RcppParallel' successfully unpacked and MD5 sums checked\n",
      "package 'RcppMeCab' successfully unpacked and MD5 sums checked\n",
      "\n",
      "The downloaded binary packages are in\n",
      "\tC:\\Users\\82102\\AppData\\Local\\Temp\\Rtmpe68H3X\\downloaded_packages\n"
     ]
    },
    {
     "name": "stderr",
     "output_type": "stream",
     "text": [
      "Loading required namespace: RmecabKo\n"
     ]
    },
    {
     "name": "stdout",
     "output_type": "stream",
     "text": [
      "package 'RmecabKo' successfully unpacked and MD5 sums checked\n",
      "\n",
      "The downloaded binary packages are in\n",
      "\tC:\\Users\\82102\\AppData\\Local\\Temp\\Rtmpe68H3X\\downloaded_packages\n",
      "Install mecab-ko-msvc...Install mecab-ko-dic-msvc..."
     ]
    },
    {
     "name": "stderr",
     "output_type": "stream",
     "text": [
      "Warning message:\n",
      "\"package 'RcppMeCab' was built under R version 3.6.2\"ERROR while rich displaying an object: Error in nchar(x): invalid multibyte string, element 1\n",
      "\n",
      "Traceback:\n",
      "1. FUN(X[[i]], ...)\n",
      "2. tryCatch(withCallingHandlers({\n",
      " .     if (!mime %in% names(repr::mime2repr)) \n",
      " .         stop(\"No repr_* for mimetype \", mime, \" in repr::mime2repr\")\n",
      " .     rpr <- repr::mime2repr[[mime]](obj)\n",
      " .     if (is.null(rpr)) \n",
      " .         return(NULL)\n",
      " .     prepare_content(is.raw(rpr), rpr)\n",
      " . }, error = error_handler), error = outer_handler)\n",
      "3. tryCatchList(expr, classes, parentenv, handlers)\n",
      "4. tryCatchOne(expr, names, parentenv, handlers[[1L]])\n",
      "5. doTryCatch(return(expr), name, parentenv, handler)\n",
      "6. withCallingHandlers({\n",
      " .     if (!mime %in% names(repr::mime2repr)) \n",
      " .         stop(\"No repr_* for mimetype \", mime, \" in repr::mime2repr\")\n",
      " .     rpr <- repr::mime2repr[[mime]](obj)\n",
      " .     if (is.null(rpr)) \n",
      " .         return(NULL)\n",
      " .     prepare_content(is.raw(rpr), rpr)\n",
      " . }, error = error_handler)\n",
      "7. repr::mime2repr[[mime]](obj)\n",
      "8. repr_html.list(obj)\n",
      "9. repr_list_generic(obj, \"html\", \"\\t<li>%s</li>\\n\", \"\\t<dt>$%s</dt>\\n\\t\\t<dd>%s</dd>\\n\", \n",
      " .     \"<strong>$%s</strong> = %s\", \"<ol>\\n%s</ol>\\n\", \"<dl>\\n%s</dl>\\n\", \n",
      " .     numeric_item = \"\\t<dt>[[%s]]</dt>\\n\\t\\t<dd>%s</dd>\\n\", escape_fun = html_escape)\n",
      "10. sapply(nms, as_name_or_na, USE.NAMES = FALSE)\n",
      "11. lapply(X = X, FUN = FUN, ...)\n",
      "12. FUN(X[[i]], ...)\n",
      "ERROR while rich displaying an object: Error in nchar(x): invalid multibyte string, element 1\n",
      "\n",
      "Traceback:\n",
      "1. FUN(X[[i]], ...)\n",
      "2. tryCatch(withCallingHandlers({\n",
      " .     if (!mime %in% names(repr::mime2repr)) \n",
      " .         stop(\"No repr_* for mimetype \", mime, \" in repr::mime2repr\")\n",
      " .     rpr <- repr::mime2repr[[mime]](obj)\n",
      " .     if (is.null(rpr)) \n",
      " .         return(NULL)\n",
      " .     prepare_content(is.raw(rpr), rpr)\n",
      " . }, error = error_handler), error = outer_handler)\n",
      "3. tryCatchList(expr, classes, parentenv, handlers)\n",
      "4. tryCatchOne(expr, names, parentenv, handlers[[1L]])\n",
      "5. doTryCatch(return(expr), name, parentenv, handler)\n",
      "6. withCallingHandlers({\n",
      " .     if (!mime %in% names(repr::mime2repr)) \n",
      " .         stop(\"No repr_* for mimetype \", mime, \" in repr::mime2repr\")\n",
      " .     rpr <- repr::mime2repr[[mime]](obj)\n",
      " .     if (is.null(rpr)) \n",
      " .         return(NULL)\n",
      " .     prepare_content(is.raw(rpr), rpr)\n",
      " . }, error = error_handler)\n",
      "7. repr::mime2repr[[mime]](obj)\n",
      "8. repr_markdown.list(obj)\n",
      "9. repr_list_generic(obj, \"markdown\", \"%s. %s\\n\", \"$%s\\n:   %s\\n\", \n",
      " .     \"**$%s** = %s\", \"%s\\n\\n\", numeric_item = \"[[%s]]\\n:   %s\\n\", \n",
      " .     item_uses_numbers = TRUE, escape_fun = html_escape)\n",
      "10. sapply(nms, as_name_or_na, USE.NAMES = FALSE)\n",
      "11. lapply(X = X, FUN = FUN, ...)\n",
      "12. FUN(X[[i]], ...)\n",
      "ERROR while rich displaying an object: Error in nchar(x): invalid multibyte string, element 1\n",
      "\n",
      "Traceback:\n",
      "1. FUN(X[[i]], ...)\n",
      "2. tryCatch(withCallingHandlers({\n",
      " .     if (!mime %in% names(repr::mime2repr)) \n",
      " .         stop(\"No repr_* for mimetype \", mime, \" in repr::mime2repr\")\n",
      " .     rpr <- repr::mime2repr[[mime]](obj)\n",
      " .     if (is.null(rpr)) \n",
      " .         return(NULL)\n",
      " .     prepare_content(is.raw(rpr), rpr)\n",
      " . }, error = error_handler), error = outer_handler)\n",
      "3. tryCatchList(expr, classes, parentenv, handlers)\n",
      "4. tryCatchOne(expr, names, parentenv, handlers[[1L]])\n",
      "5. doTryCatch(return(expr), name, parentenv, handler)\n",
      "6. withCallingHandlers({\n",
      " .     if (!mime %in% names(repr::mime2repr)) \n",
      " .         stop(\"No repr_* for mimetype \", mime, \" in repr::mime2repr\")\n",
      " .     rpr <- repr::mime2repr[[mime]](obj)\n",
      " .     if (is.null(rpr)) \n",
      " .         return(NULL)\n",
      " .     prepare_content(is.raw(rpr), rpr)\n",
      " . }, error = error_handler)\n",
      "7. repr::mime2repr[[mime]](obj)\n",
      "8. repr_latex.list(obj)\n",
      "9. repr_list_generic(obj, \"latex\", \"\\\\item %s\\n\", \"\\\\item[\\\\$%s] %s\\n\", \n",
      " .     \"\\\\textbf{\\\\$%s} = %s\", enum_wrap = \"\\\\begin{enumerate}\\n%s\\\\end{enumerate}\\n\", \n",
      " .     named_wrap = \"\\\\begin{description}\\n%s\\\\end{description}\\n\", \n",
      " .     numeric_item = \"\\\\item[{[[%s]]}] %s\\n\", escape_fun = latex_escape)\n",
      "10. sapply(nms, as_name_or_na, USE.NAMES = FALSE)\n",
      "11. lapply(X = X, FUN = FUN, ...)\n",
      "12. FUN(X[[i]], ...)\n"
     ]
    },
    {
     "data": {
      "text/plain": [
       "$`<c7><U+0471><db> <c5><U+05FD><U+00BA><U+01AE><c0><U+0534><U+03F4><d9>.`\n",
       "[1] \"<c7><d1>/SL\" \"<U+00B1><db> /SY\" \"<c5><d7>/SL\" \"<U+00BD><U+00BA>/SY\" \"<U+01AE>/SL\"\n",
       "[6] \"<c0><U+0534>/SY\" \"<U+03F4>/SL\" \"<d9>./SY\"   \n"
      ]
     },
     "metadata": {},
     "output_type": "display_data"
    }
   ],
   "source": [
    "### RcppMeCab 설치 : KoNLP보다 빠른 형태소 분석기\n",
    "if(!requireNamespace(\"RcppMeCab\")){\n",
    "    install.packages(\"RcppMeCab\",repos=\"https://cloud.r-project.org\")\n",
    "}\n",
    "if(!requireNamespace(\"RmecabKo\")){\n",
    "    install.packages(\"RmecabKo\",repos=\"https://cloud.r-project.org\")\n",
    "}\n",
    "\n",
    "RmecabKo::install_mecab(\"c:/mecab\")\n",
    "library(RcppMeCab)\n",
    "test <- \"한글 테스트입니다.\"\n",
    "pos(test)"
   ]
  },
  {
   "cell_type": "code",
   "execution_count": 1,
   "metadata": {},
   "outputs": [
    {
     "name": "stderr",
     "output_type": "stream",
     "text": [
      "Loading required namespace: remotes\n",
      "Loading required namespace: tidytext\n"
     ]
    },
    {
     "name": "stdout",
     "output_type": "stream",
     "text": [
      "package 'tidytext' successfully unpacked and MD5 sums checked\n",
      "\n",
      "The downloaded binary packages are in\n",
      "\tC:\\Users\\82102\\AppData\\Local\\Temp\\RtmpgLkDJv\\downloaded_packages\n"
     ]
    },
    {
     "name": "stderr",
     "output_type": "stream",
     "text": [
      "Loading required namespace: presidentSpeech\n",
      "Downloading GitHub repo forkonlp/presidentSpeech@master\n"
     ]
    },
    {
     "name": "stdout",
     "output_type": "stream",
     "text": [
      "tibble    (NA     -> 2.1.3 ) [CRAN]\n",
      "Rcpp      (1.0.1  -> 1.0.3 ) [CRAN]\n",
      "httr      (1.4.0  -> 1.4.1 ) [CRAN]\n",
      "selectr   (0.4-1  -> 0.4-2 ) [CRAN]\n",
      "cli       (1.1.0  -> 2.0.1 ) [CRAN]\n",
      "fansi     (0.4.0  -> 0.4.1 ) [CRAN]\n",
      "pillar    (1.3.1  -> 1.4.3 ) [CRAN]\n",
      "pkgconfig (2.0.2  -> 2.0.3 ) [CRAN]\n",
      "curl      (3.3    -> 4.3   ) [CRAN]\n",
      "mime      (0.6    -> 0.8   ) [CRAN]\n",
      "openssl   (1.3    -> 1.4.1 ) [CRAN]\n",
      "R6        (2.4.0  -> 2.4.1 ) [CRAN]\n",
      "askpass   (1.0    -> 1.1   ) [CRAN]\n",
      "sys       (3.2    -> 3.3   ) [CRAN]\n",
      "stringi   (1.4.3  -> 1.4.5 ) [CRAN]\n",
      "backports (1.1.4  -> 1.1.5 ) [CRAN]\n",
      "digest    (0.6.18 -> 0.6.23) [CRAN]\n"
     ]
    },
    {
     "name": "stderr",
     "output_type": "stream",
     "text": [
      "Installing 17 packages: tibble, Rcpp, httr, selectr, cli, fansi, pillar, pkgconfig, curl, mime, openssl, R6, askpass, sys, stringi, backports, digest\n"
     ]
    },
    {
     "name": "stdout",
     "output_type": "stream",
     "text": [
      "\n",
      "  There is a binary version available but the source version is later:\n",
      "        binary source needs_compilation\n",
      "stringi  1.4.4  1.4.5              TRUE\n",
      "\n",
      "  Binaries will be installed\n",
      "package 'tibble' successfully unpacked and MD5 sums checked\n",
      "package 'Rcpp' successfully unpacked and MD5 sums checked\n"
     ]
    },
    {
     "ename": "ERROR",
     "evalue": "Error: Failed to install 'presidentSpeech' from GitHub:\n  (converted from warning) cannot remove prior installation of package 'Rcpp'\n",
     "output_type": "error",
     "traceback": [
      "Error: Failed to install 'presidentSpeech' from GitHub:\n  (converted from warning) cannot remove prior installation of package 'Rcpp'\nTraceback:\n",
      "1. remotes::install_github(\"forkonlp/presidentSpeech\")   # at line 11 of file <text>",
      "2. install_remotes(remotes, auth_token = auth_token, host = host, \n .     dependencies = dependencies, upgrade = upgrade, force = force, \n .     quiet = quiet, build = build, build_opts = build_opts, build_manual = build_manual, \n .     build_vignettes = build_vignettes, repos = repos, type = type, \n .     ...)",
      "3. tryCatch(res[[i]] <- install_remote(remotes[[i]], ...), error = function(e) {\n .     stop(remote_install_error(remotes[[i]], e))\n . })",
      "4. tryCatchList(expr, classes, parentenv, handlers)",
      "5. tryCatchOne(expr, names, parentenv, handlers[[1L]])",
      "6. value[[3L]](cond)"
     ]
    }
   ],
   "source": [
    "### 패키지 인스톨을 위한 함수 제공하는 패키지\n",
    "if(!requireNamespace(\"remotes\")){\n",
    "    install.packages(\"remotes\",repos=\"https://cloud.r-project.org\")\n",
    "}\n",
    "### 텍스트를 tidy하게 다룰 수 있게 해주는 패키지\n",
    "if(!requireNamespace(\"tidytext\")){\n",
    "    install.packages(\"tidytext\",repos=\"https://cloud.r-project.org\")\n",
    "}\n",
    "### 역대 대통령 연설문 텍스트 사용하는 패키지\n",
    "if(!requireNamespace(\"presidentSpeech\")){\n",
    "    remotes::install_github(\"forkonlp/presidentSpeech\")\n",
    "}\n",
    "library(tidytext)\n",
    "library(presidentSpeech)"
   ]
  },
  {
   "cell_type": "code",
   "execution_count": 2,
   "metadata": {},
   "outputs": [
    {
     "name": "stdout",
     "output_type": "stream",
     "text": [
      "package 'remotes' successfully unpacked and MD5 sums checked\n",
      "\n",
      "The downloaded binary packages are in\n",
      "\tC:\\Users\\82102\\AppData\\Local\\Temp\\Rtmpm602IW\\downloaded_packages\n"
     ]
    }
   ],
   "source": [
    "install.packages('remotes')"
   ]
  },
  {
   "cell_type": "code",
   "execution_count": 3,
   "metadata": {},
   "outputs": [
    {
     "name": "stderr",
     "output_type": "stream",
     "text": [
      "also installing the dependencies 'zeallot', 'ini', 'bit', 'vctrs', 'clisymbols', 'fs', 'gh', 'rprojroot', 'rex', 'crosstalk', 'xopen', 'brew', 'commonmark', 'purrr', 'praise', 'rlang', 'bit64', 'blob', 'DBI', 'memoise', 'usethis', 'covr', 'desc', 'DT', 'ellipsis', 'git2r', 'pkgbuild', 'pkgload', 'rcmdcheck', 'roxygen2', 'rversions', 'sessioninfo', 'testthat', 'rJava', 'hash', 'tau', 'Sejong', 'RSQLite', 'devtools'\n",
      "\n"
     ]
    },
    {
     "name": "stdout",
     "output_type": "stream",
     "text": [
      "\n",
      "  There is a binary version available but the source version is later:\n",
      "    binary source needs_compilation\n",
      "bit 1.1-14 1.1-15              TRUE\n",
      "\n",
      "  Binaries will be installed\n",
      "package 'zeallot' successfully unpacked and MD5 sums checked\n",
      "package 'ini' successfully unpacked and MD5 sums checked\n",
      "package 'bit' successfully unpacked and MD5 sums checked\n",
      "package 'vctrs' successfully unpacked and MD5 sums checked\n",
      "package 'clisymbols' successfully unpacked and MD5 sums checked\n",
      "package 'fs' successfully unpacked and MD5 sums checked\n",
      "package 'gh' successfully unpacked and MD5 sums checked\n",
      "package 'rprojroot' successfully unpacked and MD5 sums checked\n",
      "package 'rex' successfully unpacked and MD5 sums checked\n",
      "package 'crosstalk' successfully unpacked and MD5 sums checked\n",
      "package 'xopen' successfully unpacked and MD5 sums checked\n",
      "package 'brew' successfully unpacked and MD5 sums checked\n",
      "package 'commonmark' successfully unpacked and MD5 sums checked\n",
      "package 'purrr' successfully unpacked and MD5 sums checked\n",
      "package 'praise' successfully unpacked and MD5 sums checked\n",
      "package 'rlang' successfully unpacked and MD5 sums checked\n",
      "package 'bit64' successfully unpacked and MD5 sums checked\n",
      "package 'blob' successfully unpacked and MD5 sums checked\n",
      "package 'DBI' successfully unpacked and MD5 sums checked\n",
      "package 'memoise' successfully unpacked and MD5 sums checked\n",
      "package 'usethis' successfully unpacked and MD5 sums checked\n",
      "package 'covr' successfully unpacked and MD5 sums checked\n",
      "package 'desc' successfully unpacked and MD5 sums checked\n",
      "package 'DT' successfully unpacked and MD5 sums checked\n",
      "package 'ellipsis' successfully unpacked and MD5 sums checked\n",
      "package 'git2r' successfully unpacked and MD5 sums checked\n",
      "package 'pkgbuild' successfully unpacked and MD5 sums checked\n",
      "package 'pkgload' successfully unpacked and MD5 sums checked\n",
      "package 'rcmdcheck' successfully unpacked and MD5 sums checked\n",
      "package 'roxygen2' successfully unpacked and MD5 sums checked\n",
      "package 'rversions' successfully unpacked and MD5 sums checked\n",
      "package 'sessioninfo' successfully unpacked and MD5 sums checked\n",
      "package 'testthat' successfully unpacked and MD5 sums checked\n",
      "package 'rJava' successfully unpacked and MD5 sums checked\n",
      "package 'hash' successfully unpacked and MD5 sums checked\n",
      "package 'tau' successfully unpacked and MD5 sums checked\n",
      "package 'Sejong' successfully unpacked and MD5 sums checked\n",
      "package 'RSQLite' successfully unpacked and MD5 sums checked\n",
      "package 'devtools' successfully unpacked and MD5 sums checked\n",
      "package 'KoNLP' successfully unpacked and MD5 sums checked\n",
      "\n",
      "The downloaded binary packages are in\n",
      "\tC:\\Users\\82102\\AppData\\Local\\Temp\\Rtmpm602IW\\downloaded_packages\n"
     ]
    },
    {
     "name": "stderr",
     "output_type": "stream",
     "text": [
      "also installing the dependency 'RcppParallel'\n",
      "\n"
     ]
    },
    {
     "name": "stdout",
     "output_type": "stream",
     "text": [
      "package 'RcppParallel' successfully unpacked and MD5 sums checked\n",
      "package 'RcppMeCab' successfully unpacked and MD5 sums checked\n",
      "\n",
      "The downloaded binary packages are in\n",
      "\tC:\\Users\\82102\\AppData\\Local\\Temp\\Rtmpm602IW\\downloaded_packages\n",
      "package 'RmecabKo' successfully unpacked and MD5 sums checked\n",
      "\n",
      "The downloaded binary packages are in\n",
      "\tC:\\Users\\82102\\AppData\\Local\\Temp\\Rtmpm602IW\\downloaded_packages\n"
     ]
    },
    {
     "name": "stderr",
     "output_type": "stream",
     "text": [
      "also installing the dependencies 'SnowballC', 'ISOcodes', 'hunspell', 'tokenizers', 'janeaustenr', 'stopwords'\n",
      "\n"
     ]
    },
    {
     "name": "stdout",
     "output_type": "stream",
     "text": [
      "package 'SnowballC' successfully unpacked and MD5 sums checked\n",
      "package 'ISOcodes' successfully unpacked and MD5 sums checked\n",
      "package 'hunspell' successfully unpacked and MD5 sums checked\n",
      "package 'tokenizers' successfully unpacked and MD5 sums checked\n",
      "package 'janeaustenr' successfully unpacked and MD5 sums checked\n",
      "package 'stopwords' successfully unpacked and MD5 sums checked\n",
      "package 'tidytext' successfully unpacked and MD5 sums checked\n",
      "\n",
      "The downloaded binary packages are in\n",
      "\tC:\\Users\\82102\\AppData\\Local\\Temp\\Rtmpm602IW\\downloaded_packages\n"
     ]
    },
    {
     "name": "stderr",
     "output_type": "stream",
     "text": [
      "Downloading GitHub repo forkonlp/presidentSpeech@master\n"
     ]
    },
    {
     "name": "stdout",
     "output_type": "stream",
     "text": [
      "xml2      (1.2.0  -> 1.2.2 ) [CRAN]\n",
      "rvest     (0.3.3  -> 0.3.5 ) [CRAN]\n",
      "tibble    (2.1.1  -> 2.1.3 ) [CRAN]\n",
      "Rcpp      (1.0.1  -> 1.0.3 ) [CRAN]\n",
      "httr      (1.4.0  -> 1.4.1 ) [CRAN]\n",
      "selectr   (0.4-1  -> 0.4-2 ) [CRAN]\n",
      "cli       (1.1.0  -> 2.0.1 ) [CRAN]\n",
      "fansi     (0.4.0  -> 0.4.1 ) [CRAN]\n",
      "pillar    (1.3.1  -> 1.4.3 ) [CRAN]\n",
      "pkgconfig (2.0.2  -> 2.0.3 ) [CRAN]\n",
      "curl      (3.3    -> 4.3   ) [CRAN]\n",
      "mime      (0.6    -> 0.8   ) [CRAN]\n",
      "openssl   (1.3    -> 1.4.1 ) [CRAN]\n",
      "R6        (2.4.0  -> 2.4.1 ) [CRAN]\n",
      "askpass   (1.0    -> 1.1   ) [CRAN]\n",
      "sys       (3.2    -> 3.3   ) [CRAN]\n",
      "stringi   (1.4.3  -> 1.4.5 ) [CRAN]\n",
      "backports (1.1.4  -> 1.1.5 ) [CRAN]\n",
      "digest    (0.6.18 -> 0.6.23) [CRAN]\n"
     ]
    },
    {
     "name": "stderr",
     "output_type": "stream",
     "text": [
      "Installing 19 packages: xml2, rvest, tibble, Rcpp, httr, selectr, cli, fansi, pillar, pkgconfig, curl, mime, openssl, R6, askpass, sys, stringi, backports, digest\n"
     ]
    },
    {
     "name": "stdout",
     "output_type": "stream",
     "text": [
      "\n",
      "  There is a binary version available but the source version is later:\n",
      "        binary source needs_compilation\n",
      "stringi  1.4.4  1.4.5              TRUE\n",
      "\n",
      "  Binaries will be installed\n",
      "package 'xml2' successfully unpacked and MD5 sums checked\n",
      "package 'rvest' successfully unpacked and MD5 sums checked\n",
      "package 'tibble' successfully unpacked and MD5 sums checked\n",
      "package 'Rcpp' successfully unpacked and MD5 sums checked\n"
     ]
    },
    {
     "ename": "ERROR",
     "evalue": "Error: Failed to install 'presidentSpeech' from GitHub:\n  (converted from warning) cannot remove prior installation of package 'Rcpp'\n",
     "output_type": "error",
     "traceback": [
      "Error: Failed to install 'presidentSpeech' from GitHub:\n  (converted from warning) cannot remove prior installation of package 'Rcpp'\nTraceback:\n",
      "1. remotes::install_github(\"forkonlp/presidentSpeech\")",
      "2. install_remotes(remotes, auth_token = auth_token, host = host, \n .     dependencies = dependencies, upgrade = upgrade, force = force, \n .     quiet = quiet, build = build, build_opts = build_opts, build_manual = build_manual, \n .     build_vignettes = build_vignettes, repos = repos, type = type, \n .     ...)",
      "3. tryCatch(res[[i]] <- install_remote(remotes[[i]], ...), error = function(e) {\n .     stop(remote_install_error(remotes[[i]], e))\n . })",
      "4. tryCatchList(expr, classes, parentenv, handlers)",
      "5. tryCatchOne(expr, names, parentenv, handlers[[1L]])",
      "6. value[[3L]](cond)"
     ]
    }
   ],
   "source": [
    "install.packages(\"KoNLP\", repos = \"https://cloud.r-project.org\")\n",
    "install.packages(\"RcppMeCab\", repos = \"https://cloud.r-project.org\")\n",
    "install.packages(\"RmecabKo\", repos = \"https://cloud.r-project.org\")\n",
    "install.packages(\"tidytext\", repos = \"https://cloud.r-project.org\")\n",
    "remotes::install_github(\"forkonlp/presidentSpeech\")"
   ]
  },
  {
   "cell_type": "code",
   "execution_count": 1,
   "metadata": {},
   "outputs": [
    {
     "name": "stderr",
     "output_type": "stream",
     "text": [
      "Warning message in scan(file = file, what = what, sep = sep, quote = quote, dec = dec, :\n",
      "\"입력 커넥션 '../DICT001.csv'에서 유효하지 않은 입력을 찾았습니다\"Warning message in scan(file = file, what = what, sep = sep, quote = quote, dec = dec, :\n",
      "\"따옴표로 묶인 문자열내에 EOF가 있습니다\""
     ]
    }
   ],
   "source": [
    "data <- read.csv(\"../DICT001.csv\",sep=\",\",header=TRUE,stringsAsFactors=FALSE,fileEncoding=\"UTF-8\")"
   ]
  },
  {
   "cell_type": "code",
   "execution_count": 2,
   "metadata": {},
   "outputs": [
    {
     "data": {
      "text/html": [
       "<table>\n",
       "<thead><tr><th scope=col>word_id</th><th scope=col>의미어</th><th scope=col>표제어</th><th scope=col>의미번호</th><th scope=col>뜻풀이</th><th scope=col>품사</th><th scope=col>난이도</th></tr></thead>\n",
       "<tbody>\n",
       "\t<tr><td>1                                                                                                                                                                                                                                                                                                                                  </td><td>ㄱ001                                                                                                                                                                                                                                                                                                                              </td><td>ㄱ                                                                                                                                                                                                                                                                                                                                 </td><td>1                                                                                                                                                                                                                                                                                                                                  </td><td>한글 자모의 첫째 글자. 기역이라 이르며, ‘가’에서와 같이 초성으로, ‘역’에서와 같이 종성으로 쓰인다. 목젖으로 콧길을 막고 혀뿌리를 높여 연구개를 막았다가 뗄 때 나는 무성음이다. 초성일 때는 무성이나 모음 사이에서는 유성음이 되며, 종성일 때는 혀뿌리를 떼지 않고 발음한다. 혀뿌리가 목구멍을 막는 모양을 본떠서 만든 글자이다.</td><td>명사                                                                                                                                                                                                                                                                                                                               </td><td>상                                                                                                                                                                                                                                                                                                                                 </td></tr>\n",
       "\t<tr><td>2                                                                                                                                                                                                                                                                                                                                  </td><td>ㄱㄴㄷ순001                                                                                                                                                                                                                                                                                                                        </td><td>ㄱㄴㄷ-순                                                                                                                                                                                                                                                                                                                          </td><td>1                                                                                                                                                                                                                                                                                                                                  </td><td>한글의 ‘ㄱ, ㄴ, ㄷ……’ 차례로 매기는 순서.                                                                                                                                                                                                                                                                                      </td><td>명사                                                                                                                                                                                                                                                                                                                               </td><td>상                                                                                                                                                                                                                                                                                                                                 </td></tr>\n",
       "\t<tr><td>3                                                                                                                                                                                                                                                                                                                                  </td><td>ㄱㄴㄷ차례001                                                                                                                                                                                                                                                                                                                      </td><td>ㄱㄴㄷ-차례                                                                                                                                                                                                                                                                                                                        </td><td>1                                                                                                                                                                                                                                                                                                                                  </td><td>한글의 ‘ㄱ, ㄴ, ㄷ……’ 차례로 매기는 순서.                                                                                                                                                                                                                                                                                      </td><td>명사                                                                                                                                                                                                                                                                                                                               </td><td>상                                                                                                                                                                                                                                                                                                                                 </td></tr>\n",
       "\t<tr><td>4                                                                                                                                                                                                                                                                                                                                  </td><td>ㄱㄴ순001                                                                                                                                                                                                                                                                                                                          </td><td>ㄱㄴ-순                                                                                                                                                                                                                                                                                                                            </td><td>1                                                                                                                                                                                                                                                                                                                                  </td><td>한글의 ‘ㄱ, ㄴ, ㄷ……’ 차례로 매기는 순서.                                                                                                                                                                                                                                                                                      </td><td>명사                                                                                                                                                                                                                                                                                                                               </td><td>상                                                                                                                                                                                                                                                                                                                                 </td></tr>\n",
       "\t<tr><td>5                                                                                                                                                                                                                                                                                                                                  </td><td>ㄱㄴ차례001                                                                                                                                                                                                                                                                                                                        </td><td>ㄱㄴ-차례                                                                                                                                                                                                                                                                                                                          </td><td>1                                                                                                                                                                                                                                                                                                                                  </td><td>한글의 ‘ㄱ, ㄴ, ㄷ……’ 차례로 매기는 순서.                                                                                                                                                                                                                                                                                      </td><td>명사                                                                                                                                                                                                                                                                                                                               </td><td>상                                                                                                                                                                                                                                                                                                                                 </td></tr>\n",
       "\t<tr><td>6                                                                                                                                                                                                                                                                                                                                  </td><td>ㄱ자턱솔이음001                                                                                                                                                                                                                                                                                                                    </td><td>ㄱ자^턱솔이음                                                                                                                                                                                                                                                                                                                      </td><td>1                                                                                                                                                                                                                                                                                                                                  </td><td>나무나 돌을 ‘ㄱ’ 자 모양으로 턱이 지게 하여 만든 이음.                                                                                                                                                                                                                                                                           </td><td>품사 없음                                                                                                                                                                                                                                                                                                                          </td><td>상                                                                                                                                                                                                                                                                                                                                 </td></tr>\n",
       "</tbody>\n",
       "</table>\n"
      ],
      "text/latex": [
       "\\begin{tabular}{r|lllllll}\n",
       " word\\_id & 의미어 & 표제어 & 의미번호 & 뜻풀이 & 품사 & 난이도\\\\\n",
       "\\hline\n",
       "\t 1                                                                                                                                                                                                                                                                                                                                   & ㄱ001                                                                                                                                                                                                                                                                                                                               & ㄱ                                                                                                                                                                                                                                                                                                                                  & 1                                                                                                                                                                                                                                                                                                                                   & 한글 자모의 첫째 글자. 기역이라 이르며, ‘가’에서와 같이 초성으로, ‘역’에서와 같이 종성으로 쓰인다. 목젖으로 콧길을 막고 혀뿌리를 높여 연구개를 막았다가 뗄 때 나는 무성음이다. 초성일 때는 무성이나 모음 사이에서는 유성음이 되며, 종성일 때는 혀뿌리를 떼지 않고 발음한다. 혀뿌리가 목구멍을 막는 모양을 본떠서 만든 글자이다. & 명사                                                                                                                                                                                                                                                                                                                                & 상                                                                                                                                                                                                                                                                                                                                 \\\\\n",
       "\t 2                                                                                                                                                                                                                                                                                                                                   & ㄱㄴㄷ순001                                                                                                                                                                                                                                                                                                                         & ㄱㄴㄷ-순                                                                                                                                                                                                                                                                                                                           & 1                                                                                                                                                                                                                                                                                                                                   & 한글의 ‘ㄱ, ㄴ, ㄷ……’ 차례로 매기는 순서.                                                                                                                                                                                                                                                                                       & 명사                                                                                                                                                                                                                                                                                                                                & 상                                                                                                                                                                                                                                                                                                                                 \\\\\n",
       "\t 3                                                                                                                                                                                                                                                                                                                                   & ㄱㄴㄷ차례001                                                                                                                                                                                                                                                                                                                       & ㄱㄴㄷ-차례                                                                                                                                                                                                                                                                                                                         & 1                                                                                                                                                                                                                                                                                                                                   & 한글의 ‘ㄱ, ㄴ, ㄷ……’ 차례로 매기는 순서.                                                                                                                                                                                                                                                                                       & 명사                                                                                                                                                                                                                                                                                                                                & 상                                                                                                                                                                                                                                                                                                                                 \\\\\n",
       "\t 4                                                                                                                                                                                                                                                                                                                                   & ㄱㄴ순001                                                                                                                                                                                                                                                                                                                           & ㄱㄴ-순                                                                                                                                                                                                                                                                                                                             & 1                                                                                                                                                                                                                                                                                                                                   & 한글의 ‘ㄱ, ㄴ, ㄷ……’ 차례로 매기는 순서.                                                                                                                                                                                                                                                                                       & 명사                                                                                                                                                                                                                                                                                                                                & 상                                                                                                                                                                                                                                                                                                                                 \\\\\n",
       "\t 5                                                                                                                                                                                                                                                                                                                                   & ㄱㄴ차례001                                                                                                                                                                                                                                                                                                                         & ㄱㄴ-차례                                                                                                                                                                                                                                                                                                                           & 1                                                                                                                                                                                                                                                                                                                                   & 한글의 ‘ㄱ, ㄴ, ㄷ……’ 차례로 매기는 순서.                                                                                                                                                                                                                                                                                       & 명사                                                                                                                                                                                                                                                                                                                                & 상                                                                                                                                                                                                                                                                                                                                 \\\\\n",
       "\t 6                                                                                                                                                                                                                                                                                                                                   & ㄱ자턱솔이음001                                                                                                                                                                                                                                                                                                                     & ㄱ자\\textasciicircum{}턱솔이음                                                                                                                                                                                                                                                                                                     & 1                                                                                                                                                                                                                                                                                                                                   & 나무나 돌을 ‘ㄱ’ 자 모양으로 턱이 지게 하여 만든 이음.                                                                                                                                                                                                                                                                            & 품사 없음                                                                                                                                                                                                                                                                                                                           & 상                                                                                                                                                                                                                                                                                                                                 \\\\\n",
       "\\end{tabular}\n"
      ],
      "text/markdown": [
       "\n",
       "| word_id | 의미어 | 표제어 | 의미번호 | 뜻풀이 | 품사 | 난이도 |\n",
       "|---|---|---|---|---|---|---|\n",
       "| 1                                                                                                                                                                                                                                                                                                                                   | ㄱ001                                                                                                                                                                                                                                                                                                                               | ㄱ                                                                                                                                                                                                                                                                                                                                  | 1                                                                                                                                                                                                                                                                                                                                   | 한글 자모의 첫째 글자. 기역이라 이르며, ‘가’에서와 같이 초성으로, ‘역’에서와 같이 종성으로 쓰인다. 목젖으로 콧길을 막고 혀뿌리를 높여 연구개를 막았다가 뗄 때 나는 무성음이다. 초성일 때는 무성이나 모음 사이에서는 유성음이 되며, 종성일 때는 혀뿌리를 떼지 않고 발음한다. 혀뿌리가 목구멍을 막는 모양을 본떠서 만든 글자이다. | 명사                                                                                                                                                                                                                                                                                                                                | 상                                                                                                                                                                                                                                                                                                                                  |\n",
       "| 2                                                                                                                                                                                                                                                                                                                                   | ㄱㄴㄷ순001                                                                                                                                                                                                                                                                                                                         | ㄱㄴㄷ-순                                                                                                                                                                                                                                                                                                                           | 1                                                                                                                                                                                                                                                                                                                                   | 한글의 ‘ㄱ, ㄴ, ㄷ……’ 차례로 매기는 순서.                                                                                                                                                                                                                                                                                       | 명사                                                                                                                                                                                                                                                                                                                                | 상                                                                                                                                                                                                                                                                                                                                  |\n",
       "| 3                                                                                                                                                                                                                                                                                                                                   | ㄱㄴㄷ차례001                                                                                                                                                                                                                                                                                                                       | ㄱㄴㄷ-차례                                                                                                                                                                                                                                                                                                                         | 1                                                                                                                                                                                                                                                                                                                                   | 한글의 ‘ㄱ, ㄴ, ㄷ……’ 차례로 매기는 순서.                                                                                                                                                                                                                                                                                       | 명사                                                                                                                                                                                                                                                                                                                                | 상                                                                                                                                                                                                                                                                                                                                  |\n",
       "| 4                                                                                                                                                                                                                                                                                                                                   | ㄱㄴ순001                                                                                                                                                                                                                                                                                                                           | ㄱㄴ-순                                                                                                                                                                                                                                                                                                                             | 1                                                                                                                                                                                                                                                                                                                                   | 한글의 ‘ㄱ, ㄴ, ㄷ……’ 차례로 매기는 순서.                                                                                                                                                                                                                                                                                       | 명사                                                                                                                                                                                                                                                                                                                                | 상                                                                                                                                                                                                                                                                                                                                  |\n",
       "| 5                                                                                                                                                                                                                                                                                                                                   | ㄱㄴ차례001                                                                                                                                                                                                                                                                                                                         | ㄱㄴ-차례                                                                                                                                                                                                                                                                                                                           | 1                                                                                                                                                                                                                                                                                                                                   | 한글의 ‘ㄱ, ㄴ, ㄷ……’ 차례로 매기는 순서.                                                                                                                                                                                                                                                                                       | 명사                                                                                                                                                                                                                                                                                                                                | 상                                                                                                                                                                                                                                                                                                                                  |\n",
       "| 6                                                                                                                                                                                                                                                                                                                                   | ㄱ자턱솔이음001                                                                                                                                                                                                                                                                                                                     | ㄱ자^턱솔이음                                                                                                                                                                                                                                                                                                                       | 1                                                                                                                                                                                                                                                                                                                                   | 나무나 돌을 ‘ㄱ’ 자 모양으로 턱이 지게 하여 만든 이음.                                                                                                                                                                                                                                                                            | 품사 없음                                                                                                                                                                                                                                                                                                                           | 상                                                                                                                                                                                                                                                                                                                                  |\n",
       "\n"
      ],
      "text/plain": [
       "  word_id 의미어          표제어        의미번호\n",
       "1 1       ㄱ001           ㄱ            1       \n",
       "2 2       ㄱㄴㄷ순001     ㄱㄴㄷ-순     1       \n",
       "3 3       ㄱㄴㄷ차례001   ㄱㄴㄷ-차례   1       \n",
       "4 4       ㄱㄴ순001       ㄱㄴ-순       1       \n",
       "5 5       ㄱㄴ차례001     ㄱㄴ-차례     1       \n",
       "6 6       ㄱ자턱솔이음001 ㄱ자^턱솔이음 1       \n",
       "  뜻풀이                                                                                                                                                                                                                                                                                                                             \n",
       "1 한글 자모의 첫째 글자. 기역이라 이르며, ‘가’에서와 같이 초성으로, ‘역’에서와 같이 종성으로 쓰인다. 목젖으로 콧길을 막고 혀뿌리를 높여 연구개를 막았다가 뗄 때 나는 무성음이다. 초성일 때는 무성이나 모음 사이에서는 유성음이 되며, 종성일 때는 혀뿌리를 떼지 않고 발음한다. 혀뿌리가 목구멍을 막는 모양을 본떠서 만든 글자이다.\n",
       "2 한글의 ‘ㄱ, ㄴ, ㄷ……’ 차례로 매기는 순서.                                                                                                                                                                                                                                                                                      \n",
       "3 한글의 ‘ㄱ, ㄴ, ㄷ……’ 차례로 매기는 순서.                                                                                                                                                                                                                                                                                      \n",
       "4 한글의 ‘ㄱ, ㄴ, ㄷ……’ 차례로 매기는 순서.                                                                                                                                                                                                                                                                                      \n",
       "5 한글의 ‘ㄱ, ㄴ, ㄷ……’ 차례로 매기는 순서.                                                                                                                                                                                                                                                                                      \n",
       "6 나무나 돌을 ‘ㄱ’ 자 모양으로 턱이 지게 하여 만든 이음.                                                                                                                                                                                                                                                                           \n",
       "  품사      난이도\n",
       "1 명사      상    \n",
       "2 명사      상    \n",
       "3 명사      상    \n",
       "4 명사      상    \n",
       "5 명사      상    \n",
       "6 품사 없음 상    "
      ]
     },
     "metadata": {},
     "output_type": "display_data"
    }
   ],
   "source": [
    "head(data)"
   ]
  },
  {
   "cell_type": "code",
   "execution_count": 3,
   "metadata": {},
   "outputs": [
    {
     "name": "stderr",
     "output_type": "stream",
     "text": [
      "Loading required namespace: KoNLP\n",
      "also installing the dependencies 'zeallot', 'ini', 'bit', 'vctrs', 'clisymbols', 'fs', 'gh', 'rprojroot', 'rex', 'crosstalk', 'xopen', 'brew', 'commonmark', 'purrr', 'praise', 'rlang', 'bit64', 'blob', 'DBI', 'memoise', 'usethis', 'covr', 'desc', 'DT', 'ellipsis', 'git2r', 'pkgbuild', 'pkgload', 'rcmdcheck', 'remotes', 'roxygen2', 'rversions', 'sessioninfo', 'testthat', 'rJava', 'hash', 'tau', 'Sejong', 'RSQLite', 'devtools'\n",
      "\n"
     ]
    },
    {
     "name": "stdout",
     "output_type": "stream",
     "text": [
      "\n",
      "  There is a binary version available but the source version is later:\n",
      "    binary   source needs_compilation\n",
      "bit 1.1-14 1.1-15.1              TRUE\n",
      "\n",
      "  Binaries will be installed\n",
      "package 'zeallot' successfully unpacked and MD5 sums checked\n",
      "package 'ini' successfully unpacked and MD5 sums checked\n",
      "package 'bit' successfully unpacked and MD5 sums checked\n",
      "package 'vctrs' successfully unpacked and MD5 sums checked\n",
      "package 'clisymbols' successfully unpacked and MD5 sums checked\n",
      "package 'fs' successfully unpacked and MD5 sums checked\n",
      "package 'gh' successfully unpacked and MD5 sums checked\n",
      "package 'rprojroot' successfully unpacked and MD5 sums checked\n",
      "package 'rex' successfully unpacked and MD5 sums checked\n",
      "package 'crosstalk' successfully unpacked and MD5 sums checked\n",
      "package 'xopen' successfully unpacked and MD5 sums checked\n",
      "package 'brew' successfully unpacked and MD5 sums checked\n",
      "package 'commonmark' successfully unpacked and MD5 sums checked\n",
      "package 'purrr' successfully unpacked and MD5 sums checked\n",
      "package 'praise' successfully unpacked and MD5 sums checked\n",
      "package 'rlang' successfully unpacked and MD5 sums checked\n",
      "package 'bit64' successfully unpacked and MD5 sums checked\n",
      "package 'blob' successfully unpacked and MD5 sums checked\n",
      "package 'DBI' successfully unpacked and MD5 sums checked\n",
      "package 'memoise' successfully unpacked and MD5 sums checked\n",
      "package 'usethis' successfully unpacked and MD5 sums checked\n",
      "package 'covr' successfully unpacked and MD5 sums checked\n",
      "package 'desc' successfully unpacked and MD5 sums checked\n",
      "package 'DT' successfully unpacked and MD5 sums checked\n",
      "package 'ellipsis' successfully unpacked and MD5 sums checked\n",
      "package 'git2r' successfully unpacked and MD5 sums checked\n",
      "package 'pkgbuild' successfully unpacked and MD5 sums checked\n",
      "package 'pkgload' successfully unpacked and MD5 sums checked\n",
      "package 'rcmdcheck' successfully unpacked and MD5 sums checked\n",
      "package 'remotes' successfully unpacked and MD5 sums checked\n",
      "package 'roxygen2' successfully unpacked and MD5 sums checked\n",
      "package 'rversions' successfully unpacked and MD5 sums checked\n",
      "package 'sessioninfo' successfully unpacked and MD5 sums checked\n",
      "package 'testthat' successfully unpacked and MD5 sums checked\n",
      "package 'rJava' successfully unpacked and MD5 sums checked\n",
      "package 'hash' successfully unpacked and MD5 sums checked\n",
      "package 'tau' successfully unpacked and MD5 sums checked\n",
      "package 'Sejong' successfully unpacked and MD5 sums checked\n",
      "package 'RSQLite' successfully unpacked and MD5 sums checked\n",
      "package 'devtools' successfully unpacked and MD5 sums checked\n",
      "package 'KoNLP' successfully unpacked and MD5 sums checked\n",
      "\n",
      "The downloaded binary packages are in\n",
      "\tC:\\Users\\82102\\AppData\\Local\\Temp\\RtmpYP7GkV\\downloaded_packages\n"
     ]
    },
    {
     "name": "stderr",
     "output_type": "stream",
     "text": [
      "Warning message:\n",
      "\"package 'KoNLP' was built under R version 3.6.2\"Building dictionary structures.\n",
      "\n"
     ]
    },
    {
     "data": {
      "text/html": [
       "<ol class=list-inline>\n",
       "\t<li>'한글'</li>\n",
       "\t<li>'테스트'</li>\n",
       "</ol>\n"
      ],
      "text/latex": [
       "\\begin{enumerate*}\n",
       "\\item '한글'\n",
       "\\item '테스트'\n",
       "\\end{enumerate*}\n"
      ],
      "text/markdown": [
       "1. '한글'\n",
       "2. '테스트'\n",
       "\n",
       "\n"
      ],
      "text/plain": [
       "[1] \"한글\"   \"테스트\""
      ]
     },
     "metadata": {},
     "output_type": "display_data"
    }
   ],
   "source": [
    "if (!requireNamespace(\"KoNLP\")) {\n",
    "  install.packages(\"KoNLP\", repos = \"https://cloud.r-project.org\")\n",
    "}\n",
    "#> Loading required namespace: KoNLP\n",
    "library(KoNLP)\n",
    "#> Checking user defined dictionary!\n",
    "\n",
    "test <- \"한글 테스트 입니다.\"\n",
    "# 아래 결과가 나와야 합니다.\n",
    "extractNoun(test)"
   ]
  },
  {
   "cell_type": "code",
   "execution_count": 4,
   "metadata": {},
   "outputs": [
    {
     "name": "stderr",
     "output_type": "stream",
     "text": [
      "Loading required namespace: tidytext\n",
      "also installing the dependencies 'SnowballC', 'ISOcodes', 'hunspell', 'tokenizers', 'janeaustenr', 'stopwords'\n",
      "\n"
     ]
    },
    {
     "name": "stdout",
     "output_type": "stream",
     "text": [
      "package 'SnowballC' successfully unpacked and MD5 sums checked\n",
      "package 'ISOcodes' successfully unpacked and MD5 sums checked\n",
      "package 'hunspell' successfully unpacked and MD5 sums checked\n",
      "package 'tokenizers' successfully unpacked and MD5 sums checked\n",
      "package 'janeaustenr' successfully unpacked and MD5 sums checked\n",
      "package 'stopwords' successfully unpacked and MD5 sums checked\n",
      "package 'tidytext' successfully unpacked and MD5 sums checked\n",
      "\n",
      "The downloaded binary packages are in\n",
      "\tC:\\Users\\82102\\AppData\\Local\\Temp\\RtmpYP7GkV\\downloaded_packages\n"
     ]
    },
    {
     "name": "stderr",
     "output_type": "stream",
     "text": [
      "Loading required namespace: presidentSpeech\n",
      "Downloading GitHub repo forkonlp/presidentSpeech@master\n"
     ]
    },
    {
     "name": "stdout",
     "output_type": "stream",
     "text": [
      "xml2      (1.2.0  -> 1.2.2 ) [CRAN]\n",
      "rvest     (0.3.3  -> 0.3.5 ) [CRAN]\n",
      "tibble    (2.1.1  -> 2.1.3 ) [CRAN]\n",
      "Rcpp      (1.0.1  -> 1.0.3 ) [CRAN]\n",
      "httr      (1.4.0  -> 1.4.1 ) [CRAN]\n",
      "selectr   (0.4-1  -> 0.4-2 ) [CRAN]\n",
      "cli       (1.1.0  -> 2.0.1 ) [CRAN]\n",
      "fansi     (0.4.0  -> 0.4.1 ) [CRAN]\n",
      "pillar    (1.3.1  -> 1.4.3 ) [CRAN]\n",
      "pkgconfig (2.0.2  -> 2.0.3 ) [CRAN]\n",
      "curl      (3.3    -> 4.3   ) [CRAN]\n",
      "mime      (0.6    -> 0.8   ) [CRAN]\n",
      "openssl   (1.3    -> 1.4.1 ) [CRAN]\n",
      "R6        (2.4.0  -> 2.4.1 ) [CRAN]\n",
      "askpass   (1.0    -> 1.1   ) [CRAN]\n",
      "sys       (3.2    -> 3.3   ) [CRAN]\n",
      "stringi   (1.4.3  -> 1.4.5 ) [CRAN]\n",
      "backports (1.1.4  -> 1.1.5 ) [CRAN]\n",
      "digest    (0.6.18 -> 0.6.23) [CRAN]\n"
     ]
    },
    {
     "name": "stderr",
     "output_type": "stream",
     "text": [
      "Installing 19 packages: xml2, rvest, tibble, Rcpp, httr, selectr, cli, fansi, pillar, pkgconfig, curl, mime, openssl, R6, askpass, sys, stringi, backports, digest\n"
     ]
    },
    {
     "name": "stdout",
     "output_type": "stream",
     "text": [
      "\n",
      "  There is a binary version available but the source version is later:\n",
      "        binary source needs_compilation\n",
      "stringi  1.4.4  1.4.5              TRUE\n",
      "\n",
      "  Binaries will be installed\n",
      "package 'xml2' successfully unpacked and MD5 sums checked\n",
      "package 'rvest' successfully unpacked and MD5 sums checked\n",
      "package 'tibble' successfully unpacked and MD5 sums checked\n"
     ]
    },
    {
     "ename": "ERROR",
     "evalue": "Error: Failed to install 'presidentSpeech' from GitHub:\n  (converted from warning) cannot remove prior installation of package 'tibble'\n",
     "output_type": "error",
     "traceback": [
      "Error: Failed to install 'presidentSpeech' from GitHub:\n  (converted from warning) cannot remove prior installation of package 'tibble'\nTraceback:\n",
      "1. remotes::install_github(\"forkonlp/presidentSpeech\")   # at line 9 of file <text>",
      "2. install_remotes(remotes, auth_token = auth_token, host = host, \n .     dependencies = dependencies, upgrade = upgrade, force = force, \n .     quiet = quiet, build = build, build_opts = build_opts, build_manual = build_manual, \n .     build_vignettes = build_vignettes, repos = repos, type = type, \n .     ...)",
      "3. tryCatch(res[[i]] <- install_remote(remotes[[i]], ...), error = function(e) {\n .     stop(remote_install_error(remotes[[i]], e))\n . })",
      "4. tryCatchList(expr, classes, parentenv, handlers)",
      "5. tryCatchOne(expr, names, parentenv, handlers[[1L]])",
      "6. value[[3L]](cond)"
     ]
    }
   ],
   "source": [
    "if (!requireNamespace(\"remotes\")) {\n",
    "  install.packages(\"remotes\", repos = \"https://cloud.r-project.org\")\n",
    "}\n",
    "if (!requireNamespace(\"tidytext\")) {\n",
    "  install.packages(\"tidytext\", repos = \"https://cloud.r-project.org\")\n",
    "}\n",
    "#> Loading required namespace: tidytext\n",
    "if (!requireNamespace(\"presidentSpeech\")) {\n",
    "  remotes::install_github(\"forkonlp/presidentSpeech\")\n",
    "}\n",
    "#> Loading required namespace: presidentSpeech\n",
    "### presidentSpeech는 계속 안깔린다.\n",
    "library(tidytext)\n",
    "library(presidentSpeech)"
   ]
  },
  {
   "cell_type": "code",
   "execution_count": 6,
   "metadata": {},
   "outputs": [
    {
     "name": "stdout",
     "output_type": "stream",
     "text": [
      "package 'remotes' successfully unpacked and MD5 sums checked\n",
      "\n",
      "The downloaded binary packages are in\n",
      "\tC:\\Users\\82102\\AppData\\Local\\Temp\\RtmpYP7GkV\\downloaded_packages\n"
     ]
    }
   ],
   "source": [
    "install.packages(\"remotes\", repos = \"https://cloud.r-project.org\")"
   ]
  },
  {
   "cell_type": "code",
   "execution_count": 8,
   "metadata": {},
   "outputs": [
    {
     "name": "stderr",
     "output_type": "stream",
     "text": [
      "Loading required namespace: RcppMeCab\n",
      "also installing the dependency 'RcppParallel'\n",
      "\n"
     ]
    },
    {
     "name": "stdout",
     "output_type": "stream",
     "text": [
      "package 'RcppParallel' successfully unpacked and MD5 sums checked\n",
      "package 'RcppMeCab' successfully unpacked and MD5 sums checked\n",
      "\n",
      "The downloaded binary packages are in\n",
      "\tC:\\Users\\82102\\AppData\\Local\\Temp\\RtmpYP7GkV\\downloaded_packages\n"
     ]
    },
    {
     "name": "stderr",
     "output_type": "stream",
     "text": [
      "Loading required namespace: RmecabKo\n"
     ]
    },
    {
     "name": "stdout",
     "output_type": "stream",
     "text": [
      "package 'RmecabKo' successfully unpacked and MD5 sums checked\n",
      "\n",
      "The downloaded binary packages are in\n",
      "\tC:\\Users\\82102\\AppData\\Local\\Temp\\RtmpYP7GkV\\downloaded_packages\n"
     ]
    }
   ],
   "source": [
    "if (!requireNamespace(\"RcppMeCab\")) {\n",
    "  install.packages(\"RcppMeCab\", repos = \"https://cloud.r-project.org\")\n",
    "}\n",
    "#> Loading required namespace: RcppMeCab\n",
    "if (!requireNamespace(\"RmecabKo\")) {\n",
    "  install.packages(\"RmecabKo\", repos = \"https://cloud.r-project.org\")\n",
    "}\n",
    "#> Loading required namespace: RmecabKo"
   ]
  },
  {
   "cell_type": "code",
   "execution_count": 13,
   "metadata": {},
   "outputs": [
    {
     "name": "stdout",
     "output_type": "stream",
     "text": [
      "Install mecab-ko-msvc...Install mecab-ko-dic-msvc..."
     ]
    }
   ],
   "source": [
    "RmecabKo::install_mecab(\"c:/mecab\")"
   ]
  },
  {
   "cell_type": "code",
   "execution_count": 14,
   "metadata": {},
   "outputs": [
    {
     "data": {
      "text/html": [
       "'한글 테스트 입니다.'"
      ],
      "text/latex": [
       "'한글 테스트 입니다.'"
      ],
      "text/markdown": [
       "'한글 테스트 입니다.'"
      ],
      "text/plain": [
       "[1] \"한글 테스트 입니다.\""
      ]
     },
     "metadata": {},
     "output_type": "display_data"
    }
   ],
   "source": [
    "test"
   ]
  },
  {
   "cell_type": "code",
   "execution_count": 15,
   "metadata": {},
   "outputs": [],
   "source": [
    "library(RcppMeCab)"
   ]
  },
  {
   "cell_type": "code",
   "execution_count": 16,
   "metadata": {},
   "outputs": [
    {
     "name": "stderr",
     "output_type": "stream",
     "text": [
      "ERROR while rich displaying an object: Error in nchar(x): invalid multibyte string, element 1\n",
      "\n",
      "Traceback:\n",
      "1. FUN(X[[i]], ...)\n",
      "2. tryCatch(withCallingHandlers({\n",
      " .     if (!mime %in% names(repr::mime2repr)) \n",
      " .         stop(\"No repr_* for mimetype \", mime, \" in repr::mime2repr\")\n",
      " .     rpr <- repr::mime2repr[[mime]](obj)\n",
      " .     if (is.null(rpr)) \n",
      " .         return(NULL)\n",
      " .     prepare_content(is.raw(rpr), rpr)\n",
      " . }, error = error_handler), error = outer_handler)\n",
      "3. tryCatchList(expr, classes, parentenv, handlers)\n",
      "4. tryCatchOne(expr, names, parentenv, handlers[[1L]])\n",
      "5. doTryCatch(return(expr), name, parentenv, handler)\n",
      "6. withCallingHandlers({\n",
      " .     if (!mime %in% names(repr::mime2repr)) \n",
      " .         stop(\"No repr_* for mimetype \", mime, \" in repr::mime2repr\")\n",
      " .     rpr <- repr::mime2repr[[mime]](obj)\n",
      " .     if (is.null(rpr)) \n",
      " .         return(NULL)\n",
      " .     prepare_content(is.raw(rpr), rpr)\n",
      " . }, error = error_handler)\n",
      "7. repr::mime2repr[[mime]](obj)\n",
      "8. repr_html.list(obj)\n",
      "9. repr_list_generic(obj, \"html\", \"\\t<li>%s</li>\\n\", \"\\t<dt>$%s</dt>\\n\\t\\t<dd>%s</dd>\\n\", \n",
      " .     \"<strong>$%s</strong> = %s\", \"<ol>\\n%s</ol>\\n\", \"<dl>\\n%s</dl>\\n\", \n",
      " .     numeric_item = \"\\t<dt>[[%s]]</dt>\\n\\t\\t<dd>%s</dd>\\n\", escape_fun = html_escape)\n",
      "10. sapply(nms, as_name_or_na, USE.NAMES = FALSE)\n",
      "11. lapply(X = X, FUN = FUN, ...)\n",
      "12. FUN(X[[i]], ...)\n",
      "ERROR while rich displaying an object: Error in nchar(x): invalid multibyte string, element 1\n",
      "\n",
      "Traceback:\n",
      "1. FUN(X[[i]], ...)\n",
      "2. tryCatch(withCallingHandlers({\n",
      " .     if (!mime %in% names(repr::mime2repr)) \n",
      " .         stop(\"No repr_* for mimetype \", mime, \" in repr::mime2repr\")\n",
      " .     rpr <- repr::mime2repr[[mime]](obj)\n",
      " .     if (is.null(rpr)) \n",
      " .         return(NULL)\n",
      " .     prepare_content(is.raw(rpr), rpr)\n",
      " . }, error = error_handler), error = outer_handler)\n",
      "3. tryCatchList(expr, classes, parentenv, handlers)\n",
      "4. tryCatchOne(expr, names, parentenv, handlers[[1L]])\n",
      "5. doTryCatch(return(expr), name, parentenv, handler)\n",
      "6. withCallingHandlers({\n",
      " .     if (!mime %in% names(repr::mime2repr)) \n",
      " .         stop(\"No repr_* for mimetype \", mime, \" in repr::mime2repr\")\n",
      " .     rpr <- repr::mime2repr[[mime]](obj)\n",
      " .     if (is.null(rpr)) \n",
      " .         return(NULL)\n",
      " .     prepare_content(is.raw(rpr), rpr)\n",
      " . }, error = error_handler)\n",
      "7. repr::mime2repr[[mime]](obj)\n",
      "8. repr_markdown.list(obj)\n",
      "9. repr_list_generic(obj, \"markdown\", \"%s. %s\\n\", \"$%s\\n:   %s\\n\", \n",
      " .     \"**$%s** = %s\", \"%s\\n\\n\", numeric_item = \"[[%s]]\\n:   %s\\n\", \n",
      " .     item_uses_numbers = TRUE, escape_fun = html_escape)\n",
      "10. sapply(nms, as_name_or_na, USE.NAMES = FALSE)\n",
      "11. lapply(X = X, FUN = FUN, ...)\n",
      "12. FUN(X[[i]], ...)\n",
      "ERROR while rich displaying an object: Error in nchar(x): invalid multibyte string, element 1\n",
      "\n",
      "Traceback:\n",
      "1. FUN(X[[i]], ...)\n",
      "2. tryCatch(withCallingHandlers({\n",
      " .     if (!mime %in% names(repr::mime2repr)) \n",
      " .         stop(\"No repr_* for mimetype \", mime, \" in repr::mime2repr\")\n",
      " .     rpr <- repr::mime2repr[[mime]](obj)\n",
      " .     if (is.null(rpr)) \n",
      " .         return(NULL)\n",
      " .     prepare_content(is.raw(rpr), rpr)\n",
      " . }, error = error_handler), error = outer_handler)\n",
      "3. tryCatchList(expr, classes, parentenv, handlers)\n",
      "4. tryCatchOne(expr, names, parentenv, handlers[[1L]])\n",
      "5. doTryCatch(return(expr), name, parentenv, handler)\n",
      "6. withCallingHandlers({\n",
      " .     if (!mime %in% names(repr::mime2repr)) \n",
      " .         stop(\"No repr_* for mimetype \", mime, \" in repr::mime2repr\")\n",
      " .     rpr <- repr::mime2repr[[mime]](obj)\n",
      " .     if (is.null(rpr)) \n",
      " .         return(NULL)\n",
      " .     prepare_content(is.raw(rpr), rpr)\n",
      " . }, error = error_handler)\n",
      "7. repr::mime2repr[[mime]](obj)\n",
      "8. repr_latex.list(obj)\n",
      "9. repr_list_generic(obj, \"latex\", \"\\\\item %s\\n\", \"\\\\item[\\\\$%s] %s\\n\", \n",
      " .     \"\\\\textbf{\\\\$%s} = %s\", enum_wrap = \"\\\\begin{enumerate}\\n%s\\\\end{enumerate}\\n\", \n",
      " .     named_wrap = \"\\\\begin{description}\\n%s\\\\end{description}\\n\", \n",
      " .     numeric_item = \"\\\\item[{[[%s]]}] %s\\n\", escape_fun = latex_escape)\n",
      "10. sapply(nms, as_name_or_na, USE.NAMES = FALSE)\n",
      "11. lapply(X = X, FUN = FUN, ...)\n",
      "12. FUN(X[[i]], ...)\n"
     ]
    },
    {
     "data": {
      "text/plain": [
       "$`<c7><U+0471><db> <c5><U+05FD><U+00BA><U+01AE> <c0><U+0534><U+03F4><d9>.`\n",
       "[1] \"<c7><d1>/SL\" \"<U+00B1><db> /SY\" \"<c5><d7>/SL\" \"<U+00BD><U+00BA>/SY\" \"<U+01AE>/SL\"\n",
       "[6] \"<c0><U+0534>/SY\" \"<U+03F4>/SL\" \"<d9>./SY\"   \n"
      ]
     },
     "metadata": {},
     "output_type": "display_data"
    }
   ],
   "source": [
    "pos(test)"
   ]
  },
  {
   "cell_type": "code",
   "execution_count": 17,
   "metadata": {},
   "outputs": [
    {
     "name": "stderr",
     "output_type": "stream",
     "text": [
      "also installing the dependency 'tibble'\n",
      "\n"
     ]
    },
    {
     "name": "stdout",
     "output_type": "stream",
     "text": [
      "package 'tibble' successfully unpacked and MD5 sums checked\n"
     ]
    },
    {
     "name": "stderr",
     "output_type": "stream",
     "text": [
      "Warning message:\n",
      "\"cannot remove prior installation of package 'tibble'\"Warning message in file.copy(savedcopy, lib, recursive = TRUE):\n",
      "\"C:\\Users\\82102\\AppData\\Local\\Continuum\\anaconda3\\envs\\r_tutorial\\Lib\\R\\library\\00LOCK\\tibble\\libs\\x64\\tibble.dll를 C:\\Users\\82102\\AppData\\Local\\Continuum\\anaconda3\\envs\\r_tutorial\\Lib\\R\\library\\tibble\\libs\\x64\\tibble.dll로 복사하는데 문제가 발생했습니다: Permission denied\"Warning message:\n",
      "\"restored 'tibble'\""
     ]
    },
    {
     "name": "stdout",
     "output_type": "stream",
     "text": [
      "package 'dplyr' successfully unpacked and MD5 sums checked\n",
      "\n",
      "The downloaded binary packages are in\n",
      "\tC:\\Users\\82102\\AppData\\Local\\Temp\\RtmpYP7GkV\\downloaded_packages\n"
     ]
    }
   ],
   "source": [
    "install.packages('dplyr')"
   ]
  },
  {
   "cell_type": "code",
   "execution_count": 18,
   "metadata": {},
   "outputs": [
    {
     "name": "stderr",
     "output_type": "stream",
     "text": [
      "Warning message:\n",
      "\"package 'dplyr' was built under R version 3.6.2\"\n",
      "Attaching package: 'dplyr'\n",
      "\n",
      "The following objects are masked from 'package:stats':\n",
      "\n",
      "    filter, lag\n",
      "\n",
      "The following objects are masked from 'package:base':\n",
      "\n",
      "    intersect, setdiff, setequal, union\n",
      "\n"
     ]
    }
   ],
   "source": [
    "library('dplyr')"
   ]
  },
  {
   "cell_type": "code",
   "execution_count": 19,
   "metadata": {},
   "outputs": [
    {
     "name": "stdout",
     "output_type": "stream",
     "text": [
      "package 'stringr' successfully unpacked and MD5 sums checked\n",
      "\n",
      "The downloaded binary packages are in\n",
      "\tC:\\Users\\82102\\AppData\\Local\\Temp\\RtmpYP7GkV\\downloaded_packages\n"
     ]
    }
   ],
   "source": [
    "install.packages('stringr')"
   ]
  },
  {
   "cell_type": "code",
   "execution_count": 20,
   "metadata": {},
   "outputs": [
    {
     "name": "stderr",
     "output_type": "stream",
     "text": [
      "Warning message:\n",
      "\"package 'stringr' was built under R version 3.6.2\""
     ]
    }
   ],
   "source": [
    "library('stringr')"
   ]
  },
  {
   "cell_type": "code",
   "execution_count": 21,
   "metadata": {},
   "outputs": [
    {
     "name": "stderr",
     "output_type": "stream",
     "text": [
      "Warning message in read.table(file = file, header = header, sep = sep, quote = quote, :\n",
      "\"입력 커넥션 '../EZmeta30.csv'에서 유효하지 않은 입력을 찾았습니다\"Warning message in read.table(file = file, header = header, sep = sep, quote = quote, :\n",
      "\"'../EZmeta30.csv'에서 readTableHeader에 의하여 발견된 완성되지 않은 마지막 라인입니다\""
     ]
    },
    {
     "data": {
      "text/html": [
       "<table>\n",
       "<thead><tr><th scope=col>X.</th></tr></thead>\n",
       "<tbody>\n",
       "</tbody>\n",
       "</table>\n"
      ],
      "text/latex": [
       "\\begin{tabular}{r|l}\n",
       " X.\\\\\n",
       "\\hline\n",
       "\\end{tabular}\n"
      ],
      "text/markdown": [
       "\n",
       "| X. |\n",
       "|---|\n",
       "\n"
      ],
      "text/plain": [
       "     X."
      ]
     },
     "metadata": {},
     "output_type": "display_data"
    }
   ],
   "source": [
    "keyData <- read.csv(\"../EZmeta30.csv\",sep=\",\",header=TRUE,stringsAsFactors=FALSE,fileEncoding=\"UTF-8\")\n",
    "head(keyData)"
   ]
  },
  {
   "cell_type": "code",
   "execution_count": 3,
   "metadata": {},
   "outputs": [
    {
     "data": {
      "text/html": [
       "<table>\n",
       "<thead><tr><th scope=col>pair_id</th><th scope=col>표제어.kword_id</th><th scope=col>표제어</th><th scope=col>의미번호</th><th scope=col>표제어.난이도</th><th scope=col>relation2</th><th scope=col>관련어.word_id</th><th scope=col>관련어</th><th scope=col>의미번호.1</th><th scope=col>관련어.난이도</th></tr></thead>\n",
       "<tbody>\n",
       "\t<tr><td>1          </td><td>2184       </td><td>가톨릭     </td><td>2          </td><td>하         </td><td>비슷한말   </td><td> 97798     </td><td>서학       </td><td>2          </td><td>중         </td></tr>\n",
       "\t<tr><td>2          </td><td>2186       </td><td>가톨릭-교  </td><td>1          </td><td>중         </td><td>비슷한말   </td><td> 16023     </td><td>공교       </td><td>2          </td><td>상         </td></tr>\n",
       "\t<tr><td>3          </td><td>2186       </td><td>가톨릭-교  </td><td>1          </td><td>중         </td><td>비슷한말   </td><td>182393     </td><td>천주-학    </td><td>1          </td><td>중         </td></tr>\n",
       "\t<tr><td>4          </td><td>2186       </td><td>가톨릭-교  </td><td>1          </td><td>중         </td><td>비슷한말   </td><td>176596     </td><td>진교       </td><td>2          </td><td>상         </td></tr>\n",
       "\t<tr><td>5          </td><td>2188       </td><td>가톨릭-교도</td><td>1          </td><td>중         </td><td>비슷한말   </td><td>182378     </td><td>천좍-쟁이  </td><td>1          </td><td>상         </td></tr>\n",
       "\t<tr><td>6          </td><td>2190       </td><td>가톨릭교-회</td><td>1          </td><td>중         </td><td>비슷한말   </td><td>182379     </td><td>천주^공교회</td><td>1          </td><td>상         </td></tr>\n",
       "</tbody>\n",
       "</table>\n"
      ],
      "text/latex": [
       "\\begin{tabular}{r|llllllllll}\n",
       " pair\\_id & 표제어.kword\\_id & 표제어 & 의미번호 & 표제어.난이도 & relation2 & 관련어.word\\_id & 관련어 & 의미번호.1 & 관련어.난이도\\\\\n",
       "\\hline\n",
       "\t 1           & 2184        & 가톨릭      & 2           & 하          & 비슷한말    &  97798      & 서학        & 2           & 중         \\\\\n",
       "\t 2           & 2186        & 가톨릭-교   & 1           & 중          & 비슷한말    &  16023      & 공교        & 2           & 상         \\\\\n",
       "\t 3           & 2186        & 가톨릭-교   & 1           & 중          & 비슷한말    & 182393      & 천주-학     & 1           & 중         \\\\\n",
       "\t 4           & 2186        & 가톨릭-교   & 1           & 중          & 비슷한말    & 176596      & 진교        & 2           & 상         \\\\\n",
       "\t 5           & 2188        & 가톨릭-교도 & 1           & 중          & 비슷한말    & 182378      & 천좍-쟁이   & 1           & 상         \\\\\n",
       "\t 6                             & 2190                          & 가톨릭교-회                   & 1                             & 중                            & 비슷한말                      & 182379                        & 천주\\textasciicircum{}공교회 & 1                             & 상                           \\\\\n",
       "\\end{tabular}\n"
      ],
      "text/markdown": [
       "\n",
       "| pair_id | 표제어.kword_id | 표제어 | 의미번호 | 표제어.난이도 | relation2 | 관련어.word_id | 관련어 | 의미번호.1 | 관련어.난이도 |\n",
       "|---|---|---|---|---|---|---|---|---|---|\n",
       "| 1           | 2184        | 가톨릭      | 2           | 하          | 비슷한말    |  97798      | 서학        | 2           | 중          |\n",
       "| 2           | 2186        | 가톨릭-교   | 1           | 중          | 비슷한말    |  16023      | 공교        | 2           | 상          |\n",
       "| 3           | 2186        | 가톨릭-교   | 1           | 중          | 비슷한말    | 182393      | 천주-학     | 1           | 중          |\n",
       "| 4           | 2186        | 가톨릭-교   | 1           | 중          | 비슷한말    | 176596      | 진교        | 2           | 상          |\n",
       "| 5           | 2188        | 가톨릭-교도 | 1           | 중          | 비슷한말    | 182378      | 천좍-쟁이   | 1           | 상          |\n",
       "| 6           | 2190        | 가톨릭교-회 | 1           | 중          | 비슷한말    | 182379      | 천주^공교회 | 1           | 상          |\n",
       "\n"
      ],
      "text/plain": [
       "  pair_id 표제어.kword_id 표제어      의미번호 표제어.난이도 relation2\n",
       "1 1       2184            가톨릭      2        하            비슷한말 \n",
       "2 2       2186            가톨릭-교   1        중            비슷한말 \n",
       "3 3       2186            가톨릭-교   1        중            비슷한말 \n",
       "4 4       2186            가톨릭-교   1        중            비슷한말 \n",
       "5 5       2188            가톨릭-교도 1        중            비슷한말 \n",
       "6 6       2190            가톨릭교-회 1        중            비슷한말 \n",
       "  관련어.word_id 관련어      의미번호.1 관련어.난이도\n",
       "1  97798         서학        2          중           \n",
       "2  16023         공교        2          상           \n",
       "3 182393         천주-학     1          중           \n",
       "4 176596         진교        2          상           \n",
       "5 182378         천좍-쟁이   1          상           \n",
       "6 182379         천주^공교회 1          상           "
      ]
     },
     "metadata": {},
     "output_type": "display_data"
    }
   ],
   "source": [
    "keyData <- read.csv(\"../EZmeta31.csv\",sep=\",\",header=TRUE,stringsAsFactors=FALSE,fileEncoding=\"UTF-8\")\n",
    "head(keyData)"
   ]
  },
  {
   "cell_type": "code",
   "execution_count": 1,
   "metadata": {},
   "outputs": [
    {
     "name": "stderr",
     "output_type": "stream",
     "text": [
      "\n",
      "Attaching package: 'dplyr'\n",
      "\n",
      "The following objects are masked from 'package:stats':\n",
      "\n",
      "    filter, lag\n",
      "\n",
      "The following objects are masked from 'package:base':\n",
      "\n",
      "    intersect, setdiff, setequal, union\n",
      "\n"
     ]
    }
   ],
   "source": [
    "library('dplyr')"
   ]
  },
  {
   "cell_type": "code",
   "execution_count": 2,
   "metadata": {},
   "outputs": [
    {
     "name": "stderr",
     "output_type": "stream",
     "text": [
      "Loading required namespace: KoNLP\n",
      "also installing the dependencies 'zeallot', 'ini', 'bit', 'vctrs', 'clisymbols', 'fs', 'gh', 'rprojroot', 'rex', 'crosstalk', 'xopen', 'brew', 'commonmark', 'purrr', 'praise', 'rlang', 'bit64', 'blob', 'DBI', 'memoise', 'usethis', 'covr', 'desc', 'DT', 'ellipsis', 'git2r', 'pkgbuild', 'pkgload', 'rcmdcheck', 'remotes', 'roxygen2', 'rversions', 'sessioninfo', 'testthat', 'rJava', 'hash', 'tau', 'Sejong', 'RSQLite', 'devtools'\n",
      "\n"
     ]
    },
    {
     "name": "stdout",
     "output_type": "stream",
     "text": [
      "\n",
      "  There is a binary version available but the source version is later:\n",
      "    binary   source needs_compilation\n",
      "bit 1.1-14 1.1-15.1              TRUE\n",
      "\n",
      "  Binaries will be installed\n",
      "package 'zeallot' successfully unpacked and MD5 sums checked\n",
      "package 'ini' successfully unpacked and MD5 sums checked\n",
      "package 'bit' successfully unpacked and MD5 sums checked\n",
      "package 'vctrs' successfully unpacked and MD5 sums checked\n",
      "package 'clisymbols' successfully unpacked and MD5 sums checked\n",
      "package 'fs' successfully unpacked and MD5 sums checked\n",
      "package 'gh' successfully unpacked and MD5 sums checked\n",
      "package 'rprojroot' successfully unpacked and MD5 sums checked\n",
      "package 'rex' successfully unpacked and MD5 sums checked\n",
      "package 'crosstalk' successfully unpacked and MD5 sums checked\n",
      "package 'xopen' successfully unpacked and MD5 sums checked\n",
      "package 'brew' successfully unpacked and MD5 sums checked\n",
      "package 'commonmark' successfully unpacked and MD5 sums checked\n",
      "package 'purrr' successfully unpacked and MD5 sums checked\n"
     ]
    },
    {
     "name": "stderr",
     "output_type": "stream",
     "text": [
      "Warning message:\n",
      "\"cannot remove prior installation of package 'purrr'\"Warning message in file.copy(savedcopy, lib, recursive = TRUE):\n",
      "\"C:\\Users\\82102\\AppData\\Local\\Continuum\\anaconda3\\Lib\\R\\library\\00LOCK\\purrr\\libs\\x64\\purrr.dll를 C:\\Users\\82102\\AppData\\Local\\Continuum\\anaconda3\\Lib\\R\\library\\purrr\\libs\\x64\\purrr.dll로 복사하는데 문제가 발생했습니다: Permission denied\"Warning message:\n",
      "\"restored 'purrr'\""
     ]
    },
    {
     "name": "stdout",
     "output_type": "stream",
     "text": [
      "package 'praise' successfully unpacked and MD5 sums checked\n",
      "package 'rlang' successfully unpacked and MD5 sums checked\n"
     ]
    },
    {
     "name": "stderr",
     "output_type": "stream",
     "text": [
      "Warning message:\n",
      "\"cannot remove prior installation of package 'rlang'\"Warning message in file.copy(savedcopy, lib, recursive = TRUE):\n",
      "\"C:\\Users\\82102\\AppData\\Local\\Continuum\\anaconda3\\Lib\\R\\library\\00LOCK\\rlang\\libs\\x64\\rlang.dll를 C:\\Users\\82102\\AppData\\Local\\Continuum\\anaconda3\\Lib\\R\\library\\rlang\\libs\\x64\\rlang.dll로 복사하는데 문제가 발생했습니다: Permission denied\"Warning message:\n",
      "\"restored 'rlang'\""
     ]
    },
    {
     "name": "stdout",
     "output_type": "stream",
     "text": [
      "package 'bit64' successfully unpacked and MD5 sums checked\n",
      "package 'blob' successfully unpacked and MD5 sums checked\n",
      "package 'DBI' successfully unpacked and MD5 sums checked\n",
      "package 'memoise' successfully unpacked and MD5 sums checked\n",
      "package 'usethis' successfully unpacked and MD5 sums checked\n",
      "package 'covr' successfully unpacked and MD5 sums checked\n",
      "package 'desc' successfully unpacked and MD5 sums checked\n",
      "package 'DT' successfully unpacked and MD5 sums checked\n",
      "package 'ellipsis' successfully unpacked and MD5 sums checked\n",
      "package 'git2r' successfully unpacked and MD5 sums checked\n",
      "package 'pkgbuild' successfully unpacked and MD5 sums checked\n",
      "package 'pkgload' successfully unpacked and MD5 sums checked\n",
      "package 'rcmdcheck' successfully unpacked and MD5 sums checked\n",
      "package 'remotes' successfully unpacked and MD5 sums checked\n",
      "package 'roxygen2' successfully unpacked and MD5 sums checked\n",
      "package 'rversions' successfully unpacked and MD5 sums checked\n",
      "package 'sessioninfo' successfully unpacked and MD5 sums checked\n",
      "package 'testthat' successfully unpacked and MD5 sums checked\n",
      "package 'rJava' successfully unpacked and MD5 sums checked\n",
      "package 'hash' successfully unpacked and MD5 sums checked\n",
      "package 'tau' successfully unpacked and MD5 sums checked\n",
      "package 'Sejong' successfully unpacked and MD5 sums checked\n",
      "package 'RSQLite' successfully unpacked and MD5 sums checked\n",
      "package 'devtools' successfully unpacked and MD5 sums checked\n",
      "package 'KoNLP' successfully unpacked and MD5 sums checked\n",
      "\n",
      "The downloaded binary packages are in\n",
      "\tC:\\Users\\82102\\AppData\\Local\\Temp\\RtmpGAM7Io\\downloaded_packages\n"
     ]
    },
    {
     "name": "stderr",
     "output_type": "stream",
     "text": [
      "Warning message:\n",
      "\"package 'KoNLP' was built under R version 3.6.2\""
     ]
    },
    {
     "ename": "ERROR",
     "evalue": "Error: package or namespace load failed for 'KoNLP' in loadNamespace(i, c(lib.loc, .libPaths()), versionCheck = vI[[i]]):\n namespace 'rlang' 0.3.4 is already loaded, but >= 0.4.0 is required\n",
     "output_type": "error",
     "traceback": [
      "Error: package or namespace load failed for 'KoNLP' in loadNamespace(i, c(lib.loc, .libPaths()), versionCheck = vI[[i]]):\n namespace 'rlang' 0.3.4 is already loaded, but >= 0.4.0 is required\nTraceback:\n",
      "1. library(KoNLP)",
      "2. tryCatch({\n .     attr(package, \"LibPath\") <- which.lib.loc\n .     ns <- loadNamespace(package, lib.loc)\n .     env <- attachNamespace(ns, pos = pos, deps, exclude, include.only)\n . }, error = function(e) {\n .     P <- if (!is.null(cc <- conditionCall(e))) \n .         paste(\" in\", deparse(cc)[1L])\n .     else \"\"\n .     msg <- gettextf(\"package or namespace load failed for %s%s:\\n %s\", \n .         sQuote(package), P, conditionMessage(e))\n .     if (logical.return) \n .         message(paste(\"Error:\", msg), domain = NA)\n .     else stop(msg, call. = FALSE, domain = NA)\n . })",
      "3. tryCatchList(expr, classes, parentenv, handlers)",
      "4. tryCatchOne(expr, names, parentenv, handlers[[1L]])",
      "5. value[[3L]](cond)",
      "6. stop(msg, call. = FALSE, domain = NA)"
     ]
    }
   ],
   "source": [
    "if (!requireNamespace(\"KoNLP\")) {\n",
    "  install.packages(\"KoNLP\", repos = \"https://cloud.r-project.org\")\n",
    "}\n",
    "#> Loading required namespace: KoNLP\n",
    "library(KoNLP)\n",
    "#> Checking user defined dictionary!\n",
    "\n",
    "test <- \"한글 테스트 입니다.\"\n",
    "# 아래 결과가 나와야 합니다.\n",
    "extractNoun(test)"
   ]
  },
  {
   "cell_type": "code",
   "execution_count": 1,
   "metadata": {},
   "outputs": [],
   "source": [
    "update.packages ('rlang')"
   ]
  },
  {
   "cell_type": "code",
   "execution_count": 2,
   "metadata": {},
   "outputs": [],
   "source": [
    "library(help=\"rlang\")"
   ]
  },
  {
   "cell_type": "code",
   "execution_count": 3,
   "metadata": {},
   "outputs": [],
   "source": [
    "library('rlang')"
   ]
  },
  {
   "cell_type": "code",
   "execution_count": 4,
   "metadata": {},
   "outputs": [
    {
     "data": {
      "text/plain": [
       "R version 3.6.1 (2019-07-05)\n",
       "Platform: x86_64-w64-mingw32/x64 (64-bit)\n",
       "Running under: Windows 10 x64 (build 18362)\n",
       "\n",
       "Matrix products: default\n",
       "\n",
       "locale:\n",
       "[1] LC_COLLATE=Korean_Korea.949  LC_CTYPE=Korean_Korea.949   \n",
       "[3] LC_MONETARY=Korean_Korea.949 LC_NUMERIC=C                \n",
       "[5] LC_TIME=Korean_Korea.949    \n",
       "\n",
       "attached base packages:\n",
       "character(0)\n",
       "\n",
       "other attached packages:\n",
       "[1] rlang_0.3.4\n",
       "\n",
       "loaded via a namespace (and not attached):\n",
       " [1] compiler_3.6.1  IRdisplay_0.7.0 graphics_3.6.1  pbdZMQ_0.3-3   \n",
       " [5] tools_3.6.1     htmltools_0.3.6 base64enc_0.1-3 utils_3.6.1    \n",
       " [9] grDevices_3.6.1 crayon_1.3.4    Rcpp_1.0.1      stats_3.6.1    \n",
       "[13] uuid_0.1-2      datasets_3.6.1  IRkernel_0.8.15 methods_3.6.1  \n",
       "[17] jsonlite_1.6    digest_0.6.18   repr_0.19.2     base_3.6.1     \n",
       "[21] evaluate_0.13  "
      ]
     },
     "metadata": {},
     "output_type": "display_data"
    }
   ],
   "source": [
    "sessionInfo('rlang')"
   ]
  },
  {
   "cell_type": "code",
   "execution_count": 7,
   "metadata": {},
   "outputs": [
    {
     "name": "stdout",
     "output_type": "stream",
     "text": [
      "package 'devtools' successfully unpacked and MD5 sums checked\n",
      "\n",
      "The downloaded binary packages are in\n",
      "\tC:\\Users\\82102\\AppData\\Local\\Temp\\Rtmp4MA2No\\downloaded_packages\n"
     ]
    }
   ],
   "source": [
    "install.packages('devtools')"
   ]
  },
  {
   "cell_type": "code",
   "execution_count": 9,
   "metadata": {},
   "outputs": [
    {
     "name": "stderr",
     "output_type": "stream",
     "text": [
      "Warning message:\n",
      "\"package 'devtools' was built under R version 3.6.2\""
     ]
    },
    {
     "ename": "ERROR",
     "evalue": "Error: package or namespace load failed for 'devtools':\n .onLoad failed in loadNamespace() for 'pkgload', details:\n  call: loadNamespace(i, c(lib.loc, .libPaths()), versionCheck = vI[[i]])\n  error: namespace 'rlang' 0.3.4 is already loaded, but >= 0.4.1 is required\n",
     "output_type": "error",
     "traceback": [
      "Error: package or namespace load failed for 'devtools':\n .onLoad failed in loadNamespace() for 'pkgload', details:\n  call: loadNamespace(i, c(lib.loc, .libPaths()), versionCheck = vI[[i]])\n  error: namespace 'rlang' 0.3.4 is already loaded, but >= 0.4.1 is required\nTraceback:\n",
      "1. library(devtools)",
      "2. tryCatch({\n .     attr(package, \"LibPath\") <- which.lib.loc\n .     ns <- loadNamespace(package, lib.loc)\n .     env <- attachNamespace(ns, pos = pos, deps, exclude, include.only)\n . }, error = function(e) {\n .     P <- if (!is.null(cc <- conditionCall(e))) \n .         paste(\" in\", deparse(cc)[1L])\n .     else \"\"\n .     msg <- gettextf(\"package or namespace load failed for %s%s:\\n %s\", \n .         sQuote(package), P, conditionMessage(e))\n .     if (logical.return) \n .         message(paste(\"Error:\", msg), domain = NA)\n .     else stop(msg, call. = FALSE, domain = NA)\n . })",
      "3. tryCatchList(expr, classes, parentenv, handlers)",
      "4. tryCatchOne(expr, names, parentenv, handlers[[1L]])",
      "5. value[[3L]](cond)",
      "6. stop(msg, call. = FALSE, domain = NA)"
     ]
    }
   ],
   "source": [
    "library(devtools)\n",
    "install_version(\"rlang\", version = \"0.4.0\")"
   ]
  },
  {
   "cell_type": "code",
   "execution_count": 10,
   "metadata": {},
   "outputs": [
    {
     "name": "stderr",
     "output_type": "stream",
     "text": [
      "Removing package from 'C:/Users/82102/AppData/Local/Continuum/anaconda3/Lib/R/library'\n",
      "(as 'lib' is unspecified)\n"
     ]
    }
   ],
   "source": [
    "remove.packages('rlang')"
   ]
  },
  {
   "cell_type": "code",
   "execution_count": 11,
   "metadata": {},
   "outputs": [],
   "source": [
    "library('rlang')"
   ]
  },
  {
   "cell_type": "code",
   "execution_count": 12,
   "metadata": {},
   "outputs": [
    {
     "name": "stderr",
     "output_type": "stream",
     "text": [
      "Warning message:\n",
      "\"package 'rlang' is in use and will not be installed\""
     ]
    }
   ],
   "source": [
    "install.packages('rlang')"
   ]
  },
  {
   "cell_type": "code",
   "execution_count": 13,
   "metadata": {},
   "outputs": [
    {
     "name": "stderr",
     "output_type": "stream",
     "text": [
      "Warning message in FUN(X[[i]], ...):\n",
      "\"DESCRIPTION file of package 'rlang' is missing or broken\""
     ]
    },
    {
     "ename": "ERROR",
     "evalue": "Error: $ operator is invalid for atomic vectors\n",
     "output_type": "error",
     "traceback": [
      "Error: $ operator is invalid for atomic vectors\nTraceback:\n",
      "1. sessionInfo(\"rlang\")",
      "2. sapply(pkgDesc, function(x) !is.null(x$Priority) && x$Priority == \n .     \"base\")",
      "3. lapply(X = X, FUN = FUN, ...)",
      "4. FUN(X[[i]], ...)"
     ]
    }
   ],
   "source": [
    "sessionInfo('rlang')"
   ]
  },
  {
   "cell_type": "code",
   "execution_count": 14,
   "metadata": {},
   "outputs": [
    {
     "name": "stderr",
     "output_type": "stream",
     "text": [
      "Loading required namespace: KoNLP\n"
     ]
    },
    {
     "name": "stdout",
     "output_type": "stream",
     "text": [
      "package 'KoNLP' successfully unpacked and MD5 sums checked\n",
      "\n",
      "The downloaded binary packages are in\n",
      "\tC:\\Users\\82102\\AppData\\Local\\Temp\\Rtmp4MA2No\\downloaded_packages\n"
     ]
    },
    {
     "name": "stderr",
     "output_type": "stream",
     "text": [
      "Warning message:\n",
      "\"package 'KoNLP' was built under R version 3.6.2\""
     ]
    },
    {
     "ename": "ERROR",
     "evalue": "Error: package or namespace load failed for 'KoNLP' in loadNamespace(i, c(lib.loc, .libPaths()), versionCheck = vI[[i]]):\n namespace 'rlang' 0.3.4 is already loaded, but >= 0.4.0 is required\n",
     "output_type": "error",
     "traceback": [
      "Error: package or namespace load failed for 'KoNLP' in loadNamespace(i, c(lib.loc, .libPaths()), versionCheck = vI[[i]]):\n namespace 'rlang' 0.3.4 is already loaded, but >= 0.4.0 is required\nTraceback:\n",
      "1. library(KoNLP)",
      "2. tryCatch({\n .     attr(package, \"LibPath\") <- which.lib.loc\n .     ns <- loadNamespace(package, lib.loc)\n .     env <- attachNamespace(ns, pos = pos, deps, exclude, include.only)\n . }, error = function(e) {\n .     P <- if (!is.null(cc <- conditionCall(e))) \n .         paste(\" in\", deparse(cc)[1L])\n .     else \"\"\n .     msg <- gettextf(\"package or namespace load failed for %s%s:\\n %s\", \n .         sQuote(package), P, conditionMessage(e))\n .     if (logical.return) \n .         message(paste(\"Error:\", msg), domain = NA)\n .     else stop(msg, call. = FALSE, domain = NA)\n . })",
      "3. tryCatchList(expr, classes, parentenv, handlers)",
      "4. tryCatchOne(expr, names, parentenv, handlers[[1L]])",
      "5. value[[3L]](cond)",
      "6. stop(msg, call. = FALSE, domain = NA)"
     ]
    }
   ],
   "source": [
    "if (!requireNamespace(\"KoNLP\")) {\n",
    "  install.packages(\"KoNLP\", repos = \"https://cloud.r-project.org\")\n",
    "}\n",
    "#> Loading required namespace: KoNLP\n",
    "library(KoNLP)\n",
    "#> Checking user defined dictionary!\n",
    "\n",
    "test <- \"한글 테스트 입니다.\"\n",
    "# 아래 결과가 나와야 합니다.\n",
    "extractNoun(test)"
   ]
  },
  {
   "cell_type": "code",
   "execution_count": 15,
   "metadata": {},
   "outputs": [
    {
     "name": "stderr",
     "output_type": "stream",
     "text": [
      "Warning message:\n",
      "\"package 'KoNLP' was built under R version 3.6.2\""
     ]
    },
    {
     "ename": "ERROR",
     "evalue": "Error: package or namespace load failed for 'KoNLP' in loadNamespace(i, c(lib.loc, .libPaths()), versionCheck = vI[[i]]):\n namespace 'rlang' 0.3.4 is already loaded, but >= 0.4.0 is required\n",
     "output_type": "error",
     "traceback": [
      "Error: package or namespace load failed for 'KoNLP' in loadNamespace(i, c(lib.loc, .libPaths()), versionCheck = vI[[i]]):\n namespace 'rlang' 0.3.4 is already loaded, but >= 0.4.0 is required\nTraceback:\n",
      "1. library(KoNLP)",
      "2. tryCatch({\n .     attr(package, \"LibPath\") <- which.lib.loc\n .     ns <- loadNamespace(package, lib.loc)\n .     env <- attachNamespace(ns, pos = pos, deps, exclude, include.only)\n . }, error = function(e) {\n .     P <- if (!is.null(cc <- conditionCall(e))) \n .         paste(\" in\", deparse(cc)[1L])\n .     else \"\"\n .     msg <- gettextf(\"package or namespace load failed for %s%s:\\n %s\", \n .         sQuote(package), P, conditionMessage(e))\n .     if (logical.return) \n .         message(paste(\"Error:\", msg), domain = NA)\n .     else stop(msg, call. = FALSE, domain = NA)\n . })",
      "3. tryCatchList(expr, classes, parentenv, handlers)",
      "4. tryCatchOne(expr, names, parentenv, handlers[[1L]])",
      "5. value[[3L]](cond)",
      "6. stop(msg, call. = FALSE, domain = NA)"
     ]
    }
   ],
   "source": [
    "library(KoNLP)"
   ]
  },
  {
   "cell_type": "code",
   "execution_count": 16,
   "metadata": {},
   "outputs": [
    {
     "ename": "ERROR",
     "evalue": "Error in extractNoun(test): 함수 \"extractNoun\"를 찾을 수 없습니다\n",
     "output_type": "error",
     "traceback": [
      "Error in extractNoun(test): 함수 \"extractNoun\"를 찾을 수 없습니다\nTraceback:\n"
     ]
    }
   ],
   "source": [
    "test <- \"한글 테스트 입니다.\"\n",
    "# 아래 결과가 나와야 합니다.\n",
    "extractNoun(test)"
   ]
  },
  {
   "cell_type": "code",
   "execution_count": 2,
   "metadata": {},
   "outputs": [
    {
     "name": "stdout",
     "output_type": "stream",
     "text": [
      "package 'rlang' successfully unpacked and MD5 sums checked\n",
      "\n",
      "The downloaded binary packages are in\n",
      "\tC:\\Users\\82102\\AppData\\Local\\Temp\\RtmpiwJDDT\\downloaded_packages\n"
     ]
    }
   ],
   "source": [
    "install.packages('rlang')"
   ]
  },
  {
   "cell_type": "code",
   "execution_count": 3,
   "metadata": {},
   "outputs": [
    {
     "name": "stdout",
     "output_type": "stream",
     "text": [
      "package 'dplyr' successfully unpacked and MD5 sums checked\n",
      "\n",
      "The downloaded binary packages are in\n",
      "\tC:\\Users\\82102\\AppData\\Local\\Temp\\RtmpiwJDDT\\downloaded_packages\n"
     ]
    }
   ],
   "source": [
    "install.packages('dplyr')"
   ]
  },
  {
   "cell_type": "code",
   "execution_count": 27,
   "metadata": {},
   "outputs": [],
   "source": [
    "library('dplyr')"
   ]
  },
  {
   "cell_type": "code",
   "execution_count": 28,
   "metadata": {},
   "outputs": [],
   "source": [
    "library('KoNLP')"
   ]
  },
  {
   "cell_type": "code",
   "execution_count": 29,
   "metadata": {},
   "outputs": [],
   "source": [
    "library('RcppMeCab')"
   ]
  },
  {
   "cell_type": "code",
   "execution_count": 30,
   "metadata": {},
   "outputs": [
    {
     "name": "stderr",
     "output_type": "stream",
     "text": [
      "Warning message:\n",
      "\"package 'RcppMeCab' is in use and will not be installed\""
     ]
    }
   ],
   "source": [
    "install.packages('RcppMeCab')"
   ]
  },
  {
   "cell_type": "code",
   "execution_count": 8,
   "metadata": {},
   "outputs": [
    {
     "name": "stdout",
     "output_type": "stream",
     "text": [
      "package 'RmecabKo' successfully unpacked and MD5 sums checked\n",
      "\n",
      "The downloaded binary packages are in\n",
      "\tC:\\Users\\82102\\AppData\\Local\\Temp\\RtmpiwJDDT\\downloaded_packages\n"
     ]
    }
   ],
   "source": [
    "install.packages('RmecabKo',repos='https://cloud.r-project.org')"
   ]
  },
  {
   "cell_type": "code",
   "execution_count": 31,
   "metadata": {},
   "outputs": [],
   "source": [
    "library('RmecabKo')"
   ]
  },
  {
   "cell_type": "code",
   "execution_count": 11,
   "metadata": {},
   "outputs": [
    {
     "name": "stderr",
     "output_type": "stream",
     "text": [
      "Warning message:\n",
      "\"Missing column names filled in: 'X1' [1]\"Parsed with column specification:\n",
      "cols(\n",
      "  X1 = col_double(),\n",
      "  word_id = col_double(),\n",
      "  의미어 = col_character(),\n",
      "  표제어 = col_character(),\n",
      "  의미번호 = col_double(),\n",
      "  뜻풀이 = col_character(),\n",
      "  품사 = col_character(),\n",
      "  난이도 = col_character()\n",
      ")\n"
     ]
    },
    {
     "ename": "ERROR",
     "evalue": "Error in View(dict): 'View()' not yet supported in the Jupyter R kernel\n",
     "output_type": "error",
     "traceback": [
      "Error in View(dict): 'View()' not yet supported in the Jupyter R kernel\nTraceback:\n",
      "1. View(dict)",
      "2. stop(sQuote(\"View()\"), \" not yet supported in the Jupyter R kernel\")"
     ]
    }
   ],
   "source": [
    "library('readr')\n",
    "dict <- read_csv(\"../DICT.csv\", locale = locale())\n",
    "View(dict)"
   ]
  },
  {
   "cell_type": "code",
   "execution_count": 12,
   "metadata": {},
   "outputs": [
    {
     "data": {
      "text/html": [
       "<table>\n",
       "<thead><tr><th scope=col>X1</th><th scope=col>word_id</th><th scope=col>의미어</th><th scope=col>표제어</th><th scope=col>의미번호</th><th scope=col>뜻풀이</th><th scope=col>품사</th><th scope=col>난이도</th></tr></thead>\n",
       "<tbody>\n",
       "\t<tr><td>1                                                                                                                                                                                                                                                                                                                                  </td><td>1                                                                                                                                                                                                                                                                                                                                  </td><td>ㄱ001                                                                                                                                                                                                                                                                                                                              </td><td>ㄱ                                                                                                                                                                                                                                                                                                                                 </td><td>1                                                                                                                                                                                                                                                                                                                                  </td><td>한글 자모의 첫째 글자. 기역이라 이르며, ‘가’에서와 같이 초성으로, ‘역’에서와 같이 종성으로 쓰인다. 목젖으로 콧길을 막고 혀뿌리를 높여 연구개를 막았다가 뗄 때 나는 무성음이다. 초성일 때는 무성이나 모음 사이에서는 유성음이 되며, 종성일 때는 혀뿌리를 떼지 않고 발음한다. 혀뿌리가 목구멍을 막는 모양을 본떠서 만든 글자이다.</td><td>명사                                                                                                                                                                                                                                                                                                                               </td><td>상                                                                                                                                                                                                                                                                                                                                 </td></tr>\n",
       "\t<tr><td>2                                                                                                                                                                                                                                                                                                                                  </td><td>2                                                                                                                                                                                                                                                                                                                                  </td><td>ㄱㄴㄷ순001                                                                                                                                                                                                                                                                                                                        </td><td>ㄱㄴㄷ-순                                                                                                                                                                                                                                                                                                                          </td><td>1                                                                                                                                                                                                                                                                                                                                  </td><td>한글의 ‘ㄱ, ㄴ, ㄷ……’ 차례로 매기는 순서.                                                                                                                                                                                                                                                                                      </td><td>명사                                                                                                                                                                                                                                                                                                                               </td><td>상                                                                                                                                                                                                                                                                                                                                 </td></tr>\n",
       "\t<tr><td>3                                                                                                                                                                                                                                                                                                                                  </td><td>3                                                                                                                                                                                                                                                                                                                                  </td><td>ㄱㄴㄷ차례001                                                                                                                                                                                                                                                                                                                      </td><td>ㄱㄴㄷ-차례                                                                                                                                                                                                                                                                                                                        </td><td>1                                                                                                                                                                                                                                                                                                                                  </td><td>한글의 ‘ㄱ, ㄴ, ㄷ……’ 차례로 매기는 순서.                                                                                                                                                                                                                                                                                      </td><td>명사                                                                                                                                                                                                                                                                                                                               </td><td>상                                                                                                                                                                                                                                                                                                                                 </td></tr>\n",
       "\t<tr><td>4                                                                                                                                                                                                                                                                                                                                  </td><td>4                                                                                                                                                                                                                                                                                                                                  </td><td>ㄱㄴ순001                                                                                                                                                                                                                                                                                                                          </td><td>ㄱㄴ-순                                                                                                                                                                                                                                                                                                                            </td><td>1                                                                                                                                                                                                                                                                                                                                  </td><td>한글의 ‘ㄱ, ㄴ, ㄷ……’ 차례로 매기는 순서.                                                                                                                                                                                                                                                                                      </td><td>명사                                                                                                                                                                                                                                                                                                                               </td><td>상                                                                                                                                                                                                                                                                                                                                 </td></tr>\n",
       "\t<tr><td>5                                                                                                                                                                                                                                                                                                                                  </td><td>5                                                                                                                                                                                                                                                                                                                                  </td><td>ㄱㄴ차례001                                                                                                                                                                                                                                                                                                                        </td><td>ㄱㄴ-차례                                                                                                                                                                                                                                                                                                                          </td><td>1                                                                                                                                                                                                                                                                                                                                  </td><td>한글의 ‘ㄱ, ㄴ, ㄷ……’ 차례로 매기는 순서.                                                                                                                                                                                                                                                                                      </td><td>명사                                                                                                                                                                                                                                                                                                                               </td><td>상                                                                                                                                                                                                                                                                                                                                 </td></tr>\n",
       "\t<tr><td>6                                                                                                                                                                                                                                                                                                                                  </td><td>6                                                                                                                                                                                                                                                                                                                                  </td><td>ㄱ자턱솔이음001                                                                                                                                                                                                                                                                                                                    </td><td>ㄱ자^턱솔이음                                                                                                                                                                                                                                                                                                                      </td><td>1                                                                                                                                                                                                                                                                                                                                  </td><td>나무나 돌을 ‘ㄱ’ 자 모양으로 턱이 지게 하여 만든 이음.                                                                                                                                                                                                                                                                           </td><td>품사 없음                                                                                                                                                                                                                                                                                                                          </td><td>상                                                                                                                                                                                                                                                                                                                                 </td></tr>\n",
       "</tbody>\n",
       "</table>\n"
      ],
      "text/latex": [
       "\\begin{tabular}{r|llllllll}\n",
       " X1 & word\\_id & 의미어 & 표제어 & 의미번호 & 뜻풀이 & 품사 & 난이도\\\\\n",
       "\\hline\n",
       "\t 1                                                                                                                                                                                                                                                                                                                                   & 1                                                                                                                                                                                                                                                                                                                                   & ㄱ001                                                                                                                                                                                                                                                                                                                               & ㄱ                                                                                                                                                                                                                                                                                                                                  & 1                                                                                                                                                                                                                                                                                                                                   & 한글 자모의 첫째 글자. 기역이라 이르며, ‘가’에서와 같이 초성으로, ‘역’에서와 같이 종성으로 쓰인다. 목젖으로 콧길을 막고 혀뿌리를 높여 연구개를 막았다가 뗄 때 나는 무성음이다. 초성일 때는 무성이나 모음 사이에서는 유성음이 되며, 종성일 때는 혀뿌리를 떼지 않고 발음한다. 혀뿌리가 목구멍을 막는 모양을 본떠서 만든 글자이다. & 명사                                                                                                                                                                                                                                                                                                                                & 상                                                                                                                                                                                                                                                                                                                                 \\\\\n",
       "\t 2                                                                                                                                                                                                                                                                                                                                   & 2                                                                                                                                                                                                                                                                                                                                   & ㄱㄴㄷ순001                                                                                                                                                                                                                                                                                                                         & ㄱㄴㄷ-순                                                                                                                                                                                                                                                                                                                           & 1                                                                                                                                                                                                                                                                                                                                   & 한글의 ‘ㄱ, ㄴ, ㄷ……’ 차례로 매기는 순서.                                                                                                                                                                                                                                                                                       & 명사                                                                                                                                                                                                                                                                                                                                & 상                                                                                                                                                                                                                                                                                                                                 \\\\\n",
       "\t 3                                                                                                                                                                                                                                                                                                                                   & 3                                                                                                                                                                                                                                                                                                                                   & ㄱㄴㄷ차례001                                                                                                                                                                                                                                                                                                                       & ㄱㄴㄷ-차례                                                                                                                                                                                                                                                                                                                         & 1                                                                                                                                                                                                                                                                                                                                   & 한글의 ‘ㄱ, ㄴ, ㄷ……’ 차례로 매기는 순서.                                                                                                                                                                                                                                                                                       & 명사                                                                                                                                                                                                                                                                                                                                & 상                                                                                                                                                                                                                                                                                                                                 \\\\\n",
       "\t 4                                                                                                                                                                                                                                                                                                                                   & 4                                                                                                                                                                                                                                                                                                                                   & ㄱㄴ순001                                                                                                                                                                                                                                                                                                                           & ㄱㄴ-순                                                                                                                                                                                                                                                                                                                             & 1                                                                                                                                                                                                                                                                                                                                   & 한글의 ‘ㄱ, ㄴ, ㄷ……’ 차례로 매기는 순서.                                                                                                                                                                                                                                                                                       & 명사                                                                                                                                                                                                                                                                                                                                & 상                                                                                                                                                                                                                                                                                                                                 \\\\\n",
       "\t 5                                                                                                                                                                                                                                                                                                                                   & 5                                                                                                                                                                                                                                                                                                                                   & ㄱㄴ차례001                                                                                                                                                                                                                                                                                                                         & ㄱㄴ-차례                                                                                                                                                                                                                                                                                                                           & 1                                                                                                                                                                                                                                                                                                                                   & 한글의 ‘ㄱ, ㄴ, ㄷ……’ 차례로 매기는 순서.                                                                                                                                                                                                                                                                                       & 명사                                                                                                                                                                                                                                                                                                                                & 상                                                                                                                                                                                                                                                                                                                                 \\\\\n",
       "\t 6                                                                                                                                                                                                                                                                                                                                   & 6                                                                                                                                                                                                                                                                                                                                   & ㄱ자턱솔이음001                                                                                                                                                                                                                                                                                                                     & ㄱ자\\textasciicircum{}턱솔이음                                                                                                                                                                                                                                                                                                     & 1                                                                                                                                                                                                                                                                                                                                   & 나무나 돌을 ‘ㄱ’ 자 모양으로 턱이 지게 하여 만든 이음.                                                                                                                                                                                                                                                                            & 품사 없음                                                                                                                                                                                                                                                                                                                           & 상                                                                                                                                                                                                                                                                                                                                 \\\\\n",
       "\\end{tabular}\n"
      ],
      "text/markdown": [
       "\n",
       "| X1 | word_id | 의미어 | 표제어 | 의미번호 | 뜻풀이 | 품사 | 난이도 |\n",
       "|---|---|---|---|---|---|---|---|\n",
       "| 1                                                                                                                                                                                                                                                                                                                                   | 1                                                                                                                                                                                                                                                                                                                                   | ㄱ001                                                                                                                                                                                                                                                                                                                               | ㄱ                                                                                                                                                                                                                                                                                                                                  | 1                                                                                                                                                                                                                                                                                                                                   | 한글 자모의 첫째 글자. 기역이라 이르며, ‘가’에서와 같이 초성으로, ‘역’에서와 같이 종성으로 쓰인다. 목젖으로 콧길을 막고 혀뿌리를 높여 연구개를 막았다가 뗄 때 나는 무성음이다. 초성일 때는 무성이나 모음 사이에서는 유성음이 되며, 종성일 때는 혀뿌리를 떼지 않고 발음한다. 혀뿌리가 목구멍을 막는 모양을 본떠서 만든 글자이다. | 명사                                                                                                                                                                                                                                                                                                                                | 상                                                                                                                                                                                                                                                                                                                                  |\n",
       "| 2                                                                                                                                                                                                                                                                                                                                   | 2                                                                                                                                                                                                                                                                                                                                   | ㄱㄴㄷ순001                                                                                                                                                                                                                                                                                                                         | ㄱㄴㄷ-순                                                                                                                                                                                                                                                                                                                           | 1                                                                                                                                                                                                                                                                                                                                   | 한글의 ‘ㄱ, ㄴ, ㄷ……’ 차례로 매기는 순서.                                                                                                                                                                                                                                                                                       | 명사                                                                                                                                                                                                                                                                                                                                | 상                                                                                                                                                                                                                                                                                                                                  |\n",
       "| 3                                                                                                                                                                                                                                                                                                                                   | 3                                                                                                                                                                                                                                                                                                                                   | ㄱㄴㄷ차례001                                                                                                                                                                                                                                                                                                                       | ㄱㄴㄷ-차례                                                                                                                                                                                                                                                                                                                         | 1                                                                                                                                                                                                                                                                                                                                   | 한글의 ‘ㄱ, ㄴ, ㄷ……’ 차례로 매기는 순서.                                                                                                                                                                                                                                                                                       | 명사                                                                                                                                                                                                                                                                                                                                | 상                                                                                                                                                                                                                                                                                                                                  |\n",
       "| 4                                                                                                                                                                                                                                                                                                                                   | 4                                                                                                                                                                                                                                                                                                                                   | ㄱㄴ순001                                                                                                                                                                                                                                                                                                                           | ㄱㄴ-순                                                                                                                                                                                                                                                                                                                             | 1                                                                                                                                                                                                                                                                                                                                   | 한글의 ‘ㄱ, ㄴ, ㄷ……’ 차례로 매기는 순서.                                                                                                                                                                                                                                                                                       | 명사                                                                                                                                                                                                                                                                                                                                | 상                                                                                                                                                                                                                                                                                                                                  |\n",
       "| 5                                                                                                                                                                                                                                                                                                                                   | 5                                                                                                                                                                                                                                                                                                                                   | ㄱㄴ차례001                                                                                                                                                                                                                                                                                                                         | ㄱㄴ-차례                                                                                                                                                                                                                                                                                                                           | 1                                                                                                                                                                                                                                                                                                                                   | 한글의 ‘ㄱ, ㄴ, ㄷ……’ 차례로 매기는 순서.                                                                                                                                                                                                                                                                                       | 명사                                                                                                                                                                                                                                                                                                                                | 상                                                                                                                                                                                                                                                                                                                                  |\n",
       "| 6                                                                                                                                                                                                                                                                                                                                   | 6                                                                                                                                                                                                                                                                                                                                   | ㄱ자턱솔이음001                                                                                                                                                                                                                                                                                                                     | ㄱ자^턱솔이음                                                                                                                                                                                                                                                                                                                       | 1                                                                                                                                                                                                                                                                                                                                   | 나무나 돌을 ‘ㄱ’ 자 모양으로 턱이 지게 하여 만든 이음.                                                                                                                                                                                                                                                                            | 품사 없음                                                                                                                                                                                                                                                                                                                           | 상                                                                                                                                                                                                                                                                                                                                  |\n",
       "\n"
      ],
      "text/plain": [
       "  X1 word_id 의미어          표제어        의미번호\n",
       "1 1  1       ㄱ001           ㄱ            1       \n",
       "2 2  2       ㄱㄴㄷ순001     ㄱㄴㄷ-순     1       \n",
       "3 3  3       ㄱㄴㄷ차례001   ㄱㄴㄷ-차례   1       \n",
       "4 4  4       ㄱㄴ순001       ㄱㄴ-순       1       \n",
       "5 5  5       ㄱㄴ차례001     ㄱㄴ-차례     1       \n",
       "6 6  6       ㄱ자턱솔이음001 ㄱ자^턱솔이음 1       \n",
       "  뜻풀이                                                                                                                                                                                                                                                                                                                             \n",
       "1 한글 자모의 첫째 글자. 기역이라 이르며, ‘가’에서와 같이 초성으로, ‘역’에서와 같이 종성으로 쓰인다. 목젖으로 콧길을 막고 혀뿌리를 높여 연구개를 막았다가 뗄 때 나는 무성음이다. 초성일 때는 무성이나 모음 사이에서는 유성음이 되며, 종성일 때는 혀뿌리를 떼지 않고 발음한다. 혀뿌리가 목구멍을 막는 모양을 본떠서 만든 글자이다.\n",
       "2 한글의 ‘ㄱ, ㄴ, ㄷ……’ 차례로 매기는 순서.                                                                                                                                                                                                                                                                                      \n",
       "3 한글의 ‘ㄱ, ㄴ, ㄷ……’ 차례로 매기는 순서.                                                                                                                                                                                                                                                                                      \n",
       "4 한글의 ‘ㄱ, ㄴ, ㄷ……’ 차례로 매기는 순서.                                                                                                                                                                                                                                                                                      \n",
       "5 한글의 ‘ㄱ, ㄴ, ㄷ……’ 차례로 매기는 순서.                                                                                                                                                                                                                                                                                      \n",
       "6 나무나 돌을 ‘ㄱ’ 자 모양으로 턱이 지게 하여 만든 이음.                                                                                                                                                                                                                                                                           \n",
       "  품사      난이도\n",
       "1 명사      상    \n",
       "2 명사      상    \n",
       "3 명사      상    \n",
       "4 명사      상    \n",
       "5 명사      상    \n",
       "6 품사 없음 상    "
      ]
     },
     "metadata": {},
     "output_type": "display_data"
    }
   ],
   "source": [
    "head(dict)"
   ]
  },
  {
   "cell_type": "code",
   "execution_count": 32,
   "metadata": {},
   "outputs": [
    {
     "data": {
      "text/html": [
       "219251"
      ],
      "text/latex": [
       "219251"
      ],
      "text/markdown": [
       "219251"
      ],
      "text/plain": [
       "[1] 219251"
      ]
     },
     "metadata": {},
     "output_type": "display_data"
    }
   ],
   "source": [
    "nrow(dict)"
   ]
  },
  {
   "cell_type": "code",
   "execution_count": 15,
   "metadata": {},
   "outputs": [
    {
     "name": "stderr",
     "output_type": "stream",
     "text": [
      "Warning message:\n",
      "\"Duplicated column names deduplicated: '의미번호' => '의미번호_1' [9]\"Parsed with column specification:\n",
      "cols(\n",
      "  pair_id = col_double(),\n",
      "  `표제어 kword_id` = col_double(),\n",
      "  표제어 = col_character(),\n",
      "  의미번호 = col_character(),\n",
      "  `표제어 난이도` = col_character(),\n",
      "  relation2 = col_character(),\n",
      "  `관련어 word_id` = col_double(),\n",
      "  관련어 = col_character(),\n",
      "  의미번호_1 = col_character(),\n",
      "  `관련어 난이도` = col_character()\n",
      ")\n"
     ]
    }
   ],
   "source": [
    "keyDict <- read_csv(\"../EZmeta30.csv\", locale = locale())"
   ]
  },
  {
   "cell_type": "code",
   "execution_count": 16,
   "metadata": {},
   "outputs": [
    {
     "data": {
      "text/html": [
       "<table>\n",
       "<thead><tr><th scope=col>pair_id</th><th scope=col>표제어 kword_id</th><th scope=col>표제어</th><th scope=col>의미번호</th><th scope=col>표제어 난이도</th><th scope=col>relation2</th><th scope=col>관련어 word_id</th><th scope=col>관련어</th><th scope=col>의미번호_1</th><th scope=col>관련어 난이도</th></tr></thead>\n",
       "<tbody>\n",
       "\t<tr><td>1          </td><td>2184       </td><td>가톨릭     </td><td>002        </td><td>하         </td><td>비슷한말   </td><td> 97798     </td><td>서학       </td><td>002        </td><td>중         </td></tr>\n",
       "\t<tr><td>2          </td><td>2186       </td><td>가톨릭-교  </td><td>001        </td><td>중         </td><td>비슷한말   </td><td> 16023     </td><td>공교       </td><td>002        </td><td>상         </td></tr>\n",
       "\t<tr><td>3          </td><td>2186       </td><td>가톨릭-교  </td><td>001        </td><td>중         </td><td>비슷한말   </td><td>182393     </td><td>천주-학    </td><td>001        </td><td>중         </td></tr>\n",
       "\t<tr><td>4          </td><td>2186       </td><td>가톨릭-교  </td><td>001        </td><td>중         </td><td>비슷한말   </td><td>176596     </td><td>진교       </td><td>002        </td><td>상         </td></tr>\n",
       "\t<tr><td>5          </td><td>2188       </td><td>가톨릭-교도</td><td>001        </td><td>중         </td><td>비슷한말   </td><td>182378     </td><td>천좍-쟁이  </td><td>001        </td><td>상         </td></tr>\n",
       "\t<tr><td>6          </td><td>2190       </td><td>가톨릭교-회</td><td>001        </td><td>중         </td><td>비슷한말   </td><td>182379     </td><td>천주^공교회</td><td>001        </td><td>상         </td></tr>\n",
       "</tbody>\n",
       "</table>\n"
      ],
      "text/latex": [
       "\\begin{tabular}{r|llllllllll}\n",
       " pair\\_id & 표제어 kword\\_id & 표제어 & 의미번호 & 표제어 난이도 & relation2 & 관련어 word\\_id & 관련어 & 의미번호\\_1 & 관련어 난이도\\\\\n",
       "\\hline\n",
       "\t 1           & 2184        & 가톨릭      & 002         & 하          & 비슷한말    &  97798      & 서학        & 002         & 중         \\\\\n",
       "\t 2           & 2186        & 가톨릭-교   & 001         & 중          & 비슷한말    &  16023      & 공교        & 002         & 상         \\\\\n",
       "\t 3           & 2186        & 가톨릭-교   & 001         & 중          & 비슷한말    & 182393      & 천주-학     & 001         & 중         \\\\\n",
       "\t 4           & 2186        & 가톨릭-교   & 001         & 중          & 비슷한말    & 176596      & 진교        & 002         & 상         \\\\\n",
       "\t 5           & 2188        & 가톨릭-교도 & 001         & 중          & 비슷한말    & 182378      & 천좍-쟁이   & 001         & 상         \\\\\n",
       "\t 6                             & 2190                          & 가톨릭교-회                   & 001                           & 중                            & 비슷한말                      & 182379                        & 천주\\textasciicircum{}공교회 & 001                           & 상                           \\\\\n",
       "\\end{tabular}\n"
      ],
      "text/markdown": [
       "\n",
       "| pair_id | 표제어 kword_id | 표제어 | 의미번호 | 표제어 난이도 | relation2 | 관련어 word_id | 관련어 | 의미번호_1 | 관련어 난이도 |\n",
       "|---|---|---|---|---|---|---|---|---|---|\n",
       "| 1           | 2184        | 가톨릭      | 002         | 하          | 비슷한말    |  97798      | 서학        | 002         | 중          |\n",
       "| 2           | 2186        | 가톨릭-교   | 001         | 중          | 비슷한말    |  16023      | 공교        | 002         | 상          |\n",
       "| 3           | 2186        | 가톨릭-교   | 001         | 중          | 비슷한말    | 182393      | 천주-학     | 001         | 중          |\n",
       "| 4           | 2186        | 가톨릭-교   | 001         | 중          | 비슷한말    | 176596      | 진교        | 002         | 상          |\n",
       "| 5           | 2188        | 가톨릭-교도 | 001         | 중          | 비슷한말    | 182378      | 천좍-쟁이   | 001         | 상          |\n",
       "| 6           | 2190        | 가톨릭교-회 | 001         | 중          | 비슷한말    | 182379      | 천주^공교회 | 001         | 상          |\n",
       "\n"
      ],
      "text/plain": [
       "  pair_id 표제어 kword_id 표제어      의미번호 표제어 난이도 relation2\n",
       "1 1       2184            가톨릭      002      하            비슷한말 \n",
       "2 2       2186            가톨릭-교   001      중            비슷한말 \n",
       "3 3       2186            가톨릭-교   001      중            비슷한말 \n",
       "4 4       2186            가톨릭-교   001      중            비슷한말 \n",
       "5 5       2188            가톨릭-교도 001      중            비슷한말 \n",
       "6 6       2190            가톨릭교-회 001      중            비슷한말 \n",
       "  관련어 word_id 관련어      의미번호_1 관련어 난이도\n",
       "1  97798         서학        002        중           \n",
       "2  16023         공교        002        상           \n",
       "3 182393         천주-학     001        중           \n",
       "4 176596         진교        002        상           \n",
       "5 182378         천좍-쟁이   001        상           \n",
       "6 182379         천주^공교회 001        상           "
      ]
     },
     "metadata": {},
     "output_type": "display_data"
    }
   ],
   "source": [
    "head(keyDict)"
   ]
  },
  {
   "cell_type": "code",
   "execution_count": 17,
   "metadata": {},
   "outputs": [
    {
     "data": {
      "text/html": [
       "329696"
      ],
      "text/latex": [
       "329696"
      ],
      "text/markdown": [
       "329696"
      ],
      "text/plain": [
       "[1] 329696"
      ]
     },
     "metadata": {},
     "output_type": "display_data"
    }
   ],
   "source": [
    "nrow(keyDict)"
   ]
  },
  {
   "cell_type": "code",
   "execution_count": 21,
   "metadata": {},
   "outputs": [
    {
     "data": {
      "text/html": [
       "<table>\n",
       "<thead><tr><th scope=col>X1</th><th scope=col>word_id</th><th scope=col>의미어</th><th scope=col>표제어</th><th scope=col>의미번호</th><th scope=col>뜻풀이</th><th scope=col>품사</th><th scope=col>난이도</th></tr></thead>\n",
       "<tbody>\n",
       "\t<tr><td>2183                                                                                                                     </td><td>2183                                                                                                                     </td><td>가톨릭001                                                                                                                </td><td>가톨릭                                                                                                                   </td><td>1                                                                                                                        </td><td>가톨릭교회나 가톨릭교도를 이르는 말.                                                                                     </td><td>명사                                                                                                                     </td><td>하                                                                                                                       </td></tr>\n",
       "\t<tr><td>2184                                                                                                                     </td><td>2184                                                                                                                     </td><td>가톨릭002                                                                                                                </td><td>가톨릭                                                                                                                   </td><td>2                                                                                                                        </td><td>그리스도의 정통 교의(敎義)를 믿는 종교. 교황을 수장으로 하는 로마 가톨릭교와 교황을 승인하지 않는 그리스 정교회로 나눈다.</td><td>명사                                                                                                                     </td><td>하                                                                                                                       </td></tr>\n",
       "\t<tr><td>2185                                                                                                                     </td><td>2185                                                                                                                     </td><td>가톨릭003                                                                                                                </td><td>가톨릭                                                                                                                   </td><td>3                                                                                                                        </td><td>가톨릭교를 그리스 정교회와 구별하여 이르는 말.                                                                           </td><td>명사                                                                                                                     </td><td>하                                                                                                                       </td></tr>\n",
       "</tbody>\n",
       "</table>\n"
      ],
      "text/latex": [
       "\\begin{tabular}{r|llllllll}\n",
       " X1 & word\\_id & 의미어 & 표제어 & 의미번호 & 뜻풀이 & 품사 & 난이도\\\\\n",
       "\\hline\n",
       "\t 2183                                                                                                                      & 2183                                                                                                                      & 가톨릭001                                                                                                                 & 가톨릭                                                                                                                    & 1                                                                                                                         & 가톨릭교회나 가톨릭교도를 이르는 말.                                                                                      & 명사                                                                                                                      & 하                                                                                                                       \\\\\n",
       "\t 2184                                                                                                                      & 2184                                                                                                                      & 가톨릭002                                                                                                                 & 가톨릭                                                                                                                    & 2                                                                                                                         & 그리스도의 정통 교의(敎義)를 믿는 종교. 교황을 수장으로 하는 로마 가톨릭교와 교황을 승인하지 않는 그리스 정교회로 나눈다. & 명사                                                                                                                      & 하                                                                                                                       \\\\\n",
       "\t 2185                                                                                                                      & 2185                                                                                                                      & 가톨릭003                                                                                                                 & 가톨릭                                                                                                                    & 3                                                                                                                         & 가톨릭교를 그리스 정교회와 구별하여 이르는 말.                                                                            & 명사                                                                                                                      & 하                                                                                                                       \\\\\n",
       "\\end{tabular}\n"
      ],
      "text/markdown": [
       "\n",
       "| X1 | word_id | 의미어 | 표제어 | 의미번호 | 뜻풀이 | 품사 | 난이도 |\n",
       "|---|---|---|---|---|---|---|---|\n",
       "| 2183                                                                                                                      | 2183                                                                                                                      | 가톨릭001                                                                                                                 | 가톨릭                                                                                                                    | 1                                                                                                                         | 가톨릭교회나 가톨릭교도를 이르는 말.                                                                                      | 명사                                                                                                                      | 하                                                                                                                        |\n",
       "| 2184                                                                                                                      | 2184                                                                                                                      | 가톨릭002                                                                                                                 | 가톨릭                                                                                                                    | 2                                                                                                                         | 그리스도의 정통 교의(敎義)를 믿는 종교. 교황을 수장으로 하는 로마 가톨릭교와 교황을 승인하지 않는 그리스 정교회로 나눈다. | 명사                                                                                                                      | 하                                                                                                                        |\n",
       "| 2185                                                                                                                      | 2185                                                                                                                      | 가톨릭003                                                                                                                 | 가톨릭                                                                                                                    | 3                                                                                                                         | 가톨릭교를 그리스 정교회와 구별하여 이르는 말.                                                                            | 명사                                                                                                                      | 하                                                                                                                        |\n",
       "\n"
      ],
      "text/plain": [
       "  X1   word_id 의미어    표제어 의미번호\n",
       "1 2183 2183    가톨릭001 가톨릭 1       \n",
       "2 2184 2184    가톨릭002 가톨릭 2       \n",
       "3 2185 2185    가톨릭003 가톨릭 3       \n",
       "  뜻풀이                                                                                                                   \n",
       "1 가톨릭교회나 가톨릭교도를 이르는 말.                                                                                     \n",
       "2 그리스도의 정통 교의(敎義)를 믿는 종교. 교황을 수장으로 하는 로마 가톨릭교와 교황을 승인하지 않는 그리스 정교회로 나눈다.\n",
       "3 가톨릭교를 그리스 정교회와 구별하여 이르는 말.                                                                           \n",
       "  품사 난이도\n",
       "1 명사 하    \n",
       "2 명사 하    \n",
       "3 명사 하    "
      ]
     },
     "metadata": {},
     "output_type": "display_data"
    }
   ],
   "source": [
    "filter(dict,표제어==\"가톨릭\")"
   ]
  },
  {
   "cell_type": "code",
   "execution_count": 33,
   "metadata": {},
   "outputs": [],
   "source": [
    "library('plyr')"
   ]
  },
  {
   "cell_type": "code",
   "execution_count": 22,
   "metadata": {},
   "outputs": [
    {
     "ename": "ERROR",
     "evalue": "Error in parse(text = x, srcfile = src): <text>:1:80: 예기치 않은 '='입니다\n1: joinData <- left_join(dict,keyDict,by=c('word_id'='표제어 kword_id' && '의미어'=\n                                                                                   ^\n",
     "output_type": "error",
     "traceback": [
      "Error in parse(text = x, srcfile = src): <text>:1:80: 예기치 않은 '='입니다\n1: joinData <- left_join(dict,keyDict,by=c('word_id'='표제어 kword_id' && '의미어'=\n                                                                                   ^\nTraceback:\n"
     ]
    }
   ],
   "source": [
    "joinData <- left_join(dict,keyDict,by=c('word_id'='표제어 kword_id'))"
   ]
  },
  {
   "cell_type": "code",
   "execution_count": 23,
   "metadata": {},
   "outputs": [
    {
     "data": {
      "text/html": [
       "<table>\n",
       "<thead><tr><th scope=col>X1</th><th scope=col>word_id</th><th scope=col>의미어</th><th scope=col>표제어.x</th><th scope=col>의미번호.x</th><th scope=col>뜻풀이</th><th scope=col>품사</th><th scope=col>난이도</th><th scope=col>pair_id</th><th scope=col>표제어.y</th><th scope=col>의미번호.y</th><th scope=col>표제어 난이도</th><th scope=col>relation2</th><th scope=col>관련어 word_id</th><th scope=col>관련어</th><th scope=col>의미번호_1</th><th scope=col>관련어 난이도</th></tr></thead>\n",
       "<tbody>\n",
       "\t<tr><td>1                                                                                                                                                                                                                                                                                                                                  </td><td>1                                                                                                                                                                                                                                                                                                                                  </td><td>ㄱ001                                                                                                                                                                                                                                                                                                                              </td><td>ㄱ                                                                                                                                                                                                                                                                                                                                 </td><td>1                                                                                                                                                                                                                                                                                                                                  </td><td>한글 자모의 첫째 글자. 기역이라 이르며, ‘가’에서와 같이 초성으로, ‘역’에서와 같이 종성으로 쓰인다. 목젖으로 콧길을 막고 혀뿌리를 높여 연구개를 막았다가 뗄 때 나는 무성음이다. 초성일 때는 무성이나 모음 사이에서는 유성음이 되며, 종성일 때는 혀뿌리를 떼지 않고 발음한다. 혀뿌리가 목구멍을 막는 모양을 본떠서 만든 글자이다.</td><td>명사                                                                                                                                                                                                                                                                                                                               </td><td>상                                                                                                                                                                                                                                                                                                                                 </td><td> 68214                                                                                                                                                                                                                                                                                                                             </td><td>ㄱ                                                                                                                                                                                                                                                                                                                                 </td><td>001                                                                                                                                                                                                                                                                                                                                </td><td>상                                                                                                                                                                                                                                                                                                                                 </td><td>상위어                                                                                                                                                                                                                                                                                                                             </td><td>154772                                                                                                                                                                                                                                                                                                                             </td><td>자음-자                                                                                                                                                                                                                                                                                                                            </td><td>001                                                                                                                                                                                                                                                                                                                                </td><td>중                                                                                                                                                                                                                                                                                                                                 </td></tr>\n",
       "\t<tr><td>2                                                                                                                                                                                                                                                                                                                                  </td><td>2                                                                                                                                                                                                                                                                                                                                  </td><td>ㄱㄴㄷ순001                                                                                                                                                                                                                                                                                                                        </td><td>ㄱㄴㄷ-순                                                                                                                                                                                                                                                                                                                          </td><td>1                                                                                                                                                                                                                                                                                                                                  </td><td>한글의 ‘ㄱ, ㄴ, ㄷ……’ 차례로 매기는 순서.                                                                                                                                                                                                                                                                                      </td><td>명사                                                                                                                                                                                                                                                                                                                               </td><td>상                                                                                                                                                                                                                                                                                                                                 </td><td>187742                                                                                                                                                                                                                                                                                                                             </td><td>ㄱㄴㄷ-순                                                                                                                                                                                                                                                                                                                          </td><td>001                                                                                                                                                                                                                                                                                                                                </td><td>상                                                                                                                                                                                                                                                                                                                                 </td><td>상위어                                                                                                                                                                                                                                                                                                                             </td><td>108946                                                                                                                                                                                                                                                                                                                             </td><td>순서                                                                                                                                                                                                                                                                                                                               </td><td>001                                                                                                                                                                                                                                                                                                                                </td><td>하                                                                                                                                                                                                                                                                                                                                 </td></tr>\n",
       "\t<tr><td>3                                                                                                                                                                                                                                                                                                                                  </td><td>3                                                                                                                                                                                                                                                                                                                                  </td><td>ㄱㄴㄷ차례001                                                                                                                                                                                                                                                                                                                      </td><td>ㄱㄴㄷ-차례                                                                                                                                                                                                                                                                                                                        </td><td>1                                                                                                                                                                                                                                                                                                                                  </td><td>한글의 ‘ㄱ, ㄴ, ㄷ……’ 차례로 매기는 순서.                                                                                                                                                                                                                                                                                      </td><td>명사                                                                                                                                                                                                                                                                                                                               </td><td>상                                                                                                                                                                                                                                                                                                                                 </td><td>136783                                                                                                                                                                                                                                                                                                                             </td><td>ㄱㄴㄷ-차례                                                                                                                                                                                                                                                                                                                        </td><td>001                                                                                                                                                                                                                                                                                                                                </td><td>상                                                                                                                                                                                                                                                                                                                                 </td><td>비슷한말                                                                                                                                                                                                                                                                                                                           </td><td>     4                                                                                                                                                                                                                                                                                                                             </td><td>ㄱㄴ-순                                                                                                                                                                                                                                                                                                                            </td><td>001                                                                                                                                                                                                                                                                                                                                </td><td>상                                                                                                                                                                                                                                                                                                                                 </td></tr>\n",
       "\t<tr><td>3                                                                                                                                                                                                                                                                                                                                  </td><td>3                                                                                                                                                                                                                                                                                                                                  </td><td>ㄱㄴㄷ차례001                                                                                                                                                                                                                                                                                                                      </td><td>ㄱㄴㄷ-차례                                                                                                                                                                                                                                                                                                                        </td><td>1                                                                                                                                                                                                                                                                                                                                  </td><td>한글의 ‘ㄱ, ㄴ, ㄷ……’ 차례로 매기는 순서.                                                                                                                                                                                                                                                                                      </td><td>명사                                                                                                                                                                                                                                                                                                                               </td><td>상                                                                                                                                                                                                                                                                                                                                 </td><td>174004                                                                                                                                                                                                                                                                                                                             </td><td>ㄱㄴㄷ-차례                                                                                                                                                                                                                                                                                                                        </td><td>001                                                                                                                                                                                                                                                                                                                                </td><td>상                                                                                                                                                                                                                                                                                                                                 </td><td>비슷한말                                                                                                                                                                                                                                                                                                                           </td><td>   266                                                                                                                                                                                                                                                                                                                             </td><td>가나다-차례                                                                                                                                                                                                                                                                                                                        </td><td>001                                                                                                                                                                                                                                                                                                                                </td><td>중                                                                                                                                                                                                                                                                                                                                 </td></tr>\n",
       "\t<tr><td>3                                                                                                                                                                                                                                                                                                                                  </td><td>3                                                                                                                                                                                                                                                                                                                                  </td><td>ㄱㄴㄷ차례001                                                                                                                                                                                                                                                                                                                      </td><td>ㄱㄴㄷ-차례                                                                                                                                                                                                                                                                                                                        </td><td>1                                                                                                                                                                                                                                                                                                                                  </td><td>한글의 ‘ㄱ, ㄴ, ㄷ……’ 차례로 매기는 순서.                                                                                                                                                                                                                                                                                      </td><td>명사                                                                                                                                                                                                                                                                                                                               </td><td>상                                                                                                                                                                                                                                                                                                                                 </td><td>187743                                                                                                                                                                                                                                                                                                                             </td><td>ㄱㄴㄷ-차례                                                                                                                                                                                                                                                                                                                        </td><td>001                                                                                                                                                                                                                                                                                                                                </td><td>상                                                                                                                                                                                                                                                                                                                                 </td><td>상위어                                                                                                                                                                                                                                                                                                                             </td><td>108946                                                                                                                                                                                                                                                                                                                             </td><td>순서                                                                                                                                                                                                                                                                                                                               </td><td>001                                                                                                                                                                                                                                                                                                                                </td><td>하                                                                                                                                                                                                                                                                                                                                 </td></tr>\n",
       "\t<tr><td>4                                                                                                                                                                                                                                                                                                                                  </td><td>4                                                                                                                                                                                                                                                                                                                                  </td><td>ㄱㄴ순001                                                                                                                                                                                                                                                                                                                          </td><td>ㄱㄴ-순                                                                                                                                                                                                                                                                                                                            </td><td>1                                                                                                                                                                                                                                                                                                                                  </td><td>한글의 ‘ㄱ, ㄴ, ㄷ……’ 차례로 매기는 순서.                                                                                                                                                                                                                                                                                      </td><td>명사                                                                                                                                                                                                                                                                                                                               </td><td>상                                                                                                                                                                                                                                                                                                                                 </td><td>136781                                                                                                                                                                                                                                                                                                                             </td><td>ㄱㄴ-순                                                                                                                                                                                                                                                                                                                            </td><td>001                                                                                                                                                                                                                                                                                                                                </td><td>상                                                                                                                                                                                                                                                                                                                                 </td><td>비슷한말                                                                                                                                                                                                                                                                                                                           </td><td> 28848                                                                                                                                                                                                                                                                                                                             </td><td>기역니은-순                                                                                                                                                                                                                                                                                                                        </td><td>001                                                                                                                                                                                                                                                                                                                                </td><td>중                                                                                                                                                                                                                                                                                                                                 </td></tr>\n",
       "</tbody>\n",
       "</table>\n"
      ],
      "text/latex": [
       "\\begin{tabular}{r|lllllllllllllllll}\n",
       " X1 & word\\_id & 의미어 & 표제어.x & 의미번호.x & 뜻풀이 & 품사 & 난이도 & pair\\_id & 표제어.y & 의미번호.y & 표제어 난이도 & relation2 & 관련어 word\\_id & 관련어 & 의미번호\\_1 & 관련어 난이도\\\\\n",
       "\\hline\n",
       "\t 1                                                                                                                                                                                                                                                                                                                                   & 1                                                                                                                                                                                                                                                                                                                                   & ㄱ001                                                                                                                                                                                                                                                                                                                               & ㄱ                                                                                                                                                                                                                                                                                                                                  & 1                                                                                                                                                                                                                                                                                                                                   & 한글 자모의 첫째 글자. 기역이라 이르며, ‘가’에서와 같이 초성으로, ‘역’에서와 같이 종성으로 쓰인다. 목젖으로 콧길을 막고 혀뿌리를 높여 연구개를 막았다가 뗄 때 나는 무성음이다. 초성일 때는 무성이나 모음 사이에서는 유성음이 되며, 종성일 때는 혀뿌리를 떼지 않고 발음한다. 혀뿌리가 목구멍을 막는 모양을 본떠서 만든 글자이다. & 명사                                                                                                                                                                                                                                                                                                                                & 상                                                                                                                                                                                                                                                                                                                                  &  68214                                                                                                                                                                                                                                                                                                                              & ㄱ                                                                                                                                                                                                                                                                                                                                  & 001                                                                                                                                                                                                                                                                                                                                 & 상                                                                                                                                                                                                                                                                                                                                  & 상위어                                                                                                                                                                                                                                                                                                                              & 154772                                                                                                                                                                                                                                                                                                                              & 자음-자                                                                                                                                                                                                                                                                                                                             & 001                                                                                                                                                                                                                                                                                                                                 & 중                                                                                                                                                                                                                                                                                                                                 \\\\\n",
       "\t 2                                                                                                                                                                                                                                                                                                                                   & 2                                                                                                                                                                                                                                                                                                                                   & ㄱㄴㄷ순001                                                                                                                                                                                                                                                                                                                         & ㄱㄴㄷ-순                                                                                                                                                                                                                                                                                                                           & 1                                                                                                                                                                                                                                                                                                                                   & 한글의 ‘ㄱ, ㄴ, ㄷ……’ 차례로 매기는 순서.                                                                                                                                                                                                                                                                                       & 명사                                                                                                                                                                                                                                                                                                                                & 상                                                                                                                                                                                                                                                                                                                                  & 187742                                                                                                                                                                                                                                                                                                                              & ㄱㄴㄷ-순                                                                                                                                                                                                                                                                                                                           & 001                                                                                                                                                                                                                                                                                                                                 & 상                                                                                                                                                                                                                                                                                                                                  & 상위어                                                                                                                                                                                                                                                                                                                              & 108946                                                                                                                                                                                                                                                                                                                              & 순서                                                                                                                                                                                                                                                                                                                                & 001                                                                                                                                                                                                                                                                                                                                 & 하                                                                                                                                                                                                                                                                                                                                 \\\\\n",
       "\t 3                                                                                                                                                                                                                                                                                                                                   & 3                                                                                                                                                                                                                                                                                                                                   & ㄱㄴㄷ차례001                                                                                                                                                                                                                                                                                                                       & ㄱㄴㄷ-차례                                                                                                                                                                                                                                                                                                                         & 1                                                                                                                                                                                                                                                                                                                                   & 한글의 ‘ㄱ, ㄴ, ㄷ……’ 차례로 매기는 순서.                                                                                                                                                                                                                                                                                       & 명사                                                                                                                                                                                                                                                                                                                                & 상                                                                                                                                                                                                                                                                                                                                  & 136783                                                                                                                                                                                                                                                                                                                              & ㄱㄴㄷ-차례                                                                                                                                                                                                                                                                                                                         & 001                                                                                                                                                                                                                                                                                                                                 & 상                                                                                                                                                                                                                                                                                                                                  & 비슷한말                                                                                                                                                                                                                                                                                                                            &      4                                                                                                                                                                                                                                                                                                                              & ㄱㄴ-순                                                                                                                                                                                                                                                                                                                             & 001                                                                                                                                                                                                                                                                                                                                 & 상                                                                                                                                                                                                                                                                                                                                 \\\\\n",
       "\t 3                                                                                                                                                                                                                                                                                                                                   & 3                                                                                                                                                                                                                                                                                                                                   & ㄱㄴㄷ차례001                                                                                                                                                                                                                                                                                                                       & ㄱㄴㄷ-차례                                                                                                                                                                                                                                                                                                                         & 1                                                                                                                                                                                                                                                                                                                                   & 한글의 ‘ㄱ, ㄴ, ㄷ……’ 차례로 매기는 순서.                                                                                                                                                                                                                                                                                       & 명사                                                                                                                                                                                                                                                                                                                                & 상                                                                                                                                                                                                                                                                                                                                  & 174004                                                                                                                                                                                                                                                                                                                              & ㄱㄴㄷ-차례                                                                                                                                                                                                                                                                                                                         & 001                                                                                                                                                                                                                                                                                                                                 & 상                                                                                                                                                                                                                                                                                                                                  & 비슷한말                                                                                                                                                                                                                                                                                                                            &    266                                                                                                                                                                                                                                                                                                                              & 가나다-차례                                                                                                                                                                                                                                                                                                                         & 001                                                                                                                                                                                                                                                                                                                                 & 중                                                                                                                                                                                                                                                                                                                                 \\\\\n",
       "\t 3                                                                                                                                                                                                                                                                                                                                   & 3                                                                                                                                                                                                                                                                                                                                   & ㄱㄴㄷ차례001                                                                                                                                                                                                                                                                                                                       & ㄱㄴㄷ-차례                                                                                                                                                                                                                                                                                                                         & 1                                                                                                                                                                                                                                                                                                                                   & 한글의 ‘ㄱ, ㄴ, ㄷ……’ 차례로 매기는 순서.                                                                                                                                                                                                                                                                                       & 명사                                                                                                                                                                                                                                                                                                                                & 상                                                                                                                                                                                                                                                                                                                                  & 187743                                                                                                                                                                                                                                                                                                                              & ㄱㄴㄷ-차례                                                                                                                                                                                                                                                                                                                         & 001                                                                                                                                                                                                                                                                                                                                 & 상                                                                                                                                                                                                                                                                                                                                  & 상위어                                                                                                                                                                                                                                                                                                                              & 108946                                                                                                                                                                                                                                                                                                                              & 순서                                                                                                                                                                                                                                                                                                                                & 001                                                                                                                                                                                                                                                                                                                                 & 하                                                                                                                                                                                                                                                                                                                                 \\\\\n",
       "\t 4                                                                                                                                                                                                                                                                                                                                   & 4                                                                                                                                                                                                                                                                                                                                   & ㄱㄴ순001                                                                                                                                                                                                                                                                                                                           & ㄱㄴ-순                                                                                                                                                                                                                                                                                                                             & 1                                                                                                                                                                                                                                                                                                                                   & 한글의 ‘ㄱ, ㄴ, ㄷ……’ 차례로 매기는 순서.                                                                                                                                                                                                                                                                                       & 명사                                                                                                                                                                                                                                                                                                                                & 상                                                                                                                                                                                                                                                                                                                                  & 136781                                                                                                                                                                                                                                                                                                                              & ㄱㄴ-순                                                                                                                                                                                                                                                                                                                             & 001                                                                                                                                                                                                                                                                                                                                 & 상                                                                                                                                                                                                                                                                                                                                  & 비슷한말                                                                                                                                                                                                                                                                                                                            &  28848                                                                                                                                                                                                                                                                                                                              & 기역니은-순                                                                                                                                                                                                                                                                                                                         & 001                                                                                                                                                                                                                                                                                                                                 & 중                                                                                                                                                                                                                                                                                                                                 \\\\\n",
       "\\end{tabular}\n"
      ],
      "text/markdown": [
       "\n",
       "| X1 | word_id | 의미어 | 표제어.x | 의미번호.x | 뜻풀이 | 품사 | 난이도 | pair_id | 표제어.y | 의미번호.y | 표제어 난이도 | relation2 | 관련어 word_id | 관련어 | 의미번호_1 | 관련어 난이도 |\n",
       "|---|---|---|---|---|---|---|---|---|---|---|---|---|---|---|---|---|\n",
       "| 1                                                                                                                                                                                                                                                                                                                                   | 1                                                                                                                                                                                                                                                                                                                                   | ㄱ001                                                                                                                                                                                                                                                                                                                               | ㄱ                                                                                                                                                                                                                                                                                                                                  | 1                                                                                                                                                                                                                                                                                                                                   | 한글 자모의 첫째 글자. 기역이라 이르며, ‘가’에서와 같이 초성으로, ‘역’에서와 같이 종성으로 쓰인다. 목젖으로 콧길을 막고 혀뿌리를 높여 연구개를 막았다가 뗄 때 나는 무성음이다. 초성일 때는 무성이나 모음 사이에서는 유성음이 되며, 종성일 때는 혀뿌리를 떼지 않고 발음한다. 혀뿌리가 목구멍을 막는 모양을 본떠서 만든 글자이다. | 명사                                                                                                                                                                                                                                                                                                                                | 상                                                                                                                                                                                                                                                                                                                                  |  68214                                                                                                                                                                                                                                                                                                                              | ㄱ                                                                                                                                                                                                                                                                                                                                  | 001                                                                                                                                                                                                                                                                                                                                 | 상                                                                                                                                                                                                                                                                                                                                  | 상위어                                                                                                                                                                                                                                                                                                                              | 154772                                                                                                                                                                                                                                                                                                                              | 자음-자                                                                                                                                                                                                                                                                                                                             | 001                                                                                                                                                                                                                                                                                                                                 | 중                                                                                                                                                                                                                                                                                                                                  |\n",
       "| 2                                                                                                                                                                                                                                                                                                                                   | 2                                                                                                                                                                                                                                                                                                                                   | ㄱㄴㄷ순001                                                                                                                                                                                                                                                                                                                         | ㄱㄴㄷ-순                                                                                                                                                                                                                                                                                                                           | 1                                                                                                                                                                                                                                                                                                                                   | 한글의 ‘ㄱ, ㄴ, ㄷ……’ 차례로 매기는 순서.                                                                                                                                                                                                                                                                                       | 명사                                                                                                                                                                                                                                                                                                                                | 상                                                                                                                                                                                                                                                                                                                                  | 187742                                                                                                                                                                                                                                                                                                                              | ㄱㄴㄷ-순                                                                                                                                                                                                                                                                                                                           | 001                                                                                                                                                                                                                                                                                                                                 | 상                                                                                                                                                                                                                                                                                                                                  | 상위어                                                                                                                                                                                                                                                                                                                              | 108946                                                                                                                                                                                                                                                                                                                              | 순서                                                                                                                                                                                                                                                                                                                                | 001                                                                                                                                                                                                                                                                                                                                 | 하                                                                                                                                                                                                                                                                                                                                  |\n",
       "| 3                                                                                                                                                                                                                                                                                                                                   | 3                                                                                                                                                                                                                                                                                                                                   | ㄱㄴㄷ차례001                                                                                                                                                                                                                                                                                                                       | ㄱㄴㄷ-차례                                                                                                                                                                                                                                                                                                                         | 1                                                                                                                                                                                                                                                                                                                                   | 한글의 ‘ㄱ, ㄴ, ㄷ……’ 차례로 매기는 순서.                                                                                                                                                                                                                                                                                       | 명사                                                                                                                                                                                                                                                                                                                                | 상                                                                                                                                                                                                                                                                                                                                  | 136783                                                                                                                                                                                                                                                                                                                              | ㄱㄴㄷ-차례                                                                                                                                                                                                                                                                                                                         | 001                                                                                                                                                                                                                                                                                                                                 | 상                                                                                                                                                                                                                                                                                                                                  | 비슷한말                                                                                                                                                                                                                                                                                                                            |      4                                                                                                                                                                                                                                                                                                                              | ㄱㄴ-순                                                                                                                                                                                                                                                                                                                             | 001                                                                                                                                                                                                                                                                                                                                 | 상                                                                                                                                                                                                                                                                                                                                  |\n",
       "| 3                                                                                                                                                                                                                                                                                                                                   | 3                                                                                                                                                                                                                                                                                                                                   | ㄱㄴㄷ차례001                                                                                                                                                                                                                                                                                                                       | ㄱㄴㄷ-차례                                                                                                                                                                                                                                                                                                                         | 1                                                                                                                                                                                                                                                                                                                                   | 한글의 ‘ㄱ, ㄴ, ㄷ……’ 차례로 매기는 순서.                                                                                                                                                                                                                                                                                       | 명사                                                                                                                                                                                                                                                                                                                                | 상                                                                                                                                                                                                                                                                                                                                  | 174004                                                                                                                                                                                                                                                                                                                              | ㄱㄴㄷ-차례                                                                                                                                                                                                                                                                                                                         | 001                                                                                                                                                                                                                                                                                                                                 | 상                                                                                                                                                                                                                                                                                                                                  | 비슷한말                                                                                                                                                                                                                                                                                                                            |    266                                                                                                                                                                                                                                                                                                                              | 가나다-차례                                                                                                                                                                                                                                                                                                                         | 001                                                                                                                                                                                                                                                                                                                                 | 중                                                                                                                                                                                                                                                                                                                                  |\n",
       "| 3                                                                                                                                                                                                                                                                                                                                   | 3                                                                                                                                                                                                                                                                                                                                   | ㄱㄴㄷ차례001                                                                                                                                                                                                                                                                                                                       | ㄱㄴㄷ-차례                                                                                                                                                                                                                                                                                                                         | 1                                                                                                                                                                                                                                                                                                                                   | 한글의 ‘ㄱ, ㄴ, ㄷ……’ 차례로 매기는 순서.                                                                                                                                                                                                                                                                                       | 명사                                                                                                                                                                                                                                                                                                                                | 상                                                                                                                                                                                                                                                                                                                                  | 187743                                                                                                                                                                                                                                                                                                                              | ㄱㄴㄷ-차례                                                                                                                                                                                                                                                                                                                         | 001                                                                                                                                                                                                                                                                                                                                 | 상                                                                                                                                                                                                                                                                                                                                  | 상위어                                                                                                                                                                                                                                                                                                                              | 108946                                                                                                                                                                                                                                                                                                                              | 순서                                                                                                                                                                                                                                                                                                                                | 001                                                                                                                                                                                                                                                                                                                                 | 하                                                                                                                                                                                                                                                                                                                                  |\n",
       "| 4                                                                                                                                                                                                                                                                                                                                   | 4                                                                                                                                                                                                                                                                                                                                   | ㄱㄴ순001                                                                                                                                                                                                                                                                                                                           | ㄱㄴ-순                                                                                                                                                                                                                                                                                                                             | 1                                                                                                                                                                                                                                                                                                                                   | 한글의 ‘ㄱ, ㄴ, ㄷ……’ 차례로 매기는 순서.                                                                                                                                                                                                                                                                                       | 명사                                                                                                                                                                                                                                                                                                                                | 상                                                                                                                                                                                                                                                                                                                                  | 136781                                                                                                                                                                                                                                                                                                                              | ㄱㄴ-순                                                                                                                                                                                                                                                                                                                             | 001                                                                                                                                                                                                                                                                                                                                 | 상                                                                                                                                                                                                                                                                                                                                  | 비슷한말                                                                                                                                                                                                                                                                                                                            |  28848                                                                                                                                                                                                                                                                                                                              | 기역니은-순                                                                                                                                                                                                                                                                                                                         | 001                                                                                                                                                                                                                                                                                                                                 | 중                                                                                                                                                                                                                                                                                                                                  |\n",
       "\n"
      ],
      "text/plain": [
       "  X1 word_id 의미어        표제어.x    의미번호.x\n",
       "1 1  1       ㄱ001         ㄱ          1         \n",
       "2 2  2       ㄱㄴㄷ순001   ㄱㄴㄷ-순   1         \n",
       "3 3  3       ㄱㄴㄷ차례001 ㄱㄴㄷ-차례 1         \n",
       "4 3  3       ㄱㄴㄷ차례001 ㄱㄴㄷ-차례 1         \n",
       "5 3  3       ㄱㄴㄷ차례001 ㄱㄴㄷ-차례 1         \n",
       "6 4  4       ㄱㄴ순001     ㄱㄴ-순     1         \n",
       "  뜻풀이                                                                                                                                                                                                                                                                                                                             \n",
       "1 한글 자모의 첫째 글자. 기역이라 이르며, ‘가’에서와 같이 초성으로, ‘역’에서와 같이 종성으로 쓰인다. 목젖으로 콧길을 막고 혀뿌리를 높여 연구개를 막았다가 뗄 때 나는 무성음이다. 초성일 때는 무성이나 모음 사이에서는 유성음이 되며, 종성일 때는 혀뿌리를 떼지 않고 발음한다. 혀뿌리가 목구멍을 막는 모양을 본떠서 만든 글자이다.\n",
       "2 한글의 ‘ㄱ, ㄴ, ㄷ……’ 차례로 매기는 순서.                                                                                                                                                                                                                                                                                      \n",
       "3 한글의 ‘ㄱ, ㄴ, ㄷ……’ 차례로 매기는 순서.                                                                                                                                                                                                                                                                                      \n",
       "4 한글의 ‘ㄱ, ㄴ, ㄷ……’ 차례로 매기는 순서.                                                                                                                                                                                                                                                                                      \n",
       "5 한글의 ‘ㄱ, ㄴ, ㄷ……’ 차례로 매기는 순서.                                                                                                                                                                                                                                                                                      \n",
       "6 한글의 ‘ㄱ, ㄴ, ㄷ……’ 차례로 매기는 순서.                                                                                                                                                                                                                                                                                      \n",
       "  품사 난이도 pair_id 표제어.y    의미번호.y 표제어 난이도 relation2\n",
       "1 명사 상      68214  ㄱ          001        상            상위어   \n",
       "2 명사 상     187742  ㄱㄴㄷ-순   001        상            상위어   \n",
       "3 명사 상     136783  ㄱㄴㄷ-차례 001        상            비슷한말 \n",
       "4 명사 상     174004  ㄱㄴㄷ-차례 001        상            비슷한말 \n",
       "5 명사 상     187743  ㄱㄴㄷ-차례 001        상            상위어   \n",
       "6 명사 상     136781  ㄱㄴ-순     001        상            비슷한말 \n",
       "  관련어 word_id 관련어      의미번호_1 관련어 난이도\n",
       "1 154772         자음-자     001        중           \n",
       "2 108946         순서        001        하           \n",
       "3      4         ㄱㄴ-순     001        상           \n",
       "4    266         가나다-차례 001        중           \n",
       "5 108946         순서        001        하           \n",
       "6  28848         기역니은-순 001        중           "
      ]
     },
     "metadata": {},
     "output_type": "display_data"
    }
   ],
   "source": [
    "head(joinData)"
   ]
  },
  {
   "cell_type": "code",
   "execution_count": 24,
   "metadata": {},
   "outputs": [
    {
     "data": {
      "text/html": [
       "383035"
      ],
      "text/latex": [
       "383035"
      ],
      "text/markdown": [
       "383035"
      ],
      "text/plain": [
       "[1] 383035"
      ]
     },
     "metadata": {},
     "output_type": "display_data"
    }
   ],
   "source": [
    "nrow(joinData)"
   ]
  },
  {
   "cell_type": "code",
   "execution_count": 34,
   "metadata": {},
   "outputs": [
    {
     "data": {
      "text/html": [
       "<table>\n",
       "<thead><tr><th scope=col>뜻풀이</th></tr></thead>\n",
       "<tbody>\n",
       "\t<tr><td>한글 자모의 첫째 글자. 기역이라 이르며, ‘가’에서와 같이 초성으로, ‘역’에서와 같이 종성으로 쓰인다. 목젖으로 콧길을 막고 혀뿌리를 높여 연구개를 막았다가 뗄 때 나는 무성음이다. 초성일 때는 무성이나 모음 사이에서는 유성음이 되며, 종성일 때는 혀뿌리를 떼지 않고 발음한다. 혀뿌리가 목구멍을 막는 모양을 본떠서 만든 글자이다.</td></tr>\n",
       "\t<tr><td>한글의 ‘ㄱ, ㄴ, ㄷ……’ 차례로 매기는 순서.                                                                                                                                                                                                                                                                                      </td></tr>\n",
       "\t<tr><td>한글의 ‘ㄱ, ㄴ, ㄷ……’ 차례로 매기는 순서.                                                                                                                                                                                                                                                                                      </td></tr>\n",
       "\t<tr><td>한글의 ‘ㄱ, ㄴ, ㄷ……’ 차례로 매기는 순서.                                                                                                                                                                                                                                                                                      </td></tr>\n",
       "\t<tr><td>한글의 ‘ㄱ, ㄴ, ㄷ……’ 차례로 매기는 순서.                                                                                                                                                                                                                                                                                      </td></tr>\n",
       "\t<tr><td>한글의 ‘ㄱ, ㄴ, ㄷ……’ 차례로 매기는 순서.                                                                                                                                                                                                                                                                                      </td></tr>\n",
       "</tbody>\n",
       "</table>\n"
      ],
      "text/latex": [
       "\\begin{tabular}{r|l}\n",
       " 뜻풀이\\\\\n",
       "\\hline\n",
       "\t 한글 자모의 첫째 글자. 기역이라 이르며, ‘가’에서와 같이 초성으로, ‘역’에서와 같이 종성으로 쓰인다. 목젖으로 콧길을 막고 혀뿌리를 높여 연구개를 막았다가 뗄 때 나는 무성음이다. 초성일 때는 무성이나 모음 사이에서는 유성음이 되며, 종성일 때는 혀뿌리를 떼지 않고 발음한다. 혀뿌리가 목구멍을 막는 모양을 본떠서 만든 글자이다.\\\\\n",
       "\t 한글의 ‘ㄱ, ㄴ, ㄷ……’ 차례로 매기는 순서.                                                                                                                                                                                                                                                                                      \\\\\n",
       "\t 한글의 ‘ㄱ, ㄴ, ㄷ……’ 차례로 매기는 순서.                                                                                                                                                                                                                                                                                      \\\\\n",
       "\t 한글의 ‘ㄱ, ㄴ, ㄷ……’ 차례로 매기는 순서.                                                                                                                                                                                                                                                                                      \\\\\n",
       "\t 한글의 ‘ㄱ, ㄴ, ㄷ……’ 차례로 매기는 순서.                                                                                                                                                                                                                                                                                      \\\\\n",
       "\t 한글의 ‘ㄱ, ㄴ, ㄷ……’ 차례로 매기는 순서.                                                                                                                                                                                                                                                                                      \\\\\n",
       "\\end{tabular}\n"
      ],
      "text/markdown": [
       "\n",
       "| 뜻풀이 |\n",
       "|---|\n",
       "| 한글 자모의 첫째 글자. 기역이라 이르며, ‘가’에서와 같이 초성으로, ‘역’에서와 같이 종성으로 쓰인다. 목젖으로 콧길을 막고 혀뿌리를 높여 연구개를 막았다가 뗄 때 나는 무성음이다. 초성일 때는 무성이나 모음 사이에서는 유성음이 되며, 종성일 때는 혀뿌리를 떼지 않고 발음한다. 혀뿌리가 목구멍을 막는 모양을 본떠서 만든 글자이다. |\n",
       "| 한글의 ‘ㄱ, ㄴ, ㄷ……’ 차례로 매기는 순서.                                                                                                                                                                                                                                                                                       |\n",
       "| 한글의 ‘ㄱ, ㄴ, ㄷ……’ 차례로 매기는 순서.                                                                                                                                                                                                                                                                                       |\n",
       "| 한글의 ‘ㄱ, ㄴ, ㄷ……’ 차례로 매기는 순서.                                                                                                                                                                                                                                                                                       |\n",
       "| 한글의 ‘ㄱ, ㄴ, ㄷ……’ 차례로 매기는 순서.                                                                                                                                                                                                                                                                                       |\n",
       "| 한글의 ‘ㄱ, ㄴ, ㄷ……’ 차례로 매기는 순서.                                                                                                                                                                                                                                                                                       |\n",
       "\n"
      ],
      "text/plain": [
       "  뜻풀이                                                                                                                                                                                                                                                                                                                             \n",
       "1 한글 자모의 첫째 글자. 기역이라 이르며, ‘가’에서와 같이 초성으로, ‘역’에서와 같이 종성으로 쓰인다. 목젖으로 콧길을 막고 혀뿌리를 높여 연구개를 막았다가 뗄 때 나는 무성음이다. 초성일 때는 무성이나 모음 사이에서는 유성음이 되며, 종성일 때는 혀뿌리를 떼지 않고 발음한다. 혀뿌리가 목구멍을 막는 모양을 본떠서 만든 글자이다.\n",
       "2 한글의 ‘ㄱ, ㄴ, ㄷ……’ 차례로 매기는 순서.                                                                                                                                                                                                                                                                                      \n",
       "3 한글의 ‘ㄱ, ㄴ, ㄷ……’ 차례로 매기는 순서.                                                                                                                                                                                                                                                                                      \n",
       "4 한글의 ‘ㄱ, ㄴ, ㄷ……’ 차례로 매기는 순서.                                                                                                                                                                                                                                                                                      \n",
       "5 한글의 ‘ㄱ, ㄴ, ㄷ……’ 차례로 매기는 순서.                                                                                                                                                                                                                                                                                      \n",
       "6 한글의 ‘ㄱ, ㄴ, ㄷ……’ 차례로 매기는 순서.                                                                                                                                                                                                                                                                                      "
      ]
     },
     "metadata": {},
     "output_type": "display_data"
    }
   ],
   "source": [
    "head(joinData[6])"
   ]
  },
  {
   "cell_type": "code",
   "execution_count": 35,
   "metadata": {},
   "outputs": [
    {
     "data": {
      "text/html": [
       "<dl>\n",
       "\t<dt>$한글</dt>\n",
       "\t\t<dd><ol class=list-inline>\n",
       "\t<li>'한글/ncn'</li>\n",
       "\t<li>'한글/nqq'</li>\n",
       "</ol>\n",
       "</dd>\n",
       "\t<dt>$자모의</dt>\n",
       "\t\t<dd><ol class=list-inline>\n",
       "\t<li>'자모/ncn+의/jcm'</li>\n",
       "\t<li>'자모/ncn+의/ncn'</li>\n",
       "</ol>\n",
       "</dd>\n",
       "\t<dt>$첫째</dt>\n",
       "\t\t<dd><ol class=list-inline>\n",
       "\t<li>'첫째/nno'</li>\n",
       "\t<li>'첫/nno+째/xsnu'</li>\n",
       "</ol>\n",
       "</dd>\n",
       "\t<dt>$글자</dt>\n",
       "\t\t<dd>'글자/ncn'</dd>\n",
       "\t<dt>$.</dt>\n",
       "\t\t<dd><ol class=list-inline>\n",
       "\t<li>'./sf'</li>\n",
       "\t<li>'./sy'</li>\n",
       "</ol>\n",
       "</dd>\n",
       "\t<dt>$기역이라</dt>\n",
       "\t\t<dd><ol class=list-inline>\n",
       "\t<li>'기역/ncn+이라/jca'</li>\n",
       "\t<li>'기역/ncn+이/ncn+이/jp+라/ecs'</li>\n",
       "\t<li>'기역/ncn+이/ncn+이/jp+라/ef'</li>\n",
       "\t<li>'기역/ncn+이/jp+라/ecs'</li>\n",
       "\t<li>'기역/ncn+이/jp+라/ef'</li>\n",
       "</ol>\n",
       "</dd>\n",
       "\t<dt>$`이르며,`</dt>\n",
       "\t\t<dd><ol class=list-inline>\n",
       "\t<li>'이르/paa+며/ecc+,/sp'</li>\n",
       "\t<li>'이르/paa+며/ecs+,/sp'</li>\n",
       "\t<li>'이르/pvg+며/ecc+,/sp'</li>\n",
       "\t<li>'이르/pvg+며/ecs+,/sp'</li>\n",
       "</ol>\n",
       "</dd>\n",
       "\t<dt>$`‘가’에서와`</dt>\n",
       "\t\t<dd><ol class=list-inline>\n",
       "\t<li>'‘가’/ncn+에서/jca+와/jcj'</li>\n",
       "\t<li>'‘가’에/ncn+서/jca+와/jcj'</li>\n",
       "\t<li>'‘가’에서/ncn+와/jcj'</li>\n",
       "\t<li>'‘가’에서/ncn+와/jct'</li>\n",
       "\t<li>'‘가’에서와/ncn'</li>\n",
       "\t<li>'‘가’/nqq+에서/jca+와/jcj'</li>\n",
       "\t<li>'‘가’에/nqq+서/jca+와/jcj'</li>\n",
       "\t<li>'‘가’에서/nqq+와/jcj'</li>\n",
       "\t<li>'‘가’에서/nqq+와/jct'</li>\n",
       "\t<li>'‘가’에서와/nqq'</li>\n",
       "</ol>\n",
       "</dd>\n",
       "\t<dt>$같이</dt>\n",
       "\t\t<dd><ol class=list-inline>\n",
       "\t<li>'같/paa+이/xsa'</li>\n",
       "\t<li>'같이/mag'</li>\n",
       "</ol>\n",
       "</dd>\n",
       "\t<dt>$`초성으로,`</dt>\n",
       "\t\t<dd>'초성/ncpa+으로/jca+,/sp'</dd>\n",
       "\t<dt>$`‘역’에서와`</dt>\n",
       "\t\t<dd><ol class=list-inline>\n",
       "\t<li>'‘역’/ncn+에서/jca+와/jcj'</li>\n",
       "\t<li>'‘역’에/ncn+서/jca+와/jcj'</li>\n",
       "\t<li>'‘역’에서/ncn+와/jcj'</li>\n",
       "\t<li>'‘역’에서/ncn+와/jct'</li>\n",
       "\t<li>'‘역’에서와/ncn'</li>\n",
       "\t<li>'‘역’/nqq+에서/jca+와/jcj'</li>\n",
       "\t<li>'‘역’에/nqq+서/jca+와/jcj'</li>\n",
       "\t<li>'‘역’에서/nqq+와/jcj'</li>\n",
       "\t<li>'‘역’에서/nqq+와/jct'</li>\n",
       "\t<li>'‘역’에서와/nqq'</li>\n",
       "</ol>\n",
       "</dd>\n",
       "\t<dt>$같이</dt>\n",
       "\t\t<dd><ol class=list-inline>\n",
       "\t<li>'같/paa+이/xsa'</li>\n",
       "\t<li>'같이/mag'</li>\n",
       "</ol>\n",
       "</dd>\n",
       "\t<dt>$종성으로</dt>\n",
       "\t\t<dd>'종성/ncn+으로/jca'</dd>\n",
       "\t<dt>$쓰인다</dt>\n",
       "\t\t<dd>'쓰이/pvg+ㄴ다/ef'</dd>\n",
       "\t<dt>$.</dt>\n",
       "\t\t<dd><ol class=list-inline>\n",
       "\t<li>'./sf'</li>\n",
       "\t<li>'./sy'</li>\n",
       "</ol>\n",
       "</dd>\n",
       "\t<dt>$목젖으로</dt>\n",
       "\t\t<dd>'목젖/ncn+으로/jca'</dd>\n",
       "\t<dt>$콧길을</dt>\n",
       "\t\t<dd><ol class=list-inline>\n",
       "\t<li>'콧길/ncn+을/jco'</li>\n",
       "\t<li>'콧길을/ncn'</li>\n",
       "\t<li>'콧길/nqq+을/jco'</li>\n",
       "\t<li>'콧길을/nqq'</li>\n",
       "</ol>\n",
       "</dd>\n",
       "\t<dt>$막고</dt>\n",
       "\t\t<dd><ol class=list-inline>\n",
       "\t<li>'막/nbu+고/jcj'</li>\n",
       "\t<li>'막/ncn+고/jcj'</li>\n",
       "\t<li>'막/pvg+고/ecc'</li>\n",
       "\t<li>'막/pvg+고/ecs'</li>\n",
       "\t<li>'막/pvg+고/ecx'</li>\n",
       "</ol>\n",
       "</dd>\n",
       "\t<dt>$혀뿌리를</dt>\n",
       "\t\t<dd>'혀뿌리/ncn+를/jco'</dd>\n",
       "\t<dt>$높여</dt>\n",
       "\t\t<dd><ol class=list-inline>\n",
       "\t<li>'높이/pvg+어/ecs'</li>\n",
       "\t<li>'높이/pvg+어/ecx'</li>\n",
       "\t<li>'높이/pvg+어/ef'</li>\n",
       "</ol>\n",
       "</dd>\n",
       "\t<dt>$연구개를</dt>\n",
       "\t\t<dd>'연구/ncpa+개/ncn+를/jco'</dd>\n",
       "\t<dt>$막았다가</dt>\n",
       "\t\t<dd><ol class=list-inline>\n",
       "\t<li>'막/pvg+아/ep+다가/ecc'</li>\n",
       "\t<li>'막/pvg+아/ep+다가/ecs'</li>\n",
       "</ol>\n",
       "</dd>\n",
       "\t<dt>$뗄</dt>\n",
       "\t\t<dd>'떼/pvg+ㄹ/etm'</dd>\n",
       "\t<dt>$때</dt>\n",
       "\t\t<dd><ol class=list-inline>\n",
       "\t<li>'때/ncn'</li>\n",
       "\t<li>'때/nbn'</li>\n",
       "\t<li>'때/pvg+어/ecx'</li>\n",
       "</ol>\n",
       "</dd>\n",
       "\t<dt>$나는</dt>\n",
       "\t\t<dd><ol class=list-inline>\n",
       "\t<li>'나/ncn+는/jxc'</li>\n",
       "\t<li>'나/npp+는/jxc'</li>\n",
       "\t<li>'나/pvg+는/etm'</li>\n",
       "\t<li>'나/px+는/etm'</li>\n",
       "\t<li>'나/pvg+아/ecs+는/jxc'</li>\n",
       "\t<li>'나/pvg+아/ef+는/etm'</li>\n",
       "\t<li>'나/px+아/ecs+는/jxc'</li>\n",
       "\t<li>'나/px+아/ef+는/etm'</li>\n",
       "\t<li>'날/pvg+는/etm'</li>\n",
       "</ol>\n",
       "</dd>\n",
       "\t<dt>$무성음이다</dt>\n",
       "\t\t<dd><ol class=list-inline>\n",
       "\t<li>'무성/ncn+음/ncn+이/jp+다/ef'</li>\n",
       "\t<li>'무성/ncpa+음/ncn+이/jp+다/ef'</li>\n",
       "\t<li>'무성/ncps+음/ncn+이/jp+다/ef'</li>\n",
       "</ol>\n",
       "</dd>\n",
       "\t<dt>$.</dt>\n",
       "\t\t<dd><ol class=list-inline>\n",
       "\t<li>'./sf'</li>\n",
       "\t<li>'./sy'</li>\n",
       "</ol>\n",
       "</dd>\n",
       "\t<dt>$초성일</dt>\n",
       "\t\t<dd><ol class=list-inline>\n",
       "\t<li>'초성/ncpa+일/ncn'</li>\n",
       "\t<li>'초성/ncpa+일/ncpa'</li>\n",
       "\t<li>'초성/ncpa+일/ncps'</li>\n",
       "\t<li>'초성/ncpa+이/jp+ㄹ/etm'</li>\n",
       "</ol>\n",
       "</dd>\n",
       "\t<dt>$때는</dt>\n",
       "\t\t<dd><ol class=list-inline>\n",
       "\t<li>'때/ncn+는/jxc'</li>\n",
       "\t<li>'때/nbn+는/jxc'</li>\n",
       "\t<li>'때/pvg+는/etm'</li>\n",
       "</ol>\n",
       "</dd>\n",
       "\t<dt>$무성이나</dt>\n",
       "\t\t<dd><ol class=list-inline>\n",
       "\t<li>'무성/ncn+이나/jcj'</li>\n",
       "\t<li>'무성/ncn+이나/jxc'</li>\n",
       "\t<li>'무성/ncn+이/jcc+나/jxc'</li>\n",
       "\t<li>'무성/ncn+이/jcs+나/jxc'</li>\n",
       "\t<li>'무성/ncn+이/jp+나/ef'</li>\n",
       "\t<li>'무성/ncn+이/ncn+나/jcj'</li>\n",
       "\t<li>'무성/ncn+이/ncn+나/jxc'</li>\n",
       "\t<li>'무성/ncn+이/ncn+이/jp+나/ef'</li>\n",
       "\t<li>'무성/ncn+이/ncn+이/jp+나/ecc'</li>\n",
       "\t<li>'무성/ncn+이/ncn+이/jp+나/ecs'</li>\n",
       "\t<li>'무성/ncn+이/jp+나/ecc'</li>\n",
       "\t<li>'무성/ncn+이/jp+나/ecs'</li>\n",
       "\t<li>'무성/ncpa+이나/jcj'</li>\n",
       "\t<li>'무성/ncpa+이나/jxc'</li>\n",
       "\t<li>'무성/ncpa+이/jcc+나/jxc'</li>\n",
       "\t<li>'무성/ncpa+이/jcs+나/jxc'</li>\n",
       "\t<li>'무성/ncpa+이/jp+나/ef'</li>\n",
       "\t<li>'무성/ncpa+이/ncn+나/jcj'</li>\n",
       "\t<li>'무성/ncpa+이/ncn+나/jxc'</li>\n",
       "\t<li>'무성/ncpa+이/ncn+이/jp+나/ef'</li>\n",
       "\t<li>'무성/ncpa+이/ncn+이/jp+나/ecc'</li>\n",
       "\t<li>'무성/ncpa+이/ncn+이/jp+나/ecs'</li>\n",
       "\t<li>'무성/ncpa+이/jp+나/ecc'</li>\n",
       "\t<li>'무성/ncpa+이/jp+나/ecs'</li>\n",
       "\t<li>'무성/ncps+이나/jcj'</li>\n",
       "\t<li>'무성/ncps+이나/jxc'</li>\n",
       "\t<li>'무성/ncps+이/jcc+나/jxc'</li>\n",
       "\t<li>'무성/ncps+이/jcs+나/jxc'</li>\n",
       "\t<li>'무성/ncps+이/jp+나/ef'</li>\n",
       "\t<li>'무성/ncps+이/ncn+나/jcj'</li>\n",
       "\t<li>'무성/ncps+이/ncn+나/jxc'</li>\n",
       "\t<li>'무성/ncps+이/ncn+이/jp+나/ef'</li>\n",
       "\t<li>'무성/ncps+이/ncn+이/jp+나/ecc'</li>\n",
       "\t<li>'무성/ncps+이/ncn+이/jp+나/ecs'</li>\n",
       "\t<li>'무성/ncps+이/jp+나/ecc'</li>\n",
       "\t<li>'무성/ncps+이/jp+나/ecs'</li>\n",
       "</ol>\n",
       "</dd>\n",
       "\t<dt>$모음</dt>\n",
       "\t\t<dd><ol class=list-inline>\n",
       "\t<li>'모음/ncn'</li>\n",
       "\t<li>'모으/pvg+ㅁ/etn'</li>\n",
       "</ol>\n",
       "</dd>\n",
       "\t<dt>$사이에서는</dt>\n",
       "\t\t<dd><ol class=list-inline>\n",
       "\t<li>'사이/ncn+에서는/jca'</li>\n",
       "\t<li>'사이/ncn+에서/jca+는/jxc'</li>\n",
       "\t<li>'사이/ncn+에/jca+서는/jxc'</li>\n",
       "\t<li>'사/nnc+이/nnc+에서는/jca'</li>\n",
       "\t<li>'사/nnc+이/nnc+에서/jca+는/jxc'</li>\n",
       "\t<li>'사/nnc+이/nnc+에/jca+서는/jxc'</li>\n",
       "</ol>\n",
       "</dd>\n",
       "\t<dt>$유성음이</dt>\n",
       "\t\t<dd><ol class=list-inline>\n",
       "\t<li>'유성/ncn+음/ncn+이/jcc'</li>\n",
       "\t<li>'유성/ncn+음/ncn+이/jcs'</li>\n",
       "</ol>\n",
       "</dd>\n",
       "\t<dt>$`되며,`</dt>\n",
       "\t\t<dd><ol class=list-inline>\n",
       "\t<li>'되/nbu+이/jp+며/ecc+,/sp'</li>\n",
       "\t<li>'되/nbu+이/jp+며/ecs+,/sp'</li>\n",
       "\t<li>'되/paa+며/ecc+,/sp'</li>\n",
       "\t<li>'되/paa+며/ecs+,/sp'</li>\n",
       "\t<li>'되/pvg+며/ecc+,/sp'</li>\n",
       "\t<li>'되/pvg+며/ecs+,/sp'</li>\n",
       "\t<li>'되/px+며/ecc+,/sp'</li>\n",
       "\t<li>'되/px+며/ecs+,/sp'</li>\n",
       "</ol>\n",
       "</dd>\n",
       "\t<dt>$종성일</dt>\n",
       "\t\t<dd><ol class=list-inline>\n",
       "\t<li>'종성/ncn+일/ncn'</li>\n",
       "\t<li>'종성/ncn+일/ncpa'</li>\n",
       "\t<li>'종성/ncn+일/ncps'</li>\n",
       "\t<li>'종성/ncn+이/jp+ㄹ/etm'</li>\n",
       "</ol>\n",
       "</dd>\n",
       "\t<dt>$때는</dt>\n",
       "\t\t<dd><ol class=list-inline>\n",
       "\t<li>'때/ncn+는/jxc'</li>\n",
       "\t<li>'때/nbn+는/jxc'</li>\n",
       "\t<li>'때/pvg+는/etm'</li>\n",
       "</ol>\n",
       "</dd>\n",
       "\t<dt>$혀뿌리를</dt>\n",
       "\t\t<dd>'혀뿌리/ncn+를/jco'</dd>\n",
       "\t<dt>$떼지</dt>\n",
       "\t\t<dd><ol class=list-inline>\n",
       "\t<li>'떼/ncn+이/jp+지/ecs'</li>\n",
       "\t<li>'떼/ncn+이/jp+지/ecx'</li>\n",
       "\t<li>'떼/ncn+이/jp+지/ef'</li>\n",
       "\t<li>'떼/pvg+지/ecs'</li>\n",
       "\t<li>'떼/pvg+지/ecx'</li>\n",
       "\t<li>'떼/pvg+지/ef'</li>\n",
       "</ol>\n",
       "</dd>\n",
       "\t<dt>$않고</dt>\n",
       "\t\t<dd><ol class=list-inline>\n",
       "\t<li>'않/px+고/ecc'</li>\n",
       "\t<li>'않/px+고/ecx'</li>\n",
       "\t<li>'않/px+고/ecs'</li>\n",
       "</ol>\n",
       "</dd>\n",
       "\t<dt>$발음한다</dt>\n",
       "\t\t<dd>'발음/ncpa+하/xsva+ㄴ다/ef'</dd>\n",
       "\t<dt>$.</dt>\n",
       "\t\t<dd><ol class=list-inline>\n",
       "\t<li>'./sf'</li>\n",
       "\t<li>'./sy'</li>\n",
       "</ol>\n",
       "</dd>\n",
       "\t<dt>$혀뿌리가</dt>\n",
       "\t\t<dd><ol class=list-inline>\n",
       "\t<li>'혀뿌리/ncn+가/jcc'</li>\n",
       "\t<li>'혀뿌리/ncn+가/jcs'</li>\n",
       "</ol>\n",
       "</dd>\n",
       "\t<dt>$목구멍을</dt>\n",
       "\t\t<dd>'목구멍/ncn+을/jco'</dd>\n",
       "\t<dt>$막는</dt>\n",
       "\t\t<dd><ol class=list-inline>\n",
       "\t<li>'막/mag+는/jxc'</li>\n",
       "\t<li>'막/nbu+는/jxc'</li>\n",
       "\t<li>'막/ncn+는/jxc'</li>\n",
       "\t<li>'막/pvg+는/etm'</li>\n",
       "</ol>\n",
       "</dd>\n",
       "\t<dt>$모양을</dt>\n",
       "\t\t<dd>'모양/ncn+을/jco'</dd>\n",
       "\t<dt>$본떠서</dt>\n",
       "\t\t<dd><ol class=list-inline>\n",
       "\t<li>'본뜨/pvg+어서/ecs'</li>\n",
       "\t<li>'본뜨/pvg+어서/ecx'</li>\n",
       "\t<li>'본뜨/pvg+어서/ef'</li>\n",
       "\t<li>'본뜨/pvg+어서/ep+어/ecs'</li>\n",
       "\t<li>'본뜨/pvg+어서/ep+어/ecx'</li>\n",
       "\t<li>'본뜨/pvg+어서/ep+어/ef'</li>\n",
       "</ol>\n",
       "</dd>\n",
       "\t<dt>$만든</dt>\n",
       "\t\t<dd><ol class=list-inline>\n",
       "\t<li>'만/nbs+든/jxc'</li>\n",
       "\t<li>'만/ncn+든/jxc'</li>\n",
       "\t<li>'만/nnc+든/jxc'</li>\n",
       "\t<li>'만들/pvg+ㄴ/etm'</li>\n",
       "\t<li>'만들/px+ㄴ/etm'</li>\n",
       "</ol>\n",
       "</dd>\n",
       "\t<dt>$글자이다</dt>\n",
       "\t\t<dd><ol class=list-inline>\n",
       "\t<li>'글자/ncn+이/jp+다/ef'</li>\n",
       "\t<li>'글자/ncn+이/ncn+이/jp+다/ef'</li>\n",
       "</ol>\n",
       "</dd>\n",
       "\t<dt>$.</dt>\n",
       "\t\t<dd><ol class=list-inline>\n",
       "\t<li>'./sf'</li>\n",
       "\t<li>'./sy'</li>\n",
       "</ol>\n",
       "</dd>\n",
       "</dl>\n"
      ],
      "text/latex": [
       "\\begin{description}\n",
       "\\item[\\$한글] \\begin{enumerate*}\n",
       "\\item '한글/ncn'\n",
       "\\item '한글/nqq'\n",
       "\\end{enumerate*}\n",
       "\n",
       "\\item[\\$자모의] \\begin{enumerate*}\n",
       "\\item '자모/ncn+의/jcm'\n",
       "\\item '자모/ncn+의/ncn'\n",
       "\\end{enumerate*}\n",
       "\n",
       "\\item[\\$첫째] \\begin{enumerate*}\n",
       "\\item '첫째/nno'\n",
       "\\item '첫/nno+째/xsnu'\n",
       "\\end{enumerate*}\n",
       "\n",
       "\\item[\\$글자] '글자/ncn'\n",
       "\\item[\\$.] \\begin{enumerate*}\n",
       "\\item './sf'\n",
       "\\item './sy'\n",
       "\\end{enumerate*}\n",
       "\n",
       "\\item[\\$기역이라] \\begin{enumerate*}\n",
       "\\item '기역/ncn+이라/jca'\n",
       "\\item '기역/ncn+이/ncn+이/jp+라/ecs'\n",
       "\\item '기역/ncn+이/ncn+이/jp+라/ef'\n",
       "\\item '기역/ncn+이/jp+라/ecs'\n",
       "\\item '기역/ncn+이/jp+라/ef'\n",
       "\\end{enumerate*}\n",
       "\n",
       "\\item[\\$`이르며,`] \\begin{enumerate*}\n",
       "\\item '이르/paa+며/ecc+,/sp'\n",
       "\\item '이르/paa+며/ecs+,/sp'\n",
       "\\item '이르/pvg+며/ecc+,/sp'\n",
       "\\item '이르/pvg+며/ecs+,/sp'\n",
       "\\end{enumerate*}\n",
       "\n",
       "\\item[\\$`‘가’에서와`] \\begin{enumerate*}\n",
       "\\item '‘가’/ncn+에서/jca+와/jcj'\n",
       "\\item '‘가’에/ncn+서/jca+와/jcj'\n",
       "\\item '‘가’에서/ncn+와/jcj'\n",
       "\\item '‘가’에서/ncn+와/jct'\n",
       "\\item '‘가’에서와/ncn'\n",
       "\\item '‘가’/nqq+에서/jca+와/jcj'\n",
       "\\item '‘가’에/nqq+서/jca+와/jcj'\n",
       "\\item '‘가’에서/nqq+와/jcj'\n",
       "\\item '‘가’에서/nqq+와/jct'\n",
       "\\item '‘가’에서와/nqq'\n",
       "\\end{enumerate*}\n",
       "\n",
       "\\item[\\$같이] \\begin{enumerate*}\n",
       "\\item '같/paa+이/xsa'\n",
       "\\item '같이/mag'\n",
       "\\end{enumerate*}\n",
       "\n",
       "\\item[\\$`초성으로,`] '초성/ncpa+으로/jca+,/sp'\n",
       "\\item[\\$`‘역’에서와`] \\begin{enumerate*}\n",
       "\\item '‘역’/ncn+에서/jca+와/jcj'\n",
       "\\item '‘역’에/ncn+서/jca+와/jcj'\n",
       "\\item '‘역’에서/ncn+와/jcj'\n",
       "\\item '‘역’에서/ncn+와/jct'\n",
       "\\item '‘역’에서와/ncn'\n",
       "\\item '‘역’/nqq+에서/jca+와/jcj'\n",
       "\\item '‘역’에/nqq+서/jca+와/jcj'\n",
       "\\item '‘역’에서/nqq+와/jcj'\n",
       "\\item '‘역’에서/nqq+와/jct'\n",
       "\\item '‘역’에서와/nqq'\n",
       "\\end{enumerate*}\n",
       "\n",
       "\\item[\\$같이] \\begin{enumerate*}\n",
       "\\item '같/paa+이/xsa'\n",
       "\\item '같이/mag'\n",
       "\\end{enumerate*}\n",
       "\n",
       "\\item[\\$종성으로] '종성/ncn+으로/jca'\n",
       "\\item[\\$쓰인다] '쓰이/pvg+ㄴ다/ef'\n",
       "\\item[\\$.] \\begin{enumerate*}\n",
       "\\item './sf'\n",
       "\\item './sy'\n",
       "\\end{enumerate*}\n",
       "\n",
       "\\item[\\$목젖으로] '목젖/ncn+으로/jca'\n",
       "\\item[\\$콧길을] \\begin{enumerate*}\n",
       "\\item '콧길/ncn+을/jco'\n",
       "\\item '콧길을/ncn'\n",
       "\\item '콧길/nqq+을/jco'\n",
       "\\item '콧길을/nqq'\n",
       "\\end{enumerate*}\n",
       "\n",
       "\\item[\\$막고] \\begin{enumerate*}\n",
       "\\item '막/nbu+고/jcj'\n",
       "\\item '막/ncn+고/jcj'\n",
       "\\item '막/pvg+고/ecc'\n",
       "\\item '막/pvg+고/ecs'\n",
       "\\item '막/pvg+고/ecx'\n",
       "\\end{enumerate*}\n",
       "\n",
       "\\item[\\$혀뿌리를] '혀뿌리/ncn+를/jco'\n",
       "\\item[\\$높여] \\begin{enumerate*}\n",
       "\\item '높이/pvg+어/ecs'\n",
       "\\item '높이/pvg+어/ecx'\n",
       "\\item '높이/pvg+어/ef'\n",
       "\\end{enumerate*}\n",
       "\n",
       "\\item[\\$연구개를] '연구/ncpa+개/ncn+를/jco'\n",
       "\\item[\\$막았다가] \\begin{enumerate*}\n",
       "\\item '막/pvg+아/ep+다가/ecc'\n",
       "\\item '막/pvg+아/ep+다가/ecs'\n",
       "\\end{enumerate*}\n",
       "\n",
       "\\item[\\$뗄] '떼/pvg+ㄹ/etm'\n",
       "\\item[\\$때] \\begin{enumerate*}\n",
       "\\item '때/ncn'\n",
       "\\item '때/nbn'\n",
       "\\item '때/pvg+어/ecx'\n",
       "\\end{enumerate*}\n",
       "\n",
       "\\item[\\$나는] \\begin{enumerate*}\n",
       "\\item '나/ncn+는/jxc'\n",
       "\\item '나/npp+는/jxc'\n",
       "\\item '나/pvg+는/etm'\n",
       "\\item '나/px+는/etm'\n",
       "\\item '나/pvg+아/ecs+는/jxc'\n",
       "\\item '나/pvg+아/ef+는/etm'\n",
       "\\item '나/px+아/ecs+는/jxc'\n",
       "\\item '나/px+아/ef+는/etm'\n",
       "\\item '날/pvg+는/etm'\n",
       "\\end{enumerate*}\n",
       "\n",
       "\\item[\\$무성음이다] \\begin{enumerate*}\n",
       "\\item '무성/ncn+음/ncn+이/jp+다/ef'\n",
       "\\item '무성/ncpa+음/ncn+이/jp+다/ef'\n",
       "\\item '무성/ncps+음/ncn+이/jp+다/ef'\n",
       "\\end{enumerate*}\n",
       "\n",
       "\\item[\\$.] \\begin{enumerate*}\n",
       "\\item './sf'\n",
       "\\item './sy'\n",
       "\\end{enumerate*}\n",
       "\n",
       "\\item[\\$초성일] \\begin{enumerate*}\n",
       "\\item '초성/ncpa+일/ncn'\n",
       "\\item '초성/ncpa+일/ncpa'\n",
       "\\item '초성/ncpa+일/ncps'\n",
       "\\item '초성/ncpa+이/jp+ㄹ/etm'\n",
       "\\end{enumerate*}\n",
       "\n",
       "\\item[\\$때는] \\begin{enumerate*}\n",
       "\\item '때/ncn+는/jxc'\n",
       "\\item '때/nbn+는/jxc'\n",
       "\\item '때/pvg+는/etm'\n",
       "\\end{enumerate*}\n",
       "\n",
       "\\item[\\$무성이나] \\begin{enumerate*}\n",
       "\\item '무성/ncn+이나/jcj'\n",
       "\\item '무성/ncn+이나/jxc'\n",
       "\\item '무성/ncn+이/jcc+나/jxc'\n",
       "\\item '무성/ncn+이/jcs+나/jxc'\n",
       "\\item '무성/ncn+이/jp+나/ef'\n",
       "\\item '무성/ncn+이/ncn+나/jcj'\n",
       "\\item '무성/ncn+이/ncn+나/jxc'\n",
       "\\item '무성/ncn+이/ncn+이/jp+나/ef'\n",
       "\\item '무성/ncn+이/ncn+이/jp+나/ecc'\n",
       "\\item '무성/ncn+이/ncn+이/jp+나/ecs'\n",
       "\\item '무성/ncn+이/jp+나/ecc'\n",
       "\\item '무성/ncn+이/jp+나/ecs'\n",
       "\\item '무성/ncpa+이나/jcj'\n",
       "\\item '무성/ncpa+이나/jxc'\n",
       "\\item '무성/ncpa+이/jcc+나/jxc'\n",
       "\\item '무성/ncpa+이/jcs+나/jxc'\n",
       "\\item '무성/ncpa+이/jp+나/ef'\n",
       "\\item '무성/ncpa+이/ncn+나/jcj'\n",
       "\\item '무성/ncpa+이/ncn+나/jxc'\n",
       "\\item '무성/ncpa+이/ncn+이/jp+나/ef'\n",
       "\\item '무성/ncpa+이/ncn+이/jp+나/ecc'\n",
       "\\item '무성/ncpa+이/ncn+이/jp+나/ecs'\n",
       "\\item '무성/ncpa+이/jp+나/ecc'\n",
       "\\item '무성/ncpa+이/jp+나/ecs'\n",
       "\\item '무성/ncps+이나/jcj'\n",
       "\\item '무성/ncps+이나/jxc'\n",
       "\\item '무성/ncps+이/jcc+나/jxc'\n",
       "\\item '무성/ncps+이/jcs+나/jxc'\n",
       "\\item '무성/ncps+이/jp+나/ef'\n",
       "\\item '무성/ncps+이/ncn+나/jcj'\n",
       "\\item '무성/ncps+이/ncn+나/jxc'\n",
       "\\item '무성/ncps+이/ncn+이/jp+나/ef'\n",
       "\\item '무성/ncps+이/ncn+이/jp+나/ecc'\n",
       "\\item '무성/ncps+이/ncn+이/jp+나/ecs'\n",
       "\\item '무성/ncps+이/jp+나/ecc'\n",
       "\\item '무성/ncps+이/jp+나/ecs'\n",
       "\\end{enumerate*}\n",
       "\n",
       "\\item[\\$모음] \\begin{enumerate*}\n",
       "\\item '모음/ncn'\n",
       "\\item '모으/pvg+ㅁ/etn'\n",
       "\\end{enumerate*}\n",
       "\n",
       "\\item[\\$사이에서는] \\begin{enumerate*}\n",
       "\\item '사이/ncn+에서는/jca'\n",
       "\\item '사이/ncn+에서/jca+는/jxc'\n",
       "\\item '사이/ncn+에/jca+서는/jxc'\n",
       "\\item '사/nnc+이/nnc+에서는/jca'\n",
       "\\item '사/nnc+이/nnc+에서/jca+는/jxc'\n",
       "\\item '사/nnc+이/nnc+에/jca+서는/jxc'\n",
       "\\end{enumerate*}\n",
       "\n",
       "\\item[\\$유성음이] \\begin{enumerate*}\n",
       "\\item '유성/ncn+음/ncn+이/jcc'\n",
       "\\item '유성/ncn+음/ncn+이/jcs'\n",
       "\\end{enumerate*}\n",
       "\n",
       "\\item[\\$`되며,`] \\begin{enumerate*}\n",
       "\\item '되/nbu+이/jp+며/ecc+,/sp'\n",
       "\\item '되/nbu+이/jp+며/ecs+,/sp'\n",
       "\\item '되/paa+며/ecc+,/sp'\n",
       "\\item '되/paa+며/ecs+,/sp'\n",
       "\\item '되/pvg+며/ecc+,/sp'\n",
       "\\item '되/pvg+며/ecs+,/sp'\n",
       "\\item '되/px+며/ecc+,/sp'\n",
       "\\item '되/px+며/ecs+,/sp'\n",
       "\\end{enumerate*}\n",
       "\n",
       "\\item[\\$종성일] \\begin{enumerate*}\n",
       "\\item '종성/ncn+일/ncn'\n",
       "\\item '종성/ncn+일/ncpa'\n",
       "\\item '종성/ncn+일/ncps'\n",
       "\\item '종성/ncn+이/jp+ㄹ/etm'\n",
       "\\end{enumerate*}\n",
       "\n",
       "\\item[\\$때는] \\begin{enumerate*}\n",
       "\\item '때/ncn+는/jxc'\n",
       "\\item '때/nbn+는/jxc'\n",
       "\\item '때/pvg+는/etm'\n",
       "\\end{enumerate*}\n",
       "\n",
       "\\item[\\$혀뿌리를] '혀뿌리/ncn+를/jco'\n",
       "\\item[\\$떼지] \\begin{enumerate*}\n",
       "\\item '떼/ncn+이/jp+지/ecs'\n",
       "\\item '떼/ncn+이/jp+지/ecx'\n",
       "\\item '떼/ncn+이/jp+지/ef'\n",
       "\\item '떼/pvg+지/ecs'\n",
       "\\item '떼/pvg+지/ecx'\n",
       "\\item '떼/pvg+지/ef'\n",
       "\\end{enumerate*}\n",
       "\n",
       "\\item[\\$않고] \\begin{enumerate*}\n",
       "\\item '않/px+고/ecc'\n",
       "\\item '않/px+고/ecx'\n",
       "\\item '않/px+고/ecs'\n",
       "\\end{enumerate*}\n",
       "\n",
       "\\item[\\$발음한다] '발음/ncpa+하/xsva+ㄴ다/ef'\n",
       "\\item[\\$.] \\begin{enumerate*}\n",
       "\\item './sf'\n",
       "\\item './sy'\n",
       "\\end{enumerate*}\n",
       "\n",
       "\\item[\\$혀뿌리가] \\begin{enumerate*}\n",
       "\\item '혀뿌리/ncn+가/jcc'\n",
       "\\item '혀뿌리/ncn+가/jcs'\n",
       "\\end{enumerate*}\n",
       "\n",
       "\\item[\\$목구멍을] '목구멍/ncn+을/jco'\n",
       "\\item[\\$막는] \\begin{enumerate*}\n",
       "\\item '막/mag+는/jxc'\n",
       "\\item '막/nbu+는/jxc'\n",
       "\\item '막/ncn+는/jxc'\n",
       "\\item '막/pvg+는/etm'\n",
       "\\end{enumerate*}\n",
       "\n",
       "\\item[\\$모양을] '모양/ncn+을/jco'\n",
       "\\item[\\$본떠서] \\begin{enumerate*}\n",
       "\\item '본뜨/pvg+어서/ecs'\n",
       "\\item '본뜨/pvg+어서/ecx'\n",
       "\\item '본뜨/pvg+어서/ef'\n",
       "\\item '본뜨/pvg+어서/ep+어/ecs'\n",
       "\\item '본뜨/pvg+어서/ep+어/ecx'\n",
       "\\item '본뜨/pvg+어서/ep+어/ef'\n",
       "\\end{enumerate*}\n",
       "\n",
       "\\item[\\$만든] \\begin{enumerate*}\n",
       "\\item '만/nbs+든/jxc'\n",
       "\\item '만/ncn+든/jxc'\n",
       "\\item '만/nnc+든/jxc'\n",
       "\\item '만들/pvg+ㄴ/etm'\n",
       "\\item '만들/px+ㄴ/etm'\n",
       "\\end{enumerate*}\n",
       "\n",
       "\\item[\\$글자이다] \\begin{enumerate*}\n",
       "\\item '글자/ncn+이/jp+다/ef'\n",
       "\\item '글자/ncn+이/ncn+이/jp+다/ef'\n",
       "\\end{enumerate*}\n",
       "\n",
       "\\item[\\$.] \\begin{enumerate*}\n",
       "\\item './sf'\n",
       "\\item './sy'\n",
       "\\end{enumerate*}\n",
       "\n",
       "\\end{description}\n"
      ],
      "text/markdown": [
       "$한글\n",
       ":   1. '한글/ncn'\n",
       "2. '한글/nqq'\n",
       "\n",
       "\n",
       "\n",
       "$자모의\n",
       ":   1. '자모/ncn+의/jcm'\n",
       "2. '자모/ncn+의/ncn'\n",
       "\n",
       "\n",
       "\n",
       "$첫째\n",
       ":   1. '첫째/nno'\n",
       "2. '첫/nno+째/xsnu'\n",
       "\n",
       "\n",
       "\n",
       "$글자\n",
       ":   '글자/ncn'\n",
       "$.\n",
       ":   1. './sf'\n",
       "2. './sy'\n",
       "\n",
       "\n",
       "\n",
       "$기역이라\n",
       ":   1. '기역/ncn+이라/jca'\n",
       "2. '기역/ncn+이/ncn+이/jp+라/ecs'\n",
       "3. '기역/ncn+이/ncn+이/jp+라/ef'\n",
       "4. '기역/ncn+이/jp+라/ecs'\n",
       "5. '기역/ncn+이/jp+라/ef'\n",
       "\n",
       "\n",
       "\n",
       "$`이르며,`\n",
       ":   1. '이르/paa+며/ecc+,/sp'\n",
       "2. '이르/paa+며/ecs+,/sp'\n",
       "3. '이르/pvg+며/ecc+,/sp'\n",
       "4. '이르/pvg+며/ecs+,/sp'\n",
       "\n",
       "\n",
       "\n",
       "$`‘가’에서와`\n",
       ":   1. '‘가’/ncn+에서/jca+와/jcj'\n",
       "2. '‘가’에/ncn+서/jca+와/jcj'\n",
       "3. '‘가’에서/ncn+와/jcj'\n",
       "4. '‘가’에서/ncn+와/jct'\n",
       "5. '‘가’에서와/ncn'\n",
       "6. '‘가’/nqq+에서/jca+와/jcj'\n",
       "7. '‘가’에/nqq+서/jca+와/jcj'\n",
       "8. '‘가’에서/nqq+와/jcj'\n",
       "9. '‘가’에서/nqq+와/jct'\n",
       "10. '‘가’에서와/nqq'\n",
       "\n",
       "\n",
       "\n",
       "$같이\n",
       ":   1. '같/paa+이/xsa'\n",
       "2. '같이/mag'\n",
       "\n",
       "\n",
       "\n",
       "$`초성으로,`\n",
       ":   '초성/ncpa+으로/jca+,/sp'\n",
       "$`‘역’에서와`\n",
       ":   1. '‘역’/ncn+에서/jca+와/jcj'\n",
       "2. '‘역’에/ncn+서/jca+와/jcj'\n",
       "3. '‘역’에서/ncn+와/jcj'\n",
       "4. '‘역’에서/ncn+와/jct'\n",
       "5. '‘역’에서와/ncn'\n",
       "6. '‘역’/nqq+에서/jca+와/jcj'\n",
       "7. '‘역’에/nqq+서/jca+와/jcj'\n",
       "8. '‘역’에서/nqq+와/jcj'\n",
       "9. '‘역’에서/nqq+와/jct'\n",
       "10. '‘역’에서와/nqq'\n",
       "\n",
       "\n",
       "\n",
       "$같이\n",
       ":   1. '같/paa+이/xsa'\n",
       "2. '같이/mag'\n",
       "\n",
       "\n",
       "\n",
       "$종성으로\n",
       ":   '종성/ncn+으로/jca'\n",
       "$쓰인다\n",
       ":   '쓰이/pvg+ㄴ다/ef'\n",
       "$.\n",
       ":   1. './sf'\n",
       "2. './sy'\n",
       "\n",
       "\n",
       "\n",
       "$목젖으로\n",
       ":   '목젖/ncn+으로/jca'\n",
       "$콧길을\n",
       ":   1. '콧길/ncn+을/jco'\n",
       "2. '콧길을/ncn'\n",
       "3. '콧길/nqq+을/jco'\n",
       "4. '콧길을/nqq'\n",
       "\n",
       "\n",
       "\n",
       "$막고\n",
       ":   1. '막/nbu+고/jcj'\n",
       "2. '막/ncn+고/jcj'\n",
       "3. '막/pvg+고/ecc'\n",
       "4. '막/pvg+고/ecs'\n",
       "5. '막/pvg+고/ecx'\n",
       "\n",
       "\n",
       "\n",
       "$혀뿌리를\n",
       ":   '혀뿌리/ncn+를/jco'\n",
       "$높여\n",
       ":   1. '높이/pvg+어/ecs'\n",
       "2. '높이/pvg+어/ecx'\n",
       "3. '높이/pvg+어/ef'\n",
       "\n",
       "\n",
       "\n",
       "$연구개를\n",
       ":   '연구/ncpa+개/ncn+를/jco'\n",
       "$막았다가\n",
       ":   1. '막/pvg+아/ep+다가/ecc'\n",
       "2. '막/pvg+아/ep+다가/ecs'\n",
       "\n",
       "\n",
       "\n",
       "$뗄\n",
       ":   '떼/pvg+ㄹ/etm'\n",
       "$때\n",
       ":   1. '때/ncn'\n",
       "2. '때/nbn'\n",
       "3. '때/pvg+어/ecx'\n",
       "\n",
       "\n",
       "\n",
       "$나는\n",
       ":   1. '나/ncn+는/jxc'\n",
       "2. '나/npp+는/jxc'\n",
       "3. '나/pvg+는/etm'\n",
       "4. '나/px+는/etm'\n",
       "5. '나/pvg+아/ecs+는/jxc'\n",
       "6. '나/pvg+아/ef+는/etm'\n",
       "7. '나/px+아/ecs+는/jxc'\n",
       "8. '나/px+아/ef+는/etm'\n",
       "9. '날/pvg+는/etm'\n",
       "\n",
       "\n",
       "\n",
       "$무성음이다\n",
       ":   1. '무성/ncn+음/ncn+이/jp+다/ef'\n",
       "2. '무성/ncpa+음/ncn+이/jp+다/ef'\n",
       "3. '무성/ncps+음/ncn+이/jp+다/ef'\n",
       "\n",
       "\n",
       "\n",
       "$.\n",
       ":   1. './sf'\n",
       "2. './sy'\n",
       "\n",
       "\n",
       "\n",
       "$초성일\n",
       ":   1. '초성/ncpa+일/ncn'\n",
       "2. '초성/ncpa+일/ncpa'\n",
       "3. '초성/ncpa+일/ncps'\n",
       "4. '초성/ncpa+이/jp+ㄹ/etm'\n",
       "\n",
       "\n",
       "\n",
       "$때는\n",
       ":   1. '때/ncn+는/jxc'\n",
       "2. '때/nbn+는/jxc'\n",
       "3. '때/pvg+는/etm'\n",
       "\n",
       "\n",
       "\n",
       "$무성이나\n",
       ":   1. '무성/ncn+이나/jcj'\n",
       "2. '무성/ncn+이나/jxc'\n",
       "3. '무성/ncn+이/jcc+나/jxc'\n",
       "4. '무성/ncn+이/jcs+나/jxc'\n",
       "5. '무성/ncn+이/jp+나/ef'\n",
       "6. '무성/ncn+이/ncn+나/jcj'\n",
       "7. '무성/ncn+이/ncn+나/jxc'\n",
       "8. '무성/ncn+이/ncn+이/jp+나/ef'\n",
       "9. '무성/ncn+이/ncn+이/jp+나/ecc'\n",
       "10. '무성/ncn+이/ncn+이/jp+나/ecs'\n",
       "11. '무성/ncn+이/jp+나/ecc'\n",
       "12. '무성/ncn+이/jp+나/ecs'\n",
       "13. '무성/ncpa+이나/jcj'\n",
       "14. '무성/ncpa+이나/jxc'\n",
       "15. '무성/ncpa+이/jcc+나/jxc'\n",
       "16. '무성/ncpa+이/jcs+나/jxc'\n",
       "17. '무성/ncpa+이/jp+나/ef'\n",
       "18. '무성/ncpa+이/ncn+나/jcj'\n",
       "19. '무성/ncpa+이/ncn+나/jxc'\n",
       "20. '무성/ncpa+이/ncn+이/jp+나/ef'\n",
       "21. '무성/ncpa+이/ncn+이/jp+나/ecc'\n",
       "22. '무성/ncpa+이/ncn+이/jp+나/ecs'\n",
       "23. '무성/ncpa+이/jp+나/ecc'\n",
       "24. '무성/ncpa+이/jp+나/ecs'\n",
       "25. '무성/ncps+이나/jcj'\n",
       "26. '무성/ncps+이나/jxc'\n",
       "27. '무성/ncps+이/jcc+나/jxc'\n",
       "28. '무성/ncps+이/jcs+나/jxc'\n",
       "29. '무성/ncps+이/jp+나/ef'\n",
       "30. '무성/ncps+이/ncn+나/jcj'\n",
       "31. '무성/ncps+이/ncn+나/jxc'\n",
       "32. '무성/ncps+이/ncn+이/jp+나/ef'\n",
       "33. '무성/ncps+이/ncn+이/jp+나/ecc'\n",
       "34. '무성/ncps+이/ncn+이/jp+나/ecs'\n",
       "35. '무성/ncps+이/jp+나/ecc'\n",
       "36. '무성/ncps+이/jp+나/ecs'\n",
       "\n",
       "\n",
       "\n",
       "$모음\n",
       ":   1. '모음/ncn'\n",
       "2. '모으/pvg+ㅁ/etn'\n",
       "\n",
       "\n",
       "\n",
       "$사이에서는\n",
       ":   1. '사이/ncn+에서는/jca'\n",
       "2. '사이/ncn+에서/jca+는/jxc'\n",
       "3. '사이/ncn+에/jca+서는/jxc'\n",
       "4. '사/nnc+이/nnc+에서는/jca'\n",
       "5. '사/nnc+이/nnc+에서/jca+는/jxc'\n",
       "6. '사/nnc+이/nnc+에/jca+서는/jxc'\n",
       "\n",
       "\n",
       "\n",
       "$유성음이\n",
       ":   1. '유성/ncn+음/ncn+이/jcc'\n",
       "2. '유성/ncn+음/ncn+이/jcs'\n",
       "\n",
       "\n",
       "\n",
       "$`되며,`\n",
       ":   1. '되/nbu+이/jp+며/ecc+,/sp'\n",
       "2. '되/nbu+이/jp+며/ecs+,/sp'\n",
       "3. '되/paa+며/ecc+,/sp'\n",
       "4. '되/paa+며/ecs+,/sp'\n",
       "5. '되/pvg+며/ecc+,/sp'\n",
       "6. '되/pvg+며/ecs+,/sp'\n",
       "7. '되/px+며/ecc+,/sp'\n",
       "8. '되/px+며/ecs+,/sp'\n",
       "\n",
       "\n",
       "\n",
       "$종성일\n",
       ":   1. '종성/ncn+일/ncn'\n",
       "2. '종성/ncn+일/ncpa'\n",
       "3. '종성/ncn+일/ncps'\n",
       "4. '종성/ncn+이/jp+ㄹ/etm'\n",
       "\n",
       "\n",
       "\n",
       "$때는\n",
       ":   1. '때/ncn+는/jxc'\n",
       "2. '때/nbn+는/jxc'\n",
       "3. '때/pvg+는/etm'\n",
       "\n",
       "\n",
       "\n",
       "$혀뿌리를\n",
       ":   '혀뿌리/ncn+를/jco'\n",
       "$떼지\n",
       ":   1. '떼/ncn+이/jp+지/ecs'\n",
       "2. '떼/ncn+이/jp+지/ecx'\n",
       "3. '떼/ncn+이/jp+지/ef'\n",
       "4. '떼/pvg+지/ecs'\n",
       "5. '떼/pvg+지/ecx'\n",
       "6. '떼/pvg+지/ef'\n",
       "\n",
       "\n",
       "\n",
       "$않고\n",
       ":   1. '않/px+고/ecc'\n",
       "2. '않/px+고/ecx'\n",
       "3. '않/px+고/ecs'\n",
       "\n",
       "\n",
       "\n",
       "$발음한다\n",
       ":   '발음/ncpa+하/xsva+ㄴ다/ef'\n",
       "$.\n",
       ":   1. './sf'\n",
       "2. './sy'\n",
       "\n",
       "\n",
       "\n",
       "$혀뿌리가\n",
       ":   1. '혀뿌리/ncn+가/jcc'\n",
       "2. '혀뿌리/ncn+가/jcs'\n",
       "\n",
       "\n",
       "\n",
       "$목구멍을\n",
       ":   '목구멍/ncn+을/jco'\n",
       "$막는\n",
       ":   1. '막/mag+는/jxc'\n",
       "2. '막/nbu+는/jxc'\n",
       "3. '막/ncn+는/jxc'\n",
       "4. '막/pvg+는/etm'\n",
       "\n",
       "\n",
       "\n",
       "$모양을\n",
       ":   '모양/ncn+을/jco'\n",
       "$본떠서\n",
       ":   1. '본뜨/pvg+어서/ecs'\n",
       "2. '본뜨/pvg+어서/ecx'\n",
       "3. '본뜨/pvg+어서/ef'\n",
       "4. '본뜨/pvg+어서/ep+어/ecs'\n",
       "5. '본뜨/pvg+어서/ep+어/ecx'\n",
       "6. '본뜨/pvg+어서/ep+어/ef'\n",
       "\n",
       "\n",
       "\n",
       "$만든\n",
       ":   1. '만/nbs+든/jxc'\n",
       "2. '만/ncn+든/jxc'\n",
       "3. '만/nnc+든/jxc'\n",
       "4. '만들/pvg+ㄴ/etm'\n",
       "5. '만들/px+ㄴ/etm'\n",
       "\n",
       "\n",
       "\n",
       "$글자이다\n",
       ":   1. '글자/ncn+이/jp+다/ef'\n",
       "2. '글자/ncn+이/ncn+이/jp+다/ef'\n",
       "\n",
       "\n",
       "\n",
       "$.\n",
       ":   1. './sf'\n",
       "2. './sy'\n",
       "\n",
       "\n",
       "\n",
       "\n",
       "\n"
      ],
      "text/plain": [
       "$한글\n",
       "[1] \"한글/ncn\" \"한글/nqq\"\n",
       "\n",
       "$자모의\n",
       "[1] \"자모/ncn+의/jcm\" \"자모/ncn+의/ncn\"\n",
       "\n",
       "$첫째\n",
       "[1] \"첫째/nno\"       \"첫/nno+째/xsnu\"\n",
       "\n",
       "$글자\n",
       "[1] \"글자/ncn\"\n",
       "\n",
       "$.\n",
       "[1] \"./sf\" \"./sy\"\n",
       "\n",
       "$기역이라\n",
       "[1] \"기역/ncn+이라/jca\"            \"기역/ncn+이/ncn+이/jp+라/ecs\"\n",
       "[3] \"기역/ncn+이/ncn+이/jp+라/ef\"  \"기역/ncn+이/jp+라/ecs\"       \n",
       "[5] \"기역/ncn+이/jp+라/ef\"        \n",
       "\n",
       "$`이르며,`\n",
       "[1] \"이르/paa+며/ecc+,/sp\" \"이르/paa+며/ecs+,/sp\" \"이르/pvg+며/ecc+,/sp\"\n",
       "[4] \"이르/pvg+며/ecs+,/sp\"\n",
       "\n",
       "$`‘가’에서와`\n",
       " [1] \"‘가’/ncn+에서/jca+와/jcj\" \"‘가’에/ncn+서/jca+와/jcj\"\n",
       " [3] \"‘가’에서/ncn+와/jcj\"      \"‘가’에서/ncn+와/jct\"     \n",
       " [5] \"‘가’에서와/ncn\"           \"‘가’/nqq+에서/jca+와/jcj\"\n",
       " [7] \"‘가’에/nqq+서/jca+와/jcj\" \"‘가’에서/nqq+와/jcj\"     \n",
       " [9] \"‘가’에서/nqq+와/jct\"      \"‘가’에서와/nqq\"          \n",
       "\n",
       "$같이\n",
       "[1] \"같/paa+이/xsa\" \"같이/mag\"     \n",
       "\n",
       "$`초성으로,`\n",
       "[1] \"초성/ncpa+으로/jca+,/sp\"\n",
       "\n",
       "$`‘역’에서와`\n",
       " [1] \"‘역’/ncn+에서/jca+와/jcj\" \"‘역’에/ncn+서/jca+와/jcj\"\n",
       " [3] \"‘역’에서/ncn+와/jcj\"      \"‘역’에서/ncn+와/jct\"     \n",
       " [5] \"‘역’에서와/ncn\"           \"‘역’/nqq+에서/jca+와/jcj\"\n",
       " [7] \"‘역’에/nqq+서/jca+와/jcj\" \"‘역’에서/nqq+와/jcj\"     \n",
       " [9] \"‘역’에서/nqq+와/jct\"      \"‘역’에서와/nqq\"          \n",
       "\n",
       "$같이\n",
       "[1] \"같/paa+이/xsa\" \"같이/mag\"     \n",
       "\n",
       "$종성으로\n",
       "[1] \"종성/ncn+으로/jca\"\n",
       "\n",
       "$쓰인다\n",
       "[1] \"쓰이/pvg+ㄴ다/ef\"\n",
       "\n",
       "$.\n",
       "[1] \"./sf\" \"./sy\"\n",
       "\n",
       "$목젖으로\n",
       "[1] \"목젖/ncn+으로/jca\"\n",
       "\n",
       "$콧길을\n",
       "[1] \"콧길/ncn+을/jco\" \"콧길을/ncn\"      \"콧길/nqq+을/jco\" \"콧길을/nqq\"     \n",
       "\n",
       "$막고\n",
       "[1] \"막/nbu+고/jcj\" \"막/ncn+고/jcj\" \"막/pvg+고/ecc\" \"막/pvg+고/ecs\"\n",
       "[5] \"막/pvg+고/ecx\"\n",
       "\n",
       "$혀뿌리를\n",
       "[1] \"혀뿌리/ncn+를/jco\"\n",
       "\n",
       "$높여\n",
       "[1] \"높이/pvg+어/ecs\" \"높이/pvg+어/ecx\" \"높이/pvg+어/ef\" \n",
       "\n",
       "$연구개를\n",
       "[1] \"연구/ncpa+개/ncn+를/jco\"\n",
       "\n",
       "$막았다가\n",
       "[1] \"막/pvg+아/ep+다가/ecc\" \"막/pvg+아/ep+다가/ecs\"\n",
       "\n",
       "$뗄\n",
       "[1] \"떼/pvg+ㄹ/etm\"\n",
       "\n",
       "$때\n",
       "[1] \"때/ncn\"        \"때/nbn\"        \"때/pvg+어/ecx\"\n",
       "\n",
       "$나는\n",
       "[1] \"나/ncn+는/jxc\"        \"나/npp+는/jxc\"        \"나/pvg+는/etm\"       \n",
       "[4] \"나/px+는/etm\"         \"나/pvg+아/ecs+는/jxc\" \"나/pvg+아/ef+는/etm\" \n",
       "[7] \"나/px+아/ecs+는/jxc\"  \"나/px+아/ef+는/etm\"   \"날/pvg+는/etm\"       \n",
       "\n",
       "$무성음이다\n",
       "[1] \"무성/ncn+음/ncn+이/jp+다/ef\"  \"무성/ncpa+음/ncn+이/jp+다/ef\"\n",
       "[3] \"무성/ncps+음/ncn+이/jp+다/ef\"\n",
       "\n",
       "$.\n",
       "[1] \"./sf\" \"./sy\"\n",
       "\n",
       "$초성일\n",
       "[1] \"초성/ncpa+일/ncn\"       \"초성/ncpa+일/ncpa\"      \"초성/ncpa+일/ncps\"     \n",
       "[4] \"초성/ncpa+이/jp+ㄹ/etm\"\n",
       "\n",
       "$때는\n",
       "[1] \"때/ncn+는/jxc\" \"때/nbn+는/jxc\" \"때/pvg+는/etm\"\n",
       "\n",
       "$무성이나\n",
       " [1] \"무성/ncn+이나/jcj\"             \"무성/ncn+이나/jxc\"            \n",
       " [3] \"무성/ncn+이/jcc+나/jxc\"        \"무성/ncn+이/jcs+나/jxc\"       \n",
       " [5] \"무성/ncn+이/jp+나/ef\"          \"무성/ncn+이/ncn+나/jcj\"       \n",
       " [7] \"무성/ncn+이/ncn+나/jxc\"        \"무성/ncn+이/ncn+이/jp+나/ef\"  \n",
       " [9] \"무성/ncn+이/ncn+이/jp+나/ecc\"  \"무성/ncn+이/ncn+이/jp+나/ecs\" \n",
       "[11] \"무성/ncn+이/jp+나/ecc\"         \"무성/ncn+이/jp+나/ecs\"        \n",
       "[13] \"무성/ncpa+이나/jcj\"            \"무성/ncpa+이나/jxc\"           \n",
       "[15] \"무성/ncpa+이/jcc+나/jxc\"       \"무성/ncpa+이/jcs+나/jxc\"      \n",
       "[17] \"무성/ncpa+이/jp+나/ef\"         \"무성/ncpa+이/ncn+나/jcj\"      \n",
       "[19] \"무성/ncpa+이/ncn+나/jxc\"       \"무성/ncpa+이/ncn+이/jp+나/ef\" \n",
       "[21] \"무성/ncpa+이/ncn+이/jp+나/ecc\" \"무성/ncpa+이/ncn+이/jp+나/ecs\"\n",
       "[23] \"무성/ncpa+이/jp+나/ecc\"        \"무성/ncpa+이/jp+나/ecs\"       \n",
       "[25] \"무성/ncps+이나/jcj\"            \"무성/ncps+이나/jxc\"           \n",
       "[27] \"무성/ncps+이/jcc+나/jxc\"       \"무성/ncps+이/jcs+나/jxc\"      \n",
       "[29] \"무성/ncps+이/jp+나/ef\"         \"무성/ncps+이/ncn+나/jcj\"      \n",
       "[31] \"무성/ncps+이/ncn+나/jxc\"       \"무성/ncps+이/ncn+이/jp+나/ef\" \n",
       "[33] \"무성/ncps+이/ncn+이/jp+나/ecc\" \"무성/ncps+이/ncn+이/jp+나/ecs\"\n",
       "[35] \"무성/ncps+이/jp+나/ecc\"        \"무성/ncps+이/jp+나/ecs\"       \n",
       "\n",
       "$모음\n",
       "[1] \"모음/ncn\"        \"모으/pvg+ㅁ/etn\"\n",
       "\n",
       "$사이에서는\n",
       "[1] \"사이/ncn+에서는/jca\"           \"사이/ncn+에서/jca+는/jxc\"     \n",
       "[3] \"사이/ncn+에/jca+서는/jxc\"      \"사/nnc+이/nnc+에서는/jca\"     \n",
       "[5] \"사/nnc+이/nnc+에서/jca+는/jxc\" \"사/nnc+이/nnc+에/jca+서는/jxc\"\n",
       "\n",
       "$유성음이\n",
       "[1] \"유성/ncn+음/ncn+이/jcc\" \"유성/ncn+음/ncn+이/jcs\"\n",
       "\n",
       "$`되며,`\n",
       "[1] \"되/nbu+이/jp+며/ecc+,/sp\" \"되/nbu+이/jp+며/ecs+,/sp\"\n",
       "[3] \"되/paa+며/ecc+,/sp\"       \"되/paa+며/ecs+,/sp\"      \n",
       "[5] \"되/pvg+며/ecc+,/sp\"       \"되/pvg+며/ecs+,/sp\"      \n",
       "[7] \"되/px+며/ecc+,/sp\"        \"되/px+며/ecs+,/sp\"       \n",
       "\n",
       "$종성일\n",
       "[1] \"종성/ncn+일/ncn\"       \"종성/ncn+일/ncpa\"      \"종성/ncn+일/ncps\"     \n",
       "[4] \"종성/ncn+이/jp+ㄹ/etm\"\n",
       "\n",
       "$때는\n",
       "[1] \"때/ncn+는/jxc\" \"때/nbn+는/jxc\" \"때/pvg+는/etm\"\n",
       "\n",
       "$혀뿌리를\n",
       "[1] \"혀뿌리/ncn+를/jco\"\n",
       "\n",
       "$떼지\n",
       "[1] \"떼/ncn+이/jp+지/ecs\" \"떼/ncn+이/jp+지/ecx\" \"떼/ncn+이/jp+지/ef\" \n",
       "[4] \"떼/pvg+지/ecs\"       \"떼/pvg+지/ecx\"       \"떼/pvg+지/ef\"       \n",
       "\n",
       "$않고\n",
       "[1] \"않/px+고/ecc\" \"않/px+고/ecx\" \"않/px+고/ecs\"\n",
       "\n",
       "$발음한다\n",
       "[1] \"발음/ncpa+하/xsva+ㄴ다/ef\"\n",
       "\n",
       "$.\n",
       "[1] \"./sf\" \"./sy\"\n",
       "\n",
       "$혀뿌리가\n",
       "[1] \"혀뿌리/ncn+가/jcc\" \"혀뿌리/ncn+가/jcs\"\n",
       "\n",
       "$목구멍을\n",
       "[1] \"목구멍/ncn+을/jco\"\n",
       "\n",
       "$막는\n",
       "[1] \"막/mag+는/jxc\" \"막/nbu+는/jxc\" \"막/ncn+는/jxc\" \"막/pvg+는/etm\"\n",
       "\n",
       "$모양을\n",
       "[1] \"모양/ncn+을/jco\"\n",
       "\n",
       "$본떠서\n",
       "[1] \"본뜨/pvg+어서/ecs\"       \"본뜨/pvg+어서/ecx\"      \n",
       "[3] \"본뜨/pvg+어서/ef\"        \"본뜨/pvg+어서/ep+어/ecs\"\n",
       "[5] \"본뜨/pvg+어서/ep+어/ecx\" \"본뜨/pvg+어서/ep+어/ef\" \n",
       "\n",
       "$만든\n",
       "[1] \"만/nbs+든/jxc\"   \"만/ncn+든/jxc\"   \"만/nnc+든/jxc\"   \"만들/pvg+ㄴ/etm\"\n",
       "[5] \"만들/px+ㄴ/etm\" \n",
       "\n",
       "$글자이다\n",
       "[1] \"글자/ncn+이/jp+다/ef\"        \"글자/ncn+이/ncn+이/jp+다/ef\"\n",
       "\n",
       "$.\n",
       "[1] \"./sf\" \"./sy\"\n"
      ]
     },
     "metadata": {},
     "output_type": "display_data"
    }
   ],
   "source": [
    "### KoNLP 형태소 분석기\n",
    "MorphAnalyzer(joinData[1,6])"
   ]
  },
  {
   "cell_type": "code",
   "execution_count": 31,
   "metadata": {},
   "outputs": [
    {
     "data": {
      "text/html": [
       "<table>\n",
       "<thead><tr><th scope=col>뜻풀이</th></tr></thead>\n",
       "<tbody>\n",
       "\t<tr><td>한글 자모의 첫째 글자. 기역이라 이르며, ‘가’에서와 같이 초성으로, ‘역’에서와 같이 종성으로 쓰인다. 목젖으로 콧길을 막고 혀뿌리를 높여 연구개를 막았다가 뗄 때 나는 무성음이다. 초성일 때는 무성이나 모음 사이에서는 유성음이 되며, 종성일 때는 혀뿌리를 떼지 않고 발음한다. 혀뿌리가 목구멍을 막는 모양을 본떠서 만든 글자이다.</td></tr>\n",
       "\t<tr><td>한글의 ‘ㄱ, ㄴ, ㄷ……’ 차례로 매기는 순서.                                                                                                                                                                                                                                                                                      </td></tr>\n",
       "\t<tr><td>한글의 ‘ㄱ, ㄴ, ㄷ……’ 차례로 매기는 순서.                                                                                                                                                                                                                                                                                      </td></tr>\n",
       "\t<tr><td>한글의 ‘ㄱ, ㄴ, ㄷ……’ 차례로 매기는 순서.                                                                                                                                                                                                                                                                                      </td></tr>\n",
       "\t<tr><td>한글의 ‘ㄱ, ㄴ, ㄷ……’ 차례로 매기는 순서.                                                                                                                                                                                                                                                                                      </td></tr>\n",
       "\t<tr><td>한글의 ‘ㄱ, ㄴ, ㄷ……’ 차례로 매기는 순서.                                                                                                                                                                                                                                                                                      </td></tr>\n",
       "</tbody>\n",
       "</table>\n"
      ],
      "text/latex": [
       "\\begin{tabular}{r|l}\n",
       " 뜻풀이\\\\\n",
       "\\hline\n",
       "\t 한글 자모의 첫째 글자. 기역이라 이르며, ‘가’에서와 같이 초성으로, ‘역’에서와 같이 종성으로 쓰인다. 목젖으로 콧길을 막고 혀뿌리를 높여 연구개를 막았다가 뗄 때 나는 무성음이다. 초성일 때는 무성이나 모음 사이에서는 유성음이 되며, 종성일 때는 혀뿌리를 떼지 않고 발음한다. 혀뿌리가 목구멍을 막는 모양을 본떠서 만든 글자이다.\\\\\n",
       "\t 한글의 ‘ㄱ, ㄴ, ㄷ……’ 차례로 매기는 순서.                                                                                                                                                                                                                                                                                      \\\\\n",
       "\t 한글의 ‘ㄱ, ㄴ, ㄷ……’ 차례로 매기는 순서.                                                                                                                                                                                                                                                                                      \\\\\n",
       "\t 한글의 ‘ㄱ, ㄴ, ㄷ……’ 차례로 매기는 순서.                                                                                                                                                                                                                                                                                      \\\\\n",
       "\t 한글의 ‘ㄱ, ㄴ, ㄷ……’ 차례로 매기는 순서.                                                                                                                                                                                                                                                                                      \\\\\n",
       "\t 한글의 ‘ㄱ, ㄴ, ㄷ……’ 차례로 매기는 순서.                                                                                                                                                                                                                                                                                      \\\\\n",
       "\\end{tabular}\n"
      ],
      "text/markdown": [
       "\n",
       "| 뜻풀이 |\n",
       "|---|\n",
       "| 한글 자모의 첫째 글자. 기역이라 이르며, ‘가’에서와 같이 초성으로, ‘역’에서와 같이 종성으로 쓰인다. 목젖으로 콧길을 막고 혀뿌리를 높여 연구개를 막았다가 뗄 때 나는 무성음이다. 초성일 때는 무성이나 모음 사이에서는 유성음이 되며, 종성일 때는 혀뿌리를 떼지 않고 발음한다. 혀뿌리가 목구멍을 막는 모양을 본떠서 만든 글자이다. |\n",
       "| 한글의 ‘ㄱ, ㄴ, ㄷ……’ 차례로 매기는 순서.                                                                                                                                                                                                                                                                                       |\n",
       "| 한글의 ‘ㄱ, ㄴ, ㄷ……’ 차례로 매기는 순서.                                                                                                                                                                                                                                                                                       |\n",
       "| 한글의 ‘ㄱ, ㄴ, ㄷ……’ 차례로 매기는 순서.                                                                                                                                                                                                                                                                                       |\n",
       "| 한글의 ‘ㄱ, ㄴ, ㄷ……’ 차례로 매기는 순서.                                                                                                                                                                                                                                                                                       |\n",
       "| 한글의 ‘ㄱ, ㄴ, ㄷ……’ 차례로 매기는 순서.                                                                                                                                                                                                                                                                                       |\n",
       "\n"
      ],
      "text/plain": [
       "  뜻풀이                                                                                                                                                                                                                                                                                                                             \n",
       "1 한글 자모의 첫째 글자. 기역이라 이르며, ‘가’에서와 같이 초성으로, ‘역’에서와 같이 종성으로 쓰인다. 목젖으로 콧길을 막고 혀뿌리를 높여 연구개를 막았다가 뗄 때 나는 무성음이다. 초성일 때는 무성이나 모음 사이에서는 유성음이 되며, 종성일 때는 혀뿌리를 떼지 않고 발음한다. 혀뿌리가 목구멍을 막는 모양을 본떠서 만든 글자이다.\n",
       "2 한글의 ‘ㄱ, ㄴ, ㄷ……’ 차례로 매기는 순서.                                                                                                                                                                                                                                                                                      \n",
       "3 한글의 ‘ㄱ, ㄴ, ㄷ……’ 차례로 매기는 순서.                                                                                                                                                                                                                                                                                      \n",
       "4 한글의 ‘ㄱ, ㄴ, ㄷ……’ 차례로 매기는 순서.                                                                                                                                                                                                                                                                                      \n",
       "5 한글의 ‘ㄱ, ㄴ, ㄷ……’ 차례로 매기는 순서.                                                                                                                                                                                                                                                                                      \n",
       "6 한글의 ‘ㄱ, ㄴ, ㄷ……’ 차례로 매기는 순서.                                                                                                                                                                                                                                                                                      "
      ]
     },
     "metadata": {},
     "output_type": "display_data"
    }
   ],
   "source": [
    "head(joinData['뜻풀이'])"
   ]
  },
  {
   "cell_type": "code",
   "execution_count": 33,
   "metadata": {},
   "outputs": [
    {
     "ename": "ERROR",
     "evalue": "Error in pos(as.character(joinData[1, 6])): Mecab binary is not installed. Please run install_mecab().\n",
     "output_type": "error",
     "traceback": [
      "Error in pos(as.character(joinData[1, 6])): Mecab binary is not installed. Please run install_mecab().\nTraceback:\n",
      "1. pos(as.character(joinData[1, 6]))",
      "2. stop(\"Mecab binary is not installed. Please run install_mecab().\")"
     ]
    }
   ],
   "source": [
    "pos(as.character(joinData[1,6]))"
   ]
  },
  {
   "cell_type": "code",
   "execution_count": 34,
   "metadata": {},
   "outputs": [
    {
     "name": "stdout",
     "output_type": "stream",
     "text": [
      "Install mecab-ko-msvc...Install mecab-ko-dic-msvc..."
     ]
    }
   ],
   "source": [
    "RmecabKo::install_mecab(\"c:/mecab\")"
   ]
  },
  {
   "cell_type": "code",
   "execution_count": 43,
   "metadata": {
    "scrolled": true
   },
   "outputs": [
    {
     "data": {
      "text/html": [
       "'한글 자모의 첫째 글자. 기역이라 이르며, ‘가’에서와 같이 초성으로, ‘역’에서와 같이 종성으로 쓰인다. 목젖으로 콧길을 막고 혀뿌리를 높여 연구개를 막았다가 뗄 때 나는 무성음이다. 초성일 때는 무성이나 모음 사이에서는 유성음이 되며, 종성일 때는 혀뿌리를 떼지 않고 발음한다. 혀뿌리가 목구멍을 막는 모양을 본떠서 만든 글자이다.'"
      ],
      "text/latex": [
       "'한글 자모의 첫째 글자. 기역이라 이르며, ‘가’에서와 같이 초성으로, ‘역’에서와 같이 종성으로 쓰인다. 목젖으로 콧길을 막고 혀뿌리를 높여 연구개를 막았다가 뗄 때 나는 무성음이다. 초성일 때는 무성이나 모음 사이에서는 유성음이 되며, 종성일 때는 혀뿌리를 떼지 않고 발음한다. 혀뿌리가 목구멍을 막는 모양을 본떠서 만든 글자이다.'"
      ],
      "text/markdown": [
       "'한글 자모의 첫째 글자. 기역이라 이르며, ‘가’에서와 같이 초성으로, ‘역’에서와 같이 종성으로 쓰인다. 목젖으로 콧길을 막고 혀뿌리를 높여 연구개를 막았다가 뗄 때 나는 무성음이다. 초성일 때는 무성이나 모음 사이에서는 유성음이 되며, 종성일 때는 혀뿌리를 떼지 않고 발음한다. 혀뿌리가 목구멍을 막는 모양을 본떠서 만든 글자이다.'"
      ],
      "text/plain": [
       "[1] \"한글 자모의 첫째 글자. 기역이라 이르며, ‘가’에서와 같이 초성으로, ‘역’에서와 같이 종성으로 쓰인다. 목젖으로 콧길을 막고 혀뿌리를 높여 연구개를 막았다가 뗄 때 나는 무성음이다. 초성일 때는 무성이나 모음 사이에서는 유성음이 되며, 종성일 때는 혀뿌리를 떼지 않고 발음한다. 혀뿌리가 목구멍을 막는 모양을 본떠서 만든 글자이다.\""
      ]
     },
     "metadata": {},
     "output_type": "display_data"
    }
   ],
   "source": [
    "as.character(joinData[1,6])"
   ]
  },
  {
   "cell_type": "code",
   "execution_count": 39,
   "metadata": {},
   "outputs": [],
   "source": [
    "test <- \"한글 테스트 입니다.\""
   ]
  },
  {
   "cell_type": "code",
   "execution_count": 37,
   "metadata": {},
   "outputs": [],
   "source": [
    "test <- iconv(test, to = \"UTF-8\")"
   ]
  },
  {
   "cell_type": "code",
   "execution_count": 40,
   "metadata": {},
   "outputs": [
    {
     "data": {
      "text/html": [
       "<strong>$`한글 테스트 입니다.`</strong> = <ol class=list-inline>\n",
       "\t<li>'한글/NNG'</li>\n",
       "\t<li>'테스트/NNG'</li>\n",
       "\t<li>'입니다/VCP+EF'</li>\n",
       "\t<li>'./SF'</li>\n",
       "</ol>\n"
      ],
      "text/latex": [
       "\\textbf{\\$`한글 테스트 입니다.`} = \\begin{enumerate*}\n",
       "\\item '한글/NNG'\n",
       "\\item '테스트/NNG'\n",
       "\\item '입니다/VCP+EF'\n",
       "\\item './SF'\n",
       "\\end{enumerate*}\n"
      ],
      "text/markdown": [
       "**$`한글 테스트 입니다.`** = 1. '한글/NNG'\n",
       "2. '테스트/NNG'\n",
       "3. '입니다/VCP+EF'\n",
       "4. './SF'\n",
       "\n",
       "\n"
      ],
      "text/plain": [
       "$`한글 테스트 입니다.`\n",
       "[1] \"한글/NNG\"      \"테스트/NNG\"    \"입니다/VCP+EF\" \"./SF\"         \n"
      ]
     },
     "metadata": {},
     "output_type": "display_data"
    }
   ],
   "source": [
    "pos(test)"
   ]
  },
  {
   "cell_type": "code",
   "execution_count": 44,
   "metadata": {},
   "outputs": [
    {
     "data": {
      "text/html": [
       "'character'"
      ],
      "text/latex": [
       "'character'"
      ],
      "text/markdown": [
       "'character'"
      ],
      "text/plain": [
       "[1] \"character\""
      ]
     },
     "metadata": {},
     "output_type": "display_data"
    }
   ],
   "source": [
    "typeof(as.character(joinData[1,6]))"
   ]
  },
  {
   "cell_type": "code",
   "execution_count": 45,
   "metadata": {},
   "outputs": [
    {
     "data": {
      "text/html": [
       "'character'"
      ],
      "text/latex": [
       "'character'"
      ],
      "text/markdown": [
       "'character'"
      ],
      "text/plain": [
       "[1] \"character\""
      ]
     },
     "metadata": {},
     "output_type": "display_data"
    }
   ],
   "source": [
    "typeof(test)"
   ]
  },
  {
   "cell_type": "code",
   "execution_count": 47,
   "metadata": {},
   "outputs": [
    {
     "name": "stderr",
     "output_type": "stream",
     "text": [
      "also installing the dependencies 'SnowballC', 'ISOcodes', 'hunspell', 'tokenizers', 'janeaustenr', 'stopwords'\n",
      "\n"
     ]
    },
    {
     "name": "stdout",
     "output_type": "stream",
     "text": [
      "package 'SnowballC' successfully unpacked and MD5 sums checked\n",
      "package 'ISOcodes' successfully unpacked and MD5 sums checked\n",
      "package 'hunspell' successfully unpacked and MD5 sums checked\n",
      "package 'tokenizers' successfully unpacked and MD5 sums checked\n",
      "package 'janeaustenr' successfully unpacked and MD5 sums checked\n",
      "package 'stopwords' successfully unpacked and MD5 sums checked\n",
      "package 'tidytext' successfully unpacked and MD5 sums checked\n",
      "\n",
      "The downloaded binary packages are in\n",
      "\tC:\\Users\\82102\\AppData\\Local\\Temp\\RtmpiwJDDT\\downloaded_packages\n"
     ]
    }
   ],
   "source": [
    "install.packages(\"tidytext\", repos = \"https://cloud.r-project.org\")"
   ]
  },
  {
   "cell_type": "code",
   "execution_count": 48,
   "metadata": {},
   "outputs": [
    {
     "name": "stdout",
     "output_type": "stream",
     "text": [
      "package 'RcppMeCab' successfully unpacked and MD5 sums checked\n",
      "\n",
      "The downloaded binary packages are in\n",
      "\tC:\\Users\\82102\\AppData\\Local\\Temp\\RtmpiwJDDT\\downloaded_packages\n"
     ]
    }
   ],
   "source": [
    "install.packages(\"RcppMeCab\", repos = \"https://cloud.r-project.org\")"
   ]
  },
  {
   "cell_type": "code",
   "execution_count": 49,
   "metadata": {},
   "outputs": [
    {
     "name": "stderr",
     "output_type": "stream",
     "text": [
      "Warning message:\n",
      "\"package 'RcppMeCab' was built under R version 3.6.2\"\n",
      "Attaching package: 'RcppMeCab'\n",
      "\n",
      "The following object is masked from 'package:RmecabKo':\n",
      "\n",
      "    pos\n",
      "\n"
     ]
    }
   ],
   "source": [
    "library('RcppMeCab')"
   ]
  },
  {
   "cell_type": "code",
   "execution_count": 50,
   "metadata": {},
   "outputs": [],
   "source": [
    "library('RmecabKo')"
   ]
  },
  {
   "cell_type": "code",
   "execution_count": 51,
   "metadata": {},
   "outputs": [
    {
     "data": {
      "text/html": [
       "<strong>$`한글 자모의 첫째 글자. 기역이라 이르며, ‘가’에서와 같이 초성으로, ‘역’에서와 같이 종성으로 쓰인다. 목젖으로 콧길을 막고 혀뿌리를 높여 연구개를 막았다가 뗄 때 나는 무성음이다. 초성일 때는 무성이나 모음 사이에서는 유성음이 되며, 종성일 때는 혀뿌리를 떼지 않고 발음한다. 혀뿌리가 목구멍을 막는 모양을 본떠서 만든 글자이다.`</strong> = <ol class=list-inline>\n",
       "\t<li>'한글/NNG'</li>\n",
       "\t<li>'자모/NNG'</li>\n",
       "\t<li>'의/JKG'</li>\n",
       "\t<li>'첫째/NR'</li>\n",
       "\t<li>'글자/NNG'</li>\n",
       "\t<li>'./SY'</li>\n",
       "\t<li>'기역/NNG'</li>\n",
       "\t<li>'이/VCP'</li>\n",
       "\t<li>'라/EC'</li>\n",
       "\t<li>'이르/VV'</li>\n",
       "\t<li>'며/EC'</li>\n",
       "\t<li>',/SC'</li>\n",
       "\t<li>'‘/SY'</li>\n",
       "\t<li>'가/JKS'</li>\n",
       "\t<li>'’/SY'</li>\n",
       "\t<li>'에서/JKB'</li>\n",
       "\t<li>'와/JKB'</li>\n",
       "\t<li>'같이/MAG'</li>\n",
       "\t<li>'초성/NNG'</li>\n",
       "\t<li>'으로/JKB'</li>\n",
       "\t<li>',/SC'</li>\n",
       "\t<li>'‘/SY'</li>\n",
       "\t<li>'역/NNG'</li>\n",
       "\t<li>'’/SY'</li>\n",
       "\t<li>'에서/JKB'</li>\n",
       "\t<li>'와/JKB'</li>\n",
       "\t<li>'같이/MAG'</li>\n",
       "\t<li>'종성/NNG'</li>\n",
       "\t<li>'으로/JKB'</li>\n",
       "\t<li>'쓰인다/VV+EF'</li>\n",
       "\t<li>'./SF'</li>\n",
       "\t<li>'목젖/NNG'</li>\n",
       "\t<li>'으로/JKB'</li>\n",
       "\t<li>'콧길/NNG'</li>\n",
       "\t<li>'을/JKO'</li>\n",
       "\t<li>'막/VV'</li>\n",
       "\t<li>'고/EC'</li>\n",
       "\t<li>'혀뿌리/NNG'</li>\n",
       "\t<li>'를/JKO'</li>\n",
       "\t<li>'높여/VV+EC'</li>\n",
       "\t<li>'연구개/NNG'</li>\n",
       "\t<li>'를/JKO'</li>\n",
       "\t<li>'막/VV'</li>\n",
       "\t<li>'았/EP'</li>\n",
       "\t<li>'다가/EC'</li>\n",
       "\t<li>'뗄/VV+ETM'</li>\n",
       "\t<li>'때/NNG'</li>\n",
       "\t<li>'나/NP'</li>\n",
       "\t<li>'는/JX'</li>\n",
       "\t<li>'무성음/NNG'</li>\n",
       "\t<li>'이/VCP'</li>\n",
       "\t<li>'다/EF'</li>\n",
       "\t<li>'./SF'</li>\n",
       "\t<li>'초성/NNG'</li>\n",
       "\t<li>'일/VCP+ETM'</li>\n",
       "\t<li>'때/NNG'</li>\n",
       "\t<li>'는/JX'</li>\n",
       "\t<li>'무성/NNG'</li>\n",
       "\t<li>'이나/JC'</li>\n",
       "\t<li>'모음/NNG'</li>\n",
       "\t<li>'사이/NNG'</li>\n",
       "\t<li>'에서/JKB'</li>\n",
       "\t<li>'는/JX'</li>\n",
       "\t<li>'유성음/NNG'</li>\n",
       "\t<li>'이/JKS'</li>\n",
       "\t<li>'되/VV'</li>\n",
       "\t<li>'며/EC'</li>\n",
       "\t<li>',/SC'</li>\n",
       "\t<li>'종성/NNG'</li>\n",
       "\t<li>'일/VCP+ETM'</li>\n",
       "\t<li>'때/NNG'</li>\n",
       "\t<li>'는/JX'</li>\n",
       "\t<li>'혀뿌리/NNG'</li>\n",
       "\t<li>'를/JKO'</li>\n",
       "\t<li>'떼/VV'</li>\n",
       "\t<li>'지/EC'</li>\n",
       "\t<li>'않/VX'</li>\n",
       "\t<li>'고/EC'</li>\n",
       "\t<li>'발음/NNG'</li>\n",
       "\t<li>'한다/XSV+EF'</li>\n",
       "\t<li>'./SF'</li>\n",
       "\t<li>'혀뿌리/NNG'</li>\n",
       "\t<li>'가/JKS'</li>\n",
       "\t<li>'목구멍/NNG'</li>\n",
       "\t<li>'을/JKO'</li>\n",
       "\t<li>'막/VV'</li>\n",
       "\t<li>'는/ETM'</li>\n",
       "\t<li>'모양/NNG'</li>\n",
       "\t<li>'을/JKO'</li>\n",
       "\t<li>'본떠서/VV+EC'</li>\n",
       "\t<li>'만든/VV+ETM'</li>\n",
       "\t<li>'글자/NNG'</li>\n",
       "\t<li>'이/VCP'</li>\n",
       "\t<li>'다/EF'</li>\n",
       "\t<li>'./SF'</li>\n",
       "</ol>\n"
      ],
      "text/latex": [
       "\\textbf{\\$`한글 자모의 첫째 글자. 기역이라 이르며, ‘가’에서와 같이 초성으로, ‘역’에서와 같이 종성으로 쓰인다. 목젖으로 콧길을 막고 혀뿌리를 높여 연구개를 막았다가 뗄 때 나는 무성음이다. 초성일 때는 무성이나 모음 사이에서는 유성음이 되며, 종성일 때는 혀뿌리를 떼지 않고 발음한다. 혀뿌리가 목구멍을 막는 모양을 본떠서 만든 글자이다.`} = \\begin{enumerate*}\n",
       "\\item '한글/NNG'\n",
       "\\item '자모/NNG'\n",
       "\\item '의/JKG'\n",
       "\\item '첫째/NR'\n",
       "\\item '글자/NNG'\n",
       "\\item './SY'\n",
       "\\item '기역/NNG'\n",
       "\\item '이/VCP'\n",
       "\\item '라/EC'\n",
       "\\item '이르/VV'\n",
       "\\item '며/EC'\n",
       "\\item ',/SC'\n",
       "\\item '‘/SY'\n",
       "\\item '가/JKS'\n",
       "\\item '’/SY'\n",
       "\\item '에서/JKB'\n",
       "\\item '와/JKB'\n",
       "\\item '같이/MAG'\n",
       "\\item '초성/NNG'\n",
       "\\item '으로/JKB'\n",
       "\\item ',/SC'\n",
       "\\item '‘/SY'\n",
       "\\item '역/NNG'\n",
       "\\item '’/SY'\n",
       "\\item '에서/JKB'\n",
       "\\item '와/JKB'\n",
       "\\item '같이/MAG'\n",
       "\\item '종성/NNG'\n",
       "\\item '으로/JKB'\n",
       "\\item '쓰인다/VV+EF'\n",
       "\\item './SF'\n",
       "\\item '목젖/NNG'\n",
       "\\item '으로/JKB'\n",
       "\\item '콧길/NNG'\n",
       "\\item '을/JKO'\n",
       "\\item '막/VV'\n",
       "\\item '고/EC'\n",
       "\\item '혀뿌리/NNG'\n",
       "\\item '를/JKO'\n",
       "\\item '높여/VV+EC'\n",
       "\\item '연구개/NNG'\n",
       "\\item '를/JKO'\n",
       "\\item '막/VV'\n",
       "\\item '았/EP'\n",
       "\\item '다가/EC'\n",
       "\\item '뗄/VV+ETM'\n",
       "\\item '때/NNG'\n",
       "\\item '나/NP'\n",
       "\\item '는/JX'\n",
       "\\item '무성음/NNG'\n",
       "\\item '이/VCP'\n",
       "\\item '다/EF'\n",
       "\\item './SF'\n",
       "\\item '초성/NNG'\n",
       "\\item '일/VCP+ETM'\n",
       "\\item '때/NNG'\n",
       "\\item '는/JX'\n",
       "\\item '무성/NNG'\n",
       "\\item '이나/JC'\n",
       "\\item '모음/NNG'\n",
       "\\item '사이/NNG'\n",
       "\\item '에서/JKB'\n",
       "\\item '는/JX'\n",
       "\\item '유성음/NNG'\n",
       "\\item '이/JKS'\n",
       "\\item '되/VV'\n",
       "\\item '며/EC'\n",
       "\\item ',/SC'\n",
       "\\item '종성/NNG'\n",
       "\\item '일/VCP+ETM'\n",
       "\\item '때/NNG'\n",
       "\\item '는/JX'\n",
       "\\item '혀뿌리/NNG'\n",
       "\\item '를/JKO'\n",
       "\\item '떼/VV'\n",
       "\\item '지/EC'\n",
       "\\item '않/VX'\n",
       "\\item '고/EC'\n",
       "\\item '발음/NNG'\n",
       "\\item '한다/XSV+EF'\n",
       "\\item './SF'\n",
       "\\item '혀뿌리/NNG'\n",
       "\\item '가/JKS'\n",
       "\\item '목구멍/NNG'\n",
       "\\item '을/JKO'\n",
       "\\item '막/VV'\n",
       "\\item '는/ETM'\n",
       "\\item '모양/NNG'\n",
       "\\item '을/JKO'\n",
       "\\item '본떠서/VV+EC'\n",
       "\\item '만든/VV+ETM'\n",
       "\\item '글자/NNG'\n",
       "\\item '이/VCP'\n",
       "\\item '다/EF'\n",
       "\\item './SF'\n",
       "\\end{enumerate*}\n"
      ],
      "text/markdown": [
       "**$`한글 자모의 첫째 글자. 기역이라 이르며, ‘가’에서와 같이 초성으로, ‘역’에서와 같이 종성으로 쓰인다. 목젖으로 콧길을 막고 혀뿌리를 높여 연구개를 막았다가 뗄 때 나는 무성음이다. 초성일 때는 무성이나 모음 사이에서는 유성음이 되며, 종성일 때는 혀뿌리를 떼지 않고 발음한다. 혀뿌리가 목구멍을 막는 모양을 본떠서 만든 글자이다.`** = 1. '한글/NNG'\n",
       "2. '자모/NNG'\n",
       "3. '의/JKG'\n",
       "4. '첫째/NR'\n",
       "5. '글자/NNG'\n",
       "6. './SY'\n",
       "7. '기역/NNG'\n",
       "8. '이/VCP'\n",
       "9. '라/EC'\n",
       "10. '이르/VV'\n",
       "11. '며/EC'\n",
       "12. ',/SC'\n",
       "13. '‘/SY'\n",
       "14. '가/JKS'\n",
       "15. '’/SY'\n",
       "16. '에서/JKB'\n",
       "17. '와/JKB'\n",
       "18. '같이/MAG'\n",
       "19. '초성/NNG'\n",
       "20. '으로/JKB'\n",
       "21. ',/SC'\n",
       "22. '‘/SY'\n",
       "23. '역/NNG'\n",
       "24. '’/SY'\n",
       "25. '에서/JKB'\n",
       "26. '와/JKB'\n",
       "27. '같이/MAG'\n",
       "28. '종성/NNG'\n",
       "29. '으로/JKB'\n",
       "30. '쓰인다/VV+EF'\n",
       "31. './SF'\n",
       "32. '목젖/NNG'\n",
       "33. '으로/JKB'\n",
       "34. '콧길/NNG'\n",
       "35. '을/JKO'\n",
       "36. '막/VV'\n",
       "37. '고/EC'\n",
       "38. '혀뿌리/NNG'\n",
       "39. '를/JKO'\n",
       "40. '높여/VV+EC'\n",
       "41. '연구개/NNG'\n",
       "42. '를/JKO'\n",
       "43. '막/VV'\n",
       "44. '았/EP'\n",
       "45. '다가/EC'\n",
       "46. '뗄/VV+ETM'\n",
       "47. '때/NNG'\n",
       "48. '나/NP'\n",
       "49. '는/JX'\n",
       "50. '무성음/NNG'\n",
       "51. '이/VCP'\n",
       "52. '다/EF'\n",
       "53. './SF'\n",
       "54. '초성/NNG'\n",
       "55. '일/VCP+ETM'\n",
       "56. '때/NNG'\n",
       "57. '는/JX'\n",
       "58. '무성/NNG'\n",
       "59. '이나/JC'\n",
       "60. '모음/NNG'\n",
       "61. '사이/NNG'\n",
       "62. '에서/JKB'\n",
       "63. '는/JX'\n",
       "64. '유성음/NNG'\n",
       "65. '이/JKS'\n",
       "66. '되/VV'\n",
       "67. '며/EC'\n",
       "68. ',/SC'\n",
       "69. '종성/NNG'\n",
       "70. '일/VCP+ETM'\n",
       "71. '때/NNG'\n",
       "72. '는/JX'\n",
       "73. '혀뿌리/NNG'\n",
       "74. '를/JKO'\n",
       "75. '떼/VV'\n",
       "76. '지/EC'\n",
       "77. '않/VX'\n",
       "78. '고/EC'\n",
       "79. '발음/NNG'\n",
       "80. '한다/XSV+EF'\n",
       "81. './SF'\n",
       "82. '혀뿌리/NNG'\n",
       "83. '가/JKS'\n",
       "84. '목구멍/NNG'\n",
       "85. '을/JKO'\n",
       "86. '막/VV'\n",
       "87. '는/ETM'\n",
       "88. '모양/NNG'\n",
       "89. '을/JKO'\n",
       "90. '본떠서/VV+EC'\n",
       "91. '만든/VV+ETM'\n",
       "92. '글자/NNG'\n",
       "93. '이/VCP'\n",
       "94. '다/EF'\n",
       "95. './SF'\n",
       "\n",
       "\n"
      ],
      "text/plain": [
       "$...\n",
       " [1] \"한글/NNG\"     \"자모/NNG\"     \"의/JKG\"       \"첫째/NR\"      \"글자/NNG\"    \n",
       " [6] \"./SY\"         \"기역/NNG\"     \"이/VCP\"       \"라/EC\"        \"이르/VV\"     \n",
       "[11] \"며/EC\"        \",/SC\"         \"‘/SY\"        \"가/JKS\"       \"’/SY\"       \n",
       "[16] \"에서/JKB\"     \"와/JKB\"       \"같이/MAG\"     \"초성/NNG\"     \"으로/JKB\"    \n",
       "[21] \",/SC\"         \"‘/SY\"        \"역/NNG\"       \"’/SY\"        \"에서/JKB\"    \n",
       "[26] \"와/JKB\"       \"같이/MAG\"     \"종성/NNG\"     \"으로/JKB\"     \"쓰인다/VV+EF\"\n",
       "[31] \"./SF\"         \"목젖/NNG\"     \"으로/JKB\"     \"콧길/NNG\"     \"을/JKO\"      \n",
       "[36] \"막/VV\"        \"고/EC\"        \"혀뿌리/NNG\"   \"를/JKO\"       \"높여/VV+EC\"  \n",
       "[41] \"연구개/NNG\"   \"를/JKO\"       \"막/VV\"        \"았/EP\"        \"다가/EC\"     \n",
       "[46] \"뗄/VV+ETM\"    \"때/NNG\"       \"나/NP\"        \"는/JX\"        \"무성음/NNG\"  \n",
       "[51] \"이/VCP\"       \"다/EF\"        \"./SF\"         \"초성/NNG\"     \"일/VCP+ETM\"  \n",
       "[56] \"때/NNG\"       \"는/JX\"        \"무성/NNG\"     \"이나/JC\"      \"모음/NNG\"    \n",
       "[61] \"사이/NNG\"     \"에서/JKB\"     \"는/JX\"        \"유성음/NNG\"   \"이/JKS\"      \n",
       "[66] \"되/VV\"        \"며/EC\"        \",/SC\"         \"종성/NNG\"     \"일/VCP+ETM\"  \n",
       "[71] \"때/NNG\"       \"는/JX\"        \"혀뿌리/NNG\"   \"를/JKO\"       \"떼/VV\"       \n",
       "[76] \"지/EC\"        \"않/VX\"        \"고/EC\"        \"발음/NNG\"     \"한다/XSV+EF\" \n",
       "[81] \"./SF\"         \"혀뿌리/NNG\"   \"가/JKS\"       \"목구멍/NNG\"   \"을/JKO\"      \n",
       "[86] \"막/VV\"        \"는/ETM\"       \"모양/NNG\"     \"을/JKO\"       \"본떠서/VV+EC\"\n",
       "[91] \"만든/VV+ETM\"  \"글자/NNG\"     \"이/VCP\"       \"다/EF\"        \"./SF\"        \n"
      ]
     },
     "metadata": {},
     "output_type": "display_data"
    }
   ],
   "source": [
    "pos(as.character(joinData[1,6]))"
   ]
  },
  {
   "cell_type": "code",
   "execution_count": 52,
   "metadata": {},
   "outputs": [
    {
     "name": "stderr",
     "output_type": "stream",
     "text": [
      "Registered S3 methods overwritten by 'ggplot2':\n",
      "  method         from \n",
      "  [.quosures     rlang\n",
      "  c.quosures     rlang\n",
      "  print.quosures rlang\n",
      "Registered S3 method overwritten by 'rvest':\n",
      "  method            from\n",
      "  read_xml.response xml2\n",
      "-- Attaching packages --------------------------------------- tidyverse 1.2.1 --\n",
      "√ ggplot2 3.1.1     √ purrr   0.3.2\n",
      "√ tibble  2.1.1     √ stringr 1.4.0\n",
      "√ tidyr   0.8.3     √ forcats 0.4.0\n",
      "-- Conflicts ------------------------------------------ tidyverse_conflicts() --\n",
      "x plyr::arrange()   masks dplyr::arrange()\n",
      "x purrr::compact()  masks plyr::compact()\n",
      "x plyr::count()     masks dplyr::count()\n",
      "x plyr::failwith()  masks dplyr::failwith()\n",
      "x dplyr::filter()   masks stats::filter()\n",
      "x plyr::id()        masks dplyr::id()\n",
      "x dplyr::lag()      masks stats::lag()\n",
      "x plyr::mutate()    masks dplyr::mutate()\n",
      "x plyr::rename()    masks dplyr::rename()\n",
      "x plyr::summarise() masks dplyr::summarise()\n",
      "x plyr::summarize() masks dplyr::summarize()\n"
     ]
    }
   ],
   "source": [
    "library('tidyverse')"
   ]
  },
  {
   "cell_type": "code",
   "execution_count": 53,
   "metadata": {},
   "outputs": [
    {
     "data": {
      "text/html": [
       "<strong>$`한글의 ‘ㄱ, ㄴ, ㄷ……’ 차례로 매기는 순서.`</strong> = <ol class=list-inline>\n",
       "\t<li>'한글/NNG'</li>\n",
       "\t<li>'의/JKG'</li>\n",
       "\t<li>'‘/SY'</li>\n",
       "\t<li>'ㄱ/NNG'</li>\n",
       "\t<li>',/SC'</li>\n",
       "\t<li>'ㄴ/NNG'</li>\n",
       "\t<li>',/SC'</li>\n",
       "\t<li>'ㄷ/NNG'</li>\n",
       "\t<li>'…/SE'</li>\n",
       "\t<li>'…/SE'</li>\n",
       "\t<li>'’/SY'</li>\n",
       "\t<li>'차례/NNG'</li>\n",
       "\t<li>'로/JKB'</li>\n",
       "\t<li>'매기/VV'</li>\n",
       "\t<li>'는/ETM'</li>\n",
       "\t<li>'순서/NNG'</li>\n",
       "\t<li>'./SF'</li>\n",
       "</ol>\n"
      ],
      "text/latex": [
       "\\textbf{\\$`한글의 ‘ㄱ, ㄴ, ㄷ……’ 차례로 매기는 순서.`} = \\begin{enumerate*}\n",
       "\\item '한글/NNG'\n",
       "\\item '의/JKG'\n",
       "\\item '‘/SY'\n",
       "\\item 'ㄱ/NNG'\n",
       "\\item ',/SC'\n",
       "\\item 'ㄴ/NNG'\n",
       "\\item ',/SC'\n",
       "\\item 'ㄷ/NNG'\n",
       "\\item '…/SE'\n",
       "\\item '…/SE'\n",
       "\\item '’/SY'\n",
       "\\item '차례/NNG'\n",
       "\\item '로/JKB'\n",
       "\\item '매기/VV'\n",
       "\\item '는/ETM'\n",
       "\\item '순서/NNG'\n",
       "\\item './SF'\n",
       "\\end{enumerate*}\n"
      ],
      "text/markdown": [
       "**$`한글의 ‘ㄱ, ㄴ, ㄷ……’ 차례로 매기는 순서.`** = 1. '한글/NNG'\n",
       "2. '의/JKG'\n",
       "3. '‘/SY'\n",
       "4. 'ㄱ/NNG'\n",
       "5. ',/SC'\n",
       "6. 'ㄴ/NNG'\n",
       "7. ',/SC'\n",
       "8. 'ㄷ/NNG'\n",
       "9. '…/SE'\n",
       "10. '…/SE'\n",
       "11. '’/SY'\n",
       "12. '차례/NNG'\n",
       "13. '로/JKB'\n",
       "14. '매기/VV'\n",
       "15. '는/ETM'\n",
       "16. '순서/NNG'\n",
       "17. './SF'\n",
       "\n",
       "\n"
      ],
      "text/plain": [
       "$`한글의 ‘ㄱ, ㄴ, ㄷ……’ 차례로 매기는 순서.`\n",
       " [1] \"한글/NNG\" \"의/JKG\"   \"‘/SY\"    \"ㄱ/NNG\"   \",/SC\"     \"ㄴ/NNG\"  \n",
       " [7] \",/SC\"     \"ㄷ/NNG\"   \"…/SE\"    \"…/SE\"    \"’/SY\"    \"차례/NNG\"\n",
       "[13] \"로/JKB\"   \"매기/VV\"  \"는/ETM\"   \"순서/NNG\" \"./SF\"    \n"
      ]
     },
     "metadata": {},
     "output_type": "display_data"
    }
   ],
   "source": [
    "pos(as.character(joinData[2,6]))"
   ]
  },
  {
   "cell_type": "code",
   "execution_count": 57,
   "metadata": {},
   "outputs": [
    {
     "ename": "ERROR",
     "evalue": "Error in check_input(x): Input must be a character vector of any length or a list of character\n  vectors, each of which has a length of 1.\n",
     "output_type": "error",
     "traceback": [
      "Error in check_input(x): Input must be a character vector of any length or a list of character\n  vectors, each of which has a length of 1.\nTraceback:\n",
      "1. head(joinData[6]) %>% unnest_tokens(word, text)",
      "2. withVisible(eval(quote(`_fseq`(`_lhs`)), env, env))",
      "3. eval(quote(`_fseq`(`_lhs`)), env, env)",
      "4. eval(quote(`_fseq`(`_lhs`)), env, env)",
      "5. `_fseq`(`_lhs`)",
      "6. freduce(value, `_function_list`)",
      "7. withVisible(function_list[[k]](value))",
      "8. function_list[[k]](value)",
      "9. unnest_tokens(., word, text)",
      "10. unnest_tokens.data.frame(., word, text)",
      "11. tokenfunc(col, ...)",
      "12. tf(col, lowercase = FALSE, ...)",
      "13. tokenize_words.default(col, lowercase = FALSE, ...)",
      "14. check_input(x)",
      "15. stop(\"Input must be a character vector of any length or a list of character\\n\", \n  .     \"  vectors, each of which has a length of 1.\")"
     ]
    }
   ],
   "source": [
    "library('tidyverse')\n",
    "library('tidytext')\n",
    "head(joinData[6]) %>% unnest_tokens(word, text)"
   ]
  },
  {
   "cell_type": "code",
   "execution_count": 58,
   "metadata": {},
   "outputs": [],
   "source": [
    "text <- c(as.character(joinData[1,6]))"
   ]
  },
  {
   "cell_type": "code",
   "execution_count": 59,
   "metadata": {},
   "outputs": [
    {
     "name": "stderr",
     "output_type": "stream",
     "text": [
      "Warning message:\n",
      "\"`data_frame()` is deprecated, use `tibble()`.\n",
      "This warning is displayed once per session.\""
     ]
    }
   ],
   "source": [
    "text_df <- data_frame(line=1:1, text=text)"
   ]
  },
  {
   "cell_type": "code",
   "execution_count": 60,
   "metadata": {},
   "outputs": [
    {
     "data": {
      "text/html": [
       "<table>\n",
       "<thead><tr><th scope=col>line</th><th scope=col>text</th></tr></thead>\n",
       "<tbody>\n",
       "\t<tr><td>1                                                                                                                                                                                                                                                                                                                                  </td><td>한글 자모의 첫째 글자. 기역이라 이르며, ‘가’에서와 같이 초성으로, ‘역’에서와 같이 종성으로 쓰인다. 목젖으로 콧길을 막고 혀뿌리를 높여 연구개를 막았다가 뗄 때 나는 무성음이다. 초성일 때는 무성이나 모음 사이에서는 유성음이 되며, 종성일 때는 혀뿌리를 떼지 않고 발음한다. 혀뿌리가 목구멍을 막는 모양을 본떠서 만든 글자이다.</td></tr>\n",
       "</tbody>\n",
       "</table>\n"
      ],
      "text/latex": [
       "\\begin{tabular}{r|ll}\n",
       " line & text\\\\\n",
       "\\hline\n",
       "\t 1                                                                                                                                                                                                                                                                                                                                   & 한글 자모의 첫째 글자. 기역이라 이르며, ‘가’에서와 같이 초성으로, ‘역’에서와 같이 종성으로 쓰인다. 목젖으로 콧길을 막고 혀뿌리를 높여 연구개를 막았다가 뗄 때 나는 무성음이다. 초성일 때는 무성이나 모음 사이에서는 유성음이 되며, 종성일 때는 혀뿌리를 떼지 않고 발음한다. 혀뿌리가 목구멍을 막는 모양을 본떠서 만든 글자이다.\\\\\n",
       "\\end{tabular}\n"
      ],
      "text/markdown": [
       "\n",
       "| line | text |\n",
       "|---|---|\n",
       "| 1                                                                                                                                                                                                                                                                                                                                   | 한글 자모의 첫째 글자. 기역이라 이르며, ‘가’에서와 같이 초성으로, ‘역’에서와 같이 종성으로 쓰인다. 목젖으로 콧길을 막고 혀뿌리를 높여 연구개를 막았다가 뗄 때 나는 무성음이다. 초성일 때는 무성이나 모음 사이에서는 유성음이 되며, 종성일 때는 혀뿌리를 떼지 않고 발음한다. 혀뿌리가 목구멍을 막는 모양을 본떠서 만든 글자이다. |\n",
       "\n"
      ],
      "text/plain": [
       "  line\n",
       "1 1   \n",
       "  text                                                                                                                                                                                                                                                                                                                               \n",
       "1 한글 자모의 첫째 글자. 기역이라 이르며, ‘가’에서와 같이 초성으로, ‘역’에서와 같이 종성으로 쓰인다. 목젖으로 콧길을 막고 혀뿌리를 높여 연구개를 막았다가 뗄 때 나는 무성음이다. 초성일 때는 무성이나 모음 사이에서는 유성음이 되며, 종성일 때는 혀뿌리를 떼지 않고 발음한다. 혀뿌리가 목구멍을 막는 모양을 본떠서 만든 글자이다."
      ]
     },
     "metadata": {},
     "output_type": "display_data"
    }
   ],
   "source": [
    "text_df"
   ]
  },
  {
   "cell_type": "code",
   "execution_count": 61,
   "metadata": {},
   "outputs": [
    {
     "data": {
      "text/html": [
       "<table>\n",
       "<thead><tr><th scope=col>line</th><th scope=col>word</th></tr></thead>\n",
       "<tbody>\n",
       "\t<tr><td>1         </td><td>한글      </td></tr>\n",
       "\t<tr><td>1         </td><td>자모의    </td></tr>\n",
       "\t<tr><td>1         </td><td>첫째      </td></tr>\n",
       "\t<tr><td>1         </td><td>글자      </td></tr>\n",
       "\t<tr><td>1         </td><td>기역이라  </td></tr>\n",
       "\t<tr><td>1         </td><td>이르며    </td></tr>\n",
       "\t<tr><td>1         </td><td>가        </td></tr>\n",
       "\t<tr><td>1         </td><td>에서와    </td></tr>\n",
       "\t<tr><td>1         </td><td>같이      </td></tr>\n",
       "\t<tr><td>1         </td><td>초성으로  </td></tr>\n",
       "\t<tr><td>1         </td><td>역        </td></tr>\n",
       "\t<tr><td>1         </td><td>에서와    </td></tr>\n",
       "\t<tr><td>1         </td><td>같이      </td></tr>\n",
       "\t<tr><td>1         </td><td>종성으로  </td></tr>\n",
       "\t<tr><td>1         </td><td>쓰인다    </td></tr>\n",
       "\t<tr><td>1         </td><td>목젖으로  </td></tr>\n",
       "\t<tr><td>1         </td><td>콧길을    </td></tr>\n",
       "\t<tr><td>1         </td><td>막고      </td></tr>\n",
       "\t<tr><td>1         </td><td>혀뿌리를  </td></tr>\n",
       "\t<tr><td>1         </td><td>높여      </td></tr>\n",
       "\t<tr><td>1         </td><td>연구개를  </td></tr>\n",
       "\t<tr><td>1         </td><td>막았다가  </td></tr>\n",
       "\t<tr><td>1         </td><td>뗄        </td></tr>\n",
       "\t<tr><td>1         </td><td>때        </td></tr>\n",
       "\t<tr><td>1         </td><td>나는      </td></tr>\n",
       "\t<tr><td>1         </td><td>무성음이다</td></tr>\n",
       "\t<tr><td>1         </td><td>초성일    </td></tr>\n",
       "\t<tr><td>1         </td><td>때는      </td></tr>\n",
       "\t<tr><td>1         </td><td>무성이나  </td></tr>\n",
       "\t<tr><td>1         </td><td>모음      </td></tr>\n",
       "\t<tr><td>1         </td><td>사이에서는</td></tr>\n",
       "\t<tr><td>1         </td><td>유성음이  </td></tr>\n",
       "\t<tr><td>1         </td><td>되며      </td></tr>\n",
       "\t<tr><td>1         </td><td>종성일    </td></tr>\n",
       "\t<tr><td>1         </td><td>때는      </td></tr>\n",
       "\t<tr><td>1         </td><td>혀뿌리를  </td></tr>\n",
       "\t<tr><td>1         </td><td>떼지      </td></tr>\n",
       "\t<tr><td>1         </td><td>않고      </td></tr>\n",
       "\t<tr><td>1         </td><td>발음한다  </td></tr>\n",
       "\t<tr><td>1         </td><td>혀뿌리가  </td></tr>\n",
       "\t<tr><td>1         </td><td>목구멍을  </td></tr>\n",
       "\t<tr><td>1         </td><td>막는      </td></tr>\n",
       "\t<tr><td>1         </td><td>모양을    </td></tr>\n",
       "\t<tr><td>1         </td><td>본떠서    </td></tr>\n",
       "\t<tr><td>1         </td><td>만든      </td></tr>\n",
       "\t<tr><td>1         </td><td>글자이다  </td></tr>\n",
       "</tbody>\n",
       "</table>\n"
      ],
      "text/latex": [
       "\\begin{tabular}{r|ll}\n",
       " line & word\\\\\n",
       "\\hline\n",
       "\t 1          & 한글      \\\\\n",
       "\t 1          & 자모의    \\\\\n",
       "\t 1          & 첫째      \\\\\n",
       "\t 1          & 글자      \\\\\n",
       "\t 1          & 기역이라  \\\\\n",
       "\t 1          & 이르며    \\\\\n",
       "\t 1          & 가        \\\\\n",
       "\t 1          & 에서와    \\\\\n",
       "\t 1          & 같이      \\\\\n",
       "\t 1          & 초성으로  \\\\\n",
       "\t 1          & 역        \\\\\n",
       "\t 1          & 에서와    \\\\\n",
       "\t 1          & 같이      \\\\\n",
       "\t 1          & 종성으로  \\\\\n",
       "\t 1          & 쓰인다    \\\\\n",
       "\t 1          & 목젖으로  \\\\\n",
       "\t 1          & 콧길을    \\\\\n",
       "\t 1          & 막고      \\\\\n",
       "\t 1          & 혀뿌리를  \\\\\n",
       "\t 1          & 높여      \\\\\n",
       "\t 1          & 연구개를  \\\\\n",
       "\t 1          & 막았다가  \\\\\n",
       "\t 1          & 뗄        \\\\\n",
       "\t 1          & 때        \\\\\n",
       "\t 1          & 나는      \\\\\n",
       "\t 1          & 무성음이다\\\\\n",
       "\t 1          & 초성일    \\\\\n",
       "\t 1          & 때는      \\\\\n",
       "\t 1          & 무성이나  \\\\\n",
       "\t 1          & 모음      \\\\\n",
       "\t 1          & 사이에서는\\\\\n",
       "\t 1          & 유성음이  \\\\\n",
       "\t 1          & 되며      \\\\\n",
       "\t 1          & 종성일    \\\\\n",
       "\t 1          & 때는      \\\\\n",
       "\t 1          & 혀뿌리를  \\\\\n",
       "\t 1          & 떼지      \\\\\n",
       "\t 1          & 않고      \\\\\n",
       "\t 1          & 발음한다  \\\\\n",
       "\t 1          & 혀뿌리가  \\\\\n",
       "\t 1          & 목구멍을  \\\\\n",
       "\t 1          & 막는      \\\\\n",
       "\t 1          & 모양을    \\\\\n",
       "\t 1          & 본떠서    \\\\\n",
       "\t 1          & 만든      \\\\\n",
       "\t 1          & 글자이다  \\\\\n",
       "\\end{tabular}\n"
      ],
      "text/markdown": [
       "\n",
       "| line | word |\n",
       "|---|---|\n",
       "| 1          | 한글       |\n",
       "| 1          | 자모의     |\n",
       "| 1          | 첫째       |\n",
       "| 1          | 글자       |\n",
       "| 1          | 기역이라   |\n",
       "| 1          | 이르며     |\n",
       "| 1          | 가         |\n",
       "| 1          | 에서와     |\n",
       "| 1          | 같이       |\n",
       "| 1          | 초성으로   |\n",
       "| 1          | 역         |\n",
       "| 1          | 에서와     |\n",
       "| 1          | 같이       |\n",
       "| 1          | 종성으로   |\n",
       "| 1          | 쓰인다     |\n",
       "| 1          | 목젖으로   |\n",
       "| 1          | 콧길을     |\n",
       "| 1          | 막고       |\n",
       "| 1          | 혀뿌리를   |\n",
       "| 1          | 높여       |\n",
       "| 1          | 연구개를   |\n",
       "| 1          | 막았다가   |\n",
       "| 1          | 뗄         |\n",
       "| 1          | 때         |\n",
       "| 1          | 나는       |\n",
       "| 1          | 무성음이다 |\n",
       "| 1          | 초성일     |\n",
       "| 1          | 때는       |\n",
       "| 1          | 무성이나   |\n",
       "| 1          | 모음       |\n",
       "| 1          | 사이에서는 |\n",
       "| 1          | 유성음이   |\n",
       "| 1          | 되며       |\n",
       "| 1          | 종성일     |\n",
       "| 1          | 때는       |\n",
       "| 1          | 혀뿌리를   |\n",
       "| 1          | 떼지       |\n",
       "| 1          | 않고       |\n",
       "| 1          | 발음한다   |\n",
       "| 1          | 혀뿌리가   |\n",
       "| 1          | 목구멍을   |\n",
       "| 1          | 막는       |\n",
       "| 1          | 모양을     |\n",
       "| 1          | 본떠서     |\n",
       "| 1          | 만든       |\n",
       "| 1          | 글자이다   |\n",
       "\n"
      ],
      "text/plain": [
       "   line word      \n",
       "1  1    한글      \n",
       "2  1    자모의    \n",
       "3  1    첫째      \n",
       "4  1    글자      \n",
       "5  1    기역이라  \n",
       "6  1    이르며    \n",
       "7  1    가        \n",
       "8  1    에서와    \n",
       "9  1    같이      \n",
       "10 1    초성으로  \n",
       "11 1    역        \n",
       "12 1    에서와    \n",
       "13 1    같이      \n",
       "14 1    종성으로  \n",
       "15 1    쓰인다    \n",
       "16 1    목젖으로  \n",
       "17 1    콧길을    \n",
       "18 1    막고      \n",
       "19 1    혀뿌리를  \n",
       "20 1    높여      \n",
       "21 1    연구개를  \n",
       "22 1    막았다가  \n",
       "23 1    뗄        \n",
       "24 1    때        \n",
       "25 1    나는      \n",
       "26 1    무성음이다\n",
       "27 1    초성일    \n",
       "28 1    때는      \n",
       "29 1    무성이나  \n",
       "30 1    모음      \n",
       "31 1    사이에서는\n",
       "32 1    유성음이  \n",
       "33 1    되며      \n",
       "34 1    종성일    \n",
       "35 1    때는      \n",
       "36 1    혀뿌리를  \n",
       "37 1    떼지      \n",
       "38 1    않고      \n",
       "39 1    발음한다  \n",
       "40 1    혀뿌리가  \n",
       "41 1    목구멍을  \n",
       "42 1    막는      \n",
       "43 1    모양을    \n",
       "44 1    본떠서    \n",
       "45 1    만든      \n",
       "46 1    글자이다  "
      ]
     },
     "metadata": {},
     "output_type": "display_data"
    }
   ],
   "source": [
    "text_df %>%\n",
    "  unnest_tokens(word, text)"
   ]
  },
  {
   "cell_type": "code",
   "execution_count": 1,
   "metadata": {},
   "outputs": [
    {
     "name": "stderr",
     "output_type": "stream",
     "text": [
      "Warning message:\n",
      "\"package 'dplyr' was built under R version 3.6.2\"\n",
      "Attaching package: 'dplyr'\n",
      "\n",
      "The following objects are masked from 'package:stats':\n",
      "\n",
      "    filter, lag\n",
      "\n",
      "The following objects are masked from 'package:base':\n",
      "\n",
      "    intersect, setdiff, setequal, union\n",
      "\n",
      "Warning message:\n",
      "\"package 'KoNLP' was built under R version 3.6.2\"Checking user defined dictionary!\n",
      "\n",
      "Warning message:\n",
      "\"package 'RcppMeCab' was built under R version 3.6.2\"Warning message:\n",
      "\"package 'RmecabKo' was built under R version 3.6.2\"\n",
      "Attaching package: 'RmecabKo'\n",
      "\n",
      "The following object is masked from 'package:RcppMeCab':\n",
      "\n",
      "    pos\n",
      "\n",
      "Warning message:\n",
      "\"package 'tidytext' was built under R version 3.6.2\"Registered S3 methods overwritten by 'ggplot2':\n",
      "  method         from \n",
      "  [.quosures     rlang\n",
      "  c.quosures     rlang\n",
      "  print.quosures rlang\n",
      "Registered S3 method overwritten by 'rvest':\n",
      "  method            from\n",
      "  read_xml.response xml2\n",
      "-- Attaching packages --------------------------------------- tidyverse 1.2.1 --\n",
      "√ ggplot2 3.1.1     √ tidyr   0.8.3\n",
      "√ tibble  2.1.1     √ purrr   0.3.2\n",
      "√ ggplot2 3.1.1     √ forcats 0.4.0\n",
      "-- Conflicts ------------------------------------------ tidyverse_conflicts() --\n",
      "x dplyr::filter() masks stats::filter()\n",
      "x dplyr::lag()    masks stats::lag()\n"
     ]
    }
   ],
   "source": [
    "library('dplyr')\n",
    "library('readr')\n",
    "library('KoNLP')\n",
    "library('stringr')\n",
    "library('RcppMeCab')\n",
    "library('RmecabKo')\n",
    "library('tidytext')\n",
    "library('tidyverse')"
   ]
  },
  {
   "cell_type": "code",
   "execution_count": 3,
   "metadata": {},
   "outputs": [
    {
     "name": "stderr",
     "output_type": "stream",
     "text": [
      "Warning message:\n",
      "\"Missing column names filled in: 'X1' [1]\"Parsed with column specification:\n",
      "cols(\n",
      "  X1 = col_double(),\n",
      "  word_id = col_double(),\n",
      "  의미어 = col_character(),\n",
      "  표제어 = col_character(),\n",
      "  의미번호 = col_double(),\n",
      "  뜻풀이 = col_character(),\n",
      "  품사 = col_character(),\n",
      "  난이도 = col_character()\n",
      ")\n"
     ]
    },
    {
     "data": {
      "text/html": [
       "<table>\n",
       "<thead><tr><th scope=col>X1</th><th scope=col>word_id</th><th scope=col>의미어</th><th scope=col>표제어</th><th scope=col>의미번호</th><th scope=col>뜻풀이</th><th scope=col>품사</th><th scope=col>난이도</th></tr></thead>\n",
       "<tbody>\n",
       "\t<tr><td>1                                                                                                                                                                                                                                                                                                                                  </td><td>1                                                                                                                                                                                                                                                                                                                                  </td><td>ㄱ001                                                                                                                                                                                                                                                                                                                              </td><td>ㄱ                                                                                                                                                                                                                                                                                                                                 </td><td>1                                                                                                                                                                                                                                                                                                                                  </td><td>한글 자모의 첫째 글자. 기역이라 이르며, ‘가’에서와 같이 초성으로, ‘역’에서와 같이 종성으로 쓰인다. 목젖으로 콧길을 막고 혀뿌리를 높여 연구개를 막았다가 뗄 때 나는 무성음이다. 초성일 때는 무성이나 모음 사이에서는 유성음이 되며, 종성일 때는 혀뿌리를 떼지 않고 발음한다. 혀뿌리가 목구멍을 막는 모양을 본떠서 만든 글자이다.</td><td>명사                                                                                                                                                                                                                                                                                                                               </td><td>상                                                                                                                                                                                                                                                                                                                                 </td></tr>\n",
       "\t<tr><td>2                                                                                                                                                                                                                                                                                                                                  </td><td>2                                                                                                                                                                                                                                                                                                                                  </td><td>ㄱㄴㄷ순001                                                                                                                                                                                                                                                                                                                        </td><td>ㄱㄴㄷ-순                                                                                                                                                                                                                                                                                                                          </td><td>1                                                                                                                                                                                                                                                                                                                                  </td><td>한글의 ‘ㄱ, ㄴ, ㄷ……’ 차례로 매기는 순서.                                                                                                                                                                                                                                                                                      </td><td>명사                                                                                                                                                                                                                                                                                                                               </td><td>상                                                                                                                                                                                                                                                                                                                                 </td></tr>\n",
       "\t<tr><td>3                                                                                                                                                                                                                                                                                                                                  </td><td>3                                                                                                                                                                                                                                                                                                                                  </td><td>ㄱㄴㄷ차례001                                                                                                                                                                                                                                                                                                                      </td><td>ㄱㄴㄷ-차례                                                                                                                                                                                                                                                                                                                        </td><td>1                                                                                                                                                                                                                                                                                                                                  </td><td>한글의 ‘ㄱ, ㄴ, ㄷ……’ 차례로 매기는 순서.                                                                                                                                                                                                                                                                                      </td><td>명사                                                                                                                                                                                                                                                                                                                               </td><td>상                                                                                                                                                                                                                                                                                                                                 </td></tr>\n",
       "\t<tr><td>4                                                                                                                                                                                                                                                                                                                                  </td><td>4                                                                                                                                                                                                                                                                                                                                  </td><td>ㄱㄴ순001                                                                                                                                                                                                                                                                                                                          </td><td>ㄱㄴ-순                                                                                                                                                                                                                                                                                                                            </td><td>1                                                                                                                                                                                                                                                                                                                                  </td><td>한글의 ‘ㄱ, ㄴ, ㄷ……’ 차례로 매기는 순서.                                                                                                                                                                                                                                                                                      </td><td>명사                                                                                                                                                                                                                                                                                                                               </td><td>상                                                                                                                                                                                                                                                                                                                                 </td></tr>\n",
       "\t<tr><td>5                                                                                                                                                                                                                                                                                                                                  </td><td>5                                                                                                                                                                                                                                                                                                                                  </td><td>ㄱㄴ차례001                                                                                                                                                                                                                                                                                                                        </td><td>ㄱㄴ-차례                                                                                                                                                                                                                                                                                                                          </td><td>1                                                                                                                                                                                                                                                                                                                                  </td><td>한글의 ‘ㄱ, ㄴ, ㄷ……’ 차례로 매기는 순서.                                                                                                                                                                                                                                                                                      </td><td>명사                                                                                                                                                                                                                                                                                                                               </td><td>상                                                                                                                                                                                                                                                                                                                                 </td></tr>\n",
       "\t<tr><td>6                                                                                                                                                                                                                                                                                                                                  </td><td>6                                                                                                                                                                                                                                                                                                                                  </td><td>ㄱ자턱솔이음001                                                                                                                                                                                                                                                                                                                    </td><td>ㄱ자^턱솔이음                                                                                                                                                                                                                                                                                                                      </td><td>1                                                                                                                                                                                                                                                                                                                                  </td><td>나무나 돌을 ‘ㄱ’ 자 모양으로 턱이 지게 하여 만든 이음.                                                                                                                                                                                                                                                                           </td><td>품사 없음                                                                                                                                                                                                                                                                                                                          </td><td>상                                                                                                                                                                                                                                                                                                                                 </td></tr>\n",
       "</tbody>\n",
       "</table>\n"
      ],
      "text/latex": [
       "\\begin{tabular}{r|llllllll}\n",
       " X1 & word\\_id & 의미어 & 표제어 & 의미번호 & 뜻풀이 & 품사 & 난이도\\\\\n",
       "\\hline\n",
       "\t 1                                                                                                                                                                                                                                                                                                                                   & 1                                                                                                                                                                                                                                                                                                                                   & ㄱ001                                                                                                                                                                                                                                                                                                                               & ㄱ                                                                                                                                                                                                                                                                                                                                  & 1                                                                                                                                                                                                                                                                                                                                   & 한글 자모의 첫째 글자. 기역이라 이르며, ‘가’에서와 같이 초성으로, ‘역’에서와 같이 종성으로 쓰인다. 목젖으로 콧길을 막고 혀뿌리를 높여 연구개를 막았다가 뗄 때 나는 무성음이다. 초성일 때는 무성이나 모음 사이에서는 유성음이 되며, 종성일 때는 혀뿌리를 떼지 않고 발음한다. 혀뿌리가 목구멍을 막는 모양을 본떠서 만든 글자이다. & 명사                                                                                                                                                                                                                                                                                                                                & 상                                                                                                                                                                                                                                                                                                                                 \\\\\n",
       "\t 2                                                                                                                                                                                                                                                                                                                                   & 2                                                                                                                                                                                                                                                                                                                                   & ㄱㄴㄷ순001                                                                                                                                                                                                                                                                                                                         & ㄱㄴㄷ-순                                                                                                                                                                                                                                                                                                                           & 1                                                                                                                                                                                                                                                                                                                                   & 한글의 ‘ㄱ, ㄴ, ㄷ……’ 차례로 매기는 순서.                                                                                                                                                                                                                                                                                       & 명사                                                                                                                                                                                                                                                                                                                                & 상                                                                                                                                                                                                                                                                                                                                 \\\\\n",
       "\t 3                                                                                                                                                                                                                                                                                                                                   & 3                                                                                                                                                                                                                                                                                                                                   & ㄱㄴㄷ차례001                                                                                                                                                                                                                                                                                                                       & ㄱㄴㄷ-차례                                                                                                                                                                                                                                                                                                                         & 1                                                                                                                                                                                                                                                                                                                                   & 한글의 ‘ㄱ, ㄴ, ㄷ……’ 차례로 매기는 순서.                                                                                                                                                                                                                                                                                       & 명사                                                                                                                                                                                                                                                                                                                                & 상                                                                                                                                                                                                                                                                                                                                 \\\\\n",
       "\t 4                                                                                                                                                                                                                                                                                                                                   & 4                                                                                                                                                                                                                                                                                                                                   & ㄱㄴ순001                                                                                                                                                                                                                                                                                                                           & ㄱㄴ-순                                                                                                                                                                                                                                                                                                                             & 1                                                                                                                                                                                                                                                                                                                                   & 한글의 ‘ㄱ, ㄴ, ㄷ……’ 차례로 매기는 순서.                                                                                                                                                                                                                                                                                       & 명사                                                                                                                                                                                                                                                                                                                                & 상                                                                                                                                                                                                                                                                                                                                 \\\\\n",
       "\t 5                                                                                                                                                                                                                                                                                                                                   & 5                                                                                                                                                                                                                                                                                                                                   & ㄱㄴ차례001                                                                                                                                                                                                                                                                                                                         & ㄱㄴ-차례                                                                                                                                                                                                                                                                                                                           & 1                                                                                                                                                                                                                                                                                                                                   & 한글의 ‘ㄱ, ㄴ, ㄷ……’ 차례로 매기는 순서.                                                                                                                                                                                                                                                                                       & 명사                                                                                                                                                                                                                                                                                                                                & 상                                                                                                                                                                                                                                                                                                                                 \\\\\n",
       "\t 6                                                                                                                                                                                                                                                                                                                                   & 6                                                                                                                                                                                                                                                                                                                                   & ㄱ자턱솔이음001                                                                                                                                                                                                                                                                                                                     & ㄱ자\\textasciicircum{}턱솔이음                                                                                                                                                                                                                                                                                                     & 1                                                                                                                                                                                                                                                                                                                                   & 나무나 돌을 ‘ㄱ’ 자 모양으로 턱이 지게 하여 만든 이음.                                                                                                                                                                                                                                                                            & 품사 없음                                                                                                                                                                                                                                                                                                                           & 상                                                                                                                                                                                                                                                                                                                                 \\\\\n",
       "\\end{tabular}\n"
      ],
      "text/markdown": [
       "\n",
       "| X1 | word_id | 의미어 | 표제어 | 의미번호 | 뜻풀이 | 품사 | 난이도 |\n",
       "|---|---|---|---|---|---|---|---|\n",
       "| 1                                                                                                                                                                                                                                                                                                                                   | 1                                                                                                                                                                                                                                                                                                                                   | ㄱ001                                                                                                                                                                                                                                                                                                                               | ㄱ                                                                                                                                                                                                                                                                                                                                  | 1                                                                                                                                                                                                                                                                                                                                   | 한글 자모의 첫째 글자. 기역이라 이르며, ‘가’에서와 같이 초성으로, ‘역’에서와 같이 종성으로 쓰인다. 목젖으로 콧길을 막고 혀뿌리를 높여 연구개를 막았다가 뗄 때 나는 무성음이다. 초성일 때는 무성이나 모음 사이에서는 유성음이 되며, 종성일 때는 혀뿌리를 떼지 않고 발음한다. 혀뿌리가 목구멍을 막는 모양을 본떠서 만든 글자이다. | 명사                                                                                                                                                                                                                                                                                                                                | 상                                                                                                                                                                                                                                                                                                                                  |\n",
       "| 2                                                                                                                                                                                                                                                                                                                                   | 2                                                                                                                                                                                                                                                                                                                                   | ㄱㄴㄷ순001                                                                                                                                                                                                                                                                                                                         | ㄱㄴㄷ-순                                                                                                                                                                                                                                                                                                                           | 1                                                                                                                                                                                                                                                                                                                                   | 한글의 ‘ㄱ, ㄴ, ㄷ……’ 차례로 매기는 순서.                                                                                                                                                                                                                                                                                       | 명사                                                                                                                                                                                                                                                                                                                                | 상                                                                                                                                                                                                                                                                                                                                  |\n",
       "| 3                                                                                                                                                                                                                                                                                                                                   | 3                                                                                                                                                                                                                                                                                                                                   | ㄱㄴㄷ차례001                                                                                                                                                                                                                                                                                                                       | ㄱㄴㄷ-차례                                                                                                                                                                                                                                                                                                                         | 1                                                                                                                                                                                                                                                                                                                                   | 한글의 ‘ㄱ, ㄴ, ㄷ……’ 차례로 매기는 순서.                                                                                                                                                                                                                                                                                       | 명사                                                                                                                                                                                                                                                                                                                                | 상                                                                                                                                                                                                                                                                                                                                  |\n",
       "| 4                                                                                                                                                                                                                                                                                                                                   | 4                                                                                                                                                                                                                                                                                                                                   | ㄱㄴ순001                                                                                                                                                                                                                                                                                                                           | ㄱㄴ-순                                                                                                                                                                                                                                                                                                                             | 1                                                                                                                                                                                                                                                                                                                                   | 한글의 ‘ㄱ, ㄴ, ㄷ……’ 차례로 매기는 순서.                                                                                                                                                                                                                                                                                       | 명사                                                                                                                                                                                                                                                                                                                                | 상                                                                                                                                                                                                                                                                                                                                  |\n",
       "| 5                                                                                                                                                                                                                                                                                                                                   | 5                                                                                                                                                                                                                                                                                                                                   | ㄱㄴ차례001                                                                                                                                                                                                                                                                                                                         | ㄱㄴ-차례                                                                                                                                                                                                                                                                                                                           | 1                                                                                                                                                                                                                                                                                                                                   | 한글의 ‘ㄱ, ㄴ, ㄷ……’ 차례로 매기는 순서.                                                                                                                                                                                                                                                                                       | 명사                                                                                                                                                                                                                                                                                                                                | 상                                                                                                                                                                                                                                                                                                                                  |\n",
       "| 6                                                                                                                                                                                                                                                                                                                                   | 6                                                                                                                                                                                                                                                                                                                                   | ㄱ자턱솔이음001                                                                                                                                                                                                                                                                                                                     | ㄱ자^턱솔이음                                                                                                                                                                                                                                                                                                                       | 1                                                                                                                                                                                                                                                                                                                                   | 나무나 돌을 ‘ㄱ’ 자 모양으로 턱이 지게 하여 만든 이음.                                                                                                                                                                                                                                                                            | 품사 없음                                                                                                                                                                                                                                                                                                                           | 상                                                                                                                                                                                                                                                                                                                                  |\n",
       "\n"
      ],
      "text/plain": [
       "  X1 word_id 의미어          표제어        의미번호\n",
       "1 1  1       ㄱ001           ㄱ            1       \n",
       "2 2  2       ㄱㄴㄷ순001     ㄱㄴㄷ-순     1       \n",
       "3 3  3       ㄱㄴㄷ차례001   ㄱㄴㄷ-차례   1       \n",
       "4 4  4       ㄱㄴ순001       ㄱㄴ-순       1       \n",
       "5 5  5       ㄱㄴ차례001     ㄱㄴ-차례     1       \n",
       "6 6  6       ㄱ자턱솔이음001 ㄱ자^턱솔이음 1       \n",
       "  뜻풀이                                                                                                                                                                                                                                                                                                                             \n",
       "1 한글 자모의 첫째 글자. 기역이라 이르며, ‘가’에서와 같이 초성으로, ‘역’에서와 같이 종성으로 쓰인다. 목젖으로 콧길을 막고 혀뿌리를 높여 연구개를 막았다가 뗄 때 나는 무성음이다. 초성일 때는 무성이나 모음 사이에서는 유성음이 되며, 종성일 때는 혀뿌리를 떼지 않고 발음한다. 혀뿌리가 목구멍을 막는 모양을 본떠서 만든 글자이다.\n",
       "2 한글의 ‘ㄱ, ㄴ, ㄷ……’ 차례로 매기는 순서.                                                                                                                                                                                                                                                                                      \n",
       "3 한글의 ‘ㄱ, ㄴ, ㄷ……’ 차례로 매기는 순서.                                                                                                                                                                                                                                                                                      \n",
       "4 한글의 ‘ㄱ, ㄴ, ㄷ……’ 차례로 매기는 순서.                                                                                                                                                                                                                                                                                      \n",
       "5 한글의 ‘ㄱ, ㄴ, ㄷ……’ 차례로 매기는 순서.                                                                                                                                                                                                                                                                                      \n",
       "6 나무나 돌을 ‘ㄱ’ 자 모양으로 턱이 지게 하여 만든 이음.                                                                                                                                                                                                                                                                           \n",
       "  품사      난이도\n",
       "1 명사      상    \n",
       "2 명사      상    \n",
       "3 명사      상    \n",
       "4 명사      상    \n",
       "5 명사      상    \n",
       "6 품사 없음 상    "
      ]
     },
     "metadata": {},
     "output_type": "display_data"
    }
   ],
   "source": [
    "dict <-read_csv(\"../DICT.csv\", locale = locale())\n",
    "head(dict)"
   ]
  },
  {
   "cell_type": "code",
   "execution_count": 4,
   "metadata": {},
   "outputs": [
    {
     "name": "stderr",
     "output_type": "stream",
     "text": [
      "Warning message:\n",
      "\"Duplicated column names deduplicated: '의미번호' => '의미번호_1' [9]\"Parsed with column specification:\n",
      "cols(\n",
      "  pair_id = col_double(),\n",
      "  `표제어 kword_id` = col_double(),\n",
      "  표제어 = col_character(),\n",
      "  의미번호 = col_character(),\n",
      "  `표제어 난이도` = col_character(),\n",
      "  relation2 = col_character(),\n",
      "  `관련어 word_id` = col_double(),\n",
      "  관련어 = col_character(),\n",
      "  의미번호_1 = col_character(),\n",
      "  `관련어 난이도` = col_character()\n",
      ")\n"
     ]
    },
    {
     "data": {
      "text/html": [
       "<table>\n",
       "<thead><tr><th scope=col>pair_id</th><th scope=col>표제어 kword_id</th><th scope=col>표제어</th><th scope=col>의미번호</th><th scope=col>표제어 난이도</th><th scope=col>relation2</th><th scope=col>관련어 word_id</th><th scope=col>관련어</th><th scope=col>의미번호_1</th><th scope=col>관련어 난이도</th></tr></thead>\n",
       "<tbody>\n",
       "\t<tr><td>1          </td><td>2184       </td><td>가톨릭     </td><td>002        </td><td>하         </td><td>비슷한말   </td><td> 97798     </td><td>서학       </td><td>002        </td><td>중         </td></tr>\n",
       "\t<tr><td>2          </td><td>2186       </td><td>가톨릭-교  </td><td>001        </td><td>중         </td><td>비슷한말   </td><td> 16023     </td><td>공교       </td><td>002        </td><td>상         </td></tr>\n",
       "\t<tr><td>3          </td><td>2186       </td><td>가톨릭-교  </td><td>001        </td><td>중         </td><td>비슷한말   </td><td>182393     </td><td>천주-학    </td><td>001        </td><td>중         </td></tr>\n",
       "\t<tr><td>4          </td><td>2186       </td><td>가톨릭-교  </td><td>001        </td><td>중         </td><td>비슷한말   </td><td>176596     </td><td>진교       </td><td>002        </td><td>상         </td></tr>\n",
       "\t<tr><td>5          </td><td>2188       </td><td>가톨릭-교도</td><td>001        </td><td>중         </td><td>비슷한말   </td><td>182378     </td><td>천좍-쟁이  </td><td>001        </td><td>상         </td></tr>\n",
       "\t<tr><td>6          </td><td>2190       </td><td>가톨릭교-회</td><td>001        </td><td>중         </td><td>비슷한말   </td><td>182379     </td><td>천주^공교회</td><td>001        </td><td>상         </td></tr>\n",
       "</tbody>\n",
       "</table>\n"
      ],
      "text/latex": [
       "\\begin{tabular}{r|llllllllll}\n",
       " pair\\_id & 표제어 kword\\_id & 표제어 & 의미번호 & 표제어 난이도 & relation2 & 관련어 word\\_id & 관련어 & 의미번호\\_1 & 관련어 난이도\\\\\n",
       "\\hline\n",
       "\t 1           & 2184        & 가톨릭      & 002         & 하          & 비슷한말    &  97798      & 서학        & 002         & 중         \\\\\n",
       "\t 2           & 2186        & 가톨릭-교   & 001         & 중          & 비슷한말    &  16023      & 공교        & 002         & 상         \\\\\n",
       "\t 3           & 2186        & 가톨릭-교   & 001         & 중          & 비슷한말    & 182393      & 천주-학     & 001         & 중         \\\\\n",
       "\t 4           & 2186        & 가톨릭-교   & 001         & 중          & 비슷한말    & 176596      & 진교        & 002         & 상         \\\\\n",
       "\t 5           & 2188        & 가톨릭-교도 & 001         & 중          & 비슷한말    & 182378      & 천좍-쟁이   & 001         & 상         \\\\\n",
       "\t 6                             & 2190                          & 가톨릭교-회                   & 001                           & 중                            & 비슷한말                      & 182379                        & 천주\\textasciicircum{}공교회 & 001                           & 상                           \\\\\n",
       "\\end{tabular}\n"
      ],
      "text/markdown": [
       "\n",
       "| pair_id | 표제어 kword_id | 표제어 | 의미번호 | 표제어 난이도 | relation2 | 관련어 word_id | 관련어 | 의미번호_1 | 관련어 난이도 |\n",
       "|---|---|---|---|---|---|---|---|---|---|\n",
       "| 1           | 2184        | 가톨릭      | 002         | 하          | 비슷한말    |  97798      | 서학        | 002         | 중          |\n",
       "| 2           | 2186        | 가톨릭-교   | 001         | 중          | 비슷한말    |  16023      | 공교        | 002         | 상          |\n",
       "| 3           | 2186        | 가톨릭-교   | 001         | 중          | 비슷한말    | 182393      | 천주-학     | 001         | 중          |\n",
       "| 4           | 2186        | 가톨릭-교   | 001         | 중          | 비슷한말    | 176596      | 진교        | 002         | 상          |\n",
       "| 5           | 2188        | 가톨릭-교도 | 001         | 중          | 비슷한말    | 182378      | 천좍-쟁이   | 001         | 상          |\n",
       "| 6           | 2190        | 가톨릭교-회 | 001         | 중          | 비슷한말    | 182379      | 천주^공교회 | 001         | 상          |\n",
       "\n"
      ],
      "text/plain": [
       "  pair_id 표제어 kword_id 표제어      의미번호 표제어 난이도 relation2\n",
       "1 1       2184            가톨릭      002      하            비슷한말 \n",
       "2 2       2186            가톨릭-교   001      중            비슷한말 \n",
       "3 3       2186            가톨릭-교   001      중            비슷한말 \n",
       "4 4       2186            가톨릭-교   001      중            비슷한말 \n",
       "5 5       2188            가톨릭-교도 001      중            비슷한말 \n",
       "6 6       2190            가톨릭교-회 001      중            비슷한말 \n",
       "  관련어 word_id 관련어      의미번호_1 관련어 난이도\n",
       "1  97798         서학        002        중           \n",
       "2  16023         공교        002        상           \n",
       "3 182393         천주-학     001        중           \n",
       "4 176596         진교        002        상           \n",
       "5 182378         천좍-쟁이   001        상           \n",
       "6 182379         천주^공교회 001        상           "
      ]
     },
     "metadata": {},
     "output_type": "display_data"
    }
   ],
   "source": [
    "keyDict <-read_csv(\"../EZmeta30.csv\", locale = locale())\n",
    "head(keyDict)"
   ]
  },
  {
   "cell_type": "code",
   "execution_count": 5,
   "metadata": {},
   "outputs": [
    {
     "data": {
      "text/html": [
       "<table>\n",
       "<thead><tr><th scope=col>X1</th><th scope=col>word_id</th><th scope=col>의미어</th><th scope=col>표제어.x</th><th scope=col>의미번호.x</th><th scope=col>뜻풀이</th><th scope=col>품사</th><th scope=col>난이도</th><th scope=col>pair_id</th><th scope=col>표제어.y</th><th scope=col>의미번호.y</th><th scope=col>표제어 난이도</th><th scope=col>relation2</th><th scope=col>관련어 word_id</th><th scope=col>관련어</th><th scope=col>의미번호_1</th><th scope=col>관련어 난이도</th></tr></thead>\n",
       "<tbody>\n",
       "\t<tr><td>1                                                                                                                                                                                                                                                                                                                                  </td><td>1                                                                                                                                                                                                                                                                                                                                  </td><td>ㄱ001                                                                                                                                                                                                                                                                                                                              </td><td>ㄱ                                                                                                                                                                                                                                                                                                                                 </td><td>1                                                                                                                                                                                                                                                                                                                                  </td><td>한글 자모의 첫째 글자. 기역이라 이르며, ‘가’에서와 같이 초성으로, ‘역’에서와 같이 종성으로 쓰인다. 목젖으로 콧길을 막고 혀뿌리를 높여 연구개를 막았다가 뗄 때 나는 무성음이다. 초성일 때는 무성이나 모음 사이에서는 유성음이 되며, 종성일 때는 혀뿌리를 떼지 않고 발음한다. 혀뿌리가 목구멍을 막는 모양을 본떠서 만든 글자이다.</td><td>명사                                                                                                                                                                                                                                                                                                                               </td><td>상                                                                                                                                                                                                                                                                                                                                 </td><td> 68214                                                                                                                                                                                                                                                                                                                             </td><td>ㄱ                                                                                                                                                                                                                                                                                                                                 </td><td>001                                                                                                                                                                                                                                                                                                                                </td><td>상                                                                                                                                                                                                                                                                                                                                 </td><td>상위어                                                                                                                                                                                                                                                                                                                             </td><td>154772                                                                                                                                                                                                                                                                                                                             </td><td>자음-자                                                                                                                                                                                                                                                                                                                            </td><td>001                                                                                                                                                                                                                                                                                                                                </td><td>중                                                                                                                                                                                                                                                                                                                                 </td></tr>\n",
       "\t<tr><td>2                                                                                                                                                                                                                                                                                                                                  </td><td>2                                                                                                                                                                                                                                                                                                                                  </td><td>ㄱㄴㄷ순001                                                                                                                                                                                                                                                                                                                        </td><td>ㄱㄴㄷ-순                                                                                                                                                                                                                                                                                                                          </td><td>1                                                                                                                                                                                                                                                                                                                                  </td><td>한글의 ‘ㄱ, ㄴ, ㄷ……’ 차례로 매기는 순서.                                                                                                                                                                                                                                                                                      </td><td>명사                                                                                                                                                                                                                                                                                                                               </td><td>상                                                                                                                                                                                                                                                                                                                                 </td><td>187742                                                                                                                                                                                                                                                                                                                             </td><td>ㄱㄴㄷ-순                                                                                                                                                                                                                                                                                                                          </td><td>001                                                                                                                                                                                                                                                                                                                                </td><td>상                                                                                                                                                                                                                                                                                                                                 </td><td>상위어                                                                                                                                                                                                                                                                                                                             </td><td>108946                                                                                                                                                                                                                                                                                                                             </td><td>순서                                                                                                                                                                                                                                                                                                                               </td><td>001                                                                                                                                                                                                                                                                                                                                </td><td>하                                                                                                                                                                                                                                                                                                                                 </td></tr>\n",
       "\t<tr><td>3                                                                                                                                                                                                                                                                                                                                  </td><td>3                                                                                                                                                                                                                                                                                                                                  </td><td>ㄱㄴㄷ차례001                                                                                                                                                                                                                                                                                                                      </td><td>ㄱㄴㄷ-차례                                                                                                                                                                                                                                                                                                                        </td><td>1                                                                                                                                                                                                                                                                                                                                  </td><td>한글의 ‘ㄱ, ㄴ, ㄷ……’ 차례로 매기는 순서.                                                                                                                                                                                                                                                                                      </td><td>명사                                                                                                                                                                                                                                                                                                                               </td><td>상                                                                                                                                                                                                                                                                                                                                 </td><td>136783                                                                                                                                                                                                                                                                                                                             </td><td>ㄱㄴㄷ-차례                                                                                                                                                                                                                                                                                                                        </td><td>001                                                                                                                                                                                                                                                                                                                                </td><td>상                                                                                                                                                                                                                                                                                                                                 </td><td>비슷한말                                                                                                                                                                                                                                                                                                                           </td><td>     4                                                                                                                                                                                                                                                                                                                             </td><td>ㄱㄴ-순                                                                                                                                                                                                                                                                                                                            </td><td>001                                                                                                                                                                                                                                                                                                                                </td><td>상                                                                                                                                                                                                                                                                                                                                 </td></tr>\n",
       "\t<tr><td>3                                                                                                                                                                                                                                                                                                                                  </td><td>3                                                                                                                                                                                                                                                                                                                                  </td><td>ㄱㄴㄷ차례001                                                                                                                                                                                                                                                                                                                      </td><td>ㄱㄴㄷ-차례                                                                                                                                                                                                                                                                                                                        </td><td>1                                                                                                                                                                                                                                                                                                                                  </td><td>한글의 ‘ㄱ, ㄴ, ㄷ……’ 차례로 매기는 순서.                                                                                                                                                                                                                                                                                      </td><td>명사                                                                                                                                                                                                                                                                                                                               </td><td>상                                                                                                                                                                                                                                                                                                                                 </td><td>174004                                                                                                                                                                                                                                                                                                                             </td><td>ㄱㄴㄷ-차례                                                                                                                                                                                                                                                                                                                        </td><td>001                                                                                                                                                                                                                                                                                                                                </td><td>상                                                                                                                                                                                                                                                                                                                                 </td><td>비슷한말                                                                                                                                                                                                                                                                                                                           </td><td>   266                                                                                                                                                                                                                                                                                                                             </td><td>가나다-차례                                                                                                                                                                                                                                                                                                                        </td><td>001                                                                                                                                                                                                                                                                                                                                </td><td>중                                                                                                                                                                                                                                                                                                                                 </td></tr>\n",
       "\t<tr><td>3                                                                                                                                                                                                                                                                                                                                  </td><td>3                                                                                                                                                                                                                                                                                                                                  </td><td>ㄱㄴㄷ차례001                                                                                                                                                                                                                                                                                                                      </td><td>ㄱㄴㄷ-차례                                                                                                                                                                                                                                                                                                                        </td><td>1                                                                                                                                                                                                                                                                                                                                  </td><td>한글의 ‘ㄱ, ㄴ, ㄷ……’ 차례로 매기는 순서.                                                                                                                                                                                                                                                                                      </td><td>명사                                                                                                                                                                                                                                                                                                                               </td><td>상                                                                                                                                                                                                                                                                                                                                 </td><td>187743                                                                                                                                                                                                                                                                                                                             </td><td>ㄱㄴㄷ-차례                                                                                                                                                                                                                                                                                                                        </td><td>001                                                                                                                                                                                                                                                                                                                                </td><td>상                                                                                                                                                                                                                                                                                                                                 </td><td>상위어                                                                                                                                                                                                                                                                                                                             </td><td>108946                                                                                                                                                                                                                                                                                                                             </td><td>순서                                                                                                                                                                                                                                                                                                                               </td><td>001                                                                                                                                                                                                                                                                                                                                </td><td>하                                                                                                                                                                                                                                                                                                                                 </td></tr>\n",
       "\t<tr><td>4                                                                                                                                                                                                                                                                                                                                  </td><td>4                                                                                                                                                                                                                                                                                                                                  </td><td>ㄱㄴ순001                                                                                                                                                                                                                                                                                                                          </td><td>ㄱㄴ-순                                                                                                                                                                                                                                                                                                                            </td><td>1                                                                                                                                                                                                                                                                                                                                  </td><td>한글의 ‘ㄱ, ㄴ, ㄷ……’ 차례로 매기는 순서.                                                                                                                                                                                                                                                                                      </td><td>명사                                                                                                                                                                                                                                                                                                                               </td><td>상                                                                                                                                                                                                                                                                                                                                 </td><td>136781                                                                                                                                                                                                                                                                                                                             </td><td>ㄱㄴ-순                                                                                                                                                                                                                                                                                                                            </td><td>001                                                                                                                                                                                                                                                                                                                                </td><td>상                                                                                                                                                                                                                                                                                                                                 </td><td>비슷한말                                                                                                                                                                                                                                                                                                                           </td><td> 28848                                                                                                                                                                                                                                                                                                                             </td><td>기역니은-순                                                                                                                                                                                                                                                                                                                        </td><td>001                                                                                                                                                                                                                                                                                                                                </td><td>중                                                                                                                                                                                                                                                                                                                                 </td></tr>\n",
       "</tbody>\n",
       "</table>\n"
      ],
      "text/latex": [
       "\\begin{tabular}{r|lllllllllllllllll}\n",
       " X1 & word\\_id & 의미어 & 표제어.x & 의미번호.x & 뜻풀이 & 품사 & 난이도 & pair\\_id & 표제어.y & 의미번호.y & 표제어 난이도 & relation2 & 관련어 word\\_id & 관련어 & 의미번호\\_1 & 관련어 난이도\\\\\n",
       "\\hline\n",
       "\t 1                                                                                                                                                                                                                                                                                                                                   & 1                                                                                                                                                                                                                                                                                                                                   & ㄱ001                                                                                                                                                                                                                                                                                                                               & ㄱ                                                                                                                                                                                                                                                                                                                                  & 1                                                                                                                                                                                                                                                                                                                                   & 한글 자모의 첫째 글자. 기역이라 이르며, ‘가’에서와 같이 초성으로, ‘역’에서와 같이 종성으로 쓰인다. 목젖으로 콧길을 막고 혀뿌리를 높여 연구개를 막았다가 뗄 때 나는 무성음이다. 초성일 때는 무성이나 모음 사이에서는 유성음이 되며, 종성일 때는 혀뿌리를 떼지 않고 발음한다. 혀뿌리가 목구멍을 막는 모양을 본떠서 만든 글자이다. & 명사                                                                                                                                                                                                                                                                                                                                & 상                                                                                                                                                                                                                                                                                                                                  &  68214                                                                                                                                                                                                                                                                                                                              & ㄱ                                                                                                                                                                                                                                                                                                                                  & 001                                                                                                                                                                                                                                                                                                                                 & 상                                                                                                                                                                                                                                                                                                                                  & 상위어                                                                                                                                                                                                                                                                                                                              & 154772                                                                                                                                                                                                                                                                                                                              & 자음-자                                                                                                                                                                                                                                                                                                                             & 001                                                                                                                                                                                                                                                                                                                                 & 중                                                                                                                                                                                                                                                                                                                                 \\\\\n",
       "\t 2                                                                                                                                                                                                                                                                                                                                   & 2                                                                                                                                                                                                                                                                                                                                   & ㄱㄴㄷ순001                                                                                                                                                                                                                                                                                                                         & ㄱㄴㄷ-순                                                                                                                                                                                                                                                                                                                           & 1                                                                                                                                                                                                                                                                                                                                   & 한글의 ‘ㄱ, ㄴ, ㄷ……’ 차례로 매기는 순서.                                                                                                                                                                                                                                                                                       & 명사                                                                                                                                                                                                                                                                                                                                & 상                                                                                                                                                                                                                                                                                                                                  & 187742                                                                                                                                                                                                                                                                                                                              & ㄱㄴㄷ-순                                                                                                                                                                                                                                                                                                                           & 001                                                                                                                                                                                                                                                                                                                                 & 상                                                                                                                                                                                                                                                                                                                                  & 상위어                                                                                                                                                                                                                                                                                                                              & 108946                                                                                                                                                                                                                                                                                                                              & 순서                                                                                                                                                                                                                                                                                                                                & 001                                                                                                                                                                                                                                                                                                                                 & 하                                                                                                                                                                                                                                                                                                                                 \\\\\n",
       "\t 3                                                                                                                                                                                                                                                                                                                                   & 3                                                                                                                                                                                                                                                                                                                                   & ㄱㄴㄷ차례001                                                                                                                                                                                                                                                                                                                       & ㄱㄴㄷ-차례                                                                                                                                                                                                                                                                                                                         & 1                                                                                                                                                                                                                                                                                                                                   & 한글의 ‘ㄱ, ㄴ, ㄷ……’ 차례로 매기는 순서.                                                                                                                                                                                                                                                                                       & 명사                                                                                                                                                                                                                                                                                                                                & 상                                                                                                                                                                                                                                                                                                                                  & 136783                                                                                                                                                                                                                                                                                                                              & ㄱㄴㄷ-차례                                                                                                                                                                                                                                                                                                                         & 001                                                                                                                                                                                                                                                                                                                                 & 상                                                                                                                                                                                                                                                                                                                                  & 비슷한말                                                                                                                                                                                                                                                                                                                            &      4                                                                                                                                                                                                                                                                                                                              & ㄱㄴ-순                                                                                                                                                                                                                                                                                                                             & 001                                                                                                                                                                                                                                                                                                                                 & 상                                                                                                                                                                                                                                                                                                                                 \\\\\n",
       "\t 3                                                                                                                                                                                                                                                                                                                                   & 3                                                                                                                                                                                                                                                                                                                                   & ㄱㄴㄷ차례001                                                                                                                                                                                                                                                                                                                       & ㄱㄴㄷ-차례                                                                                                                                                                                                                                                                                                                         & 1                                                                                                                                                                                                                                                                                                                                   & 한글의 ‘ㄱ, ㄴ, ㄷ……’ 차례로 매기는 순서.                                                                                                                                                                                                                                                                                       & 명사                                                                                                                                                                                                                                                                                                                                & 상                                                                                                                                                                                                                                                                                                                                  & 174004                                                                                                                                                                                                                                                                                                                              & ㄱㄴㄷ-차례                                                                                                                                                                                                                                                                                                                         & 001                                                                                                                                                                                                                                                                                                                                 & 상                                                                                                                                                                                                                                                                                                                                  & 비슷한말                                                                                                                                                                                                                                                                                                                            &    266                                                                                                                                                                                                                                                                                                                              & 가나다-차례                                                                                                                                                                                                                                                                                                                         & 001                                                                                                                                                                                                                                                                                                                                 & 중                                                                                                                                                                                                                                                                                                                                 \\\\\n",
       "\t 3                                                                                                                                                                                                                                                                                                                                   & 3                                                                                                                                                                                                                                                                                                                                   & ㄱㄴㄷ차례001                                                                                                                                                                                                                                                                                                                       & ㄱㄴㄷ-차례                                                                                                                                                                                                                                                                                                                         & 1                                                                                                                                                                                                                                                                                                                                   & 한글의 ‘ㄱ, ㄴ, ㄷ……’ 차례로 매기는 순서.                                                                                                                                                                                                                                                                                       & 명사                                                                                                                                                                                                                                                                                                                                & 상                                                                                                                                                                                                                                                                                                                                  & 187743                                                                                                                                                                                                                                                                                                                              & ㄱㄴㄷ-차례                                                                                                                                                                                                                                                                                                                         & 001                                                                                                                                                                                                                                                                                                                                 & 상                                                                                                                                                                                                                                                                                                                                  & 상위어                                                                                                                                                                                                                                                                                                                              & 108946                                                                                                                                                                                                                                                                                                                              & 순서                                                                                                                                                                                                                                                                                                                                & 001                                                                                                                                                                                                                                                                                                                                 & 하                                                                                                                                                                                                                                                                                                                                 \\\\\n",
       "\t 4                                                                                                                                                                                                                                                                                                                                   & 4                                                                                                                                                                                                                                                                                                                                   & ㄱㄴ순001                                                                                                                                                                                                                                                                                                                           & ㄱㄴ-순                                                                                                                                                                                                                                                                                                                             & 1                                                                                                                                                                                                                                                                                                                                   & 한글의 ‘ㄱ, ㄴ, ㄷ……’ 차례로 매기는 순서.                                                                                                                                                                                                                                                                                       & 명사                                                                                                                                                                                                                                                                                                                                & 상                                                                                                                                                                                                                                                                                                                                  & 136781                                                                                                                                                                                                                                                                                                                              & ㄱㄴ-순                                                                                                                                                                                                                                                                                                                             & 001                                                                                                                                                                                                                                                                                                                                 & 상                                                                                                                                                                                                                                                                                                                                  & 비슷한말                                                                                                                                                                                                                                                                                                                            &  28848                                                                                                                                                                                                                                                                                                                              & 기역니은-순                                                                                                                                                                                                                                                                                                                         & 001                                                                                                                                                                                                                                                                                                                                 & 중                                                                                                                                                                                                                                                                                                                                 \\\\\n",
       "\\end{tabular}\n"
      ],
      "text/markdown": [
       "\n",
       "| X1 | word_id | 의미어 | 표제어.x | 의미번호.x | 뜻풀이 | 품사 | 난이도 | pair_id | 표제어.y | 의미번호.y | 표제어 난이도 | relation2 | 관련어 word_id | 관련어 | 의미번호_1 | 관련어 난이도 |\n",
       "|---|---|---|---|---|---|---|---|---|---|---|---|---|---|---|---|---|\n",
       "| 1                                                                                                                                                                                                                                                                                                                                   | 1                                                                                                                                                                                                                                                                                                                                   | ㄱ001                                                                                                                                                                                                                                                                                                                               | ㄱ                                                                                                                                                                                                                                                                                                                                  | 1                                                                                                                                                                                                                                                                                                                                   | 한글 자모의 첫째 글자. 기역이라 이르며, ‘가’에서와 같이 초성으로, ‘역’에서와 같이 종성으로 쓰인다. 목젖으로 콧길을 막고 혀뿌리를 높여 연구개를 막았다가 뗄 때 나는 무성음이다. 초성일 때는 무성이나 모음 사이에서는 유성음이 되며, 종성일 때는 혀뿌리를 떼지 않고 발음한다. 혀뿌리가 목구멍을 막는 모양을 본떠서 만든 글자이다. | 명사                                                                                                                                                                                                                                                                                                                                | 상                                                                                                                                                                                                                                                                                                                                  |  68214                                                                                                                                                                                                                                                                                                                              | ㄱ                                                                                                                                                                                                                                                                                                                                  | 001                                                                                                                                                                                                                                                                                                                                 | 상                                                                                                                                                                                                                                                                                                                                  | 상위어                                                                                                                                                                                                                                                                                                                              | 154772                                                                                                                                                                                                                                                                                                                              | 자음-자                                                                                                                                                                                                                                                                                                                             | 001                                                                                                                                                                                                                                                                                                                                 | 중                                                                                                                                                                                                                                                                                                                                  |\n",
       "| 2                                                                                                                                                                                                                                                                                                                                   | 2                                                                                                                                                                                                                                                                                                                                   | ㄱㄴㄷ순001                                                                                                                                                                                                                                                                                                                         | ㄱㄴㄷ-순                                                                                                                                                                                                                                                                                                                           | 1                                                                                                                                                                                                                                                                                                                                   | 한글의 ‘ㄱ, ㄴ, ㄷ……’ 차례로 매기는 순서.                                                                                                                                                                                                                                                                                       | 명사                                                                                                                                                                                                                                                                                                                                | 상                                                                                                                                                                                                                                                                                                                                  | 187742                                                                                                                                                                                                                                                                                                                              | ㄱㄴㄷ-순                                                                                                                                                                                                                                                                                                                           | 001                                                                                                                                                                                                                                                                                                                                 | 상                                                                                                                                                                                                                                                                                                                                  | 상위어                                                                                                                                                                                                                                                                                                                              | 108946                                                                                                                                                                                                                                                                                                                              | 순서                                                                                                                                                                                                                                                                                                                                | 001                                                                                                                                                                                                                                                                                                                                 | 하                                                                                                                                                                                                                                                                                                                                  |\n",
       "| 3                                                                                                                                                                                                                                                                                                                                   | 3                                                                                                                                                                                                                                                                                                                                   | ㄱㄴㄷ차례001                                                                                                                                                                                                                                                                                                                       | ㄱㄴㄷ-차례                                                                                                                                                                                                                                                                                                                         | 1                                                                                                                                                                                                                                                                                                                                   | 한글의 ‘ㄱ, ㄴ, ㄷ……’ 차례로 매기는 순서.                                                                                                                                                                                                                                                                                       | 명사                                                                                                                                                                                                                                                                                                                                | 상                                                                                                                                                                                                                                                                                                                                  | 136783                                                                                                                                                                                                                                                                                                                              | ㄱㄴㄷ-차례                                                                                                                                                                                                                                                                                                                         | 001                                                                                                                                                                                                                                                                                                                                 | 상                                                                                                                                                                                                                                                                                                                                  | 비슷한말                                                                                                                                                                                                                                                                                                                            |      4                                                                                                                                                                                                                                                                                                                              | ㄱㄴ-순                                                                                                                                                                                                                                                                                                                             | 001                                                                                                                                                                                                                                                                                                                                 | 상                                                                                                                                                                                                                                                                                                                                  |\n",
       "| 3                                                                                                                                                                                                                                                                                                                                   | 3                                                                                                                                                                                                                                                                                                                                   | ㄱㄴㄷ차례001                                                                                                                                                                                                                                                                                                                       | ㄱㄴㄷ-차례                                                                                                                                                                                                                                                                                                                         | 1                                                                                                                                                                                                                                                                                                                                   | 한글의 ‘ㄱ, ㄴ, ㄷ……’ 차례로 매기는 순서.                                                                                                                                                                                                                                                                                       | 명사                                                                                                                                                                                                                                                                                                                                | 상                                                                                                                                                                                                                                                                                                                                  | 174004                                                                                                                                                                                                                                                                                                                              | ㄱㄴㄷ-차례                                                                                                                                                                                                                                                                                                                         | 001                                                                                                                                                                                                                                                                                                                                 | 상                                                                                                                                                                                                                                                                                                                                  | 비슷한말                                                                                                                                                                                                                                                                                                                            |    266                                                                                                                                                                                                                                                                                                                              | 가나다-차례                                                                                                                                                                                                                                                                                                                         | 001                                                                                                                                                                                                                                                                                                                                 | 중                                                                                                                                                                                                                                                                                                                                  |\n",
       "| 3                                                                                                                                                                                                                                                                                                                                   | 3                                                                                                                                                                                                                                                                                                                                   | ㄱㄴㄷ차례001                                                                                                                                                                                                                                                                                                                       | ㄱㄴㄷ-차례                                                                                                                                                                                                                                                                                                                         | 1                                                                                                                                                                                                                                                                                                                                   | 한글의 ‘ㄱ, ㄴ, ㄷ……’ 차례로 매기는 순서.                                                                                                                                                                                                                                                                                       | 명사                                                                                                                                                                                                                                                                                                                                | 상                                                                                                                                                                                                                                                                                                                                  | 187743                                                                                                                                                                                                                                                                                                                              | ㄱㄴㄷ-차례                                                                                                                                                                                                                                                                                                                         | 001                                                                                                                                                                                                                                                                                                                                 | 상                                                                                                                                                                                                                                                                                                                                  | 상위어                                                                                                                                                                                                                                                                                                                              | 108946                                                                                                                                                                                                                                                                                                                              | 순서                                                                                                                                                                                                                                                                                                                                | 001                                                                                                                                                                                                                                                                                                                                 | 하                                                                                                                                                                                                                                                                                                                                  |\n",
       "| 4                                                                                                                                                                                                                                                                                                                                   | 4                                                                                                                                                                                                                                                                                                                                   | ㄱㄴ순001                                                                                                                                                                                                                                                                                                                           | ㄱㄴ-순                                                                                                                                                                                                                                                                                                                             | 1                                                                                                                                                                                                                                                                                                                                   | 한글의 ‘ㄱ, ㄴ, ㄷ……’ 차례로 매기는 순서.                                                                                                                                                                                                                                                                                       | 명사                                                                                                                                                                                                                                                                                                                                | 상                                                                                                                                                                                                                                                                                                                                  | 136781                                                                                                                                                                                                                                                                                                                              | ㄱㄴ-순                                                                                                                                                                                                                                                                                                                             | 001                                                                                                                                                                                                                                                                                                                                 | 상                                                                                                                                                                                                                                                                                                                                  | 비슷한말                                                                                                                                                                                                                                                                                                                            |  28848                                                                                                                                                                                                                                                                                                                              | 기역니은-순                                                                                                                                                                                                                                                                                                                         | 001                                                                                                                                                                                                                                                                                                                                 | 중                                                                                                                                                                                                                                                                                                                                  |\n",
       "\n"
      ],
      "text/plain": [
       "  X1 word_id 의미어        표제어.x    의미번호.x\n",
       "1 1  1       ㄱ001         ㄱ          1         \n",
       "2 2  2       ㄱㄴㄷ순001   ㄱㄴㄷ-순   1         \n",
       "3 3  3       ㄱㄴㄷ차례001 ㄱㄴㄷ-차례 1         \n",
       "4 3  3       ㄱㄴㄷ차례001 ㄱㄴㄷ-차례 1         \n",
       "5 3  3       ㄱㄴㄷ차례001 ㄱㄴㄷ-차례 1         \n",
       "6 4  4       ㄱㄴ순001     ㄱㄴ-순     1         \n",
       "  뜻풀이                                                                                                                                                                                                                                                                                                                             \n",
       "1 한글 자모의 첫째 글자. 기역이라 이르며, ‘가’에서와 같이 초성으로, ‘역’에서와 같이 종성으로 쓰인다. 목젖으로 콧길을 막고 혀뿌리를 높여 연구개를 막았다가 뗄 때 나는 무성음이다. 초성일 때는 무성이나 모음 사이에서는 유성음이 되며, 종성일 때는 혀뿌리를 떼지 않고 발음한다. 혀뿌리가 목구멍을 막는 모양을 본떠서 만든 글자이다.\n",
       "2 한글의 ‘ㄱ, ㄴ, ㄷ……’ 차례로 매기는 순서.                                                                                                                                                                                                                                                                                      \n",
       "3 한글의 ‘ㄱ, ㄴ, ㄷ……’ 차례로 매기는 순서.                                                                                                                                                                                                                                                                                      \n",
       "4 한글의 ‘ㄱ, ㄴ, ㄷ……’ 차례로 매기는 순서.                                                                                                                                                                                                                                                                                      \n",
       "5 한글의 ‘ㄱ, ㄴ, ㄷ……’ 차례로 매기는 순서.                                                                                                                                                                                                                                                                                      \n",
       "6 한글의 ‘ㄱ, ㄴ, ㄷ……’ 차례로 매기는 순서.                                                                                                                                                                                                                                                                                      \n",
       "  품사 난이도 pair_id 표제어.y    의미번호.y 표제어 난이도 relation2\n",
       "1 명사 상      68214  ㄱ          001        상            상위어   \n",
       "2 명사 상     187742  ㄱㄴㄷ-순   001        상            상위어   \n",
       "3 명사 상     136783  ㄱㄴㄷ-차례 001        상            비슷한말 \n",
       "4 명사 상     174004  ㄱㄴㄷ-차례 001        상            비슷한말 \n",
       "5 명사 상     187743  ㄱㄴㄷ-차례 001        상            상위어   \n",
       "6 명사 상     136781  ㄱㄴ-순     001        상            비슷한말 \n",
       "  관련어 word_id 관련어      의미번호_1 관련어 난이도\n",
       "1 154772         자음-자     001        중           \n",
       "2 108946         순서        001        하           \n",
       "3      4         ㄱㄴ-순     001        상           \n",
       "4    266         가나다-차례 001        중           \n",
       "5 108946         순서        001        하           \n",
       "6  28848         기역니은-순 001        중           "
      ]
     },
     "metadata": {},
     "output_type": "display_data"
    }
   ],
   "source": [
    "joinData <- left_join(dict,keyDict,by=c('word_id'='표제어 kword_id'))\n",
    "head(joinData)"
   ]
  },
  {
   "cell_type": "code",
   "execution_count": 6,
   "metadata": {},
   "outputs": [
    {
     "name": "stderr",
     "output_type": "stream",
     "text": [
      "Warning message in write.table(joinData, file = \"../joinData.csv\", row.names = TRUE, :\n",
      "\"appending column names to file\""
     ]
    }
   ],
   "source": [
    "dict <- read_csv(\"../DICT.csv\",locale=locale())\n",
    "keyDict <- read_csv(\"../EZmeta30.csv\",locale=locale())\n",
    "joinData <- left_join(dict,keyDict,by=c('word_id'='표제어 kword_id'))\n",
    "write.table(joinData,file=\"../joinData.csv\",row.names=TRUE,col.names=TRUE,append=T,sep=\",\",fileEncoding=\"UTF-8\")"
   ]
  },
  {
   "cell_type": "code",
   "execution_count": 7,
   "metadata": {},
   "outputs": [
    {
     "name": "stderr",
     "output_type": "stream",
     "text": [
      "Parsed with column specification:\n",
      "cols(\n",
      "  X1 = col_double(),\n",
      "  word_id = col_double(),\n",
      "  의미어 = col_double(),\n",
      "  표제어.x = col_character(),\n",
      "  의미번호.x = col_character(),\n",
      "  뜻풀이 = col_double(),\n",
      "  품사 = col_character(),\n",
      "  난이도 = col_character(),\n",
      "  pair_id = col_character(),\n",
      "  표제어.y = col_double(),\n",
      "  의미번호.y = col_character(),\n",
      "  `표제어 난이도` = col_character(),\n",
      "  relation2 = col_character(),\n",
      "  `관련어 word_id` = col_character(),\n",
      "  관련어 = col_double(),\n",
      "  의미번호_1 = col_character(),\n",
      "  `관련어 난이도` = col_character()\n",
      ")\n",
      "Warning message:\n",
      "\"384605 parsing failures.\n",
      "row col   expected     actual              file\n",
      "  1  -- 17 columns 18 columns '../joinData.csv'\n",
      "  2  -- 17 columns 18 columns '../joinData.csv'\n",
      "  3  -- 17 columns 18 columns '../joinData.csv'\n",
      "  4  -- 17 columns 18 columns '../joinData.csv'\n",
      "  5  -- 17 columns 18 columns '../joinData.csv'\n",
      "... ... .......... .......... .................\n",
      "See problems(...) for more details.\n",
      "\""
     ]
    },
    {
     "data": {
      "text/html": [
       "<table>\n",
       "<thead><tr><th scope=col>X1</th><th scope=col>word_id</th><th scope=col>의미어</th><th scope=col>표제어.x</th><th scope=col>의미번호.x</th><th scope=col>뜻풀이</th><th scope=col>품사</th><th scope=col>난이도</th><th scope=col>pair_id</th><th scope=col>표제어.y</th><th scope=col>의미번호.y</th><th scope=col>표제어 난이도</th><th scope=col>relation2</th><th scope=col>관련어 word_id</th><th scope=col>관련어</th><th scope=col>의미번호_1</th><th scope=col>관련어 난이도</th></tr></thead>\n",
       "<tbody>\n",
       "\t<tr><td>1                                                                                                                                                                                                                                                                                                                                  </td><td>1                                                                                                                                                                                                                                                                                                                                  </td><td>1                                                                                                                                                                                                                                                                                                                                  </td><td>ㄱ001                                                                                                                                                                                                                                                                                                                              </td><td>ㄱ                                                                                                                                                                                                                                                                                                                                 </td><td>1                                                                                                                                                                                                                                                                                                                                  </td><td>한글 자모의 첫째 글자. 기역이라 이르며, ‘가’에서와 같이 초성으로, ‘역’에서와 같이 종성으로 쓰인다. 목젖으로 콧길을 막고 혀뿌리를 높여 연구개를 막았다가 뗄 때 나는 무성음이다. 초성일 때는 무성이나 모음 사이에서는 유성음이 되며, 종성일 때는 혀뿌리를 떼지 않고 발음한다. 혀뿌리가 목구멍을 막는 모양을 본떠서 만든 글자이다.</td><td>명사                                                                                                                                                                                                                                                                                                                               </td><td>상                                                                                                                                                                                                                                                                                                                                 </td><td> 68214                                                                                                                                                                                                                                                                                                                             </td><td>ㄱ                                                                                                                                                                                                                                                                                                                                 </td><td>001                                                                                                                                                                                                                                                                                                                                </td><td>상                                                                                                                                                                                                                                                                                                                                 </td><td>상위어                                                                                                                                                                                                                                                                                                                             </td><td>154772                                                                                                                                                                                                                                                                                                                             </td><td>자음-자                                                                                                                                                                                                                                                                                                                            </td><td>001                                                                                                                                                                                                                                                                                                                                </td></tr>\n",
       "\t<tr><td>2                                                                                                                                                                                                                                                                                                                                  </td><td>2                                                                                                                                                                                                                                                                                                                                  </td><td>2                                                                                                                                                                                                                                                                                                                                  </td><td>ㄱㄴㄷ순001                                                                                                                                                                                                                                                                                                                        </td><td>ㄱㄴㄷ-순                                                                                                                                                                                                                                                                                                                          </td><td>1                                                                                                                                                                                                                                                                                                                                  </td><td>한글의 ‘ㄱ, ㄴ, ㄷ……’ 차례로 매기는 순서.                                                                                                                                                                                                                                                                                      </td><td>명사                                                                                                                                                                                                                                                                                                                               </td><td>상                                                                                                                                                                                                                                                                                                                                 </td><td>187742                                                                                                                                                                                                                                                                                                                             </td><td>ㄱㄴㄷ-순                                                                                                                                                                                                                                                                                                                          </td><td>001                                                                                                                                                                                                                                                                                                                                </td><td>상                                                                                                                                                                                                                                                                                                                                 </td><td>상위어                                                                                                                                                                                                                                                                                                                             </td><td>108946                                                                                                                                                                                                                                                                                                                             </td><td>순서                                                                                                                                                                                                                                                                                                                               </td><td>001                                                                                                                                                                                                                                                                                                                                </td></tr>\n",
       "\t<tr><td>3                                                                                                                                                                                                                                                                                                                                  </td><td>3                                                                                                                                                                                                                                                                                                                                  </td><td>3                                                                                                                                                                                                                                                                                                                                  </td><td>ㄱㄴㄷ차례001                                                                                                                                                                                                                                                                                                                      </td><td>ㄱㄴㄷ-차례                                                                                                                                                                                                                                                                                                                        </td><td>1                                                                                                                                                                                                                                                                                                                                  </td><td>한글의 ‘ㄱ, ㄴ, ㄷ……’ 차례로 매기는 순서.                                                                                                                                                                                                                                                                                      </td><td>명사                                                                                                                                                                                                                                                                                                                               </td><td>상                                                                                                                                                                                                                                                                                                                                 </td><td>136783                                                                                                                                                                                                                                                                                                                             </td><td>ㄱㄴㄷ-차례                                                                                                                                                                                                                                                                                                                        </td><td>001                                                                                                                                                                                                                                                                                                                                </td><td>상                                                                                                                                                                                                                                                                                                                                 </td><td>비슷한말                                                                                                                                                                                                                                                                                                                           </td><td>     4                                                                                                                                                                                                                                                                                                                             </td><td>ㄱㄴ-순                                                                                                                                                                                                                                                                                                                            </td><td>001                                                                                                                                                                                                                                                                                                                                </td></tr>\n",
       "\t<tr><td>4                                                                                                                                                                                                                                                                                                                                  </td><td>3                                                                                                                                                                                                                                                                                                                                  </td><td>3                                                                                                                                                                                                                                                                                                                                  </td><td>ㄱㄴㄷ차례001                                                                                                                                                                                                                                                                                                                      </td><td>ㄱㄴㄷ-차례                                                                                                                                                                                                                                                                                                                        </td><td>1                                                                                                                                                                                                                                                                                                                                  </td><td>한글의 ‘ㄱ, ㄴ, ㄷ……’ 차례로 매기는 순서.                                                                                                                                                                                                                                                                                      </td><td>명사                                                                                                                                                                                                                                                                                                                               </td><td>상                                                                                                                                                                                                                                                                                                                                 </td><td>174004                                                                                                                                                                                                                                                                                                                             </td><td>ㄱㄴㄷ-차례                                                                                                                                                                                                                                                                                                                        </td><td>001                                                                                                                                                                                                                                                                                                                                </td><td>상                                                                                                                                                                                                                                                                                                                                 </td><td>비슷한말                                                                                                                                                                                                                                                                                                                           </td><td>   266                                                                                                                                                                                                                                                                                                                             </td><td>가나다-차례                                                                                                                                                                                                                                                                                                                        </td><td>001                                                                                                                                                                                                                                                                                                                                </td></tr>\n",
       "\t<tr><td>5                                                                                                                                                                                                                                                                                                                                  </td><td>3                                                                                                                                                                                                                                                                                                                                  </td><td>3                                                                                                                                                                                                                                                                                                                                  </td><td>ㄱㄴㄷ차례001                                                                                                                                                                                                                                                                                                                      </td><td>ㄱㄴㄷ-차례                                                                                                                                                                                                                                                                                                                        </td><td>1                                                                                                                                                                                                                                                                                                                                  </td><td>한글의 ‘ㄱ, ㄴ, ㄷ……’ 차례로 매기는 순서.                                                                                                                                                                                                                                                                                      </td><td>명사                                                                                                                                                                                                                                                                                                                               </td><td>상                                                                                                                                                                                                                                                                                                                                 </td><td>187743                                                                                                                                                                                                                                                                                                                             </td><td>ㄱㄴㄷ-차례                                                                                                                                                                                                                                                                                                                        </td><td>001                                                                                                                                                                                                                                                                                                                                </td><td>상                                                                                                                                                                                                                                                                                                                                 </td><td>상위어                                                                                                                                                                                                                                                                                                                             </td><td>108946                                                                                                                                                                                                                                                                                                                             </td><td>순서                                                                                                                                                                                                                                                                                                                               </td><td>001                                                                                                                                                                                                                                                                                                                                </td></tr>\n",
       "\t<tr><td>6                                                                                                                                                                                                                                                                                                                                  </td><td>4                                                                                                                                                                                                                                                                                                                                  </td><td>4                                                                                                                                                                                                                                                                                                                                  </td><td>ㄱㄴ순001                                                                                                                                                                                                                                                                                                                          </td><td>ㄱㄴ-순                                                                                                                                                                                                                                                                                                                            </td><td>1                                                                                                                                                                                                                                                                                                                                  </td><td>한글의 ‘ㄱ, ㄴ, ㄷ……’ 차례로 매기는 순서.                                                                                                                                                                                                                                                                                      </td><td>명사                                                                                                                                                                                                                                                                                                                               </td><td>상                                                                                                                                                                                                                                                                                                                                 </td><td>136781                                                                                                                                                                                                                                                                                                                             </td><td>ㄱㄴ-순                                                                                                                                                                                                                                                                                                                            </td><td>001                                                                                                                                                                                                                                                                                                                                </td><td>상                                                                                                                                                                                                                                                                                                                                 </td><td>비슷한말                                                                                                                                                                                                                                                                                                                           </td><td> 28848                                                                                                                                                                                                                                                                                                                             </td><td>기역니은-순                                                                                                                                                                                                                                                                                                                        </td><td>001                                                                                                                                                                                                                                                                                                                                </td></tr>\n",
       "</tbody>\n",
       "</table>\n"
      ],
      "text/latex": [
       "\\begin{tabular}{r|lllllllllllllllll}\n",
       " X1 & word\\_id & 의미어 & 표제어.x & 의미번호.x & 뜻풀이 & 품사 & 난이도 & pair\\_id & 표제어.y & 의미번호.y & 표제어 난이도 & relation2 & 관련어 word\\_id & 관련어 & 의미번호\\_1 & 관련어 난이도\\\\\n",
       "\\hline\n",
       "\t 1                                                                                                                                                                                                                                                                                                                                   & 1                                                                                                                                                                                                                                                                                                                                   & 1                                                                                                                                                                                                                                                                                                                                   & ㄱ001                                                                                                                                                                                                                                                                                                                               & ㄱ                                                                                                                                                                                                                                                                                                                                  & 1                                                                                                                                                                                                                                                                                                                                   & 한글 자모의 첫째 글자. 기역이라 이르며, ‘가’에서와 같이 초성으로, ‘역’에서와 같이 종성으로 쓰인다. 목젖으로 콧길을 막고 혀뿌리를 높여 연구개를 막았다가 뗄 때 나는 무성음이다. 초성일 때는 무성이나 모음 사이에서는 유성음이 되며, 종성일 때는 혀뿌리를 떼지 않고 발음한다. 혀뿌리가 목구멍을 막는 모양을 본떠서 만든 글자이다. & 명사                                                                                                                                                                                                                                                                                                                                & 상                                                                                                                                                                                                                                                                                                                                  &  68214                                                                                                                                                                                                                                                                                                                              & ㄱ                                                                                                                                                                                                                                                                                                                                  & 001                                                                                                                                                                                                                                                                                                                                 & 상                                                                                                                                                                                                                                                                                                                                  & 상위어                                                                                                                                                                                                                                                                                                                              & 154772                                                                                                                                                                                                                                                                                                                              & 자음-자                                                                                                                                                                                                                                                                                                                             & 001                                                                                                                                                                                                                                                                                                                                \\\\\n",
       "\t 2                                                                                                                                                                                                                                                                                                                                   & 2                                                                                                                                                                                                                                                                                                                                   & 2                                                                                                                                                                                                                                                                                                                                   & ㄱㄴㄷ순001                                                                                                                                                                                                                                                                                                                         & ㄱㄴㄷ-순                                                                                                                                                                                                                                                                                                                           & 1                                                                                                                                                                                                                                                                                                                                   & 한글의 ‘ㄱ, ㄴ, ㄷ……’ 차례로 매기는 순서.                                                                                                                                                                                                                                                                                       & 명사                                                                                                                                                                                                                                                                                                                                & 상                                                                                                                                                                                                                                                                                                                                  & 187742                                                                                                                                                                                                                                                                                                                              & ㄱㄴㄷ-순                                                                                                                                                                                                                                                                                                                           & 001                                                                                                                                                                                                                                                                                                                                 & 상                                                                                                                                                                                                                                                                                                                                  & 상위어                                                                                                                                                                                                                                                                                                                              & 108946                                                                                                                                                                                                                                                                                                                              & 순서                                                                                                                                                                                                                                                                                                                                & 001                                                                                                                                                                                                                                                                                                                                \\\\\n",
       "\t 3                                                                                                                                                                                                                                                                                                                                   & 3                                                                                                                                                                                                                                                                                                                                   & 3                                                                                                                                                                                                                                                                                                                                   & ㄱㄴㄷ차례001                                                                                                                                                                                                                                                                                                                       & ㄱㄴㄷ-차례                                                                                                                                                                                                                                                                                                                         & 1                                                                                                                                                                                                                                                                                                                                   & 한글의 ‘ㄱ, ㄴ, ㄷ……’ 차례로 매기는 순서.                                                                                                                                                                                                                                                                                       & 명사                                                                                                                                                                                                                                                                                                                                & 상                                                                                                                                                                                                                                                                                                                                  & 136783                                                                                                                                                                                                                                                                                                                              & ㄱㄴㄷ-차례                                                                                                                                                                                                                                                                                                                         & 001                                                                                                                                                                                                                                                                                                                                 & 상                                                                                                                                                                                                                                                                                                                                  & 비슷한말                                                                                                                                                                                                                                                                                                                            &      4                                                                                                                                                                                                                                                                                                                              & ㄱㄴ-순                                                                                                                                                                                                                                                                                                                             & 001                                                                                                                                                                                                                                                                                                                                \\\\\n",
       "\t 4                                                                                                                                                                                                                                                                                                                                   & 3                                                                                                                                                                                                                                                                                                                                   & 3                                                                                                                                                                                                                                                                                                                                   & ㄱㄴㄷ차례001                                                                                                                                                                                                                                                                                                                       & ㄱㄴㄷ-차례                                                                                                                                                                                                                                                                                                                         & 1                                                                                                                                                                                                                                                                                                                                   & 한글의 ‘ㄱ, ㄴ, ㄷ……’ 차례로 매기는 순서.                                                                                                                                                                                                                                                                                       & 명사                                                                                                                                                                                                                                                                                                                                & 상                                                                                                                                                                                                                                                                                                                                  & 174004                                                                                                                                                                                                                                                                                                                              & ㄱㄴㄷ-차례                                                                                                                                                                                                                                                                                                                         & 001                                                                                                                                                                                                                                                                                                                                 & 상                                                                                                                                                                                                                                                                                                                                  & 비슷한말                                                                                                                                                                                                                                                                                                                            &    266                                                                                                                                                                                                                                                                                                                              & 가나다-차례                                                                                                                                                                                                                                                                                                                         & 001                                                                                                                                                                                                                                                                                                                                \\\\\n",
       "\t 5                                                                                                                                                                                                                                                                                                                                   & 3                                                                                                                                                                                                                                                                                                                                   & 3                                                                                                                                                                                                                                                                                                                                   & ㄱㄴㄷ차례001                                                                                                                                                                                                                                                                                                                       & ㄱㄴㄷ-차례                                                                                                                                                                                                                                                                                                                         & 1                                                                                                                                                                                                                                                                                                                                   & 한글의 ‘ㄱ, ㄴ, ㄷ……’ 차례로 매기는 순서.                                                                                                                                                                                                                                                                                       & 명사                                                                                                                                                                                                                                                                                                                                & 상                                                                                                                                                                                                                                                                                                                                  & 187743                                                                                                                                                                                                                                                                                                                              & ㄱㄴㄷ-차례                                                                                                                                                                                                                                                                                                                         & 001                                                                                                                                                                                                                                                                                                                                 & 상                                                                                                                                                                                                                                                                                                                                  & 상위어                                                                                                                                                                                                                                                                                                                              & 108946                                                                                                                                                                                                                                                                                                                              & 순서                                                                                                                                                                                                                                                                                                                                & 001                                                                                                                                                                                                                                                                                                                                \\\\\n",
       "\t 6                                                                                                                                                                                                                                                                                                                                   & 4                                                                                                                                                                                                                                                                                                                                   & 4                                                                                                                                                                                                                                                                                                                                   & ㄱㄴ순001                                                                                                                                                                                                                                                                                                                           & ㄱㄴ-순                                                                                                                                                                                                                                                                                                                             & 1                                                                                                                                                                                                                                                                                                                                   & 한글의 ‘ㄱ, ㄴ, ㄷ……’ 차례로 매기는 순서.                                                                                                                                                                                                                                                                                       & 명사                                                                                                                                                                                                                                                                                                                                & 상                                                                                                                                                                                                                                                                                                                                  & 136781                                                                                                                                                                                                                                                                                                                              & ㄱㄴ-순                                                                                                                                                                                                                                                                                                                             & 001                                                                                                                                                                                                                                                                                                                                 & 상                                                                                                                                                                                                                                                                                                                                  & 비슷한말                                                                                                                                                                                                                                                                                                                            &  28848                                                                                                                                                                                                                                                                                                                              & 기역니은-순                                                                                                                                                                                                                                                                                                                         & 001                                                                                                                                                                                                                                                                                                                                \\\\\n",
       "\\end{tabular}\n"
      ],
      "text/markdown": [
       "\n",
       "| X1 | word_id | 의미어 | 표제어.x | 의미번호.x | 뜻풀이 | 품사 | 난이도 | pair_id | 표제어.y | 의미번호.y | 표제어 난이도 | relation2 | 관련어 word_id | 관련어 | 의미번호_1 | 관련어 난이도 |\n",
       "|---|---|---|---|---|---|---|---|---|---|---|---|---|---|---|---|---|\n",
       "| 1                                                                                                                                                                                                                                                                                                                                   | 1                                                                                                                                                                                                                                                                                                                                   | 1                                                                                                                                                                                                                                                                                                                                   | ㄱ001                                                                                                                                                                                                                                                                                                                               | ㄱ                                                                                                                                                                                                                                                                                                                                  | 1                                                                                                                                                                                                                                                                                                                                   | 한글 자모의 첫째 글자. 기역이라 이르며, ‘가’에서와 같이 초성으로, ‘역’에서와 같이 종성으로 쓰인다. 목젖으로 콧길을 막고 혀뿌리를 높여 연구개를 막았다가 뗄 때 나는 무성음이다. 초성일 때는 무성이나 모음 사이에서는 유성음이 되며, 종성일 때는 혀뿌리를 떼지 않고 발음한다. 혀뿌리가 목구멍을 막는 모양을 본떠서 만든 글자이다. | 명사                                                                                                                                                                                                                                                                                                                                | 상                                                                                                                                                                                                                                                                                                                                  |  68214                                                                                                                                                                                                                                                                                                                              | ㄱ                                                                                                                                                                                                                                                                                                                                  | 001                                                                                                                                                                                                                                                                                                                                 | 상                                                                                                                                                                                                                                                                                                                                  | 상위어                                                                                                                                                                                                                                                                                                                              | 154772                                                                                                                                                                                                                                                                                                                              | 자음-자                                                                                                                                                                                                                                                                                                                             | 001                                                                                                                                                                                                                                                                                                                                 |\n",
       "| 2                                                                                                                                                                                                                                                                                                                                   | 2                                                                                                                                                                                                                                                                                                                                   | 2                                                                                                                                                                                                                                                                                                                                   | ㄱㄴㄷ순001                                                                                                                                                                                                                                                                                                                         | ㄱㄴㄷ-순                                                                                                                                                                                                                                                                                                                           | 1                                                                                                                                                                                                                                                                                                                                   | 한글의 ‘ㄱ, ㄴ, ㄷ……’ 차례로 매기는 순서.                                                                                                                                                                                                                                                                                       | 명사                                                                                                                                                                                                                                                                                                                                | 상                                                                                                                                                                                                                                                                                                                                  | 187742                                                                                                                                                                                                                                                                                                                              | ㄱㄴㄷ-순                                                                                                                                                                                                                                                                                                                           | 001                                                                                                                                                                                                                                                                                                                                 | 상                                                                                                                                                                                                                                                                                                                                  | 상위어                                                                                                                                                                                                                                                                                                                              | 108946                                                                                                                                                                                                                                                                                                                              | 순서                                                                                                                                                                                                                                                                                                                                | 001                                                                                                                                                                                                                                                                                                                                 |\n",
       "| 3                                                                                                                                                                                                                                                                                                                                   | 3                                                                                                                                                                                                                                                                                                                                   | 3                                                                                                                                                                                                                                                                                                                                   | ㄱㄴㄷ차례001                                                                                                                                                                                                                                                                                                                       | ㄱㄴㄷ-차례                                                                                                                                                                                                                                                                                                                         | 1                                                                                                                                                                                                                                                                                                                                   | 한글의 ‘ㄱ, ㄴ, ㄷ……’ 차례로 매기는 순서.                                                                                                                                                                                                                                                                                       | 명사                                                                                                                                                                                                                                                                                                                                | 상                                                                                                                                                                                                                                                                                                                                  | 136783                                                                                                                                                                                                                                                                                                                              | ㄱㄴㄷ-차례                                                                                                                                                                                                                                                                                                                         | 001                                                                                                                                                                                                                                                                                                                                 | 상                                                                                                                                                                                                                                                                                                                                  | 비슷한말                                                                                                                                                                                                                                                                                                                            |      4                                                                                                                                                                                                                                                                                                                              | ㄱㄴ-순                                                                                                                                                                                                                                                                                                                             | 001                                                                                                                                                                                                                                                                                                                                 |\n",
       "| 4                                                                                                                                                                                                                                                                                                                                   | 3                                                                                                                                                                                                                                                                                                                                   | 3                                                                                                                                                                                                                                                                                                                                   | ㄱㄴㄷ차례001                                                                                                                                                                                                                                                                                                                       | ㄱㄴㄷ-차례                                                                                                                                                                                                                                                                                                                         | 1                                                                                                                                                                                                                                                                                                                                   | 한글의 ‘ㄱ, ㄴ, ㄷ……’ 차례로 매기는 순서.                                                                                                                                                                                                                                                                                       | 명사                                                                                                                                                                                                                                                                                                                                | 상                                                                                                                                                                                                                                                                                                                                  | 174004                                                                                                                                                                                                                                                                                                                              | ㄱㄴㄷ-차례                                                                                                                                                                                                                                                                                                                         | 001                                                                                                                                                                                                                                                                                                                                 | 상                                                                                                                                                                                                                                                                                                                                  | 비슷한말                                                                                                                                                                                                                                                                                                                            |    266                                                                                                                                                                                                                                                                                                                              | 가나다-차례                                                                                                                                                                                                                                                                                                                         | 001                                                                                                                                                                                                                                                                                                                                 |\n",
       "| 5                                                                                                                                                                                                                                                                                                                                   | 3                                                                                                                                                                                                                                                                                                                                   | 3                                                                                                                                                                                                                                                                                                                                   | ㄱㄴㄷ차례001                                                                                                                                                                                                                                                                                                                       | ㄱㄴㄷ-차례                                                                                                                                                                                                                                                                                                                         | 1                                                                                                                                                                                                                                                                                                                                   | 한글의 ‘ㄱ, ㄴ, ㄷ……’ 차례로 매기는 순서.                                                                                                                                                                                                                                                                                       | 명사                                                                                                                                                                                                                                                                                                                                | 상                                                                                                                                                                                                                                                                                                                                  | 187743                                                                                                                                                                                                                                                                                                                              | ㄱㄴㄷ-차례                                                                                                                                                                                                                                                                                                                         | 001                                                                                                                                                                                                                                                                                                                                 | 상                                                                                                                                                                                                                                                                                                                                  | 상위어                                                                                                                                                                                                                                                                                                                              | 108946                                                                                                                                                                                                                                                                                                                              | 순서                                                                                                                                                                                                                                                                                                                                | 001                                                                                                                                                                                                                                                                                                                                 |\n",
       "| 6                                                                                                                                                                                                                                                                                                                                   | 4                                                                                                                                                                                                                                                                                                                                   | 4                                                                                                                                                                                                                                                                                                                                   | ㄱㄴ순001                                                                                                                                                                                                                                                                                                                           | ㄱㄴ-순                                                                                                                                                                                                                                                                                                                             | 1                                                                                                                                                                                                                                                                                                                                   | 한글의 ‘ㄱ, ㄴ, ㄷ……’ 차례로 매기는 순서.                                                                                                                                                                                                                                                                                       | 명사                                                                                                                                                                                                                                                                                                                                | 상                                                                                                                                                                                                                                                                                                                                  | 136781                                                                                                                                                                                                                                                                                                                              | ㄱㄴ-순                                                                                                                                                                                                                                                                                                                             | 001                                                                                                                                                                                                                                                                                                                                 | 상                                                                                                                                                                                                                                                                                                                                  | 비슷한말                                                                                                                                                                                                                                                                                                                            |  28848                                                                                                                                                                                                                                                                                                                              | 기역니은-순                                                                                                                                                                                                                                                                                                                         | 001                                                                                                                                                                                                                                                                                                                                 |\n",
       "\n"
      ],
      "text/plain": [
       "  X1 word_id 의미어 표제어.x      의미번호.x  뜻풀이\n",
       "1 1  1       1      ㄱ001         ㄱ          1     \n",
       "2 2  2       2      ㄱㄴㄷ순001   ㄱㄴㄷ-순   1     \n",
       "3 3  3       3      ㄱㄴㄷ차례001 ㄱㄴㄷ-차례 1     \n",
       "4 4  3       3      ㄱㄴㄷ차례001 ㄱㄴㄷ-차례 1     \n",
       "5 5  3       3      ㄱㄴㄷ차례001 ㄱㄴㄷ-차례 1     \n",
       "6 6  4       4      ㄱㄴ순001     ㄱㄴ-순     1     \n",
       "  품사                                                                                                                                                                                                                                                                                                                               \n",
       "1 한글 자모의 첫째 글자. 기역이라 이르며, ‘가’에서와 같이 초성으로, ‘역’에서와 같이 종성으로 쓰인다. 목젖으로 콧길을 막고 혀뿌리를 높여 연구개를 막았다가 뗄 때 나는 무성음이다. 초성일 때는 무성이나 모음 사이에서는 유성음이 되며, 종성일 때는 혀뿌리를 떼지 않고 발음한다. 혀뿌리가 목구멍을 막는 모양을 본떠서 만든 글자이다.\n",
       "2 한글의 ‘ㄱ, ㄴ, ㄷ……’ 차례로 매기는 순서.                                                                                                                                                                                                                                                                                      \n",
       "3 한글의 ‘ㄱ, ㄴ, ㄷ……’ 차례로 매기는 순서.                                                                                                                                                                                                                                                                                      \n",
       "4 한글의 ‘ㄱ, ㄴ, ㄷ……’ 차례로 매기는 순서.                                                                                                                                                                                                                                                                                      \n",
       "5 한글의 ‘ㄱ, ㄴ, ㄷ……’ 차례로 매기는 순서.                                                                                                                                                                                                                                                                                      \n",
       "6 한글의 ‘ㄱ, ㄴ, ㄷ……’ 차례로 매기는 순서.                                                                                                                                                                                                                                                                                      \n",
       "  난이도 pair_id 표제어.y 의미번호.y  표제어 난이도 relation2 관련어 word_id\n",
       "1 명사   상       68214   ㄱ          001           상        상위어        \n",
       "2 명사   상      187742   ㄱㄴㄷ-순   001           상        상위어        \n",
       "3 명사   상      136783   ㄱㄴㄷ-차례 001           상        비슷한말      \n",
       "4 명사   상      174004   ㄱㄴㄷ-차례 001           상        비슷한말      \n",
       "5 명사   상      187743   ㄱㄴㄷ-차례 001           상        상위어        \n",
       "6 명사   상      136781   ㄱㄴ-순     001           상        비슷한말      \n",
       "  관련어 의미번호_1  관련어 난이도\n",
       "1 154772 자음-자     001          \n",
       "2 108946 순서        001          \n",
       "3      4 ㄱㄴ-순     001          \n",
       "4    266 가나다-차례 001          \n",
       "5 108946 순서        001          \n",
       "6  28848 기역니은-순 001          "
      ]
     },
     "metadata": {},
     "output_type": "display_data"
    }
   ],
   "source": [
    "checkData <- read_csv(\"../joinData.csv\", locale = locale())\n",
    "head(checkData)"
   ]
  },
  {
   "cell_type": "code",
   "execution_count": 14,
   "metadata": {},
   "outputs": [],
   "source": [
    "library('tidytext')"
   ]
  },
  {
   "cell_type": "code",
   "execution_count": 22,
   "metadata": {},
   "outputs": [
    {
     "data": {
      "text/html": [
       "<strong>$`한글 자모의 첫째 글자. 기역이라 이르며, ‘가’에서와 같이 초성으로, ‘역’에서와 같이 종성으로 쓰인다. 목젖으로 콧길을 막고 혀뿌리를 높여 연구개를 막았다가 뗄 때 나는 무성음이다. 초성일 때는 무성이나 모음 사이에서는 유성음이 되며, 종성일 때는 혀뿌리를 떼지 않고 발음한다. 혀뿌리가 목구멍을 막는 모양을 본떠서 만든 글자이다.`</strong> = 'NA/SL'"
      ],
      "text/latex": [
       "\\textbf{\\$`한글 자모의 첫째 글자. 기역이라 이르며, ‘가’에서와 같이 초성으로, ‘역’에서와 같이 종성으로 쓰인다. 목젖으로 콧길을 막고 혀뿌리를 높여 연구개를 막았다가 뗄 때 나는 무성음이다. 초성일 때는 무성이나 모음 사이에서는 유성음이 되며, 종성일 때는 혀뿌리를 떼지 않고 발음한다. 혀뿌리가 목구멍을 막는 모양을 본떠서 만든 글자이다.`} = 'NA/SL'"
      ],
      "text/markdown": [
       "**$`한글 자모의 첫째 글자. 기역이라 이르며, ‘가’에서와 같이 초성으로, ‘역’에서와 같이 종성으로 쓰인다. 목젖으로 콧길을 막고 혀뿌리를 높여 연구개를 막았다가 뗄 때 나는 무성음이다. 초성일 때는 무성이나 모음 사이에서는 유성음이 되며, 종성일 때는 혀뿌리를 떼지 않고 발음한다. 혀뿌리가 목구멍을 막는 모양을 본떠서 만든 글자이다.`** = 'NA/SL'"
      ],
      "text/plain": [
       "$...\n",
       "[1] \"NA/SL\"\n"
      ]
     },
     "metadata": {},
     "output_type": "display_data"
    }
   ],
   "source": [
    "pos(as.character(joinData[1,6]))"
   ]
  },
  {
   "cell_type": "code",
   "execution_count": 18,
   "metadata": {},
   "outputs": [
    {
     "data": {
      "text/html": [
       "NA"
      ],
      "text/latex": [
       "NA"
      ],
      "text/markdown": [
       "NA"
      ],
      "text/plain": [
       "[1] NA"
      ]
     },
     "metadata": {},
     "output_type": "display_data"
    }
   ],
   "source": [
    "test <- iconv(as.character(joinData[1,6]), to = \"UTF-8\")\n",
    "test"
   ]
  },
  {
   "cell_type": "code",
   "execution_count": 23,
   "metadata": {},
   "outputs": [],
   "source": [
    "library('RcppMeCab')\n",
    "library('RmecabKo')"
   ]
  },
  {
   "cell_type": "code",
   "execution_count": 24,
   "metadata": {},
   "outputs": [
    {
     "data": {
      "text/html": [
       "<strong>$`한글 자모의 첫째 글자. 기역이라 이르며, ‘가’에서와 같이 초성으로, ‘역’에서와 같이 종성으로 쓰인다. 목젖으로 콧길을 막고 혀뿌리를 높여 연구개를 막았다가 뗄 때 나는 무성음이다. 초성일 때는 무성이나 모음 사이에서는 유성음이 되며, 종성일 때는 혀뿌리를 떼지 않고 발음한다. 혀뿌리가 목구멍을 막는 모양을 본떠서 만든 글자이다.`</strong> = 'NA/SL'"
      ],
      "text/latex": [
       "\\textbf{\\$`한글 자모의 첫째 글자. 기역이라 이르며, ‘가’에서와 같이 초성으로, ‘역’에서와 같이 종성으로 쓰인다. 목젖으로 콧길을 막고 혀뿌리를 높여 연구개를 막았다가 뗄 때 나는 무성음이다. 초성일 때는 무성이나 모음 사이에서는 유성음이 되며, 종성일 때는 혀뿌리를 떼지 않고 발음한다. 혀뿌리가 목구멍을 막는 모양을 본떠서 만든 글자이다.`} = 'NA/SL'"
      ],
      "text/markdown": [
       "**$`한글 자모의 첫째 글자. 기역이라 이르며, ‘가’에서와 같이 초성으로, ‘역’에서와 같이 종성으로 쓰인다. 목젖으로 콧길을 막고 혀뿌리를 높여 연구개를 막았다가 뗄 때 나는 무성음이다. 초성일 때는 무성이나 모음 사이에서는 유성음이 되며, 종성일 때는 혀뿌리를 떼지 않고 발음한다. 혀뿌리가 목구멍을 막는 모양을 본떠서 만든 글자이다.`** = 'NA/SL'"
      ],
      "text/plain": [
       "$...\n",
       "[1] \"NA/SL\"\n"
      ]
     },
     "metadata": {},
     "output_type": "display_data"
    }
   ],
   "source": [
    "pos(as.character(joinData[1,6]))"
   ]
  },
  {
   "cell_type": "code",
   "execution_count": 25,
   "metadata": {},
   "outputs": [
    {
     "name": "stderr",
     "output_type": "stream",
     "text": [
      "------------------------------------------------------------------------------\n",
      "You have loaded plyr after dplyr - this is likely to cause problems.\n",
      "If you need functions from both plyr and dplyr, please load plyr first, then dplyr:\n",
      "library(plyr); library(dplyr)\n",
      "------------------------------------------------------------------------------\n",
      "\n",
      "Attaching package: 'plyr'\n",
      "\n",
      "The following object is masked from 'package:purrr':\n",
      "\n",
      "    compact\n",
      "\n",
      "The following objects are masked from 'package:dplyr':\n",
      "\n",
      "    arrange, count, desc, failwith, id, mutate, rename, summarise,\n",
      "    summarize\n",
      "\n"
     ]
    }
   ],
   "source": [
    "library('plyr')"
   ]
  },
  {
   "cell_type": "code",
   "execution_count": 40,
   "metadata": {},
   "outputs": [
    {
     "data": {
      "text/html": [
       "<strong>$`한글 자모의 첫째 글자. 기역이라 이르며, ‘가’에서와 같이 초성으로, ‘역’에서와 같이 종성으로 쓰인다. 목젖으로 콧길을 막고 혀뿌리를 높여 연구개를 막았다가 뗄 때 나는 무성음이다. 초성일 때는 무성이나 모음 사이에서는 유성음이 되며, 종성일 때는 혀뿌리를 떼지 않고 발음한다. 혀뿌리가 목구멍을 막는 모양을 본떠서 만든 글자이다.`</strong> = <ol class=list-inline>\n",
       "\t<li>'한글/NNG'</li>\n",
       "\t<li>'자모/NNG'</li>\n",
       "\t<li>'의/JKG'</li>\n",
       "\t<li>'첫째/NR'</li>\n",
       "\t<li>'글자/NNG'</li>\n",
       "\t<li>'./SY'</li>\n",
       "\t<li>'기역/NNG'</li>\n",
       "\t<li>'이/VCP'</li>\n",
       "\t<li>'라/EC'</li>\n",
       "\t<li>'이르/VV'</li>\n",
       "\t<li>'며/EC'</li>\n",
       "\t<li>'‘/SY'</li>\n",
       "\t<li>'가/JKS'</li>\n",
       "\t<li>'’/SY'</li>\n",
       "\t<li>'에서/JKB'</li>\n",
       "\t<li>'와/JKB'</li>\n",
       "\t<li>'같이/MAG'</li>\n",
       "\t<li>'초성/NNG'</li>\n",
       "\t<li>'으로/JKB'</li>\n",
       "\t<li>'‘/SY'</li>\n",
       "\t<li>'역/NNG'</li>\n",
       "\t<li>'’/SY'</li>\n",
       "\t<li>'에서/JKB'</li>\n",
       "\t<li>'와/JKB'</li>\n",
       "\t<li>'같이/MAG'</li>\n",
       "\t<li>'종성/NNG'</li>\n",
       "\t<li>'으로/JKB'</li>\n",
       "\t<li>'쓰인다/VV+EF'</li>\n",
       "\t<li>'./SF'</li>\n",
       "\t<li>'목젖/NNG'</li>\n",
       "\t<li>'으로/JKB'</li>\n",
       "\t<li>'콧길/NNG'</li>\n",
       "\t<li>'을/JKO'</li>\n",
       "\t<li>'막/VV'</li>\n",
       "\t<li>'고/EC'</li>\n",
       "\t<li>'혀뿌리/NNG'</li>\n",
       "\t<li>'를/JKO'</li>\n",
       "\t<li>'높여/VV+EC'</li>\n",
       "\t<li>'연구개/NNG'</li>\n",
       "\t<li>'를/JKO'</li>\n",
       "\t<li>'막/VV'</li>\n",
       "\t<li>'았/EP'</li>\n",
       "\t<li>'다가/EC'</li>\n",
       "\t<li>'뗄/VV+ETM'</li>\n",
       "\t<li>'때/NNG'</li>\n",
       "\t<li>'나/NP'</li>\n",
       "\t<li>'는/JX'</li>\n",
       "\t<li>'무성음/NNG'</li>\n",
       "\t<li>'이/VCP'</li>\n",
       "\t<li>'다/EF'</li>\n",
       "\t<li>'./SF'</li>\n",
       "\t<li>'초성/NNG'</li>\n",
       "\t<li>'일/VCP+ETM'</li>\n",
       "\t<li>'때/NNG'</li>\n",
       "\t<li>'는/JX'</li>\n",
       "\t<li>'무성/NNG'</li>\n",
       "\t<li>'이나/JC'</li>\n",
       "\t<li>'모음/NNG'</li>\n",
       "\t<li>'사이/NNG'</li>\n",
       "\t<li>'에서/JKB'</li>\n",
       "\t<li>'는/JX'</li>\n",
       "\t<li>'유성음/NNG'</li>\n",
       "\t<li>'이/JKS'</li>\n",
       "\t<li>'되/VV'</li>\n",
       "\t<li>'며/EC'</li>\n",
       "\t<li>'종성/NNG'</li>\n",
       "\t<li>'일/VCP+ETM'</li>\n",
       "\t<li>'때/NNG'</li>\n",
       "\t<li>'는/JX'</li>\n",
       "\t<li>'혀뿌리/NNG'</li>\n",
       "\t<li>'를/JKO'</li>\n",
       "\t<li>'떼/VV'</li>\n",
       "\t<li>'지/EC'</li>\n",
       "\t<li>'않/VX'</li>\n",
       "\t<li>'고/EC'</li>\n",
       "\t<li>'발음/NNG'</li>\n",
       "\t<li>'한다/XSV+EF'</li>\n",
       "\t<li>'./SF'</li>\n",
       "\t<li>'혀뿌리/NNG'</li>\n",
       "\t<li>'가/JKS'</li>\n",
       "\t<li>'목구멍/NNG'</li>\n",
       "\t<li>'을/JKO'</li>\n",
       "\t<li>'막/VV'</li>\n",
       "\t<li>'는/ETM'</li>\n",
       "\t<li>'모양/NNG'</li>\n",
       "\t<li>'을/JKO'</li>\n",
       "\t<li>'본떠서/VV+EC'</li>\n",
       "\t<li>'만든/VV+ETM'</li>\n",
       "\t<li>'글자/NNG'</li>\n",
       "\t<li>'이/VCP'</li>\n",
       "\t<li>'다/EF'</li>\n",
       "\t<li>'./SF'</li>\n",
       "</ol>\n"
      ],
      "text/latex": [
       "\\textbf{\\$`한글 자모의 첫째 글자. 기역이라 이르며, ‘가’에서와 같이 초성으로, ‘역’에서와 같이 종성으로 쓰인다. 목젖으로 콧길을 막고 혀뿌리를 높여 연구개를 막았다가 뗄 때 나는 무성음이다. 초성일 때는 무성이나 모음 사이에서는 유성음이 되며, 종성일 때는 혀뿌리를 떼지 않고 발음한다. 혀뿌리가 목구멍을 막는 모양을 본떠서 만든 글자이다.`} = \\begin{enumerate*}\n",
       "\\item '한글/NNG'\n",
       "\\item '자모/NNG'\n",
       "\\item '의/JKG'\n",
       "\\item '첫째/NR'\n",
       "\\item '글자/NNG'\n",
       "\\item './SY'\n",
       "\\item '기역/NNG'\n",
       "\\item '이/VCP'\n",
       "\\item '라/EC'\n",
       "\\item '이르/VV'\n",
       "\\item '며/EC'\n",
       "\\item '‘/SY'\n",
       "\\item '가/JKS'\n",
       "\\item '’/SY'\n",
       "\\item '에서/JKB'\n",
       "\\item '와/JKB'\n",
       "\\item '같이/MAG'\n",
       "\\item '초성/NNG'\n",
       "\\item '으로/JKB'\n",
       "\\item '‘/SY'\n",
       "\\item '역/NNG'\n",
       "\\item '’/SY'\n",
       "\\item '에서/JKB'\n",
       "\\item '와/JKB'\n",
       "\\item '같이/MAG'\n",
       "\\item '종성/NNG'\n",
       "\\item '으로/JKB'\n",
       "\\item '쓰인다/VV+EF'\n",
       "\\item './SF'\n",
       "\\item '목젖/NNG'\n",
       "\\item '으로/JKB'\n",
       "\\item '콧길/NNG'\n",
       "\\item '을/JKO'\n",
       "\\item '막/VV'\n",
       "\\item '고/EC'\n",
       "\\item '혀뿌리/NNG'\n",
       "\\item '를/JKO'\n",
       "\\item '높여/VV+EC'\n",
       "\\item '연구개/NNG'\n",
       "\\item '를/JKO'\n",
       "\\item '막/VV'\n",
       "\\item '았/EP'\n",
       "\\item '다가/EC'\n",
       "\\item '뗄/VV+ETM'\n",
       "\\item '때/NNG'\n",
       "\\item '나/NP'\n",
       "\\item '는/JX'\n",
       "\\item '무성음/NNG'\n",
       "\\item '이/VCP'\n",
       "\\item '다/EF'\n",
       "\\item './SF'\n",
       "\\item '초성/NNG'\n",
       "\\item '일/VCP+ETM'\n",
       "\\item '때/NNG'\n",
       "\\item '는/JX'\n",
       "\\item '무성/NNG'\n",
       "\\item '이나/JC'\n",
       "\\item '모음/NNG'\n",
       "\\item '사이/NNG'\n",
       "\\item '에서/JKB'\n",
       "\\item '는/JX'\n",
       "\\item '유성음/NNG'\n",
       "\\item '이/JKS'\n",
       "\\item '되/VV'\n",
       "\\item '며/EC'\n",
       "\\item '종성/NNG'\n",
       "\\item '일/VCP+ETM'\n",
       "\\item '때/NNG'\n",
       "\\item '는/JX'\n",
       "\\item '혀뿌리/NNG'\n",
       "\\item '를/JKO'\n",
       "\\item '떼/VV'\n",
       "\\item '지/EC'\n",
       "\\item '않/VX'\n",
       "\\item '고/EC'\n",
       "\\item '발음/NNG'\n",
       "\\item '한다/XSV+EF'\n",
       "\\item './SF'\n",
       "\\item '혀뿌리/NNG'\n",
       "\\item '가/JKS'\n",
       "\\item '목구멍/NNG'\n",
       "\\item '을/JKO'\n",
       "\\item '막/VV'\n",
       "\\item '는/ETM'\n",
       "\\item '모양/NNG'\n",
       "\\item '을/JKO'\n",
       "\\item '본떠서/VV+EC'\n",
       "\\item '만든/VV+ETM'\n",
       "\\item '글자/NNG'\n",
       "\\item '이/VCP'\n",
       "\\item '다/EF'\n",
       "\\item './SF'\n",
       "\\end{enumerate*}\n"
      ],
      "text/markdown": [
       "**$`한글 자모의 첫째 글자. 기역이라 이르며, ‘가’에서와 같이 초성으로, ‘역’에서와 같이 종성으로 쓰인다. 목젖으로 콧길을 막고 혀뿌리를 높여 연구개를 막았다가 뗄 때 나는 무성음이다. 초성일 때는 무성이나 모음 사이에서는 유성음이 되며, 종성일 때는 혀뿌리를 떼지 않고 발음한다. 혀뿌리가 목구멍을 막는 모양을 본떠서 만든 글자이다.`** = 1. '한글/NNG'\n",
       "2. '자모/NNG'\n",
       "3. '의/JKG'\n",
       "4. '첫째/NR'\n",
       "5. '글자/NNG'\n",
       "6. './SY'\n",
       "7. '기역/NNG'\n",
       "8. '이/VCP'\n",
       "9. '라/EC'\n",
       "10. '이르/VV'\n",
       "11. '며/EC'\n",
       "12. '‘/SY'\n",
       "13. '가/JKS'\n",
       "14. '’/SY'\n",
       "15. '에서/JKB'\n",
       "16. '와/JKB'\n",
       "17. '같이/MAG'\n",
       "18. '초성/NNG'\n",
       "19. '으로/JKB'\n",
       "20. '‘/SY'\n",
       "21. '역/NNG'\n",
       "22. '’/SY'\n",
       "23. '에서/JKB'\n",
       "24. '와/JKB'\n",
       "25. '같이/MAG'\n",
       "26. '종성/NNG'\n",
       "27. '으로/JKB'\n",
       "28. '쓰인다/VV+EF'\n",
       "29. './SF'\n",
       "30. '목젖/NNG'\n",
       "31. '으로/JKB'\n",
       "32. '콧길/NNG'\n",
       "33. '을/JKO'\n",
       "34. '막/VV'\n",
       "35. '고/EC'\n",
       "36. '혀뿌리/NNG'\n",
       "37. '를/JKO'\n",
       "38. '높여/VV+EC'\n",
       "39. '연구개/NNG'\n",
       "40. '를/JKO'\n",
       "41. '막/VV'\n",
       "42. '았/EP'\n",
       "43. '다가/EC'\n",
       "44. '뗄/VV+ETM'\n",
       "45. '때/NNG'\n",
       "46. '나/NP'\n",
       "47. '는/JX'\n",
       "48. '무성음/NNG'\n",
       "49. '이/VCP'\n",
       "50. '다/EF'\n",
       "51. './SF'\n",
       "52. '초성/NNG'\n",
       "53. '일/VCP+ETM'\n",
       "54. '때/NNG'\n",
       "55. '는/JX'\n",
       "56. '무성/NNG'\n",
       "57. '이나/JC'\n",
       "58. '모음/NNG'\n",
       "59. '사이/NNG'\n",
       "60. '에서/JKB'\n",
       "61. '는/JX'\n",
       "62. '유성음/NNG'\n",
       "63. '이/JKS'\n",
       "64. '되/VV'\n",
       "65. '며/EC'\n",
       "66. '종성/NNG'\n",
       "67. '일/VCP+ETM'\n",
       "68. '때/NNG'\n",
       "69. '는/JX'\n",
       "70. '혀뿌리/NNG'\n",
       "71. '를/JKO'\n",
       "72. '떼/VV'\n",
       "73. '지/EC'\n",
       "74. '않/VX'\n",
       "75. '고/EC'\n",
       "76. '발음/NNG'\n",
       "77. '한다/XSV+EF'\n",
       "78. './SF'\n",
       "79. '혀뿌리/NNG'\n",
       "80. '가/JKS'\n",
       "81. '목구멍/NNG'\n",
       "82. '을/JKO'\n",
       "83. '막/VV'\n",
       "84. '는/ETM'\n",
       "85. '모양/NNG'\n",
       "86. '을/JKO'\n",
       "87. '본떠서/VV+EC'\n",
       "88. '만든/VV+ETM'\n",
       "89. '글자/NNG'\n",
       "90. '이/VCP'\n",
       "91. '다/EF'\n",
       "92. './SF'\n",
       "\n",
       "\n"
      ],
      "text/plain": [
       "$...\n",
       " [1] \"한글/NNG\"     \"자모/NNG\"     \"의/JKG\"       \"첫째/NR\"      \"글자/NNG\"    \n",
       " [6] \"./SY\"         \"기역/NNG\"     \"이/VCP\"       \"라/EC\"        \"이르/VV\"     \n",
       "[11] \"며/EC\"        \"‘/SY\"        \"가/JKS\"       \"’/SY\"        \"에서/JKB\"    \n",
       "[16] \"와/JKB\"       \"같이/MAG\"     \"초성/NNG\"     \"으로/JKB\"     \"‘/SY\"       \n",
       "[21] \"역/NNG\"       \"’/SY\"        \"에서/JKB\"     \"와/JKB\"       \"같이/MAG\"    \n",
       "[26] \"종성/NNG\"     \"으로/JKB\"     \"쓰인다/VV+EF\" \"./SF\"         \"목젖/NNG\"    \n",
       "[31] \"으로/JKB\"     \"콧길/NNG\"     \"을/JKO\"       \"막/VV\"        \"고/EC\"       \n",
       "[36] \"혀뿌리/NNG\"   \"를/JKO\"       \"높여/VV+EC\"   \"연구개/NNG\"   \"를/JKO\"      \n",
       "[41] \"막/VV\"        \"았/EP\"        \"다가/EC\"      \"뗄/VV+ETM\"    \"때/NNG\"      \n",
       "[46] \"나/NP\"        \"는/JX\"        \"무성음/NNG\"   \"이/VCP\"       \"다/EF\"       \n",
       "[51] \"./SF\"         \"초성/NNG\"     \"일/VCP+ETM\"   \"때/NNG\"       \"는/JX\"       \n",
       "[56] \"무성/NNG\"     \"이나/JC\"      \"모음/NNG\"     \"사이/NNG\"     \"에서/JKB\"    \n",
       "[61] \"는/JX\"        \"유성음/NNG\"   \"이/JKS\"       \"되/VV\"        \"며/EC\"       \n",
       "[66] \"종성/NNG\"     \"일/VCP+ETM\"   \"때/NNG\"       \"는/JX\"        \"혀뿌리/NNG\"  \n",
       "[71] \"를/JKO\"       \"떼/VV\"        \"지/EC\"        \"않/VX\"        \"고/EC\"       \n",
       "[76] \"발음/NNG\"     \"한다/XSV+EF\"  \"./SF\"         \"혀뿌리/NNG\"   \"가/JKS\"      \n",
       "[81] \"목구멍/NNG\"   \"을/JKO\"       \"막/VV\"        \"는/ETM\"       \"모양/NNG\"    \n",
       "[86] \"을/JKO\"       \"본떠서/VV+EC\" \"만든/VV+ETM\"  \"글자/NNG\"     \"이/VCP\"      \n",
       "[91] \"다/EF\"        \"./SF\"        \n"
      ]
     },
     "metadata": {},
     "output_type": "display_data"
    }
   ],
   "source": [
    "pos(\"한글 자모의 첫째 글자. 기역이라 이르며, ‘가’에서와 같이 초성으로, ‘역’에서와 같이 종성으로 쓰인다. 목젖으로 콧길을 막고 혀뿌리를 높여 연구개를 막았다가 뗄 때 나는 무성음이다. 초성일 때는 무성이나 모음 사이에서는 유성음이 되며, 종성일 때는 혀뿌리를 떼지 않고 발음한다. 혀뿌리가 목구멍을 막는 모양을 본떠서 만든 글자이다.\")"
   ]
  },
  {
   "cell_type": "code",
   "execution_count": 43,
   "metadata": {},
   "outputs": [
    {
     "data": {
      "text/html": [
       "'한글의 ‘ㄱ, ㄴ, ㄷ……’ 차례로 매기는 순서.'"
      ],
      "text/latex": [
       "'한글의 ‘ㄱ, ㄴ, ㄷ……’ 차례로 매기는 순서.'"
      ],
      "text/markdown": [
       "'한글의 ‘ㄱ, ㄴ, ㄷ……’ 차례로 매기는 순서.'"
      ],
      "text/plain": [
       "[1] \"한글의 ‘ㄱ, ㄴ, ㄷ……’ 차례로 매기는 순서.\""
      ]
     },
     "metadata": {},
     "output_type": "display_data"
    }
   ],
   "source": [
    "str <- as.character(joinData[2,6])\n",
    "str"
   ]
  },
  {
   "cell_type": "code",
   "execution_count": 44,
   "metadata": {},
   "outputs": [
    {
     "data": {
      "text/html": [
       "<strong>$`한글의 ‘ㄱ, ㄴ, ㄷ……’ 차례로 매기는 순서.`</strong> = 'NA/SL'"
      ],
      "text/latex": [
       "\\textbf{\\$`한글의 ‘ㄱ, ㄴ, ㄷ……’ 차례로 매기는 순서.`} = 'NA/SL'"
      ],
      "text/markdown": [
       "**$`한글의 ‘ㄱ, ㄴ, ㄷ……’ 차례로 매기는 순서.`** = 'NA/SL'"
      ],
      "text/plain": [
       "$`한글의 ‘ㄱ, ㄴ, ㄷ……’ 차례로 매기는 순서.`\n",
       "[1] \"NA/SL\"\n"
      ]
     },
     "metadata": {},
     "output_type": "display_data"
    }
   ],
   "source": [
    "pos(str)"
   ]
  },
  {
   "cell_type": "code",
   "execution_count": 45,
   "metadata": {},
   "outputs": [
    {
     "data": {
      "text/html": [
       "<dl>\n",
       "\t<dt>$한글의</dt>\n",
       "\t\t<dd>'한글/N+의/J'</dd>\n",
       "\t<dt>$`‘ㄱ,`</dt>\n",
       "\t\t<dd>'‘^ㄱ/N+,/S'</dd>\n",
       "\t<dt>$`ㄴ,`</dt>\n",
       "\t\t<dd>'^ㄴ/N+,/S'</dd>\n",
       "\t<dt>$ㄷ.....</dt>\n",
       "\t\t<dd>'^ㄷ...../N'</dd>\n",
       "\t<dt>$.</dt>\n",
       "\t\t<dd>'./S'</dd>\n",
       "\t<dt>$`’`</dt>\n",
       "\t\t<dd>'’/N'</dd>\n",
       "\t<dt>$차례로</dt>\n",
       "\t\t<dd>'차례/N+로/J'</dd>\n",
       "\t<dt>$매기는</dt>\n",
       "\t\t<dd>'매/P+기/E+는/J'</dd>\n",
       "\t<dt>$순서</dt>\n",
       "\t\t<dd>'순서/N'</dd>\n",
       "\t<dt>$.</dt>\n",
       "\t\t<dd>'./S'</dd>\n",
       "</dl>\n"
      ],
      "text/latex": [
       "\\begin{description}\n",
       "\\item[\\$한글의] '한글/N+의/J'\n",
       "\\item[\\$`‘ㄱ,`] '‘\\textasciicircum{}ㄱ/N+,/S'\n",
       "\\item[\\$`ㄴ,`] '\\textasciicircum{}ㄴ/N+,/S'\n",
       "\\item[\\$ㄷ.....] '\\textasciicircum{}ㄷ...../N'\n",
       "\\item[\\$.] './S'\n",
       "\\item[\\$`’`] '’/N'\n",
       "\\item[\\$차례로] '차례/N+로/J'\n",
       "\\item[\\$매기는] '매/P+기/E+는/J'\n",
       "\\item[\\$순서] '순서/N'\n",
       "\\item[\\$.] './S'\n",
       "\\end{description}\n"
      ],
      "text/markdown": [
       "$한글의\n",
       ":   '한글/N+의/J'\n",
       "$`‘ㄱ,`\n",
       ":   '‘^ㄱ/N+,/S'\n",
       "$`ㄴ,`\n",
       ":   '^ㄴ/N+,/S'\n",
       "$ㄷ.....\n",
       ":   '^ㄷ...../N'\n",
       "$.\n",
       ":   './S'\n",
       "$`’`\n",
       ":   '’/N'\n",
       "$차례로\n",
       ":   '차례/N+로/J'\n",
       "$매기는\n",
       ":   '매/P+기/E+는/J'\n",
       "$순서\n",
       ":   '순서/N'\n",
       "$.\n",
       ":   './S'\n",
       "\n",
       "\n"
      ],
      "text/plain": [
       "$한글의\n",
       "[1] \"한글/N+의/J\"\n",
       "\n",
       "$`‘ㄱ,`\n",
       "[1] \"‘^ㄱ/N+,/S\"\n",
       "\n",
       "$`ㄴ,`\n",
       "[1] \"^ㄴ/N+,/S\"\n",
       "\n",
       "$ㄷ.....\n",
       "[1] \"^ㄷ...../N\"\n",
       "\n",
       "$.\n",
       "[1] \"./S\"\n",
       "\n",
       "$`’`\n",
       "[1] \"’/N\"\n",
       "\n",
       "$차례로\n",
       "[1] \"차례/N+로/J\"\n",
       "\n",
       "$매기는\n",
       "[1] \"매/P+기/E+는/J\"\n",
       "\n",
       "$순서\n",
       "[1] \"순서/N\"\n",
       "\n",
       "$.\n",
       "[1] \"./S\"\n"
      ]
     },
     "metadata": {},
     "output_type": "display_data"
    }
   ],
   "source": [
    "SimplePos09(str)"
   ]
  },
  {
   "cell_type": "code",
   "execution_count": 46,
   "metadata": {},
   "outputs": [
    {
     "data": {
      "text/html": [
       "'character'"
      ],
      "text/latex": [
       "'character'"
      ],
      "text/markdown": [
       "'character'"
      ],
      "text/plain": [
       "[1] \"character\""
      ]
     },
     "metadata": {},
     "output_type": "display_data"
    }
   ],
   "source": [
    "typeof(\"한글 자모의 첫째 글자. 기역이라 이르며, ‘가’에서와 같이 초성으로, ‘역’에서와 같이 종성으로 쓰인다. 목젖으로 콧길을 막고 혀뿌리를 높여 연구개를 막았다가 뗄 때 나는 무성음이다. 초성일 때는 무성이나 모음 사이에서는 유성음이 되며, 종성일 때는 혀뿌리를 떼지 않고 발음한다. 혀뿌리가 목구멍을 막는 모양을 본떠서 만든 글자이다.\")"
   ]
  },
  {
   "cell_type": "code",
   "execution_count": 47,
   "metadata": {},
   "outputs": [
    {
     "data": {
      "text/html": [
       "'character'"
      ],
      "text/latex": [
       "'character'"
      ],
      "text/markdown": [
       "'character'"
      ],
      "text/plain": [
       "[1] \"character\""
      ]
     },
     "metadata": {},
     "output_type": "display_data"
    }
   ],
   "source": [
    "typeof(as.character(joinData[1,6]))"
   ]
  },
  {
   "cell_type": "code",
   "execution_count": 48,
   "metadata": {},
   "outputs": [
    {
     "data": {
      "text/html": [
       "<strong>$`롯데마트가 판매하고 있는 흑마늘 양념 치킨이 논란이 되고 있다.`</strong> = <ol class=list-inline>\n",
       "\t<li>'롯데마트/NNP'</li>\n",
       "\t<li>'가/JKS'</li>\n",
       "\t<li>'판매/NNG'</li>\n",
       "\t<li>'하/XSV'</li>\n",
       "\t<li>'고/EC'</li>\n",
       "\t<li>'있/VX'</li>\n",
       "\t<li>'는/ETM'</li>\n",
       "\t<li>'흑/NNG'</li>\n",
       "\t<li>'마늘/NNG'</li>\n",
       "\t<li>'양념/NNG'</li>\n",
       "\t<li>'치킨/NNG'</li>\n",
       "\t<li>'이/JKS'</li>\n",
       "\t<li>'논란/NNG'</li>\n",
       "\t<li>'이/JKS'</li>\n",
       "\t<li>'되/VV'</li>\n",
       "\t<li>'고/EC'</li>\n",
       "\t<li>'있/VX'</li>\n",
       "\t<li>'다/EF'</li>\n",
       "\t<li>'./SF'</li>\n",
       "</ol>\n"
      ],
      "text/latex": [
       "\\textbf{\\$`롯데마트가 판매하고 있는 흑마늘 양념 치킨이 논란이 되고 있다.`} = \\begin{enumerate*}\n",
       "\\item '롯데마트/NNP'\n",
       "\\item '가/JKS'\n",
       "\\item '판매/NNG'\n",
       "\\item '하/XSV'\n",
       "\\item '고/EC'\n",
       "\\item '있/VX'\n",
       "\\item '는/ETM'\n",
       "\\item '흑/NNG'\n",
       "\\item '마늘/NNG'\n",
       "\\item '양념/NNG'\n",
       "\\item '치킨/NNG'\n",
       "\\item '이/JKS'\n",
       "\\item '논란/NNG'\n",
       "\\item '이/JKS'\n",
       "\\item '되/VV'\n",
       "\\item '고/EC'\n",
       "\\item '있/VX'\n",
       "\\item '다/EF'\n",
       "\\item './SF'\n",
       "\\end{enumerate*}\n"
      ],
      "text/markdown": [
       "**$`롯데마트가 판매하고 있는 흑마늘 양념 치킨이 논란이 되고 있다.`** = 1. '롯데마트/NNP'\n",
       "2. '가/JKS'\n",
       "3. '판매/NNG'\n",
       "4. '하/XSV'\n",
       "5. '고/EC'\n",
       "6. '있/VX'\n",
       "7. '는/ETM'\n",
       "8. '흑/NNG'\n",
       "9. '마늘/NNG'\n",
       "10. '양념/NNG'\n",
       "11. '치킨/NNG'\n",
       "12. '이/JKS'\n",
       "13. '논란/NNG'\n",
       "14. '이/JKS'\n",
       "15. '되/VV'\n",
       "16. '고/EC'\n",
       "17. '있/VX'\n",
       "18. '다/EF'\n",
       "19. './SF'\n",
       "\n",
       "\n"
      ],
      "text/plain": [
       "$`롯데마트가 판매하고 있는 흑마늘 양념 치킨이 논란이 되고 있다.`\n",
       " [1] \"롯데마트/NNP\" \"가/JKS\"       \"판매/NNG\"     \"하/XSV\"       \"고/EC\"       \n",
       " [6] \"있/VX\"        \"는/ETM\"       \"흑/NNG\"       \"마늘/NNG\"     \"양념/NNG\"    \n",
       "[11] \"치킨/NNG\"     \"이/JKS\"       \"논란/NNG\"     \"이/JKS\"       \"되/VV\"       \n",
       "[16] \"고/EC\"        \"있/VX\"        \"다/EF\"        \"./SF\"        \n"
      ]
     },
     "metadata": {},
     "output_type": "display_data"
    }
   ],
   "source": [
    "pos(\"롯데마트가 판매하고 있는 흑마늘 양념 치킨이 논란이 되고 있다.\")"
   ]
  },
  {
   "cell_type": "code",
   "execution_count": null,
   "metadata": {},
   "outputs": [],
   "source": []
  }
 ],
 "metadata": {
  "kernelspec": {
   "display_name": "R",
   "language": "R",
   "name": "ir"
  },
  "language_info": {
   "codemirror_mode": "r",
   "file_extension": ".r",
   "mimetype": "text/x-r-source",
   "name": "R",
   "pygments_lexer": "r",
   "version": "3.6.1"
  }
 },
 "nbformat": 4,
 "nbformat_minor": 2
}
